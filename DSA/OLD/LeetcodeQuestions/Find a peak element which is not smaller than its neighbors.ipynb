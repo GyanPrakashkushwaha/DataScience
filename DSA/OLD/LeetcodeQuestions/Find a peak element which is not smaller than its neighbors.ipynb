{
 "cells": [
  {
   "cell_type": "markdown",
   "metadata": {},
   "source": [
    "> ### Question\n",
    "An element is called a peak element if its value is not smaller than the value of its adjacent elements(if they exists).\n",
    "Given an array arr[] of size N, Return the index of any one of its peak elements.\n",
    "Note: The generated output will always be 1 if the index that you return is correct. Otherwise output will be 0. \n",
    "\n"
   ]
  },
  {
   "cell_type": "code",
   "execution_count": 2,
   "metadata": {},
   "outputs": [
    {
     "ename": "IndexError",
     "evalue": "list index out of range",
     "output_type": "error",
     "traceback": [
      "\u001b[1;31m---------------------------------------------------------------------------\u001b[0m",
      "\u001b[1;31mIndexError\u001b[0m                                Traceback (most recent call last)",
      "Cell \u001b[1;32mIn[2], line 17\u001b[0m\n\u001b[0;32m     14\u001b[0m             right \u001b[39m+\u001b[39m\u001b[39m=\u001b[39m\u001b[39m1\u001b[39m\n\u001b[0;32m     15\u001b[0m     \u001b[39mreturn\u001b[39;00m arr[mid]\n\u001b[1;32m---> 17\u001b[0m find_peak(arr)\n",
      "Cell \u001b[1;32mIn[2], line 10\u001b[0m, in \u001b[0;36mfind_peak\u001b[1;34m(arr)\u001b[0m\n\u001b[0;32m      8\u001b[0m i \u001b[39m=\u001b[39m \u001b[39m0\u001b[39m\n\u001b[0;32m      9\u001b[0m \u001b[39mwhile\u001b[39;00m left \u001b[39m<\u001b[39m right:\n\u001b[1;32m---> 10\u001b[0m     \u001b[39mif\u001b[39;00m arr[left] \u001b[39m<\u001b[39m arr[mid] \u001b[39m>\u001b[39m arr[right]:\n\u001b[0;32m     11\u001b[0m         \u001b[39mreturn\u001b[39;00m arr[mid]\n\u001b[0;32m     12\u001b[0m     \u001b[39melse\u001b[39;00m:\n",
      "\u001b[1;31mIndexError\u001b[0m: list index out of range"
     ]
    }
   ],
   "source": [
    "arr = [1,2,3]\n",
    "\n",
    "def find_peak(arr):\n",
    "    left = 0\n",
    "    right = len(arr) -1\n",
    "    mid = left + (right-left)//2\n",
    "\n",
    "    while left < right:\n",
    "        if :\n"
   ]
  }
 ],
 "metadata": {
  "kernelspec": {
   "display_name": "Python 3",
   "language": "python",
   "name": "python3"
  },
  "language_info": {
   "codemirror_mode": {
    "name": "ipython",
    "version": 3
   },
   "file_extension": ".py",
   "mimetype": "text/x-python",
   "name": "python",
   "nbconvert_exporter": "python",
   "pygments_lexer": "ipython3",
   "version": "3.11.3"
  },
  "orig_nbformat": 4
 },
 "nbformat": 4,
 "nbformat_minor": 2
}
