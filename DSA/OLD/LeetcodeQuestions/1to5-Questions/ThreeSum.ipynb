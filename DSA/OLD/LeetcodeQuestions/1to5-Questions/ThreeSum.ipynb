{
 "cells": [
  {
   "attachments": {},
   "cell_type": "markdown",
   "metadata": {},
   "source": [
    "# Three Sum Question"
   ]
  },
  {
   "cell_type": "code",
   "execution_count": 2,
   "metadata": {},
   "outputs": [],
   "source": [
    "# def threeSum(nums, target):\n",
    "#     n = len(nums)\n",
    "#     nums.sort()\n",
    "#     result = []\n",
    "\n",
    "#     for i in range(n-3):\n",
    "#         if i > 0 and nums[i] == nums[i -1]:\n",
    "#             continue\n",
    "\n",
    "#         for j in range(i+1 , n-2):\n",
    "#             if j > i + \n"
   ]
  },
  {
   "attachments": {},
   "cell_type": "markdown",
   "metadata": {},
   "source": [
    "## Question 2"
   ]
  },
  {
   "cell_type": "code",
   "execution_count": 5,
   "metadata": {},
   "outputs": [
    {
     "name": "stdout",
     "output_type": "stream",
     "text": [
      "[5, 4, 23, 45]\n"
     ]
    }
   ],
   "source": [
    "def reverse_array(array):\n",
    "    start = 1\n",
    "    end = len(array) - 1\n",
    "\n",
    "    while start < end:\n",
    "        array[start], array[end] = array[end], array[start]\n",
    "        start += 1\n",
    "        end -= 1\n",
    "    return array\n",
    "\n",
    "arr = [5, 45, 23, 4]\n",
    "reverse_array(arr)\n",
    "print(arr)\n"
   ]
  },
  {
   "attachments": {},
   "cell_type": "markdown",
   "metadata": {},
   "source": [
    "## Question 3"
   ]
  },
  {
   "cell_type": "code",
   "execution_count": 8,
   "metadata": {},
   "outputs": [
    {
     "name": "stdout",
     "output_type": "stream",
     "text": [
      "[1, 2, 3, 4, 6, 7, 8, 10, 11]\n"
     ]
    }
   ],
   "source": [
    "def mergeAndSortArray(arr1, arr2):\n",
    "    merged_arr = []\n",
    "    arr1_n = 0\n",
    "    arr2_n = 0\n",
    "\n",
    "    while arr1_n < len(arr1) and arr2_n < len(arr2):\n",
    "        if arr1[arr1_n] < arr2[arr2_n]:\n",
    "            merged_arr.append(arr1[arr1_n])\n",
    "            arr1_n += 1\n",
    "        else:\n",
    "            merged_arr.append(arr2[arr2_n])\n",
    "            arr2_n += 1\n",
    "\n",
    "    # Handle remaining elements in arr1, if any\n",
    "    while arr1_n < len(arr1):\n",
    "        merged_arr.append(arr1[arr1_n])\n",
    "        arr1_n += 1\n",
    "\n",
    "    # Handle remaining elements in arr2, if any\n",
    "    while arr2_n < len(arr2):\n",
    "        merged_arr.append(arr2[arr2_n])\n",
    "        arr2_n += 1\n",
    "\n",
    "    return merged_arr\n",
    "\n",
    "arr1 = [1, 3, 6, 8]\n",
    "arr2 = [2, 4, 7, 10, 11]\n",
    "result = mergeAndSortArray(arr1, arr2)\n",
    "print(result)\n"
   ]
  },
  {
   "attachments": {},
   "cell_type": "markdown",
   "metadata": {},
   "source": [
    "## Question 4 - Move Zeroes\n",
    "Given an integer array nums, move all 0's to the end of it while maintaining the relative order of the non-zero elements.\n",
    "\n",
    "Note that you must do this in-place without making a copy of the array.\n",
    "\n",
    " \n",
    "\n",
    "```Example 1:\n",
    "\n",
    "Input: nums = [0,1,0,3,12]\n",
    "Output: [1,3,12,0,0]\n",
    "Example 2:\n",
    "\n",
    "Input: nums = [0]\n",
    "Output: [0]\n",
    "```"
   ]
  },
  {
   "cell_type": "code",
   "execution_count": 25,
   "metadata": {},
   "outputs": [
    {
     "data": {
      "text/plain": [
       "[1, 3, 12, 0, 0]"
      ]
     },
     "execution_count": 25,
     "metadata": {},
     "output_type": "execute_result"
    }
   ],
   "source": [
    "def move_zeros(nums):\n",
    "    i = 0\n",
    "    j = 0\n",
    "    while i < len(nums):\n",
    "        if nums[i] != 0:\n",
    "            nums[j], nums[i] = nums[i], nums[j]\n",
    "            j+=1\n",
    "        i+=1\n",
    "\n",
    "    return nums\n",
    "\n",
    "nums = [0,1,0,3,12]\n",
    "move_zeros(nums)"
   ]
  },
  {
   "cell_type": "code",
   "execution_count": 18,
   "metadata": {},
   "outputs": [
    {
     "name": "stdout",
     "output_type": "stream",
     "text": [
      "[1, 3, 12, 0, 0]\n"
     ]
    }
   ],
   "source": [
    "def move_zeros(nums):\n",
    "    i = 0\n",
    "    j = 0\n",
    "    \n",
    "    while i < len(nums):\n",
    "        if nums[i] != 0:\n",
    "            nums[j], nums[i] = nums[i], nums[j]\n",
    "            j += 1\n",
    "        i += 1\n",
    "            \n",
    "    return nums\n",
    "\n",
    "nums = [0, 1, 0, 3, 12]\n",
    "result = move_zeros(nums)\n",
    "print(result)\n"
   ]
  },
  {
   "attachments": {},
   "cell_type": "markdown",
   "metadata": {},
   "source": [
    "> ## Question 7\n",
    "Given an array nums with n objects colored red, white, or blue, sort them in-place so that objects of the same color are adjacent, with the colors in the order red, white, and blue.\n",
    "\n",
    "We will use the integers 0, 1, and 2 to represent the color red, white, and blue, respectively.\n",
    "\n",
    "You must solve this problem without using the library's sort function.\n",
    "\n",
    " \n",
    "```\n",
    "Example 1:\n",
    "\n",
    "Input: nums = [2,0,2,1,1,0]\n",
    "Output: [0,0,1,1,2,2]\n",
    "Example 2:\n",
    "\n",
    "Input: nums = [2,0,1]\n",
    "Output: [0,1,2]\n",
    "\n",
    "```"
   ]
  },
  {
   "cell_type": "code",
   "execution_count": 19,
   "metadata": {},
   "outputs": [
    {
     "name": "stdout",
     "output_type": "stream",
     "text": [
      "[0, 0, 1, 1, 2, 2]\n"
     ]
    }
   ],
   "source": [
    "def sort_colors(nums):\n",
    "    left = 0\n",
    "    right = len(nums) - 1\n",
    "    i = 0\n",
    "\n",
    "    while i <= right:\n",
    "        if nums[i] == 0:\n",
    "            nums[left], nums[i] = nums[i], nums[left]\n",
    "            left += 1\n",
    "            i += 1\n",
    "        elif nums[i] == 2:\n",
    "            nums[right], nums[i] = nums[i], nums[right]\n",
    "            right -= 1\n",
    "        else:\n",
    "            i += 1\n",
    "\n",
    "    return nums\n",
    "\n",
    "\n",
    "nums = [2, 0, 2, 1, 1, 0]\n",
    "sorted_nums = sort_colors(nums)\n",
    "print(sorted_nums)\n"
   ]
  },
  {
   "cell_type": "code",
   "execution_count": 18,
   "metadata": {},
   "outputs": [
    {
     "name": "stdout",
     "output_type": "stream",
     "text": [
      "[0, 0, 1, 1, 2, 2]\n"
     ]
    }
   ],
   "source": [
    "def sort_colors(nums):\n",
    "    right = len(nums) - 1\n",
    "    left = 0\n",
    "\n",
    "    while left <= right:\n",
    "        if nums[left] == 0:\n",
    "            # left += 1\n",
    "            left += 1\n",
    "        if nums[left] == 2:\n",
    "            nums[right], nums[left] = nums[left], nums[right]\n",
    "            right -= 1\n",
    "        else:\n",
    "            left += 1\n",
    "    \n",
    "    return nums\n",
    "\n",
    "nums = [2, 0, 2, 1, 1, 0]\n",
    "sorted_nums = sort_colors(nums)\n",
    "print(sorted_nums)\n"
   ]
  },
  {
   "attachments": {},
   "cell_type": "markdown",
   "metadata": {},
   "source": [
    "> ## Question 8\n",
    "Given an integer array nums, rotate the array to the right by k steps, where k is non-negative.\n",
    "\n",
    "``` \n",
    "\n",
    "Example 1:\n",
    "\n",
    "Input: nums = [1,2,3,4,5,6,7], k = 3\n",
    "Output: [5,6,7,1,2,3,4]\n",
    "Explanation:\n",
    "rotate 1 steps to the right: [7,1,2,3,4,5,6]\n",
    "rotate 2 steps to the right: [6,7,1,2,3,4,5]\n",
    "rotate 3 steps to the right: [5,6,7,1,2,3,4]\n",
    "Example 2:\n",
    "\n",
    "Input: nums = [-1,-100,3,99], k = 2\n",
    "Output: [3,99,-1,-100]\n",
    "Explanation: \n",
    "rotate 1 steps to the right: [99,-1,-100,3]\n",
    "\n",
    "```"
   ]
  },
  {
   "cell_type": "code",
   "execution_count": 28,
   "metadata": {},
   "outputs": [
    {
     "data": {
      "text/plain": [
       "[5, 6, 7, 1, 2, 3, 4]"
      ]
     },
     "execution_count": 28,
     "metadata": {},
     "output_type": "execute_result"
    }
   ],
   "source": [
    "def reverse(array, left, right):\n",
    "    while left < right:\n",
    "        array[left], array[right] = array[right], array[left]\n",
    "        left += 1\n",
    "        right -= 1\n",
    "\n",
    "def rotate(nums, k):\n",
    "    n = len(nums)\n",
    "    k = k % n\n",
    "\n",
    "    reverse(nums, 0, n - k - 1)\n",
    "    reverse(nums, n - k, n - 1)\n",
    "    reverse(nums, 0, n - 1)\n",
    "\n",
    "    return nums\n",
    "\n",
    "nums = [1, 2, 3, 4, 5, 6, 7]\n",
    "k = 3\n",
    "rotate(nums, k)"
   ]
  },
  {
   "cell_type": "code",
   "execution_count": 24,
   "metadata": {},
   "outputs": [
    {
     "data": {
      "text/plain": [
       "3"
      ]
     },
     "execution_count": 24,
     "metadata": {},
     "output_type": "execute_result"
    }
   ],
   "source": [
    "3 % 5"
   ]
  },
  {
   "cell_type": "code",
   "execution_count": null,
   "metadata": {},
   "outputs": [],
   "source": []
  }
 ],
 "metadata": {
  "kernelspec": {
   "display_name": "Python 3",
   "language": "python",
   "name": "python3"
  },
  "language_info": {
   "codemirror_mode": {
    "name": "ipython",
    "version": 3
   },
   "file_extension": ".py",
   "mimetype": "text/x-python",
   "name": "python",
   "nbconvert_exporter": "python",
   "pygments_lexer": "ipython3",
   "version": "3.11.3"
  },
  "orig_nbformat": 4
 },
 "nbformat": 4,
 "nbformat_minor": 2
}
