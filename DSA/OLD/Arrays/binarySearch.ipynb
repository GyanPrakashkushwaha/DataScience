{
 "cells": [
  {
   "attachments": {},
   "cell_type": "markdown",
   "metadata": {},
   "source": [
    "# Binary Search"
   ]
  },
  {
   "cell_type": "code",
   "execution_count": 32,
   "metadata": {},
   "outputs": [],
   "source": [
    "arr = [12,42,55,767,65,66,45,44]\n",
    "arr = sorted(arr)\n"
   ]
  },
  {
   "cell_type": "code",
   "execution_count": 33,
   "metadata": {},
   "outputs": [
    {
     "name": "stdout",
     "output_type": "stream",
     "text": [
      "3\n",
      "5\n",
      "Searching element is present at the index 5\n"
     ]
    }
   ],
   "source": [
    "def binarySearch(array , value , start , end):\n",
    "    while start <= end:\n",
    "        mid = start + (end-start)//2\n",
    "        print(mid)\n",
    "\n",
    "        # print(array[mid])\n",
    "\n",
    "        if array[mid] == value:\n",
    "            return mid\n",
    "        elif array[mid] < value:\n",
    "            # using recursion -> calling the same function again with different set of parameters\n",
    "            return binarySearch(array=array, start=mid+1 , end=end, value=value)\n",
    "        else:\n",
    "            return binarySearch(array=array, start=start , end=mid-1, value=value)\n",
    "    \n",
    "    return -1\n",
    "\n",
    "\n",
    "arr = [12, 42, 44, 45, 55, 65, 66, 767]\n",
    "result = binarySearch(array=arr,value=65,start=0,end=len(arr)-1)\n",
    "print(\"Searching element is present at the index\", result)"
   ]
  },
  {
   "cell_type": "code",
   "execution_count": 34,
   "metadata": {},
   "outputs": [
    {
     "name": "stdout",
     "output_type": "stream",
     "text": [
      "4\n",
      "6\n",
      "7\n",
      "Searching element is present at the index 7\n"
     ]
    }
   ],
   "source": [
    "def binarySearch(array , value , start , end):\n",
    "    while start <= end:\n",
    "        mid = start + (end-start)//2\n",
    "        if array[mid] == value:\n",
    "            return mid\n",
    "        elif array[mid] < value:\n",
    "            # Without using recursion \n",
    "            start = mid + 1\n",
    "            print(start)\n",
    "        else:\n",
    "            end=mid-1\n",
    "            print(end)\n",
    "    \n",
    "    return -1\n",
    "\n",
    "arr = [12, 42, 44, 45, 55, 65, 66, 767]\n",
    "result = binarySearch(array=arr,value=767,start=0,end=len(arr)-1)\n",
    "print(\"Searching element is present at the index\", result)"
   ]
  },
  {
   "attachments": {},
   "cell_type": "markdown",
   "metadata": {},
   "source": [
    "# Binary search in 2D array"
   ]
  },
  {
   "cell_type": "code",
   "execution_count": 35,
   "metadata": {},
   "outputs": [
    {
     "data": {
      "text/plain": [
       "[[1, 3, 5, 7], [10, 11, 16, 20], [23, 30, 34, 60]]"
      ]
     },
     "execution_count": 35,
     "metadata": {},
     "output_type": "execute_result"
    }
   ],
   "source": [
    "matrix = [[1,3,5,7], [10,11,16,20],[23,30,34,60]]\n",
    "matrix"
   ]
  },
  {
   "cell_type": "code",
   "execution_count": 69,
   "metadata": {},
   "outputs": [
    {
     "data": {
      "text/plain": [
       "3"
      ]
     },
     "execution_count": 69,
     "metadata": {},
     "output_type": "execute_result"
    }
   ],
   "source": [
    "matrix[0][1]"
   ]
  },
  {
   "cell_type": "code",
   "execution_count": 78,
   "metadata": {},
   "outputs": [
    {
     "data": {
      "text/plain": [
       "True"
      ]
     },
     "execution_count": 78,
     "metadata": {},
     "output_type": "execute_result"
    }
   ],
   "source": [
    "def binarySearch2DSortedMatrix(matrix,target):\n",
    "    nrows = len(matrix)\n",
    "    ncols = len(matrix[0])\n",
    "    start = 0\n",
    "    end = nrows*ncols -1\n",
    "\n",
    "    if nrows == 0:\n",
    "        return 'matrix is empty'\n",
    "\n",
    "    while start<= end:\n",
    "        mid = start + (end - start)//2\n",
    "        ## row_number = index // ncols\n",
    "        ## column_number = index % ncols\n",
    "        mid_element = matrix[mid//ncols][mid%ncols]\n",
    "        \n",
    "        if target == mid_element:\n",
    "            return True\n",
    "        elif target < mid_element:\n",
    "            end = mid -1\n",
    "        else:\n",
    "            start = mid+1\n",
    "\n",
    "    return False\n",
    "    \n",
    "binarySearch2DSortedMatrix(matrix=matrix,target=7)"
   ]
  },
  {
   "cell_type": "code",
   "execution_count": null,
   "metadata": {},
   "outputs": [],
   "source": []
  },
  {
   "cell_type": "code",
   "execution_count": null,
   "metadata": {},
   "outputs": [],
   "source": []
  },
  {
   "cell_type": "code",
   "execution_count": null,
   "metadata": {},
   "outputs": [],
   "source": []
  },
  {
   "cell_type": "code",
   "execution_count": null,
   "metadata": {},
   "outputs": [],
   "source": []
  },
  {
   "cell_type": "code",
   "execution_count": null,
   "metadata": {},
   "outputs": [],
   "source": []
  },
  {
   "cell_type": "code",
   "execution_count": null,
   "metadata": {},
   "outputs": [],
   "source": []
  },
  {
   "cell_type": "code",
   "execution_count": null,
   "metadata": {},
   "outputs": [],
   "source": []
  }
 ],
 "metadata": {
  "kernelspec": {
   "display_name": "Python 3",
   "language": "python",
   "name": "python3"
  },
  "language_info": {
   "codemirror_mode": {
    "name": "ipython",
    "version": 3
   },
   "file_extension": ".py",
   "mimetype": "text/x-python",
   "name": "python",
   "nbconvert_exporter": "python",
   "pygments_lexer": "ipython3",
   "version": "3.11.3"
  },
  "orig_nbformat": 4
 },
 "nbformat": 4,
 "nbformat_minor": 2
}
