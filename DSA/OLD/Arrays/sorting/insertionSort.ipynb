{
 "cells": [
  {
   "attachments": {},
   "cell_type": "markdown",
   "metadata": {},
   "source": [
    "# Insertion Sort"
   ]
  },
  {
   "cell_type": "code",
   "execution_count": 1,
   "metadata": {},
   "outputs": [
    {
     "name": "stdout",
     "output_type": "stream",
     "text": [
      "Sorted array after applying the insertion sort is [1, 3, 4, 5, 9]\n"
     ]
    }
   ],
   "source": [
    "def insertionSort(arr):\n",
    "    for i in range(1 , len(arr)):\n",
    "        key = arr[i]\n",
    "        j = i -1\n",
    "\n",
    "        while j >= 0 and key < arr[j]:\n",
    "            arr[j+1] = arr[j]\n",
    "            j = j-1\n",
    "\n",
    "        arr[j+1] = key\n",
    "\n",
    "    return arr\n",
    "\n",
    "arr = [9, 5, 1, 4, 3]\n",
    "result = insertionSort(arr)\n",
    "print(\"Sorted array after applying the insertion sort is\", result)"
   ]
  },
  {
   "cell_type": "code",
   "execution_count": 4,
   "metadata": {},
   "outputs": [
    {
     "name": "stdout",
     "output_type": "stream",
     "text": [
      "inf\n"
     ]
    }
   ],
   "source": [
    "print(float('inf'))"
   ]
  },
  {
   "attachments": {},
   "cell_type": "markdown",
   "metadata": {},
   "source": [
    "# Queston"
   ]
  },
  {
   "attachments": {},
   "cell_type": "markdown",
   "metadata": {},
   "source": [
    "## 1st approach - Difficult one"
   ]
  },
  {
   "cell_type": "code",
   "execution_count": 12,
   "metadata": {},
   "outputs": [
    {
     "name": "stdout",
     "output_type": "stream",
     "text": [
      "The maximum profit of buy and sell the stock is: 19\n"
     ]
    }
   ],
   "source": [
    "class Solution:\n",
    "    def maxProfit(self,prices):\n",
    "        left = 0 #Buy\n",
    "        right = 1 #Sell\n",
    "        max_profit = 0\n",
    "        while right < len(prices):\n",
    "            currentProfit = prices[right] - prices[left] #our current Profit\n",
    "            if prices[left] < prices[right]:\n",
    "                max_profit =max(currentProfit,max_profit)\n",
    "            else:\n",
    "                left = right\n",
    "            right += 1\n",
    "        return max_profit\n",
    "    \n",
    "solution = Solution()\n",
    "\n",
    "\n",
    "prices = [7,1,5,3,6,4,15,20]\n",
    "## function calling\n",
    "maxProfit = solution.maxProfit(prices)\n",
    "print(\"The maximum profit of buy and sell the stock is:\", maxProfit)"
   ]
  },
  {
   "attachments": {},
   "cell_type": "markdown",
   "metadata": {},
   "source": [
    "## 2nd approach- easy than before solution"
   ]
  },
  {
   "cell_type": "code",
   "execution_count": 11,
   "metadata": {},
   "outputs": [
    {
     "name": "stdout",
     "output_type": "stream",
     "text": [
      "The maximum profit of buy and sell the stock is: 19\n"
     ]
    }
   ],
   "source": [
    "def findMaxProfit(prices):\n",
    "    min_price = float('inf')\n",
    "    max_profit = 0\n",
    "\n",
    "    for i in range(len(prices)):\n",
    "        # this if condition only for checking minimum price\n",
    "        if prices[i] < min_price:\n",
    "            min_price = prices[i]\n",
    "        # this condition is for checking the max profit\n",
    "        elif prices[i] - min_price > max_profit:\n",
    "            max_profit = prices[i] - min_price\n",
    "\n",
    "    return max_profit\n",
    "\n",
    "\n",
    "prices = [7,1,5,3,6,4,15,20]\n",
    "## function calling\n",
    "maxProfit = findMaxProfit(prices)\n",
    "print(\"The maximum profit of buy and sell the stock is:\", maxProfit)"
   ]
  },
  {
   "attachments": {},
   "cell_type": "markdown",
   "metadata": {},
   "source": [
    "## 3rd approach - easy than above solution"
   ]
  },
  {
   "cell_type": "code",
   "execution_count": 15,
   "metadata": {},
   "outputs": [
    {
     "name": "stdout",
     "output_type": "stream",
     "text": [
      "The maximum profit of buy and sell the stock is: 21\n"
     ]
    }
   ],
   "source": [
    "def findMaxProfit(prices):\n",
    "    min_price = min(prices)\n",
    "    max_profit = 0\n",
    "    \n",
    "    for i in range(len(prices)):\n",
    "        # this condition is for checking the max profit\n",
    "        if prices[i] - min_price > max_profit:\n",
    "            max_profit = prices[i] - min_price\n",
    "    return max_profit\n",
    "\n",
    "\n",
    "prices = [7,1,5,3,6,4,15,20,22]\n",
    "## function calling\n",
    "maxProfit = findMaxProfit(prices)\n",
    "print(\"The maximum profit of buy and sell the stock is:\", maxProfit)"
   ]
  },
  {
   "attachments": {},
   "cell_type": "markdown",
   "metadata": {},
   "source": [
    "## last approach -most easy solution"
   ]
  },
  {
   "cell_type": "code",
   "execution_count": 18,
   "metadata": {},
   "outputs": [
    {
     "name": "stdout",
     "output_type": "stream",
     "text": [
      "The maximum profit of buy and sell the stock is: 19\n"
     ]
    }
   ],
   "source": [
    "def findMaxProfit(prices):\n",
    "    min_price = min(prices)\n",
    "    max_price = max(prices)\n",
    "    max_profit = max_price - min_price\n",
    "    return max_profit\n",
    "\n",
    "prices = [7,5,3,6,4,15,20,22]\n",
    "## function calling\n",
    "maxProfit = findMaxProfit(prices)\n",
    "print(\"The maximum profit of buy and sell the stock is:\", maxProfit)\n"
   ]
  },
  {
   "cell_type": "code",
   "execution_count": null,
   "metadata": {},
   "outputs": [],
   "source": []
  },
  {
   "cell_type": "code",
   "execution_count": null,
   "metadata": {},
   "outputs": [],
   "source": []
  },
  {
   "cell_type": "code",
   "execution_count": null,
   "metadata": {},
   "outputs": [],
   "source": []
  },
  {
   "cell_type": "code",
   "execution_count": null,
   "metadata": {},
   "outputs": [],
   "source": []
  },
  {
   "cell_type": "code",
   "execution_count": null,
   "metadata": {},
   "outputs": [],
   "source": []
  },
  {
   "cell_type": "code",
   "execution_count": null,
   "metadata": {},
   "outputs": [],
   "source": []
  }
 ],
 "metadata": {
  "kernelspec": {
   "display_name": "Python 3",
   "language": "python",
   "name": "python3"
  },
  "language_info": {
   "codemirror_mode": {
    "name": "ipython",
    "version": 3
   },
   "file_extension": ".py",
   "mimetype": "text/x-python",
   "name": "python",
   "nbconvert_exporter": "python",
   "pygments_lexer": "ipython3",
   "version": "3.11.3"
  },
  "orig_nbformat": 4
 },
 "nbformat": 4,
 "nbformat_minor": 2
}
