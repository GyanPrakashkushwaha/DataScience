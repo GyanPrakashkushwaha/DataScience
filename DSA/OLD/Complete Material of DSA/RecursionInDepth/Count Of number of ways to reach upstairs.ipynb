{
 "cells": [
  {
   "cell_type": "code",
   "execution_count": null,
   "id": "a479f9f4",
   "metadata": {},
   "outputs": [],
   "source": [
    "## Helper method\n",
    "def helper(n):\n",
    "    if n <= 1:\n",
    "        return n\n",
    "    return helper(n-1) + helper(n-2)\n",
    "\n",
    "## function definition\n",
    "def countNumberOfWays(s):\n",
    "    return helper(s+1)\n",
    "\n",
    "## Driver code\n",
    "n = 10000000000\n",
    "result = countNumberOfWays(n)\n",
    "print(\"Number of ways to reach upstairs is\",result)"
   ]
  },
  {
   "cell_type": "code",
   "execution_count": null,
   "id": "6fe6d8a7",
   "metadata": {},
   "outputs": [],
   "source": []
  }
 ],
 "metadata": {
  "kernelspec": {
   "display_name": "Python 3 (ipykernel)",
   "language": "python",
   "name": "python3"
  },
  "language_info": {
   "codemirror_mode": {
    "name": "ipython",
    "version": 3
   },
   "file_extension": ".py",
   "mimetype": "text/x-python",
   "name": "python",
   "nbconvert_exporter": "python",
   "pygments_lexer": "ipython3",
   "version": "3.9.12"
  }
 },
 "nbformat": 4,
 "nbformat_minor": 5
}
