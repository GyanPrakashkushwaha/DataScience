{
 "cells": [
  {
   "cell_type": "code",
   "execution_count": 2,
   "id": "fb5b0ff7",
   "metadata": {},
   "outputs": [
    {
     "name": "stdout",
     "output_type": "stream",
     "text": [
      "The factorial of a given number is: 40320\n"
     ]
    }
   ],
   "source": [
    "## Using the recursive approach\n",
    "## function definition\n",
    "## time complexity: O(n)\n",
    "def findFactorial(n):\n",
    "    ## base case condition\n",
    "    ## small problem\n",
    "    if n == 0 or n == 1:\n",
    "        return 1\n",
    "    else:\n",
    "        ## big problem\n",
    "        ## recursion \n",
    "        return n * findFactorial(n-1)\n",
    "\n",
    "\n",
    "## Driver code\n",
    "n = 8\n",
    "## function calling\n",
    "result = findFactorial(n)\n",
    "print(\"The factorial of a given number is:\", result)"
   ]
  },
  {
   "cell_type": "code",
   "execution_count": 4,
   "id": "e26b8ab7",
   "metadata": {},
   "outputs": [
    {
     "name": "stdout",
     "output_type": "stream",
     "text": [
      "The factorial of a given number is: 40320\n"
     ]
    }
   ],
   "source": [
    "## Using the iterative approach\n",
    "## function definition\n",
    "## time complexity: O(n)\n",
    "def findFactorial(n):\n",
    "    result = 1\n",
    "    if n == 0 or n == 1:\n",
    "        return 1\n",
    "    else:\n",
    "        ## iterative approach\n",
    "        for i in range(2, n+1):\n",
    "            result = result * i\n",
    "        return result\n",
    "\n",
    "\n",
    "## Driver code\n",
    "n = 8\n",
    "## function calling\n",
    "result = findFactorial(n)\n",
    "print(\"The factorial of a given number is:\", result)"
   ]
  },
  {
   "cell_type": "code",
   "execution_count": null,
   "id": "0da9379e",
   "metadata": {},
   "outputs": [],
   "source": []
  }
 ],
 "metadata": {
  "kernelspec": {
   "display_name": "Python 3 (ipykernel)",
   "language": "python",
   "name": "python3"
  },
  "language_info": {
   "codemirror_mode": {
    "name": "ipython",
    "version": 3
   },
   "file_extension": ".py",
   "mimetype": "text/x-python",
   "name": "python",
   "nbconvert_exporter": "python",
   "pygments_lexer": "ipython3",
   "version": "3.9.12"
  }
 },
 "nbformat": 4,
 "nbformat_minor": 5
}
