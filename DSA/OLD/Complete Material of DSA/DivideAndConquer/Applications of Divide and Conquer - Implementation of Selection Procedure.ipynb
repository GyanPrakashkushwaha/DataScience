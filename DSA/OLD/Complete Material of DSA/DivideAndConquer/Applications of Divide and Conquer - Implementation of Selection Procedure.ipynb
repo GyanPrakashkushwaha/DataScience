{
 "cells": [
  {
   "cell_type": "code",
   "execution_count": 20,
   "id": "4ae337dd",
   "metadata": {},
   "outputs": [
    {
     "name": "stdout",
     "output_type": "stream",
     "text": [
      "kth smallest element in an array is 20\n"
     ]
    }
   ],
   "source": [
    "## Implementation of selection procedure\n",
    "## function definition of partition\n",
    "def partition(arr, p, q):\n",
    "    i = p\n",
    "    pivot = arr[p]\n",
    "    for j in range(i+1, q+1):\n",
    "        if arr[j] <= pivot:\n",
    "            i += 1\n",
    "            arr[i], arr[j] = arr[j], arr[i]\n",
    "    arr[i], arr[p] = arr[p], arr[i]\n",
    "    return i+1\n",
    "\n",
    "\n",
    "## function definition of selectionProcedure\n",
    "def selectionProcedure(arr, p, q, k):\n",
    "    if len(arr) == 1:\n",
    "        return arr[p]\n",
    "    else:\n",
    "        ## function calling of partition function\n",
    "        m = partition(arr, p, q)\n",
    "        if m == k:\n",
    "            return arr[m-1]\n",
    "        elif m < k:\n",
    "            ## recursive call -> right side of the pivot element \n",
    "            return selectionProcedure(arr, m, q, k)\n",
    "        else:\n",
    "            ## recursive call -> left side of the pivot element\n",
    "            return selectionProcedure(arr, p, m-2, k)\n",
    "\n",
    "## Driver code\n",
    "arr = [20, 70, 50, 48, 98, 12, 10, 43]\n",
    "k = 3\n",
    "## [10, 12, 20, 43, 48, 50, 70, 98]\n",
    "## [1, 2, 3, 4, 5, 6, 7, 8]\n",
    "p = 0\n",
    "q = len(arr) - 1\n",
    "## function calling\n",
    "result = selectionProcedure(arr, p, q, k)\n",
    "print(\"kth smallest element in an array is\", result)"
   ]
  },
  {
   "cell_type": "code",
   "execution_count": null,
   "id": "847fb967",
   "metadata": {},
   "outputs": [],
   "source": []
  }
 ],
 "metadata": {
  "kernelspec": {
   "display_name": "Python 3 (ipykernel)",
   "language": "python",
   "name": "python3"
  },
  "language_info": {
   "codemirror_mode": {
    "name": "ipython",
    "version": 3
   },
   "file_extension": ".py",
   "mimetype": "text/x-python",
   "name": "python",
   "nbconvert_exporter": "python",
   "pygments_lexer": "ipython3",
   "version": "3.9.12"
  }
 },
 "nbformat": 4,
 "nbformat_minor": 5
}
