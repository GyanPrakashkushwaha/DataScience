{
 "cells": [
  {
   "cell_type": "code",
   "execution_count": 11,
   "id": "e5ecf5b7",
   "metadata": {},
   "outputs": [
    {
     "name": "stdout",
     "output_type": "stream",
     "text": [
      "Sorted array after applying the merge sort is: [13, 27, 50, 62, 65, 70, 80, 98]\n"
     ]
    }
   ],
   "source": [
    "## Implementation of Merge Sort\n",
    "## function definition of merge Procedure\n",
    "## n1+n2 = N \n",
    "## MergeProcedure time complexity = O(N)\n",
    "def mergeProcedure(arr, i, mid, j):\n",
    "    ## n1-> number of elements in the left subarray(i, mid)\n",
    "    n1 = mid - i + 1\n",
    "    ## n2 -> number of elements in the right subarray(mid+1, j)\n",
    "    n2 = j - mid\n",
    "    \n",
    "    ## intialization of left and right subarray\n",
    "    leftSubarray = [0] * n1\n",
    "    rightSubarray = [0] * n2\n",
    "    \n",
    "    ## copy the elements from an array to the subarrays\n",
    "    for m in range(n1):\n",
    "        leftSubarray[m] = arr[i + m]\n",
    "    \n",
    "    for n in range(n2):\n",
    "        rightSubarray[n] = arr[mid + 1 + n]\n",
    "    \n",
    "    p = 0\n",
    "    q = 0\n",
    "    k = i\n",
    "    ## returning a sorted subarray\n",
    "    while p < n1 and q < n2:\n",
    "        if leftSubarray[p] <= rightSubarray[q]:\n",
    "            arr[k] = leftSubarray[p]\n",
    "            p += 1\n",
    "        else:\n",
    "            arr[k] = rightSubarray[q]\n",
    "            q += 1\n",
    "        k += 1\n",
    "    \n",
    "    ## copy the entire elements from the left subarray\n",
    "    while p < n1:\n",
    "        arr[k] = leftSubarray[p]\n",
    "        p += 1\n",
    "        k += 1\n",
    "    \n",
    "    ## copy the entire elements from the right subarray\n",
    "    while q < n2:\n",
    "        arr[k] = rightSubarray[q]\n",
    "        q += 1\n",
    "        k += 1\n",
    "\n",
    "## function definition of merge sort\n",
    "## Approach -> Divide and Conquer\n",
    "## Recurrence Relation -> 2T(N/2) + N\n",
    "## Time complexity -> O(NlogN)\n",
    "def mergeSort(arr, i, j):\n",
    "    if i < j:\n",
    "        ## Divide\n",
    "        mid = i + (j-i)//2\n",
    "        ## Conquer\n",
    "        ## recursive call -> left subtree\n",
    "        mergeSort(arr, i, mid)\n",
    "        ## recursive call -> right subtree\n",
    "        mergeSort(arr, mid+1, j)\n",
    "        ## Combine -> mergeProcedure(function calling)\n",
    "        mergeProcedure(arr, i, mid, j)\n",
    "    return arr\n",
    "\n",
    "\n",
    "## Driver code\n",
    "arr = [50, 70, 65, 13, 80, 62, 98, 27]\n",
    "i = 0\n",
    "j = len(arr) - 1\n",
    "## function calling\n",
    "result = mergeSort(arr, i, j)\n",
    "print(\"Sorted array after applying the merge sort is:\", result)"
   ]
  },
  {
   "cell_type": "code",
   "execution_count": null,
   "id": "1a2e4dfd",
   "metadata": {},
   "outputs": [],
   "source": []
  }
 ],
 "metadata": {
  "kernelspec": {
   "display_name": "Python 3 (ipykernel)",
   "language": "python",
   "name": "python3"
  },
  "language_info": {
   "codemirror_mode": {
    "name": "ipython",
    "version": 3
   },
   "file_extension": ".py",
   "mimetype": "text/x-python",
   "name": "python",
   "nbconvert_exporter": "python",
   "pygments_lexer": "ipython3",
   "version": "3.9.12"
  }
 },
 "nbformat": 4,
 "nbformat_minor": 5
}
