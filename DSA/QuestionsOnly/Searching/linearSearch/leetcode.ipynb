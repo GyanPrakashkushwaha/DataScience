{
 "cells": [
  {
   "cell_type": "code",
   "execution_count": 7,
   "metadata": {},
   "outputs": [],
   "source": [
    "class Solution(object):\n",
    "    def maximumWealth(self, accounts:list):\n",
    "        ans = float('inf')\n",
    "        for person in range(len(accounts)):\n",
    "            sum_ = 0\n",
    "            for account in accounts[person]:\n",
    "                sum_ += accounts[person][account]\n",
    "\n",
    "            if sum_ > ans:\n",
    "                ans = sum_\n",
    "        return ans"
   ]
  },
  {
   "cell_type": "code",
   "execution_count": 3,
   "metadata": {},
   "outputs": [
    {
     "data": {
      "text/plain": [
       "inf"
      ]
     },
     "execution_count": 3,
     "metadata": {},
     "output_type": "execute_result"
    }
   ],
   "source": [
    "float('inf')"
   ]
  },
  {
   "cell_type": "code",
   "execution_count": 5,
   "metadata": {},
   "outputs": [
    {
     "ename": "IndexError",
     "evalue": "list index out of range",
     "output_type": "error",
     "traceback": [
      "\u001b[1;31m---------------------------------------------------------------------------\u001b[0m",
      "\u001b[1;31mIndexError\u001b[0m                                Traceback (most recent call last)",
      "\u001b[1;32mc:\\Users\\Gyanprakash\\Desktop\\Data-Science\\DSA\\QuestionsOnly\\Searching\\linearSearch\\leetcode.ipynb Cell 4\u001b[0m line \u001b[0;36m3\n\u001b[0;32m      <a href='vscode-notebook-cell:/c%3A/Users/Gyanprakash/Desktop/Data-Science/DSA/QuestionsOnly/Searching/linearSearch/leetcode.ipynb#W3sZmlsZQ%3D%3D?line=0'>1</a>\u001b[0m accounts \u001b[39m=\u001b[39m [[\u001b[39m1\u001b[39m,\u001b[39m5\u001b[39m],[\u001b[39m7\u001b[39m,\u001b[39m3\u001b[39m],[\u001b[39m3\u001b[39m,\u001b[39m5\u001b[39m]]\n\u001b[0;32m      <a href='vscode-notebook-cell:/c%3A/Users/Gyanprakash/Desktop/Data-Science/DSA/QuestionsOnly/Searching/linearSearch/leetcode.ipynb#W3sZmlsZQ%3D%3D?line=1'>2</a>\u001b[0m obj \u001b[39m=\u001b[39m Solution()\n\u001b[1;32m----> <a href='vscode-notebook-cell:/c%3A/Users/Gyanprakash/Desktop/Data-Science/DSA/QuestionsOnly/Searching/linearSearch/leetcode.ipynb#W3sZmlsZQ%3D%3D?line=2'>3</a>\u001b[0m obj\u001b[39m.\u001b[39;49mmaximumWealth(accounts\u001b[39m=\u001b[39;49maccounts)\n",
      "\u001b[1;32mc:\\Users\\Gyanprakash\\Desktop\\Data-Science\\DSA\\QuestionsOnly\\Searching\\linearSearch\\leetcode.ipynb Cell 4\u001b[0m line \u001b[0;36m1\n\u001b[0;32m     <a href='vscode-notebook-cell:/c%3A/Users/Gyanprakash/Desktop/Data-Science/DSA/QuestionsOnly/Searching/linearSearch/leetcode.ipynb#W3sZmlsZQ%3D%3D?line=9'>10</a>\u001b[0m sum_ \u001b[39m=\u001b[39m \u001b[39m0\u001b[39m\n\u001b[0;32m     <a href='vscode-notebook-cell:/c%3A/Users/Gyanprakash/Desktop/Data-Science/DSA/QuestionsOnly/Searching/linearSearch/leetcode.ipynb#W3sZmlsZQ%3D%3D?line=10'>11</a>\u001b[0m \u001b[39mfor\u001b[39;00m account \u001b[39min\u001b[39;00m accounts[person]:\n\u001b[1;32m---> <a href='vscode-notebook-cell:/c%3A/Users/Gyanprakash/Desktop/Data-Science/DSA/QuestionsOnly/Searching/linearSearch/leetcode.ipynb#W3sZmlsZQ%3D%3D?line=11'>12</a>\u001b[0m     sum_ \u001b[39m+\u001b[39m\u001b[39m=\u001b[39m accounts[person][account]\n\u001b[0;32m     <a href='vscode-notebook-cell:/c%3A/Users/Gyanprakash/Desktop/Data-Science/DSA/QuestionsOnly/Searching/linearSearch/leetcode.ipynb#W3sZmlsZQ%3D%3D?line=13'>14</a>\u001b[0m \u001b[39mif\u001b[39;00m sum_ \u001b[39m>\u001b[39m ans:\n\u001b[0;32m     <a href='vscode-notebook-cell:/c%3A/Users/Gyanprakash/Desktop/Data-Science/DSA/QuestionsOnly/Searching/linearSearch/leetcode.ipynb#W3sZmlsZQ%3D%3D?line=14'>15</a>\u001b[0m     ans \u001b[39m=\u001b[39m sum_\n",
      "\u001b[1;31mIndexError\u001b[0m: list index out of range"
     ]
    }
   ],
   "source": [
    "accounts = [[1,5],[7,3],[3,5]]\n",
    "obj = Solution()\n",
    "obj.maximumWealth(accounts=accounts)"
   ]
  },
  {
   "cell_type": "code",
   "execution_count": null,
   "metadata": {},
   "outputs": [],
   "source": [
    "def richest(arr2D):\n",
    "    max_val = 0\n",
    "    for i in arr2D:\n",
    "        lst_sum = 0\n",
    "        if max_val < lst_sum:\n",
    "            max_val = lst_sum\n",
    "        for j in i:\n",
    "            lst_sum = j+lst_sum\n",
    "            \n",
    "            \n",
    "\n"
   ]
  },
  {
   "cell_type": "code",
   "execution_count": null,
   "metadata": {},
   "outputs": [],
   "source": []
  }
 ],
 "metadata": {
  "kernelspec": {
   "display_name": "Python 3",
   "language": "python",
   "name": "python3"
  },
  "language_info": {
   "codemirror_mode": {
    "name": "ipython",
    "version": 3
   },
   "file_extension": ".py",
   "mimetype": "text/x-python",
   "name": "python",
   "nbconvert_exporter": "python",
   "pygments_lexer": "ipython3",
   "version": "3.11.3"
  },
  "orig_nbformat": 4
 },
 "nbformat": 4,
 "nbformat_minor": 2
}
