{
 "cells": [
  {
   "cell_type": "markdown",
   "metadata": {},
   "source": [
    "## [video](https://www.youtube.com/watch?v=_HRA37X8N_Q&list=PL9gnSGHSqcnr_DxHsP7AW9ftq0AtAyYqJ&index=13&t=2530s)"
   ]
  },
  {
   "cell_type": "code",
   "execution_count": 6,
   "metadata": {},
   "outputs": [
    {
     "data": {
      "text/plain": [
       "-1"
      ]
     },
     "execution_count": 6,
     "metadata": {},
     "output_type": "execute_result"
    }
   ],
   "source": [
    "def linearSearch(lst:list,target:int):\n",
    "    if len(lst) == 0:\n",
    "        return -1\n",
    "    \n",
    "    for i in lst:\n",
    "        if (i == target):\n",
    "            return i\n",
    "        else:\n",
    "            return -1\n",
    "    \n",
    "lsts = [1,2,35,4,-32,5]\n",
    "linearSearch(lsts,0)"
   ]
  },
  {
   "cell_type": "code",
   "execution_count": 20,
   "metadata": {},
   "outputs": [
    {
     "data": {
      "text/plain": [
       "-54"
      ]
     },
     "execution_count": 20,
     "metadata": {},
     "output_type": "execute_result"
    }
   ],
   "source": [
    "def linearSearch_val(lst:list):\n",
    "    if len(lst) == 0:\n",
    "        return -1\n",
    "    min_val = lst[0]\n",
    "\n",
    "    for i in range(0,len(lst)):\n",
    "        if min_val > lst[i]:\n",
    "            min_val = lst[i]\n",
    "    return min_val\n",
    "        \n",
    "lsts = [1,2,35,4,-32,-35,5,-54]\n",
    "linearSearch_val(lsts)"
   ]
  },
  {
   "cell_type": "code",
   "execution_count": 11,
   "metadata": {},
   "outputs": [
    {
     "name": "stdout",
     "output_type": "stream",
     "text": [
      "Minimum value: 1\n",
      "Index of minimum value: 3\n"
     ]
    }
   ],
   "source": [
    "def linear_search_min(arr):\n",
    "    min_value = float('inf')  # Initialize min_value to positive infinity\n",
    "    current_index = -1\n",
    "\n",
    "    for i in range(len(arr)):\n",
    "        if arr[i] < min_value:\n",
    "            min_value = arr[i]\n",
    "            current_index = i\n",
    "\n",
    "    return min_value, current_index\n",
    "\n",
    "# Example usage:\n",
    "my_list = [5, 2, 9, 1, 5, 6]\n",
    "min_val, min_index = linear_search_min(my_list)\n",
    "print(\"Minimum value:\", min_val)\n",
    "print(\"Index of minimum value:\", min_index)\n"
   ]
  },
  {
   "cell_type": "markdown",
   "metadata": {},
   "source": [
    "## 2D array search"
   ]
  },
  {
   "cell_type": "code",
   "execution_count": 21,
   "metadata": {},
   "outputs": [],
   "source": [
    "arr = [[2,3,4],[64,55,22],[-11,-22,-45]]"
   ]
  },
  {
   "cell_type": "code",
   "execution_count": 24,
   "metadata": {},
   "outputs": [
    {
     "data": {
      "text/plain": [
       "3"
      ]
     },
     "execution_count": 24,
     "metadata": {},
     "output_type": "execute_result"
    }
   ],
   "source": [
    "def search2DArray(array:list,target:int=3):\n",
    "    target_val = 0\n",
    "    if len(array) ==0:\n",
    "        return -1\n",
    "    \n",
    "    for row in array:\n",
    "        for column in row:\n",
    "            if column == target:\n",
    "                target_val = target\n",
    "\n",
    "    return target_val\n",
    "            # print(column)\n",
    "        # print(i)\n",
    "\n",
    "search2DArray(array=arr)"
   ]
  },
  {
   "cell_type": "markdown",
   "metadata": {},
   "source": [
    "## max val"
   ]
  },
  {
   "cell_type": "code",
   "execution_count": 31,
   "metadata": {},
   "outputs": [
    {
     "data": {
      "text/plain": [
       "64"
      ]
     },
     "execution_count": 31,
     "metadata": {},
     "output_type": "execute_result"
    }
   ],
   "source": [
    "def search2DArray(array:list):\n",
    "    max_val = 0\n",
    "    if len(array) ==0:\n",
    "        return -1\n",
    "    \n",
    "    for row in array:\n",
    "        for column in row:\n",
    "            if max_val < column:\n",
    "                max_val = column\n",
    "\n",
    "    return max_val\n",
    "arr = [[2,3,4],[64,55,22],[-11,-22,-45]]\n",
    "search2DArray(array=arr)"
   ]
  },
  {
   "cell_type": "code",
   "execution_count": 34,
   "metadata": {},
   "outputs": [
    {
     "data": {
      "text/plain": [
       "[[2, 3, 4], [64, 55, 22], [-11, -22, -45]]"
      ]
     },
     "execution_count": 34,
     "metadata": {},
     "output_type": "execute_result"
    }
   ],
   "source": [
    "arr"
   ]
  },
  {
   "cell_type": "code",
   "execution_count": 36,
   "metadata": {},
   "outputs": [
    {
     "data": {
      "text/plain": [
       "4"
      ]
     },
     "execution_count": 36,
     "metadata": {},
     "output_type": "execute_result"
    }
   ],
   "source": [
    "len([[2, 3, 4], [64, 55, 22], [-11, -22, -45,0],[2]])"
   ]
  }
 ],
 "metadata": {
  "kernelspec": {
   "display_name": "Python 3",
   "language": "python",
   "name": "python3"
  },
  "language_info": {
   "codemirror_mode": {
    "name": "ipython",
    "version": 3
   },
   "file_extension": ".py",
   "mimetype": "text/x-python",
   "name": "python",
   "nbconvert_exporter": "python",
   "pygments_lexer": "ipython3",
   "version": "3.11.3"
  },
  "orig_nbformat": 4
 },
 "nbformat": 4,
 "nbformat_minor": 2
}
