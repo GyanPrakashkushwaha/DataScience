{
 "cells": [
  {
   "cell_type": "code",
   "execution_count": 13,
   "metadata": {},
   "outputs": [],
   "source": [
    "def mountain(array:list[int]):\n",
    "    start = 0\n",
    "    end = len(array) -1\n",
    "        \n",
    "    while start < end:\n",
    "        mid = start + (end-start)//2\n",
    "\n",
    "        if array[mid] < array[mid+1]:\n",
    "            start = mid+1\n",
    "        else:\n",
    "            end = mid\n",
    "\n",
    "    return array[start]\n",
    "\n",
    "    "
   ]
  },
  {
   "cell_type": "code",
   "execution_count": 14,
   "metadata": {},
   "outputs": [
    {
     "data": {
      "text/plain": [
       "10"
      ]
     },
     "execution_count": 14,
     "metadata": {},
     "output_type": "execute_result"
    }
   ],
   "source": [
    "mountain([0,10,5,2])"
   ]
  },
  {
   "cell_type": "code",
   "execution_count": 15,
   "metadata": {},
   "outputs": [
    {
     "name": "stdout",
     "output_type": "stream",
     "text": [
      "1\n"
     ]
    }
   ],
   "source": [
    "array = [0,10,5,2]\n",
    "start = 0\n",
    "end = len(array) -1\n",
    "\n",
    "while start < end:\n",
    "  mid = start + (end-start)//2\n",
    "\n",
    "  if array[mid] < array[mid+1]:\n",
    "    start = mid+1\n",
    "  else:\n",
    "    end = mid\n",
    "\n",
    "print(start)\n"
   ]
  }
 ],
 "metadata": {
  "kernelspec": {
   "display_name": "Python 3",
   "language": "python",
   "name": "python3"
  },
  "language_info": {
   "codemirror_mode": {
    "name": "ipython",
    "version": 3
   },
   "file_extension": ".py",
   "mimetype": "text/x-python",
   "name": "python",
   "nbconvert_exporter": "python",
   "pygments_lexer": "ipython3",
   "version": "3.11.3"
  },
  "orig_nbformat": 4
 },
 "nbformat": 4,
 "nbformat_minor": 2
}
