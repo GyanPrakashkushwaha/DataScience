{
 "cells": [
  {
   "cell_type": "code",
   "execution_count": null,
   "metadata": {},
   "outputs": [],
   "source": []
  },
  {
   "cell_type": "code",
   "execution_count": 1,
   "metadata": {},
   "outputs": [
    {
     "name": "stdout",
     "output_type": "stream",
     "text": [
      "hello world\n"
     ]
    }
   ],
   "source": [
    "print('hello world')"
   ]
  },
  {
   "cell_type": "code",
   "execution_count": 2,
   "metadata": {},
   "outputs": [],
   "source": []
  },
  {
   "cell_type": "code",
   "execution_count": 13,
   "metadata": {},
   "outputs": [],
   "source": [
    "def mountain(array:list[int]):\n",
    "    start = 0\n",
    "    end = len(array) -1\n",
    "        \n",
    "    while start < end:\n",
    "        mid = start + (end-start)//2\n",
    "\n",
    "        if array[mid] < array[mid+1]:\n",
    "            start = mid+1\n",
    "        else:\n",
    "            end = mid\n",
    "\n",
    "    return array[start]\n",
    "\n",
    "    "
   ]
  },
  {
   "cell_type": "code",
   "execution_count": 14,
   "metadata": {},
   "outputs": [
    {
     "data": {
      "text/plain": [
       "10"
      ]
     },
     "execution_count": 14,
     "metadata": {},
     "output_type": "execute_result"
    }
   ],
   "source": [
    "mountain([0,10,5,2])"
   ]
  },
  {
   "cell_type": "code",
   "execution_count": 3,
   "metadata": {},
   "outputs": [
    {
     "name": "stdout",
     "output_type": "stream",
     "text": [
      "4\n"
     ]
    }
   ],
   "source": [
    "array = [0, 1, 2, 3, 4, 3, 2, 1, 0]\n",
    "start = 0\n",
    "end = len(array) -1\n",
    "\n",
    "while start < end:\n",
    "  mid = start + (end-start)//2\n",
    "\n",
    "  if array[mid] < array[mid+1]:\n",
    "    start = mid+1\n",
    "  else:\n",
    "    end = mid\n",
    "\n",
    "print(start)\n"
   ]
  },
  {
   "cell_type": "code",
   "execution_count": 1,
   "metadata": {},
   "outputs": [
    {
     "name": "stdout",
     "output_type": "stream",
     "text": [
      "4\n"
     ]
    }
   ],
   "source": [
    "def peak_index_in_mountain_array(arr):\n",
    "  start = 0\n",
    "  end = len(arr) - 1\n",
    "\n",
    "  while start < end:\n",
    "    mid = start + (end - start) // 2\n",
    "    if arr[mid] > arr[mid + 1]:\n",
    "      end = mid\n",
    "    else:\n",
    "      start = mid + 1\n",
    "  return start\n",
    "\n",
    "arr = [0, 1, 2, 3, 4, 3, 2, 1, 0]\n",
    "peak_index = peak_index_in_mountain_array(arr)\n",
    "print(peak_index)  # Output: 4\n"
   ]
  },
  {
   "cell_type": "markdown",
   "metadata": {},
   "source": [
    "## rotated binary search"
   ]
  },
  {
   "cell_type": "code",
   "execution_count": 3,
   "metadata": {},
   "outputs": [
    {
     "name": "stdout",
     "output_type": "stream",
     "text": [
      "7\n"
     ]
    }
   ],
   "source": [
    "def binarySearch(array , value , start , end):\n",
    "  while start <= end:\n",
    "      mid = start + (end-start)//2\n",
    "      if array[mid] == value:\n",
    "          return mid\n",
    "      elif array[mid] < value:\n",
    "          start = mid + 1\n",
    "      else:\n",
    "          end=mid-1\n",
    "  return -1\n",
    "\n",
    "\n",
    "def pivot(arr):\n",
    "  start = 0\n",
    "  end = len(arr) - 1\n",
    "\n",
    "  while start < end:\n",
    "    mid = start + (end - start) // 2\n",
    "    if arr[mid] > arr[mid + 1]:\n",
    "      end = mid\n",
    "    else:\n",
    "      start = mid + 1    \n",
    "  return start\n",
    "\n",
    "\n",
    "def search(array:list[int],target:int):\n",
    "  peak_index = pivot(arr)\n",
    "  if array[peak_index] == target:\n",
    "    return pivot\n",
    "  elif target >= array[0]:\n",
    "     \n",
    "\n",
    "\n"
   ]
  },
  {
   "cell_type": "code",
   "execution_count": 1,
   "metadata": {},
   "outputs": [
    {
     "name": "stdout",
     "output_type": "stream",
     "text": [
      "Original List: [1, 2, 3, 4, 5]\n",
      "Reversed List: [5, 4, 3, 2, 1]\n"
     ]
    }
   ],
   "source": [
    "def reverse(L):\n",
    "    if len(L) <= 1:\n",
    "        return L\n",
    "    else:\n",
    "        return [L[-1]] + reverse(L[:-1])\n",
    "\n",
    "# Example usage:\n",
    "original_list = [1, 2, 3, 4, 5]\n",
    "reversed_list = reverse(original_list)\n",
    "print(\"Original List:\", original_list)\n",
    "print(\"Reversed List:\", reversed_list)\n"
   ]
  },
  {
   "cell_type": "code",
   "execution_count": 4,
   "metadata": {},
   "outputs": [
    {
     "data": {
      "text/plain": [
       "[1, 2, 3, 4]"
      ]
     },
     "execution_count": 4,
     "metadata": {},
     "output_type": "execute_result"
    }
   ],
   "source": [
    "original_list[-1]\n",
    "\n",
    "original_list[:-1]"
   ]
  }
 ],
 "metadata": {
  "kernelspec": {
   "display_name": "Python 3",
   "language": "python",
   "name": "python3"
  },
  "language_info": {
   "codemirror_mode": {
    "name": "ipython",
    "version": 3
   },
   "file_extension": ".py",
   "mimetype": "text/x-python",
   "name": "python",
   "nbconvert_exporter": "python",
   "pygments_lexer": "ipython3",
   "version": "3.11.3"
  },
  "orig_nbformat": 4
 },
 "nbformat": 4,
 "nbformat_minor": 2
}
