{
 "cells": [
  {
   "cell_type": "code",
   "execution_count": 1,
   "metadata": {},
   "outputs": [
    {
     "name": "stdout",
     "output_type": "stream",
     "text": [
      "4\n",
      "6\n",
      "7\n",
      "Searching element is present at the index 7\n"
     ]
    }
   ],
   "source": [
    "def binarySearch(array , value , start , end):\n",
    "    while start <= end:\n",
    "        mid = start + (end-start)//2\n",
    "        if array[mid] == value:\n",
    "            return mid\n",
    "        elif array[mid] < value:\n",
    "            # Without using recursion \n",
    "            start = mid + 1\n",
    "            print(start)\n",
    "        else:\n",
    "            end=mid-1\n",
    "            print(end)\n",
    "    return -1\n",
    "\n",
    "arr = [12, 42, 44, 45, 55, 65, 66, 767]\n",
    "result = binarySearch(array=arr,value=767,start=0,end=len(arr)-1)\n",
    "print(\"Searching element is present at the index\", result)"
   ]
  },
  {
   "cell_type": "markdown",
   "metadata": {},
   "source": [
    "## written by me🤩🤩🤩(by writing everything in copy.)"
   ]
  },
  {
   "cell_type": "code",
   "execution_count": 2,
   "metadata": {},
   "outputs": [
    {
     "name": "stdout",
     "output_type": "stream",
     "text": [
      "True\n",
      "Searching element is present at the index 0\n"
     ]
    }
   ],
   "source": [
    "def binarySearch(array:list,target:int):\n",
    "    start = 0\n",
    "    end = len(array) -1\n",
    "    if len(array) == 0:\n",
    "        return -1\n",
    "    \n",
    "    check = array[start] < array[end]\n",
    "    print(check)\n",
    "    \n",
    "    while(start <= end):\n",
    "        mid = start+(end-start)//2\n",
    "        if array[mid] == target:\n",
    "            return mid\n",
    "        elif array[mid] < target:\n",
    "            start = mid + 1\n",
    "        else:\n",
    "            end = mid-1   \n",
    "           \n",
    "    return -1\n",
    "arr = [12, 42, 44, 45, 55, 65, 66, 767]\n",
    "# binarySearch(array=arr,target=65)\n",
    "print(\"Searching element is present at the index\", binarySearch(array=arr,target=12))"
   ]
  },
  {
   "cell_type": "markdown",
   "metadata": {},
   "source": [
    "## Agnostic Binary Search"
   ]
  },
  {
   "cell_type": "code",
   "execution_count": 3,
   "metadata": {},
   "outputs": [
    {
     "name": "stdout",
     "output_type": "stream",
     "text": [
      "array is : [12, 42, 44, 45, 55, 65, 66, 767]\n",
      "Searching element is present at the index 4\n"
     ]
    }
   ],
   "source": [
    "def binarySearch(array:list,target:int):\n",
    "    start = 0\n",
    "    end = len(array) -1\n",
    "    if len(array) == 0:\n",
    "        return -1\n",
    "    \n",
    "    check = array[start] < array[end]\n",
    "\n",
    "    while(start <= end):\n",
    "        mid = start+(end-start)//2\n",
    "        if array[mid] == target:\n",
    "            return mid\n",
    "        if check is True:\n",
    "            if array[mid] < target:\n",
    "                start = mid + 1\n",
    "            else:\n",
    "                end = mid-1\n",
    "        else:\n",
    "            if array[mid] > target:\n",
    "                start = mid + 1\n",
    "            else:\n",
    "                end = mid-1           \n",
    "    return -1\n",
    "\n",
    "arr = [12, 42, 44, 45, 55, 65, 66, 767]\n",
    "# arr = arr[::-1]\n",
    "# binarySearch(array=arr,target=65)\n",
    "print(f'array is : {arr}')\n",
    "print(\"Searching element is present at the index\", binarySearch(array=arr,target=55))"
   ]
  },
  {
   "cell_type": "code",
   "execution_count": 4,
   "metadata": {},
   "outputs": [
    {
     "data": {
      "text/plain": [
       "[767, 66, 65, 55, 45, 44, 42, 12]"
      ]
     },
     "execution_count": 4,
     "metadata": {},
     "output_type": "execute_result"
    }
   ],
   "source": [
    "arr = [12, 42, 44, 45, 55, 65, 66, 767]\n",
    "arr[::-1]"
   ]
  },
  {
   "cell_type": "code",
   "execution_count": 1,
   "metadata": {},
   "outputs": [],
   "source": [
    "data = ['West Indies', 'West Indies', 'India', 'Australia', 'Pakistan', 'Sri Lanka', 'Australia', 'Australia', 'Australia', 'India', 'Australia', 'England']"
   ]
  },
  {
   "cell_type": "code",
   "execution_count": 2,
   "metadata": {},
   "outputs": [],
   "source": [
    "import pandas as pd"
   ]
  },
  {
   "cell_type": "code",
   "execution_count": 4,
   "metadata": {},
   "outputs": [
    {
     "data": {
      "text/plain": [
       "Australia      5\n",
       "India          2\n",
       "West Indies    2\n",
       "England        1\n",
       "Pakistan       1\n",
       "Sri Lanka      1\n",
       "Name: count, dtype: int64"
      ]
     },
     "execution_count": 4,
     "metadata": {},
     "output_type": "execute_result"
    }
   ],
   "source": [
    "pd.DataFrame(data=data).value_counts()"
   ]
  },
  {
   "cell_type": "code",
   "execution_count": 6,
   "metadata": {},
   "outputs": [],
   "source": [
    "data=[7 ,9, 8, 'x' ,6 ,9, 7 ,5 , 9  ,10 , 7  ,8 , 9  ,8  ,8  ,7  ,10  ,6  ,6  ,9]"
   ]
  },
  {
   "cell_type": "code",
   "execution_count": 15,
   "metadata": {},
   "outputs": [],
   "source": [
    "df = pd.DataFrame(data=data)"
   ]
  },
  {
   "cell_type": "code",
   "execution_count": 29,
   "metadata": {},
   "outputs": [],
   "source": [
    "df.to_csv(path_or_buf='df.csv',index=False)"
   ]
  },
  {
   "cell_type": "code",
   "execution_count": 26,
   "metadata": {},
   "outputs": [
    {
     "data": {
      "text/html": [
       "<div>\n",
       "<style scoped>\n",
       "    .dataframe tbody tr th:only-of-type {\n",
       "        vertical-align: middle;\n",
       "    }\n",
       "\n",
       "    .dataframe tbody tr th {\n",
       "        vertical-align: top;\n",
       "    }\n",
       "\n",
       "    .dataframe thead th {\n",
       "        text-align: right;\n",
       "    }\n",
       "</style>\n",
       "<table border=\"1\" class=\"dataframe\">\n",
       "  <thead>\n",
       "    <tr style=\"text-align: right;\">\n",
       "      <th></th>\n",
       "      <th>0</th>\n",
       "    </tr>\n",
       "  </thead>\n",
       "  <tbody>\n",
       "    <tr>\n",
       "      <th>count</th>\n",
       "      <td>20</td>\n",
       "    </tr>\n",
       "    <tr>\n",
       "      <th>unique</th>\n",
       "      <td>7</td>\n",
       "    </tr>\n",
       "    <tr>\n",
       "      <th>top</th>\n",
       "      <td>9</td>\n",
       "    </tr>\n",
       "    <tr>\n",
       "      <th>freq</th>\n",
       "      <td>5</td>\n",
       "    </tr>\n",
       "  </tbody>\n",
       "</table>\n",
       "</div>"
      ],
      "text/plain": [
       "         0\n",
       "count   20\n",
       "unique   7\n",
       "top      9\n",
       "freq     5"
      ]
     },
     "execution_count": 26,
     "metadata": {},
     "output_type": "execute_result"
    }
   ],
   "source": [
    "df.describe()"
   ]
  }
 ],
 "metadata": {
  "kernelspec": {
   "display_name": "Python 3",
   "language": "python",
   "name": "python3"
  },
  "language_info": {
   "codemirror_mode": {
    "name": "ipython",
    "version": 3
   },
   "file_extension": ".py",
   "mimetype": "text/x-python",
   "name": "python",
   "nbconvert_exporter": "python",
   "pygments_lexer": "ipython3",
   "version": "3.11.3"
  },
  "orig_nbformat": 4
 },
 "nbformat": 4,
 "nbformat_minor": 2
}
