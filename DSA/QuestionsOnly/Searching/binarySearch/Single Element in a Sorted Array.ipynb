{
 "cells": [
  {
   "cell_type": "markdown",
   "metadata": {},
   "source": [
    "# Single Element in a Sorted Array"
   ]
  },
  {
   "cell_type": "code",
   "execution_count": 5,
   "metadata": {},
   "outputs": [],
   "source": [
    "\n",
    "def search(arr):\n",
    "    start = 0\n",
    "    end = len(arr) -1\n",
    "    while start <end:\n",
    "        mid = start + (end -start)//2\n",
    "        if (mid%2 ==0 and arr[mid] == arr[mid+1]) or (mid%2==1 and arr[mid] ==arr[mid-1]):\n",
    "            start = mid +2\n",
    "        else:\n",
    "            end = mid +2\n",
    "    return arr[start]\n",
    "\n",
    "array = [1,1,2,3,3,4,4,8,8]\n",
    "search(array)"
   ]
  },
  {
   "cell_type": "code",
   "execution_count": 6,
   "metadata": {},
   "outputs": [
    {
     "ename": "KeyboardInterrupt",
     "evalue": "",
     "output_type": "error",
     "traceback": [
      "\u001b[1;31m---------------------------------------------------------------------------\u001b[0m",
      "\u001b[1;31mKeyboardInterrupt\u001b[0m                         Traceback (most recent call last)",
      "\u001b[1;32mc:\\Users\\Gyanprakash\\Desktop\\Data-Science\\DSA\\QuestionsOnly\\Searching\\binarySearch\\Single Element in a Sorted Array.ipynb Cell 3\u001b[0m line \u001b[0;36m2\n\u001b[0;32m      <a href='vscode-notebook-cell:/c%3A/Users/Gyanprakash/Desktop/Data-Science/DSA/QuestionsOnly/Searching/binarySearch/Single%20Element%20in%20a%20Sorted%20Array.ipynb#W2sZmlsZQ%3D%3D?line=0'>1</a>\u001b[0m array \u001b[39m=\u001b[39m [\u001b[39m1\u001b[39m,\u001b[39m1\u001b[39m,\u001b[39m2\u001b[39m,\u001b[39m3\u001b[39m,\u001b[39m3\u001b[39m,\u001b[39m4\u001b[39m,\u001b[39m4\u001b[39m,\u001b[39m8\u001b[39m,\u001b[39m8\u001b[39m]\n\u001b[1;32m----> <a href='vscode-notebook-cell:/c%3A/Users/Gyanprakash/Desktop/Data-Science/DSA/QuestionsOnly/Searching/binarySearch/Single%20Element%20in%20a%20Sorted%20Array.ipynb#W2sZmlsZQ%3D%3D?line=1'>2</a>\u001b[0m search(array)\n",
      "\u001b[1;32mc:\\Users\\Gyanprakash\\Desktop\\Data-Science\\DSA\\QuestionsOnly\\Searching\\binarySearch\\Single Element in a Sorted Array.ipynb Cell 3\u001b[0m line \u001b[0;36m6\n\u001b[0;32m      <a href='vscode-notebook-cell:/c%3A/Users/Gyanprakash/Desktop/Data-Science/DSA/QuestionsOnly/Searching/binarySearch/Single%20Element%20in%20a%20Sorted%20Array.ipynb#W2sZmlsZQ%3D%3D?line=3'>4</a>\u001b[0m start \u001b[39m=\u001b[39m \u001b[39m0\u001b[39m\n\u001b[0;32m      <a href='vscode-notebook-cell:/c%3A/Users/Gyanprakash/Desktop/Data-Science/DSA/QuestionsOnly/Searching/binarySearch/Single%20Element%20in%20a%20Sorted%20Array.ipynb#W2sZmlsZQ%3D%3D?line=4'>5</a>\u001b[0m end \u001b[39m=\u001b[39m \u001b[39mlen\u001b[39m(arr) \u001b[39m-\u001b[39m\u001b[39m1\u001b[39m\n\u001b[1;32m----> <a href='vscode-notebook-cell:/c%3A/Users/Gyanprakash/Desktop/Data-Science/DSA/QuestionsOnly/Searching/binarySearch/Single%20Element%20in%20a%20Sorted%20Array.ipynb#W2sZmlsZQ%3D%3D?line=5'>6</a>\u001b[0m \u001b[39mwhile\u001b[39;00m start \u001b[39m<\u001b[39mend:\n\u001b[0;32m      <a href='vscode-notebook-cell:/c%3A/Users/Gyanprakash/Desktop/Data-Science/DSA/QuestionsOnly/Searching/binarySearch/Single%20Element%20in%20a%20Sorted%20Array.ipynb#W2sZmlsZQ%3D%3D?line=6'>7</a>\u001b[0m     mid \u001b[39m=\u001b[39m start \u001b[39m+\u001b[39m (end \u001b[39m-\u001b[39mstart)\u001b[39m/\u001b[39m\u001b[39m/\u001b[39m\u001b[39m2\u001b[39m\n\u001b[0;32m      <a href='vscode-notebook-cell:/c%3A/Users/Gyanprakash/Desktop/Data-Science/DSA/QuestionsOnly/Searching/binarySearch/Single%20Element%20in%20a%20Sorted%20Array.ipynb#W2sZmlsZQ%3D%3D?line=7'>8</a>\u001b[0m     \u001b[39mif\u001b[39;00m (mid\u001b[39m%\u001b[39m\u001b[39m2\u001b[39m \u001b[39m==\u001b[39m\u001b[39m0\u001b[39m \u001b[39mand\u001b[39;00m arr[mid] \u001b[39m==\u001b[39m arr[mid\u001b[39m+\u001b[39m\u001b[39m1\u001b[39m]) \u001b[39mor\u001b[39;00m (mid\u001b[39m%\u001b[39m\u001b[39m2\u001b[39m\u001b[39m==\u001b[39m\u001b[39m1\u001b[39m \u001b[39mand\u001b[39;00m arr[mid] \u001b[39m==\u001b[39marr[mid\u001b[39m-\u001b[39m\u001b[39m1\u001b[39m]):\n",
      "\u001b[1;31mKeyboardInterrupt\u001b[0m: "
     ]
    }
   ],
   "source": []
  },
  {
   "cell_type": "markdown",
   "metadata": {},
   "source": [
    "## optimized one."
   ]
  },
  {
   "cell_type": "code",
   "execution_count": 8,
   "metadata": {},
   "outputs": [
    {
     "name": "stdout",
     "output_type": "stream",
     "text": [
      "10\n"
     ]
    }
   ],
   "source": [
    "def search(arr):\n",
    "    start = 0\n",
    "    end = len(arr) - 1\n",
    "    while start < end:\n",
    "        mid = start + (end - start) // 2\n",
    "        if mid % 2 == 1:\n",
    "            mid -= 1  # Ensure mid is even for a valid comparison\n",
    "        if arr[mid] == arr[mid + 1]:\n",
    "            start = mid + 2\n",
    "        else:\n",
    "            end = mid\n",
    "    return arr[start]\n",
    "\n",
    "array =[3,3,7,7,10,11,11]\n",
    "result = search(array)\n",
    "print(result)\n"
   ]
  },
  {
   "cell_type": "code",
   "execution_count": 9,
   "metadata": {},
   "outputs": [
    {
     "ename": "NameError",
     "evalue": "name 'List' is not defined",
     "output_type": "error",
     "traceback": [
      "\u001b[1;31m---------------------------------------------------------------------------\u001b[0m",
      "\u001b[1;31mNameError\u001b[0m                                 Traceback (most recent call last)",
      "\u001b[1;32mc:\\Users\\Gyanprakash\\Desktop\\Data-Science\\DSA\\QuestionsOnly\\Searching\\binarySearch\\Single Element in a Sorted Array.ipynb Cell 5\u001b[0m line \u001b[0;36m1\n\u001b[1;32m----> <a href='vscode-notebook-cell:/c%3A/Users/Gyanprakash/Desktop/Data-Science/DSA/QuestionsOnly/Searching/binarySearch/Single%20Element%20in%20a%20Sorted%20Array.ipynb#W4sZmlsZQ%3D%3D?line=0'>1</a>\u001b[0m \u001b[39mclass\u001b[39;49;00m \u001b[39mSolution\u001b[39;49;00m:\n\u001b[0;32m      <a href='vscode-notebook-cell:/c%3A/Users/Gyanprakash/Desktop/Data-Science/DSA/QuestionsOnly/Searching/binarySearch/Single%20Element%20in%20a%20Sorted%20Array.ipynb#W4sZmlsZQ%3D%3D?line=1'>2</a>\u001b[0m     \u001b[39mdef\u001b[39;49;00m \u001b[39msingleNonDuplicate\u001b[39;49m(\u001b[39mself\u001b[39;49m, nums: List[\u001b[39mint\u001b[39;49m]) \u001b[39m-\u001b[39;49m\u001b[39m>\u001b[39;49m \u001b[39mint\u001b[39;49m:\n\u001b[0;32m      <a href='vscode-notebook-cell:/c%3A/Users/Gyanprakash/Desktop/Data-Science/DSA/QuestionsOnly/Searching/binarySearch/Single%20Element%20in%20a%20Sorted%20Array.ipynb#W4sZmlsZQ%3D%3D?line=2'>3</a>\u001b[0m             start \u001b[39m=\u001b[39;49m \u001b[39m0\u001b[39;49m\n",
      "\u001b[1;32mc:\\Users\\Gyanprakash\\Desktop\\Data-Science\\DSA\\QuestionsOnly\\Searching\\binarySearch\\Single Element in a Sorted Array.ipynb Cell 5\u001b[0m line \u001b[0;36m2\n\u001b[0;32m      <a href='vscode-notebook-cell:/c%3A/Users/Gyanprakash/Desktop/Data-Science/DSA/QuestionsOnly/Searching/binarySearch/Single%20Element%20in%20a%20Sorted%20Array.ipynb#W4sZmlsZQ%3D%3D?line=0'>1</a>\u001b[0m \u001b[39mclass\u001b[39;00m \u001b[39mSolution\u001b[39;00m:\n\u001b[1;32m----> <a href='vscode-notebook-cell:/c%3A/Users/Gyanprakash/Desktop/Data-Science/DSA/QuestionsOnly/Searching/binarySearch/Single%20Element%20in%20a%20Sorted%20Array.ipynb#W4sZmlsZQ%3D%3D?line=1'>2</a>\u001b[0m     \u001b[39mdef\u001b[39;00m \u001b[39msingleNonDuplicate\u001b[39m(\u001b[39mself\u001b[39m, nums: List[\u001b[39mint\u001b[39m]) \u001b[39m-\u001b[39m\u001b[39m>\u001b[39m \u001b[39mint\u001b[39m:\n\u001b[0;32m      <a href='vscode-notebook-cell:/c%3A/Users/Gyanprakash/Desktop/Data-Science/DSA/QuestionsOnly/Searching/binarySearch/Single%20Element%20in%20a%20Sorted%20Array.ipynb#W4sZmlsZQ%3D%3D?line=2'>3</a>\u001b[0m             start \u001b[39m=\u001b[39m \u001b[39m0\u001b[39m\n\u001b[0;32m      <a href='vscode-notebook-cell:/c%3A/Users/Gyanprakash/Desktop/Data-Science/DSA/QuestionsOnly/Searching/binarySearch/Single%20Element%20in%20a%20Sorted%20Array.ipynb#W4sZmlsZQ%3D%3D?line=3'>4</a>\u001b[0m             end \u001b[39m=\u001b[39m \u001b[39mlen\u001b[39m(arr) \u001b[39m-\u001b[39m \u001b[39m1\u001b[39m\n",
      "\u001b[1;31mNameError\u001b[0m: name 'List' is not defined"
     ]
    }
   ],
   "source": [
    "class Solution:\n",
    "    def singleNonDuplicate(self, nums: List[int]) -> int:\n",
    "        start = 0\n",
    "        end = len(nums) - 1\n",
    "        while start < end:\n",
    "            mid = start + (end - start) // 2\n",
    "            if mid % 2 == 1:\n",
    "                mid -= 1  # Ensure mid is even for a valid comparison\n",
    "            if nums[mid] == nums[mid + 1]:\n",
    "                start = mid + 2\n",
    "            else:\n",
    "                end = mid\n",
    "        return nums[start]\n",
    "        "
   ]
  },
  {
   "cell_type": "code",
   "execution_count": null,
   "metadata": {},
   "outputs": [],
   "source": []
  },
  {
   "cell_type": "code",
   "execution_count": null,
   "metadata": {},
   "outputs": [],
   "source": []
  },
  {
   "cell_type": "code",
   "execution_count": null,
   "metadata": {},
   "outputs": [],
   "source": []
  },
  {
   "cell_type": "code",
   "execution_count": null,
   "metadata": {},
   "outputs": [],
   "source": []
  },
  {
   "cell_type": "code",
   "execution_count": null,
   "metadata": {},
   "outputs": [],
   "source": []
  },
  {
   "cell_type": "code",
   "execution_count": null,
   "metadata": {},
   "outputs": [],
   "source": []
  },
  {
   "cell_type": "code",
   "execution_count": null,
   "metadata": {},
   "outputs": [],
   "source": []
  },
  {
   "cell_type": "code",
   "execution_count": null,
   "metadata": {},
   "outputs": [],
   "source": []
  },
  {
   "cell_type": "code",
   "execution_count": null,
   "metadata": {},
   "outputs": [],
   "source": []
  },
  {
   "cell_type": "code",
   "execution_count": null,
   "metadata": {},
   "outputs": [],
   "source": []
  },
  {
   "cell_type": "code",
   "execution_count": null,
   "metadata": {},
   "outputs": [],
   "source": []
  },
  {
   "cell_type": "code",
   "execution_count": null,
   "metadata": {},
   "outputs": [],
   "source": []
  }
 ],
 "metadata": {
  "kernelspec": {
   "display_name": "Python 3",
   "language": "python",
   "name": "python3"
  },
  "language_info": {
   "codemirror_mode": {
    "name": "ipython",
    "version": 3
   },
   "file_extension": ".py",
   "mimetype": "text/x-python",
   "name": "python",
   "nbconvert_exporter": "python",
   "pygments_lexer": "ipython3",
   "version": "3.11.3"
  }
 },
 "nbformat": 4,
 "nbformat_minor": 2
}
