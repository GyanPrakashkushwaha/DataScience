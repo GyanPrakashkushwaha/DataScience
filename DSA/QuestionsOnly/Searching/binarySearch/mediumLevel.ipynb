{
 "cells": [
  {
   "cell_type": "markdown",
   "metadata": {},
   "source": [
    "## Find First and Last Position of Element in Sorted Array\n",
    "https://leetcode.com/problems/find-first-and-last-position-of-element-in-sorted-array/description/"
   ]
  },
  {
   "cell_type": "markdown",
   "metadata": {},
   "source": [
    "```Python\n",
    "Given an array of integers nums sorted in non-decreasing order, find the starting and ending position of a given target value.\n",
    "\n",
    "If target is not found in the array, return [-1, -1].\n",
    "\n",
    "You must write an algorithm with O(log n) runtime complexity.\n",
    "\n",
    "```"
   ]
  },
  {
   "cell_type": "code",
   "execution_count": null,
   "metadata": {},
   "outputs": [],
   "source": [
    "class Solution:\n",
    "    def searchRange(self, nums: list[int], target: int) -> list[int]:\n",
    "        ans = [-1, -1]\n",
    "        # Find the first occurrence of the target element.\n",
    "        ans[0] = self.search(nums, target, True)\n",
    "        if ans[0] != -1:\n",
    "            # Find the last occurrence of the target element.\n",
    "            ans[1] = self.search(nums, target, False)\n",
    "        return ans\n",
    "\n",
    "\n",
    "    def search(self,nums, target, find_start_index):\n",
    "        ans = -1\n",
    "        start = 0\n",
    "        end = len(nums) - 1\n",
    "        while start <= end:\n",
    "            # Find the middle element.\n",
    "            mid = (start + end) // 2\n",
    "            if target < nums[mid]:\n",
    "                end = mid - 1\n",
    "            elif target > nums[mid]:\n",
    "                start = mid + 1\n",
    "            else:\n",
    "                # Potential answer found.\n",
    "                ans = mid\n",
    "                if find_start_index:\n",
    "                    end = mid - 1\n",
    "                else:\n",
    "                    start = mid + 1\n",
    "        return ans\n",
    "        \n",
    "\n",
    "      "
   ]
  },
  {
   "cell_type": "code",
   "execution_count": 10,
   "metadata": {},
   "outputs": [
    {
     "data": {
      "text/plain": [
       "[-1, -1]"
      ]
     },
     "execution_count": 10,
     "metadata": {},
     "output_type": "execute_result"
    }
   ],
   "source": [
    "ans= [-1,-1]\n",
    "ans"
   ]
  },
  {
   "cell_type": "code",
   "execution_count": 19,
   "metadata": {},
   "outputs": [
    {
     "name": "stdout",
     "output_type": "stream",
     "text": [
      "[8, 9]\n"
     ]
    }
   ],
   "source": [
    "def search_range(nums, target):\n",
    "    \"\"\"Finds the first and last positions of a target element in a sorted array.\n",
    "\n",
    "  Args:\n",
    "    nums: A sorted array of integers.\n",
    "    target: The target element to search for.\n",
    "\n",
    "  Returns:\n",
    "    A list of two integers, where the first element is the first occurrence of the\n",
    "    target element in the array, and the second element is the last occurrence of the\n",
    "    target element in the array. If the target element is not found in the array,\n",
    "    then the list will contain two -1 values.\n",
    "  \"\"\"\n",
    "\n",
    "    ans = [-1, -1]\n",
    "    # Find the first occurrence of the target element.\n",
    "    ans[0] = search(nums, target, True)\n",
    "    if ans[0] != -1:\n",
    "        # Find the last occurrence of the target element.\n",
    "        ans[1] = search(nums, target, False)\n",
    "    return ans\n",
    "\n",
    "\n",
    "def search(nums, target, find_start_index):\n",
    "    \"\"\"Finds the index of a target element in a sorted array.\n",
    "\n",
    "  Args:\n",
    "    nums: A sorted array of integers.\n",
    "    target: The target element to search for.\n",
    "    find_start_index: A boolean value indicating whether to find the start index\n",
    "      of the target element (True) or the end index (False).\n",
    "\n",
    "  Returns:\n",
    "    The index of the target element in the array, or -1 if the target element\n",
    "    is not found in the array.\n",
    "  \"\"\"\n",
    "\n",
    "    ans = -1\n",
    "    start = 0\n",
    "    end = len(nums) - 1\n",
    "    while start <= end:\n",
    "        # Find the middle element.\n",
    "        mid = (start + end) // 2\n",
    "        if target < nums[mid]:\n",
    "            end = mid - 1\n",
    "        elif target > nums[mid]:\n",
    "            start = mid + 1\n",
    "        else:\n",
    "            # Potential answer found.\n",
    "            ans = mid\n",
    "            if find_start_index:\n",
    "                end = mid - 1\n",
    "            else:\n",
    "                start = mid + 1\n",
    "    return ans\n",
    "\n",
    "\n",
    "if __name__ == '__main__':\n",
    "    nums = [1, 2, 2, 2, 2, 3, 4, 7, 8, 8]\n",
    "    target = 8\n",
    "    ans = search_range(nums, target)\n",
    "    print(ans)\n"
   ]
  },
  {
   "cell_type": "code",
   "execution_count": null,
   "metadata": {},
   "outputs": [],
   "source": []
  },
  {
   "cell_type": "code",
   "execution_count": null,
   "metadata": {},
   "outputs": [],
   "source": []
  },
  {
   "cell_type": "code",
   "execution_count": null,
   "metadata": {},
   "outputs": [],
   "source": []
  }
 ],
 "metadata": {
  "kernelspec": {
   "display_name": "Python 3",
   "language": "python",
   "name": "python3"
  },
  "language_info": {
   "codemirror_mode": {
    "name": "ipython",
    "version": 3
   },
   "file_extension": ".py",
   "mimetype": "text/x-python",
   "name": "python",
   "nbconvert_exporter": "python",
   "pygments_lexer": "ipython3",
   "version": "3.11.3"
  },
  "orig_nbformat": 4
 },
 "nbformat": 4,
 "nbformat_minor": 2
}
