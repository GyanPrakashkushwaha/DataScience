{
 "cells": [
  {
   "cell_type": "markdown",
   "metadata": {},
   "source": [
    "## Find First and Last Position of Element in Sorted Array\n",
    "https://leetcode.com/problems/find-first-and-last-position-of-element-in-sorted-array/description/"
   ]
  },
  {
   "cell_type": "code",
   "execution_count": null,
   "metadata": {},
   "outputs": [],
   "source": []
  },
  {
   "cell_type": "markdown",
   "metadata": {},
   "source": [
    "```Python\n",
    "Given an array of integers nums sorted in non-decreasing order, find the starting and ending position of a given target value.\n",
    "\n",
    "If target is not found in the array, return [-1, -1].\n",
    "\n",
    "You must write an algorithm with O(log n) runtime complexity.\n",
    "\n",
    "```"
   ]
  },
  {
   "cell_type": "code",
   "execution_count": null,
   "metadata": {},
   "outputs": [],
   "source": [
    "First Normal Form (1NF):\n",
    "\n",
    " Ensures atomicity and eliminates repeating groups, making data retrieval and manipulation more straightforward. It lays the foundation for further normalization.\n",
    "Second Normal Form (2NF):\n",
    "\n",
    " Removes partial dependencies, ensuring that each non-key attribute is fully dependent on the primary key. This prevents data anomalies and simplifies data maintenance.\n",
    "Third Normal Form (3NF):\n",
    "\n",
    " Eliminates transitive dependencies, reducing redundancy and ensuring data consistency. It helps in maintaining data integrity and facilitates efficient data retrieval.\n",
    "Boyce-Codd Normal Form (BCNF):\n",
    "\n",
    " Further eliminates anomalies related to functional dependencies, ensuring that each determinant is a candidate key. It improves data integrity and reduces the risk of data anomalies.\n",
    "Fourth Normal Form (4NF):\n",
    "\n",
    " Addresses multi-valued dependencies, ensuring that data is stored efficiently without unnecessary duplication. It enhances data organization and reduces redundancy, leading to more streamlined database operations."
   ]
  },
  {
   "cell_type": "code",
   "execution_count": 9,
   "metadata": {},
   "outputs": [
    {
     "name": "stdout",
     "output_type": "stream",
     "text": [
      "4\n"
     ]
    }
   ],
   "source": [
    "target = 5 # floor\n",
    "L:list[int] = [3,4,5,3,34,4443,5,65,33,22]\n",
    "L = sorted(L)\n",
    "low = 0\n",
    "high = len(L) -1\n",
    "\n",
    "while low <= high:\n",
    "    mid = (low+high)//2\n",
    "    if L[mid] == target:\n",
    "        print(mid)\n",
    "        break\n",
    "    elif L[mid] < target:\n",
    "        low = mid+1\n",
    "    else:\n",
    "        high = mid-1\n",
    "    \n",
    "# else:\n",
    "#     L[high]"
   ]
  },
  {
   "cell_type": "code",
   "execution_count": null,
   "metadata": {},
   "outputs": [],
   "source": [
    "class Solution:\n",
    "    def searchRange(self, nums: list[int], target: int) -> list[int]:\n",
    "        ans = [-1, -1]\n",
    "        # Find the first occurrence of the target element.\n",
    "        ans[0] = self.search(nums, target, True)\n",
    "        if ans[0] != -1:\n",
    "            # Find the last occurrence of the target element.\n",
    "            ans[1] = self.search(nums, target, False)\n",
    "        return ans\n",
    "\n",
    "\n",
    "    def search(self,nums, target, find_start_index):\n",
    "        ans = -1\n",
    "        start = 0\n",
    "        end = len(nums) - 1\n",
    "        while start <= end:\n",
    "            # Find the middle element.\n",
    "            mid = (start + end) // 2\n",
    "            if target < nums[mid]:\n",
    "                end = mid - 1\n",
    "            elif target > nums[mid]:\n",
    "                start = mid + 1\n",
    "            else:\n",
    "                # Potential answer found.\n",
    "                ans = mid\n",
    "                if find_start_index:\n",
    "                    end = mid - 1\n",
    "                else:\n",
    "                    start = mid + 1\n",
    "        return ans     "
   ]
  },
  {
   "cell_type": "code",
   "execution_count": 10,
   "metadata": {},
   "outputs": [
    {
     "data": {
      "text/plain": [
       "[-1, -1]"
      ]
     },
     "execution_count": 10,
     "metadata": {},
     "output_type": "execute_result"
    }
   ],
   "source": [
    "ans= [-1,-1]\n",
    "ans"
   ]
  },
  {
   "cell_type": "code",
   "execution_count": 19,
   "metadata": {},
   "outputs": [
    {
     "name": "stdout",
     "output_type": "stream",
     "text": [
      "[8, 9]\n"
     ]
    }
   ],
   "source": [
    "def search_range(nums, target):\n",
    "    \"\"\"Finds the first and last positions of a target element in a sorted array.\n",
    "\n",
    "  Args:\n",
    "    nums: A sorted array of integers.\n",
    "    target: The target element to search for.\n",
    "\n",
    "  Returns:\n",
    "    A list of two integers, where the first element is the first occurrence of the\n",
    "    target element in the array, and the second element is the last occurrence of the\n",
    "    target element in the array. If the target element is not found in the array,\n",
    "    then the list will contain two -1 values.\n",
    "  \"\"\"\n",
    "\n",
    "    ans = [-1, -1]\n",
    "    # Find the first occurrence of the target element.\n",
    "    ans[0] = search(nums, target, True)\n",
    "    if ans[0] != -1:\n",
    "        # Find the last occurrence of the target element.\n",
    "        ans[1] = search(nums, target, False)\n",
    "    return ans\n",
    "\n",
    "\n",
    "def search(nums, target, find_start_index):\n",
    "    \"\"\"Finds the index of a target element in a sorted array.\n",
    "\n",
    "  Args:\n",
    "    nums: A sorted array of integers.\n",
    "    target: The target element to search for.\n",
    "    find_start_index: A boolean value indicating whether to find the start index\n",
    "      of the target element (True) or the end index (False).\n",
    "\n",
    "  Returns:\n",
    "    The index of the target element in the array, or -1 if the target element\n",
    "    is not found in the array.\n",
    "  \"\"\"\n",
    "\n",
    "    ans = -1\n",
    "    start = 0\n",
    "    end = len(nums) - 1\n",
    "    while start <= end:\n",
    "        # Find the middle element.\n",
    "        mid = (start + end) // 2\n",
    "        if target < nums[mid]:\n",
    "            end = mid - 1\n",
    "        elif target > nums[mid]:\n",
    "            start = mid + 1\n",
    "        else:\n",
    "            # Potential answer found.\n",
    "            ans = mid\n",
    "            if find_start_index:\n",
    "                end = mid - 1\n",
    "            else:\n",
    "                start = mid + 1\n",
    "    return ans\n",
    "\n",
    "\n",
    "if __name__ == '__main__':\n",
    "    nums = [1, 2, 2, 2, 2, 3, 4, 7, 8, 8]\n",
    "    target = 8\n",
    "    ans = search_range(nums, target)\n",
    "    print(ans)\n"
   ]
  },
  {
   "cell_type": "markdown",
   "metadata": {},
   "source": [
    "> ## Kth Missing Positive Number"
   ]
  },
  {
   "cell_type": "code",
   "execution_count": 10,
   "metadata": {},
   "outputs": [
    {
     "data": {
      "text/plain": [
       "9"
      ]
     },
     "execution_count": 10,
     "metadata": {},
     "output_type": "execute_result"
    }
   ],
   "source": [
    "def findKthNum(array:list[int],kthValIndex:int):\n",
    "    start = 0\n",
    "    end = len(array) -1\n",
    "\n",
    "    while start < end:\n",
    "        mid = start+(end-start)//2\n",
    "        missing = array[mid] - mid-1\n",
    "        if missing >= kthValIndex:\n",
    "            end = mid-1\n",
    "        else:\n",
    "            start = mid+1\n",
    "    return start +kthValIndex\n",
    "\n",
    "arr = [2,3,4,7,11]\n",
    "findKthNum(arr,5)"
   ]
  },
  {
   "cell_type": "code",
   "execution_count": 5,
   "metadata": {},
   "outputs": [
    {
     "name": "stdout",
     "output_type": "stream",
     "text": [
      "9\n"
     ]
    }
   ],
   "source": [
    "def findKthNum(array: list[int], kthValIndex: int):\n",
    "    start = 0\n",
    "    end = len(array) - 1\n",
    "\n",
    "    while start < end:\n",
    "        mid = start + (end - start) // 2\n",
    "        missing = array[mid] - mid - 1\n",
    "        if missing >= kthValIndex:\n",
    "            end = mid - 1\n",
    "        else:\n",
    "            start = mid + 1\n",
    "\n",
    "    # Now start points to the kth missing number\n",
    "    return start + kthValIndex\n",
    "\n",
    "arr = [2, 3, 4, 7, 11]\n",
    "result = findKthNum(arr, 5)\n",
    "print(result)  # This will print 9 (the 5th missing number in the array)\n"
   ]
  },
  {
   "cell_type": "code",
   "execution_count": 12,
   "metadata": {},
   "outputs": [],
   "source": [
    "class Solution:\n",
    "    def findKthPositive(self, arr: List[int], k: int) -> int:\n",
    "        start = 0\n",
    "        end = len(arr) -1\n",
    "\n",
    "        while start < end:\n",
    "            mid = start+(end-start)//2\n",
    "            missing = arr[mid] - mid-1\n",
    "            if missing >= k:\n",
    "                end = mid-1\n",
    "            else:\n",
    "                start = mid+1\n",
    "        return start +k\n",
    "        "
   ]
  },
  {
   "cell_type": "code",
   "execution_count": 13,
   "metadata": {},
   "outputs": [
    {
     "name": "stdout",
     "output_type": "stream",
     "text": [
      "6\n"
     ]
    }
   ],
   "source": [
    "from typing import List\n",
    "\n",
    "class Solution:\n",
    "    def findKthPositive(self, arr: List[int], k: int) -> int:\n",
    "        start = 0\n",
    "        end = len(arr) - 1\n",
    "\n",
    "        while start <= end:\n",
    "            mid = start + (end - start) // 2\n",
    "            missing = arr[mid] - mid - 1\n",
    "            if missing >= k:\n",
    "                end = mid - 1\n",
    "            else:\n",
    "                start = mid + 1\n",
    "\n",
    "        # After the loop, start points to the kth missing number\n",
    "        return start + k\n",
    "\n",
    "# Test case\n",
    "arr = [1, 2, 3, 4]\n",
    "k = 2\n",
    "solution = Solution()\n",
    "result = solution.findKthPositive(arr, k)\n",
    "print(result)  # This will print 6, which is the expected output\n"
   ]
  },
  {
   "cell_type": "code",
   "execution_count": null,
   "metadata": {},
   "outputs": [],
   "source": []
  },
  {
   "cell_type": "code",
   "execution_count": null,
   "metadata": {},
   "outputs": [],
   "source": []
  },
  {
   "cell_type": "code",
   "execution_count": 8,
   "metadata": {},
   "outputs": [
    {
     "name": "stdout",
     "output_type": "stream",
     "text": [
      "3\n",
      "90\n",
      "1\n",
      "30\n"
     ]
    }
   ],
   "source": [
    "print(10890//3600)\n",
    "remainder = 10890%3600\n",
    "print(remainder)\n",
    "minut = remainder//60\n",
    "print(minut)\n",
    "print(remainder%60)"
   ]
  },
  {
   "cell_type": "code",
   "execution_count": 2,
   "metadata": {},
   "outputs": [],
   "source": [
    "class Student:\n",
    "    count = 0\n",
    "    def __init__(self, name, roll, maths, physics, chemistry):\n",
    "        Student.count += 1\n",
    "        self.roll = roll\n",
    "        self.name = name\n",
    "        self.maths = maths\n",
    "        self.physics = physics\n",
    "        self.chemistry = chemistry\n",
    "\n",
    "class Group:\n",
    "    def __init__(self):\n",
    "        self.members = [ ]\n",
    "\n",
    "    def add(self, student):\n",
    "        self.members.append(student)\n",
    "\n",
    "    def print_members(self):\n",
    "        for student in self.members:\n",
    "            print(student.name)\n",
    "            \n",
    "\n",
    "student = Student('Anish')"
   ]
  }
 ],
 "metadata": {
  "kernelspec": {
   "display_name": "Python 3",
   "language": "python",
   "name": "python3"
  },
  "language_info": {
   "codemirror_mode": {
    "name": "ipython",
    "version": 3
   },
   "file_extension": ".py",
   "mimetype": "text/x-python",
   "name": "python",
   "nbconvert_exporter": "python",
   "pygments_lexer": "ipython3",
   "version": "3.11.4"
  },
  "orig_nbformat": 4
 },
 "nbformat": 4,
 "nbformat_minor": 2
}
