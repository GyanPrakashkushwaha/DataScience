{
 "cells": [
  {
   "cell_type": "code",
   "execution_count": 1,
   "metadata": {},
   "outputs": [],
   "source": [
    "array = [2,7,11,15]"
   ]
  },
  {
   "cell_type": "code",
   "execution_count": 4,
   "metadata": {},
   "outputs": [],
   "source": [
    "def searchEndAndLast(array , start ,end , target):\n",
    "    while(start<=end):\n",
    "        mid = start -(end-start)//2\n",
    "        if array[mid] < target:\n",
    "            end = mid\n",
    "        else:\n",
    "            end = mid-1\n",
    "    return [start , end]"
   ]
  },
  {
   "cell_type": "code",
   "execution_count": 8,
   "metadata": {},
   "outputs": [],
   "source": [
    "array = [2,7,11,15]\n",
    "start = 0\n",
    "end = len(array) -1\n",
    "target = 9\n",
    "\n",
    "start , end = searchEndAndLast(array=array,start=start,end=end,target=target)\n",
    "\n",
    "if array[start] + array[end] == target:\n",
    "    print(start , end)"
   ]
  },
  {
   "cell_type": "code",
   "execution_count": null,
   "metadata": {},
   "outputs": [],
   "source": []
  }
 ],
 "metadata": {
  "kernelspec": {
   "display_name": "Python 3",
   "language": "python",
   "name": "python3"
  },
  "language_info": {
   "codemirror_mode": {
    "name": "ipython",
    "version": 3
   },
   "file_extension": ".py",
   "mimetype": "text/x-python",
   "name": "python",
   "nbconvert_exporter": "python",
   "pygments_lexer": "ipython3",
   "version": "3.11.3"
  }
 },
 "nbformat": 4,
 "nbformat_minor": 2
}
