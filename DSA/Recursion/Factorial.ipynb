{
 "cells": [
  {
   "cell_type": "code",
   "execution_count": 5,
   "metadata": {},
   "outputs": [
    {
     "name": "stdout",
     "output_type": "stream",
     "text": [
      "120\n"
     ]
    }
   ],
   "source": [
    "def findFactorial(num):\n",
    "    if num ==0 or num==1:\n",
    "        return 1\n",
    "    else:\n",
    "        return num*findFactorial(num-1)\n",
    "\n",
    "num = 5\n",
    "print(findFactorial(num))"
   ]
  },
  {
   "cell_type": "code",
   "execution_count": 7,
   "metadata": {},
   "outputs": [
    {
     "name": "stdout",
     "output_type": "stream",
     "text": [
      "120\n"
     ]
    }
   ],
   "source": [
    "def findFactorial(num):\n",
    "    factorial = 1\n",
    "    if num ==0 or num==1:\n",
    "        return 1\n",
    "    else:\n",
    "        factorial = num*findFactorial(num-1)\n",
    "        return factorial\n",
    "\n",
    "num = 5\n",
    "print(findFactorial(num))"
   ]
  },
  {
   "cell_type": "code",
   "execution_count": 9,
   "metadata": {},
   "outputs": [
    {
     "name": "stdout",
     "output_type": "stream",
     "text": [
      "120\n"
     ]
    }
   ],
   "source": [
    "def findFactorial(num):\n",
    "    factorial = 1\n",
    "    if num ==0 or num==1:\n",
    "        return 1\n",
    "    else:\n",
    "        for i in range(2,num+1):\n",
    "            factorial = factorial*i\n",
    "        return factorial\n",
    "\n",
    "num = 5\n",
    "print(findFactorial(num))"
   ]
  }
 ],
 "metadata": {
  "kernelspec": {
   "display_name": "Python 3",
   "language": "python",
   "name": "python3"
  },
  "language_info": {
   "codemirror_mode": {
    "name": "ipython",
    "version": 3
   },
   "file_extension": ".py",
   "mimetype": "text/x-python",
   "name": "python",
   "nbconvert_exporter": "python",
   "pygments_lexer": "ipython3",
   "version": "3.11.3"
  },
  "orig_nbformat": 4
 },
 "nbformat": 4,
 "nbformat_minor": 2
}
