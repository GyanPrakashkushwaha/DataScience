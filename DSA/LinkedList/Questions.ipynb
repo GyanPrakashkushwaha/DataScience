{
 "cells": [
  {
   "attachments": {},
   "cell_type": "markdown",
   "metadata": {},
   "source": [
    "You are given two non-empty linked lists representing two non-negative integers. The digits are stored in reverse order, and each of their nodes contains a single digit. Add the two numbers and return the sum as a linked list.\n",
    "\n",
    "\n",
    "![image.png](attachment:image.png)"
   ]
  },
  {
   "cell_type": "code",
   "execution_count": 1,
   "metadata": {},
   "outputs": [],
   "source": [
    "# Definition for singly-linked list.\n",
    "class ListNode(object):\n",
    "    def __init__(self, val=0, next=None):\n",
    "        self.val = val\n",
    "        self.next = next\n",
    "class Solution(object):\n",
    "    def addTwoNumbers(self, l1, l2):\n",
    "        \n",
    "        carry = 0\n",
    "        return_list = ListNode()\n",
    "        head = return_list\n",
    "\n",
    "        while l1 or l2 or carry:\n",
    "            curr_sum = 0\n",
    "            if l1:\n",
    "                curr_sum +=l1.val\n",
    "            if l2:\n",
    "                curr_sum +=l2.val\n",
    "            \n",
    "\n",
    "        "
   ]
  },
  {
   "cell_type": "code",
   "execution_count": 2,
   "metadata": {},
   "outputs": [
    {
     "name": "stdout",
     "output_type": "stream",
     "text": [
      "dc\n"
     ]
    }
   ],
   "source": [
    "s = \"abdce\"\n",
    "print ( s[ 2 : -1 ]) "
   ]
  },
  {
   "cell_type": "code",
   "execution_count": 3,
   "metadata": {},
   "outputs": [
    {
     "name": "stdout",
     "output_type": "stream",
     "text": [
      "20\n"
     ]
    }
   ],
   "source": [
    "values = [\"1\", \"10\", \"20\", \"2\"]\n",
    "greatest = max(values)\n",
    "print(greatest)\n"
   ]
  },
  {
   "cell_type": "code",
   "execution_count": 4,
   "metadata": {},
   "outputs": [
    {
     "name": "stdout",
     "output_type": "stream",
     "text": [
      "15\n"
     ]
    }
   ],
   "source": [
    "def func(n):\n",
    "    if n == 1 :\n",
    "        return 2\n",
    "\n",
    "    return n*func(n-1) // 2\n",
    "print(func(5))"
   ]
  },
  {
   "cell_type": "code",
   "execution_count": 5,
   "metadata": {},
   "outputs": [
    {
     "name": "stdout",
     "output_type": "stream",
     "text": [
      "2IA\n"
     ]
    }
   ],
   "source": [
    "def func(s):\n",
    "    if len(s) <= 1:\n",
    "        return s\n",
    "    return func(s[ 2 : ]) + s[0]\n",
    "print( func( \"AeI123\" ) )  "
   ]
  },
  {
   "cell_type": "code",
   "execution_count": 6,
   "metadata": {},
   "outputs": [],
   "source": [
    "def func(arr , start, end) :\n",
    "\n",
    "    if start == end :\n",
    "\n",
    "        print( arr[ start ] )\n",
    "\n",
    "        return\n",
    "\n",
    "    mid = (start + end)//2\n",
    "\n",
    "    print( arr[mid] )\n",
    "\n",
    "    func(arr, start, mid - 1 )\n",
    " \n",
    "    func( arr, mid + 1, end )"
   ]
  }
 ],
 "metadata": {
  "kernelspec": {
   "display_name": "Python 3",
   "language": "python",
   "name": "python3"
  },
  "language_info": {
   "codemirror_mode": {
    "name": "ipython",
    "version": 3
   },
   "file_extension": ".py",
   "mimetype": "text/x-python",
   "name": "python",
   "nbconvert_exporter": "python",
   "pygments_lexer": "ipython3",
   "version": "3.11.3"
  },
  "orig_nbformat": 4
 },
 "nbformat": 4,
 "nbformat_minor": 2
}
