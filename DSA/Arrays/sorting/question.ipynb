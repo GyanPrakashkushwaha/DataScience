{
 "cells": [
  {
   "attachments": {},
   "cell_type": "markdown",
   "metadata": {},
   "source": [
    "# Questons"
   ]
  },
  {
   "cell_type": "markdown",
   "metadata": {},
   "source": [
    "## 1st approach - Difficult one"
   ]
  },
  {
   "cell_type": "code",
   "execution_count": 2,
   "metadata": {},
   "outputs": [
    {
     "name": "stdout",
     "output_type": "stream",
     "text": [
      "The maximum profit of buy and sell the stock is: 19\n"
     ]
    }
   ],
   "source": [
    "class Solution:\n",
    "    def maxProfit(self, prices):\n",
    "        left = 0  # Index to buy the stock\n",
    "        right = 1  # Index to sell the stock\n",
    "        max_profit = 0  # Variable to store the maximum profit\n",
    "\n",
    "        while right < len(prices):\n",
    "            # Calculate the current profit\n",
    "            currentProfit = prices[right] - prices[left]\n",
    "\n",
    "            if prices[left] < prices[right]:\n",
    "                # If the current selling price is greater than the buying price,\n",
    "                # update the maximum profit if necessary\n",
    "                max_profit = max(currentProfit, max_profit)\n",
    "            else:\n",
    "                # If the current selling price is less than or equal to the buying price,\n",
    "                # update the left index to the current right index\n",
    "                # (indicating a potential new buying point)\n",
    "                left = right\n",
    "\n",
    "            right += 1  # Move the right index to the next day\n",
    "\n",
    "        return max_profit\n",
    "\n",
    "solution = Solution()\n",
    "\n",
    "prices = [7, 1, 5, 3, 6, 4, 15, 20]\n",
    "# Function calling\n",
    "maxProfit = solution.maxProfit(prices)\n",
    "print(\"The maximum profit of buying and selling the stock is:\", maxProfit)\n"
   ]
  },
  {
   "cell_type": "markdown",
   "metadata": {},
   "source": [
    "## 2nd approach- easy than before solution"
   ]
  },
  {
   "cell_type": "code",
   "execution_count": 3,
   "metadata": {},
   "outputs": [
    {
     "name": "stdout",
     "output_type": "stream",
     "text": [
      "The maximum profit of buy and sell the stock is: 19\n"
     ]
    }
   ],
   "source": [
    "def findMaxProfit(prices):\n",
    "    min_price = float('inf')\n",
    "    max_profit = 0\n",
    "\n",
    "    for i in range(len(prices)):\n",
    "        # this if condition only for checking minimum price\n",
    "        if prices[i] < min_price:\n",
    "            min_price = prices[i]\n",
    "        # this condition is for checking the max profit\n",
    "        elif prices[i] - min_price > max_profit:\n",
    "            max_profit = prices[i] - min_price\n",
    "\n",
    "    return max_profit\n",
    "\n",
    "\n",
    "prices = [7,1,5,3,6,4,15,20]\n",
    "## function calling\n",
    "maxProfit = findMaxProfit(prices)\n",
    "print(\"The maximum profit of buy and sell the stock is:\", maxProfit)"
   ]
  },
  {
   "cell_type": "markdown",
   "metadata": {},
   "source": [
    "## 3rd approach - easy than above solution"
   ]
  },
  {
   "cell_type": "code",
   "execution_count": 4,
   "metadata": {},
   "outputs": [
    {
     "name": "stdout",
     "output_type": "stream",
     "text": [
      "The maximum profit of buy and sell the stock is: 21\n"
     ]
    }
   ],
   "source": [
    "def findMaxProfit(prices):\n",
    "    min_price = min(prices)\n",
    "    max_profit = 0\n",
    "    \n",
    "    for i in range(len(prices)):\n",
    "        # this condition is for checking the max profit\n",
    "        if prices[i] - min_price > max_profit:\n",
    "            max_profit = prices[i] - min_price\n",
    "    return max_profit\n",
    "\n",
    "\n",
    "prices = [7,1,5,3,6,4,15,20,22]\n",
    "## function calling\n",
    "maxProfit = findMaxProfit(prices)\n",
    "print(\"The maximum profit of buy and sell the stock is:\", maxProfit)"
   ]
  },
  {
   "attachments": {},
   "cell_type": "markdown",
   "metadata": {},
   "source": [
    "## last approach -most easy solution"
   ]
  },
  {
   "cell_type": "code",
   "execution_count": 5,
   "metadata": {},
   "outputs": [
    {
     "name": "stdout",
     "output_type": "stream",
     "text": [
      "The maximum profit of buy and sell the stock is: 19\n"
     ]
    }
   ],
   "source": [
    "def findMaxProfit(prices):\n",
    "    min_price = min(prices)\n",
    "    max_price = max(prices)\n",
    "    max_profit = max_price - min_price\n",
    "    return max_profit\n",
    "\n",
    "prices = [7,5,3,6,4,15,20,22]\n",
    "## function calling\n",
    "maxProfit = findMaxProfit(prices)\n",
    "print(\"The maximum profit of buy and sell the stock is:\", maxProfit)\n"
   ]
  }
 ],
 "metadata": {
  "kernelspec": {
   "display_name": "Python 3",
   "language": "python",
   "name": "python3"
  },
  "language_info": {
   "codemirror_mode": {
    "name": "ipython",
    "version": 3
   },
   "file_extension": ".py",
   "mimetype": "text/x-python",
   "name": "python",
   "nbconvert_exporter": "python",
   "pygments_lexer": "ipython3",
   "version": "3.11.3"
  },
  "orig_nbformat": 4
 },
 "nbformat": 4,
 "nbformat_minor": 2
}
