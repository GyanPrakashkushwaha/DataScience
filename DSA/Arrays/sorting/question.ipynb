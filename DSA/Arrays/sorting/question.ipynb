{
 "cells": [
  {
   "attachments": {},
   "cell_type": "markdown",
   "metadata": {},
   "source": [
    "# Questons"
   ]
  },
  {
   "attachments": {},
   "cell_type": "markdown",
   "metadata": {},
   "source": [
    "## last approach -most easy solution(my Approch😂)"
   ]
  },
  {
   "cell_type": "code",
   "execution_count": 12,
   "metadata": {},
   "outputs": [
    {
     "name": "stdout",
     "output_type": "stream",
     "text": [
      "The maximum profit of buying and selling the stock is: 19\n"
     ]
    }
   ],
   "source": [
    "def myApproch_maxPrice(prices):\n",
    "    # Find the minimum price in the given list of prices\n",
    "    min_price = min(prices)\n",
    "\n",
    "    # Find the maximum price in the given list of prices\n",
    "    max_price = max(prices)\n",
    "\n",
    "    # Calculate the maximum profit by subtracting the minimum price from the maximum price\n",
    "    max_profit = max_price - min_price\n",
    "\n",
    "    # Return the maximum profit\n",
    "    return max_profit\n",
    "\n",
    "# List of stock prices\n",
    "prices = [7, 5, 3, 6, 4, 15, 20, 22]\n",
    "\n",
    "# Call the myApproch_maxPrice function and store the result in maxProfit\n",
    "maxProfit = myApproch_maxPrice(prices)\n",
    "\n",
    "# Print the maximum profit\n",
    "print(\"The maximum profit of buying and selling the stock is:\", maxProfit)\n"
   ]
  },
  {
   "attachments": {},
   "cell_type": "markdown",
   "metadata": {},
   "source": [
    "## 3rd approach - easy than below solution"
   ]
  },
  {
   "cell_type": "code",
   "execution_count": 8,
   "metadata": {},
   "outputs": [
    {
     "name": "stdout",
     "output_type": "stream",
     "text": [
      "The maximum profit of buy and sell the stock is: 21\n"
     ]
    }
   ],
   "source": [
    "def findMaxProfit(prices):\n",
    "    # Find the minimum price in the given list of prices\n",
    "    min_price = min(prices)\n",
    "    \n",
    "    # Initialize the maximum profit to 0\n",
    "    max_profit = 0\n",
    "    \n",
    "    # Iterate through the prices list\n",
    "    for i in range(len(prices)):\n",
    "        # Check if the difference between the current price and the minimum price is greater than the current maximum profit\n",
    "        if prices[i] - min_price > max_profit:\n",
    "            # Update the maximum profit if the condition is met\n",
    "            max_profit = prices[i] - min_price\n",
    "    \n",
    "    # Return the maximum profit\n",
    "    return max_profit\n",
    "\n",
    "\n",
    "# Example input\n",
    "prices = [7, 1, 5, 3, 6, 4, 15, 20, 22]\n",
    "\n",
    "# Call the findMaxProfit function\n",
    "maxProfit = findMaxProfit(prices)\n",
    "\n",
    "# Print the maximum profit\n",
    "print(\"The maximum profit of buying and selling the stock is:\", maxProfit)\n"
   ]
  },
  {
   "attachments": {},
   "cell_type": "markdown",
   "metadata": {},
   "source": [
    "## 2nd approach- easy than below solution"
   ]
  },
  {
   "cell_type": "code",
   "execution_count": 7,
   "metadata": {},
   "outputs": [
    {
     "name": "stdout",
     "output_type": "stream",
     "text": [
      "The maximum profit of buy and sell the stock is: 19\n"
     ]
    }
   ],
   "source": [
    "def findMaxProfit(prices):\n",
    "    # Initialize min_price to positive infinity and max_profit to 0\n",
    "    min_price = float('inf')\n",
    "    max_profit = 0\n",
    "\n",
    "    # Iterate over the prices list\n",
    "    for i in range(len(prices)):\n",
    "        # Check if the current price is lower than the current minimum price\n",
    "        if prices[i] < min_price:\n",
    "            min_price = prices[i]  # Update the minimum price\n",
    "        \n",
    "        # Check if the difference between the current price and the minimum price\n",
    "        # is greater than the current maximum profit\n",
    "        elif prices[i] - min_price > max_profit:\n",
    "            max_profit = prices[i] - min_price  # Update the maximum profit\n",
    "\n",
    "    # Return the maximum profit\n",
    "    return max_profit\n",
    "\n",
    "\n",
    "# Test input prices\n",
    "prices = [7, 1, 5, 3, 6, 4, 15, 20]\n",
    "\n",
    "# Call the findMaxProfit function\n",
    "maxProfit = findMaxProfit(prices)\n",
    "print(\"The maximum profit of buy and sell the stock is:\", maxProfit)"
   ]
  },
  {
   "cell_type": "markdown",
   "metadata": {},
   "source": [
    "## 1st approach - Difficult one"
   ]
  },
  {
   "cell_type": "code",
   "execution_count": 6,
   "metadata": {},
   "outputs": [
    {
     "name": "stdout",
     "output_type": "stream",
     "text": [
      "The maximum profit of buying and selling the stock is: 19\n"
     ]
    }
   ],
   "source": [
    "class Solution:\n",
    "    def maxProfit(self, prices):\n",
    "        left = 0  # Index to buy the stock\n",
    "        right = 1  # Index to sell the stock\n",
    "        max_profit = 0  # Variable to store the maximum profit\n",
    "\n",
    "        while right < len(prices):\n",
    "            # Calculate the current profit\n",
    "            currentProfit = prices[right] - prices[left]\n",
    "\n",
    "            if prices[left] < prices[right]:\n",
    "                # If the current selling price is greater than the buying price,\n",
    "                # update the maximum profit if necessary\n",
    "                max_profit = max(currentProfit, max_profit)\n",
    "            else:\n",
    "                # If the current selling price is less than or equal to the buying price,\n",
    "                # update the left index to the current right index\n",
    "                # (indicating a potential new buying point)\n",
    "                left = right\n",
    "\n",
    "            right += 1  # Move the right index to the next day\n",
    "\n",
    "        return max_profit\n",
    "\n",
    "solution = Solution()\n",
    "\n",
    "prices = [7, 1, 5, 3, 6, 4, 15, 20]\n",
    "# Function calling\n",
    "maxProfit = solution.maxProfit(prices)\n",
    "print(\"The maximum profit of buying and selling the stock is:\", maxProfit)\n"
   ]
  }
 ],
 "metadata": {
  "kernelspec": {
   "display_name": "Python 3",
   "language": "python",
   "name": "python3"
  },
  "language_info": {
   "codemirror_mode": {
    "name": "ipython",
    "version": 3
   },
   "file_extension": ".py",
   "mimetype": "text/x-python",
   "name": "python",
   "nbconvert_exporter": "python",
   "pygments_lexer": "ipython3",
   "version": "3.11.3"
  },
  "orig_nbformat": 4
 },
 "nbformat": 4,
 "nbformat_minor": 2
}
