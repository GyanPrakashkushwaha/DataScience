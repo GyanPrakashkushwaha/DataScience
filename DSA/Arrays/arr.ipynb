{
 "cells": [
  {
   "cell_type": "code",
   "execution_count": 1,
   "metadata": {},
   "outputs": [],
   "source": [
    "# class Solution(object):\n",
    "#     def maxProfit(self, prices):\n",
    "#         min_price = 0\n",
    "#         # print('min_prjjice',min_price)\n",
    "#         profit = 0\n",
    "#         for i in range(len(prices)):\n",
    "#             min_price = min(prices)\n",
    "#             print('min_price',min_price)\n",
    "#             print('i -',i)\n",
    "#             profit = max(prices) - min_price\n",
    "#             print('profit- ' ,profit)\n",
    "#             print(' max(prices)',  max(prices))\n",
    "\n",
    "#             print('='*23)\n",
    "\n",
    "#         return profit\n",
    "\n",
    "        \n",
    "# prices = [7,1,5,3,6,4]\n",
    "\n",
    "# solu = Solution()\n",
    "# solu.maxProfit(prices)"
   ]
  },
  {
   "cell_type": "code",
   "execution_count": 2,
   "metadata": {},
   "outputs": [],
   "source": [
    "# max(prices)\n"
   ]
  },
  {
   "cell_type": "code",
   "execution_count": null,
   "metadata": {},
   "outputs": [],
   "source": []
  }
 ],
 "metadata": {
  "kernelspec": {
   "display_name": "Python 3",
   "language": "python",
   "name": "python3"
  },
  "language_info": {
   "codemirror_mode": {
    "name": "ipython",
    "version": 3
   },
   "file_extension": ".py",
   "mimetype": "text/x-python",
   "name": "python",
   "nbconvert_exporter": "python",
   "pygments_lexer": "ipython3",
   "version": "3.11.3"
  },
  "orig_nbformat": 4
 },
 "nbformat": 4,
 "nbformat_minor": 2
}
