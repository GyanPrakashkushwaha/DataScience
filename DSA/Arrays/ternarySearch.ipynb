{
 "cells": [
  {
   "attachments": {},
   "cell_type": "markdown",
   "metadata": {},
   "source": [
    "# Ternary Search"
   ]
  },
  {
   "cell_type": "code",
   "execution_count": 16,
   "metadata": {},
   "outputs": [
    {
     "name": "stdout",
     "output_type": "stream",
     "text": [
      "Searching element is present at index: 4\n"
     ]
    }
   ],
   "source": [
    "def ternarySearch(left , right , value , array):\n",
    "    while left <= right:\n",
    "        mid1 = left + (right-left)//3\n",
    "        mid2 = right - (right - left)//3\n",
    "        \n",
    "        if array[mid1] == value:\n",
    "            return mid1\n",
    "        elif array[mid2] == value:\n",
    "            return mid2\n",
    "        \n",
    "        # this is 1st space\n",
    "        elif array[mid1] > value:\n",
    "            right = mid1 - 1\n",
    "\n",
    "        # this is 3rd space\n",
    "        elif array[mid2] < value:\n",
    "            left = mid2 + 1\n",
    "        \n",
    "        # this is 2nd space\n",
    "        else:\n",
    "            return ternarySearch(mid1+1, mid2-1, value, array)\n",
    "        \n",
    "    return -1\n",
    "\n",
    "\n",
    "arr = [1, 2, 3, 4, 5, 6, 7, 8, 9, 10]\n",
    "result = ternarySearch(left=0 , right= len(arr)-1 , value=5 , array= arr)\n",
    "print(\"Searching element is present at index:\", result)\n",
    "        "
   ]
  },
  {
   "cell_type": "code",
   "execution_count": null,
   "metadata": {},
   "outputs": [],
   "source": []
  },
  {
   "cell_type": "code",
   "execution_count": null,
   "metadata": {},
   "outputs": [],
   "source": []
  },
  {
   "cell_type": "code",
   "execution_count": null,
   "metadata": {},
   "outputs": [],
   "source": []
  },
  {
   "cell_type": "code",
   "execution_count": null,
   "metadata": {},
   "outputs": [],
   "source": []
  }
 ],
 "metadata": {
  "kernelspec": {
   "display_name": "Python 3",
   "language": "python",
   "name": "python3"
  },
  "language_info": {
   "codemirror_mode": {
    "name": "ipython",
    "version": 3
   },
   "file_extension": ".py",
   "mimetype": "text/x-python",
   "name": "python",
   "nbconvert_exporter": "python",
   "pygments_lexer": "ipython3",
   "version": "3.11.3"
  },
  "orig_nbformat": 4
 },
 "nbformat": 4,
 "nbformat_minor": 2
}
