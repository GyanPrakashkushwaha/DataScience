{
 "cells": [
  {
   "cell_type": "code",
   "execution_count": 3,
   "id": "612a4b6c",
   "metadata": {},
   "outputs": [
    {
     "name": "stdout",
     "output_type": "stream",
     "text": [
      "[0, 0, 1, 1, 2, 2]\n"
     ]
    }
   ],
   "source": [
    "## Time Complexity : O(n)\n",
    "## Space Complexity: O(1)\n",
    "## Method definition of sort colors\n",
    "def sortColors(nums):\n",
    "    p0 = curr = 0\n",
    "    p2 = len(nums) - 1\n",
    "    \n",
    "    while curr <= p2:\n",
    "        if nums[curr] == 0:\n",
    "            ## swap nums[curr] and nums[p0]\n",
    "            nums[p0], nums[curr] = nums[curr], nums[p0]\n",
    "            p0 += 1\n",
    "            curr += 1\n",
    "        elif nums[curr] == 2:\n",
    "            ## swap nums[curr] and nums[p2]\n",
    "            nums[p2], nums[curr] = nums[curr], nums[p2]\n",
    "            p2 -= 1\n",
    "        else:\n",
    "            curr += 1\n",
    "    return nums\n",
    "\n",
    "## Driver code\n",
    "nums = [0, 2, 1, 1, 0, 2]\n",
    "result = sortColors(nums)\n",
    "print(result)"
   ]
  },
  {
   "cell_type": "code",
   "execution_count": null,
   "id": "6a08207c",
   "metadata": {},
   "outputs": [],
   "source": []
  }
 ],
 "metadata": {
  "kernelspec": {
   "display_name": "Python 3 (ipykernel)",
   "language": "python",
   "name": "python3"
  },
  "language_info": {
   "codemirror_mode": {
    "name": "ipython",
    "version": 3
   },
   "file_extension": ".py",
   "mimetype": "text/x-python",
   "name": "python",
   "nbconvert_exporter": "python",
   "pygments_lexer": "ipython3",
   "version": "3.9.12"
  }
 },
 "nbformat": 4,
 "nbformat_minor": 5
}
