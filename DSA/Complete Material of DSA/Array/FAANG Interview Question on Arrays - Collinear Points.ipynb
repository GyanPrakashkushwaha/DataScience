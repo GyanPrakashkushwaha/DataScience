{
 "cells": [
  {
   "cell_type": "code",
   "execution_count": 2,
   "id": "e56c7802",
   "metadata": {},
   "outputs": [
    {
     "name": "stdout",
     "output_type": "stream",
     "text": [
      "Given points are non-collinear\n"
     ]
    }
   ],
   "source": [
    "## Approach 1: Using slope concept\n",
    "## TC: O(1)\n",
    "## SC: O(1)\n",
    "## Method definition\n",
    "def iscollinearPoints(x1, x2, x3, y1, y2, y3):\n",
    "    if((y2 - y1)*(x3 - x2) == (y3 - y2)*(x2 - x1)):\n",
    "        print(\"Given points are collinear\")\n",
    "    else:\n",
    "        print(\"Given points are non-collinear\")\n",
    "\n",
    "## Driver code\n",
    "x1, x2, x3, y1, y2, y3 = 1, 2, 3, 6, 0, 9\n",
    "iscollinearPoints(x1, x2, x3, y1, y2, y3)"
   ]
  },
  {
   "cell_type": "code",
   "execution_count": 6,
   "id": "97dd7211",
   "metadata": {},
   "outputs": [
    {
     "name": "stdout",
     "output_type": "stream",
     "text": [
      "Given points are collinear\n"
     ]
    }
   ],
   "source": [
    "## Approach 2: Using area of triangle\n",
    "## TC: O(1)\n",
    "## SC: O(1)\n",
    "def iscollinearPoints(x1, x2, x3, y1, y2, y3):\n",
    "    area = 0.5 * (x1 * (y2 - y3) + x2 * (y3 - y1) + x3 * (y1 - y2))\n",
    "    if area == 0:\n",
    "        print(\"Given points are collinear\")\n",
    "    else:\n",
    "        print(\"Given points are non-collinear\")\n",
    "        \n",
    "## Driver code\n",
    "x1, x2, x3, y1, y2, y3 = 1, 1, 1, 6, 0, 9\n",
    "iscollinearPoints(x1, x2, x3, y1, y2, y3)"
   ]
  },
  {
   "cell_type": "code",
   "execution_count": null,
   "id": "b8a8b632",
   "metadata": {},
   "outputs": [],
   "source": []
  }
 ],
 "metadata": {
  "kernelspec": {
   "display_name": "Python 3 (ipykernel)",
   "language": "python",
   "name": "python3"
  },
  "language_info": {
   "codemirror_mode": {
    "name": "ipython",
    "version": 3
   },
   "file_extension": ".py",
   "mimetype": "text/x-python",
   "name": "python",
   "nbconvert_exporter": "python",
   "pygments_lexer": "ipython3",
   "version": "3.9.12"
  }
 },
 "nbformat": 4,
 "nbformat_minor": 5
}
