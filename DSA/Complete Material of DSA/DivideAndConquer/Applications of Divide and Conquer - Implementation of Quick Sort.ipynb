{
 "cells": [
  {
   "cell_type": "code",
   "execution_count": 7,
   "id": "2bc677be",
   "metadata": {},
   "outputs": [
    {
     "name": "stdout",
     "output_type": "stream",
     "text": [
      "Sorted array after applying the quickSort is: [5, 10, 20, 34, 50, 70, 89]\n"
     ]
    }
   ],
   "source": [
    "## Implementation using the quickSort algorithm\n",
    "## Recurrence Relation -> T(n) = T(m-p) + T(q-m) + n\n",
    "## Best Case Scenario -> T(n) = T(n/2) + T(n/2) + n => O(n logn)\n",
    "## Worst Case Scenario -> T(n) = T(n-1) + n => O(n^2)\n",
    "## function definition of partition algorithm -> O(n)\n",
    "def partition(arr, p, q):\n",
    "    i = p\n",
    "    ## starting element as a pivot element\n",
    "    pivot = arr[p]\n",
    "    for j in range(i+1, q+1):\n",
    "        if arr[j] <= pivot:\n",
    "            i += 1\n",
    "            ## swap between the arr[i] and arr[j]\n",
    "            arr[i], arr[j] = arr[j], arr[i]\n",
    "    ## swap between the arr[i] and the pivot element\n",
    "    arr[i], arr[p] = arr[p], arr[i]\n",
    "    return i\n",
    "\n",
    "## function definition of quickSort\n",
    "def quickSort(arr, p, q):\n",
    "    if p < q:\n",
    "        ## function calling for partition algorithm\n",
    "        mid = partition(arr, p, q)\n",
    "        ## recursive call for left subtree\n",
    "        ## T(mid-p)\n",
    "        quickSort(arr, p, mid-1)\n",
    "        ## recursive call for right subtree\n",
    "        ## T(q-mid)\n",
    "        quickSort(arr, mid+1, q)\n",
    "    return arr\n",
    "\n",
    "## Driver code\n",
    "arr = [20, 10, 5, 70, 50, 89, 34]\n",
    "p = 0\n",
    "q = len(arr) - 1\n",
    "## function calling\n",
    "result = quickSort(arr, p, q)\n",
    "print(\"Sorted array after applying the quickSort is:\", result)"
   ]
  },
  {
   "cell_type": "code",
   "execution_count": null,
   "id": "b0ea2449",
   "metadata": {},
   "outputs": [],
   "source": []
  }
 ],
 "metadata": {
  "kernelspec": {
   "display_name": "Python 3 (ipykernel)",
   "language": "python",
   "name": "python3"
  },
  "language_info": {
   "codemirror_mode": {
    "name": "ipython",
    "version": 3
   },
   "file_extension": ".py",
   "mimetype": "text/x-python",
   "name": "python",
   "nbconvert_exporter": "python",
   "pygments_lexer": "ipython3",
   "version": "3.9.12"
  }
 },
 "nbformat": 4,
 "nbformat_minor": 5
}
