{
 "cells": [
  {
   "cell_type": "code",
   "execution_count": 8,
   "id": "eb9a5793",
   "metadata": {},
   "outputs": [
    {
     "name": "stdout",
     "output_type": "stream",
     "text": [
      "Maximum and Minimum element in an array is: 100000 -2\n"
     ]
    }
   ],
   "source": [
    "## Using Divide and Conquer Approach\n",
    "## Time Complexity : O(n)\n",
    "## function definition\n",
    "def findMaxandMin(arr, i, j):\n",
    "    ## small problem \n",
    "    ## single element present in an array\n",
    "    if i == j:\n",
    "        max_val = arr[i]\n",
    "        min_val = arr[i]\n",
    "    ## two element present in an array\n",
    "    elif i == j - 1:\n",
    "        if arr[i] < arr[j]:\n",
    "            max_val = arr[j]\n",
    "            min_val = arr[i]\n",
    "        else:\n",
    "            max_val = arr[i]\n",
    "            min_val = arr[j]\n",
    "    ## big problem -> Divide and Conquer Approach\n",
    "    else:\n",
    "        ## Divide\n",
    "        mid = i + (j-i)//2\n",
    "        ## Recursion -> conquer\n",
    "        max_l, min_l = findMaxandMin(arr, i, mid)\n",
    "        max_r, min_r = findMaxandMin(arr, mid+1, j)\n",
    "        ## combine\n",
    "        ## to find the final max_val\n",
    "        if max_l < max_r:\n",
    "            max_val = max_r\n",
    "        else:\n",
    "            max_val = max_l\n",
    "        ## to find the final min_val\n",
    "        if min_l < min_r:\n",
    "            min_val = min_l\n",
    "        else:\n",
    "            min_val = min_r\n",
    "        \n",
    "    return max_val, min_val\n",
    "        \n",
    "## Driver code\n",
    "arr = [10, 70, 45, 16, 29, 30, 35, 20, 100000, -2]\n",
    "i = 0\n",
    "j = len(arr) - 1\n",
    "## function calling\n",
    "max_val, min_val = findMaxandMin(arr, i, j)\n",
    "print(\"Maximum and Minimum element in an array is:\", max_val, min_val)"
   ]
  },
  {
   "cell_type": "code",
   "execution_count": null,
   "id": "82ed8a1c",
   "metadata": {},
   "outputs": [],
   "source": []
  }
 ],
 "metadata": {
  "kernelspec": {
   "display_name": "Python 3 (ipykernel)",
   "language": "python",
   "name": "python3"
  },
  "language_info": {
   "codemirror_mode": {
    "name": "ipython",
    "version": 3
   },
   "file_extension": ".py",
   "mimetype": "text/x-python",
   "name": "python",
   "nbconvert_exporter": "python",
   "pygments_lexer": "ipython3",
   "version": "3.9.12"
  }
 },
 "nbformat": 4,
 "nbformat_minor": 5
}
