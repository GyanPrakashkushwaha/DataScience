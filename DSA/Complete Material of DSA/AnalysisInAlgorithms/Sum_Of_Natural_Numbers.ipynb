{
  "nbformat": 4,
  "nbformat_minor": 0,
  "metadata": {
    "colab": {
      "name": "Sum_Of_Natural_Numbers.ipynb",
      "provenance": []
    },
    "kernelspec": {
      "name": "python3",
      "display_name": "Python 3"
    },
    "language_info": {
      "name": "python"
    }
  },
  "cells": [
    {
      "cell_type": "code",
      "source": [
        "def sum_of_numbers(lst):\n",
        "  total = 0\n",
        "  for i in range(len(lst)):\n",
        "    total = total + lst[i]\n",
        "  return total\n",
        "\n",
        "\n",
        "lst = [1, 2, 3, 4, 5]\n",
        "result = sum_of_numbers(lst)\n",
        "print(\"Sum of top 5 natural numbers is\", result)"
      ],
      "metadata": {
        "colab": {
          "base_uri": "https://localhost:8080/"
        },
        "id": "MCbdz_vKWJiR",
        "outputId": "edd3fbf8-ee19-4d32-b6d4-dd969c7e39f6"
      },
      "execution_count": 7,
      "outputs": [
        {
          "output_type": "stream",
          "name": "stdout",
          "text": [
            "Sum of top 5 natural numbers is 15\n"
          ]
        }
      ]
    },
    {
      "cell_type": "code",
      "source": [
        "def sum_of_numbers(lst):\n",
        "  n = len(lst)\n",
        "  total = (n * (n+1))/2\n",
        "  return total\n",
        "\n",
        "\n",
        "lst = [1, 2, 3, 4, 5]\n",
        "result = sum_of_numbers(lst)\n",
        "print(\"Sum of top 5 natural numbers is\", result)"
      ],
      "metadata": {
        "colab": {
          "base_uri": "https://localhost:8080/"
        },
        "id": "7h0xoJS3aQdX",
        "outputId": "bf30336b-e07f-4370-8180-2e51beb5855b"
      },
      "execution_count": 8,
      "outputs": [
        {
          "output_type": "stream",
          "name": "stdout",
          "text": [
            "Sum of top 5 natural numbers is 15.0\n"
          ]
        }
      ]
    },
    {
      "cell_type": "code",
      "source": [
        ""
      ],
      "metadata": {
        "id": "Ta0H1fzTabye"
      },
      "execution_count": null,
      "outputs": []
    }
  ]
}