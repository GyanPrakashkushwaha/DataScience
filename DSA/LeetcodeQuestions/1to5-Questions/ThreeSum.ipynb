{
 "cells": [
  {
   "attachments": {},
   "cell_type": "markdown",
   "metadata": {},
   "source": [
    "# Three Sum Question"
   ]
  },
  {
   "cell_type": "code",
   "execution_count": 2,
   "metadata": {},
   "outputs": [],
   "source": [
    "# def threeSum(nums, target):\n",
    "#     n = len(nums)\n",
    "#     nums.sort()\n",
    "#     result = []\n",
    "\n",
    "#     for i in range(n-3):\n",
    "#         if i > 0 and nums[i] == nums[i -1]:\n",
    "#             continue\n",
    "\n",
    "#         for j in range(i+1 , n-2):\n",
    "#             if j > i + \n"
   ]
  },
  {
   "attachments": {},
   "cell_type": "markdown",
   "metadata": {},
   "source": [
    "## Question 2"
   ]
  },
  {
   "cell_type": "code",
   "execution_count": 5,
   "metadata": {},
   "outputs": [
    {
     "name": "stdout",
     "output_type": "stream",
     "text": [
      "[5, 4, 23, 45]\n"
     ]
    }
   ],
   "source": [
    "def reverse_array(array):\n",
    "    start = 1\n",
    "    end = len(array) - 1\n",
    "\n",
    "    while start < end:\n",
    "        array[start], array[end] = array[end], array[start]\n",
    "        start += 1\n",
    "        end -= 1\n",
    "    return array\n",
    "\n",
    "arr = [5, 45, 23, 4]\n",
    "reverse_array(arr)\n",
    "print(arr)\n"
   ]
  },
  {
   "attachments": {},
   "cell_type": "markdown",
   "metadata": {},
   "source": [
    "## Question 3"
   ]
  },
  {
   "cell_type": "code",
   "execution_count": 8,
   "metadata": {},
   "outputs": [
    {
     "name": "stdout",
     "output_type": "stream",
     "text": [
      "[1, 2, 3, 4, 6, 7, 8, 10, 11]\n"
     ]
    }
   ],
   "source": [
    "def mergeAndSortArray(arr1, arr2):\n",
    "    merged_arr = []\n",
    "    arr1_n = 0\n",
    "    arr2_n = 0\n",
    "\n",
    "    while arr1_n < len(arr1) and arr2_n < len(arr2):\n",
    "        if arr1[arr1_n] < arr2[arr2_n]:\n",
    "            merged_arr.append(arr1[arr1_n])\n",
    "            arr1_n += 1\n",
    "        else:\n",
    "            merged_arr.append(arr2[arr2_n])\n",
    "            arr2_n += 1\n",
    "\n",
    "    # Handle remaining elements in arr1, if any\n",
    "    while arr1_n < len(arr1):\n",
    "        merged_arr.append(arr1[arr1_n])\n",
    "        arr1_n += 1\n",
    "\n",
    "    # Handle remaining elements in arr2, if any\n",
    "    while arr2_n < len(arr2):\n",
    "        merged_arr.append(arr2[arr2_n])\n",
    "        arr2_n += 1\n",
    "\n",
    "    return merged_arr\n",
    "\n",
    "arr1 = [1, 3, 6, 8]\n",
    "arr2 = [2, 4, 7, 10, 11]\n",
    "result = mergeAndSortArray(arr1, arr2)\n",
    "print(result)\n"
   ]
  },
  {
   "attachments": {},
   "cell_type": "markdown",
   "metadata": {},
   "source": [
    "## Question 3 - Move Zeroes\n",
    "Given an integer array nums, move all 0's to the end of it while maintaining the relative order of the non-zero elements.\n",
    "\n",
    "Note that you must do this in-place without making a copy of the array.\n",
    "\n",
    " \n",
    "\n",
    "```Example 1:\n",
    "\n",
    "Input: nums = [0,1,0,3,12]\n",
    "Output: [1,3,12,0,0]\n",
    "Example 2:\n",
    "\n",
    "Input: nums = [0]\n",
    "Output: [0]\n",
    "```"
   ]
  },
  {
   "cell_type": "code",
   "execution_count": null,
   "metadata": {},
   "outputs": [],
   "source": [
    "def move_zeros(nums):\n",
    "    while \n",
    "\n",
    "nums = [0,1,0,3,12]"
   ]
  },
  {
   "cell_type": "code",
   "execution_count": null,
   "metadata": {},
   "outputs": [],
   "source": []
  },
  {
   "cell_type": "code",
   "execution_count": null,
   "metadata": {},
   "outputs": [],
   "source": []
  }
 ],
 "metadata": {
  "kernelspec": {
   "display_name": "Python 3",
   "language": "python",
   "name": "python3"
  },
  "language_info": {
   "codemirror_mode": {
    "name": "ipython",
    "version": 3
   },
   "file_extension": ".py",
   "mimetype": "text/x-python",
   "name": "python",
   "nbconvert_exporter": "python",
   "pygments_lexer": "ipython3",
   "version": "3.11.3"
  },
  "orig_nbformat": 4
 },
 "nbformat": 4,
 "nbformat_minor": 2
}
