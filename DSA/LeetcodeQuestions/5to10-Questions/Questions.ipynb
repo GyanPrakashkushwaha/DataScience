{
 "cells": [
  {
   "attachments": {},
   "cell_type": "markdown",
   "metadata": {},
   "source": [
    "> ## Question 1 \n",
    "> ### Longest Subarray of 1's After Deleting One Element\n",
    "\n",
    "Given a binary array nums, you should delete one element from it.\n",
    "\n",
    "Return the size of the longest non-empty subarray containing only 1's in the resulting array. Return 0 if there is no such subarray.\n",
    "\n",
    " \n",
    "```\n",
    "Example 1:\n",
    "\n",
    "Input: nums = [1,1,0,1]\n",
    "Output: 3\n",
    "Explanation: After deleting the number in position 2, [1,1,1] contains 3 numbers with value of 1's.\n",
    "\n",
    "```"
   ]
  },
  {
   "cell_type": "code",
   "execution_count": null,
   "metadata": {},
   "outputs": [],
   "source": [
    "# def deletingOneElementSubarray(nums):\n",
    "\n",
    "#     while"
   ]
  }
 ],
 "metadata": {
  "language_info": {
   "name": "python"
  },
  "orig_nbformat": 4
 },
 "nbformat": 4,
 "nbformat_minor": 2
}
