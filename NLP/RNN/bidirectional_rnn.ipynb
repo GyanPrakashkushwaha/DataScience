{
 "cells": [
  {
   "cell_type": "code",
   "execution_count": 43,
   "metadata": {},
   "outputs": [],
   "source": [
    "import pandas as pd\n",
    "import numpy as np\n",
    "import matplotlib.pyplot as plt\n",
    "%matplotlib inline \n",
    "import seaborn as sns\n",
    "import random\n",
    "import os\n",
    "from sklearn.model_selection import train_test_split"
   ]
  },
  {
   "cell_type": "code",
   "execution_count": 44,
   "metadata": {},
   "outputs": [
    {
     "name": "stdout",
     "output_type": "stream",
     "text": [
      "c:\\Users\\Gyanprakash\\Desktop\\Data-Science\\NLP\n"
     ]
    }
   ],
   "source": [
    "print(os.getcwd())\n",
    "os.chdir('c:\\\\Users\\\\Gyanprakash\\\\Desktop\\\\Data-Science\\\\NLP')"
   ]
  },
  {
   "cell_type": "code",
   "execution_count": 45,
   "metadata": {},
   "outputs": [],
   "source": [
    "df = pd.read_csv(r'LSTM/fake_news_classifier/train.csv')"
   ]
  },
  {
   "cell_type": "code",
   "execution_count": 46,
   "metadata": {},
   "outputs": [],
   "source": [
    "def random_values(feature_name:str,end=6):\n",
    "    for i in range(0,end):\n",
    "        # print(df[feature_name].sample(end))\n",
    "        indx = np.random.randint(df.shape[0])\n",
    "        print(f'{indx}: {df[feature_name].iloc[indx]}')"
   ]
  },
  {
   "cell_type": "code",
   "execution_count": 47,
   "metadata": {},
   "outputs": [],
   "source": [
    "# df"
   ]
  },
  {
   "cell_type": "code",
   "execution_count": 48,
   "metadata": {},
   "outputs": [
    {
     "data": {
      "text/plain": [
       "id           0\n",
       "title      558\n",
       "author    1957\n",
       "text        39\n",
       "label        0\n",
       "dtype: int64"
      ]
     },
     "execution_count": 48,
     "metadata": {},
     "output_type": "execute_result"
    }
   ],
   "source": [
    "df.isnull().sum()"
   ]
  },
  {
   "cell_type": "code",
   "execution_count": 49,
   "metadata": {},
   "outputs": [],
   "source": [
    "df = df.dropna()\n",
    "df.reset_index(inplace=True)"
   ]
  },
  {
   "cell_type": "code",
   "execution_count": 50,
   "metadata": {},
   "outputs": [
    {
     "data": {
      "text/plain": [
       "index     0\n",
       "id        0\n",
       "title     0\n",
       "author    0\n",
       "text      0\n",
       "label     0\n",
       "dtype: int64"
      ]
     },
     "execution_count": 50,
     "metadata": {},
     "output_type": "execute_result"
    }
   ],
   "source": [
    "df.isnull().sum()"
   ]
  },
  {
   "cell_type": "code",
   "execution_count": 51,
   "metadata": {},
   "outputs": [
    {
     "data": {
      "text/plain": [
       "(18285, 6)"
      ]
     },
     "execution_count": 51,
     "metadata": {},
     "output_type": "execute_result"
    }
   ],
   "source": [
    "df.shape"
   ]
  },
  {
   "cell_type": "code",
   "execution_count": 52,
   "metadata": {},
   "outputs": [
    {
     "name": "stdout",
     "output_type": "stream",
     "text": [
      "(18285, 6)\n",
      "(5000, 6)\n"
     ]
    }
   ],
   "source": [
    "print(df.shape)\n",
    "df = df.iloc[:5000]\n",
    "print(df.shape)"
   ]
  },
  {
   "cell_type": "code",
   "execution_count": null,
   "metadata": {},
   "outputs": [],
   "source": [
    "X = df['title']\n",
    "df = df.drop('index',axis=1)\n",
    "y = df['label']\n",
    "X"
   ]
  },
  {
   "cell_type": "code",
   "execution_count": 54,
   "metadata": {},
   "outputs": [],
   "source": [
    "## tensorflow\n",
    "from keras.layers import (Embedding,\n",
    "                          LSTM,\n",
    "                          Dense,\n",
    "                          Bidirectional)\n",
    "\n",
    "from keras.utils import pad_sequences\n",
    "from keras.models import Sequential\n",
    "from keras.preprocessing.text import Tokenizer\n",
    "\n",
    "## NLTK\n",
    "import nltk\n",
    "import re\n",
    "from nltk.corpus import stopwords\n",
    "from nltk.stem.porter import PorterStemmer\n",
    "from tqdm import tqdm"
   ]
  },
  {
   "cell_type": "code",
   "execution_count": 55,
   "metadata": {},
   "outputs": [],
   "source": [
    "ps = PorterStemmer()"
   ]
  },
  {
   "cell_type": "code",
   "execution_count": 56,
   "metadata": {},
   "outputs": [
    {
     "name": "stderr",
     "output_type": "stream",
     "text": [
      "  1%|          | 54/5000 [00:00<00:18, 273.70it/s]"
     ]
    },
    {
     "name": "stderr",
     "output_type": "stream",
     "text": [
      "100%|██████████| 5000/5000 [00:22<00:00, 223.05it/s]\n"
     ]
    }
   ],
   "source": [
    "## Preprocessing\n",
    "corpus = []\n",
    "for i in tqdm(range(0,len(X))):\n",
    "    txt = re.sub('[^a-zA-Z]',' ',X[i])\n",
    "    txt = txt.lower()\n",
    "    txt = txt.split()\n",
    "\n",
    "    txt = [ps.stem(word) for word in txt if not word in stopwords.words('english')]\n",
    "    txt = ' '.join(txt)\n",
    "    corpus.append(txt)"
   ]
  },
  {
   "cell_type": "code",
   "execution_count": 57,
   "metadata": {},
   "outputs": [
    {
     "data": {
      "text/plain": [
       "5000"
      ]
     },
     "execution_count": 57,
     "metadata": {},
     "output_type": "execute_result"
    }
   ],
   "source": [
    "len(corpus)"
   ]
  },
  {
   "cell_type": "code",
   "execution_count": 58,
   "metadata": {},
   "outputs": [],
   "source": [
    "tokenizer = Tokenizer()\n",
    "tokenizer.fit_on_texts(texts=corpus)"
   ]
  },
  {
   "cell_type": "code",
   "execution_count": 59,
   "metadata": {},
   "outputs": [],
   "source": [
    "corpus_docs = tokenizer.texts_to_sequences(texts=corpus) # I am assigning number to text. Transforming each text in texts to a sequence of integers."
   ]
  },
  {
   "cell_type": "code",
   "execution_count": 60,
   "metadata": {},
   "outputs": [
    {
     "name": "stdout",
     "output_type": "stream",
     "text": [
      " my vocab has 7553 unique words\n"
     ]
    }
   ],
   "source": [
    "print(f' my vocab has {len(tokenizer.word_index)} unique words')"
   ]
  },
  {
   "cell_type": "code",
   "execution_count": 61,
   "metadata": {},
   "outputs": [
    {
     "name": "stdout",
     "output_type": "stream",
     "text": [
      "words max len in corpus is: 47\n"
     ]
    }
   ],
   "source": [
    "# Checking the max lenght of sentence present in the corpus\n",
    "max_len = 0\n",
    "for i in range(0, len(corpus_docs)):\n",
    "    try:\n",
    "        if len(corpus_docs[i]) > max_len:\n",
    "            max_len = len(corpus_docs[i])\n",
    "    except:\n",
    "        pass\n",
    "\n",
    "print(f'words max len in corpus is: {max_len}')\n"
   ]
  },
  {
   "cell_type": "code",
   "execution_count": 62,
   "metadata": {},
   "outputs": [
    {
     "data": {
      "text/plain": [
       "7"
      ]
     },
     "execution_count": 62,
     "metadata": {},
     "output_type": "execute_result"
    }
   ],
   "source": []
  },
  {
   "cell_type": "code",
   "execution_count": 70,
   "metadata": {},
   "outputs": [
    {
     "data": {
      "text/plain": [
       "47"
      ]
     },
     "execution_count": 70,
     "metadata": {},
     "output_type": "execute_result"
    }
   ],
   "source": [
    "len(corpus_docs[4999])\n",
    "padded_docs = pad_sequences(sequences=corpus_docs,maxlen=47,padding='post')\n",
    "len(padded_docs[4999])"
   ]
  },
  {
   "cell_type": "markdown",
   "metadata": {},
   "source": [
    "## Model"
   ]
  },
  {
   "cell_type": "code",
   "execution_count": 65,
   "metadata": {},
   "outputs": [
    {
     "data": {
      "text/plain": [
       "(5000, 7554)"
      ]
     },
     "execution_count": 65,
     "metadata": {},
     "output_type": "execute_result"
    }
   ],
   "source": [
    "X.shape[0] , len(tokenizer.word_index)+1"
   ]
  },
  {
   "cell_type": "code",
   "execution_count": 66,
   "metadata": {},
   "outputs": [],
   "source": [
    "X_train, X_test, y_train, y_test = train_test_split(\n",
    "     np.array(padded_docs), np.array(y), test_size=0.23, random_state=42)"
   ]
  },
  {
   "cell_type": "code",
   "execution_count": 67,
   "metadata": {},
   "outputs": [
    {
     "name": "stdout",
     "output_type": "stream",
     "text": [
      "X_train shape: (3850, 47)\n",
      "X_test shape: (1150, 47)\n",
      "y_train shape: (3850,)\n",
      "y_test shape: (1150,)\n"
     ]
    }
   ],
   "source": [
    "print(\"X_train shape:\", X_train.shape)\n",
    "print(\"X_test shape:\", X_test.shape)\n",
    "print(\"y_train shape:\", y_train.shape)\n",
    "print(\"y_test shape:\", y_test.shape)"
   ]
  },
  {
   "cell_type": "code",
   "execution_count": 73,
   "metadata": {},
   "outputs": [
    {
     "name": "stdout",
     "output_type": "stream",
     "text": [
      "Model: \"LSTM_model\"\n",
      "_________________________________________________________________\n",
      " Layer (type)                Output Shape              Param #   \n",
      "=================================================================\n",
      " embedding_9 (Embedding)     (None, 47, 100)           755400    \n",
      "                                                                 \n",
      " bidirectional_19 (Bidirecti  (None, 47, 32)           14976     \n",
      " onal)                                                           \n",
      "                                                                 \n",
      " batch_normalization_20 (Bat  (None, 47, 32)           128       \n",
      " chNormalization)                                                \n",
      "                                                                 \n",
      " dropout_19 (Dropout)        (None, 47, 32)            0         \n",
      "                                                                 \n",
      " batch_normalization_21 (Bat  (None, 47, 32)           128       \n",
      " chNormalization)                                                \n",
      "                                                                 \n",
      " bidirectional_20 (Bidirecti  (None, 32)               6272      \n",
      " onal)                                                           \n",
      "                                                                 \n",
      " dropout_20 (Dropout)        (None, 32)                0         \n",
      "                                                                 \n",
      " dense_9 (Dense)             (None, 1)                 33        \n",
      "                                                                 \n",
      "=================================================================\n",
      "Total params: 776,937\n",
      "Trainable params: 776,809\n",
      "Non-trainable params: 128\n",
      "_________________________________________________________________\n",
      "None\n",
      "Epoch 1/20\n",
      "121/121 [==============================] - 22s 58ms/step - loss: 99.9114 - accuracy: 0.5704 - val_loss: 68.1167 - val_accuracy: 0.4417 - lr: 5.0000e-04\n",
      "Epoch 2/20\n",
      "121/121 [==============================] - 6s 46ms/step - loss: 50.0520 - accuracy: 0.7460 - val_loss: 35.3106 - val_accuracy: 0.5043 - lr: 4.5242e-04\n",
      "Epoch 3/20\n",
      "121/121 [==============================] - 6s 49ms/step - loss: 80.7947 - accuracy: 0.8735 - val_loss: 21.5253 - val_accuracy: 0.4739 - lr: 4.0937e-04\n",
      "Epoch 4/20\n",
      "121/121 [==============================] - 6s 48ms/step - loss: 19.9813 - accuracy: 0.8548 - val_loss: 19.2039 - val_accuracy: 0.4417 - lr: 3.7041e-04\n",
      "Epoch 5/20\n",
      "121/121 [==============================] - 10s 79ms/step - loss: 18.0185 - accuracy: 0.8727 - val_loss: 17.5241 - val_accuracy: 0.7009 - lr: 3.3516e-04\n",
      "Epoch 6/20\n",
      "121/121 [==============================] - 5s 44ms/step - loss: 16.6896 - accuracy: 0.8940 - val_loss: 16.3301 - val_accuracy: 0.8043 - lr: 3.0327e-04\n",
      "Epoch 7/20\n",
      "121/121 [==============================] - 5s 44ms/step - loss: 15.7129 - accuracy: 0.9068 - val_loss: 15.4138 - val_accuracy: 0.8922 - lr: 2.7441e-04\n",
      "Epoch 8/20\n",
      "121/121 [==============================] - 5s 44ms/step - loss: 14.9795 - accuracy: 0.9200 - val_loss: 15.4393 - val_accuracy: 0.9009 - lr: 2.4829e-04\n",
      "Epoch 9/20\n",
      "121/121 [==============================] - 5s 44ms/step - loss: 14.3913 - accuracy: 0.9348 - val_loss: 15.3067 - val_accuracy: 0.9148 - lr: 2.2466e-04\n",
      "Epoch 10/20\n",
      "121/121 [==============================] - 5s 44ms/step - loss: 13.9544 - accuracy: 0.9338 - val_loss: 14.0135 - val_accuracy: 0.9174 - lr: 2.0328e-04\n",
      "Epoch 11/20\n",
      "121/121 [==============================] - 7s 54ms/step - loss: 13.5336 - accuracy: 0.9444 - val_loss: 14.6258 - val_accuracy: 0.9078 - lr: 1.8394e-04\n",
      "Epoch 12/20\n",
      "121/121 [==============================] - 10s 83ms/step - loss: 13.2143 - accuracy: 0.9525 - val_loss: 16.8483 - val_accuracy: 0.9113 - lr: 1.6644e-04\n",
      "Epoch 13/20\n",
      "121/121 [==============================] - 10s 86ms/step - loss: 12.8984 - accuracy: 0.9551 - val_loss: 26.2284 - val_accuracy: 0.9113 - lr: 1.5060e-04\n",
      "Epoch 14/20\n",
      "121/121 [==============================] - 10s 84ms/step - loss: 12.6490 - accuracy: 0.9566 - val_loss: 14.5104 - val_accuracy: 0.9104 - lr: 1.3627e-04\n",
      "Epoch 15/20\n",
      "121/121 [==============================] - 10s 82ms/step - loss: 12.4432 - accuracy: 0.9636 - val_loss: 14.2766 - val_accuracy: 0.9087 - lr: 1.2330e-04\n",
      "Epoch 15: early stopping\n"
     ]
    }
   ],
   "source": [
    "from keras.layers import BatchNormalization, Dropout, Bidirectional, LSTM, Embedding, Dense\n",
    "from keras.losses import binary_crossentropy\n",
    "from tensorflow import keras\n",
    "from keras.callbacks import LearningRateScheduler , EarlyStopping\n",
    "\n",
    "initializer = keras.initializers.HeNormal() # Initializing the weights so that the should have right weight from start of the training.\n",
    "regularizer = keras.regularizers.l2(l2=0.4) # penalty term.\n",
    "activation_lstm = keras.activations.elu # this is optimized version of relu\n",
    "\n",
    "model_features = 100 # this is for embedding layer because the embedding layer creat features like word2Vec internally.\n",
    "model = keras.Sequential(name='LSTM_model')\n",
    "\n",
    "model.add(Embedding(\n",
    "    input_dim=len(tokenizer.word_index)+1,  # The \"+1\" accounts for the reserved index 0 in the word index (since word indices start from 1 and not 0)\n",
    "    output_dim=model_features, input_length=47\n",
    "))\n",
    "model.add(Bidirectional(LSTM(units=16, activation=activation_lstm, kernel_regularizer=regularizer, kernel_initializer=initializer,return_sequences=True)))\n",
    "model.add(BatchNormalization())\n",
    "model.add(Dropout(rate=0.9))\n",
    "model.add(BatchNormalization())\n",
    "model.add(Bidirectional(LSTM(units=16, activation='relu',kernel_regularizer=regularizer,return_sequences=False))) \n",
    "model.add(Dropout(rate=0.5))\n",
    "model.add(Dense(units=1, activation='sigmoid'))\n",
    "\n",
    "\n",
    "print(model.summary())\n",
    "\n",
    "\n",
    "def lr_schedule(epoch, lr):\n",
    "    if epoch < 1:\n",
    "        return lr\n",
    "    else:\n",
    "        return lr * np.exp(-0.1)\n",
    "\n",
    "# learning rate scheduler callback to descrese the learning rate gradually as the epochs increases So that my alogrithm could not jump out of Global minima.\n",
    "lr_scheduler = LearningRateScheduler(lr_schedule)\n",
    "\n",
    "# Early stopping to stop the Neural Network when we get same Validation accuracy\n",
    "early_stopping = EarlyStopping(\n",
    "    monitor=\"val_accuracy\",\n",
    "    min_delta=0.00001,\n",
    "    patience=5,\n",
    "    verbose=1,\n",
    "    mode=\"auto\",\n",
    "    baseline=None,\n",
    "    restore_best_weights=False\n",
    ")\n",
    "\n",
    "\n",
    "# Reduce the learning rate\n",
    "optimizer = keras.optimizers.Adam(learning_rate=0.0005)\n",
    "\n",
    "model.compile(optimizer=optimizer, # Used Adam because this has not any major disadvantages with custom learning rate because the convergence was very unstable.\n",
    "               loss=binary_crossentropy, # because solving the classification problem\n",
    "                 metrics=['accuracy'])  # I don't need to write about this you know.\n",
    "\n",
    "# Training the model with callbacks\n",
    "history = model.fit(X_train, y_train, validation_data=(X_test, y_test), epochs=20,\n",
    "                    batch_size=32, # I had tried different batch sizes but this has given my best results\n",
    "                      callbacks=[lr_scheduler, early_stopping]) # these to prevent the NN from overfitting and scheduling learning rate to get optimum solution."
   ]
  },
  {
   "cell_type": "code",
   "execution_count": 75,
   "metadata": {},
   "outputs": [
    {
     "data": {
      "text/plain": [
       "Text(0.5, 1.0, 'val_loss- 14.277 and loss- 12.443')"
      ]
     },
     "execution_count": 75,
     "metadata": {},
     "output_type": "execute_result"
    },
    {
     "data": {
      "image/png": "[encoded data removed]",
      "text/plain": [
       "<Figure size 1900x600 with 2 Axes>"
      ]
     },
     "metadata": {},
     "output_type": "display_data"
    }
   ],
   "source": [
    "plt.subplots(nrows=1,ncols=2,figsize = (19,6))\n",
    "plt.subplot(1,2,1)\n",
    "plt.plot(history.history['accuracy'])\n",
    "plt.plot(history.history['val_accuracy'])   \n",
    "plt.legend(['training accuracy','validation accuracy'])\n",
    "plt.title(f'val_accuracy {round(history.history[\"val_accuracy\"][14],ndigits=3)} and accuracy {round(history.history[\"accuracy\"][14],ndigits=3)}')\n",
    "plt.subplot(1,2,2)\n",
    "plt.plot(history.history['loss'])\n",
    "plt.plot(history.history['val_loss'])\n",
    "plt.legend(['training loss','validation loss'])\n",
    "plt.title(f'val_loss- {round(history.history[\"val_loss\"][14],ndigits=3)} and loss- {round(history.history[\"loss\"][14],ndigits=3)}')"
   ]
  },
  {
   "cell_type": "code",
   "execution_count": null,
   "metadata": {},
   "outputs": [],
   "source": []
  }
 ],
 "metadata": {
  "kernelspec": {
   "display_name": "Python 3",
   "language": "python",
   "name": "python3"
  },
  "language_info": {
   "codemirror_mode": {
    "name": "ipython",
    "version": 3
   },
   "file_extension": ".py",
   "mimetype": "text/x-python",
   "name": "python",
   "nbconvert_exporter": "python",
   "pygments_lexer": "ipython3",
   "version": "3.11.3"
  },
  "orig_nbformat": 4
 },
 "nbformat": 4,
 "nbformat_minor": 2
}
