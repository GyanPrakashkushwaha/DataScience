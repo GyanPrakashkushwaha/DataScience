{
 "cells": [
  {
   "cell_type": "code",
   "execution_count": 1,
   "metadata": {},
   "outputs": [],
   "source": [
    "import pandas as pd\n",
    "import numpy as np\n",
    "import matplotlib.pyplot as plt\n",
    "%matplotlib inline \n",
    "import seaborn as sns\n",
    "import random\n",
    "import os\n",
    "from sklearn.model_selection import train_test_split"
   ]
  },
  {
   "cell_type": "code",
   "execution_count": 2,
   "metadata": {},
   "outputs": [
    {
     "name": "stdout",
     "output_type": "stream",
     "text": [
      "c:\\Users\\Gyanprakash\\Desktop\\Data-Science\\NLP\\RNN\n"
     ]
    }
   ],
   "source": [
    "print(os.getcwd())\n",
    "os.chdir('c:\\\\Users\\\\Gyanprakash\\\\Desktop\\\\Data-Science\\\\NLP')"
   ]
  },
  {
   "cell_type": "code",
   "execution_count": 3,
   "metadata": {},
   "outputs": [],
   "source": [
    "df = pd.read_csv(r'LSTM/fake_news_classifier/train.csv')"
   ]
  },
  {
   "cell_type": "code",
   "execution_count": 4,
   "metadata": {},
   "outputs": [],
   "source": [
    "def random_values(feature_name:str,end=6):\n",
    "    for i in range(0,end):\n",
    "        # print(df[feature_name].sample(end))\n",
    "        indx = np.random.randint(df.shape[0])\n",
    "        print(f'{indx}: {df[feature_name].iloc[indx]}')"
   ]
  },
  {
   "cell_type": "code",
   "execution_count": 5,
   "metadata": {},
   "outputs": [
    {
     "data": {
      "text/html": [
       "<div>\n",
       "<style scoped>\n",
       "    .dataframe tbody tr th:only-of-type {\n",
       "        vertical-align: middle;\n",
       "    }\n",
       "\n",
       "    .dataframe tbody tr th {\n",
       "        vertical-align: top;\n",
       "    }\n",
       "\n",
       "    .dataframe thead th {\n",
       "        text-align: right;\n",
       "    }\n",
       "</style>\n",
       "<table border=\"1\" class=\"dataframe\">\n",
       "  <thead>\n",
       "    <tr style=\"text-align: right;\">\n",
       "      <th></th>\n",
       "      <th>id</th>\n",
       "      <th>title</th>\n",
       "      <th>author</th>\n",
       "      <th>text</th>\n",
       "      <th>label</th>\n",
       "    </tr>\n",
       "  </thead>\n",
       "  <tbody>\n",
       "    <tr>\n",
       "      <th>0</th>\n",
       "      <td>0</td>\n",
       "      <td>House Dem Aide: We Didn’t Even See Comey’s Let...</td>\n",
       "      <td>Darrell Lucus</td>\n",
       "      <td>House Dem Aide: We Didn’t Even See Comey’s Let...</td>\n",
       "      <td>1</td>\n",
       "    </tr>\n",
       "    <tr>\n",
       "      <th>1</th>\n",
       "      <td>1</td>\n",
       "      <td>FLYNN: Hillary Clinton, Big Woman on Campus - ...</td>\n",
       "      <td>Daniel J. Flynn</td>\n",
       "      <td>Ever get the feeling your life circles the rou...</td>\n",
       "      <td>0</td>\n",
       "    </tr>\n",
       "    <tr>\n",
       "      <th>2</th>\n",
       "      <td>2</td>\n",
       "      <td>Why the Truth Might Get You Fired</td>\n",
       "      <td>Consortiumnews.com</td>\n",
       "      <td>Why the Truth Might Get You Fired October 29, ...</td>\n",
       "      <td>1</td>\n",
       "    </tr>\n",
       "    <tr>\n",
       "      <th>3</th>\n",
       "      <td>3</td>\n",
       "      <td>15 Civilians Killed In Single US Airstrike Hav...</td>\n",
       "      <td>Jessica Purkiss</td>\n",
       "      <td>Videos 15 Civilians Killed In Single US Airstr...</td>\n",
       "      <td>1</td>\n",
       "    </tr>\n",
       "    <tr>\n",
       "      <th>4</th>\n",
       "      <td>4</td>\n",
       "      <td>Iranian woman jailed for fictional unpublished...</td>\n",
       "      <td>Howard Portnoy</td>\n",
       "      <td>Print \\nAn Iranian woman has been sentenced to...</td>\n",
       "      <td>1</td>\n",
       "    </tr>\n",
       "    <tr>\n",
       "      <th>...</th>\n",
       "      <td>...</td>\n",
       "      <td>...</td>\n",
       "      <td>...</td>\n",
       "      <td>...</td>\n",
       "      <td>...</td>\n",
       "    </tr>\n",
       "    <tr>\n",
       "      <th>20795</th>\n",
       "      <td>20795</td>\n",
       "      <td>Rapper T.I.: Trump a ’Poster Child For White S...</td>\n",
       "      <td>Jerome Hudson</td>\n",
       "      <td>Rapper T. I. unloaded on black celebrities who...</td>\n",
       "      <td>0</td>\n",
       "    </tr>\n",
       "    <tr>\n",
       "      <th>20796</th>\n",
       "      <td>20796</td>\n",
       "      <td>N.F.L. Playoffs: Schedule, Matchups and Odds -...</td>\n",
       "      <td>Benjamin Hoffman</td>\n",
       "      <td>When the Green Bay Packers lost to the Washing...</td>\n",
       "      <td>0</td>\n",
       "    </tr>\n",
       "    <tr>\n",
       "      <th>20797</th>\n",
       "      <td>20797</td>\n",
       "      <td>Macy’s Is Said to Receive Takeover Approach by...</td>\n",
       "      <td>Michael J. de la Merced and Rachel Abrams</td>\n",
       "      <td>The Macy’s of today grew from the union of sev...</td>\n",
       "      <td>0</td>\n",
       "    </tr>\n",
       "    <tr>\n",
       "      <th>20798</th>\n",
       "      <td>20798</td>\n",
       "      <td>NATO, Russia To Hold Parallel Exercises In Bal...</td>\n",
       "      <td>Alex Ansary</td>\n",
       "      <td>NATO, Russia To Hold Parallel Exercises In Bal...</td>\n",
       "      <td>1</td>\n",
       "    </tr>\n",
       "    <tr>\n",
       "      <th>20799</th>\n",
       "      <td>20799</td>\n",
       "      <td>What Keeps the F-35 Alive</td>\n",
       "      <td>David Swanson</td>\n",
       "      <td>David Swanson is an author, activist, journa...</td>\n",
       "      <td>1</td>\n",
       "    </tr>\n",
       "  </tbody>\n",
       "</table>\n",
       "<p>20800 rows × 5 columns</p>\n",
       "</div>"
      ],
      "text/plain": [
       "          id                                              title   \n",
       "0          0  House Dem Aide: We Didn’t Even See Comey’s Let...  \\\n",
       "1          1  FLYNN: Hillary Clinton, Big Woman on Campus - ...   \n",
       "2          2                  Why the Truth Might Get You Fired   \n",
       "3          3  15 Civilians Killed In Single US Airstrike Hav...   \n",
       "4          4  Iranian woman jailed for fictional unpublished...   \n",
       "...      ...                                                ...   \n",
       "20795  20795  Rapper T.I.: Trump a ’Poster Child For White S...   \n",
       "20796  20796  N.F.L. Playoffs: Schedule, Matchups and Odds -...   \n",
       "20797  20797  Macy’s Is Said to Receive Takeover Approach by...   \n",
       "20798  20798  NATO, Russia To Hold Parallel Exercises In Bal...   \n",
       "20799  20799                          What Keeps the F-35 Alive   \n",
       "\n",
       "                                          author   \n",
       "0                                  Darrell Lucus  \\\n",
       "1                                Daniel J. Flynn   \n",
       "2                             Consortiumnews.com   \n",
       "3                                Jessica Purkiss   \n",
       "4                                 Howard Portnoy   \n",
       "...                                          ...   \n",
       "20795                              Jerome Hudson   \n",
       "20796                           Benjamin Hoffman   \n",
       "20797  Michael J. de la Merced and Rachel Abrams   \n",
       "20798                                Alex Ansary   \n",
       "20799                              David Swanson   \n",
       "\n",
       "                                                    text  label  \n",
       "0      House Dem Aide: We Didn’t Even See Comey’s Let...      1  \n",
       "1      Ever get the feeling your life circles the rou...      0  \n",
       "2      Why the Truth Might Get You Fired October 29, ...      1  \n",
       "3      Videos 15 Civilians Killed In Single US Airstr...      1  \n",
       "4      Print \\nAn Iranian woman has been sentenced to...      1  \n",
       "...                                                  ...    ...  \n",
       "20795  Rapper T. I. unloaded on black celebrities who...      0  \n",
       "20796  When the Green Bay Packers lost to the Washing...      0  \n",
       "20797  The Macy’s of today grew from the union of sev...      0  \n",
       "20798  NATO, Russia To Hold Parallel Exercises In Bal...      1  \n",
       "20799    David Swanson is an author, activist, journa...      1  \n",
       "\n",
       "[20800 rows x 5 columns]"
      ]
     },
     "execution_count": 5,
     "metadata": {},
     "output_type": "execute_result"
    }
   ],
   "source": [
    "df"
   ]
  },
  {
   "cell_type": "code",
   "execution_count": 6,
   "metadata": {},
   "outputs": [
    {
     "data": {
      "text/plain": [
       "id           0\n",
       "title      558\n",
       "author    1957\n",
       "text        39\n",
       "label        0\n",
       "dtype: int64"
      ]
     },
     "execution_count": 6,
     "metadata": {},
     "output_type": "execute_result"
    }
   ],
   "source": [
    "df.isnull().sum()"
   ]
  },
  {
   "cell_type": "code",
   "execution_count": 7,
   "metadata": {},
   "outputs": [],
   "source": [
    "df = df.dropna()\n",
    "df.reset_index(inplace=True)"
   ]
  },
  {
   "cell_type": "code",
   "execution_count": 8,
   "metadata": {},
   "outputs": [
    {
     "data": {
      "text/plain": [
       "index     0\n",
       "id        0\n",
       "title     0\n",
       "author    0\n",
       "text      0\n",
       "label     0\n",
       "dtype: int64"
      ]
     },
     "execution_count": 8,
     "metadata": {},
     "output_type": "execute_result"
    }
   ],
   "source": [
    "df.isnull().sum()"
   ]
  },
  {
   "cell_type": "code",
   "execution_count": 9,
   "metadata": {},
   "outputs": [
    {
     "data": {
      "text/plain": [
       "(18285, 6)"
      ]
     },
     "execution_count": 9,
     "metadata": {},
     "output_type": "execute_result"
    }
   ],
   "source": [
    "df.shape"
   ]
  },
  {
   "cell_type": "code",
   "execution_count": 10,
   "metadata": {},
   "outputs": [],
   "source": [
    "print(df.shape)\n",
    "df = df.iloc[:5000]\n",
    "print(df.shape)"
   ]
  },
  {
   "cell_type": "code",
   "execution_count": 12,
   "metadata": {},
   "outputs": [],
   "source": [
    "X = df['title']\n",
    "df = df.drop('index',axis=1)\n",
    "y = df['label']\n",
    "X"
   ]
  },
  {
   "cell_type": "code",
   "execution_count": 18,
   "metadata": {},
   "outputs": [],
   "source": [
    "## tensorflow\n",
    "from keras.layers import (Embedding,\n",
    "                          LSTM,\n",
    "                          Dense,\n",
    "                          Bidirectional)\n",
    "\n",
    "from keras.utils import pad_sequences\n",
    "from keras.models import Sequential\n",
    "from keras.preprocessing.text import Tokenizer\n",
    "\n",
    "## NLTK\n",
    "import nltk\n",
    "import re\n",
    "from nltk.corpus import stopwords\n",
    "from nltk.stem.porter import PorterStemmer\n",
    "from tqdm import tqdm"
   ]
  },
  {
   "cell_type": "code",
   "execution_count": 19,
   "metadata": {},
   "outputs": [],
   "source": [
    "ps = PorterStemmer()"
   ]
  },
  {
   "cell_type": "code",
   "execution_count": 20,
   "metadata": {},
   "outputs": [
    {
     "name": "stderr",
     "output_type": "stream",
     "text": [
      "100%|██████████| 5000/5000 [00:20<00:00, 240.56it/s]\n"
     ]
    }
   ],
   "source": [
    "## Preprocessing\n",
    "corpus = []\n",
    "for i in tqdm(range(0,len(X))):\n",
    "    txt = re.sub('[^a-zA-Z]',' ',X[i])\n",
    "    txt = txt.lower()\n",
    "    txt = txt.split()\n",
    "\n",
    "    txt = [ps.stem(word) for word in txt if not word in stopwords.words('english')]\n",
    "    txt = ' '.join(txt)\n",
    "    corpus.append(txt)"
   ]
  },
  {
   "cell_type": "code",
   "execution_count": 21,
   "metadata": {},
   "outputs": [
    {
     "data": {
      "text/plain": [
       "5000"
      ]
     },
     "execution_count": 21,
     "metadata": {},
     "output_type": "execute_result"
    }
   ],
   "source": [
    "len(corpus)"
   ]
  },
  {
   "cell_type": "code",
   "execution_count": 22,
   "metadata": {},
   "outputs": [],
   "source": [
    "tokenizer = Tokenizer()\n",
    "tokenizer.fit_on_texts(texts=corpus)"
   ]
  },
  {
   "cell_type": "code",
   "execution_count": 23,
   "metadata": {},
   "outputs": [],
   "source": [
    "corpus_docs = tokenizer.texts_to_sequences(texts=corpus) # I am assigning number to text. Transforming each text in texts to a sequence of integers."
   ]
  },
  {
   "cell_type": "code",
   "execution_count": 24,
   "metadata": {},
   "outputs": [
    {
     "name": "stdout",
     "output_type": "stream",
     "text": [
      " my vocab has 7553 unique words\n"
     ]
    }
   ],
   "source": [
    "print(f' my vocab has {len(tokenizer.word_index)} unique words')"
   ]
  },
  {
   "cell_type": "code",
   "execution_count": 25,
   "metadata": {},
   "outputs": [
    {
     "name": "stdout",
     "output_type": "stream",
     "text": [
      "words max len in corpus is: 47\n"
     ]
    }
   ],
   "source": [
    "# Checking the max lenght of sentence present in the corpus\n",
    "max_len = 0\n",
    "for i in range(0, len(corpus_docs)):\n",
    "    try:\n",
    "        if len(corpus_docs[i]) > max_len:\n",
    "            max_len = len(corpus_docs[i])\n",
    "    except:\n",
    "        pass\n",
    "\n",
    "print(f'words max len in corpus is: {max_len}')\n"
   ]
  },
  {
   "cell_type": "code",
   "execution_count": 26,
   "metadata": {},
   "outputs": [
    {
     "data": {
      "text/plain": [
       "7"
      ]
     },
     "execution_count": 26,
     "metadata": {},
     "output_type": "execute_result"
    }
   ],
   "source": [
    "len(corpus_docs[4999])"
   ]
  },
  {
   "cell_type": "code",
   "execution_count": 27,
   "metadata": {},
   "outputs": [],
   "source": [
    "padded_docs = pad_sequences(sequences=corpus_docs,maxlen=47,padding='post')"
   ]
  },
  {
   "cell_type": "code",
   "execution_count": 28,
   "metadata": {},
   "outputs": [
    {
     "data": {
      "text/plain": [
       "47"
      ]
     },
     "execution_count": 28,
     "metadata": {},
     "output_type": "execute_result"
    }
   ],
   "source": [
    "len(padded_docs[4999])"
   ]
  },
  {
   "cell_type": "markdown",
   "metadata": {},
   "source": [
    "## Model"
   ]
  },
  {
   "cell_type": "code",
   "execution_count": 29,
   "metadata": {},
   "outputs": [
    {
     "data": {
      "text/plain": [
       "(5000, 7554)"
      ]
     },
     "execution_count": 29,
     "metadata": {},
     "output_type": "execute_result"
    }
   ],
   "source": [
    "X.shape[0] , len(tokenizer.word_index)+1"
   ]
  },
  {
   "cell_type": "code",
   "execution_count": 32,
   "metadata": {},
   "outputs": [],
   "source": [
    "X_train, X_test, y_train, y_test = train_test_split(\n",
    "     np.array(padded_docs), np.array(y), test_size=0.23, random_state=42)"
   ]
  },
  {
   "cell_type": "code",
   "execution_count": 33,
   "metadata": {},
   "outputs": [
    {
     "name": "stdout",
     "output_type": "stream",
     "text": [
      "X_train shape: (3850, 47)\n",
      "X_test shape: (1150, 47)\n",
      "y_train shape: (3850,)\n",
      "y_test shape: (1150,)\n"
     ]
    }
   ],
   "source": [
    "print(\"X_train shape:\", X_train.shape)\n",
    "print(\"X_test shape:\", X_test.shape)\n",
    "print(\"y_train shape:\", y_train.shape)\n",
    "print(\"y_test shape:\", y_test.shape)"
   ]
  },
  {
   "cell_type": "code",
   "execution_count": 41,
   "metadata": {},
   "outputs": [
    {
     "name": "stdout",
     "output_type": "stream",
     "text": [
      "Model: \"LSTM_model\"\n",
      "_________________________________________________________________\n",
      " Layer (type)                Output Shape              Param #   \n",
      "=================================================================\n",
      " embedding_6 (Embedding)     (None, 47, 100)           755400    \n",
      "                                                                 \n",
      " bidirectional_13 (Bidirecti  (None, 47, 32)           14976     \n",
      " onal)                                                           \n",
      "                                                                 \n",
      " batch_normalization_14 (Bat  (None, 47, 32)           128       \n",
      " chNormalization)                                                \n",
      "                                                                 \n",
      " dropout_13 (Dropout)        (None, 47, 32)            0         \n",
      "                                                                 \n",
      " batch_normalization_15 (Bat  (None, 47, 32)           128       \n",
      " chNormalization)                                                \n",
      "                                                                 \n",
      " bidirectional_14 (Bidirecti  (None, 32)               6272      \n",
      " onal)                                                           \n",
      "                                                                 \n",
      " dropout_14 (Dropout)        (None, 32)                0         \n",
      "                                                                 \n",
      " dense_6 (Dense)             (None, 1)                 33        \n",
      "                                                                 \n",
      "=================================================================\n",
      "Total params: 776,937\n",
      "Trainable params: 776,809\n",
      "Non-trainable params: 128\n",
      "_________________________________________________________________\n",
      "Epoch 1/20\n",
      "121/121 [==============================] - 14s 46ms/step - loss: 97.2024 - accuracy: 0.5816 - val_loss: 65.9766 - val_accuracy: 0.5678 - lr: 5.0000e-04\n",
      "Epoch 2/20\n",
      "121/121 [==============================] - 5s 38ms/step - loss: 48.2399 - accuracy: 0.7800 - val_loss: 33.9208 - val_accuracy: 0.7974 - lr: 4.5242e-04\n",
      "Epoch 3/20\n",
      "121/121 [==============================] - 5s 38ms/step - loss: 25.0289 - accuracy: 0.8953 - val_loss: 18.1804 - val_accuracy: 0.9009 - lr: 4.0937e-04\n",
      "Epoch 4/20\n",
      "121/121 [==============================] - 5s 38ms/step - loss: 13.6594 - accuracy: 0.9044 - val_loss: 10.6860 - val_accuracy: 0.4417 - lr: 3.7041e-04\n",
      "Epoch 5/20\n",
      "121/121 [==============================] - 5s 37ms/step - loss: 8.2681 - accuracy: 0.9052 - val_loss: 6.7194 - val_accuracy: 0.8713 - lr: 3.3516e-04\n",
      "Epoch 6/20\n",
      "121/121 [==============================] - 5s 38ms/step - loss: 5.3541 - accuracy: 0.9301 - val_loss: 4.4269 - val_accuracy: 0.9026 - lr: 3.0327e-04\n",
      "Epoch 7/20\n",
      "121/121 [==============================] - 5s 38ms/step - loss: 3.6671 - accuracy: 0.9436 - val_loss: 3.1573 - val_accuracy: 0.9061 - lr: 2.7441e-04\n",
      "Epoch 8/20\n",
      "121/121 [==============================] - 5s 45ms/step - loss: 2.6490 - accuracy: 0.9579 - val_loss: 2.4101 - val_accuracy: 0.8983 - lr: 2.4829e-04\n",
      "Epoch 9/20\n",
      "121/121 [==============================] - 5s 45ms/step - loss: 2.0053 - accuracy: 0.9644 - val_loss: 1.9377 - val_accuracy: 0.8974 - lr: 2.2466e-04\n",
      "Epoch 10/20\n",
      "121/121 [==============================] - 5s 43ms/step - loss: 1.5837 - accuracy: 0.9738 - val_loss: 1.6216 - val_accuracy: 0.8913 - lr: 2.0328e-04\n",
      "Epoch 11/20\n",
      "121/121 [==============================] - 5s 42ms/step - loss: 1.3044 - accuracy: 0.9740 - val_loss: 1.4195 - val_accuracy: 0.9061 - lr: 1.8394e-04\n",
      "Epoch 12/20\n",
      "121/121 [==============================] - 5s 45ms/step - loss: 1.0977 - accuracy: 0.9784 - val_loss: 1.5510 - val_accuracy: 0.9043 - lr: 1.6644e-04\n",
      "Epoch 12: early stopping\n"
     ]
    }
   ],
   "source": [
    "from keras.layers import BatchNormalization, Dropout, Bidirectional, LSTM, Embedding, Dense\n",
    "from keras.losses import binary_crossentropy\n",
    "from tensorflow import keras\n",
    "from keras.callbacks import LearningRateScheduler , EarlyStopping\n",
    "\n",
    "initializer = keras.initializers.HeNormal() # Initializing the weights so that the should have right weight from start of the training.\n",
    "regularizer = keras.regularizers.l2(l2=0.4) # penalty term.\n",
    "activation_lstm = keras.activations.elu # this is optimized version of relu\n",
    "\n",
    "model_features = 100 # this is for embedding layer because the embedding layer creat features like word2Vec internally.\n",
    "model = keras.Sequential(name='LSTM_model')\n",
    "\n",
    "model.add(Embedding(\n",
    "    input_dim=len(tokenizer.word_index)+1,  # The \"+1\" accounts for the reserved index 0 in the word index (since word indices start from 1 and not 0)\n",
    "    output_dim=model_features, input_length=47\n",
    "))\n",
    "model.add(Bidirectional(LSTM(units=16, activation=activation_lstm, kernel_regularizer=regularizer, kernel_initializer=initializer,return_sequences=True)))\n",
    "model.add(BatchNormalization())\n",
    "model.add(Dropout(rate=0.9))\n",
    "model.add(BatchNormalization())\n",
    "model.add(Bidirectional(LSTM(units=16, activation='relu',kernel_regularizer=regularizer,return_sequences=False))) \n",
    "model.add(Dropout(rate=0.5))\n",
    "model.add(Dense(units=1, activation='sigmoid'))\n",
    "\n",
    "\n",
    "print(model.summary())\n",
    "\n",
    "\n",
    "def lr_schedule(epoch, lr):\n",
    "    if epoch < 1:\n",
    "        return lr\n",
    "    else:\n",
    "        return lr * np.exp(-0.1)\n",
    "\n",
    "# learning rate scheduler callback to descrese the learning rate gradually as the epochs increases So that my alogrithm could not jump out of Global minima.\n",
    "lr_scheduler = LearningRateScheduler(lr_schedule)\n",
    "\n",
    "# Early stopping to stop the Neural Network when we get same Validation accuracy\n",
    "early_stopping = EarlyStopping(\n",
    "    monitor=\"val_accuracy\",\n",
    "    min_delta=0.00001,\n",
    "    patience=5,\n",
    "    verbose=1,\n",
    "    mode=\"auto\",\n",
    "    baseline=None,\n",
    "    restore_best_weights=False\n",
    ")\n",
    "\n",
    "\n",
    "# Reduce the learning rate\n",
    "optimizer = keras.optimizers.Adam(learning_rate=0.0005)\n",
    "\n",
    "model.compile(optimizer=optimizer, # Used Adam because this has not any major disadvantages with custom learning rate because the convergence was very unstable.\n",
    "               loss=binary_crossentropy, # because solving the classification problem\n",
    "                 metrics=['accuracy'])  # I don't need to write about this you know.\n",
    "\n",
    "# Training the model with callbacks\n",
    "history = model.fit(X_train, y_train, validation_data=(X_test, y_test), epochs=20,\n",
    "                    batch_size=32, # I had tried different batch sizes but this has given my best results\n",
    "                      callbacks=[lr_scheduler, early_stopping]) # these to prevent the NN from overfitting and scheduling learning rate to get optimum solution."
   ]
  },
  {
   "cell_type": "code",
   "execution_count": 42,
   "metadata": {},
   "outputs": [
    {
     "data": {
      "text/plain": [
       "Text(0.5, 1.0, 'val_loss- 1.938 and loss- 2.005')"
      ]
     },
     "execution_count": 42,
     "metadata": {},
     "output_type": "execute_result"
    },
    {
     "data": {
      "image/png": "[encoded data removed]",
      "text/plain": [
       "<Figure size 1700x600 with 2 Axes>"
      ]
     },
     "metadata": {},
     "output_type": "display_data"
    }
   ],
   "source": [
    "plt.subplots(nrows=1,ncols=2,figsize = (17,6))\n",
    "plt.subplot(1,2,1)\n",
    "plt.plot(history.history['accuracy'])\n",
    "plt.plot(history.history['val_accuracy'])   \n",
    "plt.legend(['training accuracy','validation accuracy'])\n",
    "plt.title(f'val_accuracy {round(history.history[\"val_accuracy\"][8],ndigits=3)} and accuracy {round(history.history[\"accuracy\"][8],ndigits=3)}')\n",
    "plt.subplot(1,2,2)\n",
    "plt.plot(history.history['loss'])\n",
    "plt.plot(history.history['val_loss'])\n",
    "plt.legend(['training loss','validation loss'])\n",
    "plt.title(f'val_loss- {round(history.history[\"val_loss\"][8],ndigits=3)} and loss- {round(history.history[\"loss\"][8],ndigits=3)}')"
   ]
  },
  {
   "cell_type": "code",
   "execution_count": null,
   "metadata": {},
   "outputs": [],
   "source": []
  }
 ],
 "metadata": {
  "kernelspec": {
   "display_name": "Python 3",
   "language": "python",
   "name": "python3"
  },
  "language_info": {
   "codemirror_mode": {
    "name": "ipython",
    "version": 3
   },
   "file_extension": ".py",
   "mimetype": "text/x-python",
   "name": "python",
   "nbconvert_exporter": "python",
   "pygments_lexer": "ipython3",
   "version": "3.11.3"
  },
  "orig_nbformat": 4
 },
 "nbformat": 4,
 "nbformat_minor": 2
}
