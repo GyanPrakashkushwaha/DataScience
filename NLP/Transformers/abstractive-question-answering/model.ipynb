{
 "cells": [
  {
   "cell_type": "code",
   "execution_count": 1,
   "metadata": {},
   "outputs": [],
   "source": [
    "import pandas as pd"
   ]
  },
  {
   "cell_type": "code",
   "execution_count": 2,
   "metadata": {},
   "outputs": [],
   "source": [
    "df = pd.read_csv('data.csv')"
   ]
  },
  {
   "cell_type": "code",
   "execution_count": 3,
   "metadata": {},
   "outputs": [
    {
     "data": {
      "text/html": [
       "<div>\n",
       "<style scoped>\n",
       "    .dataframe tbody tr th:only-of-type {\n",
       "        vertical-align: middle;\n",
       "    }\n",
       "\n",
       "    .dataframe tbody tr th {\n",
       "        vertical-align: top;\n",
       "    }\n",
       "\n",
       "    .dataframe thead th {\n",
       "        text-align: right;\n",
       "    }\n",
       "</style>\n",
       "<table border=\"1\" class=\"dataframe\">\n",
       "  <thead>\n",
       "    <tr style=\"text-align: right;\">\n",
       "      <th></th>\n",
       "      <th>article_title</th>\n",
       "      <th>section_title</th>\n",
       "      <th>passage_text</th>\n",
       "    </tr>\n",
       "  </thead>\n",
       "  <tbody>\n",
       "    <tr>\n",
       "      <th>0</th>\n",
       "      <td>Taupo District</td>\n",
       "      <td>History</td>\n",
       "      <td>was not until the 1950s that the region starte...</td>\n",
       "    </tr>\n",
       "    <tr>\n",
       "      <th>1</th>\n",
       "      <td>Sutarfeni</td>\n",
       "      <td>History &amp; Western asian analogues</td>\n",
       "      <td>Sutarfeni History strand-like pheni were Phena...</td>\n",
       "    </tr>\n",
       "    <tr>\n",
       "      <th>2</th>\n",
       "      <td>The Bishop Wand Church of England School</td>\n",
       "      <td>History</td>\n",
       "      <td>The Bishop Wand Church of England School Histo...</td>\n",
       "    </tr>\n",
       "    <tr>\n",
       "      <th>3</th>\n",
       "      <td>Teufelsmoor</td>\n",
       "      <td>History &amp; Situation today</td>\n",
       "      <td>made to preserve the original landscape, altho...</td>\n",
       "    </tr>\n",
       "    <tr>\n",
       "      <th>4</th>\n",
       "      <td>Surface Hill Uniting Church</td>\n",
       "      <td>History</td>\n",
       "      <td>in perpetual reminder that work and worship go...</td>\n",
       "    </tr>\n",
       "    <tr>\n",
       "      <th>...</th>\n",
       "      <td>...</td>\n",
       "      <td>...</td>\n",
       "      <td>...</td>\n",
       "    </tr>\n",
       "    <tr>\n",
       "      <th>4996</th>\n",
       "      <td>The Brookings Register</td>\n",
       "      <td>History</td>\n",
       "      <td>for a one-year subscription.  On January 6, 18...</td>\n",
       "    </tr>\n",
       "    <tr>\n",
       "      <th>4997</th>\n",
       "      <td>The Introduction of the Cult of Cybele at Rome</td>\n",
       "      <td>History</td>\n",
       "      <td>it on ancient Roman sarcophagi, then starting ...</td>\n",
       "    </tr>\n",
       "    <tr>\n",
       "      <th>4998</th>\n",
       "      <td>Teng Feng Fish Ball Museum</td>\n",
       "      <td>History &amp; Architecture &amp; Exhibitions &amp; Transpo...</td>\n",
       "      <td>Teng Feng Fish Ball Museum History The museum ...</td>\n",
       "    </tr>\n",
       "    <tr>\n",
       "      <th>4999</th>\n",
       "      <td>The Humpybong Weekly and Advertiser</td>\n",
       "      <td>History</td>\n",
       "      <td>The Humpybong Weekly and Advertiser History Th...</td>\n",
       "    </tr>\n",
       "    <tr>\n",
       "      <th>5000</th>\n",
       "      <td>Tarrha</td>\n",
       "      <td>History</td>\n",
       "      <td>of his temple have been found. Tarrha is frequ...</td>\n",
       "    </tr>\n",
       "  </tbody>\n",
       "</table>\n",
       "<p>5001 rows × 3 columns</p>\n",
       "</div>"
      ],
      "text/plain": [
       "                                       article_title   \n",
       "0                                     Taupo District  \\\n",
       "1                                          Sutarfeni   \n",
       "2           The Bishop Wand Church of England School   \n",
       "3                                        Teufelsmoor   \n",
       "4                        Surface Hill Uniting Church   \n",
       "...                                              ...   \n",
       "4996                          The Brookings Register   \n",
       "4997  The Introduction of the Cult of Cybele at Rome   \n",
       "4998                      Teng Feng Fish Ball Museum   \n",
       "4999             The Humpybong Weekly and Advertiser   \n",
       "5000                                          Tarrha   \n",
       "\n",
       "                                          section_title   \n",
       "0                                               History  \\\n",
       "1                     History & Western asian analogues   \n",
       "2                                               History   \n",
       "3                             History & Situation today   \n",
       "4                                               History   \n",
       "...                                                 ...   \n",
       "4996                                            History   \n",
       "4997                                            History   \n",
       "4998  History & Architecture & Exhibitions & Transpo...   \n",
       "4999                                            History   \n",
       "5000                                            History   \n",
       "\n",
       "                                           passage_text  \n",
       "0     was not until the 1950s that the region starte...  \n",
       "1     Sutarfeni History strand-like pheni were Phena...  \n",
       "2     The Bishop Wand Church of England School Histo...  \n",
       "3     made to preserve the original landscape, altho...  \n",
       "4     in perpetual reminder that work and worship go...  \n",
       "...                                                 ...  \n",
       "4996  for a one-year subscription.  On January 6, 18...  \n",
       "4997  it on ancient Roman sarcophagi, then starting ...  \n",
       "4998  Teng Feng Fish Ball Museum History The museum ...  \n",
       "4999  The Humpybong Weekly and Advertiser History Th...  \n",
       "5000  of his temple have been found. Tarrha is frequ...  \n",
       "\n",
       "[5001 rows x 3 columns]"
      ]
     },
     "execution_count": 3,
     "metadata": {},
     "output_type": "execute_result"
    }
   ],
   "source": [
    "df"
   ]
  },
  {
   "cell_type": "markdown",
   "metadata": {},
   "source": [
    "# Initialize Pinecone Index"
   ]
  },
  {
   "cell_type": "markdown",
   "metadata": {},
   "source": [
    "The Pinecone index stores vector representations of our historical passages which we can retrieve later using another vector (query vector). To build our vector index, we must first establish a connection with Pinecone. For this, we need an API from Pinecone. You can get one for free from [here](https://app.pinecone.io/), and after that, we initialize the connection as follows:"
   ]
  },
  {
   "cell_type": "code",
   "execution_count": null,
   "metadata": {},
   "outputs": [],
   "source": [
    "import pinecone\n",
    "from api_key import pincone_apikey\n",
    "\n",
    "# connect to pinecone environment\n",
    "pinecone.init(\n",
    "    api_key= pincone_apikey,\n",
    "    environment=\"gcp-starter\"  # find next to API key in console\n",
    ")"
   ]
  },
  {
   "cell_type": "markdown",
   "metadata": {},
   "source": [
    "Now we create a new index. We will name it \"abstractive-question-answering\" — you can name it anything we want. We specify the metric type as \"cosine\" and dimension as 768 because the retriever we use to generate context embeddings is optimized for cosine similarity and outputs 768-dimension vectors."
   ]
  },
  {
   "cell_type": "code",
   "execution_count": null,
   "metadata": {},
   "outputs": [],
   "source": [
    "index_name = \"abstractive-question-answering\"\n",
    "\n",
    "# check if the abstractive-question-answering index exists\n",
    "if index_name not in pinecone.list_indexes():\n",
    "    # create the index if it does not exist\n",
    "    pinecone.create_index(\n",
    "        index_name,\n",
    "        dimension=768,\n",
    "        metric=\"cosine\"\n",
    "    )\n",
    "\n",
    "# connect to abstractive-question-answering index we created\n",
    "index = pinecone.Index(index_name)"
   ]
  },
  {
   "cell_type": "code",
   "execution_count": null,
   "metadata": {},
   "outputs": [
    {
     "data": {
      "text/plain": [
       "<pinecone.index.Index at 0x24e68db7bd0>"
      ]
     },
     "metadata": {},
     "output_type": "display_data"
    }
   ],
   "source": [
    "index"
   ]
  },
  {
   "cell_type": "markdown",
   "metadata": {},
   "source": [
    "# Initialize Retriever"
   ]
  },
  {
   "cell_type": "markdown",
   "metadata": {},
   "source": [
    "Next, we need to initialize our retriever. The retriever will mainly do two things:\n",
    "\n",
    "- Generate embeddings for all historical passages (context vectors/embeddings)\n",
    "- Generate embeddings for our questions (query vector/embedding)\n",
    "\n",
    "The retriever will create embeddings such that the questions and passages that hold the answers to our queries are close to one another in the vector space. We will use a SentenceTransformer model based on Microsoft's MPNet as our retriever. This model performs quite well for comparing the similarity between queries and documents. We can use Cosine Similarity to compute the similarity between query and context vectors generated by this model (Pinecone automatically does this for us)."
   ]
  },
  {
   "cell_type": "code",
   "execution_count": null,
   "metadata": {},
   "outputs": [
    {
     "data": {
      "application/vnd.jupyter.widget-view+json": {
       "model_id": "8f490e18c9a9462d9510324337662d37",
       "version_major": 2,
       "version_minor": 0
      },
      "text/plain": [
       "Downloading (…)e933c/.gitattributes:   0%|          | 0.00/737 [00:00<?, ?B/s]"
      ]
     },
     "metadata": {},
     "output_type": "display_data"
    },
    {
     "data": {
      "application/vnd.jupyter.widget-view+json": {
       "model_id": "29b01e341a674b578d0197ac64b2d144",
       "version_major": 2,
       "version_minor": 0
      },
      "text/plain": [
       "Downloading (…)_Pooling/config.json:   0%|          | 0.00/190 [00:00<?, ?B/s]"
      ]
     },
     "metadata": {},
     "output_type": "display_data"
    },
    {
     "data": {
      "application/vnd.jupyter.widget-view+json": {
       "model_id": "ac1b67e790684e97b77194d415106bec",
       "version_major": 2,
       "version_minor": 0
      },
      "text/plain": [
       "Downloading (…)cbe6ee933c/README.md:   0%|          | 0.00/9.85k [00:00<?, ?B/s]"
      ]
     },
     "metadata": {},
     "output_type": "display_data"
    },
    {
     "data": {
      "application/vnd.jupyter.widget-view+json": {
       "model_id": "e52adae1f1fb44a29220718974791144",
       "version_major": 2,
       "version_minor": 0
      },
      "text/plain": [
       "Downloading (…)e6ee933c/config.json:   0%|          | 0.00/591 [00:00<?, ?B/s]"
      ]
     },
     "metadata": {},
     "output_type": "display_data"
    },
    {
     "data": {
      "application/vnd.jupyter.widget-view+json": {
       "model_id": "bac57f0bcc4c427b80e774f4287d09bc",
       "version_major": 2,
       "version_minor": 0
      },
      "text/plain": [
       "Downloading (…)ce_transformers.json:   0%|          | 0.00/116 [00:00<?, ?B/s]"
      ]
     },
     "metadata": {},
     "output_type": "display_data"
    },
    {
     "data": {
      "application/vnd.jupyter.widget-view+json": {
       "model_id": "7d5cfa0c8ab24542a8ef4aa12f83e30c",
       "version_major": 2,
       "version_minor": 0
      },
      "text/plain": [
       "Downloading (…)33c/data_config.json:   0%|          | 0.00/15.7k [00:00<?, ?B/s]"
      ]
     },
     "metadata": {},
     "output_type": "display_data"
    },
    {
     "data": {
      "application/vnd.jupyter.widget-view+json": {
       "model_id": "ae0d87c5369444b4ab49a7e74d25f7cc",
       "version_major": 2,
       "version_minor": 0
      },
      "text/plain": [
       "Downloading pytorch_model.bin:   0%|          | 0.00/438M [00:00<?, ?B/s]"
      ]
     },
     "metadata": {},
     "output_type": "display_data"
    },
    {
     "data": {
      "application/vnd.jupyter.widget-view+json": {
       "model_id": "f02fbcf3de8a405f85170e34603baa92",
       "version_major": 2,
       "version_minor": 0
      },
      "text/plain": [
       "Downloading (…)nce_bert_config.json:   0%|          | 0.00/53.0 [00:00<?, ?B/s]"
      ]
     },
     "metadata": {},
     "output_type": "display_data"
    },
    {
     "data": {
      "application/vnd.jupyter.widget-view+json": {
       "model_id": "297a6266140640d997834f007d0c3ec3",
       "version_major": 2,
       "version_minor": 0
      },
      "text/plain": [
       "Downloading (…)cial_tokens_map.json:   0%|          | 0.00/239 [00:00<?, ?B/s]"
      ]
     },
     "metadata": {},
     "output_type": "display_data"
    },
    {
     "data": {
      "application/vnd.jupyter.widget-view+json": {
       "model_id": "0bfbcaaa3ab348059a99f9ba7a204fd6",
       "version_major": 2,
       "version_minor": 0
      },
      "text/plain": [
       "Downloading (…)e933c/tokenizer.json:   0%|          | 0.00/466k [00:00<?, ?B/s]"
      ]
     },
     "metadata": {},
     "output_type": "display_data"
    },
    {
     "data": {
      "application/vnd.jupyter.widget-view+json": {
       "model_id": "cfc3e07abb364ce38c4a3bb4f09d625f",
       "version_major": 2,
       "version_minor": 0
      },
      "text/plain": [
       "Downloading (…)okenizer_config.json:   0%|          | 0.00/383 [00:00<?, ?B/s]"
      ]
     },
     "metadata": {},
     "output_type": "display_data"
    },
    {
     "data": {
      "application/vnd.jupyter.widget-view+json": {
       "model_id": "9d5722b2fe43423aa58355ca01b11a25",
       "version_major": 2,
       "version_minor": 0
      },
      "text/plain": [
       "Downloading (…)933c/train_script.py:   0%|          | 0.00/13.2k [00:00<?, ?B/s]"
      ]
     },
     "metadata": {},
     "output_type": "display_data"
    },
    {
     "data": {
      "application/vnd.jupyter.widget-view+json": {
       "model_id": "8251687d15e7441b96e85f95ecc5d006",
       "version_major": 2,
       "version_minor": 0
      },
      "text/plain": [
       "Downloading (…)cbe6ee933c/vocab.txt:   0%|          | 0.00/232k [00:00<?, ?B/s]"
      ]
     },
     "metadata": {},
     "output_type": "display_data"
    },
    {
     "data": {
      "application/vnd.jupyter.widget-view+json": {
       "model_id": "c7f8f36661c94d38aca8f5d198b573f3",
       "version_major": 2,
       "version_minor": 0
      },
      "text/plain": [
       "Downloading (…)6ee933c/modules.json:   0%|          | 0.00/349 [00:00<?, ?B/s]"
      ]
     },
     "metadata": {},
     "output_type": "display_data"
    },
    {
     "data": {
      "text/plain": [
       "SentenceTransformer(\n",
       "  (0): Transformer({'max_seq_length': 128, 'do_lower_case': False}) with Transformer model: MPNetModel \n",
       "  (1): Pooling({'word_embedding_dimension': 768, 'pooling_mode_cls_token': False, 'pooling_mode_mean_tokens': True, 'pooling_mode_max_tokens': False, 'pooling_mode_mean_sqrt_len_tokens': False})\n",
       "  (2): Normalize()\n",
       ")"
      ]
     },
     "metadata": {},
     "output_type": "display_data"
    }
   ],
   "source": [
    "import torch\n",
    "from sentence_transformers import SentenceTransformer\n",
    "\n",
    "# set device to GPU if available\n",
    "device = 'cuda' if torch.cuda.is_available() else 'cpu'\n",
    "# load the retriever model from huggingface model hub\n",
    "retriever = SentenceTransformer(\"flax-sentence-embeddings/all_datasets_v3_mpnet-base\", device=device)\n",
    "retriever"
   ]
  },
  {
   "cell_type": "code",
   "execution_count": null,
   "metadata": {},
   "outputs": [
    {
     "data": {
      "text/plain": [
       "SentenceTransformer(\n",
       "  (0): Transformer({'max_seq_length': 128, 'do_lower_case': False}) with Transformer model: MPNetModel \n",
       "  (1): Pooling({'word_embedding_dimension': 768, 'pooling_mode_cls_token': False, 'pooling_mode_mean_tokens': True, 'pooling_mode_max_tokens': False, 'pooling_mode_mean_sqrt_len_tokens': False})\n",
       "  (2): Normalize()\n",
       ")"
      ]
     },
     "metadata": {},
     "output_type": "display_data"
    }
   ],
   "source": [
    "retriever"
   ]
  },
  {
   "cell_type": "markdown",
   "metadata": {},
   "source": [
    "# Generate Embeddings and Upsert"
   ]
  },
  {
   "cell_type": "markdown",
   "metadata": {},
   "source": [
    "Next, we need to generate embeddings for the context passages. We will do this in batches to help us more quickly generate embeddings and upload them to the Pinecone index. When passing the documents to Pinecone, we need an id (a unique value), context embedding, and metadata for each document representing context passages in the dataset. The metadata is a dictionary containing data relevant to our embeddings, such as the article title, section title, passage text, etc."
   ]
  },
  {
   "cell_type": "code",
   "execution_count": null,
   "metadata": {},
   "outputs": [
    {
     "data": {
      "application/vnd.jupyter.widget-view+json": {
       "model_id": "9075c628652d4f9096982bdb07f8b022",
       "version_major": 2,
       "version_minor": 0
      },
      "text/plain": [
       "  0%|          | 0/79 [00:00<?, ?it/s]"
      ]
     },
     "metadata": {},
     "output_type": "display_data"
    },
    {
     "ename": "PineconeProtocolError",
     "evalue": "Failed to connect; did you specify the correct index name?",
     "output_type": "error",
     "traceback": [
      "\u001b[1;31m---------------------------------------------------------------------------\u001b[0m\n",
      "\u001b[1;31mRemoteDisconnected\u001b[0m                        Traceback (most recent call last)\n",
      "File \u001b[1;32mc:\\Users\\Gyanprakash\\AppData\\Local\\Programs\\Python\\Python311\\Lib\\site-packages\\urllib3\\connectionpool.py:790\u001b[0m, in \u001b[0;36mHTTPConnectionPool.urlopen\u001b[1;34m(self, method, url, body, headers, retries, redirect, assert_same_host, timeout, pool_timeout, release_conn, chunked, body_pos, preload_content, decode_content, **response_kw)\u001b[0m\n",
      "\u001b[0;32m    789\u001b[0m \u001b[39m# Make the request on the HTTPConnection object\u001b[39;00m\n",
      "\u001b[1;32m--> 790\u001b[0m response \u001b[39m=\u001b[39m \u001b[39mself\u001b[39;49m\u001b[39m.\u001b[39;49m_make_request(\n",
      "\u001b[0;32m    791\u001b[0m     conn,\n",
      "\u001b[0;32m    792\u001b[0m     method,\n",
      "\u001b[0;32m    793\u001b[0m     url,\n",
      "\u001b[0;32m    794\u001b[0m     timeout\u001b[39m=\u001b[39;49mtimeout_obj,\n",
      "\u001b[0;32m    795\u001b[0m     body\u001b[39m=\u001b[39;49mbody,\n",
      "\u001b[0;32m    796\u001b[0m     headers\u001b[39m=\u001b[39;49mheaders,\n",
      "\u001b[0;32m    797\u001b[0m     chunked\u001b[39m=\u001b[39;49mchunked,\n",
      "\u001b[0;32m    798\u001b[0m     retries\u001b[39m=\u001b[39;49mretries,\n",
      "\u001b[0;32m    799\u001b[0m     response_conn\u001b[39m=\u001b[39;49mresponse_conn,\n",
      "\u001b[0;32m    800\u001b[0m     preload_content\u001b[39m=\u001b[39;49mpreload_content,\n",
      "\u001b[0;32m    801\u001b[0m     decode_content\u001b[39m=\u001b[39;49mdecode_content,\n",
      "\u001b[0;32m    802\u001b[0m     \u001b[39m*\u001b[39;49m\u001b[39m*\u001b[39;49mresponse_kw,\n",
      "\u001b[0;32m    803\u001b[0m )\n",
      "\u001b[0;32m    805\u001b[0m \u001b[39m# Everything went great!\u001b[39;00m\n",
      "\n",
      "File \u001b[1;32mc:\\Users\\Gyanprakash\\AppData\\Local\\Programs\\Python\\Python311\\Lib\\site-packages\\urllib3\\connectionpool.py:536\u001b[0m, in \u001b[0;36mHTTPConnectionPool._make_request\u001b[1;34m(self, conn, method, url, body, headers, retries, timeout, chunked, response_conn, preload_content, decode_content, enforce_content_length)\u001b[0m\n",
      "\u001b[0;32m    535\u001b[0m \u001b[39mtry\u001b[39;00m:\n",
      "\u001b[1;32m--> 536\u001b[0m     response \u001b[39m=\u001b[39m conn\u001b[39m.\u001b[39;49mgetresponse()\n",
      "\u001b[0;32m    537\u001b[0m \u001b[39mexcept\u001b[39;00m (BaseSSLError, \u001b[39mOSError\u001b[39;00m) \u001b[39mas\u001b[39;00m e:\n",
      "\n",
      "File \u001b[1;32mc:\\Users\\Gyanprakash\\AppData\\Local\\Programs\\Python\\Python311\\Lib\\site-packages\\urllib3\\connection.py:454\u001b[0m, in \u001b[0;36mHTTPConnection.getresponse\u001b[1;34m(self)\u001b[0m\n",
      "\u001b[0;32m    453\u001b[0m \u001b[39m# Get the response from http.client.HTTPConnection\u001b[39;00m\n",
      "\u001b[1;32m--> 454\u001b[0m httplib_response \u001b[39m=\u001b[39m \u001b[39msuper\u001b[39;49m()\u001b[39m.\u001b[39;49mgetresponse()\n",
      "\u001b[0;32m    456\u001b[0m \u001b[39mtry\u001b[39;00m:\n",
      "\n",
      "File \u001b[1;32mc:\\Users\\Gyanprakash\\AppData\\Local\\Programs\\Python\\Python311\\Lib\\http\\client.py:1375\u001b[0m, in \u001b[0;36mHTTPConnection.getresponse\u001b[1;34m(self)\u001b[0m\n",
      "\u001b[0;32m   1374\u001b[0m \u001b[39mtry\u001b[39;00m:\n",
      "\u001b[1;32m-> 1375\u001b[0m     response\u001b[39m.\u001b[39;49mbegin()\n",
      "\u001b[0;32m   1376\u001b[0m \u001b[39mexcept\u001b[39;00m \u001b[39mConnectionError\u001b[39;00m:\n",
      "\n",
      "File \u001b[1;32mc:\\Users\\Gyanprakash\\AppData\\Local\\Programs\\Python\\Python311\\Lib\\http\\client.py:318\u001b[0m, in \u001b[0;36mHTTPResponse.begin\u001b[1;34m(self)\u001b[0m\n",
      "\u001b[0;32m    317\u001b[0m \u001b[39mwhile\u001b[39;00m \u001b[39mTrue\u001b[39;00m:\n",
      "\u001b[1;32m--> 318\u001b[0m     version, status, reason \u001b[39m=\u001b[39m \u001b[39mself\u001b[39;49m\u001b[39m.\u001b[39;49m_read_status()\n",
      "\u001b[0;32m    319\u001b[0m     \u001b[39mif\u001b[39;00m status \u001b[39m!=\u001b[39m CONTINUE:\n",
      "\n",
      "File \u001b[1;32mc:\\Users\\Gyanprakash\\AppData\\Local\\Programs\\Python\\Python311\\Lib\\http\\client.py:287\u001b[0m, in \u001b[0;36mHTTPResponse._read_status\u001b[1;34m(self)\u001b[0m\n",
      "\u001b[0;32m    284\u001b[0m \u001b[39mif\u001b[39;00m \u001b[39mnot\u001b[39;00m line:\n",
      "\u001b[0;32m    285\u001b[0m     \u001b[39m# Presumably, the server closed the connection before\u001b[39;00m\n",
      "\u001b[0;32m    286\u001b[0m     \u001b[39m# sending a valid response.\u001b[39;00m\n",
      "\u001b[1;32m--> 287\u001b[0m     \u001b[39mraise\u001b[39;00m RemoteDisconnected(\u001b[39m\"\u001b[39m\u001b[39mRemote end closed connection without\u001b[39m\u001b[39m\"\u001b[39m\n",
      "\u001b[0;32m    288\u001b[0m                              \u001b[39m\"\u001b[39m\u001b[39m response\u001b[39m\u001b[39m\"\u001b[39m)\n",
      "\u001b[0;32m    289\u001b[0m \u001b[39mtry\u001b[39;00m:\n",
      "\n",
      "\u001b[1;31mRemoteDisconnected\u001b[0m: Remote end closed connection without response\n",
      "\n",
      "During handling of the above exception, another exception occurred:\n",
      "\n",
      "\u001b[1;31mProtocolError\u001b[0m                             Traceback (most recent call last)\n",
      "File \u001b[1;32mc:\\Users\\Gyanprakash\\AppData\\Local\\Programs\\Python\\Python311\\Lib\\site-packages\\pinecone\\core\\utils\\error_handling.py:17\u001b[0m, in \u001b[0;36mvalidate_and_convert_errors.<locals>.inner_func\u001b[1;34m(*args, **kwargs)\u001b[0m\n",
      "\u001b[0;32m     16\u001b[0m \u001b[39mtry\u001b[39;00m:\n",
      "\u001b[1;32m---> 17\u001b[0m     \u001b[39mreturn\u001b[39;00m func(\u001b[39m*\u001b[39;49margs, \u001b[39m*\u001b[39;49m\u001b[39m*\u001b[39;49mkwargs)\n",
      "\u001b[0;32m     18\u001b[0m \u001b[39mexcept\u001b[39;00m MaxRetryError \u001b[39mas\u001b[39;00m e:\n",
      "\n",
      "File \u001b[1;32mc:\\Users\\Gyanprakash\\AppData\\Local\\Programs\\Python\\Python311\\Lib\\site-packages\\pinecone\\index.py:150\u001b[0m, in \u001b[0;36mIndex.upsert\u001b[1;34m(self, vectors, namespace, batch_size, show_progress, **kwargs)\u001b[0m\n",
      "\u001b[0;32m    149\u001b[0m \u001b[39mif\u001b[39;00m batch_size \u001b[39mis\u001b[39;00m \u001b[39mNone\u001b[39;00m:\n",
      "\u001b[1;32m--> 150\u001b[0m     \u001b[39mreturn\u001b[39;00m \u001b[39mself\u001b[39;49m\u001b[39m.\u001b[39;49m_upsert_batch(vectors, namespace, _check_type, \u001b[39m*\u001b[39;49m\u001b[39m*\u001b[39;49mkwargs)\n",
      "\u001b[0;32m    152\u001b[0m \u001b[39mif\u001b[39;00m \u001b[39mnot\u001b[39;00m \u001b[39misinstance\u001b[39m(batch_size, \u001b[39mint\u001b[39m) \u001b[39mor\u001b[39;00m batch_size \u001b[39m<\u001b[39m\u001b[39m=\u001b[39m \u001b[39m0\u001b[39m:\n",
      "\n",
      "File \u001b[1;32mc:\\Users\\Gyanprakash\\AppData\\Local\\Programs\\Python\\Python311\\Lib\\site-packages\\pinecone\\index.py:237\u001b[0m, in \u001b[0;36mIndex._upsert_batch\u001b[1;34m(self, vectors, namespace, _check_type, **kwargs)\u001b[0m\n",
      "\u001b[0;32m    235\u001b[0m     \u001b[39mraise\u001b[39;00m \u001b[39mValueError\u001b[39;00m(\u001b[39mf\u001b[39m\u001b[39m\"\u001b[39m\u001b[39mInvalid vector value passed: cannot interpret type \u001b[39m\u001b[39m{\u001b[39;00m\u001b[39mtype\u001b[39m(item)\u001b[39m}\u001b[39;00m\u001b[39m\"\u001b[39m)\n",
      "\u001b[1;32m--> 237\u001b[0m \u001b[39mreturn\u001b[39;00m \u001b[39mself\u001b[39;49m\u001b[39m.\u001b[39;49m_vector_api\u001b[39m.\u001b[39;49mupsert(\n",
      "\u001b[0;32m    238\u001b[0m     UpsertRequest(\n",
      "\u001b[0;32m    239\u001b[0m         vectors\u001b[39m=\u001b[39;49m\u001b[39mlist\u001b[39;49m(\u001b[39mmap\u001b[39;49m(_vector_transform, vectors)),\n",
      "\u001b[0;32m    240\u001b[0m         \u001b[39m*\u001b[39;49m\u001b[39m*\u001b[39;49margs_dict,\n",
      "\u001b[0;32m    241\u001b[0m         _check_type\u001b[39m=\u001b[39;49m_check_type,\n",
      "\u001b[0;32m    242\u001b[0m         \u001b[39m*\u001b[39;49m\u001b[39m*\u001b[39;49m{k: v \u001b[39mfor\u001b[39;49;00m k, v \u001b[39min\u001b[39;49;00m kwargs\u001b[39m.\u001b[39;49mitems() \u001b[39mif\u001b[39;49;00m k \u001b[39mnot\u001b[39;49;00m \u001b[39min\u001b[39;49;00m _OPENAPI_ENDPOINT_PARAMS}\n",
      "\u001b[0;32m    243\u001b[0m     ),\n",
      "\u001b[0;32m    244\u001b[0m     \u001b[39m*\u001b[39;49m\u001b[39m*\u001b[39;49m{k: v \u001b[39mfor\u001b[39;49;00m k, v \u001b[39min\u001b[39;49;00m kwargs\u001b[39m.\u001b[39;49mitems() \u001b[39mif\u001b[39;49;00m k \u001b[39min\u001b[39;49;00m _OPENAPI_ENDPOINT_PARAMS}\n",
      "\u001b[0;32m    245\u001b[0m )\n",
      "\n",
      "File \u001b[1;32mc:\\Users\\Gyanprakash\\AppData\\Local\\Programs\\Python\\Python311\\Lib\\site-packages\\pinecone\\core\\client\\api_client.py:776\u001b[0m, in \u001b[0;36mEndpoint.__call__\u001b[1;34m(self, *args, **kwargs)\u001b[0m\n",
      "\u001b[0;32m    766\u001b[0m \u001b[39m\u001b[39m\u001b[39m\"\"\" This method is invoked when endpoints are called\u001b[39;00m\n",
      "\u001b[0;32m    767\u001b[0m \u001b[39mExample:\u001b[39;00m\n",
      "\u001b[0;32m    768\u001b[0m \n",
      "\u001b[1;32m   (...)\u001b[0m\n",
      "\u001b[0;32m    774\u001b[0m \n",
      "\u001b[0;32m    775\u001b[0m \u001b[39m\"\"\"\u001b[39;00m\n",
      "\u001b[1;32m--> 776\u001b[0m \u001b[39mreturn\u001b[39;00m \u001b[39mself\u001b[39;49m\u001b[39m.\u001b[39;49mcallable(\u001b[39mself\u001b[39;49m, \u001b[39m*\u001b[39;49margs, \u001b[39m*\u001b[39;49m\u001b[39m*\u001b[39;49mkwargs)\n",
      "\n",
      "File \u001b[1;32mc:\\Users\\Gyanprakash\\AppData\\Local\\Programs\\Python\\Python311\\Lib\\site-packages\\pinecone\\core\\client\\api\\vector_operations_api.py:956\u001b[0m, in \u001b[0;36mVectorOperationsApi.__init__.<locals>.__upsert\u001b[1;34m(self, upsert_request, **kwargs)\u001b[0m\n",
      "\u001b[0;32m    954\u001b[0m kwargs[\u001b[39m'\u001b[39m\u001b[39mupsert_request\u001b[39m\u001b[39m'\u001b[39m] \u001b[39m=\u001b[39m \\\n",
      "\u001b[0;32m    955\u001b[0m     upsert_request\n",
      "\u001b[1;32m--> 956\u001b[0m \u001b[39mreturn\u001b[39;00m \u001b[39mself\u001b[39;49m\u001b[39m.\u001b[39;49mcall_with_http_info(\u001b[39m*\u001b[39;49m\u001b[39m*\u001b[39;49mkwargs)\n",
      "\n",
      "File \u001b[1;32mc:\\Users\\Gyanprakash\\AppData\\Local\\Programs\\Python\\Python311\\Lib\\site-packages\\pinecone\\core\\client\\api_client.py:838\u001b[0m, in \u001b[0;36mEndpoint.call_with_http_info\u001b[1;34m(self, **kwargs)\u001b[0m\n",
      "\u001b[0;32m    836\u001b[0m     params[\u001b[39m'\u001b[39m\u001b[39mheader\u001b[39m\u001b[39m'\u001b[39m][\u001b[39m'\u001b[39m\u001b[39mContent-Type\u001b[39m\u001b[39m'\u001b[39m] \u001b[39m=\u001b[39m header_list\n",
      "\u001b[1;32m--> 838\u001b[0m \u001b[39mreturn\u001b[39;00m \u001b[39mself\u001b[39;49m\u001b[39m.\u001b[39;49mapi_client\u001b[39m.\u001b[39;49mcall_api(\n",
      "\u001b[0;32m    839\u001b[0m     \u001b[39mself\u001b[39;49m\u001b[39m.\u001b[39;49msettings[\u001b[39m'\u001b[39;49m\u001b[39mendpoint_path\u001b[39;49m\u001b[39m'\u001b[39;49m], \u001b[39mself\u001b[39;49m\u001b[39m.\u001b[39;49msettings[\u001b[39m'\u001b[39;49m\u001b[39mhttp_method\u001b[39;49m\u001b[39m'\u001b[39;49m],\n",
      "\u001b[0;32m    840\u001b[0m     params[\u001b[39m'\u001b[39;49m\u001b[39mpath\u001b[39;49m\u001b[39m'\u001b[39;49m],\n",
      "\u001b[0;32m    841\u001b[0m     params[\u001b[39m'\u001b[39;49m\u001b[39mquery\u001b[39;49m\u001b[39m'\u001b[39;49m],\n",
      "\u001b[0;32m    842\u001b[0m     params[\u001b[39m'\u001b[39;49m\u001b[39mheader\u001b[39;49m\u001b[39m'\u001b[39;49m],\n",
      "\u001b[0;32m    843\u001b[0m     body\u001b[39m=\u001b[39;49mparams[\u001b[39m'\u001b[39;49m\u001b[39mbody\u001b[39;49m\u001b[39m'\u001b[39;49m],\n",
      "\u001b[0;32m    844\u001b[0m     post_params\u001b[39m=\u001b[39;49mparams[\u001b[39m'\u001b[39;49m\u001b[39mform\u001b[39;49m\u001b[39m'\u001b[39;49m],\n",
      "\u001b[0;32m    845\u001b[0m     files\u001b[39m=\u001b[39;49mparams[\u001b[39m'\u001b[39;49m\u001b[39mfile\u001b[39;49m\u001b[39m'\u001b[39;49m],\n",
      "\u001b[0;32m    846\u001b[0m     response_type\u001b[39m=\u001b[39;49m\u001b[39mself\u001b[39;49m\u001b[39m.\u001b[39;49msettings[\u001b[39m'\u001b[39;49m\u001b[39mresponse_type\u001b[39;49m\u001b[39m'\u001b[39;49m],\n",
      "\u001b[0;32m    847\u001b[0m     auth_settings\u001b[39m=\u001b[39;49m\u001b[39mself\u001b[39;49m\u001b[39m.\u001b[39;49msettings[\u001b[39m'\u001b[39;49m\u001b[39mauth\u001b[39;49m\u001b[39m'\u001b[39;49m],\n",
      "\u001b[0;32m    848\u001b[0m     async_req\u001b[39m=\u001b[39;49mkwargs[\u001b[39m'\u001b[39;49m\u001b[39masync_req\u001b[39;49m\u001b[39m'\u001b[39;49m],\n",
      "\u001b[0;32m    849\u001b[0m     _check_type\u001b[39m=\u001b[39;49mkwargs[\u001b[39m'\u001b[39;49m\u001b[39m_check_return_type\u001b[39;49m\u001b[39m'\u001b[39;49m],\n",
      "\u001b[0;32m    850\u001b[0m     _return_http_data_only\u001b[39m=\u001b[39;49mkwargs[\u001b[39m'\u001b[39;49m\u001b[39m_return_http_data_only\u001b[39;49m\u001b[39m'\u001b[39;49m],\n",
      "\u001b[0;32m    851\u001b[0m     _preload_content\u001b[39m=\u001b[39;49mkwargs[\u001b[39m'\u001b[39;49m\u001b[39m_preload_content\u001b[39;49m\u001b[39m'\u001b[39;49m],\n",
      "\u001b[0;32m    852\u001b[0m     _request_timeout\u001b[39m=\u001b[39;49mkwargs[\u001b[39m'\u001b[39;49m\u001b[39m_request_timeout\u001b[39;49m\u001b[39m'\u001b[39;49m],\n",
      "\u001b[0;32m    853\u001b[0m     _host\u001b[39m=\u001b[39;49m_host,\n",
      "\u001b[0;32m    854\u001b[0m     collection_formats\u001b[39m=\u001b[39;49mparams[\u001b[39m'\u001b[39;49m\u001b[39mcollection_format\u001b[39;49m\u001b[39m'\u001b[39;49m])\n",
      "\n",
      "File \u001b[1;32mc:\\Users\\Gyanprakash\\AppData\\Local\\Programs\\Python\\Python311\\Lib\\site-packages\\pinecone\\core\\client\\api_client.py:413\u001b[0m, in \u001b[0;36mApiClient.call_api\u001b[1;34m(self, resource_path, method, path_params, query_params, header_params, body, post_params, files, response_type, auth_settings, async_req, _return_http_data_only, collection_formats, _preload_content, _request_timeout, _host, _check_type)\u001b[0m\n",
      "\u001b[0;32m    412\u001b[0m \u001b[39mif\u001b[39;00m \u001b[39mnot\u001b[39;00m async_req:\n",
      "\u001b[1;32m--> 413\u001b[0m     \u001b[39mreturn\u001b[39;00m \u001b[39mself\u001b[39;49m\u001b[39m.\u001b[39;49m__call_api(resource_path, method,\n",
      "\u001b[0;32m    414\u001b[0m                            path_params, query_params, header_params,\n",
      "\u001b[0;32m    415\u001b[0m                            body, post_params, files,\n",
      "\u001b[0;32m    416\u001b[0m                            response_type, auth_settings,\n",
      "\u001b[0;32m    417\u001b[0m                            _return_http_data_only, collection_formats,\n",
      "\u001b[0;32m    418\u001b[0m                            _preload_content, _request_timeout, _host,\n",
      "\u001b[0;32m    419\u001b[0m                            _check_type)\n",
      "\u001b[0;32m    421\u001b[0m \u001b[39mreturn\u001b[39;00m \u001b[39mself\u001b[39m\u001b[39m.\u001b[39mpool\u001b[39m.\u001b[39mapply_async(\u001b[39mself\u001b[39m\u001b[39m.\u001b[39m__call_api, (resource_path,\n",
      "\u001b[0;32m    422\u001b[0m                                                method, path_params,\n",
      "\u001b[0;32m    423\u001b[0m                                                query_params,\n",
      "\u001b[1;32m   (...)\u001b[0m\n",
      "\u001b[0;32m    431\u001b[0m                                                _request_timeout,\n",
      "\u001b[0;32m    432\u001b[0m                                                _host, _check_type))\n",
      "\n",
      "File \u001b[1;32mc:\\Users\\Gyanprakash\\AppData\\Local\\Programs\\Python\\Python311\\Lib\\site-packages\\pinecone\\core\\client\\api_client.py:200\u001b[0m, in \u001b[0;36mApiClient.__call_api\u001b[1;34m(self, resource_path, method, path_params, query_params, header_params, body, post_params, files, response_type, auth_settings, _return_http_data_only, collection_formats, _preload_content, _request_timeout, _host, _check_type)\u001b[0m\n",
      "\u001b[0;32m    198\u001b[0m \u001b[39mtry\u001b[39;00m:\n",
      "\u001b[0;32m    199\u001b[0m     \u001b[39m# perform request and return response\u001b[39;00m\n",
      "\u001b[1;32m--> 200\u001b[0m     response_data \u001b[39m=\u001b[39m \u001b[39mself\u001b[39;49m\u001b[39m.\u001b[39;49mrequest(\n",
      "\u001b[0;32m    201\u001b[0m         method, url, query_params\u001b[39m=\u001b[39;49mquery_params, headers\u001b[39m=\u001b[39;49mheader_params,\n",
      "\u001b[0;32m    202\u001b[0m         post_params\u001b[39m=\u001b[39;49mpost_params, body\u001b[39m=\u001b[39;49mbody,\n",
      "\u001b[0;32m    203\u001b[0m         _preload_content\u001b[39m=\u001b[39;49m_preload_content,\n",
      "\u001b[0;32m    204\u001b[0m         _request_timeout\u001b[39m=\u001b[39;49m_request_timeout)\n",
      "\u001b[0;32m    205\u001b[0m \u001b[39mexcept\u001b[39;00m ApiException \u001b[39mas\u001b[39;00m e:\n",
      "\n",
      "File \u001b[1;32mc:\\Users\\Gyanprakash\\AppData\\Local\\Programs\\Python\\Python311\\Lib\\site-packages\\pinecone\\core\\client\\api_client.py:459\u001b[0m, in \u001b[0;36mApiClient.request\u001b[1;34m(self, method, url, query_params, headers, post_params, body, _preload_content, _request_timeout)\u001b[0m\n",
      "\u001b[0;32m    458\u001b[0m \u001b[39melif\u001b[39;00m method \u001b[39m==\u001b[39m \u001b[39m\"\u001b[39m\u001b[39mPOST\u001b[39m\u001b[39m\"\u001b[39m:\n",
      "\u001b[1;32m--> 459\u001b[0m     \u001b[39mreturn\u001b[39;00m \u001b[39mself\u001b[39;49m\u001b[39m.\u001b[39;49mrest_client\u001b[39m.\u001b[39;49mPOST(url,\n",
      "\u001b[0;32m    460\u001b[0m                                  query_params\u001b[39m=\u001b[39;49mquery_params,\n",
      "\u001b[0;32m    461\u001b[0m                                  headers\u001b[39m=\u001b[39;49mheaders,\n",
      "\u001b[0;32m    462\u001b[0m                                  post_params\u001b[39m=\u001b[39;49mpost_params,\n",
      "\u001b[0;32m    463\u001b[0m                                  _preload_content\u001b[39m=\u001b[39;49m_preload_content,\n",
      "\u001b[0;32m    464\u001b[0m                                  _request_timeout\u001b[39m=\u001b[39;49m_request_timeout,\n",
      "\u001b[0;32m    465\u001b[0m                                  body\u001b[39m=\u001b[39;49mbody)\n",
      "\u001b[0;32m    466\u001b[0m \u001b[39melif\u001b[39;00m method \u001b[39m==\u001b[39m \u001b[39m\"\u001b[39m\u001b[39mPUT\u001b[39m\u001b[39m\"\u001b[39m:\n",
      "\n",
      "File \u001b[1;32mc:\\Users\\Gyanprakash\\AppData\\Local\\Programs\\Python\\Python311\\Lib\\site-packages\\pinecone\\core\\client\\rest.py:271\u001b[0m, in \u001b[0;36mRESTClientObject.POST\u001b[1;34m(self, url, headers, query_params, post_params, body, _preload_content, _request_timeout)\u001b[0m\n",
      "\u001b[0;32m    269\u001b[0m \u001b[39mdef\u001b[39;00m \u001b[39mPOST\u001b[39m(\u001b[39mself\u001b[39m, url, headers\u001b[39m=\u001b[39m\u001b[39mNone\u001b[39;00m, query_params\u001b[39m=\u001b[39m\u001b[39mNone\u001b[39;00m, post_params\u001b[39m=\u001b[39m\u001b[39mNone\u001b[39;00m,\n",
      "\u001b[0;32m    270\u001b[0m          body\u001b[39m=\u001b[39m\u001b[39mNone\u001b[39;00m, _preload_content\u001b[39m=\u001b[39m\u001b[39mTrue\u001b[39;00m, _request_timeout\u001b[39m=\u001b[39m\u001b[39mNone\u001b[39;00m):\n",
      "\u001b[1;32m--> 271\u001b[0m     \u001b[39mreturn\u001b[39;00m \u001b[39mself\u001b[39;49m\u001b[39m.\u001b[39;49mrequest(\u001b[39m\"\u001b[39;49m\u001b[39mPOST\u001b[39;49m\u001b[39m\"\u001b[39;49m, url,\n",
      "\u001b[0;32m    272\u001b[0m                         headers\u001b[39m=\u001b[39;49mheaders,\n",
      "\u001b[0;32m    273\u001b[0m                         query_params\u001b[39m=\u001b[39;49mquery_params,\n",
      "\u001b[0;32m    274\u001b[0m                         post_params\u001b[39m=\u001b[39;49mpost_params,\n",
      "\u001b[0;32m    275\u001b[0m                         _preload_content\u001b[39m=\u001b[39;49m_preload_content,\n",
      "\u001b[0;32m    276\u001b[0m                         _request_timeout\u001b[39m=\u001b[39;49m_request_timeout,\n",
      "\u001b[0;32m    277\u001b[0m                         body\u001b[39m=\u001b[39;49mbody)\n",
      "\n",
      "File \u001b[1;32mc:\\Users\\Gyanprakash\\AppData\\Local\\Programs\\Python\\Python311\\Lib\\site-packages\\pinecone\\core\\client\\rest.py:157\u001b[0m, in \u001b[0;36mRESTClientObject.request\u001b[1;34m(self, method, url, query_params, headers, body, post_params, _preload_content, _request_timeout)\u001b[0m\n",
      "\u001b[0;32m    156\u001b[0m         request_body \u001b[39m=\u001b[39m json\u001b[39m.\u001b[39mdumps(body)\n",
      "\u001b[1;32m--> 157\u001b[0m     r \u001b[39m=\u001b[39m \u001b[39mself\u001b[39;49m\u001b[39m.\u001b[39;49mpool_manager\u001b[39m.\u001b[39;49mrequest(\n",
      "\u001b[0;32m    158\u001b[0m         method, url,\n",
      "\u001b[0;32m    159\u001b[0m         body\u001b[39m=\u001b[39;49mrequest_body,\n",
      "\u001b[0;32m    160\u001b[0m         preload_content\u001b[39m=\u001b[39;49m_preload_content,\n",
      "\u001b[0;32m    161\u001b[0m         timeout\u001b[39m=\u001b[39;49mtimeout,\n",
      "\u001b[0;32m    162\u001b[0m         headers\u001b[39m=\u001b[39;49mheaders)\n",
      "\u001b[0;32m    163\u001b[0m \u001b[39melif\u001b[39;00m headers[\u001b[39m'\u001b[39m\u001b[39mContent-Type\u001b[39m\u001b[39m'\u001b[39m] \u001b[39m==\u001b[39m \u001b[39m'\u001b[39m\u001b[39mapplication/x-www-form-urlencoded\u001b[39m\u001b[39m'\u001b[39m:  \u001b[39m# noqa: E501\u001b[39;00m\n",
      "\n",
      "File \u001b[1;32mc:\\Users\\Gyanprakash\\AppData\\Local\\Programs\\Python\\Python311\\Lib\\site-packages\\urllib3\\_request_methods.py:118\u001b[0m, in \u001b[0;36mRequestMethods.request\u001b[1;34m(self, method, url, body, fields, headers, json, **urlopen_kw)\u001b[0m\n",
      "\u001b[0;32m    117\u001b[0m \u001b[39melse\u001b[39;00m:\n",
      "\u001b[1;32m--> 118\u001b[0m     \u001b[39mreturn\u001b[39;00m \u001b[39mself\u001b[39;49m\u001b[39m.\u001b[39;49mrequest_encode_body(\n",
      "\u001b[0;32m    119\u001b[0m         method, url, fields\u001b[39m=\u001b[39;49mfields, headers\u001b[39m=\u001b[39;49mheaders, \u001b[39m*\u001b[39;49m\u001b[39m*\u001b[39;49murlopen_kw\n",
      "\u001b[0;32m    120\u001b[0m     )\n",
      "\n",
      "File \u001b[1;32mc:\\Users\\Gyanprakash\\AppData\\Local\\Programs\\Python\\Python311\\Lib\\site-packages\\urllib3\\_request_methods.py:217\u001b[0m, in \u001b[0;36mRequestMethods.request_encode_body\u001b[1;34m(self, method, url, fields, headers, encode_multipart, multipart_boundary, **urlopen_kw)\u001b[0m\n",
      "\u001b[0;32m    215\u001b[0m extra_kw\u001b[39m.\u001b[39mupdate(urlopen_kw)\n",
      "\u001b[1;32m--> 217\u001b[0m \u001b[39mreturn\u001b[39;00m \u001b[39mself\u001b[39;49m\u001b[39m.\u001b[39;49murlopen(method, url, \u001b[39m*\u001b[39;49m\u001b[39m*\u001b[39;49mextra_kw)\n",
      "\n",
      "File \u001b[1;32mc:\\Users\\Gyanprakash\\AppData\\Local\\Programs\\Python\\Python311\\Lib\\site-packages\\urllib3\\poolmanager.py:443\u001b[0m, in \u001b[0;36mPoolManager.urlopen\u001b[1;34m(self, method, url, redirect, **kw)\u001b[0m\n",
      "\u001b[0;32m    442\u001b[0m \u001b[39melse\u001b[39;00m:\n",
      "\u001b[1;32m--> 443\u001b[0m     response \u001b[39m=\u001b[39m conn\u001b[39m.\u001b[39;49murlopen(method, u\u001b[39m.\u001b[39;49mrequest_uri, \u001b[39m*\u001b[39;49m\u001b[39m*\u001b[39;49mkw)\n",
      "\u001b[0;32m    445\u001b[0m redirect_location \u001b[39m=\u001b[39m redirect \u001b[39mand\u001b[39;00m response\u001b[39m.\u001b[39mget_redirect_location()\n",
      "\n",
      "File \u001b[1;32mc:\\Users\\Gyanprakash\\AppData\\Local\\Programs\\Python\\Python311\\Lib\\site-packages\\urllib3\\connectionpool.py:844\u001b[0m, in \u001b[0;36mHTTPConnectionPool.urlopen\u001b[1;34m(self, method, url, body, headers, retries, redirect, assert_same_host, timeout, pool_timeout, release_conn, chunked, body_pos, preload_content, decode_content, **response_kw)\u001b[0m\n",
      "\u001b[0;32m    842\u001b[0m     new_e \u001b[39m=\u001b[39m ProtocolError(\u001b[39m\"\u001b[39m\u001b[39mConnection aborted.\u001b[39m\u001b[39m\"\u001b[39m, new_e)\n",
      "\u001b[1;32m--> 844\u001b[0m retries \u001b[39m=\u001b[39m retries\u001b[39m.\u001b[39;49mincrement(\n",
      "\u001b[0;32m    845\u001b[0m     method, url, error\u001b[39m=\u001b[39;49mnew_e, _pool\u001b[39m=\u001b[39;49m\u001b[39mself\u001b[39;49m, _stacktrace\u001b[39m=\u001b[39;49msys\u001b[39m.\u001b[39;49mexc_info()[\u001b[39m2\u001b[39;49m]\n",
      "\u001b[0;32m    846\u001b[0m )\n",
      "\u001b[0;32m    847\u001b[0m retries\u001b[39m.\u001b[39msleep()\n",
      "\n",
      "File \u001b[1;32mc:\\Users\\Gyanprakash\\AppData\\Local\\Programs\\Python\\Python311\\Lib\\site-packages\\urllib3\\util\\retry.py:470\u001b[0m, in \u001b[0;36mRetry.increment\u001b[1;34m(self, method, url, response, error, _pool, _stacktrace)\u001b[0m\n",
      "\u001b[0;32m    469\u001b[0m \u001b[39mif\u001b[39;00m read \u001b[39mis\u001b[39;00m \u001b[39mFalse\u001b[39;00m \u001b[39mor\u001b[39;00m method \u001b[39mis\u001b[39;00m \u001b[39mNone\u001b[39;00m \u001b[39mor\u001b[39;00m \u001b[39mnot\u001b[39;00m \u001b[39mself\u001b[39m\u001b[39m.\u001b[39m_is_method_retryable(method):\n",
      "\u001b[1;32m--> 470\u001b[0m     \u001b[39mraise\u001b[39;00m reraise(\u001b[39mtype\u001b[39;49m(error), error, _stacktrace)\n",
      "\u001b[0;32m    471\u001b[0m \u001b[39melif\u001b[39;00m read \u001b[39mis\u001b[39;00m \u001b[39mnot\u001b[39;00m \u001b[39mNone\u001b[39;00m:\n",
      "\n",
      "File \u001b[1;32mc:\\Users\\Gyanprakash\\AppData\\Local\\Programs\\Python\\Python311\\Lib\\site-packages\\urllib3\\util\\util.py:38\u001b[0m, in \u001b[0;36mreraise\u001b[1;34m(tp, value, tb)\u001b[0m\n",
      "\u001b[0;32m     37\u001b[0m \u001b[39mif\u001b[39;00m value\u001b[39m.\u001b[39m__traceback__ \u001b[39mis\u001b[39;00m \u001b[39mnot\u001b[39;00m tb:\n",
      "\u001b[1;32m---> 38\u001b[0m     \u001b[39mraise\u001b[39;00m value\u001b[39m.\u001b[39mwith_traceback(tb)\n",
      "\u001b[0;32m     39\u001b[0m \u001b[39mraise\u001b[39;00m value\n",
      "\n",
      "File \u001b[1;32mc:\\Users\\Gyanprakash\\AppData\\Local\\Programs\\Python\\Python311\\Lib\\site-packages\\urllib3\\connectionpool.py:790\u001b[0m, in \u001b[0;36mHTTPConnectionPool.urlopen\u001b[1;34m(self, method, url, body, headers, retries, redirect, assert_same_host, timeout, pool_timeout, release_conn, chunked, body_pos, preload_content, decode_content, **response_kw)\u001b[0m\n",
      "\u001b[0;32m    789\u001b[0m \u001b[39m# Make the request on the HTTPConnection object\u001b[39;00m\n",
      "\u001b[1;32m--> 790\u001b[0m response \u001b[39m=\u001b[39m \u001b[39mself\u001b[39;49m\u001b[39m.\u001b[39;49m_make_request(\n",
      "\u001b[0;32m    791\u001b[0m     conn,\n",
      "\u001b[0;32m    792\u001b[0m     method,\n",
      "\u001b[0;32m    793\u001b[0m     url,\n",
      "\u001b[0;32m    794\u001b[0m     timeout\u001b[39m=\u001b[39;49mtimeout_obj,\n",
      "\u001b[0;32m    795\u001b[0m     body\u001b[39m=\u001b[39;49mbody,\n",
      "\u001b[0;32m    796\u001b[0m     headers\u001b[39m=\u001b[39;49mheaders,\n",
      "\u001b[0;32m    797\u001b[0m     chunked\u001b[39m=\u001b[39;49mchunked,\n",
      "\u001b[0;32m    798\u001b[0m     retries\u001b[39m=\u001b[39;49mretries,\n",
      "\u001b[0;32m    799\u001b[0m     response_conn\u001b[39m=\u001b[39;49mresponse_conn,\n",
      "\u001b[0;32m    800\u001b[0m     preload_content\u001b[39m=\u001b[39;49mpreload_content,\n",
      "\u001b[0;32m    801\u001b[0m     decode_content\u001b[39m=\u001b[39;49mdecode_content,\n",
      "\u001b[0;32m    802\u001b[0m     \u001b[39m*\u001b[39;49m\u001b[39m*\u001b[39;49mresponse_kw,\n",
      "\u001b[0;32m    803\u001b[0m )\n",
      "\u001b[0;32m    805\u001b[0m \u001b[39m# Everything went great!\u001b[39;00m\n",
      "\n",
      "File \u001b[1;32mc:\\Users\\Gyanprakash\\AppData\\Local\\Programs\\Python\\Python311\\Lib\\site-packages\\urllib3\\connectionpool.py:536\u001b[0m, in \u001b[0;36mHTTPConnectionPool._make_request\u001b[1;34m(self, conn, method, url, body, headers, retries, timeout, chunked, response_conn, preload_content, decode_content, enforce_content_length)\u001b[0m\n",
      "\u001b[0;32m    535\u001b[0m \u001b[39mtry\u001b[39;00m:\n",
      "\u001b[1;32m--> 536\u001b[0m     response \u001b[39m=\u001b[39m conn\u001b[39m.\u001b[39;49mgetresponse()\n",
      "\u001b[0;32m    537\u001b[0m \u001b[39mexcept\u001b[39;00m (BaseSSLError, \u001b[39mOSError\u001b[39;00m) \u001b[39mas\u001b[39;00m e:\n",
      "\n",
      "File \u001b[1;32mc:\\Users\\Gyanprakash\\AppData\\Local\\Programs\\Python\\Python311\\Lib\\site-packages\\urllib3\\connection.py:454\u001b[0m, in \u001b[0;36mHTTPConnection.getresponse\u001b[1;34m(self)\u001b[0m\n",
      "\u001b[0;32m    453\u001b[0m \u001b[39m# Get the response from http.client.HTTPConnection\u001b[39;00m\n",
      "\u001b[1;32m--> 454\u001b[0m httplib_response \u001b[39m=\u001b[39m \u001b[39msuper\u001b[39;49m()\u001b[39m.\u001b[39;49mgetresponse()\n",
      "\u001b[0;32m    456\u001b[0m \u001b[39mtry\u001b[39;00m:\n",
      "\n",
      "File \u001b[1;32mc:\\Users\\Gyanprakash\\AppData\\Local\\Programs\\Python\\Python311\\Lib\\http\\client.py:1375\u001b[0m, in \u001b[0;36mHTTPConnection.getresponse\u001b[1;34m(self)\u001b[0m\n",
      "\u001b[0;32m   1374\u001b[0m \u001b[39mtry\u001b[39;00m:\n",
      "\u001b[1;32m-> 1375\u001b[0m     response\u001b[39m.\u001b[39;49mbegin()\n",
      "\u001b[0;32m   1376\u001b[0m \u001b[39mexcept\u001b[39;00m \u001b[39mConnectionError\u001b[39;00m:\n",
      "\n",
      "File \u001b[1;32mc:\\Users\\Gyanprakash\\AppData\\Local\\Programs\\Python\\Python311\\Lib\\http\\client.py:318\u001b[0m, in \u001b[0;36mHTTPResponse.begin\u001b[1;34m(self)\u001b[0m\n",
      "\u001b[0;32m    317\u001b[0m \u001b[39mwhile\u001b[39;00m \u001b[39mTrue\u001b[39;00m:\n",
      "\u001b[1;32m--> 318\u001b[0m     version, status, reason \u001b[39m=\u001b[39m \u001b[39mself\u001b[39;49m\u001b[39m.\u001b[39;49m_read_status()\n",
      "\u001b[0;32m    319\u001b[0m     \u001b[39mif\u001b[39;00m status \u001b[39m!=\u001b[39m CONTINUE:\n",
      "\n",
      "File \u001b[1;32mc:\\Users\\Gyanprakash\\AppData\\Local\\Programs\\Python\\Python311\\Lib\\http\\client.py:287\u001b[0m, in \u001b[0;36mHTTPResponse._read_status\u001b[1;34m(self)\u001b[0m\n",
      "\u001b[0;32m    284\u001b[0m \u001b[39mif\u001b[39;00m \u001b[39mnot\u001b[39;00m line:\n",
      "\u001b[0;32m    285\u001b[0m     \u001b[39m# Presumably, the server closed the connection before\u001b[39;00m\n",
      "\u001b[0;32m    286\u001b[0m     \u001b[39m# sending a valid response.\u001b[39;00m\n",
      "\u001b[1;32m--> 287\u001b[0m     \u001b[39mraise\u001b[39;00m RemoteDisconnected(\u001b[39m\"\u001b[39m\u001b[39mRemote end closed connection without\u001b[39m\u001b[39m\"\u001b[39m\n",
      "\u001b[0;32m    288\u001b[0m                              \u001b[39m\"\u001b[39m\u001b[39m response\u001b[39m\u001b[39m\"\u001b[39m)\n",
      "\u001b[0;32m    289\u001b[0m \u001b[39mtry\u001b[39;00m:\n",
      "\n",
      "\u001b[1;31mProtocolError\u001b[0m: ('Connection aborted.', RemoteDisconnected('Remote end closed connection without response'))\n",
      "\n",
      "The above exception was the direct cause of the following exception:\n",
      "\n",
      "\u001b[1;31mPineconeProtocolError\u001b[0m                     Traceback (most recent call last)\n",
      "Cell \u001b[1;32mIn[26], line 18\u001b[0m\n",
      "\u001b[0;32m     16\u001b[0m     to_upsert \u001b[39m=\u001b[39m \u001b[39mlist\u001b[39m(\u001b[39mzip\u001b[39m(ids, emb, meta))\n",
      "\u001b[0;32m     17\u001b[0m     \u001b[39m# upsert/insert these records to pinecone\u001b[39;00m\n",
      "\u001b[1;32m---> 18\u001b[0m     _ \u001b[39m=\u001b[39m index\u001b[39m.\u001b[39;49mupsert(vectors\u001b[39m=\u001b[39;49mto_upsert)\n",
      "\u001b[0;32m     20\u001b[0m \u001b[39m# check that we have all vectors in index\u001b[39;00m\n",
      "\u001b[0;32m     21\u001b[0m index\u001b[39m.\u001b[39mdescribe_index_stats()\n",
      "\n",
      "File \u001b[1;32mc:\\Users\\Gyanprakash\\AppData\\Local\\Programs\\Python\\Python311\\Lib\\site-packages\\pinecone\\core\\utils\\error_handling.py:25\u001b[0m, in \u001b[0;36mvalidate_and_convert_errors.<locals>.inner_func\u001b[1;34m(*args, **kwargs)\u001b[0m\n",
      "\u001b[0;32m     23\u001b[0m         \u001b[39mraise\u001b[39;00m\n",
      "\u001b[0;32m     24\u001b[0m \u001b[39mexcept\u001b[39;00m ProtocolError \u001b[39mas\u001b[39;00m e:\n",
      "\u001b[1;32m---> 25\u001b[0m     \u001b[39mraise\u001b[39;00m PineconeProtocolError(\u001b[39mf\u001b[39m\u001b[39m'\u001b[39m\u001b[39mFailed to connect; did you specify the correct index name?\u001b[39m\u001b[39m'\u001b[39m) \u001b[39mfrom\u001b[39;00m \u001b[39me\u001b[39;00m\n",
      "\n",
      "\u001b[1;31mPineconeProtocolError\u001b[0m: Failed to connect; did you specify the correct index name?"
     ]
    }
   ],
   "source": [
    "# we will use batches of 64\n",
    "batch_size = 64\n",
    "\n",
    "for i in tqdm(range(0, len(df), batch_size)):\n",
    "    # find end of batch\n",
    "    i_end = min(i+batch_size, len(df))\n",
    "    # extract batch\n",
    "    batch = df.iloc[i:i_end]\n",
    "    # generate embeddings for batch\n",
    "    emb = retriever.encode(batch[\"passage_text\"].tolist()).tolist()\n",
    "    # get metadata\n",
    "    meta = batch.to_dict(orient=\"records\")\n",
    "    # create unique IDs\n",
    "    ids = [f\"{idx}\" for idx in range(i, i_end)]\n",
    "    # add all to upsert list\n",
    "    to_upsert = list(zip(ids, emb, meta))\n",
    "    # upsert/insert these records to pinecone\n",
    "    _ = index.upsert(vectors=to_upsert)\n",
    "\n",
    "# check that we have all vectors in index\n",
    "index.describe_index_stats()"
   ]
  },
  {
   "cell_type": "markdown",
   "metadata": {},
   "source": [
    "# Initialize Generator"
   ]
  },
  {
   "cell_type": "markdown",
   "metadata": {},
   "source": [
    "We will use ELI5 BART for the generator which is a Sequence-To-Sequence model trained using the ‘Explain Like I’m 5’ (ELI5) dataset. Sequence-To-Sequence models can take a text sequence as input and produce a different text sequence as output.\n",
    "\n",
    "The input to the ELI5 BART model is a single string which is a concatenation of the query and the relevant documents providing the context for the answer. The documents are separated by a special token &lt;P>, so the input string will look as follows:\n",
    "\n",
    ">question: What is a sonic boom? context: &lt;P> A sonic boom is a sound associated with shock waves created when an object travels through the air faster than the speed of sound. &lt;P> Sonic booms generate enormous amounts of sound energy, sounding similar to an explosion or a thunderclap to the human ear. &lt;P> Sonic booms due to large supersonic aircraft can be particularly loud and startling, tend to awaken people, and may cause minor damage to some structures. This led to prohibition of routine supersonic flight overland.\n",
    "\n",
    "More detail on how the ELI5 dataset was built is available [here](https://arxiv.org/abs/1907.09190) and how ELI5 BART model was trained is available [here](https://yjernite.github.io/lfqa.html).\n",
    "\n",
    "Let's initialize the BART model using transformers."
   ]
  },
  {
   "cell_type": "code",
   "execution_count": null,
   "metadata": {},
   "outputs": [
    {
     "data": {
      "application/vnd.jupyter.widget-view+json": {
       "model_id": "ef03146195dd47e99dacc9e174235e79",
       "version_major": 2,
       "version_minor": 0
      },
      "text/plain": [
       "Downloading (…)olve/main/vocab.json:   0%|          | 0.00/899k [00:00<?, ?B/s]"
      ]
     },
     "metadata": {},
     "output_type": "display_data"
    },
    {
     "data": {
      "application/vnd.jupyter.widget-view+json": {
       "model_id": "e190f8b530e3452a8ca63446b525737d",
       "version_major": 2,
       "version_minor": 0
      },
      "text/plain": [
       "Downloading (…)olve/main/merges.txt:   0%|          | 0.00/456k [00:00<?, ?B/s]"
      ]
     },
     "metadata": {},
     "output_type": "display_data"
    },
    {
     "data": {
      "application/vnd.jupyter.widget-view+json": {
       "model_id": "66aab4448c594f6aad1be2237a8318c9",
       "version_major": 2,
       "version_minor": 0
      },
      "text/plain": [
       "Downloading (…)okenizer_config.json:   0%|          | 0.00/27.0 [00:00<?, ?B/s]"
      ]
     },
     "metadata": {},
     "output_type": "display_data"
    },
    {
     "data": {
      "application/vnd.jupyter.widget-view+json": {
       "model_id": "e83a1ef44ef444d8aa8bcb99d17ee2b3",
       "version_major": 2,
       "version_minor": 0
      },
      "text/plain": [
       "Downloading (…)lve/main/config.json:   0%|          | 0.00/1.32k [00:00<?, ?B/s]"
      ]
     },
     "metadata": {},
     "output_type": "display_data"
    },
    {
     "data": {
      "application/vnd.jupyter.widget-view+json": {
       "model_id": "0181dc586de148e3821a8929ee9c096d",
       "version_major": 2,
       "version_minor": 0
      },
      "text/plain": [
       "Downloading pytorch_model.bin:   0%|          | 0.00/1.63G [00:00<?, ?B/s]"
      ]
     },
     "metadata": {},
     "output_type": "display_data"
    }
   ],
   "source": [
    "from transformers import BartTokenizer, BartForConditionalGeneration\n",
    "\n",
    "# load bart tokenizer and model from huggingface\n",
    "tokenizer = BartTokenizer.from_pretrained('vblagoje/bart_lfqa')\n",
    "generator = BartForConditionalGeneration.from_pretrained('vblagoje/bart_lfqa').to(device)"
   ]
  },
  {
   "cell_type": "markdown",
   "metadata": {},
   "source": [
    "All the components of our abstract QA system are complete and ready to be queried. But first, let's write some helper functions to retrieve context passages from Pinecone index and to format the query in the way the generator expects the input."
   ]
  },
  {
   "cell_type": "code",
   "execution_count": null,
   "metadata": {},
   "outputs": [],
   "source": [
    "def query_pinecone(query, top_k):\n",
    "    # generate embeddings for the query\n",
    "    xq = retriever.encode([query]).tolist()\n",
    "    # search pinecone index for context passage with the answer\n",
    "    xc = index.query(xq, top_k=top_k, include_metadata=True)\n",
    "    return xc"
   ]
  },
  {
   "cell_type": "code",
   "execution_count": null,
   "metadata": {},
   "outputs": [],
   "source": [
    "def format_query(query, context):\n",
    "    # extract passage_text from Pinecone search result and add the <P> tag\n",
    "    context = [f\"<P> {m['metadata']['passage_text']}\" for m in conjtext]\n",
    "    # concatinate all context passages\n",
    "    context = \" \".join(context)\n",
    "    # contcatinate the query and context passages\n",
    "    query = f\"question: {query} context: {context}\"\n",
    "    return query"
   ]
  },
  {
   "cell_type": "markdown",
   "metadata": {},
   "source": [
    "Let's test the helper functions. We will query the Pinecone index function we created earlier with the `query_pinecone` to get context passages and pass them to the `format_query` function."
   ]
  },
  {
   "cell_type": "code",
   "execution_count": null,
   "metadata": {},
   "outputs": [
    {
     "data": {
      "text/plain": [
       "{'matches': [{'id': '3593',\n",
       "              'metadata': {'article_title': 'Electric power system',\n",
       "                           'passage_text': 'Electric power system History In '\n",
       "                                           '1881, two electricians built the '\n",
       "                                           \"world's first power system at \"\n",
       "                                           'Godalming in England. It was '\n",
       "                                           'powered by two waterwheels and '\n",
       "                                           'produced an alternating current '\n",
       "                                           'that in turn supplied seven '\n",
       "                                           'Siemens arc lamps at 250 volts and '\n",
       "                                           '34 incandescent lamps at 40 volts. '\n",
       "                                           'However, supply to the lamps was '\n",
       "                                           'intermittent and in 1882 Thomas '\n",
       "                                           'Edison and his company, The Edison '\n",
       "                                           'Electric Light Company, developed '\n",
       "                                           'the first steam-powered electric '\n",
       "                                           'power station on Pearl Street in '\n",
       "                                           'New York City. The Pearl Street '\n",
       "                                           'Station initially powered around '\n",
       "                                           '3,000 lamps for 59 customers. The '\n",
       "                                           'power station generated direct '\n",
       "                                           'current and',\n",
       "                           'section_title': 'History'},\n",
       "              'score': 0.69118017,\n",
       "              'values': []}],\n",
       " 'namespace': ''}"
      ]
     },
     "metadata": {},
     "output_type": "display_data"
    }
   ],
   "source": [
    "query = \"when was the first electric power system built?\"\n",
    "result = query_pinecone(query, top_k=1)\n",
    "result"
   ]
  },
  {
   "cell_type": "code",
   "execution_count": null,
   "metadata": {},
   "outputs": [],
   "source": [
    "from pprint import pprint"
   ]
  },
  {
   "cell_type": "code",
   "execution_count": null,
   "metadata": {},
   "outputs": [
    {
     "name": "stdout",
     "output_type": "stream",
     "text": [
      "('question: when was the first electric power system built? context: <P> '\n",
      " \"Electric power system History In 1881, two electricians built the world's \"\n",
      " 'first power system at Godalming in England. It was powered by two '\n",
      " 'waterwheels and produced an alternating current that in turn supplied seven '\n",
      " 'Siemens arc lamps at 250 volts and 34 incandescent lamps at 40 volts. '\n",
      " 'However, supply to the lamps was intermittent and in 1882 Thomas Edison and '\n",
      " 'his company, The Edison Electric Light Company, developed the first '\n",
      " 'steam-powered electric power station on Pearl Street in New York City. The '\n",
      " 'Pearl Street Station initially powered around 3,000 lamps for 59 customers. '\n",
      " 'The power station generated direct current and')\n"
     ]
    }
   ],
   "source": [
    "# format the query in the form generator expects the input\n",
    "query = format_query(query, result[\"matches\"])\n",
    "pprint(query)"
   ]
  },
  {
   "cell_type": "markdown",
   "metadata": {},
   "source": [
    "The output looks great. Now let's write a function to generate answers."
   ]
  },
  {
   "cell_type": "code",
   "execution_count": null,
   "metadata": {},
   "outputs": [],
   "source": [
    "def generate_answer(query):\n",
    "    # tokenize the query to get input_ids\n",
    "    inputs = tokenizer([query], max_length=1024, return_tensors=\"pt\").to(device)\n",
    "    # use generator to predict output ids\n",
    "    ids = generator.generate(inputs[\"input_ids\"], num_beams=2, min_length=20, max_length=40)\n",
    "    # use tokenizer to decode the output ids\n",
    "    answer = tokenizer.batch_decode(ids, skip_special_tokens=True, clean_up_tokenization_spaces=False)[0]\n",
    "    return pprint(answer)"
   ]
  },
  {
   "cell_type": "code",
   "execution_count": null,
   "metadata": {},
   "outputs": [
    {
     "name": "stdout",
     "output_type": "stream",
     "text": [
      "('The first electric power system was built in 1881 at Godalming in England. '\n",
      " 'It was powered by two waterwheels and produced alternating current that in '\n",
      " 'turn supplied seven Siemens arc lamps')\n"
     ]
    }
   ],
   "source": [
    "generate_answer(query)"
   ]
  },
  {
   "cell_type": "markdown",
   "metadata": {},
   "source": [
    "As we can see, the generator used the provided context to answer our question. Let's run some more queries."
   ]
  },
  {
   "cell_type": "code",
   "execution_count": null,
   "metadata": {},
   "outputs": [
    {
     "name": "stdout",
     "output_type": "stream",
     "text": [
      "('The first wireless message was sent in 1866 by Mahlon Loomis, who had a kite '\n",
      " 'on a mountaintop 14 miles apart. The kite was connected to a cable')\n"
     ]
    }
   ],
   "source": [
    "query = \"How was the first wireless message sent?\"\n",
    "context = query_pinecone(query, top_k=5)\n",
    "query = format_query(query, context[\"matches\"])\n",
    "generate_answer(query)"
   ]
  },
  {
   "cell_type": "markdown",
   "metadata": {},
   "source": [
    "To confirm that this answer is correct, we can check the contexts used to generate the answer."
   ]
  },
  {
   "cell_type": "code",
   "execution_count": null,
   "metadata": {},
   "outputs": [
    {
     "name": "stdout",
     "output_type": "stream",
     "text": [
      "by electrostatic induction or electromagnetic induction, which had too short a range to be practical. In 1866 Mahlon Loomis claimed to have transmitted an electrical signal through the atmosphere between two 600 foot wires held aloft by kites on mountaintops 14 miles apart. Thomas Edison had come close to discovering radio in 1875; he had generated and detected radio waves which he called \"etheric currents\" experimenting with high-voltage spark circuits, but due to lack of time did not pursue the matter. David Edward Hughes in 1879 had also stumbled on radio wave transmission which he received with his carbon microphone\n",
      "---\n",
      "the east coast of India, then on to Penang, Malacca, Singapore, Batavia (current Jakarta), to finally reach Darwin, Australia. It was the first direct link between Australia and Great Britain. The company that laid the first part of the cable took the name of Falmouth, Gibraltar and Malta Telegraph Company and had been founded in 1869. This company later operated as the Eastern Telegraph Company from Mount Pleasant in Gibraltar and eventually became Cable & Wireless.\n",
      "The first telephones were introduced to Gibraltar in 1886 by a private company which was later taken over by the colonial authorities. The first wireless\n",
      "---\n",
      "audio distance records, and were heard as far west as Hawaii. They were also received in Paris, France, which marked the first transmission of speech across the Atlantic.\n",
      "With the entrance of the United States into World War I in April 1917 the federal government took over full control of the radio industry, and it became illegal for civilians to possess an operational radio receiver. However NAA continued to operate during the conflict. In addition to time signals and weather reports, it also broadcast news summaries received by troops on land and aboard ships in the Atlantic. Effective April 15, 1919\n",
      "---\n",
      "Message from space (science fiction) For other uses, see Message from Space (disambiguation).\n",
      "\"Message from space\" is a type of \"first contact\" theme in science fiction . Stories of this type involve receiving an interstellar message which reveals the existence of other intelligent life in the universe. History An early short story, A Message from Space (Joseph Schlossel, Weird Tales, March 1926) tells of an amateur who builds a ham TV set and suddenly sees an alien, The latter one realises it is being watched and tells its soap opera story. The verdict of Everett Franklin Bleiler: \"original ideas, but clumsy\n",
      "---\n",
      "radio operators, interested in a practical benefit from their hobby, and jewelers, who previously had been reliant on time services transmitted over telegraph wires, which had a reputation for being both expensive and of questionable reliability, especially compared to the free and very accurate NAA transmissions.\n",
      "NAA's original transmitters were only capable of producing the dots-and-dashes of Morse code. The later development of vacuum tube transmitters made audio transmissions practical, and in 1915 the American Telephone and Telegraph Company (AT&T) received permission from the Navy to conduct a series of tests at the NAA facility. These experimental transmissions set impressive new\n",
      "---\n"
     ]
    }
   ],
   "source": [
    "for doc in context[\"matches\"]:\n",
    "    print(doc[\"metadata\"][\"passage_text\"], end='\\n---\\n')"
   ]
  },
  {
   "cell_type": "markdown",
   "metadata": {},
   "source": [
    "In this case, the answer looks correct. If we ask a question and no relevant contexts are retrieved, the generator will typically return nonsensical or false answers, like with this question about COVID-19:"
   ]
  },
  {
   "cell_type": "code",
   "execution_count": null,
   "metadata": {},
   "outputs": [
    {
     "name": "stdout",
     "output_type": "stream",
     "text": [
      "('COVID-19 is a zoonotic disease, which means that it is a virus that is '\n",
      " 'transmitted from one animal to another. It is not a virus that can be '\n",
      " 'transmitted from person')\n"
     ]
    }
   ],
   "source": [
    "query = \"where did COVID-19 originate?\"\n",
    "context = query_pinecone(query, top_k=3)\n",
    "query = format_query(query, context[\"matches\"])\n",
    "generate_answer(query)"
   ]
  },
  {
   "cell_type": "code",
   "execution_count": null,
   "metadata": {},
   "outputs": [
    {
     "name": "stdout",
     "output_type": "stream",
     "text": [
      "to establish with certainty which diseases jumped from other animals to humans, but there is increasing evidence from DNA and RNA sequencing, that measles, smallpox, influenza, HIV, and diphtheria came to humans this way. Various forms of the common cold and tuberculosis also are adaptations of strains originating in other species.\n",
      "Zoonoses are of interest because they are often previously unrecognized diseases or have increased virulence in populations lacking immunity. The West Nile virus appeared in the United States in 1999 in the New York City area, and moved through the country in the summer of 2002, causing much distress. Bubonic\n",
      "---\n",
      "plague is a zoonotic disease, as are salmonellosis, Rocky Mountain spotted fever, and Lyme disease.\n",
      "A major factor contributing to the appearance of new zoonotic pathogens in human populations is increased contact between humans and wildlife. This can be caused either by encroachment of human activity into wilderness areas or by movement of wild animals into areas of human activity. An example of this is the outbreak of Nipah virus in peninsular Malaysia in 1999, when intensive pig farming began on the habitat of infected fruit bats. Unidentified infection of the pigs amplified the force of infection, eventually transmitting the virus\n",
      "---\n",
      "man killed and twenty-nine died of disease.\n",
      "---\n"
     ]
    }
   ],
   "source": [
    "for doc in context[\"matches\"]:\n",
    "    print(doc[\"metadata\"][\"passage_text\"], end='\\n---\\n')"
   ]
  },
  {
   "cell_type": "markdown",
   "metadata": {},
   "source": [
    "Let’s finish with a final few questions."
   ]
  },
  {
   "cell_type": "code",
   "execution_count": null,
   "metadata": {},
   "outputs": [
    {
     "name": "stdout",
     "output_type": "stream",
     "text": [
      "('The War of Currents was a series of events in the early 1900s between Edison '\n",
      " 'and Westinghouse. The two companies were competing for the market share of '\n",
      " 'electric power in the United States')\n"
     ]
    }
   ],
   "source": [
    "query = \"what was the war of currents?\"\n",
    "context = query_pinecone(query, top_k=5)\n",
    "query = format_query(query, context[\"matches\"])\n",
    "generate_answer(query)"
   ]
  },
  {
   "cell_type": "code",
   "execution_count": null,
   "metadata": {},
   "outputs": [
    {
     "name": "stdout",
     "output_type": "stream",
     "text": [
      "('The first person to walk on the moon was Neil Armstrong in 1969. He walked '\n",
      " 'on the moon in 1969. He was the first person to walk on the moon.')\n"
     ]
    }
   ],
   "source": [
    "query = \"who was the first person on the moon?\"\n",
    "context = query_pinecone(query, top_k=10)\n",
    "query = format_query(query, context[\"matches\"])\n",
    "generate_answer(query)"
   ]
  },
  {
   "cell_type": "code",
   "execution_count": null,
   "metadata": {},
   "outputs": [
    {
     "name": "stdout",
     "output_type": "stream",
     "text": [
      "('The Space Shuttle was the most expensive project in the history of NASA. It '\n",
      " 'cost about $10 billion to build.')\n"
     ]
    }
   ],
   "source": [
    "query = \"what was NASAs most expensive project?\"\n",
    "context = query_pinecone(query, top_k=3)\n",
    "query = format_query(query, context[\"matches\"])\n",
    "generate_answer(query)"
   ]
  },
  {
   "cell_type": "markdown",
   "metadata": {},
   "source": [
    "As we can see, the model can generate some decent answers."
   ]
  },
  {
   "cell_type": "markdown",
   "metadata": {},
   "source": [
    "# Example Application"
   ]
  },
  {
   "cell_type": "markdown",
   "metadata": {},
   "source": [
    "To try out an application like this one, see this [example application](https://huggingface.co/spaces/pinecone/abstractive-question-answering)."
   ]
  }
 ],
 "metadata": {
  "kernelspec": {
   "display_name": "Python 3",
   "language": "python",
   "name": "python3"
  },
  "language_info": {
   "codemirror_mode": {
    "name": "ipython",
    "version": 3
   },
   "file_extension": ".py",
   "mimetype": "text/x-python",
   "name": "python",
   "nbconvert_exporter": "python",
   "pygments_lexer": "ipython3",
   "version": "3.11.3"
  },
  "orig_nbformat": 4
 },
 "nbformat": 4,
 "nbformat_minor": 2
}
