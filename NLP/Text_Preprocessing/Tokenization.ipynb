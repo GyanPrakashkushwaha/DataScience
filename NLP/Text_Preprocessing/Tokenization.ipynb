{
 "cells": [
  {
   "attachments": {},
   "cell_type": "markdown",
   "metadata": {},
   "source": [
    "# Tokenization"
   ]
  },
  {
   "attachments": {},
   "cell_type": "markdown",
   "metadata": {},
   "source": [
    "> ## Split function \n",
    "> If I have simple means few data than I can apply this function"
   ]
  },
  {
   "cell_type": "code",
   "execution_count": 1,
   "metadata": {},
   "outputs": [],
   "source": [
    "\n",
    "text1=\"I am goin to the resturant to have dinar.\"\n",
    "text2= \"She wear a beutiful dres to the partee.\"\n",
    "text3=\"I love eatting chockolate icecreem in the sunshyne.\"\n",
    "text4= \"He is a gennius, he inventid a new tecknology.\"\n",
    "text5= \"They hav a big gardn with lotz of beutiful flours.\"\n"
   ]
  },
  {
   "cell_type": "code",
   "execution_count": 2,
   "metadata": {},
   "outputs": [
    {
     "name": "stdout",
     "output_type": "stream",
     "text": [
      "['I', 'am', 'goin', 'to', 'the', 'resturant', 'to', 'have', 'dinar.']\n",
      "['She', 'wear', 'a', 'beutiful', 'dres', 'to', 'the', 'partee.'] ( Here I am getting partee. , although I dont want this )\n"
     ]
    }
   ],
   "source": [
    "print(text1.split(' '))\n",
    "print(text2.split(),'( Here I am getting partee. , although I dont want this )') "
   ]
  },
  {
   "attachments": {},
   "cell_type": "markdown",
   "metadata": {},
   "source": [
    "> ## Regular Expressions\n",
    "> this can handle above Problem"
   ]
  },
  {
   "cell_type": "code",
   "execution_count": 3,
   "metadata": {},
   "outputs": [
    {
     "name": "stdout",
     "output_type": "stream",
     "text": [
      "['She', 'wear', 'a', 'beutiful', 'dres', 'to', 'the', 'partee'] ( this has easily seperated the dot(.))\n"
     ]
    }
   ],
   "source": [
    "import re\n",
    "token = re.findall(pattern=\"[\\w]+\",string=text2)\n",
    "print(f'{token} ( this has easily seperated the dot(.))')"
   ]
  },
  {
   "attachments": {},
   "cell_type": "markdown",
   "metadata": {},
   "source": [
    "> ## NLTK\n",
    "> best way..... but not that much good....."
   ]
  },
  {
   "cell_type": "code",
   "execution_count": 4,
   "metadata": {},
   "outputs": [],
   "source": [
    "from nltk.tokenize import word_tokenize , sent_tokenize"
   ]
  },
  {
   "cell_type": "code",
   "execution_count": 5,
   "metadata": {},
   "outputs": [
    {
     "data": {
      "text/plain": [
       "['I', 'am', 'goin', 'to', 'the', 'resturant', 'to', 'have', 'dinar', '.']"
      ]
     },
     "execution_count": 5,
     "metadata": {},
     "output_type": "execute_result"
    }
   ],
   "source": [
    "word_tokenize(text1)"
   ]
  },
  {
   "cell_type": "code",
   "execution_count": 6,
   "metadata": {},
   "outputs": [
    {
     "data": {
      "text/plain": [
       "['She', 'wear', 'a', 'beutiful', 'dres', 'to', 'the', 'partee', '.']"
      ]
     },
     "execution_count": 6,
     "metadata": {},
     "output_type": "execute_result"
    }
   ],
   "source": [
    "word_tokenize(text2)"
   ]
  },
  {
   "cell_type": "code",
   "execution_count": 7,
   "metadata": {},
   "outputs": [],
   "source": [
    "\n",
    "sent1 =  \"Mr. Johnson's email address is johnson@example.com.\"\n",
    "sent2 =  \"The company name is 'ABC Corporation'.\"\n",
    "sent3 =  \"I live at 1234 Main St., New York, NY.\"\n",
    "sent4 =  \"Can't shouldn't be mistaken for couldn't.\"\n",
    "sent5 = \"The URL http://example.com/page/1 redirects to https://example.com/page/2.\"\n",
    "sent6 = \"The equation y = mx + c represents a linear function.\"\n",
    "sent7 = \"She said, 'I won't be able to attend the meeting.'\"\n",
    "sent8 =  \"Please download the file from ftp://example.com/data/file.txt.\"\n"
   ]
  },
  {
   "cell_type": "code",
   "execution_count": 8,
   "metadata": {},
   "outputs": [],
   "source": [
    "sentence_dic = {\n",
    "  'sent1': \"Mr. Johnson's email address is johnson@example.com.\",\n",
    "  'sent2': \"The company name is 'ABC Corporation'.\",\n",
    "  'sent3': 'I live at 1234 Main St., New York, NY.',\n",
    "  'sent4': \"Can't shouldn't be mistaken for couldn't.\",\n",
    "  'sent5': 'The URL http://example.com/page/1 redirects to https://example.com/page/2.',\n",
    "  'sent6': 'The equation y = mx + c represents a linear function.',\n",
    "  'sent7': \"She said, 'I won't be able to attend the meeting.'\",\n",
    "  'sent8': 'Please download the file from ftp://example.com/data/file.txt.'\n",
    "}\n"
   ]
  },
  {
   "cell_type": "code",
   "execution_count": 9,
   "metadata": {},
   "outputs": [
    {
     "name": "stdout",
     "output_type": "stream",
     "text": [
      "Incorrect_text- \n",
      " Mr. Johnson's email address is johnson@example.com. \n",
      " correct_text- \n",
      " ['Mr.', 'Johnson', \"'s\", 'email', 'address', 'is', 'johnson', '@', 'example.com', '.']\n",
      "Incorrect_text- \n",
      " The company name is 'ABC Corporation'. \n",
      " correct_text- \n",
      " ['The', 'company', 'name', 'is', \"'ABC\", 'Corporation', \"'\", '.']\n",
      "Incorrect_text- \n",
      " I live at 1234 Main St., New York, NY. \n",
      " correct_text- \n",
      " ['I', 'live', 'at', '1234', 'Main', 'St.', ',', 'New', 'York', ',', 'NY', '.']\n",
      "Incorrect_text- \n",
      " Can't shouldn't be mistaken for couldn't. \n",
      " correct_text- \n",
      " ['Ca', \"n't\", 'should', \"n't\", 'be', 'mistaken', 'for', 'could', \"n't\", '.']\n",
      "Incorrect_text- \n",
      " The URL http://example.com/page/1 redirects to https://example.com/page/2. \n",
      " correct_text- \n",
      " ['The', 'URL', 'http', ':', '//example.com/page/1', 'redirects', 'to', 'https', ':', '//example.com/page/2', '.']\n",
      "Incorrect_text- \n",
      " The equation y = mx + c represents a linear function. \n",
      " correct_text- \n",
      " ['The', 'equation', 'y', '=', 'mx', '+', 'c', 'represents', 'a', 'linear', 'function', '.']\n",
      "Incorrect_text- \n",
      " She said, 'I won't be able to attend the meeting.' \n",
      " correct_text- \n",
      " ['She', 'said', ',', \"'\", 'I', 'wo', \"n't\", 'be', 'able', 'to', 'attend', 'the', 'meeting', '.', \"'\"]\n",
      "Incorrect_text- \n",
      " Please download the file from ftp://example.com/data/file.txt. \n",
      " correct_text- \n",
      " ['Please', 'download', 'the', 'file', 'from', 'ftp', ':', '//example.com/data/file.txt', '.']\n"
     ]
    }
   ],
   "source": [
    "for txt in sentence_dic.values():\n",
    "    print(f'Incorrect_text- \\n {txt} \\n correct_text- \\n {word_tokenize(text=txt)}')\n"
   ]
  },
  {
   "cell_type": "code",
   "execution_count": 9,
   "metadata": {},
   "outputs": [
    {
     "name": "stdout",
     "output_type": "stream",
     "text": [
      "Incorrect_text- \n",
      " Mr. Johnson's email address is johnson@example.com. \n",
      " correct_text- \n",
      " [\"Mr. Johnson's email address is johnson@example.com.\"]\n",
      "Incorrect_text- \n",
      " The company name is 'ABC Corporation'. \n",
      " correct_text- \n",
      " [\"The company name is 'ABC Corporation'.\"]\n",
      "Incorrect_text- \n",
      " I live at 1234 Main St., New York, NY. \n",
      " correct_text- \n",
      " ['I live at 1234 Main St., New York, NY.']\n",
      "Incorrect_text- \n",
      " Can't shouldn't be mistaken for couldn't. \n",
      " correct_text- \n",
      " [\"Can't shouldn't be mistaken for couldn't.\"]\n",
      "Incorrect_text- \n",
      " The URL http://example.com/page/1 redirects to https://example.com/page/2. \n",
      " correct_text- \n",
      " ['The URL http://example.com/page/1 redirects to https://example.com/page/2.']\n",
      "Incorrect_text- \n",
      " The equation y = mx + c represents a linear function. \n",
      " correct_text- \n",
      " ['The equation y = mx + c represents a linear function.']\n",
      "Incorrect_text- \n",
      " She said, 'I won't be able to attend the meeting.' \n",
      " correct_text- \n",
      " [\"She said, 'I won't be able to attend the meeting.'\"]\n",
      "Incorrect_text- \n",
      " Please download the file from ftp://example.com/data/file.txt. \n",
      " correct_text- \n",
      " ['Please download the file from ftp://example.com/data/file.txt.']\n"
     ]
    }
   ],
   "source": [
    "for txt in sentence_dic.values():\n",
    "    print(f'Incorrect_text- \\n {txt} \\n correct_text- \\n {sent_tokenize(text=txt)}')\n"
   ]
  },
  {
   "attachments": {},
   "cell_type": "markdown",
   "metadata": {},
   "source": [
    "> ## Spacy\n",
    "> ### Best Of All"
   ]
  },
  {
   "cell_type": "code",
   "execution_count": 10,
   "metadata": {},
   "outputs": [],
   "source": [
    "import spacy"
   ]
  },
  {
   "cell_type": "code",
   "execution_count": 12,
   "metadata": {},
   "outputs": [
    {
     "data": {
      "text/plain": [
       "<spacy.lang.en.English at 0x20cf1aee990>"
      ]
     },
     "execution_count": 12,
     "metadata": {},
     "output_type": "execute_result"
    }
   ],
   "source": [
    "nlp = spacy.load(\"en_core_web_sm\")\n",
    "nlp  "
   ]
  },
  {
   "cell_type": "markdown",
   "metadata": {},
   "source": [
    "### Converting the sentences to docs"
   ]
  },
  {
   "cell_type": "code",
   "execution_count": 15,
   "metadata": {},
   "outputs": [],
   "source": [
    "doc1 = nlp(sent1)\n",
    "doc2 = nlp(sent2)\n",
    "doc3 = nlp(sent3)\n",
    "doc4= nlp(sent4)\n",
    "doc5= nlp(sent5)\n",
    "doc6 = nlp(sent6)\n",
    "doc7 = nlp(sent7)\n",
    "doc8 = nlp(sent8)"
   ]
  },
  {
   "cell_type": "code",
   "execution_count": 17,
   "metadata": {},
   "outputs": [
    {
     "data": {
      "text/plain": [
       "(Mr. Johnson's email address is johnson@example.com.,\n",
       " The company name is 'ABC Corporation'.)"
      ]
     },
     "execution_count": 17,
     "metadata": {},
     "output_type": "execute_result"
    }
   ],
   "source": [
    "doc1 , doc2"
   ]
  },
  {
   "cell_type": "code",
   "execution_count": 27,
   "metadata": {},
   "outputs": [
    {
     "name": "stdout",
     "output_type": "stream",
     "text": [
      "Mr.\n",
      "Johnson\n",
      "'s\n",
      "email\n",
      "address\n",
      "is\n",
      "johnson@example.com\n",
      ".\n",
      "====================================================\n"
     ]
    }
   ],
   "source": [
    "for i in doc1:\n",
    "    print(i)"
   ]
  },
  {
   "cell_type": "code",
   "execution_count": 28,
   "metadata": {},
   "outputs": [
    {
     "name": "stdout",
     "output_type": "stream",
     "text": [
      "The\n",
      "company\n",
      "name\n",
      "is\n",
      "'\n",
      "ABC\n",
      "Corporation\n",
      "'\n",
      ".\n"
     ]
    }
   ],
   "source": [
    "for i in doc2:\n",
    "    print(i)"
   ]
  },
  {
   "cell_type": "code",
   "execution_count": 29,
   "metadata": {},
   "outputs": [
    {
     "name": "stdout",
     "output_type": "stream",
     "text": [
      "Ca\n",
      "n't\n",
      "should\n",
      "n't\n",
      "be\n",
      "mistaken\n",
      "for\n",
      "could\n",
      "n't\n",
      ".\n"
     ]
    }
   ],
   "source": [
    "for i in doc4:\n",
    "    print(i)"
   ]
  },
  {
   "cell_type": "code",
   "execution_count": 26,
   "metadata": {},
   "outputs": [
    {
     "name": "stdout",
     "output_type": "stream",
     "text": [
      "Mr.\n",
      "The\n",
      "I\n",
      "Ca\n",
      "Johnson\n",
      "company\n",
      "live\n",
      "n't\n",
      "'s\n",
      "name\n",
      "at\n",
      "should\n",
      "email\n",
      "is\n",
      "1234\n",
      "n't\n",
      "address\n",
      "'\n",
      "Main\n",
      "be\n",
      "is\n",
      "ABC\n",
      "St.\n",
      "mistaken\n",
      "johnson@example.com\n",
      "Corporation\n",
      ",\n",
      "for\n",
      ".\n",
      "'\n",
      "New\n",
      "could\n"
     ]
    },
    {
     "ename": "IndexError",
     "evalue": "[E040] Attempt to access token at 8, max length 8.",
     "output_type": "error",
     "traceback": [
      "\u001b[1;31m---------------------------------------------------------------------------\u001b[0m",
      "\u001b[1;31mIndexError\u001b[0m                                Traceback (most recent call last)",
      "Cell \u001b[1;32mIn[26], line 2\u001b[0m\n\u001b[0;32m      1\u001b[0m \u001b[39mfor\u001b[39;00m i \u001b[39min\u001b[39;00m \u001b[39mrange\u001b[39m(\u001b[39m0\u001b[39m,\u001b[39m14\u001b[39m):\n\u001b[1;32m----> 2\u001b[0m     \u001b[39mprint\u001b[39m(doc1[i])\n\u001b[0;32m      3\u001b[0m     \u001b[39mprint\u001b[39m(doc2[i])\n\u001b[0;32m      4\u001b[0m     \u001b[39mprint\u001b[39m(doc3[i])\n",
      "File \u001b[1;32mc:\\Users\\Gyanprakash\\AppData\\Local\\Programs\\Python\\Python311\\Lib\\site-packages\\spacy\\tokens\\doc.pyx:483\u001b[0m, in \u001b[0;36mspacy.tokens.doc.Doc.__getitem__\u001b[1;34m()\u001b[0m\n",
      "File \u001b[1;32mc:\\Users\\Gyanprakash\\AppData\\Local\\Programs\\Python\\Python311\\Lib\\site-packages\\spacy\\tokens\\token.pxd:23\u001b[0m, in \u001b[0;36mspacy.tokens.token.Token.cinit\u001b[1;34m()\u001b[0m\n",
      "\u001b[1;31mIndexError\u001b[0m: [E040] Attempt to access token at 8, max length 8."
     ]
    }
   ],
   "source": [
    "for i in range(0,14):\n",
    "    print(doc1[i])\n",
    "    print(doc2[i])\n",
    "    print(doc3[i])\n",
    "    print(doc4[i])\n",
    "    print(doc5[i])\n",
    "print('====================================================')"
   ]
  }
 ],
 "metadata": {
  "kernelspec": {
   "display_name": "Python 3",
   "language": "python",
   "name": "python3"
  },
  "language_info": {
   "codemirror_mode": {
    "name": "ipython",
    "version": 3
   },
   "file_extension": ".py",
   "mimetype": "text/x-python",
   "name": "python",
   "nbconvert_exporter": "python",
   "pygments_lexer": "ipython3",
   "version": "3.11.3"
  },
  "orig_nbformat": 4
 },
 "nbformat": 4,
 "nbformat_minor": 2
}
