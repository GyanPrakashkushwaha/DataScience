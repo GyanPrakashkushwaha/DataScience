{
 "cells": [
  {
   "cell_type": "code",
   "execution_count": 1,
   "metadata": {},
   "outputs": [],
   "source": [
    "import re\n",
    "import random"
   ]
  },
  {
   "cell_type": "code",
   "execution_count": 6,
   "metadata": {},
   "outputs": [],
   "source": [
    "class baseBot:\n",
    "    # negative responses\n",
    "    negative_responses = ('no','nope','nah','naw','not a chance','sorry')\n",
    "\n",
    "    # Exit conversation keywords\n",
    "    exit_responses = ('quit','pause','exit','goodbye','bye','later')\n",
    "\n",
    "    # random starter questions\n",
    "    random_questions = (\n",
    "        'why are you here?',\n",
    "        'are there many humans like you?',\n",
    "        'what do you consume for sustenance',\n",
    "        'Is there intelligent life on this planet?',\n",
    "        'does dearth have a leader?',\n",
    "        'what planets have you visited?',\n",
    "        'what technology do you have on this planet?'\n",
    "    )\n",
    "\n",
    "\n",
    "    def __init__(self):\n",
    "        self.alien = {\n",
    "            'describe_planet_intent':r'.*\\syou planet.*',\n",
    "            'answer_why_intent':r'why\\sare.*',\n",
    "            'about_me':r'.*\\s*me'\n",
    "        }\n",
    "\n",
    "    \n",
    "    def greet(self):\n",
    "        self.name = input('what is your name?\\n')\n",
    "        will_help = input(\n",
    "            f'Hi {self.name}, I am a baseBot. will you help me to learn about NLP? \\n'\n",
    "        )\n",
    "\n",
    "        if will_help in self.negative_responses:\n",
    "            print('ok , Happly learning')\n",
    "            return\n",
    "        self.chat()\n",
    "\n",
    "    \n",
    "    def make_exit(self , reply):\n",
    "        for i in self.exit_responses:\n",
    "            if reply == i:\n",
    "                print('okk , Happly learning')\n",
    "                return True\n",
    "            \n",
    "        \n",
    "    def chat(self):\n",
    "        reply = input(random.choice(self.random_questions)).lower()\n",
    "        while not self.make_exit(reply):\n",
    "            reply = input(self.match_reply(reply))\n",
    "\n",
    "    \n",
    "    def match_reply(self , reply):\n",
    "        for key , value in self.alien.items():\n",
    "            intent = key\n",
    "            regex_pattern = value\n",
    "            found_match = re.match(regex_pattern,reply)\n",
    "            if found_match and intent == 'describe_planet_intent':\n",
    "                return self.describe_planet_intent()\n",
    "            elif found_match and intent == 'answer_why_intent':\n",
    "                return self.answer_why_intent()\n",
    "            elif found_match and intent == 'about_me':\n",
    "                return self.about_me()\n",
    "                \n",
    "            if not found_match:\n",
    "                return self.not_match()\n",
    "        \n",
    "    \n",
    "    def describe_planet_intent(self):\n",
    "        responses = ('my planet is a utopia of diverse organisms and species.\\n',\n",
    "                     'I am from ospidipus , the capital of the warward galaxies.\\n')\n",
    "        return random.choice(responses)\n",
    "    \n",
    "    def answer_why_intent(self):\n",
    "        resp = ('I come in  peace \\n ',\n",
    "                'i am here to collect data on your planet and its inhabitants \\n',\n",
    "                'i heard the coffee is good\\n')\n",
    "        return random.choice(resp)\n",
    "    \n",
    "    def about_me(self):\n",
    "        resp = ('I am Gyan Prakash Kushwaha\\n',\n",
    "                'Gyan Prakash Kushwaha is a Data Scientist.')\n",
    "    \n",
    "    def not_match(self):\n",
    "        return 'Nothing dont talk to me!!!'\n",
    "   "
   ]
  },
  {
   "cell_type": "code",
   "execution_count": 7,
   "metadata": {},
   "outputs": [
    {
     "name": "stdout",
     "output_type": "stream",
     "text": [
      "okk , Happly learning\n"
     ]
    }
   ],
   "source": [
    "bot = baseBot()\n",
    "bot.greet()"
   ]
  },
  {
   "cell_type": "code",
   "execution_count": null,
   "metadata": {},
   "outputs": [],
   "source": []
  },
  {
   "cell_type": "code",
   "execution_count": null,
   "metadata": {},
   "outputs": [],
   "source": []
  },
  {
   "cell_type": "code",
   "execution_count": null,
   "metadata": {},
   "outputs": [],
   "source": []
  },
  {
   "cell_type": "code",
   "execution_count": null,
   "metadata": {},
   "outputs": [],
   "source": []
  },
  {
   "cell_type": "code",
   "execution_count": null,
   "metadata": {},
   "outputs": [],
   "source": []
  },
  {
   "cell_type": "code",
   "execution_count": null,
   "metadata": {},
   "outputs": [],
   "source": []
  }
 ],
 "metadata": {
  "kernelspec": {
   "display_name": "Python 3",
   "language": "python",
   "name": "python3"
  },
  "language_info": {
   "codemirror_mode": {
    "name": "ipython",
    "version": 3
   },
   "file_extension": ".py",
   "mimetype": "text/x-python",
   "name": "python",
   "nbconvert_exporter": "python",
   "pygments_lexer": "ipython3",
   "version": "3.11.3"
  },
  "orig_nbformat": 4
 },
 "nbformat": 4,
 "nbformat_minor": 2
}
