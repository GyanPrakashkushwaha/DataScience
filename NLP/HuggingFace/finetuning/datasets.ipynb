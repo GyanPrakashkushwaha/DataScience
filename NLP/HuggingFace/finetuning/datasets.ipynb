{
 "cells": [
  {
   "cell_type": "code",
   "execution_count": 12,
   "metadata": {},
   "outputs": [],
   "source": [
    "import numpy as np\n",
    "from datasets import load_dataset\n",
    "from pprint import pprint"
   ]
  },
  {
   "cell_type": "code",
   "execution_count": 2,
   "metadata": {},
   "outputs": [
    {
     "data": {
      "application/vnd.jupyter.widget-view+json": {
       "model_id": "fbdd428aadeb4ea683a6b47af6eb2eb3",
       "version_major": 2,
       "version_minor": 0
      },
      "text/plain": [
       "Downloading readme:   0%|          | 0.00/35.3k [00:00<?, ?B/s]"
      ]
     },
     "metadata": {},
     "output_type": "display_data"
    },
    {
     "data": {
      "application/vnd.jupyter.widget-view+json": {
       "model_id": "fee95e6f7cdf4dfea3daaf51f410f909",
       "version_major": 2,
       "version_minor": 0
      },
      "text/plain": [
       "Downloading data:   0%|          | 0.00/649k [00:00<?, ?B/s]"
      ]
     },
     "metadata": {},
     "output_type": "display_data"
    },
    {
     "data": {
      "application/vnd.jupyter.widget-view+json": {
       "model_id": "3d758b9ef01a48a0a0133fa480462197",
       "version_major": 2,
       "version_minor": 0
      },
      "text/plain": [
       "Downloading data:   0%|          | 0.00/75.7k [00:00<?, ?B/s]"
      ]
     },
     "metadata": {},
     "output_type": "display_data"
    },
    {
     "data": {
      "application/vnd.jupyter.widget-view+json": {
       "model_id": "93f24a9891f649caa2d393b33441b0c0",
       "version_major": 2,
       "version_minor": 0
      },
      "text/plain": [
       "Downloading data:   0%|          | 0.00/308k [00:00<?, ?B/s]"
      ]
     },
     "metadata": {},
     "output_type": "display_data"
    },
    {
     "data": {
      "application/vnd.jupyter.widget-view+json": {
       "model_id": "1d4f4c9c95004f6cbbc3434844849524",
       "version_major": 2,
       "version_minor": 0
      },
      "text/plain": [
       "Generating train split:   0%|          | 0/3668 [00:00<?, ? examples/s]"
      ]
     },
     "metadata": {},
     "output_type": "display_data"
    },
    {
     "data": {
      "application/vnd.jupyter.widget-view+json": {
       "model_id": "047e8934f3094722a5c70f5d872a8761",
       "version_major": 2,
       "version_minor": 0
      },
      "text/plain": [
       "Generating validation split:   0%|          | 0/408 [00:00<?, ? examples/s]"
      ]
     },
     "metadata": {},
     "output_type": "display_data"
    },
    {
     "data": {
      "application/vnd.jupyter.widget-view+json": {
       "model_id": "269e231ea4b34cac974453693c73e1ba",
       "version_major": 2,
       "version_minor": 0
      },
      "text/plain": [
       "Generating test split:   0%|          | 0/1725 [00:00<?, ? examples/s]"
      ]
     },
     "metadata": {},
     "output_type": "display_data"
    }
   ],
   "source": [
    "raw_data = load_dataset(path='glue',name='mrpc')"
   ]
  },
  {
   "cell_type": "code",
   "execution_count": 14,
   "metadata": {},
   "outputs": [
    {
     "name": "stdout",
     "output_type": "stream",
     "text": [
      "{'idx': 75,\n",
      " 'label': 1,\n",
      " 'sentence1': 'Thomas and Tauzin say , as do many doctors , that the Bush '\n",
      "              'administration has the power to correct some of those flaws .',\n",
      " 'sentence2': 'Like many doctors , Mr. Thomas and Mr. Tauzin say the Bush '\n",
      "              'administration has the power to correct some of those flaws .'}\n",
      "{'idx': 3,\n",
      " 'label': 0,\n",
      " 'sentence1': 'Around 0335 GMT , Tab shares were up 19 cents , or 4.4 % , at A '\n",
      "              '$ 4.56 , having earlier set a record high of A $ 4.57 .',\n",
      " 'sentence2': 'Tab shares jumped 20 cents , or 4.6 % , to set a record closing '\n",
      "              'high at A $ 4.57 .'}\n",
      "{'idx': 86,\n",
      " 'label': 1,\n",
      " 'sentence1': 'Sales - a figure watched closely as a barometer of its health - '\n",
      "              'rose 5 percent instead of falling as many industry experts had '\n",
      "              'predicted .',\n",
      " 'sentence2': 'It also disclosed that sales -- a figure closely watched by '\n",
      "              'analysts as a barometer of its health -- were significantly '\n",
      "              'higher than industry experts expected .'}\n"
     ]
    }
   ],
   "source": [
    "for i in np.random.randint(0,100,3):\n",
    "    pprint(raw_data['train'][int(i)])"
   ]
  },
  {
   "cell_type": "code",
   "execution_count": null,
   "metadata": {},
   "outputs": [],
   "source": []
  }
 ],
 "metadata": {
  "kernelspec": {
   "display_name": "Python 3",
   "language": "python",
   "name": "python3"
  },
  "language_info": {
   "codemirror_mode": {
    "name": "ipython",
    "version": 3
   },
   "file_extension": ".py",
   "mimetype": "text/x-python",
   "name": "python",
   "nbconvert_exporter": "python",
   "pygments_lexer": "ipython3",
   "version": "3.11.4"
  }
 },
 "nbformat": 4,
 "nbformat_minor": 2
}
