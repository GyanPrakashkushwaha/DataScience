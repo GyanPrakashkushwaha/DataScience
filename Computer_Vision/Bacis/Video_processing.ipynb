{
 "cells": [
  {
   "attachments": {},
   "cell_type": "markdown",
   "metadata": {},
   "source": [
    "# Video Processing"
   ]
  },
  {
   "cell_type": "code",
   "execution_count": 1,
   "metadata": {},
   "outputs": [],
   "source": [
    "import cv2"
   ]
  },
  {
   "cell_type": "code",
   "execution_count": 8,
   "metadata": {},
   "outputs": [],
   "source": [
    "# Showing the Video\n",
    "cap = cv2.VideoCapture('data//Face_mask_detection.mp4')\n",
    "while True: # this is infinite loop\n",
    "    ret , frame = cap.read()\n",
    "    frame = cv2.resize(src=frame,dsize=(700,400))\n",
    "    cv2.imshow('Video',frame)\n",
    "    k = cv2.waitKey(25)\n",
    "    \n",
    "    if k == ord('x'):\n",
    "        break\n",
    "cap.release()\n",
    "cv2.destroyAllWindows()\n"
   ]
  },
  {
   "cell_type": "code",
   "execution_count": 6,
   "metadata": {},
   "outputs": [],
   "source": [
    "# I can use waitKey functions delay value as the playback speed of video\n",
    "cap = cv2.VideoCapture('data//Face_mask_detection.mp4')\n",
    "while True:\n",
    "    ret , frame = cap.read()\n",
    "    frame = cv2.resize(src=frame,dsize=(700,400))\n",
    "    cv2.imshow('Video',frame)\n",
    "    k = cv2.waitKey(100)\n",
    "    \n",
    "    if k == ord('x'):\n",
    "        break\n",
    "\n",
    "cap.release()\n",
    "cv2.destroyAllWindows()"
   ]
  },
  {
   "cell_type": "code",
   "execution_count": 10,
   "metadata": {},
   "outputs": [],
   "source": [
    "# Very Fast\n",
    "cap = cv2.VideoCapture('data//Face_mask_detection.mp4')\n",
    "while True:\n",
    "    ret , frame = cap.read()\n",
    "    frame = cv2.resize(src=frame,dsize=(700,400))\n",
    "    cv2.imshow('Video',frame)\n",
    "    k = cv2.waitKey(1)\n",
    "    \n",
    "    if k == ord('x'):\n",
    "        break\n",
    "\n",
    "cap.release()\n",
    "cv2.destroyAllWindows()"
   ]
  },
  {
   "attachments": {},
   "cell_type": "markdown",
   "metadata": {},
   "source": [
    "## Using Webcam\n",
    "we use 0 for webcam"
   ]
  },
  {
   "cell_type": "code",
   "execution_count": 23,
   "metadata": {},
   "outputs": [],
   "source": [
    "cap = cv2.VideoCapture(0) \n",
    "while cap.isOpened():\n",
    "    ret , frame = cap.read()\n",
    "    frame = cv2.flip(src=frame,flipCode=1)\n",
    "    if ret == True:\n",
    "        frame = cv2.resize(frame, (600, 400))\n",
    "        cv2.imshow('Video',frame)\n",
    "        k = cv2.waitKey(1)\n",
    "        \n",
    "        if k == ord('x'):\n",
    "            break\n",
    "\n",
    "cap.release()\n",
    "cv2.destroyAllWindows()"
   ]
  },
  {
   "attachments": {},
   "cell_type": "markdown",
   "metadata": {},
   "source": [
    "## Using Other device camera as webcam"
   ]
  },
  {
   "cell_type": "code",
   "execution_count": 25,
   "metadata": {},
   "outputs": [],
   "source": [
    "camera = 'http://192.168.69.213:8080/video' # this is from IP camera\n",
    "\n",
    "cap = cv2.VideoCapture(0) \n",
    "cap.open(camera)\n",
    "while cap.isOpened():\n",
    "    ret , frame = cap.read()\n",
    "    frame = cv2.flip(src=frame,flipCode=1)\n",
    "    if ret == True:\n",
    "        frame = cv2.resize(frame, (600, 400))\n",
    "        cv2.imshow('Video',frame)\n",
    "        k = cv2.waitKey(1)\n",
    "        \n",
    "        if k == ord('x'):\n",
    "            break\n",
    "\n",
    "cap.release()\n",
    "cv2.destroyAllWindows()"
   ]
  },
  {
   "cell_type": "code",
   "execution_count": null,
   "metadata": {},
   "outputs": [],
   "source": []
  },
  {
   "cell_type": "code",
   "execution_count": null,
   "metadata": {},
   "outputs": [],
   "source": []
  },
  {
   "cell_type": "code",
   "execution_count": null,
   "metadata": {},
   "outputs": [],
   "source": []
  },
  {
   "cell_type": "code",
   "execution_count": null,
   "metadata": {},
   "outputs": [],
   "source": []
  }
 ],
 "metadata": {
  "kernelspec": {
   "display_name": "Python 3",
   "language": "python",
   "name": "python3"
  },
  "language_info": {
   "codemirror_mode": {
    "name": "ipython",
    "version": 3
   },
   "file_extension": ".py",
   "mimetype": "text/x-python",
   "name": "python",
   "nbconvert_exporter": "python",
   "pygments_lexer": "ipython3",
   "version": "3.11.3"
  },
  "orig_nbformat": 4
 },
 "nbformat": 4,
 "nbformat_minor": 2
}
