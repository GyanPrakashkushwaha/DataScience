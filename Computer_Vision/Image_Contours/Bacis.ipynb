{
 "cells": [
  {
   "attachments": {},
   "cell_type": "markdown",
   "metadata": {},
   "source": [
    "> Contours - \n",
    "> Contours can be explained simply as a curve joining all the continuous points \n",
    "> (along the boundary), having same color or intensity. \n",
    "\n",
    "> The contours are a useful tool for shape analysis and object detection and recognition\n",
    "\n",
    "> For better accuracy, use binary images and also apply edge detection before \n",
    "> finding countours.\n",
    "\n",
    "> findCountour function manipulate original imge so copy it before proceeding.\n",
    "> findContour is like finding white object from black background.\n",
    "> so you must turn image in white and background is black.\n",
    "\n",
    "> We have to find and draw contours as per the requirement.\n",
    ">\n"
   ]
  },
  {
   "cell_type": "code",
   "execution_count": 68,
   "metadata": {},
   "outputs": [],
   "source": [
    "import cv2\n",
    "import numpy as np\n",
    "import matplotlib.pyplot as plt"
   ]
  },
  {
   "cell_type": "code",
   "execution_count": 69,
   "metadata": {},
   "outputs": [],
   "source": [
    "img = cv2.imread(r'data\\Iron_man_hd.png')\n",
    "img_gray = cv2.cvtColor(src=img,code=cv2.COLOR_BGR2GRAY) # first step for Image contour\n",
    "_ , threshold_img = cv2.threshold(src=img_gray,thresh=100,maxval=255,type=0)"
   ]
  },
  {
   "cell_type": "code",
   "execution_count": 70,
   "metadata": {},
   "outputs": [],
   "source": [
    "cv2.imshow(winname='original_img',mat=img)\n",
    "cv2.imshow(winname='Gray_img',mat=img_gray)\n",
    "cv2.imshow(winname='threshold_img',mat=threshold_img)\n",
    "cv2.waitKey()\n",
    "cv2.destroyAllWindows()"
   ]
  },
  {
   "cell_type": "code",
   "execution_count": 71,
   "metadata": {},
   "outputs": [],
   "source": [
    "## Contours\n",
    "contors , hierarchy = cv2.findContours(image=threshold_img,mode=cv2.RETR_TREE,method=cv2.CHAIN_APPROX_SIMPLE)"
   ]
  },
  {
   "cell_type": "code",
   "execution_count": 79,
   "metadata": {},
   "outputs": [],
   "source": [
    "img = cv2.imread(r'data\\Iron_man_hd.png')\n",
    "img = cv2.drawContours(image=img,contours=contors,contourIdx=-1,color=(11,11,11),thickness=4) # this is used to detect contours\n",
    "cv2.imshow(winname='Img_with_contours',mat=img)\n",
    "cv2.waitKey()\n",
    "cv2.destroyAllWindows()"
   ]
  },
  {
   "cell_type": "code",
   "execution_count": null,
   "metadata": {},
   "outputs": [],
   "source": []
  },
  {
   "cell_type": "code",
   "execution_count": null,
   "metadata": {},
   "outputs": [],
   "source": []
  },
  {
   "cell_type": "code",
   "execution_count": null,
   "metadata": {},
   "outputs": [],
   "source": []
  },
  {
   "cell_type": "code",
   "execution_count": null,
   "metadata": {},
   "outputs": [],
   "source": []
  },
  {
   "cell_type": "code",
   "execution_count": null,
   "metadata": {},
   "outputs": [],
   "source": []
  },
  {
   "cell_type": "code",
   "execution_count": null,
   "metadata": {},
   "outputs": [],
   "source": []
  }
 ],
 "metadata": {
  "kernelspec": {
   "display_name": "Python 3",
   "language": "python",
   "name": "python3"
  },
  "language_info": {
   "codemirror_mode": {
    "name": "ipython",
    "version": 3
   },
   "file_extension": ".py",
   "mimetype": "text/x-python",
   "name": "python",
   "nbconvert_exporter": "python",
   "pygments_lexer": "ipython3",
   "version": "3.11.3"
  },
  "orig_nbformat": 4
 },
 "nbformat": 4,
 "nbformat_minor": 2
}
