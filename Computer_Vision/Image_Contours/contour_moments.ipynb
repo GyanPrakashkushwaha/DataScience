{
 "cells": [
  {
   "attachments": {},
   "cell_type": "markdown",
   "metadata": {},
   "source": [
    "# Contour Moments"
   ]
  },
  {
   "cell_type": "code",
   "execution_count": 3,
   "metadata": {},
   "outputs": [],
   "source": [
    "import cv2"
   ]
  },
  {
   "cell_type": "code",
   "execution_count": 27,
   "metadata": {},
   "outputs": [],
   "source": [
    "img = cv2.imread(r'data/shapes_.png')\n",
    "copy_img = cv2.imread(r'data/Shapes_.png')\n",
    "img_gray_scale = cv2.cvtColor(src=img,code=cv2.COLOR_BGR2GRAY)\n",
    "_,threshold = cv2.threshold(src=img_gray_scale,thresh=210,maxval=255,type=cv2.THRESH_BINARY_INV # I could put 0 also\n",
    "                            )"
   ]
  },
  {
   "cell_type": "code",
   "execution_count": 28,
   "metadata": {},
   "outputs": [],
   "source": [
    "# contour and Visualizing contour\n",
    "contours , hierarchy = cv2.findContours(image=threshold,mode=cv2.RETR_TREE,method=cv2.CHAIN_APPROX_SIMPLE)\n",
    "\n",
    "# Drawing Contours\n",
    "img_contour = cv2.drawContours(image=copy_img,contours=contours,contourIdx=-1,color=(10,20,100),thickness=4)"
   ]
  },
  {
   "cell_type": "code",
   "execution_count": 29,
   "metadata": {},
   "outputs": [],
   "source": [
    "cv2.imshow(winname='original_img',mat=img)\n",
    "cv2.imshow('gray_scale_IMG',img_gray_scale)\n",
    "cv2.imshow('contour_IIMG',img_contour)\n",
    "cv2.imshow('mask_IMG',threshold)\n",
    "cv2.imshow('copy_IMG',copy_img)\n",
    "cv2.waitKey()\n",
    "cv2.destroyAllWindows()"
   ]
  },
  {
   "cell_type": "code",
   "execution_count": null,
   "metadata": {},
   "outputs": [],
   "source": []
  },
  {
   "cell_type": "code",
   "execution_count": null,
   "metadata": {},
   "outputs": [],
   "source": []
  },
  {
   "cell_type": "code",
   "execution_count": null,
   "metadata": {},
   "outputs": [],
   "source": []
  },
  {
   "cell_type": "code",
   "execution_count": null,
   "metadata": {},
   "outputs": [],
   "source": []
  },
  {
   "cell_type": "code",
   "execution_count": null,
   "metadata": {},
   "outputs": [],
   "source": []
  },
  {
   "cell_type": "code",
   "execution_count": null,
   "metadata": {},
   "outputs": [],
   "source": []
  },
  {
   "cell_type": "code",
   "execution_count": null,
   "metadata": {},
   "outputs": [],
   "source": []
  }
 ],
 "metadata": {
  "kernelspec": {
   "display_name": "Python 3",
   "language": "python",
   "name": "python3"
  },
  "language_info": {
   "codemirror_mode": {
    "name": "ipython",
    "version": 3
   },
   "file_extension": ".py",
   "mimetype": "text/x-python",
   "name": "python",
   "nbconvert_exporter": "python",
   "pygments_lexer": "ipython3",
   "version": "3.11.3"
  },
  "orig_nbformat": 4
 },
 "nbformat": 4,
 "nbformat_minor": 2
}
