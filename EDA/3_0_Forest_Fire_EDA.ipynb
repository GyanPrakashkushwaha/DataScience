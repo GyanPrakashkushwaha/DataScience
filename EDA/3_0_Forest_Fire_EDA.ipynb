{
  "cells": [
    {
      "cell_type": "markdown",
      "id": "98c3e5b2",
      "metadata": {
        "id": "98c3e5b2"
      },
      "source": [
        "# Algerian Forest Fires Dataset Project EDA Part"
      ]
    },
    {
      "cell_type": "markdown",
      "id": "ee282741",
      "metadata": {
        "id": "ee282741"
      },
      "source": [
        "## 1. UNDERSTANDING THE GIVEN TASK\n",
        "#### Task Given by instructor Krish Naik\n",
        "* Solve in ipynb:\n",
        "1. Import the dataset.\n",
        "https://archive.ics.uci.edu/ml/datasets/Algerian+Forest+Fires+Dataset++#\n",
        "2. Do proper EDA(analysis) of your dataset and create a report\n",
        "3. Then perform necessary preprocessing steps\n"
      ]
    },
    {
      "cell_type": "markdown",
      "id": "35ac4284",
      "metadata": {
        "id": "35ac4284"
      },
      "source": [
        "## 2. DATA COLLECTION AND UNDERSTANDING\n",
        "\n",
        "* I used a dataset on **Algerian Forest Fires** from UCI. The dataset contains a culmination of forest fire observations and data in two regions of Algeria: the Bejaia region and the Sidi Bel-Abbes region. The timeline of this dataset is from **June 2012 to September 2012**. In this project, we focused on whether certain weather features could predict forest fires in these regions using few Classification algorithms.\n",
        "\n",
        "\n",
        "* As per the Task given i choose regression problem to predict fire weather index"
      ]
    },
    {
      "cell_type": "markdown",
      "id": "25bf6d73",
      "metadata": {
        "id": "25bf6d73"
      },
      "source": [
        "## 3. DATA EXPLORATION\n",
        "\n",
        "* In this step, we will apply Exploratory Data Analysis (EDA) to extract insights from the data set to know which features have contributed more in predicting Forest fire by performing Data Analysis using Pandas and Data visualization using Matplotlib & Seaborn. It is always a good practice to understand the data first and try to gather as many insights from it.\n",
        "\n",
        "\n",
        "Below are tasks to be performed in EDA:\n",
        "\n",
        "**1. Importing Libraries**\n",
        "\n",
        "\n",
        "**2. Data Cleaning for EDA Report** \n",
        "\n",
        "**3. Exploratory Data Analysis (EDA) on all Features**\n"
      ]
    },
    {
      "cell_type": "markdown",
      "id": "549df012",
      "metadata": {
        "id": "549df012"
      },
      "source": [
        "### 3.1 Import Libraries"
      ]
    },
    {
      "cell_type": "code",
      "execution_count": 2,
      "id": "7c535644",
      "metadata": {
        "id": "7c535644"
      },
      "outputs": [],
      "source": [
        "import pandas as pd\n",
        "import numpy as np\n",
        "import matplotlib.pyplot as plt\n",
        "%matplotlib inline\n",
        "import seaborn as sns\n",
        "from warnings import filterwarnings\n",
        "filterwarnings('ignore')"
      ]
    },
    {
      "cell_type": "code",
      "execution_count": 3,
      "id": "84386880",
      "metadata": {
        "id": "84386880",
        "outputId": "e8c7aa72-1a74-4cb2-b5c8-51fdceaa7f7d"
      },
      "outputs": [
        {
          "data": {
            "text/html": [
              "<div>\n",
              "<style scoped>\n",
              "    .dataframe tbody tr th:only-of-type {\n",
              "        vertical-align: middle;\n",
              "    }\n",
              "\n",
              "    .dataframe tbody tr th {\n",
              "        vertical-align: top;\n",
              "    }\n",
              "\n",
              "    .dataframe thead th {\n",
              "        text-align: right;\n",
              "    }\n",
              "</style>\n",
              "<table border=\"1\" class=\"dataframe\">\n",
              "  <thead>\n",
              "    <tr style=\"text-align: right;\">\n",
              "      <th></th>\n",
              "      <th>day</th>\n",
              "      <th>month</th>\n",
              "      <th>year</th>\n",
              "      <th>Temperature</th>\n",
              "      <th>RH</th>\n",
              "      <th>Ws</th>\n",
              "      <th>Rain</th>\n",
              "      <th>FFMC</th>\n",
              "      <th>DMC</th>\n",
              "      <th>DC</th>\n",
              "      <th>ISI</th>\n",
              "      <th>BUI</th>\n",
              "      <th>FWI</th>\n",
              "      <th>Classes</th>\n",
              "    </tr>\n",
              "  </thead>\n",
              "  <tbody>\n",
              "    <tr>\n",
              "      <th>0</th>\n",
              "      <td>01</td>\n",
              "      <td>06</td>\n",
              "      <td>2012</td>\n",
              "      <td>29</td>\n",
              "      <td>57</td>\n",
              "      <td>18</td>\n",
              "      <td>0</td>\n",
              "      <td>65.7</td>\n",
              "      <td>3.4</td>\n",
              "      <td>7.6</td>\n",
              "      <td>1.3</td>\n",
              "      <td>3.4</td>\n",
              "      <td>0.5</td>\n",
              "      <td>not fire</td>\n",
              "    </tr>\n",
              "    <tr>\n",
              "      <th>1</th>\n",
              "      <td>02</td>\n",
              "      <td>06</td>\n",
              "      <td>2012</td>\n",
              "      <td>29</td>\n",
              "      <td>61</td>\n",
              "      <td>13</td>\n",
              "      <td>1.3</td>\n",
              "      <td>64.4</td>\n",
              "      <td>4.1</td>\n",
              "      <td>7.6</td>\n",
              "      <td>1</td>\n",
              "      <td>3.9</td>\n",
              "      <td>0.4</td>\n",
              "      <td>not fire</td>\n",
              "    </tr>\n",
              "    <tr>\n",
              "      <th>2</th>\n",
              "      <td>03</td>\n",
              "      <td>06</td>\n",
              "      <td>2012</td>\n",
              "      <td>26</td>\n",
              "      <td>82</td>\n",
              "      <td>22</td>\n",
              "      <td>13.1</td>\n",
              "      <td>47.1</td>\n",
              "      <td>2.5</td>\n",
              "      <td>7.1</td>\n",
              "      <td>0.3</td>\n",
              "      <td>2.7</td>\n",
              "      <td>0.1</td>\n",
              "      <td>not fire</td>\n",
              "    </tr>\n",
              "    <tr>\n",
              "      <th>3</th>\n",
              "      <td>04</td>\n",
              "      <td>06</td>\n",
              "      <td>2012</td>\n",
              "      <td>25</td>\n",
              "      <td>89</td>\n",
              "      <td>13</td>\n",
              "      <td>2.5</td>\n",
              "      <td>28.6</td>\n",
              "      <td>1.3</td>\n",
              "      <td>6.9</td>\n",
              "      <td>0</td>\n",
              "      <td>1.7</td>\n",
              "      <td>0</td>\n",
              "      <td>not fire</td>\n",
              "    </tr>\n",
              "    <tr>\n",
              "      <th>4</th>\n",
              "      <td>05</td>\n",
              "      <td>06</td>\n",
              "      <td>2012</td>\n",
              "      <td>27</td>\n",
              "      <td>77</td>\n",
              "      <td>16</td>\n",
              "      <td>0</td>\n",
              "      <td>64.8</td>\n",
              "      <td>3</td>\n",
              "      <td>14.2</td>\n",
              "      <td>1.2</td>\n",
              "      <td>3.9</td>\n",
              "      <td>0.5</td>\n",
              "      <td>not fire</td>\n",
              "    </tr>\n",
              "  </tbody>\n",
              "</table>\n",
              "</div>"
            ],
            "text/plain": [
              "  day month  year Temperature  RH  Ws Rain   FFMC  DMC    DC  ISI  BUI  FWI  \\\n",
              "0  01    06  2012          29  57  18     0  65.7  3.4   7.6  1.3  3.4  0.5   \n",
              "1  02    06  2012          29  61  13   1.3  64.4  4.1   7.6    1  3.9  0.4   \n",
              "2  03    06  2012          26  82  22  13.1  47.1  2.5   7.1  0.3  2.7  0.1   \n",
              "3  04    06  2012          25  89  13   2.5  28.6  1.3   6.9    0  1.7    0   \n",
              "4  05    06  2012          27  77  16     0  64.8    3  14.2  1.2  3.9  0.5   \n",
              "\n",
              "     Classes    \n",
              "0  not fire     \n",
              "1  not fire     \n",
              "2  not fire     \n",
              "3  not fire     \n",
              "4  not fire     "
            ]
          },
          "execution_count": 3,
          "metadata": {},
          "output_type": "execute_result"
        }
      ],
      "source": [
        "# Create Dataframe and Read the dataset using Pandas\n",
        "df = pd.read_csv('Algerian_forest_fires_dataset_UPDATE.csv', header=1)\n",
        "df.head()"
      ]
    },
    {
      "cell_type": "code",
      "execution_count": 4,
      "id": "de084e4a",
      "metadata": {
        "id": "de084e4a"
      },
      "outputs": [],
      "source": [
        "# Convert Dataframe into Dictionary as MongoDB stores data in records/documents\n",
        "# data = dataset.to_dict(orient = 'records')"
      ]
    },
    {
      "cell_type": "code",
      "execution_count": 5,
      "id": "d4e411ba",
      "metadata": {
        "id": "d4e411ba",
        "outputId": "8dd1a713-301e-499e-d343-d95f5a99c4d7"
      },
      "outputs": [
        {
          "name": "stdout",
          "output_type": "stream",
          "text": [
            "All the Data has been Exported to MongoDB Successfully\n"
          ]
        }
      ],
      "source": [
        "# Insert records in the dataset into MongoDB collection \"hotel_records\"\n",
        "# db.fire_records.insert_many(data)\n",
        "print(\"All the Data has been Exported to MongoDB Successfully\")"
      ]
    },
    {
      "cell_type": "code",
      "execution_count": 6,
      "id": "af15f228",
      "metadata": {
        "id": "af15f228",
        "outputId": "a996636b-ec4e-4fc4-e96a-20dda7890a89"
      },
      "outputs": [],
      "source": [
        "#Convert list into Dataframe\n",
        "# df = pd.DataFrame(list_cursor)\n",
        "# df.drop('_id', axis=1, inplace=True)\n",
        "# df"
      ]
    },
    {
      "cell_type": "code",
      "execution_count": 7,
      "id": "99e6ab3c",
      "metadata": {
        "id": "99e6ab3c",
        "outputId": "844a2ddf-3acb-4523-cf0c-f31728b9bd13"
      },
      "outputs": [
        {
          "name": "stdout",
          "output_type": "stream",
          "text": [
            "<class 'pandas.core.frame.DataFrame'>\n",
            "RangeIndex: 246 entries, 0 to 245\n",
            "Data columns (total 14 columns):\n",
            " #   Column       Non-Null Count  Dtype \n",
            "---  ------       --------------  ----- \n",
            " 0   day          246 non-null    object\n",
            " 1   month        245 non-null    object\n",
            " 2   year         245 non-null    object\n",
            " 3   Temperature  245 non-null    object\n",
            " 4    RH          245 non-null    object\n",
            " 5    Ws          245 non-null    object\n",
            " 6   Rain         245 non-null    object\n",
            " 7   FFMC         245 non-null    object\n",
            " 8   DMC          245 non-null    object\n",
            " 9   DC           245 non-null    object\n",
            " 10  ISI          245 non-null    object\n",
            " 11  BUI          245 non-null    object\n",
            " 12  FWI          245 non-null    object\n",
            " 13  Classes      244 non-null    object\n",
            "dtypes: object(14)\n",
            "memory usage: 27.0+ KB\n"
          ]
        }
      ],
      "source": [
        "df.info()"
      ]
    },
    {
      "cell_type": "markdown",
      "id": "74bf3e0d",
      "metadata": {
        "id": "74bf3e0d"
      },
      "source": [
        "* Looks like all the features are  identified as object but can be converted into numeric, if we remove rows which has strings."
      ]
    },
    {
      "cell_type": "markdown",
      "id": "8df1d8b3",
      "metadata": {
        "id": "8df1d8b3"
      },
      "source": [
        "## 3.4 Data Cleaning"
      ]
    },
    {
      "cell_type": "code",
      "execution_count": 8,
      "id": "2d6a9fb2",
      "metadata": {
        "id": "2d6a9fb2",
        "outputId": "1596d65f-857d-4b86-eb83-a5c4394df4bf"
      },
      "outputs": [
        {
          "data": {
            "text/html": [
              "<div>\n",
              "<style scoped>\n",
              "    .dataframe tbody tr th:only-of-type {\n",
              "        vertical-align: middle;\n",
              "    }\n",
              "\n",
              "    .dataframe tbody tr th {\n",
              "        vertical-align: top;\n",
              "    }\n",
              "\n",
              "    .dataframe thead th {\n",
              "        text-align: right;\n",
              "    }\n",
              "</style>\n",
              "<table border=\"1\" class=\"dataframe\">\n",
              "  <thead>\n",
              "    <tr style=\"text-align: right;\">\n",
              "      <th></th>\n",
              "      <th>day</th>\n",
              "      <th>month</th>\n",
              "      <th>year</th>\n",
              "      <th>Temperature</th>\n",
              "      <th>RH</th>\n",
              "      <th>Ws</th>\n",
              "      <th>Rain</th>\n",
              "      <th>FFMC</th>\n",
              "      <th>DMC</th>\n",
              "      <th>DC</th>\n",
              "      <th>ISI</th>\n",
              "      <th>BUI</th>\n",
              "      <th>FWI</th>\n",
              "      <th>Classes</th>\n",
              "    </tr>\n",
              "  </thead>\n",
              "  <tbody>\n",
              "    <tr>\n",
              "      <th>122</th>\n",
              "      <td>Sidi-Bel Abbes Region Dataset</td>\n",
              "      <td>NaN</td>\n",
              "      <td>NaN</td>\n",
              "      <td>NaN</td>\n",
              "      <td>NaN</td>\n",
              "      <td>NaN</td>\n",
              "      <td>NaN</td>\n",
              "      <td>NaN</td>\n",
              "      <td>NaN</td>\n",
              "      <td>NaN</td>\n",
              "      <td>NaN</td>\n",
              "      <td>NaN</td>\n",
              "      <td>NaN</td>\n",
              "      <td>NaN</td>\n",
              "    </tr>\n",
              "    <tr>\n",
              "      <th>167</th>\n",
              "      <td>14</td>\n",
              "      <td>07</td>\n",
              "      <td>2012</td>\n",
              "      <td>37</td>\n",
              "      <td>37</td>\n",
              "      <td>18</td>\n",
              "      <td>0.2</td>\n",
              "      <td>88.9</td>\n",
              "      <td>12.9</td>\n",
              "      <td>14.6 9</td>\n",
              "      <td>12.5</td>\n",
              "      <td>10.4</td>\n",
              "      <td>fire</td>\n",
              "      <td>NaN</td>\n",
              "    </tr>\n",
              "  </tbody>\n",
              "</table>\n",
              "</div>"
            ],
            "text/plain": [
              "                               day month  year Temperature   RH   Ws Rain   \\\n",
              "122  Sidi-Bel Abbes Region Dataset   NaN   NaN         NaN  NaN  NaN   NaN   \n",
              "167                             14    07  2012          37   37   18   0.2   \n",
              "\n",
              "     FFMC   DMC      DC   ISI   BUI      FWI Classes    \n",
              "122   NaN   NaN     NaN   NaN   NaN      NaN       NaN  \n",
              "167  88.9  12.9  14.6 9  12.5  10.4  fire          NaN  "
            ]
          },
          "execution_count": 8,
          "metadata": {},
          "output_type": "execute_result"
        }
      ],
      "source": [
        "# Columns which has null values\n",
        "df[df.isnull().any(axis=1)]"
      ]
    },
    {
      "cell_type": "markdown",
      "id": "c77724a0",
      "metadata": {
        "id": "c77724a0"
      },
      "source": [
        "The dataset is converted into two sets based on Region from 122th index, \n",
        "we can make a new column based on the Region \n",
        "\n",
        " **1 : \"Bejaia Region Dataset\"**\n",
        " \n",
        " **2 : \"Sidi-Bel Abbes Region Dataset\"**"
      ]
    },
    {
      "cell_type": "markdown",
      "id": "54c06ead",
      "metadata": {
        "id": "54c06ead"
      },
      "source": [
        "**Add new column with region**"
      ]
    },
    {
      "cell_type": "code",
      "execution_count": 9,
      "id": "681253a6",
      "metadata": {
        "id": "681253a6"
      },
      "outputs": [],
      "source": [
        "df.loc[:122,'Region']=1\n",
        "df.loc[122:,'Region']=2\n",
        "df[['Region']] = df[['Region']].astype(int)"
      ]
    },
    {
      "cell_type": "code",
      "execution_count": 10,
      "id": "72bdda76",
      "metadata": {
        "id": "72bdda76",
        "outputId": "e7bfe546-65ad-48e9-c20a-f15c7c2c1ef3"
      },
      "outputs": [
        {
          "data": {
            "text/plain": [
              "day            0\n",
              "month          1\n",
              "year           1\n",
              "Temperature    1\n",
              " RH            1\n",
              " Ws            1\n",
              "Rain           1\n",
              "FFMC           1\n",
              "DMC            1\n",
              "DC             1\n",
              "ISI            1\n",
              "BUI            1\n",
              "FWI            1\n",
              "Classes        2\n",
              "Region         0\n",
              "dtype: int64"
            ]
          },
          "execution_count": 10,
          "metadata": {},
          "output_type": "execute_result"
        }
      ],
      "source": [
        "df.isnull().sum()"
      ]
    },
    {
      "cell_type": "code",
      "execution_count": 11,
      "id": "64292f62",
      "metadata": {
        "id": "64292f62",
        "outputId": "947480a0-39da-463e-b697-47881080414d"
      },
      "outputs": [
        {
          "data": {
            "text/plain": [
              "(244, 15)"
            ]
          },
          "execution_count": 11,
          "metadata": {},
          "output_type": "execute_result"
        }
      ],
      "source": [
        "# Remove null or na values rows\n",
        "df =df.dropna().reset_index(drop=True) \n",
        "df.shape"
      ]
    },
    {
      "cell_type": "code",
      "execution_count": 12,
      "id": "8da595a9",
      "metadata": {
        "id": "8da595a9",
        "outputId": "65a56049-4be6-4125-bbc6-572a30ad45ee"
      },
      "outputs": [
        {
          "data": {
            "text/html": [
              "<div>\n",
              "<style scoped>\n",
              "    .dataframe tbody tr th:only-of-type {\n",
              "        vertical-align: middle;\n",
              "    }\n",
              "\n",
              "    .dataframe tbody tr th {\n",
              "        vertical-align: top;\n",
              "    }\n",
              "\n",
              "    .dataframe thead th {\n",
              "        text-align: right;\n",
              "    }\n",
              "</style>\n",
              "<table border=\"1\" class=\"dataframe\">\n",
              "  <thead>\n",
              "    <tr style=\"text-align: right;\">\n",
              "      <th></th>\n",
              "      <th>day</th>\n",
              "      <th>month</th>\n",
              "      <th>year</th>\n",
              "      <th>Temperature</th>\n",
              "      <th>RH</th>\n",
              "      <th>Ws</th>\n",
              "      <th>Rain</th>\n",
              "      <th>FFMC</th>\n",
              "      <th>DMC</th>\n",
              "      <th>DC</th>\n",
              "      <th>ISI</th>\n",
              "      <th>BUI</th>\n",
              "      <th>FWI</th>\n",
              "      <th>Classes</th>\n",
              "      <th>Region</th>\n",
              "    </tr>\n",
              "  </thead>\n",
              "  <tbody>\n",
              "    <tr>\n",
              "      <th>122</th>\n",
              "      <td>day</td>\n",
              "      <td>month</td>\n",
              "      <td>year</td>\n",
              "      <td>Temperature</td>\n",
              "      <td>RH</td>\n",
              "      <td>Ws</td>\n",
              "      <td>Rain</td>\n",
              "      <td>FFMC</td>\n",
              "      <td>DMC</td>\n",
              "      <td>DC</td>\n",
              "      <td>ISI</td>\n",
              "      <td>BUI</td>\n",
              "      <td>FWI</td>\n",
              "      <td>Classes</td>\n",
              "      <td>2</td>\n",
              "    </tr>\n",
              "  </tbody>\n",
              "</table>\n",
              "</div>"
            ],
            "text/plain": [
              "     day  month  year  Temperature   RH   Ws  Rain   FFMC  DMC  DC  ISI  BUI  \\\n",
              "122  day  month  year  Temperature   RH   Ws  Rain   FFMC  DMC  DC  ISI  BUI   \n",
              "\n",
              "     FWI  Classes    Region  \n",
              "122  FWI  Classes         2  "
            ]
          },
          "execution_count": 12,
          "metadata": {},
          "output_type": "execute_result"
        }
      ],
      "source": [
        "# Column which has string\n",
        "df.iloc[[122]]"
      ]
    },
    {
      "cell_type": "markdown",
      "id": "8fa31ab9",
      "metadata": {
        "id": "8fa31ab9"
      },
      "source": [
        "**Null and other unwanted rows are removed**"
      ]
    },
    {
      "cell_type": "code",
      "execution_count": 13,
      "id": "768489eb",
      "metadata": {
        "id": "768489eb"
      },
      "outputs": [],
      "source": [
        "#remove 122th column\n",
        "df= df.drop(122).reset_index(drop=True)"
      ]
    },
    {
      "cell_type": "markdown",
      "id": "afd9bc46",
      "metadata": {
        "id": "afd9bc46"
      },
      "source": [
        "**Some column names were misspaced so we can fix it**"
      ]
    },
    {
      "cell_type": "code",
      "execution_count": 14,
      "id": "513996d3",
      "metadata": {
        "id": "513996d3",
        "outputId": "23223414-4f9c-4b52-90a5-0502fdfb930b"
      },
      "outputs": [
        {
          "data": {
            "text/plain": [
              "Index(['day', 'month', 'year', 'Temperature', ' RH', ' Ws', 'Rain ', 'FFMC',\n",
              "       'DMC', 'DC', 'ISI', 'BUI', 'FWI', 'Classes  ', 'Region'],\n",
              "      dtype='object')"
            ]
          },
          "execution_count": 14,
          "metadata": {},
          "output_type": "execute_result"
        }
      ],
      "source": [
        "# List out column names to check \n",
        "df.columns"
      ]
    },
    {
      "cell_type": "markdown",
      "id": "64761aeb",
      "metadata": {
        "id": "64761aeb"
      },
      "source": [
        "Looks like the values were misspaced so we can use **str.strip()** method"
      ]
    },
    {
      "cell_type": "code",
      "execution_count": 15,
      "id": "a4a12efc",
      "metadata": {
        "id": "a4a12efc",
        "outputId": "713e8e85-4321-4f02-bd74-2b58fb4718f1"
      },
      "outputs": [
        {
          "data": {
            "text/plain": [
              "Index(['day', 'month', 'year', 'Temperature', 'RH', 'Ws', 'Rain', 'FFMC',\n",
              "       'DMC', 'DC', 'ISI', 'BUI', 'FWI', 'Classes', 'Region'],\n",
              "      dtype='object')"
            ]
          },
          "execution_count": 15,
          "metadata": {},
          "output_type": "execute_result"
        }
      ],
      "source": [
        "# Spaces were fixed in the column names\n",
        "df.columns = df.columns.str.strip()\n",
        "df.columns "
      ]
    },
    {
      "cell_type": "markdown",
      "id": "78119ca3",
      "metadata": {
        "id": "78119ca3"
      },
      "source": [
        "**Changing the required columns as integer data type**"
      ]
    },
    {
      "cell_type": "code",
      "execution_count": 16,
      "id": "a1d94bbe",
      "metadata": {
        "id": "a1d94bbe"
      },
      "outputs": [],
      "source": [
        "df[['month', 'day', 'year', 'Temperature','RH', 'Ws']] = df[['month', 'day', 'year', 'Temperature','RH', 'Ws']].astype(int)"
      ]
    },
    {
      "cell_type": "markdown",
      "id": "c05cf89e",
      "metadata": {
        "id": "c05cf89e"
      },
      "source": [
        "**Changing the other columns to Float data type**"
      ]
    },
    {
      "cell_type": "code",
      "execution_count": 17,
      "id": "95ca2e82",
      "metadata": {
        "id": "95ca2e82"
      },
      "outputs": [],
      "source": [
        "objects = [features for features in df.columns if df[features].dtypes=='O']\n",
        "for i in objects:\n",
        "    if i != 'Classes':\n",
        "        df[i] = df[i].astype(float)"
      ]
    },
    {
      "cell_type": "code",
      "execution_count": 18,
      "id": "14fdeba9",
      "metadata": {
        "id": "14fdeba9",
        "outputId": "acd60343-b08d-46bb-ff37-0667470726e3"
      },
      "outputs": [
        {
          "name": "stdout",
          "output_type": "stream",
          "text": [
            "<class 'pandas.core.frame.DataFrame'>\n",
            "RangeIndex: 243 entries, 0 to 242\n",
            "Data columns (total 15 columns):\n",
            " #   Column       Non-Null Count  Dtype  \n",
            "---  ------       --------------  -----  \n",
            " 0   day          243 non-null    int32  \n",
            " 1   month        243 non-null    int32  \n",
            " 2   year         243 non-null    int32  \n",
            " 3   Temperature  243 non-null    int32  \n",
            " 4   RH           243 non-null    int32  \n",
            " 5   Ws           243 non-null    int32  \n",
            " 6   Rain         243 non-null    float64\n",
            " 7   FFMC         243 non-null    float64\n",
            " 8   DMC          243 non-null    float64\n",
            " 9   DC           243 non-null    float64\n",
            " 10  ISI          243 non-null    float64\n",
            " 11  BUI          243 non-null    float64\n",
            " 12  FWI          243 non-null    float64\n",
            " 13  Classes      243 non-null    object \n",
            " 14  Region       243 non-null    int32  \n",
            "dtypes: float64(7), int32(7), object(1)\n",
            "memory usage: 22.0+ KB\n"
          ]
        }
      ],
      "source": [
        "# Final datatypes check\n",
        "df.info()"
      ]
    },
    {
      "cell_type": "code",
      "execution_count": 19,
      "id": "e1d0b03a",
      "metadata": {
        "id": "e1d0b03a",
        "outputId": "3dcf1646-f42f-4690-8eb7-4e8f496a5bf5"
      },
      "outputs": [
        {
          "data": {
            "text/html": [
              "<div>\n",
              "<style scoped>\n",
              "    .dataframe tbody tr th:only-of-type {\n",
              "        vertical-align: middle;\n",
              "    }\n",
              "\n",
              "    .dataframe tbody tr th {\n",
              "        vertical-align: top;\n",
              "    }\n",
              "\n",
              "    .dataframe thead th {\n",
              "        text-align: right;\n",
              "    }\n",
              "</style>\n",
              "<table border=\"1\" class=\"dataframe\">\n",
              "  <thead>\n",
              "    <tr style=\"text-align: right;\">\n",
              "      <th></th>\n",
              "      <th>count</th>\n",
              "      <th>mean</th>\n",
              "      <th>std</th>\n",
              "      <th>min</th>\n",
              "      <th>25%</th>\n",
              "      <th>50%</th>\n",
              "      <th>75%</th>\n",
              "      <th>max</th>\n",
              "    </tr>\n",
              "  </thead>\n",
              "  <tbody>\n",
              "    <tr>\n",
              "      <th>day</th>\n",
              "      <td>243.0</td>\n",
              "      <td>15.761317</td>\n",
              "      <td>8.842552</td>\n",
              "      <td>1.0</td>\n",
              "      <td>8.00</td>\n",
              "      <td>16.0</td>\n",
              "      <td>23.00</td>\n",
              "      <td>31.0</td>\n",
              "    </tr>\n",
              "    <tr>\n",
              "      <th>month</th>\n",
              "      <td>243.0</td>\n",
              "      <td>7.502058</td>\n",
              "      <td>1.114793</td>\n",
              "      <td>6.0</td>\n",
              "      <td>7.00</td>\n",
              "      <td>8.0</td>\n",
              "      <td>8.00</td>\n",
              "      <td>9.0</td>\n",
              "    </tr>\n",
              "    <tr>\n",
              "      <th>year</th>\n",
              "      <td>243.0</td>\n",
              "      <td>2012.000000</td>\n",
              "      <td>0.000000</td>\n",
              "      <td>2012.0</td>\n",
              "      <td>2012.00</td>\n",
              "      <td>2012.0</td>\n",
              "      <td>2012.00</td>\n",
              "      <td>2012.0</td>\n",
              "    </tr>\n",
              "    <tr>\n",
              "      <th>Temperature</th>\n",
              "      <td>243.0</td>\n",
              "      <td>32.152263</td>\n",
              "      <td>3.628039</td>\n",
              "      <td>22.0</td>\n",
              "      <td>30.00</td>\n",
              "      <td>32.0</td>\n",
              "      <td>35.00</td>\n",
              "      <td>42.0</td>\n",
              "    </tr>\n",
              "    <tr>\n",
              "      <th>RH</th>\n",
              "      <td>243.0</td>\n",
              "      <td>62.041152</td>\n",
              "      <td>14.828160</td>\n",
              "      <td>21.0</td>\n",
              "      <td>52.50</td>\n",
              "      <td>63.0</td>\n",
              "      <td>73.50</td>\n",
              "      <td>90.0</td>\n",
              "    </tr>\n",
              "    <tr>\n",
              "      <th>Ws</th>\n",
              "      <td>243.0</td>\n",
              "      <td>15.493827</td>\n",
              "      <td>2.811385</td>\n",
              "      <td>6.0</td>\n",
              "      <td>14.00</td>\n",
              "      <td>15.0</td>\n",
              "      <td>17.00</td>\n",
              "      <td>29.0</td>\n",
              "    </tr>\n",
              "    <tr>\n",
              "      <th>Rain</th>\n",
              "      <td>243.0</td>\n",
              "      <td>0.762963</td>\n",
              "      <td>2.003207</td>\n",
              "      <td>0.0</td>\n",
              "      <td>0.00</td>\n",
              "      <td>0.0</td>\n",
              "      <td>0.50</td>\n",
              "      <td>16.8</td>\n",
              "    </tr>\n",
              "    <tr>\n",
              "      <th>FFMC</th>\n",
              "      <td>243.0</td>\n",
              "      <td>77.842387</td>\n",
              "      <td>14.349641</td>\n",
              "      <td>28.6</td>\n",
              "      <td>71.85</td>\n",
              "      <td>83.3</td>\n",
              "      <td>88.30</td>\n",
              "      <td>96.0</td>\n",
              "    </tr>\n",
              "    <tr>\n",
              "      <th>DMC</th>\n",
              "      <td>243.0</td>\n",
              "      <td>14.680658</td>\n",
              "      <td>12.393040</td>\n",
              "      <td>0.7</td>\n",
              "      <td>5.80</td>\n",
              "      <td>11.3</td>\n",
              "      <td>20.80</td>\n",
              "      <td>65.9</td>\n",
              "    </tr>\n",
              "    <tr>\n",
              "      <th>DC</th>\n",
              "      <td>243.0</td>\n",
              "      <td>49.430864</td>\n",
              "      <td>47.665606</td>\n",
              "      <td>6.9</td>\n",
              "      <td>12.35</td>\n",
              "      <td>33.1</td>\n",
              "      <td>69.10</td>\n",
              "      <td>220.4</td>\n",
              "    </tr>\n",
              "    <tr>\n",
              "      <th>ISI</th>\n",
              "      <td>243.0</td>\n",
              "      <td>4.742387</td>\n",
              "      <td>4.154234</td>\n",
              "      <td>0.0</td>\n",
              "      <td>1.40</td>\n",
              "      <td>3.5</td>\n",
              "      <td>7.25</td>\n",
              "      <td>19.0</td>\n",
              "    </tr>\n",
              "    <tr>\n",
              "      <th>BUI</th>\n",
              "      <td>243.0</td>\n",
              "      <td>16.690535</td>\n",
              "      <td>14.228421</td>\n",
              "      <td>1.1</td>\n",
              "      <td>6.00</td>\n",
              "      <td>12.4</td>\n",
              "      <td>22.65</td>\n",
              "      <td>68.0</td>\n",
              "    </tr>\n",
              "    <tr>\n",
              "      <th>FWI</th>\n",
              "      <td>243.0</td>\n",
              "      <td>7.035391</td>\n",
              "      <td>7.440568</td>\n",
              "      <td>0.0</td>\n",
              "      <td>0.70</td>\n",
              "      <td>4.2</td>\n",
              "      <td>11.45</td>\n",
              "      <td>31.1</td>\n",
              "    </tr>\n",
              "    <tr>\n",
              "      <th>Region</th>\n",
              "      <td>243.0</td>\n",
              "      <td>1.497942</td>\n",
              "      <td>0.501028</td>\n",
              "      <td>1.0</td>\n",
              "      <td>1.00</td>\n",
              "      <td>1.0</td>\n",
              "      <td>2.00</td>\n",
              "      <td>2.0</td>\n",
              "    </tr>\n",
              "  </tbody>\n",
              "</table>\n",
              "</div>"
            ],
            "text/plain": [
              "             count         mean        std     min      25%     50%      75%  \\\n",
              "day          243.0    15.761317   8.842552     1.0     8.00    16.0    23.00   \n",
              "month        243.0     7.502058   1.114793     6.0     7.00     8.0     8.00   \n",
              "year         243.0  2012.000000   0.000000  2012.0  2012.00  2012.0  2012.00   \n",
              "Temperature  243.0    32.152263   3.628039    22.0    30.00    32.0    35.00   \n",
              "RH           243.0    62.041152  14.828160    21.0    52.50    63.0    73.50   \n",
              "Ws           243.0    15.493827   2.811385     6.0    14.00    15.0    17.00   \n",
              "Rain         243.0     0.762963   2.003207     0.0     0.00     0.0     0.50   \n",
              "FFMC         243.0    77.842387  14.349641    28.6    71.85    83.3    88.30   \n",
              "DMC          243.0    14.680658  12.393040     0.7     5.80    11.3    20.80   \n",
              "DC           243.0    49.430864  47.665606     6.9    12.35    33.1    69.10   \n",
              "ISI          243.0     4.742387   4.154234     0.0     1.40     3.5     7.25   \n",
              "BUI          243.0    16.690535  14.228421     1.1     6.00    12.4    22.65   \n",
              "FWI          243.0     7.035391   7.440568     0.0     0.70     4.2    11.45   \n",
              "Region       243.0     1.497942   0.501028     1.0     1.00     1.0     2.00   \n",
              "\n",
              "                max  \n",
              "day            31.0  \n",
              "month           9.0  \n",
              "year         2012.0  \n",
              "Temperature    42.0  \n",
              "RH             90.0  \n",
              "Ws             29.0  \n",
              "Rain           16.8  \n",
              "FFMC           96.0  \n",
              "DMC            65.9  \n",
              "DC            220.4  \n",
              "ISI            19.0  \n",
              "BUI            68.0  \n",
              "FWI            31.1  \n",
              "Region          2.0  "
            ]
          },
          "execution_count": 19,
          "metadata": {},
          "output_type": "execute_result"
        }
      ],
      "source": [
        "df.describe().T"
      ]
    },
    {
      "cell_type": "markdown",
      "id": "f38a8aef",
      "metadata": {
        "id": "f38a8aef"
      },
      "source": [
        "**Data Cleaning in target variable**"
      ]
    },
    {
      "cell_type": "code",
      "execution_count": 20,
      "id": "016cdad4",
      "metadata": {
        "id": "016cdad4",
        "outputId": "22cc11ce-8e81-4a3b-cc34-14ccfa1560db"
      },
      "outputs": [
        {
          "data": {
            "text/plain": [
              "fire             131\n",
              "not fire         101\n",
              "fire               4\n",
              "fire               2\n",
              "not fire           2\n",
              "not fire           1\n",
              "not fire           1\n",
              "not fire           1\n",
              "Name: Classes, dtype: int64"
            ]
          },
          "execution_count": 20,
          "metadata": {},
          "output_type": "execute_result"
        }
      ],
      "source": [
        "# Check Unique values of target variable\n",
        "df.Classes.value_counts()"
      ]
    },
    {
      "cell_type": "markdown",
      "id": "08d81f08",
      "metadata": {
        "id": "08d81f08"
      },
      "source": [
        "Looks like the values were misspaced so we can use **str.strip()** method"
      ]
    },
    {
      "cell_type": "code",
      "execution_count": 21,
      "id": "500fa60f",
      "metadata": {
        "id": "500fa60f"
      },
      "outputs": [],
      "source": [
        "# Strip mispaced values\n",
        "df.Classes = df.Classes.str.strip()"
      ]
    },
    {
      "cell_type": "code",
      "execution_count": 22,
      "id": "3e19d120",
      "metadata": {
        "id": "3e19d120",
        "outputId": "89a87e67-4091-4162-b7e2-be3483d990d9"
      },
      "outputs": [
        {
          "data": {
            "text/plain": [
              "fire        137\n",
              "not fire    106\n",
              "Name: Classes, dtype: int64"
            ]
          },
          "execution_count": 22,
          "metadata": {},
          "output_type": "execute_result"
        }
      ],
      "source": [
        "df.Classes.value_counts()"
      ]
    },
    {
      "cell_type": "markdown",
      "id": "35c872f6",
      "metadata": {
        "id": "35c872f6"
      },
      "source": [
        "#### Region 1 (Bejaia Region)"
      ]
    },
    {
      "cell_type": "code",
      "execution_count": 23,
      "id": "a114fde8",
      "metadata": {
        "id": "a114fde8",
        "outputId": "a6f42cef-9732-47d1-9d79-7e693825a226"
      },
      "outputs": [
        {
          "data": {
            "text/html": [
              "<div>\n",
              "<style scoped>\n",
              "    .dataframe tbody tr th:only-of-type {\n",
              "        vertical-align: middle;\n",
              "    }\n",
              "\n",
              "    .dataframe tbody tr th {\n",
              "        vertical-align: top;\n",
              "    }\n",
              "\n",
              "    .dataframe thead th {\n",
              "        text-align: right;\n",
              "    }\n",
              "</style>\n",
              "<table border=\"1\" class=\"dataframe\">\n",
              "  <thead>\n",
              "    <tr style=\"text-align: right;\">\n",
              "      <th></th>\n",
              "      <th>day</th>\n",
              "      <th>month</th>\n",
              "      <th>year</th>\n",
              "      <th>Temperature</th>\n",
              "      <th>RH</th>\n",
              "      <th>Ws</th>\n",
              "      <th>Rain</th>\n",
              "      <th>FFMC</th>\n",
              "      <th>DMC</th>\n",
              "      <th>DC</th>\n",
              "      <th>ISI</th>\n",
              "      <th>BUI</th>\n",
              "      <th>FWI</th>\n",
              "      <th>Classes</th>\n",
              "      <th>Region</th>\n",
              "    </tr>\n",
              "  </thead>\n",
              "  <tbody>\n",
              "    <tr>\n",
              "      <th>0</th>\n",
              "      <td>1</td>\n",
              "      <td>6</td>\n",
              "      <td>2012</td>\n",
              "      <td>29</td>\n",
              "      <td>57</td>\n",
              "      <td>18</td>\n",
              "      <td>0.0</td>\n",
              "      <td>65.7</td>\n",
              "      <td>3.4</td>\n",
              "      <td>7.6</td>\n",
              "      <td>1.3</td>\n",
              "      <td>3.4</td>\n",
              "      <td>0.5</td>\n",
              "      <td>not fire</td>\n",
              "      <td>1</td>\n",
              "    </tr>\n",
              "    <tr>\n",
              "      <th>1</th>\n",
              "      <td>2</td>\n",
              "      <td>6</td>\n",
              "      <td>2012</td>\n",
              "      <td>29</td>\n",
              "      <td>61</td>\n",
              "      <td>13</td>\n",
              "      <td>1.3</td>\n",
              "      <td>64.4</td>\n",
              "      <td>4.1</td>\n",
              "      <td>7.6</td>\n",
              "      <td>1.0</td>\n",
              "      <td>3.9</td>\n",
              "      <td>0.4</td>\n",
              "      <td>not fire</td>\n",
              "      <td>1</td>\n",
              "    </tr>\n",
              "    <tr>\n",
              "      <th>2</th>\n",
              "      <td>3</td>\n",
              "      <td>6</td>\n",
              "      <td>2012</td>\n",
              "      <td>26</td>\n",
              "      <td>82</td>\n",
              "      <td>22</td>\n",
              "      <td>13.1</td>\n",
              "      <td>47.1</td>\n",
              "      <td>2.5</td>\n",
              "      <td>7.1</td>\n",
              "      <td>0.3</td>\n",
              "      <td>2.7</td>\n",
              "      <td>0.1</td>\n",
              "      <td>not fire</td>\n",
              "      <td>1</td>\n",
              "    </tr>\n",
              "    <tr>\n",
              "      <th>3</th>\n",
              "      <td>4</td>\n",
              "      <td>6</td>\n",
              "      <td>2012</td>\n",
              "      <td>25</td>\n",
              "      <td>89</td>\n",
              "      <td>13</td>\n",
              "      <td>2.5</td>\n",
              "      <td>28.6</td>\n",
              "      <td>1.3</td>\n",
              "      <td>6.9</td>\n",
              "      <td>0.0</td>\n",
              "      <td>1.7</td>\n",
              "      <td>0.0</td>\n",
              "      <td>not fire</td>\n",
              "      <td>1</td>\n",
              "    </tr>\n",
              "    <tr>\n",
              "      <th>4</th>\n",
              "      <td>5</td>\n",
              "      <td>6</td>\n",
              "      <td>2012</td>\n",
              "      <td>27</td>\n",
              "      <td>77</td>\n",
              "      <td>16</td>\n",
              "      <td>0.0</td>\n",
              "      <td>64.8</td>\n",
              "      <td>3.0</td>\n",
              "      <td>14.2</td>\n",
              "      <td>1.2</td>\n",
              "      <td>3.9</td>\n",
              "      <td>0.5</td>\n",
              "      <td>not fire</td>\n",
              "      <td>1</td>\n",
              "    </tr>\n",
              "    <tr>\n",
              "      <th>...</th>\n",
              "      <td>...</td>\n",
              "      <td>...</td>\n",
              "      <td>...</td>\n",
              "      <td>...</td>\n",
              "      <td>...</td>\n",
              "      <td>...</td>\n",
              "      <td>...</td>\n",
              "      <td>...</td>\n",
              "      <td>...</td>\n",
              "      <td>...</td>\n",
              "      <td>...</td>\n",
              "      <td>...</td>\n",
              "      <td>...</td>\n",
              "      <td>...</td>\n",
              "      <td>...</td>\n",
              "    </tr>\n",
              "    <tr>\n",
              "      <th>117</th>\n",
              "      <td>26</td>\n",
              "      <td>9</td>\n",
              "      <td>2012</td>\n",
              "      <td>31</td>\n",
              "      <td>54</td>\n",
              "      <td>11</td>\n",
              "      <td>0.0</td>\n",
              "      <td>82.0</td>\n",
              "      <td>6.0</td>\n",
              "      <td>16.3</td>\n",
              "      <td>2.5</td>\n",
              "      <td>6.2</td>\n",
              "      <td>1.7</td>\n",
              "      <td>not fire</td>\n",
              "      <td>1</td>\n",
              "    </tr>\n",
              "    <tr>\n",
              "      <th>118</th>\n",
              "      <td>27</td>\n",
              "      <td>9</td>\n",
              "      <td>2012</td>\n",
              "      <td>31</td>\n",
              "      <td>66</td>\n",
              "      <td>11</td>\n",
              "      <td>0.0</td>\n",
              "      <td>85.7</td>\n",
              "      <td>8.3</td>\n",
              "      <td>24.9</td>\n",
              "      <td>4.0</td>\n",
              "      <td>9.0</td>\n",
              "      <td>4.1</td>\n",
              "      <td>fire</td>\n",
              "      <td>1</td>\n",
              "    </tr>\n",
              "    <tr>\n",
              "      <th>119</th>\n",
              "      <td>28</td>\n",
              "      <td>9</td>\n",
              "      <td>2012</td>\n",
              "      <td>32</td>\n",
              "      <td>47</td>\n",
              "      <td>14</td>\n",
              "      <td>0.7</td>\n",
              "      <td>77.5</td>\n",
              "      <td>7.1</td>\n",
              "      <td>8.8</td>\n",
              "      <td>1.8</td>\n",
              "      <td>6.8</td>\n",
              "      <td>0.9</td>\n",
              "      <td>not fire</td>\n",
              "      <td>1</td>\n",
              "    </tr>\n",
              "    <tr>\n",
              "      <th>120</th>\n",
              "      <td>29</td>\n",
              "      <td>9</td>\n",
              "      <td>2012</td>\n",
              "      <td>26</td>\n",
              "      <td>80</td>\n",
              "      <td>16</td>\n",
              "      <td>1.8</td>\n",
              "      <td>47.4</td>\n",
              "      <td>2.9</td>\n",
              "      <td>7.7</td>\n",
              "      <td>0.3</td>\n",
              "      <td>3.0</td>\n",
              "      <td>0.1</td>\n",
              "      <td>not fire</td>\n",
              "      <td>1</td>\n",
              "    </tr>\n",
              "    <tr>\n",
              "      <th>121</th>\n",
              "      <td>30</td>\n",
              "      <td>9</td>\n",
              "      <td>2012</td>\n",
              "      <td>25</td>\n",
              "      <td>78</td>\n",
              "      <td>14</td>\n",
              "      <td>1.4</td>\n",
              "      <td>45.0</td>\n",
              "      <td>1.9</td>\n",
              "      <td>7.5</td>\n",
              "      <td>0.2</td>\n",
              "      <td>2.4</td>\n",
              "      <td>0.1</td>\n",
              "      <td>not fire</td>\n",
              "      <td>1</td>\n",
              "    </tr>\n",
              "  </tbody>\n",
              "</table>\n",
              "<p>122 rows × 15 columns</p>\n",
              "</div>"
            ],
            "text/plain": [
              "     day  month  year  Temperature  RH  Ws  Rain  FFMC  DMC    DC  ISI  BUI  \\\n",
              "0      1      6  2012           29  57  18   0.0  65.7  3.4   7.6  1.3  3.4   \n",
              "1      2      6  2012           29  61  13   1.3  64.4  4.1   7.6  1.0  3.9   \n",
              "2      3      6  2012           26  82  22  13.1  47.1  2.5   7.1  0.3  2.7   \n",
              "3      4      6  2012           25  89  13   2.5  28.6  1.3   6.9  0.0  1.7   \n",
              "4      5      6  2012           27  77  16   0.0  64.8  3.0  14.2  1.2  3.9   \n",
              "..   ...    ...   ...          ...  ..  ..   ...   ...  ...   ...  ...  ...   \n",
              "117   26      9  2012           31  54  11   0.0  82.0  6.0  16.3  2.5  6.2   \n",
              "118   27      9  2012           31  66  11   0.0  85.7  8.3  24.9  4.0  9.0   \n",
              "119   28      9  2012           32  47  14   0.7  77.5  7.1   8.8  1.8  6.8   \n",
              "120   29      9  2012           26  80  16   1.8  47.4  2.9   7.7  0.3  3.0   \n",
              "121   30      9  2012           25  78  14   1.4  45.0  1.9   7.5  0.2  2.4   \n",
              "\n",
              "     FWI   Classes  Region  \n",
              "0    0.5  not fire       1  \n",
              "1    0.4  not fire       1  \n",
              "2    0.1  not fire       1  \n",
              "3    0.0  not fire       1  \n",
              "4    0.5  not fire       1  \n",
              "..   ...       ...     ...  \n",
              "117  1.7  not fire       1  \n",
              "118  4.1      fire       1  \n",
              "119  0.9  not fire       1  \n",
              "120  0.1  not fire       1  \n",
              "121  0.1  not fire       1  \n",
              "\n",
              "[122 rows x 15 columns]"
            ]
          },
          "execution_count": 23,
          "metadata": {},
          "output_type": "execute_result"
        }
      ],
      "source": [
        "df[:122]"
      ]
    },
    {
      "cell_type": "markdown",
      "id": "1a09162e",
      "metadata": {
        "id": "1a09162e"
      },
      "source": [
        "#### Region 2 (Sidi-Bel Abbes Region)"
      ]
    },
    {
      "cell_type": "code",
      "execution_count": 24,
      "id": "4cddaf9a",
      "metadata": {
        "id": "4cddaf9a",
        "outputId": "1c04f6a0-5412-4b0a-c94c-679121ee71a8"
      },
      "outputs": [
        {
          "data": {
            "text/html": [
              "<div>\n",
              "<style scoped>\n",
              "    .dataframe tbody tr th:only-of-type {\n",
              "        vertical-align: middle;\n",
              "    }\n",
              "\n",
              "    .dataframe tbody tr th {\n",
              "        vertical-align: top;\n",
              "    }\n",
              "\n",
              "    .dataframe thead th {\n",
              "        text-align: right;\n",
              "    }\n",
              "</style>\n",
              "<table border=\"1\" class=\"dataframe\">\n",
              "  <thead>\n",
              "    <tr style=\"text-align: right;\">\n",
              "      <th></th>\n",
              "      <th>day</th>\n",
              "      <th>month</th>\n",
              "      <th>year</th>\n",
              "      <th>Temperature</th>\n",
              "      <th>RH</th>\n",
              "      <th>Ws</th>\n",
              "      <th>Rain</th>\n",
              "      <th>FFMC</th>\n",
              "      <th>DMC</th>\n",
              "      <th>DC</th>\n",
              "      <th>ISI</th>\n",
              "      <th>BUI</th>\n",
              "      <th>FWI</th>\n",
              "      <th>Classes</th>\n",
              "      <th>Region</th>\n",
              "    </tr>\n",
              "  </thead>\n",
              "  <tbody>\n",
              "    <tr>\n",
              "      <th>122</th>\n",
              "      <td>1</td>\n",
              "      <td>6</td>\n",
              "      <td>2012</td>\n",
              "      <td>32</td>\n",
              "      <td>71</td>\n",
              "      <td>12</td>\n",
              "      <td>0.7</td>\n",
              "      <td>57.1</td>\n",
              "      <td>2.5</td>\n",
              "      <td>8.2</td>\n",
              "      <td>0.6</td>\n",
              "      <td>2.8</td>\n",
              "      <td>0.2</td>\n",
              "      <td>not fire</td>\n",
              "      <td>2</td>\n",
              "    </tr>\n",
              "    <tr>\n",
              "      <th>123</th>\n",
              "      <td>2</td>\n",
              "      <td>6</td>\n",
              "      <td>2012</td>\n",
              "      <td>30</td>\n",
              "      <td>73</td>\n",
              "      <td>13</td>\n",
              "      <td>4.0</td>\n",
              "      <td>55.7</td>\n",
              "      <td>2.7</td>\n",
              "      <td>7.8</td>\n",
              "      <td>0.6</td>\n",
              "      <td>2.9</td>\n",
              "      <td>0.2</td>\n",
              "      <td>not fire</td>\n",
              "      <td>2</td>\n",
              "    </tr>\n",
              "    <tr>\n",
              "      <th>124</th>\n",
              "      <td>3</td>\n",
              "      <td>6</td>\n",
              "      <td>2012</td>\n",
              "      <td>29</td>\n",
              "      <td>80</td>\n",
              "      <td>14</td>\n",
              "      <td>2.0</td>\n",
              "      <td>48.7</td>\n",
              "      <td>2.2</td>\n",
              "      <td>7.6</td>\n",
              "      <td>0.3</td>\n",
              "      <td>2.6</td>\n",
              "      <td>0.1</td>\n",
              "      <td>not fire</td>\n",
              "      <td>2</td>\n",
              "    </tr>\n",
              "    <tr>\n",
              "      <th>125</th>\n",
              "      <td>4</td>\n",
              "      <td>6</td>\n",
              "      <td>2012</td>\n",
              "      <td>30</td>\n",
              "      <td>64</td>\n",
              "      <td>14</td>\n",
              "      <td>0.0</td>\n",
              "      <td>79.4</td>\n",
              "      <td>5.2</td>\n",
              "      <td>15.4</td>\n",
              "      <td>2.2</td>\n",
              "      <td>5.6</td>\n",
              "      <td>1.0</td>\n",
              "      <td>not fire</td>\n",
              "      <td>2</td>\n",
              "    </tr>\n",
              "    <tr>\n",
              "      <th>126</th>\n",
              "      <td>5</td>\n",
              "      <td>6</td>\n",
              "      <td>2012</td>\n",
              "      <td>32</td>\n",
              "      <td>60</td>\n",
              "      <td>14</td>\n",
              "      <td>0.2</td>\n",
              "      <td>77.1</td>\n",
              "      <td>6.0</td>\n",
              "      <td>17.6</td>\n",
              "      <td>1.8</td>\n",
              "      <td>6.5</td>\n",
              "      <td>0.9</td>\n",
              "      <td>not fire</td>\n",
              "      <td>2</td>\n",
              "    </tr>\n",
              "    <tr>\n",
              "      <th>...</th>\n",
              "      <td>...</td>\n",
              "      <td>...</td>\n",
              "      <td>...</td>\n",
              "      <td>...</td>\n",
              "      <td>...</td>\n",
              "      <td>...</td>\n",
              "      <td>...</td>\n",
              "      <td>...</td>\n",
              "      <td>...</td>\n",
              "      <td>...</td>\n",
              "      <td>...</td>\n",
              "      <td>...</td>\n",
              "      <td>...</td>\n",
              "      <td>...</td>\n",
              "      <td>...</td>\n",
              "    </tr>\n",
              "    <tr>\n",
              "      <th>238</th>\n",
              "      <td>26</td>\n",
              "      <td>9</td>\n",
              "      <td>2012</td>\n",
              "      <td>30</td>\n",
              "      <td>65</td>\n",
              "      <td>14</td>\n",
              "      <td>0.0</td>\n",
              "      <td>85.4</td>\n",
              "      <td>16.0</td>\n",
              "      <td>44.5</td>\n",
              "      <td>4.5</td>\n",
              "      <td>16.9</td>\n",
              "      <td>6.5</td>\n",
              "      <td>fire</td>\n",
              "      <td>2</td>\n",
              "    </tr>\n",
              "    <tr>\n",
              "      <th>239</th>\n",
              "      <td>27</td>\n",
              "      <td>9</td>\n",
              "      <td>2012</td>\n",
              "      <td>28</td>\n",
              "      <td>87</td>\n",
              "      <td>15</td>\n",
              "      <td>4.4</td>\n",
              "      <td>41.1</td>\n",
              "      <td>6.5</td>\n",
              "      <td>8.0</td>\n",
              "      <td>0.1</td>\n",
              "      <td>6.2</td>\n",
              "      <td>0.0</td>\n",
              "      <td>not fire</td>\n",
              "      <td>2</td>\n",
              "    </tr>\n",
              "    <tr>\n",
              "      <th>240</th>\n",
              "      <td>28</td>\n",
              "      <td>9</td>\n",
              "      <td>2012</td>\n",
              "      <td>27</td>\n",
              "      <td>87</td>\n",
              "      <td>29</td>\n",
              "      <td>0.5</td>\n",
              "      <td>45.9</td>\n",
              "      <td>3.5</td>\n",
              "      <td>7.9</td>\n",
              "      <td>0.4</td>\n",
              "      <td>3.4</td>\n",
              "      <td>0.2</td>\n",
              "      <td>not fire</td>\n",
              "      <td>2</td>\n",
              "    </tr>\n",
              "    <tr>\n",
              "      <th>241</th>\n",
              "      <td>29</td>\n",
              "      <td>9</td>\n",
              "      <td>2012</td>\n",
              "      <td>24</td>\n",
              "      <td>54</td>\n",
              "      <td>18</td>\n",
              "      <td>0.1</td>\n",
              "      <td>79.7</td>\n",
              "      <td>4.3</td>\n",
              "      <td>15.2</td>\n",
              "      <td>1.7</td>\n",
              "      <td>5.1</td>\n",
              "      <td>0.7</td>\n",
              "      <td>not fire</td>\n",
              "      <td>2</td>\n",
              "    </tr>\n",
              "    <tr>\n",
              "      <th>242</th>\n",
              "      <td>30</td>\n",
              "      <td>9</td>\n",
              "      <td>2012</td>\n",
              "      <td>24</td>\n",
              "      <td>64</td>\n",
              "      <td>15</td>\n",
              "      <td>0.2</td>\n",
              "      <td>67.3</td>\n",
              "      <td>3.8</td>\n",
              "      <td>16.5</td>\n",
              "      <td>1.2</td>\n",
              "      <td>4.8</td>\n",
              "      <td>0.5</td>\n",
              "      <td>not fire</td>\n",
              "      <td>2</td>\n",
              "    </tr>\n",
              "  </tbody>\n",
              "</table>\n",
              "<p>121 rows × 15 columns</p>\n",
              "</div>"
            ],
            "text/plain": [
              "     day  month  year  Temperature  RH  Ws  Rain  FFMC   DMC    DC  ISI   BUI  \\\n",
              "122    1      6  2012           32  71  12   0.7  57.1   2.5   8.2  0.6   2.8   \n",
              "123    2      6  2012           30  73  13   4.0  55.7   2.7   7.8  0.6   2.9   \n",
              "124    3      6  2012           29  80  14   2.0  48.7   2.2   7.6  0.3   2.6   \n",
              "125    4      6  2012           30  64  14   0.0  79.4   5.2  15.4  2.2   5.6   \n",
              "126    5      6  2012           32  60  14   0.2  77.1   6.0  17.6  1.8   6.5   \n",
              "..   ...    ...   ...          ...  ..  ..   ...   ...   ...   ...  ...   ...   \n",
              "238   26      9  2012           30  65  14   0.0  85.4  16.0  44.5  4.5  16.9   \n",
              "239   27      9  2012           28  87  15   4.4  41.1   6.5   8.0  0.1   6.2   \n",
              "240   28      9  2012           27  87  29   0.5  45.9   3.5   7.9  0.4   3.4   \n",
              "241   29      9  2012           24  54  18   0.1  79.7   4.3  15.2  1.7   5.1   \n",
              "242   30      9  2012           24  64  15   0.2  67.3   3.8  16.5  1.2   4.8   \n",
              "\n",
              "     FWI   Classes  Region  \n",
              "122  0.2  not fire       2  \n",
              "123  0.2  not fire       2  \n",
              "124  0.1  not fire       2  \n",
              "125  1.0  not fire       2  \n",
              "126  0.9  not fire       2  \n",
              "..   ...       ...     ...  \n",
              "238  6.5      fire       2  \n",
              "239  0.0  not fire       2  \n",
              "240  0.2  not fire       2  \n",
              "241  0.7  not fire       2  \n",
              "242  0.5  not fire       2  \n",
              "\n",
              "[121 rows x 15 columns]"
            ]
          },
          "execution_count": 24,
          "metadata": {},
          "output_type": "execute_result"
        }
      ],
      "source": [
        "df[122:]"
      ]
    },
    {
      "cell_type": "code",
      "execution_count": 25,
      "id": "e7bffbc9",
      "metadata": {
        "id": "e7bffbc9"
      },
      "outputs": [],
      "source": [
        "df.to_csv('Algerian_forest_fires_dataset_CLEANED.csv', index=False)"
      ]
    },
    {
      "cell_type": "markdown",
      "id": "e351b96e",
      "metadata": {
        "id": "e351b96e"
      },
      "source": [
        "### 3.5 Exploratory Data Analysis (EDA)"
      ]
    },
    {
      "cell_type": "code",
      "execution_count": 26,
      "id": "33c95568",
      "metadata": {
        "id": "33c95568"
      },
      "outputs": [],
      "source": [
        "#Droping Year features \n",
        "df1 = df.drop(['day','month','year'], axis=1)"
      ]
    },
    {
      "cell_type": "code",
      "execution_count": 27,
      "id": "6d540542",
      "metadata": {
        "id": "6d540542"
      },
      "outputs": [],
      "source": [
        "# Encoding Not fire as 0 and Fire as 1\n",
        "df1['Classes']= np.where(df1['Classes']== 'not fire',0,1)"
      ]
    },
    {
      "cell_type": "code",
      "execution_count": 28,
      "id": "9e5a03e9",
      "metadata": {
        "id": "9e5a03e9",
        "outputId": "a26e5676-85dc-413e-f880-9abff9cff44c"
      },
      "outputs": [
        {
          "data": {
            "text/plain": [
              "1    137\n",
              "0    106\n",
              "Name: Classes, dtype: int64"
            ]
          },
          "execution_count": 28,
          "metadata": {},
          "output_type": "execute_result"
        }
      ],
      "source": [
        "# Check counts\n",
        "df1.Classes.value_counts()"
      ]
    },
    {
      "cell_type": "code",
      "execution_count": 35,
      "id": "7498e3ea",
      "metadata": {},
      "outputs": [
        {
          "data": {
            "text/plain": [
              "Index(['Temperature', 'RH', 'Ws', 'Rain', 'FFMC', 'DMC', 'DC', 'ISI', 'BUI',\n",
              "       'FWI', 'Classes', 'Region'],\n",
              "      dtype='object')"
            ]
          },
          "execution_count": 35,
          "metadata": {},
          "output_type": "execute_result"
        }
      ],
      "source": [
        "df1.columns"
      ]
    },
    {
      "cell_type": "markdown",
      "id": "14c53840",
      "metadata": {
        "id": "14c53840"
      },
      "source": [
        "**Visualization of Distribution**"
      ]
    },
    {
      "cell_type": "code",
      "execution_count": 29,
      "id": "40e3a4ba",
      "metadata": {
        "id": "40e3a4ba",
        "outputId": "b514aae7-4393-4c84-f821-2abb0ed76b2c"
      },
      "outputs": [
        {
          "data": {
            "image/png": "[encoded data removed]",
            "text/plain": [
              "<Figure size 2000x1500 with 12 Axes>"
            ]
          },
          "metadata": {},
          "output_type": "display_data"
        }
      ],
      "source": [
        "# PLot density plot for all features\n",
        "plt.style.use('seaborn')\n",
        "df1.hist(bins=50, figsize=(20,15), ec = 'b')\n",
        "plt.show()"
      ]
    },
    {
      "cell_type": "code",
      "execution_count": 30,
      "id": "a9f80095",
      "metadata": {
        "id": "a9f80095",
        "outputId": "7d6b3363-9d43-41bd-ffec-146bdcfab33a"
      },
      "outputs": [
        {
          "data": {
            "text/plain": [
              "fire        56.378601\n",
              "not fire    43.621399\n",
              "Name: Classes, dtype: float64"
            ]
          },
          "execution_count": 30,
          "metadata": {},
          "output_type": "execute_result"
        }
      ],
      "source": [
        "# Percentage for PieChart\n",
        "percentage = df.Classes.value_counts(normalize=True)*100\n",
        "percentage"
      ]
    },
    {
      "cell_type": "markdown",
      "id": "a9da48bc",
      "metadata": {
        "id": "a9da48bc"
      },
      "source": [
        "**Charts**"
      ]
    },
    {
      "cell_type": "code",
      "execution_count": 31,
      "id": "3a7248d9",
      "metadata": {
        "id": "3a7248d9",
        "outputId": "12e9dbac-0813-4128-db92-bdc1e2671eae"
      },
      "outputs": [
        {
          "data": {
            "image/png": "[encoded data removed]",
            "text/plain": [
              "<Figure size 1200x700 with 1 Axes>"
            ]
          },
          "metadata": {},
          "output_type": "display_data"
        }
      ],
      "source": [
        "#plotting PieChart\n",
        "classeslabels = [\"FIRE\", \"NOT FIRE\"]\n",
        "plt.figure(figsize =(12, 7))\n",
        "plt.pie(percentage,labels = classeslabels,autopct='%1.1f%%')  \n",
        "plt.title (\"Pie Chart of Classes\", fontsize = 15)\n",
        "plt.show() "
      ]
    },
    {
      "cell_type": "markdown",
      "id": "4db590c8",
      "metadata": {
        "id": "4db590c8"
      },
      "source": [
        "**Checking Multicollinearity**"
      ]
    },
    {
      "cell_type": "code",
      "execution_count": 40,
      "id": "bb46e7e2",
      "metadata": {
        "id": "bb46e7e2",
        "outputId": "f66a5429-ce0d-4ad4-f6ad-79e337103483"
      },
      "outputs": [],
      "source": [
        "# # Correlation chart\n",
        "# k = len(df1.columns)\n",
        "# cols = df.corr().nlargest(k, columns=df.columns)['Classes'].index\n",
        "# cm = np.corrcoef(df1[cols].values.T)\n",
        "# sns.set(font_scale=1)\n",
        "# f, ax = plt.subplots(figsize=(20, 13))\n",
        "# hm = sns.heatmap(cm, annot=True, square=True, fmt='.2f', annot_kws={'size': 15}, yticklabels=cols.values, xticklabels=cols.values)\n",
        "# plt.show()"
      ]
    },
    {
      "cell_type": "markdown",
      "id": "575f88ac",
      "metadata": {
        "id": "575f88ac"
      },
      "source": [
        "#### Canadian Forest Fire Weather Index (FWI) System\n",
        "This column can be considered for Regression problem"
      ]
    },
    {
      "cell_type": "code",
      "execution_count": null,
      "id": "996fdb1e",
      "metadata": {
        "id": "996fdb1e",
        "outputId": "1d7f6b7d-a07f-4036-8f0b-e12c7cc89425"
      },
      "outputs": [
        {
          "data": {
            "image/png": "[encoded data removed]",
            "text/plain": [
              "<Figure size 576x396 with 1 Axes>"
            ]
          },
          "metadata": {},
          "output_type": "display_data"
        }
      ],
      "source": [
        "#Boxplot\n",
        "ax = sns.boxplot(df['FWI'], color= 'red')"
      ]
    },
    {
      "cell_type": "markdown",
      "id": "2afa414d",
      "metadata": {
        "id": "2afa414d"
      },
      "source": [
        "### **Monthwise Fire Analysis**"
      ]
    },
    {
      "cell_type": "code",
      "execution_count": null,
      "id": "faf947dd",
      "metadata": {
        "id": "faf947dd",
        "outputId": "96729a12-1487-4b73-cee6-dea39843c64d"
      },
      "outputs": [
        {
          "data": {
            "image/png": "[encoded data removed]",
            "text/plain": [
              "<Figure size 936x432 with 1 Axes>"
            ]
          },
          "metadata": {},
          "output_type": "display_data"
        }
      ],
      "source": [
        "dftemp= df.loc[df['Region']== 1]\n",
        "plt.subplots(figsize=(13,6))\n",
        "sns.set_style('whitegrid')\n",
        "sns.countplot(x='month',hue='Classes',data= df,ec = 'black', palette= 'Set2')\n",
        "plt.title('Fire Analysis Month wise for Bejaia Region', fontsize=18, weight='bold')\n",
        "plt.ylabel('Count', weight = 'bold')\n",
        "plt.xlabel('Months', weight= 'bold')\n",
        "plt.legend(loc='upper right')\n",
        "plt.xticks(np.arange(4), ['June','July', 'August', 'September',])\n",
        "plt.grid(alpha = 0.5,axis = 'y')\n",
        "plt.show()"
      ]
    },
    {
      "cell_type": "code",
      "execution_count": null,
      "id": "53f569f5",
      "metadata": {
        "id": "53f569f5",
        "outputId": "f20ce76d-75f0-4e8a-ef72-60245d897637"
      },
      "outputs": [
        {
          "data": {
            "image/png": "[encoded data removed]",
            "text/plain": [
              "<Figure size 936x432 with 1 Axes>"
            ]
          },
          "metadata": {},
          "output_type": "display_data"
        }
      ],
      "source": [
        "dftemp= df.loc[df['Region']== 2]\n",
        "plt.subplots(figsize=(13,6))\n",
        "sns.set_style('whitegrid')\n",
        "sns.countplot(x='month',hue='Classes',data= df,ec = 'black', palette= 'Set2')\n",
        "plt.title('Fire Analysis Month wise for Sidi-Bel Abbes Region', fontsize=18, weight='bold')\n",
        "plt.ylabel('Count', weight = 'bold')\n",
        "plt.xlabel('Months', weight= 'bold')\n",
        "plt.legend(loc='upper right')\n",
        "plt.xticks(np.arange(4), ['June','July', 'August', 'September',])\n",
        "plt.grid(alpha = 0.5,axis = 'y')\n",
        "plt.show()"
      ]
    },
    {
      "cell_type": "markdown",
      "id": "605ea095",
      "metadata": {
        "id": "605ea095"
      },
      "source": [
        "* Its observed that August and September had the most number of forest fires for both regions. And from the above plot of months, we can understand few things\n",
        "\n",
        "* Most of the fires happened in August and very high Fires happened in only 3 months - **June, July and August.**\n",
        "\n",
        "* Less Fires was on September"
      ]
    },
    {
      "cell_type": "markdown",
      "id": "f0c452a0",
      "metadata": {
        "id": "f0c452a0"
      },
      "source": [
        "### 3.5 Exploratory Data Analysis (EDA) on all Features"
      ]
    },
    {
      "cell_type": "code",
      "execution_count": null,
      "id": "c9345aca",
      "metadata": {
        "id": "c9345aca",
        "outputId": "bc61e1ec-c57d-40c1-b167-3f70c94b9104"
      },
      "outputs": [
        {
          "data": {
            "text/plain": [
              "Index(['day', 'month', 'year', 'Temperature', 'RH', 'Ws', 'Rain', 'FFMC',\n",
              "       'DMC', 'DC', 'ISI', 'BUI', 'FWI', 'Classes', 'Region'],\n",
              "      dtype='object')"
            ]
          },
          "execution_count": 260,
          "metadata": {},
          "output_type": "execute_result"
        }
      ],
      "source": [
        "df.columns"
      ]
    },
    {
      "cell_type": "code",
      "execution_count": null,
      "id": "fadfcdc1",
      "metadata": {
        "id": "fadfcdc1"
      },
      "outputs": [],
      "source": [
        "def barchart(feature,xlabel):\n",
        "    plt.figure(figsize=[14,8])\n",
        "    by_feature =  df1.groupby([feature], as_index=False)['Classes'].sum()\n",
        "    ax = sns.barplot(x=feature, y=\"Classes\", data=by_feature[[feature,'Classes']], estimator=sum)\n",
        "    ax.set(xlabel=xlabel, ylabel='Fire Count')"
      ]
    },
    {
      "cell_type": "code",
      "execution_count": null,
      "id": "b8b4caff",
      "metadata": {
        "id": "b8b4caff",
        "outputId": "ccdd6ccf-d88d-4c66-8cbc-4db61d57efd3"
      },
      "outputs": [
        {
          "data": {
            "image/png": "[encoded data removed]",
            "text/plain": [
              "<Figure size 1008x576 with 1 Axes>"
            ]
          },
          "metadata": {},
          "output_type": "display_data"
        }
      ],
      "source": [
        "barchart('Temperature','Temperature Max in Celsius degrees')"
      ]
    },
    {
      "cell_type": "code",
      "execution_count": null,
      "id": "cc581a06",
      "metadata": {
        "id": "cc581a06",
        "outputId": "b4917620-1e97-452e-841e-cdf44921a976"
      },
      "outputs": [
        {
          "data": {
            "image/png": "[encoded data removed]",
            "text/plain": [
              "<Figure size 1008x576 with 1 Axes>"
            ]
          },
          "metadata": {},
          "output_type": "display_data"
        }
      ],
      "source": [
        "barchart('Rain', 'Rain in mm')"
      ]
    },
    {
      "cell_type": "markdown",
      "id": "2563bc25",
      "metadata": {
        "id": "2563bc25"
      },
      "source": [
        "#### Fine Fuel Moisture Code (FFMC) index"
      ]
    },
    {
      "cell_type": "code",
      "execution_count": null,
      "id": "8c8790b1",
      "metadata": {
        "id": "8c8790b1",
        "outputId": "4664dc94-99c2-4a1f-eae8-926f33e05302"
      },
      "outputs": [
        {
          "data": {
            "image/png": "[encoded data removed]",
            "text/plain": [
              "<Figure size 1008x576 with 1 Axes>"
            ]
          },
          "metadata": {},
          "output_type": "display_data"
        }
      ],
      "source": [
        "barchart('Ws', 'Wind Speed in km/hr')"
      ]
    },
    {
      "cell_type": "code",
      "execution_count": null,
      "id": "bdbb2432",
      "metadata": {
        "id": "bdbb2432",
        "outputId": "524de308-3b85-4a5e-bd13-87bb5749cddf"
      },
      "outputs": [
        {
          "data": {
            "image/png": "[encoded data removed]",
            "text/plain": [
              "<Figure size 1008x504 with 1 Axes>"
            ]
          },
          "metadata": {},
          "output_type": "display_data"
        }
      ],
      "source": [
        "barplots('RH','Relative Humidity in %')"
      ]
    },
    {
      "cell_type": "code",
      "execution_count": null,
      "id": "c0df1e71",
      "metadata": {
        "id": "c0df1e71",
        "outputId": "a6ec112e-a642-4626-e819-7b01c6e0e9bc"
      },
      "outputs": [
        {
          "data": {
            "image/png": "[encoded data removed]",
            "text/plain": [
              "<Figure size 864x432 with 1 Axes>"
            ]
          },
          "metadata": {},
          "output_type": "display_data"
        }
      ],
      "source": [
        "dftemp = df1.drop(['Classes', 'Region'], axis=1)\n",
        "fig = plt.figure(figsize =(12, 6))\n",
        "ax = dftemp.boxplot()\n",
        "ax.set_title(\"Boxplot of Given Dataset\")\n",
        "plt.show()"
      ]
    },
    {
      "cell_type": "code",
      "execution_count": null,
      "id": "75f8474e",
      "metadata": {
        "id": "75f8474e",
        "outputId": "aaf67879-ffc6-47e9-cf14-9dcce273877c",
        "scrolled": true
      },
      "outputs": [
        {
          "data": {
            "image/png": "[encoded data removed]",
            "text/plain": [
              "<Figure size 576x396 with 1 Axes>"
            ]
          },
          "metadata": {},
          "output_type": "display_data"
        },
        {
          "data": {
            "image/png": "[encoded data removed]",
            "text/plain": [
              "<Figure size 576x396 with 1 Axes>"
            ]
          },
          "metadata": {},
          "output_type": "display_data"
        },
        {
          "data": {
            "image/png": "[encoded data removed]",
            "text/plain": [
              "<Figure size 576x396 with 1 Axes>"
            ]
          },
          "metadata": {},
          "output_type": "display_data"
        },
        {
          "data": {
            "image/png": "[encoded data removed]",
            "text/plain": [
              "<Figure size 576x396 with 1 Axes>"
            ]
          },
          "metadata": {},
          "output_type": "display_data"
        },
        {
          "data": {
            "image/png": "[encoded data removed]",
            "text/plain": [
              "<Figure size 576x396 with 1 Axes>"
            ]
          },
          "metadata": {},
          "output_type": "display_data"
        },
        {
          "data": {
            "image/png": "[encoded data removed]",
            "text/plain": [
              "<Figure size 576x396 with 1 Axes>"
            ]
          },
          "metadata": {},
          "output_type": "display_data"
        },
        {
          "data": {
            "image/png": "[encoded data removed]",
            "text/plain": [
              "<Figure size 576x396 with 1 Axes>"
            ]
          },
          "metadata": {},
          "output_type": "display_data"
        }
      ],
      "source": [
        "dftemp = dftemp = df1.drop(['Region','Temperature','Rain','Ws','RH'], axis=1)\n",
        "for feature in dftemp:\n",
        "    sns.histplot(data = dftemp,x=feature, hue = 'Classes')\n",
        "    plt.legend(labels=['Fire','Not Fire'])\n",
        "    plt.title(feature)\n",
        "    plt.show()"
      ]
    },
    {
      "cell_type": "markdown",
      "id": "cb47c60d",
      "metadata": {
        "id": "cb47c60d"
      },
      "source": [
        "### REPORT \n",
        "#### Weather System Report\n",
        "* **Temperature** Highest Fire counts happened between **30-37 degree Celsius**\n",
        "* **Rain** Highest Fire counts happened when there was no rain to very less rain ie. **0.0 to 0.3.**\n",
        "* **Wind Speed** highest Fire count happened when the wind speed were between **13 to 19 Km/hr.**\n",
        "* **Relative Humidity** highest fire count happened when the RH is between **50 to 80%.**\n",
        "\n",
        "\n",
        "#### FWI System Components Report \n",
        "FWI (Canadian Forest Fire Weather Index)\n",
        "* **Fine Fuel Moisture Code (FFMC) index** which ranges between *28.6 to 92.5*, \n",
        "    here **above 75** has higher chance of Forest fires.\n",
        "    \n",
        "* **Duff Moisture Code (DMC) index** which ranges between *1.1 to 65.9*, \n",
        "    here 1.1-10 has lower chance of Forest fires whereas above **10-30 DMC** has very high evidence of Forest fires in past.\n",
        "    \n",
        "* **Drought Code (DC) index** which ranges between *7 to 220.4*, \n",
        "    here 0-25 is safe and has lower chance of Forest fires whereas range **above 25 DC** has higher chance of forest fires.\n",
        "    \n",
        "* **Initial Spread Index (ISI) index** which ranges between *0 to 18*, \n",
        "    here 0-3 has lower Forest fires and **above 3 ISI** has higher chance of Forest fires.\n",
        "    \n",
        "* **Buildup Index (BUI) index** which ranges between *1.1 to 68*, \n",
        "    here 1.1 to 10 has lower Forest fire chance and **above 10 BUI has** higher chance of forest fires.\n",
        "    \n",
        "* **Fire Weather Index (FWI) Index** which ranges between *1 to 31.1*, \n",
        "    here 0-3 has lower chance of Forest fires and **3-25 FWI** has higher chance of forest fires."
      ]
    },
    {
      "cell_type": "code",
      "execution_count": null,
      "id": "96fdd0a1",
      "metadata": {
        "id": "96fdd0a1"
      },
      "outputs": [],
      "source": []
    }
  ],
  "metadata": {
    "colab": {
      "provenance": []
    },
    "kernelspec": {
      "display_name": "Python 3 (ipykernel)",
      "language": "python",
      "name": "python3"
    },
    "language_info": {
      "codemirror_mode": {
        "name": "ipython",
        "version": 3
      },
      "file_extension": ".py",
      "mimetype": "text/x-python",
      "name": "python",
      "nbconvert_exporter": "python",
      "pygments_lexer": "ipython3",
      "version": "3.11.2"
    }
  },
  "nbformat": 4,
  "nbformat_minor": 5
}
