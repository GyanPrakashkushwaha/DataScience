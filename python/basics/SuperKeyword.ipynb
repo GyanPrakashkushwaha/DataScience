{
 "cells": [
  {
   "attachments": {},
   "cell_type": "markdown",
   "metadata": {},
   "source": [
    "# Super Keyword\n",
    "  #### The super() keyword in Python is used to refer to the parent class. It is especially useful when a class inherits from multiple parent classes and you want to call a method from one of the parent classes.\n",
    "\n",
    "#### When a class inherits from a parent class, it can override or extend the methods defined in the parent class. However, sometimes you might want to use the parent class method in the child class. This is where the super() keyword comes in handy."
   ]
  },
  {
   "cell_type": "code",
   "execution_count": 10,
   "metadata": {},
   "outputs": [
    {
     "name": "stdout",
     "output_type": "stream",
     "text": [
      "This is the child method.\n",
      "This is the parent method.\n"
     ]
    }
   ],
   "source": [
    "class ParentClass:\n",
    "    def parent_method(self):\n",
    "        print(\"This is the parent method.\")\n",
    "\n",
    "        \n",
    "class ChildClass(ParentClass):\n",
    "    def child_method(self):\n",
    "        print(\"This is the child method.\")\n",
    "\n",
    "        super().parent_method() # with the help of this super method I have directly inherited parent method\n",
    "child_object = ChildClass()\n",
    "child_object.child_method()"
   ]
  },
  {
   "cell_type": "code",
   "execution_count": 8,
   "metadata": {},
   "outputs": [
    {
     "name": "stdout",
     "output_type": "stream",
     "text": [
      "This is the child method.\n",
      "This is the parent method.\n"
     ]
    }
   ],
   "source": [
    "class ParentClass:\n",
    "    def parent_method(self):\n",
    "        print(\"This is the parent method.\")\n",
    "\n",
    "\n",
    "class ChildClass(ParentClass):\n",
    "    @classmethod\n",
    "    def child_method(cls):\n",
    "        print(\"This is the child method.\")\n",
    "        super().parent_method(cls)\n",
    "child_object = ChildClass()\n",
    "ChildClass.child_method()"
   ]
  },
  {
   "cell_type": "code",
   "execution_count": 8,
   "metadata": {},
   "outputs": [
    {
     "name": "stdout",
     "output_type": "stream",
     "text": [
      "This is the child method.\n",
      "This is the parent method.\n"
     ]
    }
   ],
   "source": [
    "class ParentClass:\n",
    "    def parent_method(self):\n",
    "        print(\"This is the parent method.\")\n",
    "        sum = 20-3\n",
    "        return sum\n",
    "class ChildClass(ParentClass):\n",
    "    def child_method(self):\n",
    "        print(\"This is the child method.\")\n",
    "        super().parent_method()\n",
    "child_object = ChildClass()\n",
    "child_object.child_method()"
   ]
  },
  {
   "cell_type": "code",
   "execution_count": null,
   "metadata": {},
   "outputs": [],
   "source": [
    "\n",
    "def parent_method(self):\n",
    "    print(\"This is the parent method.\")\n",
    "    sum = 20-3\n",
    "    return sum\n",
    "\n",
    "class ChildClass(ParentClass):\n",
    "    def child_method(self,sum):\n",
    "        print(\"This is the child method.\")\n",
    "        super().__init__(sum)\n",
    "child_object = ChildClass()\n",
    "child_object.child_method(3)"
   ]
  },
  {
   "cell_type": "code",
   "execution_count": 15,
   "metadata": {},
   "outputs": [],
   "source": [
    "import sys\n",
    "\n",
    "\n",
    "def errorMsgDetail(error):\n",
    "    _,_,exc_tb = sys.exc_info()\n",
    "\n",
    "    file_name = exc_tb.tb_frame.f_code.co_filename\n",
    "    error_msg = f\"Error occured in python script name [{file_name}] line number [{exc_tb.tb_lineno}] error message [{str(error)}]\"\n",
    "\n",
    "    return error_msg\n",
    "\n",
    "\n",
    "class CustomException(Exception):\n",
    "    def __init__(self,error_msg):\n",
    "        super().__init__(error_msg)\n",
    "        self.error_msg = error_msg\n",
    "        \n"
   ]
  },
  {
   "cell_type": "code",
   "execution_count": 27,
   "metadata": {},
   "outputs": [
    {
     "name": "stdout",
     "output_type": "stream",
     "text": [
      "This is the child method.\n",
      "This is the parent method of ParentClass1.\n"
     ]
    }
   ],
   "source": [
    "class ParentClass1:\n",
    "    def parent_method(self):\n",
    "        print(\"This is the parent method of ParentClass1.\")\n",
    "class ParentClass2:\n",
    "    def parent_method(self):\n",
    "        print(\"This is the parent method of ParentClass2.\")\n",
    "class ChildClass(ParentClass1, ParentClass2):\n",
    "    def child_method(self):\n",
    "        print(\"This is the child method.\")\n",
    "        super().parent_method()\n",
    "child_object = ChildClass()\n",
    "child_object.child_method()"
   ]
  },
  {
   "attachments": {},
   "cell_type": "markdown",
   "metadata": {},
   "source": [
    "# super().__init__()"
   ]
  },
  {
   "cell_type": "code",
   "execution_count": 20,
   "metadata": {},
   "outputs": [
    {
     "name": "stdout",
     "output_type": "stream",
     "text": [
      "7\n"
     ]
    }
   ],
   "source": [
    "class ParentClass1:\n",
    "    def __init__(self) :\n",
    "        print(3+4)\n",
    "    def parent_method(self):\n",
    "\n",
    "        print(\"This is the parent method of ParentClass1.\")\n",
    "\n",
    "cls = ParentClass1()"
   ]
  },
  {
   "cell_type": "code",
   "execution_count": 29,
   "metadata": {},
   "outputs": [
    {
     "name": "stdout",
     "output_type": "stream",
     "text": [
      "Unique Inside class B's constructor\n"
     ]
    }
   ],
   "source": [
    "\n",
    "class A:\n",
    "    classvar1 = \"Class variable A\"\n",
    " \n",
    "    def __init__(self):\n",
    "        self.classvar1 = \"Inside class A's constructor\"\n",
    "        self.unique = \"Unique\"\n",
    " \n",
    " \n",
    " \n",
    "class B(A):\n",
    "    classvar2 = \"Class variable B\"\n",
    "    def __init__(self):\n",
    "        super().__init__()\n",
    "        self.classvar1 = \"Inside class B's constructor\"\n",
    " \n",
    "a = A()\n",
    "b = B()\n",
    " \n",
    "print(b.unique,b.classvar1)"
   ]
  },
  {
   "cell_type": "code",
   "execution_count": 28,
   "metadata": {},
   "outputs": [
    {
     "ename": "TypeError",
     "evalue": "B.__init__() missing 1 required positional argument: 'sum'",
     "output_type": "error",
     "traceback": [
      "\u001b[1;31m---------------------------------------------------------------------------\u001b[0m",
      "\u001b[1;31mTypeError\u001b[0m                                 Traceback (most recent call last)",
      "Cell \u001b[1;32mIn[28], line 18\u001b[0m\n\u001b[0;32m     15\u001b[0m         \u001b[39mself\u001b[39m\u001b[39m.\u001b[39mclassvar1 \u001b[39m=\u001b[39m \u001b[39m\"\u001b[39m\u001b[39mInside class B\u001b[39m\u001b[39m'\u001b[39m\u001b[39ms constructor\u001b[39m\u001b[39m\"\u001b[39m\n\u001b[0;32m     17\u001b[0m a \u001b[39m=\u001b[39m A()\n\u001b[1;32m---> 18\u001b[0m b \u001b[39m=\u001b[39m B()\n\u001b[0;32m     20\u001b[0m \u001b[39mprint\u001b[39m(b\u001b[39m.\u001b[39munique)\n",
      "\u001b[1;31mTypeError\u001b[0m: B.__init__() missing 1 required positional argument: 'sum'"
     ]
    }
   ],
   "source": [
    "class A:\n",
    "    classvar1 = \"Class variable A\"\n",
    "    sum = 9+3\n",
    "    def __init__(self):\n",
    "        self.classvar1 = \"Inside class A's constructor\"\n",
    "        self.unique = \"Unique\"\n",
    "        \n",
    " \n",
    " \n",
    " \n",
    "class B(A):\n",
    "    classvar2 = \"Class variable B\"\n",
    "    def __init__(self,sum):\n",
    "        super().__init__(sum)\n",
    "        self.classvar1 = \"Inside class B's constructor\"\n",
    " \n",
    "a = A()\n",
    "b = B()\n",
    " \n",
    "print(b.unique)"
   ]
  }
 ],
 "metadata": {
  "kernelspec": {
   "display_name": "Python 3",
   "language": "python",
   "name": "python3"
  },
  "language_info": {
   "codemirror_mode": {
    "name": "ipython",
    "version": 3
   },
   "file_extension": ".py",
   "mimetype": "text/x-python",
   "name": "python",
   "nbconvert_exporter": "python",
   "pygments_lexer": "ipython3",
   "version": "3.11.3"
  },
  "orig_nbformat": 4
 },
 "nbformat": 4,
 "nbformat_minor": 2
}
