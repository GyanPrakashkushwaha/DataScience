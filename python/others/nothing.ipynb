{
 "cells": [
  {
   "cell_type": "code",
   "execution_count": 1,
   "metadata": {},
   "outputs": [
    {
     "name": "stdout",
     "output_type": "stream",
     "text": [
      "Student 1 Answer:\n",
      "An API (Application Programming Interface) is a set of rules and protocols that allow one software application to interact with another. It defines the methods and data formats that applications can use to request and exchange information. It acts as a bridge between different software components.\n",
      "\n",
      "Student 2 Answer:\n",
      "An API (Application Programming Interface) is a set of rules and protocols that allow one software application to interact with another. It defines the methods and data formats that applications can use to request and exchange information. It acts as a bridge between different software components.\n",
      "\n",
      "Student 3 Answer:\n",
      "An API (Application Programming Interface) is a set of rules and protocols that allow one software application to interact with another. It defines the methods and data formats that applications can use to request and exchange information. It acts as a bridge between different software components.\n",
      "\n"
     ]
    }
   ],
   "source": [
    "# List of student answers\n",
    "student_answers = [\n",
    "    \"A waiter is an API who takes a customer request to a chef at the backend.\",\n",
    "    \"A receptionist is an API who takes a customer enquiry to the CEO, who is usually not available.\",\n",
    "    \"A priest is an API who takes a devotee's prayer to his/her God.\",\n",
    "]\n",
    "\n",
    "# Template for a correct API definition\n",
    "correct_answer_template = \"An API (Application Programming Interface) is a set of rules and protocols that allow one software application to interact with another. It defines the methods and data formats that applications can use to request and exchange information. It acts as a bridge between different software components.\"\n",
    "\n",
    "# Correcting the student answers\n",
    "corrected_answers = [correct_answer_template for _ in student_answers]\n",
    "\n",
    "# Print the corrected answers\n",
    "for i, answer in enumerate(corrected_answers):\n",
    "    print(f\"Student {i+1} Answer:\")\n",
    "    print(answer)\n",
    "    print()\n"
   ]
  },
  {
   "cell_type": "code",
   "execution_count": 6,
   "metadata": {},
   "outputs": [
    {
     "name": "stdout",
     "output_type": "stream",
     "text": [
      "0 answers are correct\n",
      "3 answers are incorrect\n"
     ]
    }
   ],
   "source": [
    "acceptable_analogies = ['website interface', 'software interface', 'database interface']\n",
    "\n",
    "answers = ['waiter', 'receptionist', 'priest']\n",
    "correct = 0 \n",
    "incorrect = 0\n",
    "\n",
    "for answer in answers:  \n",
    "    if any(word in answer for word in acceptable_analogies):\n",
    "        correct += 1  \n",
    "    else:\n",
    "        incorrect += 1\n",
    "\n",
    "print(f\"{correct} answers are correct\")         \n",
    "print(f\"{incorrect} answers are incorrect\")"
   ]
  },
  {
   "cell_type": "code",
   "execution_count": 7,
   "metadata": {},
   "outputs": [
    {
     "name": "stdout",
     "output_type": "stream",
     "text": [
      "Corrected Answer 1: A waiter is an intermediary who takes a customer request to a chef at the backend.\n",
      "Corrected Answer 2: A receptionist is an intermediary who takes a customer inquiry to the CEO, who is usually not available.\n",
      "Corrected Answer 3: A priest is an intermediary who takes a devotee's prayer to his/her God.\n"
     ]
    }
   ],
   "source": [
    "# Define a list of original answers\n",
    "answers = [\n",
    "    \"A waiter is an API who takes a customer request to a chef at the backend.\",\n",
    "    \"A receptionist is an API who takes a customer inquiry to the CEO, who is usually not available.\",\n",
    "    \"A priest is an API who takes a devotee's prayer to his/her God.\"\n",
    "]\n",
    "\n",
    "# Create a function to correct the answers\n",
    "def correct_answers(answers):\n",
    "    corrected_answers = []\n",
    "    for answer in answers:\n",
    "        # Replace the term \"API\" with \"intermediary\" to make it more technically accurate\n",
    "        corrected_answer = answer.replace(\"API\", \"intermediary\")\n",
    "        corrected_answers.append(corrected_answer)\n",
    "    return corrected_answers\n",
    "\n",
    "# Get the corrected answers\n",
    "corrected = correct_answers(answers)\n",
    "\n",
    "# Print the corrected answers\n",
    "for i, answer in enumerate(corrected, start=1):\n",
    "    print(f\"Corrected Answer {i}: {answer}\")\n"
   ]
  },
  {
   "cell_type": "code",
   "execution_count": null,
   "metadata": {},
   "outputs": [],
   "source": []
  },
  {
   "cell_type": "code",
   "execution_count": null,
   "metadata": {},
   "outputs": [],
   "source": []
  },
  {
   "cell_type": "code",
   "execution_count": null,
   "metadata": {},
   "outputs": [],
   "source": []
  },
  {
   "cell_type": "code",
   "execution_count": null,
   "metadata": {},
   "outputs": [],
   "source": []
  },
  {
   "cell_type": "code",
   "execution_count": null,
   "metadata": {},
   "outputs": [],
   "source": []
  },
  {
   "cell_type": "code",
   "execution_count": null,
   "metadata": {},
   "outputs": [],
   "source": []
  }
 ],
 "metadata": {
  "kernelspec": {
   "display_name": "Python 3",
   "language": "python",
   "name": "python3"
  },
  "language_info": {
   "codemirror_mode": {
    "name": "ipython",
    "version": 3
   },
   "file_extension": ".py",
   "mimetype": "text/x-python",
   "name": "python",
   "nbconvert_exporter": "python",
   "pygments_lexer": "ipython3",
   "version": "3.11.3"
  },
  "orig_nbformat": 4
 },
 "nbformat": 4,
 "nbformat_minor": 2
}
