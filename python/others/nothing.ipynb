{
 "cells": [
  {
   "cell_type": "code",
   "execution_count": 11,
   "metadata": {},
   "outputs": [
    {
     "name": "stdout",
     "output_type": "stream",
     "text": [
      "Student 1 Answer:\n",
      "An API (Application Programming Interface) is a set of rules and protocols that allow one software application to interact with another. It defines the methods and data formats that applications can use to request and exchange information. It acts as a bridge between different software components.\n",
      "\n",
      "Student 2 Answer:\n",
      "An API (Application Programming Interface) is a set of rules and protocols that allow one software application to interact with another. It defines the methods and data formats that applications can use to request and exchange information. It acts as a bridge between different software components.\n",
      "\n",
      "Student 3 Answer:\n",
      "An API (Application Programming Interface) is a set of rules and protocols that allow one software application to interact with another. It defines the methods and data formats that applications can use to request and exchange information. It acts as a bridge between different software components.\n",
      "\n"
     ]
    }
   ],
   "source": [
    "# List of student answers\n",
    "student_answers = [\n",
    "    \"A waiter is an API who takes a customer request to a chef at the backend.\",\n",
    "    \"A receptionist is an API who takes a customer enquiry to the CEO, who is usually not available.\",\n",
    "    \"A priest is an API who takes a devotee's prayer to his/her God.\",\n",
    "]\n",
    "\n",
    "# Template for a correct API definition\n",
    "correct_answer_template = \"An API (Application Programming Interface) is a set of rules and protocols that allow one software application to interact with another. It defines the methods and data formats that applications can use to request and exchange information. It acts as a bridge between different software components.\"\n",
    "\n",
    "# Correcting the student answers\n",
    "corrected_answers = [correct_answer_template for _ in student_answers]\n",
    "\n",
    "# Print the corrected answers\n",
    "for i, answer in enumerate(corrected_answers):\n",
    "    print(f\"Student {i+1} Answer:\")\n",
    "    print(answer)\n",
    "    print()\n"
   ]
  },
  {
   "cell_type": "code",
   "execution_count": 12,
   "metadata": {},
   "outputs": [
    {
     "name": "stdout",
     "output_type": "stream",
     "text": [
      "0 answers are correct\n",
      "3 answers are incorrect\n"
     ]
    }
   ],
   "source": [
    "acceptable_analogies = ['website interface', 'software interface', 'database interface']\n",
    "\n",
    "answers = ['waiter', 'receptionist', 'priest']\n",
    "correct = 0 \n",
    "incorrect = 0\n",
    "\n",
    "for answer in answers:  \n",
    "    if any(word in answer for word in acceptable_analogies):\n",
    "        correct += 1  \n",
    "    else:\n",
    "        incorrect += 1\n",
    "\n",
    "print(f\"{correct} answers are correct\")         \n",
    "print(f\"{incorrect} answers are incorrect\")"
   ]
  },
  {
   "cell_type": "code",
   "execution_count": 13,
   "metadata": {},
   "outputs": [
    {
     "name": "stdout",
     "output_type": "stream",
     "text": [
      "Corrected Answer 1: A waiter is an intermediary who takes a customer request to a chef at the backend.\n",
      "Corrected Answer 2: A receptionist is an intermediary who takes a customer inquiry to the CEO, who is usually not available.\n",
      "Corrected Answer 3: A priest is an intermediary who takes a devotee's prayer to his/her God.\n"
     ]
    }
   ],
   "source": [
    "# Define a list of original answers\n",
    "answers = [\n",
    "    \"A waiter is an API who takes a customer request to a chef at the backend.\",\n",
    "    \"A receptionist is an API who takes a customer inquiry to the CEO, who is usually not available.\",\n",
    "    \"A priest is an API who takes a devotee's prayer to his/her God.\"\n",
    "]\n",
    "\n",
    "# Create a function to correct the answers\n",
    "def correct_answers(answers):\n",
    "    corrected_answers = []\n",
    "    for answer in answers:\n",
    "        # Replace the term \"API\" with \"intermediary\" to make it more technically accurate\n",
    "        corrected_answer = answer.replace(\"API\", \"intermediary\")\n",
    "        corrected_answers.append(corrected_answer)\n",
    "    return corrected_answers\n",
    "\n",
    "# Get the corrected answers\n",
    "corrected = correct_answers(answers)\n",
    "\n",
    "# Print the corrected answers\n",
    "for i, answer in enumerate(corrected, start=1):\n",
    "    print(f\"Corrected Answer {i}: {answer}\")\n"
   ]
  },
  {
   "cell_type": "code",
   "execution_count": 14,
   "metadata": {},
   "outputs": [
    {
     "name": "stdout",
     "output_type": "stream",
     "text": [
      "('3', '3', '3', '3', '3').\n"
     ]
    }
   ],
   "source": [
    "word1 = str(input())\n",
    "word2 = str(input())\n",
    "word3 = str(input())\n",
    "word4 = str(input())\n",
    "word5 = str(input())\n",
    "fullstop = '.'\n",
    "\n",
    "print(f'{word1,word2,word3,word4,word5}.')"
   ]
  },
  {
   "cell_type": "code",
   "execution_count": 15,
   "metadata": {},
   "outputs": [],
   "source": [
    "input_date = input()\n",
    "\n",
    "output = input_date[5:-1]"
   ]
  },
  {
   "cell_type": "code",
   "execution_count": 16,
   "metadata": {},
   "outputs": [],
   "source": [
    "str = 'CS_BT_21_7412@student.onlinedegree.iitm.ac.in'"
   ]
  },
  {
   "cell_type": "code",
   "execution_count": 17,
   "metadata": {},
   "outputs": [],
   "source": [
    "splt = str.split('_')"
   ]
  },
  {
   "cell_type": "code",
   "execution_count": 18,
   "metadata": {},
   "outputs": [
    {
     "name": "stdout",
     "output_type": "stream",
     "text": [
      "CS\n",
      "BT\n",
      "21\n"
     ]
    }
   ],
   "source": [
    "print(splt[0])\n",
    "print(splt[1])\n",
    "print(splt[2])"
   ]
  },
  {
   "cell_type": "code",
   "execution_count": 19,
   "metadata": {},
   "outputs": [
    {
     "name": "stdout",
     "output_type": "stream",
     "text": [
      "7412\n",
      "iitm\n"
     ]
    }
   ],
   "source": [
    "print(splt[-1].split('@')[0])\n",
    "print(splt[-1].split('@')[1].split('.')[2])"
   ]
  },
  {
   "cell_type": "code",
   "execution_count": 20,
   "metadata": {},
   "outputs": [],
   "source": [
    "result = int(int(3)**int(5))"
   ]
  },
  {
   "cell_type": "code",
   "execution_count": 21,
   "metadata": {},
   "outputs": [
    {
     "data": {
      "text/plain": [
       "243"
      ]
     },
     "execution_count": 21,
     "metadata": {},
     "output_type": "execute_result"
    }
   ],
   "source": [
    "result"
   ]
  },
  {
   "cell_type": "code",
   "execution_count": 22,
   "metadata": {},
   "outputs": [
    {
     "ename": "TypeError",
     "evalue": "'str' object is not callable",
     "output_type": "error",
     "traceback": [
      "\u001b[1;31m---------------------------------------------------------------------------\u001b[0m",
      "\u001b[1;31mTypeError\u001b[0m                                 Traceback (most recent call last)",
      "Cell \u001b[1;32mIn[22], line 1\u001b[0m\n\u001b[1;32m----> 1\u001b[0m \u001b[38;5;28mprint\u001b[39m(\u001b[38;5;28mlen\u001b[39m(\u001b[38;5;28;43mstr\u001b[39;49m\u001b[43m(\u001b[49m\u001b[43mresult\u001b[49m\u001b[43m)\u001b[49m))\n",
      "\u001b[1;31mTypeError\u001b[0m: 'str' object is not callable"
     ]
    }
   ],
   "source": [
    "print(len(str(result)))"
   ]
  },
  {
   "cell_type": "code",
   "execution_count": null,
   "metadata": {},
   "outputs": [
    {
     "ename": "AttributeError",
     "evalue": "'int' object has no attribute 'str'",
     "output_type": "error",
     "traceback": [
      "\u001b[1;31m---------------------------------------------------------------------------\u001b[0m",
      "\u001b[1;31mAttributeError\u001b[0m                            Traceback (most recent call last)",
      "Cell \u001b[1;32mIn[42], line 5\u001b[0m\n\u001b[0;32m      2\u001b[0m y \u001b[38;5;241m=\u001b[39m \u001b[38;5;28mint\u001b[39m(\u001b[38;5;28minput\u001b[39m())\n\u001b[0;32m      3\u001b[0m result \u001b[38;5;241m=\u001b[39m x\u001b[38;5;241m*\u001b[39m\u001b[38;5;241m*\u001b[39my\n\u001b[1;32m----> 5\u001b[0m \u001b[38;5;28mprint\u001b[39m(\u001b[38;5;28mlen\u001b[39m(\u001b[43mresult\u001b[49m\u001b[38;5;241;43m.\u001b[39;49m\u001b[43mstr\u001b[49m))\n",
      "\u001b[1;31mAttributeError\u001b[0m: 'int' object has no attribute 'str'"
     ]
    }
   ],
   "source": [
    "x = int(input())\n",
    "y = int(input())\n",
    "result = x**y\n",
    "\n",
    "print(len(result.str))"
   ]
  },
  {
   "cell_type": "code",
   "execution_count": null,
   "metadata": {},
   "outputs": [
    {
     "name": "stdout",
     "output_type": "stream",
     "text": [
      "3\n"
     ]
    }
   ],
   "source": [
    "# Input two positive integers M and N\n",
    "M = int(input())\n",
    "N = int(input())\n",
    "\n",
    "# Case 1: M < N\n",
    "if M < N:\n",
    "    print(M)\n",
    "else:\n",
    "    # Case 2: M >= N\n",
    "    while M >= N:\n",
    "        M -= N\n",
    "\n",
    "    print( M)\n"
   ]
  },
  {
   "cell_type": "code",
   "execution_count": null,
   "metadata": {},
   "outputs": [
    {
     "name": "stdout",
     "output_type": "stream",
     "text": [
      "7\n",
      "7\n"
     ]
    }
   ],
   "source": [
    "word1 = 5\n",
    "word2 = 2\n",
    "\n",
    "print(word1 + word2)\n",
    "word = word1\n",
    "word1 = word2\n",
    "word2 = word\n",
    "print(word2 + word1)"
   ]
  },
  {
   "cell_type": "code",
   "execution_count": null,
   "metadata": {},
   "outputs": [],
   "source": [
    "a = 1\n",
    "b=2\n",
    "c=3\n",
    "x, y, z = a, b, c\n",
    "x = y = z"
   ]
  },
  {
   "cell_type": "code",
   "execution_count": null,
   "metadata": {},
   "outputs": [
    {
     "data": {
      "text/plain": [
       "(3, 3, 3)"
      ]
     },
     "execution_count": 12,
     "metadata": {},
     "output_type": "execute_result"
    }
   ],
   "source": [
    "x , y,z"
   ]
  },
  {
   "cell_type": "code",
   "execution_count": null,
   "metadata": {},
   "outputs": [
    {
     "name": "stdout",
     "output_type": "stream",
     "text": [
      "3\n",
      "-3\n"
     ]
    }
   ],
   "source": [
    "x = 3.454\n",
    "print(int(x))\n",
    "print(int(-x))"
   ]
  },
  {
   "cell_type": "code",
   "execution_count": null,
   "metadata": {},
   "outputs": [
    {
     "name": "stdout",
     "output_type": "stream",
     "text": [
      "10\n"
     ]
    }
   ],
   "source": [
    "bool_var = False\n",
    "x = 10\n",
    "\n",
    "if bool_var:\n",
    "    print(bool_var)\n",
    "    x = x + 1\n",
    "    print(x)\n",
    "    bool_var = not bool_var\n",
    "    print(bool_var)\n",
    "    if bool_var:\n",
    "        print(bool_var)\n",
    "        x = x + 1\n",
    "        print(x)\n",
    "        \n",
    "    else:\n",
    "        print(x)\n",
    "        x = x - 1\n",
    "print(x)"
   ]
  },
  {
   "cell_type": "code",
   "execution_count": null,
   "metadata": {},
   "outputs": [],
   "source": [
    "\n",
    "def solution(marks):\n",
    "    ### Enter your solution below this line\n",
    "    ### Indent your entire code by one unit (4 spaces) to the right\n",
    "    srted_lst = []\n",
    "    while len(marks) > 0:\n",
    "        min = marks[0]\n",
    "        for i in marks:\n",
    "            if min > i:\n",
    "                min = i\n",
    "        srted_lst.append(min)\n",
    "        marks.remove(min)\n",
    "    median = 0\n",
    "    if len(srted_lst) % 2 ==0:\n",
    "        mid = len(srted_lst)//2\n",
    "        median_val = (srted_lst[mid-1]+srted_lst[mid])/2\n",
    "        median = median_val\n",
    "    else:\n",
    "        mid = len(srted_lst)//2\n",
    "        median = float(srted_lst[mid])\n",
    "    ### Enter your solution above this line\n",
    "    return median"
   ]
  },
  {
   "cell_type": "code",
   "execution_count": null,
   "metadata": {},
   "outputs": [
    {
     "name": "stdout",
     "output_type": "stream",
     "text": [
      "35.0\n"
     ]
    },
    {
     "data": {
      "text/plain": [
       "35.0"
      ]
     },
     "execution_count": 2,
     "metadata": {},
     "output_type": "execute_result"
    }
   ],
   "source": [
    "solution([60,10,30,40,20,50])"
   ]
  },
  {
   "cell_type": "code",
   "execution_count": 24,
   "metadata": {},
   "outputs": [],
   "source": [
    "names = 'sachin,ramesh,kalam,priya,saina,sandeep,stella'\n",
    "dates = '100,50,100,20,30,20,20'\n",
    "\n",
    "names_lst = [i for i in names.split(',')]\n",
    "dates_lst = [i for i in dates.split(',')]\n"
   ]
  },
  {
   "cell_type": "code",
   "execution_count": 30,
   "metadata": {},
   "outputs": [
    {
     "name": "stdout",
     "output_type": "stream",
     "text": [
      "{'100': ['sachin', 'kalam'], '50': ['ramesh'], '20': ['priya', 'sandeep', 'stella'], '30': ['saina']}\n",
      "['sachin', 'kalam']\n",
      "['ramesh']\n",
      "['priya', 'sandeep', 'stella']\n",
      "['saina']\n",
      "[['kalam', 'sachin'], ['priya', 'sandeep'], ['priya', 'stella'], ['sandeep', 'stella']]\n"
     ]
    }
   ],
   "source": [
    "\n",
    "birthday_dict = {}\n",
    "for name, date_ in zip(names_lst,dates_lst):\n",
    "    if date_ not in birthday_dict:\n",
    "        birthday_dict[date_] = [name]\n",
    "    else:\n",
    "        birthday_dict[date_] += [name]\n",
    "\n",
    "print(birthday_dict)\n",
    "\n",
    "\n",
    "common = []\n",
    "for names in birthday_dict.values():\n",
    "    print(names)\n",
    "    names.sort()  # Sort names in alphabetical order\n",
    "    for i in range(len(names)):\n",
    "        for j in range(i+1, len(names)):\n",
    "            common.append([names[i], names[j]])\n",
    "print(common)"
   ]
  },
  {
   "cell_type": "code",
   "execution_count": null,
   "metadata": {},
   "outputs": [
    {
     "data": {
      "text/plain": [
       "[('sachin', '100'),\n",
       " ('ramesh', '50'),\n",
       " ('kalam', '100'),\n",
       " ('priya', '20'),\n",
       " ('saina', '30'),\n",
       " ('sandeep', '20'),\n",
       " ('stella', '20')]"
      ]
     },
     "execution_count": 7,
     "metadata": {},
     "output_type": "execute_result"
    }
   ],
   "source": [
    "list(zip(names_lst,dates_lst))"
   ]
  },
  {
   "cell_type": "code",
   "execution_count": null,
   "metadata": {},
   "outputs": [
    {
     "name": "stdout",
     "output_type": "stream",
     "text": [
      "['sachin', 'ramesh', 'kalam', 'priya', 'saina', 'sandeep', 'stella']\n",
      "['100', '50', '100', '20', '30', '20', '20']\n",
      "\n",
      "('sachin', '100')\n",
      "('kalam', '100')\n"
     ]
    }
   ],
   "source": [
    "names_lst = [i for i in names.split(',')]\n",
    "dates_lst = [i for i in dates.split(',')]\n",
    "print(names_lst)\n",
    "print(dates_lst)\n",
    "print()\n",
    "common = []\n",
    "\n",
    "\n",
    "for i in range(len(names_lst)):\n",
    "    zipped = list(zip(names_lst,dates_lst))\n",
    "    pair = []\n",
    "    index = zipped[0][1]\n",
    "    if index == zipped[i][1]:\n",
    "        print(zipped[i])"
   ]
  },
  {
   "cell_type": "code",
   "execution_count": 31,
   "metadata": {},
   "outputs": [
    {
     "name": "stdout",
     "output_type": "stream",
     "text": [
      "third_row 4\n",
      "first_row 3\n",
      "first_row 7\n",
      "second_row 1\n",
      "second_row 7\n"
     ]
    }
   ],
   "source": [
    "first_row = 'qwertyuiop'\n",
    "second_row = 'asdfghjkl'\n",
    "third_row = 'zxcvbnm'\n",
    "\n",
    "word = input()\n",
    "for char in word:\n",
    "    if char in first_row:\n",
    "        print('first_row', first_row.index(char))\n",
    "    elif char in second_row:\n",
    "        print('second_row', second_row.index(char))\n",
    "    elif char in third_row:\n",
    "        print('third_row', third_row.index(char))"
   ]
  },
  {
   "cell_type": "code",
   "execution_count": 33,
   "metadata": {},
   "outputs": [
    {
     "data": {
      "text/plain": [
       "2"
      ]
     },
     "execution_count": 33,
     "metadata": {},
     "output_type": "execute_result"
    }
   ],
   "source": [
    "third_row.index('c')"
   ]
  },
  {
   "cell_type": "code",
   "execution_count": 50,
   "metadata": {},
   "outputs": [
    {
     "name": "stdout",
     "output_type": "stream",
     "text": [
      "33\n"
     ]
    }
   ],
   "source": [
    "n = 4\n",
    "a = 0\n",
    "for i in range(1, n + 1): \n",
    "    b = 1\n",
    "    for j in range(1, i + 1):        \n",
    "        b = b * j\n",
    "    a = a + b\n",
    "print(a)"
   ]
  },
  {
   "cell_type": "code",
   "execution_count": 1,
   "metadata": {},
   "outputs": [
    {
     "name": "stdout",
     "output_type": "stream",
     "text": [
      "-2017\n"
     ]
    }
   ],
   "source": [
    "print(~~~2017+1)"
   ]
  },
  {
   "cell_type": "code",
   "execution_count": 3,
   "metadata": {},
   "outputs": [
    {
     "name": "stdout",
     "output_type": "stream",
     "text": [
      "533\n"
     ]
    }
   ],
   "source": [
    "requests = [52, 41, 24, 74, 131, 74, 34, 119, 68, 185]\n",
    "head = 100\n",
    "requests.insert(0, head)\n",
    "total_seek_operations = sum(abs(requests[i] - requests[i-1]) for i in range(1, len(requests)))\n",
    "print(total_seek_operations)\n"
   ]
  },
  {
   "cell_type": "code",
   "execution_count": null,
   "metadata": {},
   "outputs": [],
   "source": [
    "import math\n",
    "\n",
    "# Function to calculate distance between two points\n",
    "def distance(x1, y1, x2, y2):\n",
    "    return math.sqrt((x1 - x2)**2 + (y1 - y2)**2)\n",
    "\n",
    "# Function to find nearest points to P\n",
    "def nearest_points(sequence, P):\n",
    "    min_distance = float('inf')\n",
    "    nearest_points = []\n",
    "\n",
    "    for point in sequence:\n",
    "        x, y = point\n",
    "        dist = distance(x, y, P[0], P[1])\n",
    "        if dist < min_distance:\n",
    "            min_distance = dist\n",
    "            nearest_points = [point]\n",
    "        elif dist == min_distance:\n",
    "            nearest_points.append(point)\n",
    "\n",
    "    return nearest_points\n",
    "\n",
    "# Input\n",
    "n = int(input())\n",
    "sequence = []\n",
    "for _ in range(n):\n",
    "    x, y = map(int, input().split(','))\n",
    "    sequence.append((x, y))\n",
    "Px, Py = map(int, input().split(','))\n",
    "\n",
    "# Finding nearest points to P\n",
    "nearest = nearest_points(sequence, (Px, Py))\n",
    "\n",
    "# Output\n",
    "for point in nearest:\n",
    "    print(f'{point[0]},{point[1]}')\n"
   ]
  }
 ],
 "metadata": {
  "kernelspec": {
   "display_name": "Python 3",
   "language": "python",
   "name": "python3"
  },
  "language_info": {
   "codemirror_mode": {
    "name": "ipython",
    "version": 3
   },
   "file_extension": ".py",
   "mimetype": "text/x-python",
   "name": "python",
   "nbconvert_exporter": "python",
   "pygments_lexer": "ipython3",
   "version": "3.11.4"
  },
  "orig_nbformat": 4
 },
 "nbformat": 4,
 "nbformat_minor": 2
}
