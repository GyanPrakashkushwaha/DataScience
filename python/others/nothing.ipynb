{
 "cells": [
  {
   "cell_type": "code",
   "execution_count": 1,
   "metadata": {},
   "outputs": [
    {
     "name": "stdout",
     "output_type": "stream",
     "text": [
      "Student 1 Answer:\n",
      "An API (Application Programming Interface) is a set of rules and protocols that allow one software application to interact with another. It defines the methods and data formats that applications can use to request and exchange information. It acts as a bridge between different software components.\n",
      "\n",
      "Student 2 Answer:\n",
      "An API (Application Programming Interface) is a set of rules and protocols that allow one software application to interact with another. It defines the methods and data formats that applications can use to request and exchange information. It acts as a bridge between different software components.\n",
      "\n",
      "Student 3 Answer:\n",
      "An API (Application Programming Interface) is a set of rules and protocols that allow one software application to interact with another. It defines the methods and data formats that applications can use to request and exchange information. It acts as a bridge between different software components.\n",
      "\n"
     ]
    }
   ],
   "source": [
    "# List of student answers\n",
    "student_answers = [\n",
    "    \"A waiter is an API who takes a customer request to a chef at the backend.\",\n",
    "    \"A receptionist is an API who takes a customer enquiry to the CEO, who is usually not available.\",\n",
    "    \"A priest is an API who takes a devotee's prayer to his/her God.\",\n",
    "]\n",
    "\n",
    "# Template for a correct API definition\n",
    "correct_answer_template = \"An API (Application Programming Interface) is a set of rules and protocols that allow one software application to interact with another. It defines the methods and data formats that applications can use to request and exchange information. It acts as a bridge between different software components.\"\n",
    "\n",
    "# Correcting the student answers\n",
    "corrected_answers = [correct_answer_template for _ in student_answers]\n",
    "\n",
    "# Print the corrected answers\n",
    "for i, answer in enumerate(corrected_answers):\n",
    "    print(f\"Student {i+1} Answer:\")\n",
    "    print(answer)\n",
    "    print()\n"
   ]
  },
  {
   "cell_type": "code",
   "execution_count": 6,
   "metadata": {},
   "outputs": [
    {
     "name": "stdout",
     "output_type": "stream",
     "text": [
      "0 answers are correct\n",
      "3 answers are incorrect\n"
     ]
    }
   ],
   "source": [
    "acceptable_analogies = ['website interface', 'software interface', 'database interface']\n",
    "\n",
    "answers = ['waiter', 'receptionist', 'priest']\n",
    "correct = 0 \n",
    "incorrect = 0\n",
    "\n",
    "for answer in answers:  \n",
    "    if any(word in answer for word in acceptable_analogies):\n",
    "        correct += 1  \n",
    "    else:\n",
    "        incorrect += 1\n",
    "\n",
    "print(f\"{correct} answers are correct\")         \n",
    "print(f\"{incorrect} answers are incorrect\")"
   ]
  },
  {
   "cell_type": "code",
   "execution_count": 7,
   "metadata": {},
   "outputs": [
    {
     "name": "stdout",
     "output_type": "stream",
     "text": [
      "Corrected Answer 1: A waiter is an intermediary who takes a customer request to a chef at the backend.\n",
      "Corrected Answer 2: A receptionist is an intermediary who takes a customer inquiry to the CEO, who is usually not available.\n",
      "Corrected Answer 3: A priest is an intermediary who takes a devotee's prayer to his/her God.\n"
     ]
    }
   ],
   "source": [
    "# Define a list of original answers\n",
    "answers = [\n",
    "    \"A waiter is an API who takes a customer request to a chef at the backend.\",\n",
    "    \"A receptionist is an API who takes a customer inquiry to the CEO, who is usually not available.\",\n",
    "    \"A priest is an API who takes a devotee's prayer to his/her God.\"\n",
    "]\n",
    "\n",
    "# Create a function to correct the answers\n",
    "def correct_answers(answers):\n",
    "    corrected_answers = []\n",
    "    for answer in answers:\n",
    "        # Replace the term \"API\" with \"intermediary\" to make it more technically accurate\n",
    "        corrected_answer = answer.replace(\"API\", \"intermediary\")\n",
    "        corrected_answers.append(corrected_answer)\n",
    "    return corrected_answers\n",
    "\n",
    "# Get the corrected answers\n",
    "corrected = correct_answers(answers)\n",
    "\n",
    "# Print the corrected answers\n",
    "for i, answer in enumerate(corrected, start=1):\n",
    "    print(f\"Corrected Answer {i}: {answer}\")\n"
   ]
  },
  {
   "cell_type": "code",
   "execution_count": 2,
   "metadata": {},
   "outputs": [
    {
     "name": "stdout",
     "output_type": "stream",
     "text": [
      "('1', '1', '1', '1', '1').\n"
     ]
    }
   ],
   "source": [
    "word1 = str(input())\n",
    "word2 = str(input())\n",
    "word3 = str(input())\n",
    "word4 = str(input())\n",
    "word5 = str(input())\n",
    "fullstop = '.'\n",
    "\n",
    "print(f'{word1,word2,word3,word4,word5}.')"
   ]
  },
  {
   "cell_type": "code",
   "execution_count": 1,
   "metadata": {},
   "outputs": [],
   "source": [
    "input_date = input()\n",
    "\n",
    "output = input_date[5:-1]"
   ]
  },
  {
   "cell_type": "code",
   "execution_count": 3,
   "metadata": {},
   "outputs": [],
   "source": [
    "str = 'CS_BT_21_7412@student.onlinedegree.iitm.ac.in'"
   ]
  },
  {
   "cell_type": "code",
   "execution_count": 6,
   "metadata": {},
   "outputs": [],
   "source": [
    "splt = str.split('_')"
   ]
  },
  {
   "cell_type": "code",
   "execution_count": 11,
   "metadata": {},
   "outputs": [
    {
     "name": "stdout",
     "output_type": "stream",
     "text": [
      "CS\n",
      "BT\n",
      "21\n"
     ]
    }
   ],
   "source": [
    "print(splt[0])\n",
    "print(splt[1])\n",
    "print(splt[2])"
   ]
  },
  {
   "cell_type": "code",
   "execution_count": 21,
   "metadata": {},
   "outputs": [
    {
     "name": "stdout",
     "output_type": "stream",
     "text": [
      "7412\n",
      "iitm\n"
     ]
    }
   ],
   "source": [
    "print(splt[-1].split('@')[0])\n",
    "print(splt[-1].split('@')[1].split('.')[2])"
   ]
  },
  {
   "cell_type": "code",
   "execution_count": 37,
   "metadata": {},
   "outputs": [],
   "source": [
    "result = int(int(3)**int(5))"
   ]
  },
  {
   "cell_type": "code",
   "execution_count": 38,
   "metadata": {},
   "outputs": [
    {
     "data": {
      "text/plain": [
       "243"
      ]
     },
     "execution_count": 38,
     "metadata": {},
     "output_type": "execute_result"
    }
   ],
   "source": [
    "result"
   ]
  },
  {
   "cell_type": "code",
   "execution_count": 39,
   "metadata": {},
   "outputs": [
    {
     "ename": "TypeError",
     "evalue": "'str' object is not callable",
     "output_type": "error",
     "traceback": [
      "\u001b[1;31m---------------------------------------------------------------------------\u001b[0m",
      "\u001b[1;31mTypeError\u001b[0m                                 Traceback (most recent call last)",
      "Cell \u001b[1;32mIn[39], line 1\u001b[0m\n\u001b[1;32m----> 1\u001b[0m \u001b[38;5;28mprint\u001b[39m(\u001b[38;5;28mlen\u001b[39m(\u001b[38;5;28;43mstr\u001b[39;49m\u001b[43m(\u001b[49m\u001b[43mresult\u001b[49m\u001b[43m)\u001b[49m))\n",
      "\u001b[1;31mTypeError\u001b[0m: 'str' object is not callable"
     ]
    }
   ],
   "source": [
    "print(len(str(result)))"
   ]
  },
  {
   "cell_type": "code",
   "execution_count": 42,
   "metadata": {},
   "outputs": [
    {
     "ename": "AttributeError",
     "evalue": "'int' object has no attribute 'str'",
     "output_type": "error",
     "traceback": [
      "\u001b[1;31m---------------------------------------------------------------------------\u001b[0m",
      "\u001b[1;31mAttributeError\u001b[0m                            Traceback (most recent call last)",
      "Cell \u001b[1;32mIn[42], line 5\u001b[0m\n\u001b[0;32m      2\u001b[0m y \u001b[38;5;241m=\u001b[39m \u001b[38;5;28mint\u001b[39m(\u001b[38;5;28minput\u001b[39m())\n\u001b[0;32m      3\u001b[0m result \u001b[38;5;241m=\u001b[39m x\u001b[38;5;241m*\u001b[39m\u001b[38;5;241m*\u001b[39my\n\u001b[1;32m----> 5\u001b[0m \u001b[38;5;28mprint\u001b[39m(\u001b[38;5;28mlen\u001b[39m(\u001b[43mresult\u001b[49m\u001b[38;5;241;43m.\u001b[39;49m\u001b[43mstr\u001b[49m))\n",
      "\u001b[1;31mAttributeError\u001b[0m: 'int' object has no attribute 'str'"
     ]
    }
   ],
   "source": [
    "x = int(input())\n",
    "y = int(input())\n",
    "result = x**y\n",
    "\n",
    "print(len(result.str))"
   ]
  },
  {
   "cell_type": "code",
   "execution_count": 44,
   "metadata": {},
   "outputs": [
    {
     "name": "stdout",
     "output_type": "stream",
     "text": [
      "3\n"
     ]
    }
   ],
   "source": [
    "# Input two positive integers M and N\n",
    "M = int(input())\n",
    "N = int(input())\n",
    "\n",
    "# Case 1: M < N\n",
    "if M < N:\n",
    "    print(M)\n",
    "else:\n",
    "    # Case 2: M >= N\n",
    "    while M >= N:\n",
    "        M -= N\n",
    "\n",
    "    print( M)\n"
   ]
  },
  {
   "cell_type": "code",
   "execution_count": 7,
   "metadata": {},
   "outputs": [
    {
     "name": "stdout",
     "output_type": "stream",
     "text": [
      "7\n",
      "7\n"
     ]
    }
   ],
   "source": [
    "word1 = 5\n",
    "word2 = 2\n",
    "\n",
    "print(word1 + word2)\n",
    "word = word1\n",
    "word1 = word2\n",
    "word2 = word\n",
    "print(word2 + word1)"
   ]
  },
  {
   "cell_type": "code",
   "execution_count": 9,
   "metadata": {},
   "outputs": [],
   "source": [
    "a = 1\n",
    "b=2\n",
    "c=3\n",
    "x, y, z = a, b, c\n",
    "x = y = z"
   ]
  },
  {
   "cell_type": "code",
   "execution_count": 12,
   "metadata": {},
   "outputs": [
    {
     "data": {
      "text/plain": [
       "(3, 3, 3)"
      ]
     },
     "execution_count": 12,
     "metadata": {},
     "output_type": "execute_result"
    }
   ],
   "source": [
    "x , y,z"
   ]
  },
  {
   "cell_type": "code",
   "execution_count": 13,
   "metadata": {},
   "outputs": [
    {
     "name": "stdout",
     "output_type": "stream",
     "text": [
      "3\n",
      "-3\n"
     ]
    }
   ],
   "source": [
    "x = 3.454\n",
    "print(int(x))\n",
    "print(int(-x))"
   ]
  },
  {
   "cell_type": "code",
   "execution_count": 16,
   "metadata": {},
   "outputs": [
    {
     "name": "stdout",
     "output_type": "stream",
     "text": [
      "10\n"
     ]
    }
   ],
   "source": [
    "bool_var = False\n",
    "x = 10\n",
    "\n",
    "if bool_var:\n",
    "    print(bool_var)\n",
    "    x = x + 1\n",
    "    print(x)\n",
    "    bool_var = not bool_var\n",
    "    print(bool_var)\n",
    "    if bool_var:\n",
    "        print(bool_var)\n",
    "        x = x + 1\n",
    "        print(x)\n",
    "        \n",
    "    else:\n",
    "        print(x)\n",
    "        x = x - 1\n",
    "print(x)"
   ]
  },
  {
   "cell_type": "code",
   "execution_count": 17,
   "metadata": {},
   "outputs": [
    {
     "name": "stdout",
     "output_type": "stream",
     "text": [
      "10\n"
     ]
    }
   ],
   "source": []
  }
 ],
 "metadata": {
  "kernelspec": {
   "display_name": "Python 3",
   "language": "python",
   "name": "python3"
  },
  "language_info": {
   "codemirror_mode": {
    "name": "ipython",
    "version": 3
   },
   "file_extension": ".py",
   "mimetype": "text/x-python",
   "name": "python",
   "nbconvert_exporter": "python",
   "pygments_lexer": "ipython3",
   "version": "3.11.4"
  },
  "orig_nbformat": 4
 },
 "nbformat": 4,
 "nbformat_minor": 2
}
