{
 "cells": [
  {
   "cell_type": "code",
   "execution_count": 4,
   "metadata": {},
   "outputs": [
    {
     "name": "stdout",
     "output_type": "stream",
     "text": [
      "error : division by zero\n"
     ]
    }
   ],
   "source": [
    "num1 = int(input('Enter num1 '))\n",
    "num2 = int(input('Enter num2 '))\n",
    "try:\n",
    "    div = num1/num2\n",
    "    print(div)\n",
    "except Exception as e:\n",
    "    print('error :', e)"
   ]
  },
  {
   "cell_type": "code",
   "execution_count": 5,
   "metadata": {},
   "outputs": [
    {
     "name": "stdout",
     "output_type": "stream",
     "text": [
      "hello this is ZeroDivivsionError\n"
     ]
    }
   ],
   "source": [
    "# I can write like this also wheneve ZeroDivisionError will come I 'except ZeroDivisionError:' this will run\n",
    "num1 = int(input('Enter num1 '))\n",
    "num2 = int(input('Enter num2 '))\n",
    "\n",
    "try:\n",
    "    div = num1/num2\n",
    "    print(div)\n",
    "except ZeroDivisionError:\n",
    "    print('hello this is ZeroDivivsionError')"
   ]
  },
  {
   "cell_type": "code",
   "execution_count": 10,
   "metadata": {},
   "outputs": [
    {
     "name": "stdout",
     "output_type": "stream",
     "text": [
      "vairable name is wrong\n"
     ]
    }
   ],
   "source": [
    "# name error\n",
    "\n",
    "\n",
    "num1 = int(input('Enter num1 '))\n",
    "num2 = int(input('Enter num2 '))\n",
    "\n",
    "try:\n",
    "    div = num1/num2\n",
    "    print(di)\n",
    "except ZeroDivisionError:\n",
    "    print('hello this is ZeroDivivsionError')\n",
    "except NameError:\n",
    "    # whenever name error would come this will be executed this \n",
    "    print('vairable name is wrong')"
   ]
  },
  {
   "cell_type": "code",
   "execution_count": 16,
   "metadata": {},
   "outputs": [
    {
     "name": "stdout",
     "output_type": "stream",
     "text": [
      "name 'di' is not defined\n"
     ]
    }
   ],
   "source": [
    "# name error with inbuilt execption\n",
    "num1 = int(input('Enter num1 '))\n",
    "num2 = int(input('Enter num2 '))\n",
    "\n",
    "try:\n",
    "    div = num1/num2\n",
    "    print(di)\n",
    "except ZeroDivisionError as ZeroDivError:\n",
    "    print(ZeroDivError)\n",
    "except NameError as Namror:\n",
    "    # whenever name error would come this will be executed this \n",
    "    print(Namror)"
   ]
  },
  {
   "cell_type": "code",
   "execution_count": 19,
   "metadata": {},
   "outputs": [
    {
     "name": "stdout",
     "output_type": "stream",
     "text": [
      "1.0\n",
      "Error not occured\n"
     ]
    }
   ],
   "source": [
    "# Else \n",
    "\"\"\" Else is executed when no error occur\"\"\"\n",
    "\n",
    "num1 = int(input('Enter num1 '))\n",
    "num2 = int(input('Enter num2 '))\n",
    "\n",
    "try:\n",
    "    div = num1/num2\n",
    "    print(div)\n",
    "except ZeroDivisionError as ZeroDivError:\n",
    "    print(ZeroDivError)\n",
    "except NameError as Namror:\n",
    "    # whenever name error would come this will be executed this \n",
    "    print(Namror)\n",
    "else:\n",
    "    print('Error not occured') "
   ]
  },
  {
   "cell_type": "code",
   "execution_count": 21,
   "metadata": {},
   "outputs": [
    {
     "name": "stdout",
     "output_type": "stream",
     "text": [
      "division by zero\n",
      "kuchh bhii ho jae hm to execute hoge re baba\n"
     ]
    }
   ],
   "source": [
    "# finally\n",
    "num1 = int(input('Enter num1 '))\n",
    "num2 = int(input('Enter num2 '))\n",
    "\n",
    "try:\n",
    "    div = num1/num2\n",
    "    print(div)\n",
    "except ZeroDivisionError as ZeroDivError:\n",
    "    print(ZeroDivError)\n",
    "except NameError as Namror:\n",
    "    # whenever name error would come this will be executed this \n",
    "    print(Namror)\n",
    "else:\n",
    "    print('Error not occured')\n",
    "finally:\n",
    "    print('kuchh bhii ho jae hm to execute hoge re baba')"
   ]
  },
  {
   "attachments": {},
   "cell_type": "markdown",
   "metadata": {},
   "source": [
    "# Exception Key word"
   ]
  },
  {
   "cell_type": "code",
   "execution_count": 25,
   "metadata": {},
   "outputs": [
    {
     "name": "stdout",
     "output_type": "stream",
     "text": [
      "Error : division by zero\n",
      "kuchh bhii ho jae hm to execute hoge re baba\n"
     ]
    }
   ],
   "source": [
    "\n",
    "num1 = int(input('Enter num1 '))\n",
    "num2 = int(input('Enter num2 '))\n",
    "\n",
    "try:\n",
    "    div = num1/num2\n",
    "    print(div)\n",
    "except Exception as e:\n",
    "    print('Error :' , e)\n",
    "else:\n",
    "    print('Error not occured')\n",
    "finally:\n",
    "    print('kuchh bhii ho jae hm to execute hoge re baba')"
   ]
  },
  {
   "cell_type": "code",
   "execution_count": 26,
   "metadata": {},
   "outputs": [
    {
     "name": "stdout",
     "output_type": "stream",
     "text": [
      "Error : name 'num' is not defined\n",
      "kuchh bhii ho jae hm to execute hoge re baba\n"
     ]
    }
   ],
   "source": [
    "\n",
    "num1 = int(input('Enter num1 '))\n",
    "num2 = int(input('Enter num2 '))\n",
    "\n",
    "try:\n",
    "    div = num/num2\n",
    "    print(div)\n",
    "except Exception as e:\n",
    "    print('Error :' , e)\n",
    "else:\n",
    "    print('Error not occured')\n",
    "finally:\n",
    "    print('kuchh bhii ho jae hm to execute hoge re baba')"
   ]
  },
  {
   "attachments": {},
   "cell_type": "markdown",
   "metadata": {},
   "source": [
    "# Sys module\n",
    "this module is for Execption and this is built for exception details"
   ]
  },
  {
   "cell_type": "code",
   "execution_count": 28,
   "metadata": {},
   "outputs": [
    {
     "name": "stdout",
     "output_type": "stream",
     "text": [
      "Error : name 'num' is not defined \n",
      " Sys Error : 1013\n",
      "kuchh bhii ho jae hm to execute hoge re baba\n"
     ]
    }
   ],
   "source": [
    "import sys\n",
    "\n",
    "num1 = int(input('Enter num1 '))\n",
    "num2 = int(input('Enter num2 '))\n",
    "\n",
    "try:\n",
    "    div = num/num2\n",
    "    print(div)\n",
    "except Exception as e:\n",
    "    print('Error :' , e, '\\n','Sys Error :',sys.api_version)\n",
    "else:\n",
    "    print('Error not occured')\n",
    "finally:\n",
    "    print('kuchh bhii ho jae hm to execute hoge re baba')"
   ]
  },
  {
   "cell_type": "code",
   "execution_count": 32,
   "metadata": {},
   "outputs": [
    {
     "name": "stdout",
     "output_type": "stream",
     "text": [
      "Sys Error : <class 'NameError'>\n",
      "Sys Error : name 'num' is not defined\n",
      "Sys Error : <traceback object at 0x000001A96E2F1F80>\n",
      "kuchh bhii ho jae hm to execute hoge re baba\n"
     ]
    }
   ],
   "source": [
    "import sys\n",
    "\n",
    "num1 = int(input('Enter num1 '))\n",
    "num2 = int(input('Enter num2 '))\n",
    "\n",
    "try:\n",
    "    div = num/num2\n",
    "    print(div)\n",
    "except:\n",
    "    print('Sys Error :',sys.exc_info()[0])\n",
    "    print('Sys Error :',sys.exc_info()[1])\n",
    "    print('Sys Error :',sys.exc_info()[2])\n",
    "else:\n",
    "    print('Error not occured')\n",
    "finally:\n",
    "    print('kuchh bhii ho jae hm to execute hoge re baba')"
   ]
  },
  {
   "attachments": {},
   "cell_type": "markdown",
   "metadata": {},
   "source": [
    "## Raise keyword\n",
    "this is used to forcefully raise user defined exception"
   ]
  },
  {
   "cell_type": "code",
   "execution_count": 13,
   "metadata": {},
   "outputs": [
    {
     "name": "stdout",
     "output_type": "stream",
     "text": [
      "invalid age\n"
     ]
    }
   ],
   "source": [
    "age = int(input('Enter your age:'))\n",
    "\n",
    "try:\n",
    "    if age< 0 :\n",
    "        raise ValueError\n",
    "    print('your age is {}'.format(age))\n",
    "except ValueError:\n",
    "    print('invalid age')\n"
   ]
  },
  {
   "attachments": {},
   "cell_type": "markdown",
   "metadata": {},
   "source": [
    "## User Defined Exception / Custom Exception"
   ]
  },
  {
   "attachments": {},
   "cell_type": "markdown",
   "metadata": {},
   "source": [
    "### making FiveDivisionError Exception"
   ]
  },
  {
   "cell_type": "code",
   "execution_count": 29,
   "metadata": {},
   "outputs": [
    {
     "name": "stdout",
     "output_type": "stream",
     "text": [
      "connot divide by five\n"
     ]
    }
   ],
   "source": [
    "# 1st Step\n",
    "class FiveDivisionError(Exception):\n",
    "    \"\"\"FiveDivisionError if anynumber is divided by five than this will come\"\"\"\n",
    "    pass\n",
    "\n",
    "num1 = int(input('Enter num1 '))\n",
    "num2 = int(input('Enter num2 '))\n",
    "\n",
    "#2nd step\n",
    "try:\n",
    "    if num2==5:\n",
    "        raise FiveDivisionError('connot divide by five')\n",
    "    else:\n",
    "        print(num1/num2)\n",
    "# 3rd step\n",
    "except (FiveDivisionError,Exception) as fdee:\n",
    "    print(fdee)\n",
    "    "
   ]
  },
  {
   "cell_type": "code",
   "execution_count": 30,
   "metadata": {},
   "outputs": [
    {
     "name": "stdout",
     "output_type": "stream",
     "text": [
      "connot divide by five\n",
      "\n"
     ]
    }
   ],
   "source": [
    "# instead of giving message there I can give in my class\n",
    "# 1st Step\n",
    "class FiveDivisionError(Exception):\n",
    "    \"\"\"FiveDivisionError if anynumber is divided by five than this will come\"\"\"\n",
    "    def __init__(self) -> str:\n",
    "        print('connot divide by five')\n",
    "\n",
    "num1 = int(input('Enter num1 '))\n",
    "num2 = int(input('Enter num2 '))\n",
    "\n",
    "#2nd step\n",
    "try:\n",
    "    if num2==5:\n",
    "        raise FiveDivisionError\n",
    "    else:\n",
    "        print(num1/num2)\n",
    "# 3rd step\n",
    "except (FiveDivisionError,Exception) as fdee:\n",
    "    print(fdee)\n",
    "    "
   ]
  },
  {
   "cell_type": "code",
   "execution_count": null,
   "metadata": {},
   "outputs": [],
   "source": []
  },
  {
   "cell_type": "code",
   "execution_count": null,
   "metadata": {},
   "outputs": [],
   "source": []
  },
  {
   "cell_type": "code",
   "execution_count": null,
   "metadata": {},
   "outputs": [],
   "source": []
  },
  {
   "cell_type": "code",
   "execution_count": null,
   "metadata": {},
   "outputs": [],
   "source": []
  },
  {
   "cell_type": "code",
   "execution_count": null,
   "metadata": {},
   "outputs": [],
   "source": []
  },
  {
   "cell_type": "code",
   "execution_count": null,
   "metadata": {},
   "outputs": [],
   "source": []
  }
 ],
 "metadata": {
  "kernelspec": {
   "display_name": "Python 3",
   "language": "python",
   "name": "python3"
  },
  "language_info": {
   "codemirror_mode": {
    "name": "ipython",
    "version": 3
   },
   "file_extension": ".py",
   "mimetype": "text/x-python",
   "name": "python",
   "nbconvert_exporter": "python",
   "pygments_lexer": "ipython3",
   "version": "3.11.3"
  },
  "orig_nbformat": 4
 },
 "nbformat": 4,
 "nbformat_minor": 2
}
