{
 "cells": [
  {
   "cell_type": "code",
   "execution_count": 1,
   "metadata": {},
   "outputs": [
    {
     "name": "stdout",
     "output_type": "stream",
     "text": [
      "1.25\n"
     ]
    }
   ],
   "source": [
    "num1 = int(input('Enter num1 '))\n",
    "num2 = int(input('Enter num2 '))\n",
    "try:\n",
    "    div = num1/num2\n",
    "    print(div)\n",
    "except Exception as e:\n",
    "    print('error :', e)"
   ]
  },
  {
   "cell_type": "code",
   "execution_count": 2,
   "metadata": {},
   "outputs": [
    {
     "name": "stdout",
     "output_type": "stream",
     "text": [
      "1.0\n"
     ]
    }
   ],
   "source": [
    "# I can write like this also wheneve ZeroDivisionError will come I 'except ZeroDivisionError:' this will run\n",
    "num1 = int(input('Enter num1 '))\n",
    "num2 = int(input('Enter num2 '))\n",
    "\n",
    "try:\n",
    "    div = num1/num2\n",
    "    print(div)\n",
    "except ZeroDivisionError:\n",
    "    print('hello this is ZeroDivivsionError')"
   ]
  },
  {
   "cell_type": "code",
   "execution_count": 3,
   "metadata": {},
   "outputs": [
    {
     "name": "stdout",
     "output_type": "stream",
     "text": [
      "vairable name is wrong\n"
     ]
    }
   ],
   "source": [
    "# name error\n",
    "\n",
    "\n",
    "num1 = int(input('Enter num1 '))\n",
    "num2 = int(input('Enter num2 '))\n",
    "\n",
    "try:\n",
    "    div = num1/num2\n",
    "    print(di)\n",
    "except ZeroDivisionError:\n",
    "    print('hello this is ZeroDivivsionError')\n",
    "except NameError:\n",
    "    # whenever name error would come this will be executed this \n",
    "    print('vairable name is wrong')"
   ]
  },
  {
   "cell_type": "code",
   "execution_count": 4,
   "metadata": {},
   "outputs": [
    {
     "name": "stdout",
     "output_type": "stream",
     "text": [
      "name 'di' is not defined\n"
     ]
    }
   ],
   "source": [
    "# name error with inbuilt execption\n",
    "num1 = int(input('Enter num1 '))\n",
    "num2 = int(input('Enter num2 '))\n",
    "\n",
    "try:\n",
    "    div = num1/num2\n",
    "    print(di)\n",
    "except ZeroDivisionError as ZeroDivError:\n",
    "    print(ZeroDivError)\n",
    "except NameError as Namror:\n",
    "    # whenever name error would come this will be executed this \n",
    "    print(Namror)"
   ]
  },
  {
   "cell_type": "code",
   "execution_count": 5,
   "metadata": {},
   "outputs": [
    {
     "name": "stdout",
     "output_type": "stream",
     "text": [
      "1.0\n",
      "Error not occured\n"
     ]
    }
   ],
   "source": [
    "# Else \n",
    "\"\"\" Else is executed when no error occur\"\"\"\n",
    "\n",
    "num1 = int(input('Enter num1 '))\n",
    "num2 = int(input('Enter num2 '))\n",
    "\n",
    "try:\n",
    "    div = num1/num2\n",
    "    print(div)\n",
    "except ZeroDivisionError as ZeroDivError:\n",
    "    print(ZeroDivError)\n",
    "except NameError as Namror:\n",
    "    # whenever name error would come this will be executed this \n",
    "    print(Namror)\n",
    "else:\n",
    "    print('Error not occured') "
   ]
  },
  {
   "cell_type": "code",
   "execution_count": 6,
   "metadata": {},
   "outputs": [
    {
     "name": "stdout",
     "output_type": "stream",
     "text": [
      "1.0\n",
      "Error not occured\n",
      "kuchh bhii ho jae hm to execute hoge re baba\n"
     ]
    }
   ],
   "source": [
    "# finally\n",
    "num1 = int(input('Enter num1 '))\n",
    "num2 = int(input('Enter num2 '))\n",
    "\n",
    "try:\n",
    "    div = num1/num2\n",
    "    print(div)\n",
    "except ZeroDivisionError as ZeroDivError:\n",
    "    print(ZeroDivError)\n",
    "except NameError as Namror:\n",
    "    # whenever name error would come this will be executed this \n",
    "    print(Namror)\n",
    "else:\n",
    "    print('Error not occured')\n",
    "finally:\n",
    "    print('kuchh bhii ho jae hm to execute hoge re baba')"
   ]
  },
  {
   "attachments": {},
   "cell_type": "markdown",
   "metadata": {},
   "source": [
    "# Exception Key word"
   ]
  },
  {
   "cell_type": "code",
   "execution_count": 7,
   "metadata": {},
   "outputs": [
    {
     "name": "stdout",
     "output_type": "stream",
     "text": [
      "1.0\n",
      "Error not occured\n",
      "kuchh bhii ho jae hm to execute hoge re baba\n"
     ]
    }
   ],
   "source": [
    "\n",
    "num1 = int(input('Enter num1 '))\n",
    "num2 = int(input('Enter num2 '))\n",
    "\n",
    "try:\n",
    "    div = num1/num2\n",
    "    print(div)\n",
    "except Exception as e:\n",
    "    print('Error :' , e)\n",
    "else:\n",
    "    print('Error not occured')\n",
    "finally:\n",
    "    print('kuchh bhii ho jae hm to execute hoge re baba')"
   ]
  },
  {
   "cell_type": "code",
   "execution_count": 8,
   "metadata": {},
   "outputs": [
    {
     "name": "stdout",
     "output_type": "stream",
     "text": [
      "Error : name 'num' is not defined\n",
      "kuchh bhii ho jae hm to execute hoge re baba\n"
     ]
    }
   ],
   "source": [
    "\n",
    "num1 = int(input('Enter num1 '))\n",
    "num2 = int(input('Enter num2 '))\n",
    "\n",
    "try:\n",
    "    div = num/num2\n",
    "    print(div)\n",
    "except Exception as e:\n",
    "    print('Error :' , e)\n",
    "else:\n",
    "    print('Error not occured')\n",
    "finally:\n",
    "    print('kuchh bhii ho jae hm to execute hoge re baba')"
   ]
  },
  {
   "attachments": {},
   "cell_type": "markdown",
   "metadata": {},
   "source": [
    "# Sys module\n",
    "this module is for Execption and this is built for exception details"
   ]
  },
  {
   "cell_type": "code",
   "execution_count": 9,
   "metadata": {},
   "outputs": [
    {
     "name": "stdout",
     "output_type": "stream",
     "text": [
      "Error : name 'num' is not defined \n",
      " Sys Error : 1013\n",
      "kuchh bhii ho jae hm to execute hoge re baba\n"
     ]
    }
   ],
   "source": [
    "import sys\n",
    "\n",
    "num1 = int(input('Enter num1 '))\n",
    "num2 = int(input('Enter num2 '))\n",
    "\n",
    "try:\n",
    "    div = num/num2\n",
    "    print(div)\n",
    "except Exception as e:\n",
    "    print('Error :' , e, '\\n','Sys Error :',sys.api_version)\n",
    "else:\n",
    "    print('Error not occured')\n",
    "finally:\n",
    "    print('kuchh bhii ho jae hm to execute hoge re baba')"
   ]
  },
  {
   "cell_type": "code",
   "execution_count": 10,
   "metadata": {},
   "outputs": [
    {
     "name": "stdout",
     "output_type": "stream",
     "text": [
      "Sys Error : <class 'NameError'>\n",
      "Sys Error : name 'num' is not defined\n",
      "Sys Error : <traceback object at 0x000001BC6DA996C0>\n",
      "kuchh bhii ho jae hm to execute hoge re baba\n"
     ]
    }
   ],
   "source": [
    "import sys\n",
    "\n",
    "num1 = int(input('Enter num1 '))\n",
    "num2 = int(input('Enter num2 '))\n",
    "\n",
    "try:\n",
    "    div = num/num2\n",
    "    print(div)\n",
    "except:\n",
    "    print('Sys Error :',sys.exc_info()[0])\n",
    "    print('Sys Error :',sys.exc_info()[1])\n",
    "    print('Sys Error :',sys.exc_info()[2])\n",
    "else:\n",
    "    print('Error not occured')\n",
    "finally:\n",
    "    print('kuchh bhii ho jae hm to execute hoge re baba')"
   ]
  },
  {
   "attachments": {},
   "cell_type": "markdown",
   "metadata": {},
   "source": [
    "## Raise keyword\n",
    "this is used to forcefully raise user defined exception"
   ]
  },
  {
   "cell_type": "code",
   "execution_count": 11,
   "metadata": {},
   "outputs": [
    {
     "name": "stdout",
     "output_type": "stream",
     "text": [
      "your age is 4\n"
     ]
    }
   ],
   "source": [
    "age = int(input('Enter your age:'))\n",
    "\n",
    "try:\n",
    "    if age< 0 :\n",
    "        raise ValueError\n",
    "    print('your age is {}'.format(age))\n",
    "except ValueError:\n",
    "    print('invalid age')\n"
   ]
  },
  {
   "attachments": {},
   "cell_type": "markdown",
   "metadata": {},
   "source": [
    "## User Defined Exception / Custom Exception"
   ]
  },
  {
   "attachments": {},
   "cell_type": "markdown",
   "metadata": {},
   "source": [
    "### making FiveDivisionError Exception"
   ]
  },
  {
   "cell_type": "code",
   "execution_count": 12,
   "metadata": {},
   "outputs": [
    {
     "name": "stdout",
     "output_type": "stream",
     "text": [
      "1.0\n"
     ]
    }
   ],
   "source": [
    "# 1st Step\n",
    "class FiveDivisionError(Exception):\n",
    "    \"\"\"FiveDivisionError if anynumber is divided by five than this will come\"\"\"\n",
    "    pass\n",
    "\n",
    "num1 = int(input('Enter num1 '))\n",
    "num2 = int(input('Enter num2 '))\n",
    "\n",
    "#2nd step\n",
    "try:\n",
    "    if num2==5:\n",
    "        raise FiveDivisionError('connot divide by five')\n",
    "    else:\n",
    "        print(num1/num2)\n",
    "# 3rd step\n",
    "except (FiveDivisionError,Exception) as fdee:\n",
    "    print(fdee)\n",
    "    "
   ]
  },
  {
   "cell_type": "code",
   "execution_count": 14,
   "metadata": {},
   "outputs": [
    {
     "name": "stdout",
     "output_type": "stream",
     "text": [
      "1.0\n"
     ]
    }
   ],
   "source": [
    "# instead of giving message there I can give in my class\n",
    "# 1st Step\n",
    "class FiveDivisionError(Exception):\n",
    "    \"\"\"FiveDivisionError if anynumber is divided by five than this will come\"\"\"\n",
    "    def __init__(self) -> str:\n",
    "        print('connot divide by five')\n",
    "\n",
    "num1 = int(input('Enter num1 '))\n",
    "num2 = int(input('Enter num2 '))\n",
    "\n",
    "#2nd step\n",
    "try:\n",
    "    if num2==5:\n",
    "        raise FiveDivisionError\n",
    "    else:\n",
    "        print(num1/num2)\n",
    "# 3rd step\n",
    "except (FiveDivisionError,Exception) as fdee:\n",
    "    print(fdee)\n",
    "    "
   ]
  },
  {
   "cell_type": "code",
   "execution_count": 18,
   "metadata": {},
   "outputs": [
    {
     "name": "stdout",
     "output_type": "stream",
     "text": [
      "connot divide by five\n",
      "\n"
     ]
    }
   ],
   "source": [
    "class FiveDivisionError(Exception):\n",
    "    \"\"\"FiveDivisionError if anynumber is divided by five than this will come\"\"\"\n",
    "    def __init__(self) -> str:\n",
    "        print('connot divide by five')\n",
    "\n",
    "num1 = int(input('Enter num1 '))\n",
    "num2 = int(input('Enter num2 '))\n",
    "\n",
    "#2nd step\n",
    "try:\n",
    "    if num2==5:\n",
    "        raise FiveDivisionError\n",
    "except Exception as e:\n",
    "    print(e)\n"
   ]
  },
  {
   "attachments": {},
   "cell_type": "markdown",
   "metadata": {},
   "source": [
    "## sys.exc_info()"
   ]
  },
  {
   "cell_type": "code",
   "execution_count": 2,
   "metadata": {},
   "outputs": [
    {
     "data": {
      "text/plain": [
       "(None, None, None)"
      ]
     },
     "execution_count": 2,
     "metadata": {},
     "output_type": "execute_result"
    }
   ],
   "source": [
    "import sys\n",
    "sys.exc_info() "
   ]
  },
  {
   "cell_type": "code",
   "execution_count": 10,
   "metadata": {},
   "outputs": [
    {
     "name": "stdout",
     "output_type": "stream",
     "text": [
      "exception 1 <class 'ZeroDivisionError'> , exception 2 division by zero,exception 3 <traceback object at 0x000002528AA8D900>\n"
     ]
    }
   ],
   "source": [
    "try:\n",
    "    a = 1/0\n",
    "except Exception as e:\n",
    "    # exc_tuple = sys.exc_info()[0] ,  sys.exc_info()[1] ,  sys.exc_info()[2] , \n",
    "    print(f'exception 1 { sys.exc_info()[0]} , exception 2 { sys.exc_info()[1] },exception 3 { sys.exc_info()[2] }')"
   ]
  },
  {
   "cell_type": "code",
   "execution_count": 22,
   "metadata": {},
   "outputs": [
    {
     "name": "stdout",
     "output_type": "stream",
     "text": [
      "2\n",
      "C:\\Users\\Gyanprakash\\AppData\\Local\\Temp\\ipykernel_9828\\1291832903.py\n"
     ]
    }
   ],
   "source": [
    "try:\n",
    "    a = 1/0\n",
    "except Exception as e:\n",
    "    _,_,exc_tb = sys.exc_info()\n",
    "    fileName = exc_tb.tb_frame.f_code.co_filename\n",
    "    print(exc_tb.tb_lineno)\n",
    "    print(fileName)"
   ]
  },
  {
   "cell_type": "code",
   "execution_count": null,
   "metadata": {},
   "outputs": [],
   "source": []
  },
  {
   "cell_type": "code",
   "execution_count": null,
   "metadata": {},
   "outputs": [],
   "source": []
  },
  {
   "cell_type": "code",
   "execution_count": null,
   "metadata": {},
   "outputs": [],
   "source": []
  }
 ],
 "metadata": {
  "kernelspec": {
   "display_name": "Python 3",
   "language": "python",
   "name": "python3"
  },
  "language_info": {
   "codemirror_mode": {
    "name": "ipython",
    "version": 3
   },
   "file_extension": ".py",
   "mimetype": "text/x-python",
   "name": "python",
   "nbconvert_exporter": "python",
   "pygments_lexer": "ipython3",
   "version": "3.11.3"
  },
  "orig_nbformat": 4
 },
 "nbformat": 4,
 "nbformat_minor": 2
}
