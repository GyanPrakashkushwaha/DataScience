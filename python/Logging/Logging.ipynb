{
 "cells": [
  {
   "cell_type": "code",
   "execution_count": 13,
   "metadata": {},
   "outputs": [
    {
     "name": "stderr",
     "output_type": "stream",
     "text": [
      "DEBUG:root:debug message\n",
      "INFO:root:info message\n",
      "WARNING:root:warning message\n",
      "ERROR:root:error message\n",
      "CRITICAL:root:critical message\n"
     ]
    }
   ],
   "source": [
    "import logging\n",
    "\n",
    "\"\"\"If we don't define levels this from warning so to print from start I have to define level\"\"\"\n",
    "\n",
    "\"\"\" To save all information we need to set filename .....\"\"\"\n",
    "logging.basicConfig(filename='learn.log',level=logging.DEBUG) # to see level concept do comment down this and see\n",
    "\n",
    "\n",
    "logging.debug('debug message') # 10\n",
    "logging.info('info message') # 20\n",
    "logging.warning('warning message') # 30\n",
    "logging.error('error message') # 40\n",
    "logging.critical('critical message') # 50"
   ]
  },
  {
   "cell_type": "code",
   "execution_count": null,
   "metadata": {},
   "outputs": [],
   "source": []
  }
 ],
 "metadata": {
  "kernelspec": {
   "display_name": "Python 3",
   "language": "python",
   "name": "python3"
  },
  "language_info": {
   "codemirror_mode": {
    "name": "ipython",
    "version": 3
   },
   "file_extension": ".py",
   "mimetype": "text/x-python",
   "name": "python",
   "nbconvert_exporter": "python",
   "pygments_lexer": "ipython3",
   "version": "3.11.3"
  },
  "orig_nbformat": 4
 },
 "nbformat": 4,
 "nbformat_minor": 2
}
