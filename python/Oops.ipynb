{
 "cells": [
  {
   "cell_type": "code",
   "execution_count": 2,
   "id": "5c3e16db",
   "metadata": {},
   "outputs": [
    {
     "name": "stdout",
     "output_type": "stream",
     "text": [
      "<class 'int'>\n"
     ]
    }
   ],
   "source": [
    "a = 1\n",
    "print(type(a))"
   ]
  },
  {
   "cell_type": "markdown",
   "id": "2a52de0d",
   "metadata": {},
   "source": [
    "We must use self keyword in order to introduce our function to our classs\n",
    "we shoud must write our code like this .. (self.something = our variable)\n",
    "this introduce's our function's variable to our class"
   ]
  },
  {
   "cell_type": "code",
   "execution_count": 76,
   "id": "aa86018a",
   "metadata": {},
   "outputs": [],
   "source": [
    "class pwskills:\n",
    "    def __init__(self,phone_num,email_id,student_id,position):\n",
    "        self.phone_num = phone_num\n",
    "        self.email_id= email_id\n",
    "        self.student_id = student_id\n",
    "        self.positon2322 = position\n",
    "        \n",
    "    def return_student_details(self):\n",
    "        return self.student_id ,self.phone_num, self.email_id"
   ]
  },
  {
   "cell_type": "code",
   "execution_count": 77,
   "id": "366ff158",
   "metadata": {},
   "outputs": [],
   "source": [
    "pw = pwskills(2342343,'@gmail.ocm',5343,'3rd position')"
   ]
  },
  {
   "cell_type": "code",
   "execution_count": 78,
   "id": "c3f6d8cf",
   "metadata": {},
   "outputs": [
    {
     "data": {
      "text/plain": [
       "<__main__.pwskills at 0x24597923f50>"
      ]
     },
     "execution_count": 78,
     "metadata": {},
     "output_type": "execute_result"
    }
   ],
   "source": [
    "pw"
   ]
  },
  {
   "cell_type": "code",
   "execution_count": 79,
   "id": "655bd3c3",
   "metadata": {},
   "outputs": [
    {
     "data": {
      "text/plain": [
       "'3rd position'"
      ]
     },
     "execution_count": 79,
     "metadata": {},
     "output_type": "execute_result"
    }
   ],
   "source": [
    "pw.positon2322"
   ]
  },
  {
   "cell_type": "code",
   "execution_count": 75,
   "id": "ee1ab9d1",
   "metadata": {},
   "outputs": [
    {
     "data": {
      "text/plain": [
       "5343"
      ]
     },
     "execution_count": 75,
     "metadata": {},
     "output_type": "execute_result"
    }
   ],
   "source": [
    "pw.student_id"
   ]
  },
  {
   "cell_type": "code",
   "execution_count": 81,
   "id": "4a65600d",
   "metadata": {},
   "outputs": [
    {
     "data": {
      "text/plain": [
       "'@gmail.ocm'"
      ]
     },
     "execution_count": 81,
     "metadata": {},
     "output_type": "execute_result"
    }
   ],
   "source": [
    "pw.email_id"
   ]
  },
  {
   "cell_type": "code",
   "execution_count": 73,
   "id": "df0479de",
   "metadata": {},
   "outputs": [
    {
     "data": {
      "text/plain": [
       "2342343"
      ]
     },
     "execution_count": 73,
     "metadata": {},
     "output_type": "execute_result"
    }
   ],
   "source": [
    "pw.phone_num"
   ]
  },
  {
   "cell_type": "code",
   "execution_count": 6,
   "id": "0f05b96c",
   "metadata": {},
   "outputs": [
    {
     "data": {
      "text/plain": [
       "(5343, 2342343, '@gmail.ocm')"
      ]
     },
     "execution_count": 6,
     "metadata": {},
     "output_type": "execute_result"
    }
   ],
   "source": [
    "pw.return_student_details()"
   ]
  },
  {
   "cell_type": "code",
   "execution_count": 7,
   "id": "a9f0496c",
   "metadata": {},
   "outputs": [],
   "source": [
    "class pwskills1:\n",
    "    def __init__(self,phone_num,email_id,student_id):\n",
    "        self.phone_num1 = phone_num\n",
    "        self.email_id1= email_id\n",
    "        self.student_id1 = student_id\n",
    "        \n",
    "    def return_student_details(self):\n",
    "        return self.student_id1 ,self.phone_num1, self.email_id1"
   ]
  },
  {
   "cell_type": "code",
   "execution_count": 8,
   "id": "0f6aee83",
   "metadata": {},
   "outputs": [],
   "source": [
    "pws = pwskills1(45345345435,\"gmail.com\",4444444444)"
   ]
  },
  {
   "cell_type": "code",
   "execution_count": 9,
   "id": "a602231c",
   "metadata": {},
   "outputs": [
    {
     "data": {
      "text/plain": [
       "(4444444444, 45345345435, 'gmail.com')"
      ]
     },
     "execution_count": 9,
     "metadata": {},
     "output_type": "execute_result"
    }
   ],
   "source": [
    "pws.return_student_details()"
   ]
  },
  {
   "attachments": {},
   "cell_type": "markdown",
   "id": "9efb840b",
   "metadata": {},
   "source": [
    "## Changing self keyword because self is not reserved keyword we can use any keyword"
   ]
  },
  {
   "cell_type": "code",
   "execution_count": 100,
   "id": "2d5c9a15",
   "metadata": {},
   "outputs": [],
   "source": [
    "class Withoutself:\n",
    "    def __init__(gyan,phone_num : int,email_id,student_id,position):\n",
    "        gyan.phone_num = phone_num\n",
    "        gyan.email_id= email_id\n",
    "        gyan.student_id = student_id\n",
    "        gyan.positon2322 = position\n",
    "        \n",
    "    def return_gyan_details(gyan):\n",
    "        return gyan.student_id ,gyan.phone_num, gyan.email_id"
   ]
  },
  {
   "cell_type": "code",
   "execution_count": 102,
   "id": "c1d793bc",
   "metadata": {},
   "outputs": [],
   "source": [
    "self = Withoutself(34243234,'gyanp@gmail.com',3443,'1st Position')"
   ]
  },
  {
   "cell_type": "code",
   "execution_count": 104,
   "id": "45a93920",
   "metadata": {},
   "outputs": [
    {
     "data": {
      "text/plain": [
       "(3443, 34243234, 'gyanp@gmail.com')"
      ]
     },
     "execution_count": 104,
     "metadata": {},
     "output_type": "execute_result"
    }
   ],
   "source": [
    "self.return_gyan_details()"
   ]
  },
  {
   "cell_type": "code",
   "execution_count": 106,
   "id": "9b3a3f3b",
   "metadata": {},
   "outputs": [
    {
     "data": {
      "text/plain": [
       "('gyanp@gmail.com', 34243234)"
      ]
     },
     "execution_count": 106,
     "metadata": {},
     "output_type": "execute_result"
    }
   ],
   "source": [
    "self.email_id , self.phone_num"
   ]
  },
  {
   "cell_type": "markdown",
   "id": "ef954dfa",
   "metadata": {},
   "source": [
    "### Polymorphism"
   ]
  },
  {
   "cell_type": "markdown",
   "id": "b145e992",
   "metadata": {},
   "source": [
    "jb koii 1 entity bhut sre km krti h to use polymorphism khte h..."
   ]
  },
  {
   "cell_type": "code",
   "execution_count": 10,
   "id": "6dcc2190",
   "metadata": {},
   "outputs": [],
   "source": [
    "class data_cs:\n",
    "    def syllabus(self):\n",
    "        print('this is my syllabus for data cs')"
   ]
  },
  {
   "cell_type": "code",
   "execution_count": 11,
   "id": "66718ef5",
   "metadata": {},
   "outputs": [],
   "source": [
    "class web_dev:\n",
    "    def syllabus(self):\n",
    "        print('this is my syllabus for web dev')"
   ]
  },
  {
   "cell_type": "code",
   "execution_count": 111,
   "id": "dd287406",
   "metadata": {},
   "outputs": [],
   "source": [
    "def class_parcer(class_obj):\n",
    "    for i in class_obj:\n",
    "        i.syllabus()\n"
   ]
  },
  {
   "cell_type": "code",
   "execution_count": 13,
   "id": "a33fdda3",
   "metadata": {},
   "outputs": [],
   "source": [
    "data_cs = data_cs()\n",
    "web_dev = web_dev()"
   ]
  },
  {
   "cell_type": "code",
   "execution_count": 14,
   "id": "e317dddc",
   "metadata": {},
   "outputs": [
    {
     "data": {
      "text/plain": [
       "<__main__.data_cs at 0x245978d6410>"
      ]
     },
     "execution_count": 14,
     "metadata": {},
     "output_type": "execute_result"
    }
   ],
   "source": [
    "data_cs"
   ]
  },
  {
   "cell_type": "code",
   "execution_count": 117,
   "id": "7557791a",
   "metadata": {},
   "outputs": [
    {
     "data": {
      "text/plain": [
       "{<__main__.data_cs at 0x245978d6410>, <__main__.web_dev at 0x24597913510>}"
      ]
     },
     "execution_count": 117,
     "metadata": {},
     "output_type": "execute_result"
    }
   ],
   "source": [
    "class_obj = {web_dev,data_cs} # we can pass these clases in set , tuple and list\n",
    "class_obj"
   ]
  },
  {
   "cell_type": "code",
   "execution_count": 116,
   "id": "eb369af5",
   "metadata": {},
   "outputs": [
    {
     "name": "stdout",
     "output_type": "stream",
     "text": [
      "this is my syllabus for data cs\n",
      "this is my syllabus for web dev\n"
     ]
    }
   ],
   "source": [
    "class_parcer(class_obj)"
   ]
  },
  {
   "cell_type": "markdown",
   "id": "eee13cad",
   "metadata": {},
   "source": [
    "### Encapsulation"
   ]
  },
  {
   "cell_type": "markdown",
   "id": "20dd67e5",
   "metadata": {},
   "source": [
    "#### In encapsulation we acctually hide our variables from user\n",
    "\n",
    "##### to hide variable's we need to do self.__variableName \n",
    "##### to see variable name we just need to do -> object._className__variableName"
   ]
  },
  {
   "cell_type": "code",
   "execution_count": 17,
   "id": "e5a55356",
   "metadata": {},
   "outputs": [],
   "source": [
    "class car1:\n",
    "    def __init__(self,year,make,model,speed):\n",
    "        self.year = year\n",
    "        self.make = make\n",
    "        self.model = model\n",
    "        self.speed = speed\n",
    "        \n",
    "    def return_car(self):\n",
    "        return self.year,self.make,self.model,self.speed"
   ]
  },
  {
   "cell_type": "code",
   "execution_count": 18,
   "id": "e3e235c6",
   "metadata": {},
   "outputs": [],
   "source": [
    "cr = car1(2021,'toyota','inova',45)"
   ]
  },
  {
   "cell_type": "code",
   "execution_count": 19,
   "id": "05429652",
   "metadata": {},
   "outputs": [
    {
     "data": {
      "text/plain": [
       "(2021, 'toyota', 'inova', 45)"
      ]
     },
     "execution_count": 19,
     "metadata": {},
     "output_type": "execute_result"
    }
   ],
   "source": [
    "cr.return_car()"
   ]
  },
  {
   "cell_type": "code",
   "execution_count": 20,
   "id": "44c01766",
   "metadata": {},
   "outputs": [],
   "source": [
    "class car:\n",
    "    def __init__(self,year,make,model,speed):\n",
    "        self.__year = year\n",
    "        self.__make = make\n",
    "        self.__model = model\n",
    "        self.__speed = speed\n",
    "        \n",
    "    def set_speed(self,speed):\n",
    "        self.__speed = 0 if speed < 0 else speed\n",
    "    \n",
    "    def get_speed(self):\n",
    "        return self.__speed"
   ]
  },
  {
   "cell_type": "code",
   "execution_count": 21,
   "id": "57ff1010",
   "metadata": {},
   "outputs": [],
   "source": [
    "cr1 = car(2034,'mahindra','nisaan',100)"
   ]
  },
  {
   "cell_type": "code",
   "execution_count": 22,
   "id": "780dfb06",
   "metadata": {},
   "outputs": [
    {
     "data": {
      "text/plain": [
       "2034"
      ]
     },
     "execution_count": 22,
     "metadata": {},
     "output_type": "execute_result"
    }
   ],
   "source": [
    "cr1._car__year"
   ]
  },
  {
   "cell_type": "code",
   "execution_count": 23,
   "id": "153f2d76",
   "metadata": {},
   "outputs": [],
   "source": [
    "cr1.set_speed(-232)"
   ]
  },
  {
   "cell_type": "code",
   "execution_count": 24,
   "id": "345b6346",
   "metadata": {},
   "outputs": [
    {
     "data": {
      "text/plain": [
       "0"
      ]
     },
     "execution_count": 24,
     "metadata": {},
     "output_type": "execute_result"
    }
   ],
   "source": [
    "cr1.get_speed()"
   ]
  },
  {
   "cell_type": "code",
   "execution_count": 25,
   "id": "10dc019f",
   "metadata": {},
   "outputs": [],
   "source": [
    "cr1.set_speed(4534)"
   ]
  },
  {
   "cell_type": "code",
   "execution_count": 26,
   "id": "44bb22d9",
   "metadata": {},
   "outputs": [
    {
     "data": {
      "text/plain": [
       "4534"
      ]
     },
     "execution_count": 26,
     "metadata": {},
     "output_type": "execute_result"
    }
   ],
   "source": [
    "cr1.get_speed()"
   ]
  },
  {
   "cell_type": "markdown",
   "id": "a4ec97ba",
   "metadata": {},
   "source": [
    "#### * balance"
   ]
  },
  {
   "cell_type": "code",
   "execution_count": 27,
   "id": "e943d9c1",
   "metadata": {},
   "outputs": [],
   "source": [
    "class bank_account:\n",
    "    def __init__(self,balance):\n",
    "        self.__balance = balance\n",
    "    \n",
    "    def deposit(self,amount):\n",
    "        self.__balance = self.__balance + amount\n",
    "    \n",
    "    def withdra(self,amount):\n",
    "        if self.__balance >= amount:\n",
    "            self.__balance = self.__balance - amount\n",
    "            return print('balance is sufficient')\n",
    "        else :\n",
    "            return print('balance is unsufficient')\n",
    "        \n",
    "    def get_balance(self):\n",
    "        return self.__balance"
   ]
  },
  {
   "cell_type": "code",
   "execution_count": 28,
   "id": "d4babd65",
   "metadata": {},
   "outputs": [],
   "source": [
    "amt = bank_account(1000)"
   ]
  },
  {
   "cell_type": "code",
   "execution_count": 29,
   "id": "607192e2",
   "metadata": {},
   "outputs": [
    {
     "data": {
      "text/plain": [
       "1000"
      ]
     },
     "execution_count": 29,
     "metadata": {},
     "output_type": "execute_result"
    }
   ],
   "source": [
    "amt.get_balance()"
   ]
  },
  {
   "cell_type": "code",
   "execution_count": 30,
   "id": "9ed6f711",
   "metadata": {},
   "outputs": [],
   "source": [
    "amt.deposit(1000)"
   ]
  },
  {
   "cell_type": "code",
   "execution_count": 31,
   "id": "b7d142ca",
   "metadata": {},
   "outputs": [
    {
     "data": {
      "text/plain": [
       "2000"
      ]
     },
     "execution_count": 31,
     "metadata": {},
     "output_type": "execute_result"
    }
   ],
   "source": [
    "amt.get_balance()"
   ]
  },
  {
   "cell_type": "code",
   "execution_count": 32,
   "id": "66ec6d36",
   "metadata": {},
   "outputs": [
    {
     "name": "stdout",
     "output_type": "stream",
     "text": [
      "balance is sufficient\n"
     ]
    }
   ],
   "source": [
    "amt.withdra(129)"
   ]
  },
  {
   "cell_type": "code",
   "execution_count": 33,
   "id": "7ac80c6e",
   "metadata": {},
   "outputs": [
    {
     "data": {
      "text/plain": [
       "1871"
      ]
     },
     "execution_count": 33,
     "metadata": {},
     "output_type": "execute_result"
    }
   ],
   "source": [
    "amt.get_balance()"
   ]
  },
  {
   "cell_type": "code",
   "execution_count": 34,
   "id": "9f7fbbe4",
   "metadata": {},
   "outputs": [
    {
     "name": "stdout",
     "output_type": "stream",
     "text": [
      "balance is unsufficient\n"
     ]
    }
   ],
   "source": [
    "amt.withdra(2129)"
   ]
  },
  {
   "cell_type": "markdown",
   "id": "c368234a",
   "metadata": {},
   "source": [
    "### inheritance"
   ]
  },
  {
   "cell_type": "markdown",
   "id": "c677016d",
   "metadata": {},
   "source": [
    "to copy Or to inherit a classes attributes we use inheritance concept"
   ]
  },
  {
   "cell_type": "code",
   "execution_count": 35,
   "id": "5c1e3caf",
   "metadata": {},
   "outputs": [],
   "source": [
    "class parent_class:\n",
    "    def add(self,a,b):\n",
    "        return a+b"
   ]
  },
  {
   "cell_type": "code",
   "execution_count": 36,
   "id": "fd843ab9",
   "metadata": {},
   "outputs": [],
   "source": [
    "class child_class(parent_class):\n",
    "    pass"
   ]
  },
  {
   "cell_type": "code",
   "execution_count": 37,
   "id": "3bf53803",
   "metadata": {},
   "outputs": [],
   "source": [
    "child_classObj = child_class()"
   ]
  },
  {
   "cell_type": "code",
   "execution_count": 38,
   "id": "8fa364b7",
   "metadata": {},
   "outputs": [
    {
     "data": {
      "text/plain": [
       "5"
      ]
     },
     "execution_count": 38,
     "metadata": {},
     "output_type": "execute_result"
    }
   ],
   "source": [
    "child_classObj.add(2,3)"
   ]
  },
  {
   "cell_type": "markdown",
   "id": "cd49b891",
   "metadata": {},
   "source": [
    "### abstraction"
   ]
  },
  {
   "cell_type": "markdown",
   "id": "794bc6e9",
   "metadata": {},
   "source": [
    "##### this is used to make outline or skeleton or blueprint of a project\n",
    "from this abstract class we have to inherit to our new class than we can implement our own logic to those classes"
   ]
  },
  {
   "cell_type": "code",
   "execution_count": 39,
   "id": "3a604600",
   "metadata": {},
   "outputs": [],
   "source": [
    "import abc"
   ]
  },
  {
   "cell_type": "code",
   "execution_count": 40,
   "id": "970ec1f5",
   "metadata": {},
   "outputs": [
    {
     "name": "stdout",
     "output_type": "stream",
     "text": [
      "this will return a student details for data science masters\n",
      "this will give you a student assignment detaild for data science masters\n"
     ]
    }
   ],
   "source": [
    "import abc\n",
    "from abc import ABC\n",
    "\n",
    "\n",
    "class pwskills:\n",
    "    @abc.abstractclassmethod\n",
    "    def student_details(cls):\n",
    "        pass\n",
    "\n",
    "    @abc.abstractclassmethod\n",
    "    def student_assignement(cls):\n",
    "        pass\n",
    "\n",
    "    @abc.abstractclassmethod\n",
    "    def student_marks(cls):\n",
    "        pass\n",
    "\n",
    "\n",
    "class student_details(pwskills, ABC):\n",
    "    def student_details(cls):\n",
    "        return 'this is a meth for taking students details'\n",
    "\n",
    "    def student_assignement(cls):\n",
    "        return 'this is a meth for assing details for a particular student'\n",
    "\n",
    "\n",
    "class data_science_masters(pwskills, ABC):\n",
    "    def student_details(cls):\n",
    "        return 'this will return a student details for data science masters'\n",
    "\n",
    "    def student_assignement(cls):\n",
    "        return 'this will give you a student assignment detaild for data science masters'\n",
    "\n",
    "dsm = data_science_masters()  \n",
    "print(dsm.student_details())\n",
    "print(dsm.student_assignement())\n"
   ]
  },
  {
   "cell_type": "markdown",
   "id": "29d383b8",
   "metadata": {},
   "source": [
    "### Decorator's"
   ]
  },
  {
   "cell_type": "code",
   "execution_count": 41,
   "id": "75449e2b",
   "metadata": {},
   "outputs": [],
   "source": [
    "def decorator(func):\n",
    "    def inner_decorator():\n",
    "        print('start of function')\n",
    "        func()\n",
    "        print('end of function')\n",
    "    return inner_decorator"
   ]
  },
  {
   "cell_type": "code",
   "execution_count": 118,
   "id": "85df12e5",
   "metadata": {},
   "outputs": [
    {
     "name": "stdout",
     "output_type": "stream",
     "text": [
      "start of function\n",
      "6\n",
      "end of function\n"
     ]
    }
   ],
   "source": [
    "@decorator\n",
    "def sum():\n",
    "    print(3+3)\n",
    "sum()"
   ]
  },
  {
   "cell_type": "code",
   "execution_count": 120,
   "id": "de93a8a1",
   "metadata": {},
   "outputs": [
    {
     "name": "stdout",
     "output_type": "stream",
     "text": [
      "starting msg\n",
      "hello how are you\n",
      "end msg\n"
     ]
    }
   ],
   "source": [
    "def msg(msg):\n",
    "    print('starting msg')\n",
    "    msg()\n",
    "    print('end msg')\n",
    "@msg\n",
    "def middleMSG():\n",
    "    print('hello how are you')"
   ]
  },
  {
   "cell_type": "code",
   "execution_count": 44,
   "id": "95a00506",
   "metadata": {},
   "outputs": [],
   "source": [
    "import time\n",
    "\n",
    "def timers(func):\n",
    "    def timer_inner():\n",
    "        start = time.time()\n",
    "        func()\n",
    "        end = time.time()\n",
    "        print(end - start)\n",
    "    return timer_inner"
   ]
  },
  {
   "cell_type": "code",
   "execution_count": 45,
   "id": "8eff8243",
   "metadata": {},
   "outputs": [],
   "source": [
    "@timers\n",
    "def sum():\n",
    "    print(45*4534*5435/435)"
   ]
  },
  {
   "cell_type": "code",
   "execution_count": 46,
   "id": "7315b0f9",
   "metadata": {},
   "outputs": [
    {
     "name": "stdout",
     "output_type": "stream",
     "text": [
      "2549202.4137931033\n",
      "0.0\n"
     ]
    }
   ],
   "source": [
    "sum()"
   ]
  },
  {
   "cell_type": "markdown",
   "id": "922ebc98",
   "metadata": {},
   "source": [
    "## classmethod\n"
   ]
  },
  {
   "attachments": {},
   "cell_type": "markdown",
   "id": "4c3b076f",
   "metadata": {},
   "source": [
    "* we use cls keyword in classmethod\n",
    "* we can use our functions without creating and object"
   ]
  },
  {
   "cell_type": "code",
   "execution_count": 122,
   "id": "0b2c9680",
   "metadata": {},
   "outputs": [],
   "source": [
    "class pwskills4 : \n",
    "    \n",
    "    mobile_num = 912342424\n",
    "    \n",
    "    def __init__(self , name , email) :\n",
    "        self.name = name \n",
    "        self.email = email\n",
    "    \n",
    "    @classmethod\n",
    "    def change_number(cls, mobile):\n",
    "        pwskills4.mobile_num = mobile\n",
    "    \n",
    "    @classmethod\n",
    "    def details(cls ,name, email ):\n",
    "        return cls(name , email)\n",
    "        \n",
    "    def students_details(self):\n",
    "        print(self.name , self.email,pwskills4.mobile_num)"
   ]
  },
  {
   "cell_type": "code",
   "execution_count": 127,
   "id": "abc688ee",
   "metadata": {},
   "outputs": [
    {
     "data": {
      "text/plain": [
       "343545"
      ]
     },
     "execution_count": 127,
     "metadata": {},
     "output_type": "execute_result"
    }
   ],
   "source": [
    "pwskills4.change_number(343545)\n",
    "pwskills4.mobile_num"
   ]
  },
  {
   "cell_type": "code",
   "execution_count": 138,
   "id": "d5b05650",
   "metadata": {},
   "outputs": [
    {
     "name": "stdout",
     "output_type": "stream",
     "text": [
      "hello\n",
      "hello@gmal\n"
     ]
    }
   ],
   "source": [
    "print(pwskills4.details('hello','hello@gmal').name)\n",
    "print(pwskills4.details('hello','hello@gmal').email)\n"
   ]
  },
  {
   "cell_type": "code",
   "execution_count": 134,
   "id": "2953b4ee",
   "metadata": {},
   "outputs": [
    {
     "name": "stdout",
     "output_type": "stream",
     "text": [
      "hejkj hdlkd@sfhsd 343545\n"
     ]
    }
   ],
   "source": [
    "dtls = pwskills4('hejkj','hdlkd@sfhsd')\n",
    "dtls.students_details()"
   ]
  },
  {
   "cell_type": "code",
   "execution_count": 121,
   "id": "3c86556b",
   "metadata": {},
   "outputs": [],
   "source": [
    "class student:\n",
    "    def __init__(self,name,email) :\n",
    "        self.name = name\n",
    "        self.email = email\n",
    "        \n",
    "    @ classmethod # this is default decorator in python\n",
    "    def details(cls,name,email):\n",
    "        return cls(name,email)"
   ]
  },
  {
   "cell_type": "code",
   "execution_count": 162,
   "id": "5d37190d",
   "metadata": {},
   "outputs": [],
   "source": [
    "class pwskills4 : \n",
    "    mobile_num = 912342424\n",
    "    \n",
    "    def __init__(self , name , email) :\n",
    "        self.name = name \n",
    "        self.email = email\n",
    "    \n",
    "    @classmethod\n",
    "    def change_number(cls, mobile):\n",
    "        pwskills4.mobile_num = mobile\n",
    "    \n",
    "    @classmethod\n",
    "    def details(cls ,name, email ):\n",
    "        return cls(name , email)\n",
    "        \n",
    "    def students_details(self):\n",
    "        print(self.name , self.email,pwskills4.mobile_num)"
   ]
  },
  {
   "cell_type": "code",
   "execution_count": 164,
   "id": "0a8f37c7",
   "metadata": {},
   "outputs": [],
   "source": [
    "## adding external fucntion in a class\n",
    "def course_details(cls,course_name):\n",
    "    print('course name is ',course_name)"
   ]
  },
  {
   "cell_type": "code",
   "execution_count": 165,
   "id": "9b027378",
   "metadata": {},
   "outputs": [],
   "source": [
    "pwskills4.course_details = classmethod(course_details)"
   ]
  },
  {
   "cell_type": "code",
   "execution_count": 166,
   "metadata": {},
   "outputs": [
    {
     "name": "stdout",
     "output_type": "stream",
     "text": [
      "course name is  dss\n"
     ]
    }
   ],
   "source": [
    "pwskills4.course_details('dss')"
   ]
  },
  {
   "cell_type": "code",
   "execution_count": 167,
   "id": "dc9b7400",
   "metadata": {},
   "outputs": [],
   "source": [
    "## deleting fucntion from class\n",
    "del pwskills4.course_details "
   ]
  },
  {
   "cell_type": "code",
   "execution_count": 169,
   "id": "a6b6951e",
   "metadata": {},
   "outputs": [],
   "source": [
    "## deleting fucntion from class\n",
    "# another method\n",
    "delattr(pwskills4,'change_number')"
   ]
  },
  {
   "cell_type": "code",
   "execution_count": 172,
   "id": "cc91d89d",
   "metadata": {},
   "outputs": [],
   "source": [
    "delattr(pwskills4,'details')\n",
    "delattr(pwskills4,'mobile_num')\n"
   ]
  },
  {
   "attachments": {},
   "cell_type": "markdown",
   "id": "1b0e2a84",
   "metadata": {},
   "source": [
    "## static method"
   ]
  },
  {
   "cell_type": "markdown",
   "id": "a50df5df",
   "metadata": {},
   "source": [
    "#### this method used for those functions whom we don't have to do make many instances , jb kissi class pe kissi function ki value same hoti h tb static method ka use krte h.\n",
    "#### staticmethod does not take self argument"
   ]
  },
  {
   "cell_type": "code",
   "execution_count": 3,
   "id": "395e6393",
   "metadata": {},
   "outputs": [],
   "source": [
    "class pwskills:\n",
    "    def student_details(self,name,emai_id,number,behave):\n",
    "        print(name,emai_id,number,behave)\n",
    "     \n",
    "    @staticmethod\n",
    "    def student_details1(name,emai_id,number):\n",
    "        print(name,emai_id,number)"
   ]
  },
  {
   "cell_type": "code",
   "execution_count": 4,
   "id": "17f5ce8f",
   "metadata": {},
   "outputs": [
    {
     "name": "stdout",
     "output_type": "stream",
     "text": [
      "priya priya@gmail.com 32344343\n"
     ]
    }
   ],
   "source": [
    "pwskills.student_details1(\"priya\",'priya@gmail.com',32344343)"
   ]
  },
  {
   "cell_type": "code",
   "execution_count": 5,
   "id": "028773fb",
   "metadata": {},
   "outputs": [],
   "source": [
    "pw = pwskills()"
   ]
  },
  {
   "cell_type": "code",
   "execution_count": 6,
   "id": "624db10d",
   "metadata": {},
   "outputs": [
    {
     "name": "stdout",
     "output_type": "stream",
     "text": [
      "priya priya@gmail.com 32344343 bad\n"
     ]
    }
   ],
   "source": [
    "pw.student_details(\"priya\",'priya@gmail.com',32344343,\"bad\")"
   ]
  },
  {
   "cell_type": "code",
   "execution_count": 52,
   "id": "847a7bc3",
   "metadata": {},
   "outputs": [],
   "source": [
    "class pwskills2 :\n",
    "    \n",
    "    def student_details(self , name , mail_id , number) :\n",
    "        print(name , mail_id, number)\n",
    "        \n",
    "    @staticmethod\n",
    "    def mentor_mail_id(maild_id_mentor) :\n",
    "        print(maild_id_mentor)    \n",
    "        \n",
    "    @staticmethod\n",
    "    def mentor_class(list_mentor) :\n",
    "        pw = pwskills2()\n",
    "        a = pw.student_details('jyoti','jyoti@gmail.com',6261621704)\n",
    "        pwskills2.mentor_mail_id([\"sudh@gmail.com\" , \"krish@gmail.com\"])\n",
    "        print(a)\n",
    "        print(list_mentor)\n",
    "        \n",
    "    @classmethod\n",
    "    def class_name(cls):\n",
    "        cls.mentor_class([\"sudh\" , \"krish\"])\n",
    "        \n",
    "        \n",
    "    def mentor(self ,mentor_list):\n",
    "        print(mentor_list)\n",
    "        self.mentor_class([\"krish\" , \"sudh\"])"
   ]
  },
  {
   "cell_type": "code",
   "execution_count": 53,
   "id": "3f086795",
   "metadata": {},
   "outputs": [
    {
     "name": "stdout",
     "output_type": "stream",
     "text": [
      "jyoti jyoti@gmail.com 6261621704\n",
      "['sudh@gmail.com', 'krish@gmail.com']\n",
      "None\n",
      "sudh\n"
     ]
    }
   ],
   "source": [
    "pwskills2.mentor_class('sudh')"
   ]
  },
  {
   "cell_type": "code",
   "execution_count": null,
   "id": "becf9785",
   "metadata": {},
   "outputs": [],
   "source": []
  },
  {
   "cell_type": "code",
   "execution_count": null,
   "id": "c45d11ff",
   "metadata": {},
   "outputs": [],
   "source": []
  },
  {
   "cell_type": "code",
   "execution_count": null,
   "id": "26ac3708",
   "metadata": {},
   "outputs": [],
   "source": []
  },
  {
   "cell_type": "code",
   "execution_count": 54,
   "id": "64e4cf2b",
   "metadata": {
    "scrolled": true
   },
   "outputs": [
    {
     "name": "stdout",
     "output_type": "stream",
     "text": [
      "@shdslfh\n"
     ]
    }
   ],
   "source": [
    "pwskills2.mentor_mail_id('@shdslfh')"
   ]
  },
  {
   "cell_type": "code",
   "execution_count": 55,
   "id": "3e574180",
   "metadata": {},
   "outputs": [
    {
     "name": "stdout",
     "output_type": "stream",
     "text": [
      "jyoti jyoti@gmail.com 6261621704\n",
      "['sudh@gmail.com', 'krish@gmail.com']\n",
      "None\n",
      "['krish', 'sudh']\n"
     ]
    }
   ],
   "source": [
    "pwskills2.mentor_class([\"krish\" , \"sudh\"])"
   ]
  },
  {
   "cell_type": "code",
   "execution_count": 56,
   "id": "2cee4c46",
   "metadata": {},
   "outputs": [
    {
     "name": "stdout",
     "output_type": "stream",
     "text": [
      "jyoti jyoti@gmail.com 6261621704\n",
      "['sudh@gmail.com', 'krish@gmail.com']\n",
      "None\n",
      "['sudh', 'krish']\n"
     ]
    }
   ],
   "source": [
    "pwskills2.class_name()"
   ]
  },
  {
   "cell_type": "code",
   "execution_count": 57,
   "id": "dd2f917a",
   "metadata": {},
   "outputs": [],
   "source": [
    "pw = pwskills2()"
   ]
  },
  {
   "cell_type": "code",
   "execution_count": 58,
   "id": "c0d41c96",
   "metadata": {},
   "outputs": [
    {
     "name": "stdout",
     "output_type": "stream",
     "text": [
      "['krish', 'sudh']\n",
      "jyoti jyoti@gmail.com 6261621704\n",
      "['sudh@gmail.com', 'krish@gmail.com']\n",
      "None\n",
      "['krish', 'sudh']\n"
     ]
    }
   ],
   "source": [
    "pw.mentor([\"krish\" , \"sudh\"])"
   ]
  },
  {
   "cell_type": "code",
   "execution_count": 59,
   "id": "e6cc2110",
   "metadata": {},
   "outputs": [],
   "source": [
    "pw = pwskills2()"
   ]
  },
  {
   "cell_type": "code",
   "execution_count": 60,
   "id": "07e9ab37",
   "metadata": {},
   "outputs": [
    {
     "name": "stdout",
     "output_type": "stream",
     "text": [
      "jyoti jyoti@gmail.com 6261621704\n"
     ]
    }
   ],
   "source": [
    "pw.student_details('jyoti','jyoti@gmail.com',6261621704)"
   ]
  },
  {
   "cell_type": "code",
   "execution_count": 61,
   "id": "41a22079",
   "metadata": {},
   "outputs": [
    {
     "name": "stdout",
     "output_type": "stream",
     "text": [
      "hello\n"
     ]
    }
   ],
   "source": [
    "print('hello')"
   ]
  },
  {
   "cell_type": "markdown",
   "id": "6bb4beaf",
   "metadata": {},
   "source": [
    "## property Decorators - getter , setter "
   ]
  },
  {
   "cell_type": "code",
   "execution_count": 62,
   "id": "888e4fa4",
   "metadata": {},
   "outputs": [],
   "source": [
    "class pwskills:\n",
    "    def __init__(self, course_price, course_name):\n",
    "        self.__course_price = course_price\n",
    "        self.course_name = course_name\n",
    "\n",
    "    @property\n",
    "    def course_price_modify(self):\n",
    "        return self.__course_price\n",
    "    \n",
    "    # to set value\n",
    "#     @course_price_modify.\n"
   ]
  },
  {
   "cell_type": "code",
   "execution_count": 63,
   "id": "95c8ae2c",
   "metadata": {},
   "outputs": [],
   "source": [
    "pw = pwskills(3500,'dsm')"
   ]
  },
  {
   "cell_type": "code",
   "execution_count": 64,
   "id": "f663ac62",
   "metadata": {},
   "outputs": [
    {
     "data": {
      "text/plain": [
       "3500"
      ]
     },
     "execution_count": 64,
     "metadata": {},
     "output_type": "execute_result"
    }
   ],
   "source": [
    "pw.course_price_modify"
   ]
  },
  {
   "cell_type": "code",
   "execution_count": null,
   "id": "99caa189",
   "metadata": {},
   "outputs": [],
   "source": []
  },
  {
   "cell_type": "code",
   "execution_count": null,
   "id": "b6947cad",
   "metadata": {},
   "outputs": [],
   "source": []
  },
  {
   "cell_type": "code",
   "execution_count": null,
   "id": "1733965d",
   "metadata": {},
   "outputs": [],
   "source": []
  },
  {
   "cell_type": "code",
   "execution_count": null,
   "id": "855a7ae6",
   "metadata": {},
   "outputs": [],
   "source": []
  },
  {
   "cell_type": "code",
   "execution_count": null,
   "id": "3b2cc1a3",
   "metadata": {},
   "outputs": [],
   "source": []
  }
 ],
 "metadata": {
  "kernelspec": {
   "display_name": "Python 3 (ipykernel)",
   "language": "python",
   "name": "python3"
  },
  "language_info": {
   "codemirror_mode": {
    "name": "ipython",
    "version": 3
   },
   "file_extension": ".py",
   "mimetype": "text/x-python",
   "name": "python",
   "nbconvert_exporter": "python",
   "pygments_lexer": "ipython3",
   "version": "3.11.3"
  },
  "varInspector": {
   "cols": {
    "lenName": 16,
    "lenType": 16,
    "lenVar": 40
   },
   "kernels_config": {
    "python": {
     "delete_cmd_postfix": "",
     "delete_cmd_prefix": "del ",
     "library": "var_list.py",
     "varRefreshCmd": "print(var_dic_list())"
    },
    "r": {
     "delete_cmd_postfix": ") ",
     "delete_cmd_prefix": "rm(",
     "library": "var_list.r",
     "varRefreshCmd": "cat(var_dic_list()) "
    }
   },
   "position": {
    "height": "218.844px",
    "left": "830px",
    "right": "20px",
    "top": "22px",
    "width": "350px"
   },
   "types_to_exclude": [
    "module",
    "function",
    "builtin_function_or_method",
    "instance",
    "_Feature"
   ],
   "window_display": false
  }
 },
 "nbformat": 4,
 "nbformat_minor": 5
}
