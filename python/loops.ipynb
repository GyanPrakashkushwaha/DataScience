{
 "cells": [
  {
   "cell_type": "code",
   "execution_count": null,
   "id": "3b26d4f7",
   "metadata": {},
   "outputs": [],
   "source": [
    "i = [1,2,3,4,5,6]\n",
    "i1 = []\n",
    "for m in i:\n",
    "    i1.append(m**2)\n",
    "i1"
   ]
  },
  {
   "cell_type": "code",
   "execution_count": null,
   "id": "c3d6ade4",
   "metadata": {},
   "outputs": [],
   "source": [
    "square"
   ]
  },
  {
   "cell_type": "code",
   "execution_count": null,
   "id": "fa49d440",
   "metadata": {},
   "outputs": [],
   "source": [
    "# Multiplication table (from 1 to 10) in Python\n",
    "\n",
    "num = 12\n",
    "\n",
    "# To take input from the user\n",
    "# num = int(input(\"Display multiplication table of? \"))\n",
    "\n",
    "# Iterate 10 times from i = 1 to 10\n",
    "for i in range(1, 11):\n",
    "   print(num, 'x', i, '=', num*i)"
   ]
  },
  {
   "cell_type": "code",
   "execution_count": null,
   "id": "7fb1372f",
   "metadata": {},
   "outputs": [],
   "source": [
    "num = int(input('Enter num '))\n",
    "for i in range(1,11):\n",
    "    print(num,'x',i,'=',num*i)"
   ]
  },
  {
   "cell_type": "code",
   "execution_count": null,
   "id": "b21ebd24",
   "metadata": {},
   "outputs": [],
   "source": [
    "while "
   ]
  },
  {
   "cell_type": "code",
   "execution_count": null,
   "id": "4f1eef0f",
   "metadata": {},
   "outputs": [],
   "source": [
    "# num = [1,2,3,4,5]\n",
    "# square =[]\n",
    "# i = 1\n",
    "# while i < 7:\n",
    "#     square.append(i**2)"
   ]
  },
  {
   "cell_type": "code",
   "execution_count": 3,
   "id": "e1962a5f",
   "metadata": {},
   "outputs": [
    {
     "name": "stdout",
     "output_type": "stream",
     "text": [
      "Enter the number of which the user wants to print the multiplication table: 4\n",
      "The Multiplication Table of:  4\n",
      "4 x [1, 2, 3, 4, 5, 6] = 4\n",
      "4 x [1, 2, 3, 4, 5, 6] = 8\n",
      "4 x [1, 2, 3, 4, 5, 6] = 12\n",
      "4 x [1, 2, 3, 4, 5, 6] = 16\n",
      "4 x [1, 2, 3, 4, 5, 6] = 20\n",
      "4 x [1, 2, 3, 4, 5, 6] = 24\n",
      "4 x [1, 2, 3, 4, 5, 6] = 28\n",
      "4 x [1, 2, 3, 4, 5, 6] = 32\n",
      "4 x [1, 2, 3, 4, 5, 6] = 36\n",
      "4 x [1, 2, 3, 4, 5, 6] = 40\n"
     ]
    }
   ],
   "source": [
    "number = int(input (\"Enter the number of which the user wants to print the multiplication table: \"))      \n",
    "count = 1    \n",
    "# we are using while loop for iterating the multiplication 10 times      \n",
    "print (\"The Multiplication Table of: \", number)    \n",
    "while count <= 10:    \n",
    "    number = number * 1    \n",
    "    print (number, 'x', i, '=', number * count)    \n",
    "    count += 1    "
   ]
  },
  {
   "cell_type": "code",
   "execution_count": null,
   "id": "e8cd4cb1",
   "metadata": {},
   "outputs": [],
   "source": [
    "i = 1\n",
    "while i<=10:\n",
    "    print(i)\n",
    "    i +=1"
   ]
  },
  {
   "cell_type": "code",
   "execution_count": null,
   "id": "02807119",
   "metadata": {},
   "outputs": [],
   "source": [
    "user = int(input('Enter a Num'))\n",
    "i = 1\n",
    "starting = 0\n",
    "while i <= user:\n",
    "    starting = starting + i\n",
    "    i = i+ 1\n",
    "print(i)"
   ]
  },
  {
   "cell_type": "code",
   "execution_count": 16,
   "id": "f8fad378",
   "metadata": {},
   "outputs": [
    {
     "name": "stdout",
     "output_type": "stream",
     "text": [
      "Enter a number 2\n",
      "end 10\n",
      "2 x 1 = 2\n",
      "2 x 2 = 4\n",
      "2 x 3 = 6\n",
      "2 x 4 = 8\n",
      "2 x 5 = 10\n",
      "2 x 6 = 12\n",
      "2 x 7 = 14\n",
      "2 x 8 = 16\n",
      "2 x 9 = 18\n",
      "2 x 10 = 20\n"
     ]
    }
   ],
   "source": [
    "num = int(input('Enter a number '))\n",
    "end = int(input('end '))\n",
    "i = 1\n",
    "while i <=end:\n",
    "    print(num,'x',i,'=',num*i)\n",
    "    i = i+1"
   ]
  },
  {
   "cell_type": "code",
   "execution_count": 14,
   "id": "3ff136f1",
   "metadata": {},
   "outputs": [],
   "source": [
    "num = int(input('Enter a number '))\n",
    "end = int(input('end '))\n",
    "i = 1\n",
    "def table(num,end):\n",
    "    while i <=end:\n",
    "      print(num,'x',i,'=',num*i)\n",
    "      i = i+1"
   ]
  },
  {
   "cell_type": "code",
   "execution_count": 15,
   "id": "02d42f74",
   "metadata": {},
   "outputs": [
    {
     "ename": "UnboundLocalError",
     "evalue": "local variable 'i' referenced before assignment",
     "output_type": "error",
     "traceback": [
      "\u001b[1;31m---------------------------------------------------------------------------\u001b[0m",
      "\u001b[1;31mUnboundLocalError\u001b[0m                         Traceback (most recent call last)",
      "Cell \u001b[1;32mIn[15], line 1\u001b[0m\n\u001b[1;32m----> 1\u001b[0m \u001b[43mtable\u001b[49m\u001b[43m(\u001b[49m\u001b[38;5;241;43m41\u001b[39;49m\u001b[43m,\u001b[49m\u001b[38;5;241;43m20\u001b[39;49m\u001b[43m)\u001b[49m\n",
      "Cell \u001b[1;32mIn[14], line 5\u001b[0m, in \u001b[0;36mtable\u001b[1;34m(num, end)\u001b[0m\n\u001b[0;32m      4\u001b[0m \u001b[38;5;28;01mdef\u001b[39;00m \u001b[38;5;21mtable\u001b[39m(num,end):\n\u001b[1;32m----> 5\u001b[0m     \u001b[38;5;28;01mwhile\u001b[39;00m \u001b[43mi\u001b[49m \u001b[38;5;241m<\u001b[39m\u001b[38;5;241m=\u001b[39mend:\n\u001b[0;32m      6\u001b[0m       \u001b[38;5;28mprint\u001b[39m(num,\u001b[38;5;124m'\u001b[39m\u001b[38;5;124mx\u001b[39m\u001b[38;5;124m'\u001b[39m,i,\u001b[38;5;124m'\u001b[39m\u001b[38;5;124m=\u001b[39m\u001b[38;5;124m'\u001b[39m,num\u001b[38;5;241m*\u001b[39mi)\n\u001b[0;32m      7\u001b[0m       i \u001b[38;5;241m=\u001b[39m i\u001b[38;5;241m+\u001b[39m\u001b[38;5;241m1\u001b[39m\n",
      "\u001b[1;31mUnboundLocalError\u001b[0m: local variable 'i' referenced before assignment"
     ]
    }
   ],
   "source": [
    "table(41,20)"
   ]
  },
  {
   "cell_type": "code",
   "execution_count": null,
   "id": "195b17f5",
   "metadata": {},
   "outputs": [],
   "source": [
    "n = int(input(''))\n",
    "starting = 0\n",
    "counter = 1\n",
    "while counter <=n:\n",
    "    starting = starting + counter\n",
    "    counter = counter+1\n",
    "starting"
   ]
  },
  {
   "cell_type": "code",
   "execution_count": null,
   "id": "9fb40502",
   "metadata": {},
   "outputs": [],
   "source": [
    "# number = int(input('Enter a num'))\n",
    "# factorial = 1\n",
    "# for i in number:\n",
    "#     if number >0:\n",
    "#         factorial = factorial*i\n",
    "# factorail"
   ]
  },
  {
   "cell_type": "code",
   "execution_count": null,
   "id": "f1794f60",
   "metadata": {},
   "outputs": [],
   "source": [
    "number = int(input())\n",
    "factorial = 1\n",
    "while number > 0:\n",
    "    factorial = factorial*number\n",
    "    number -=1\n",
    "factorial"
   ]
  },
  {
   "cell_type": "code",
   "execution_count": null,
   "id": "939c9570",
   "metadata": {},
   "outputs": [],
   "source": [
    "num = [1,2,3,4,5]\n",
    "square = []\n",
    "\n",
    "while num:\n",
    "    square.append(num**2)\n",
    "square"
   ]
  },
  {
   "cell_type": "code",
   "execution_count": null,
   "id": "34ae7d8f",
   "metadata": {},
   "outputs": [],
   "source": [
    "num = [1,2,3,4,5,6]\n",
    "square = []\n",
    "for i in num:\n",
    "    square.append(i**2)\n",
    "square\n",
    "    "
   ]
  },
  {
   "cell_type": "code",
   "execution_count": null,
   "id": "bf385754",
   "metadata": {},
   "outputs": [],
   "source": [
    "list = [1,2,3,45,6,4,8,9,]\n",
    "[(i**2 ) for i in list]"
   ]
  },
  {
   "cell_type": "code",
   "execution_count": null,
   "id": "1c39acfc",
   "metadata": {},
   "outputs": [],
   "source": [
    "num = [1,2,3,4,5,6]"
   ]
  },
  {
   "cell_type": "code",
   "execution_count": null,
   "id": "b62f77bf",
   "metadata": {},
   "outputs": [],
   "source": [
    "[i**2 for i in num]"
   ]
  },
  {
   "cell_type": "code",
   "execution_count": null,
   "id": "27053b65",
   "metadata": {},
   "outputs": [],
   "source": [
    "[i for i in num if i%2 != 0]"
   ]
  },
  {
   "cell_type": "code",
   "execution_count": null,
   "id": "3f7a130e",
   "metadata": {},
   "outputs": [],
   "source": [
    "ls = ['sudhanshu','pwskills','kumar','dssm']"
   ]
  },
  {
   "cell_type": "code",
   "execution_count": null,
   "id": "efec268c",
   "metadata": {},
   "outputs": [],
   "source": [
    "[i.upper() for i in ls]"
   ]
  },
  {
   "cell_type": "code",
   "execution_count": null,
   "id": "7d57a9a0",
   "metadata": {},
   "outputs": [],
   "source": [
    "upper = []\n",
    "for i in ls:\n",
    "    upper.append(i.upper())\n",
    "upper"
   ]
  },
  {
   "cell_type": "markdown",
   "id": "95f1c239",
   "metadata": {},
   "source": [
    "## Dictionary Comprehension"
   ]
  },
  {
   "cell_type": "code",
   "execution_count": null,
   "id": "b2909632",
   "metadata": {},
   "outputs": [],
   "source": [
    "dic = {'key1':1,'key2':2,'key3':3}"
   ]
  },
  {
   "cell_type": "code",
   "execution_count": null,
   "id": "ac6e6958",
   "metadata": {},
   "outputs": [],
   "source": [
    "dic.items()"
   ]
  },
  {
   "cell_type": "code",
   "execution_count": null,
   "id": "770c7c6f",
   "metadata": {},
   "outputs": [],
   "source": [
    "sq = []\n",
    "for k,v in dic.items():\n",
    "    sq.append(k)\n",
    "    sq.append(v**2)\n",
    "sq"
   ]
  },
  {
   "cell_type": "code",
   "execution_count": null,
   "id": "1426c0bf",
   "metadata": {},
   "outputs": [],
   "source": [
    "[(k,v**2) for k,v in dic.items()]"
   ]
  },
  {
   "cell_type": "code",
   "execution_count": null,
   "id": "696b85c0",
   "metadata": {},
   "outputs": [],
   "source": [
    "((k,v**2) for k,v in dic.items())"
   ]
  },
  {
   "cell_type": "code",
   "execution_count": null,
   "id": "97fc167d",
   "metadata": {},
   "outputs": [],
   "source": [
    "dic.items()"
   ]
  },
  {
   "cell_type": "code",
   "execution_count": null,
   "id": "d96b40ed",
   "metadata": {},
   "outputs": [],
   "source": []
  }
 ],
 "metadata": {
  "kernelspec": {
   "display_name": "Python 3 (ipykernel)",
   "language": "python",
   "name": "python3"
  },
  "language_info": {
   "codemirror_mode": {
    "name": "ipython",
    "version": 3
   },
   "file_extension": ".py",
   "mimetype": "text/x-python",
   "name": "python",
   "nbconvert_exporter": "python",
   "pygments_lexer": "ipython3",
   "version": "3.10.9"
  }
 },
 "nbformat": 4,
 "nbformat_minor": 5
}
