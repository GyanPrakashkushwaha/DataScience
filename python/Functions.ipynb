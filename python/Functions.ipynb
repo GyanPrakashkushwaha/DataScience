{
 "cells": [
  {
   "cell_type": "code",
   "execution_count": 1,
   "id": "6b64556a",
   "metadata": {},
   "outputs": [
    {
     "name": "stdout",
     "output_type": "stream",
     "text": [
      "function\n"
     ]
    }
   ],
   "source": [
    "print('function')"
   ]
  },
  {
   "cell_type": "code",
   "execution_count": 2,
   "id": "649461ec",
   "metadata": {},
   "outputs": [],
   "source": [
    "def func():\n",
    "    print('hello this is my first function')"
   ]
  },
  {
   "cell_type": "code",
   "execution_count": 3,
   "id": "cd819e57",
   "metadata": {},
   "outputs": [
    {
     "name": "stdout",
     "output_type": "stream",
     "text": [
      "hello this is my first function\n"
     ]
    },
    {
     "data": {
      "text/plain": [
       "NoneType"
      ]
     },
     "execution_count": 3,
     "metadata": {},
     "output_type": "execute_result"
    }
   ],
   "source": [
    "type(func())"
   ]
  },
  {
   "cell_type": "code",
   "execution_count": 4,
   "id": "329b6be6",
   "metadata": {},
   "outputs": [],
   "source": [
    "# func() + str('Yes')"
   ]
  },
  {
   "cell_type": "code",
   "execution_count": 5,
   "id": "e2451f23",
   "metadata": {},
   "outputs": [],
   "source": [
    "def func1():\n",
    "    return 'hello this is my first return'"
   ]
  },
  {
   "cell_type": "code",
   "execution_count": 6,
   "id": "6d7ef2c0",
   "metadata": {},
   "outputs": [
    {
     "data": {
      "text/plain": [
       "str"
      ]
     },
     "execution_count": 6,
     "metadata": {},
     "output_type": "execute_result"
    }
   ],
   "source": [
    "type(func1())"
   ]
  },
  {
   "cell_type": "code",
   "execution_count": 7,
   "id": "eb85eacf",
   "metadata": {},
   "outputs": [],
   "source": [
    "def func2():\n",
    "    return 34"
   ]
  },
  {
   "cell_type": "code",
   "execution_count": 8,
   "id": "f6474706",
   "metadata": {},
   "outputs": [
    {
     "data": {
      "text/plain": [
       "int"
      ]
     },
     "execution_count": 8,
     "metadata": {},
     "output_type": "execute_result"
    }
   ],
   "source": [
    "type(func2())"
   ]
  },
  {
   "cell_type": "code",
   "execution_count": 9,
   "id": "917c60a5",
   "metadata": {},
   "outputs": [
    {
     "data": {
      "text/plain": [
       "38"
      ]
     },
     "execution_count": 9,
     "metadata": {},
     "output_type": "execute_result"
    }
   ],
   "source": [
    "func2() +4"
   ]
  },
  {
   "cell_type": "code",
   "execution_count": 10,
   "id": "7aba6e6c",
   "metadata": {},
   "outputs": [],
   "source": [
    "def matrix(a,b):\n",
    "    return set(a+b)"
   ]
  },
  {
   "cell_type": "code",
   "execution_count": 11,
   "id": "b46f1beb",
   "metadata": {},
   "outputs": [
    {
     "data": {
      "text/plain": [
       "{1, 2, 3, 4, 5, 6}"
      ]
     },
     "execution_count": 11,
     "metadata": {},
     "output_type": "execute_result"
    }
   ],
   "source": [
    "matrix([1,2,3],[4,5,6])"
   ]
  },
  {
   "cell_type": "code",
   "execution_count": 12,
   "id": "25eec33f",
   "metadata": {},
   "outputs": [],
   "source": [
    "def int_value(ls):\n",
    "    lss = []\n",
    "    for i in ls:\n",
    "        if type(i) == int:\n",
    "            lss.append(i)\n",
    "    return lss"
   ]
  },
  {
   "cell_type": "code",
   "execution_count": 13,
   "id": "8c7fd95c",
   "metadata": {},
   "outputs": [],
   "source": [
    "l1 = [2,3,4,'34','hello',[1,2,3,4,523,23,43]]"
   ]
  },
  {
   "cell_type": "code",
   "execution_count": 14,
   "id": "541e8061",
   "metadata": {},
   "outputs": [
    {
     "data": {
      "text/plain": [
       "[2, 3, 4]"
      ]
     },
     "execution_count": 14,
     "metadata": {},
     "output_type": "execute_result"
    }
   ],
   "source": [
    "int_value(l1)"
   ]
  },
  {
   "cell_type": "code",
   "execution_count": 15,
   "id": "01cc9d1e",
   "metadata": {},
   "outputs": [],
   "source": [
    "# this does not return same values...\n",
    "\n",
    "def list_underlist(a):\n",
    "    lst = []\n",
    "    for i in a:\n",
    "        if type(i) == list:\n",
    "            for j in i:\n",
    "                lst.append(j)\n",
    "            else:\n",
    "                if type(i) == int :\n",
    "                    lst.append(i)\n",
    "    return lst\n",
    "    "
   ]
  },
  {
   "cell_type": "code",
   "execution_count": 16,
   "id": "f4758185",
   "metadata": {},
   "outputs": [
    {
     "data": {
      "text/plain": [
       "[1, 2, 3, 4, 523, 23, 43]"
      ]
     },
     "execution_count": 16,
     "metadata": {},
     "output_type": "execute_result"
    }
   ],
   "source": [
    "list_underlist(l1)"
   ]
  },
  {
   "cell_type": "code",
   "execution_count": 17,
   "id": "c4e91c75",
   "metadata": {},
   "outputs": [],
   "source": [
    "# this does return same values...\n",
    "\n",
    "def list_underlist_same(a):\n",
    "    lst = []\n",
    "    for i in a:\n",
    "        if type(i) == list:\n",
    "            for j in i:\n",
    "                lst.append(j)\n",
    "        else:\n",
    "            if type(i) == int :\n",
    "                lst.append(i)\n",
    "    return lst\n",
    "    "
   ]
  },
  {
   "cell_type": "code",
   "execution_count": 18,
   "id": "31fd65ce",
   "metadata": {
    "scrolled": true
   },
   "outputs": [
    {
     "data": {
      "text/plain": [
       "[2, 3, 4, 1, 2, 3, 4, 523, 23, 43]"
      ]
     },
     "execution_count": 18,
     "metadata": {},
     "output_type": "execute_result"
    }
   ],
   "source": [
    "list_underlist_same(l1)"
   ]
  },
  {
   "cell_type": "markdown",
   "id": "40840596",
   "metadata": {},
   "source": [
    "## For docString we use \"\"\"\" write something  \"\"\""
   ]
  },
  {
   "cell_type": "code",
   "execution_count": 19,
   "id": "5310a416",
   "metadata": {},
   "outputs": [],
   "source": [
    "\n",
    "def list_underlist_same(a):\n",
    "    \"\"\" this does return same values... \"\"\"\n",
    "    lst = []\n",
    "    for i in a:\n",
    "        if type(i) == list:\n",
    "            for j in i:\n",
    "                lst.append(j)\n",
    "        else:\n",
    "            if type(i) == int :\n",
    "                lst.append(i)\n",
    "    return lst\n",
    "    "
   ]
  },
  {
   "cell_type": "code",
   "execution_count": 20,
   "id": "cce633ea",
   "metadata": {},
   "outputs": [
    {
     "ename": "TypeError",
     "evalue": "list_underlist_same() missing 1 required positional argument: 'a'",
     "output_type": "error",
     "traceback": [
      "\u001b[1;31m---------------------------------------------------------------------------\u001b[0m",
      "\u001b[1;31mTypeError\u001b[0m                                 Traceback (most recent call last)",
      "Cell \u001b[1;32mIn[20], line 1\u001b[0m\n\u001b[1;32m----> 1\u001b[0m \u001b[43mlist_underlist_same\u001b[49m\u001b[43m(\u001b[49m\u001b[43m)\u001b[49m\n",
      "\u001b[1;31mTypeError\u001b[0m: list_underlist_same() missing 1 required positional argument: 'a'"
     ]
    }
   ],
   "source": [
    "list_underlist_same()"
   ]
  },
  {
   "cell_type": "markdown",
   "id": "3703cf43",
   "metadata": {},
   "source": [
    "### TO Pass n number of arguments we write like this"
   ]
  },
  {
   "cell_type": "code",
   "execution_count": 23,
   "id": "dd981356",
   "metadata": {},
   "outputs": [],
   "source": [
    "def n_Number(*args,a):\n",
    "    return args+a  "
   ]
  },
  {
   "cell_type": "code",
   "execution_count": 24,
   "id": "3b087139",
   "metadata": {},
   "outputs": [
    {
     "ename": "TypeError",
     "evalue": "can only concatenate tuple (not \"int\") to tuple",
     "output_type": "error",
     "traceback": [
      "\u001b[1;31m---------------------------------------------------------------------------\u001b[0m",
      "\u001b[1;31mTypeError\u001b[0m                                 Traceback (most recent call last)",
      "Cell \u001b[1;32mIn[24], line 1\u001b[0m\n\u001b[1;32m----> 1\u001b[0m \u001b[43mn_Number\u001b[49m\u001b[43m(\u001b[49m\u001b[38;5;241;43m1\u001b[39;49m\u001b[43m,\u001b[49m\u001b[43ma\u001b[49m\u001b[43m \u001b[49m\u001b[38;5;241;43m=\u001b[39;49m\u001b[43m \u001b[49m\u001b[38;5;241;43m3\u001b[39;49m\u001b[43m)\u001b[49m\n",
      "Cell \u001b[1;32mIn[23], line 2\u001b[0m, in \u001b[0;36mn_Number\u001b[1;34m(a, *args)\u001b[0m\n\u001b[0;32m      1\u001b[0m \u001b[38;5;28;01mdef\u001b[39;00m \u001b[38;5;21mn_Number\u001b[39m(\u001b[38;5;241m*\u001b[39margs,a):\n\u001b[1;32m----> 2\u001b[0m     \u001b[38;5;28;01mreturn\u001b[39;00m \u001b[43margs\u001b[49m\u001b[38;5;241;43m+\u001b[39;49m\u001b[43ma\u001b[49m\n",
      "\u001b[1;31mTypeError\u001b[0m: can only concatenate tuple (not \"int\") to tuple"
     ]
    }
   ],
   "source": [
    "n_Number(1,a = 3)"
   ]
  },
  {
   "cell_type": "code",
   "execution_count": 72,
   "id": "2588cee8",
   "metadata": {},
   "outputs": [
    {
     "ename": "TypeError",
     "evalue": "'int' object is not iterable",
     "output_type": "error",
     "traceback": [
      "\u001b[1;31m---------------------------------------------------------------------------\u001b[0m",
      "\u001b[1;31mTypeError\u001b[0m                                 Traceback (most recent call last)",
      "Cell \u001b[1;32mIn[72], line 1\u001b[0m\n\u001b[1;32m----> 1\u001b[0m \u001b[38;5;28;01mfor\u001b[39;00m i \u001b[38;5;129;01min\u001b[39;00m \u001b[38;5;241m10\u001b[39m:\n\u001b[0;32m      2\u001b[0m     \u001b[38;5;28mprint\u001b[39m()\n",
      "\u001b[1;31mTypeError\u001b[0m: 'int' object is not iterable"
     ]
    }
   ],
   "source": [
    "for i in 10:\n",
    "    print()"
   ]
  },
  {
   "cell_type": "code",
   "execution_count": 73,
   "id": "c83efc01",
   "metadata": {},
   "outputs": [],
   "source": [
    "# num = int(input())\n",
    "def table(num,start,end):\n",
    "    for i in range(start,end):\n",
    "        print(num,'x',i,'=',num*i)\n",
    "        "
   ]
  },
  {
   "cell_type": "code",
   "execution_count": null,
   "id": "039a5fe9",
   "metadata": {},
   "outputs": [],
   "source": []
  },
  {
   "cell_type": "code",
   "execution_count": 67,
   "id": "025a6d67",
   "metadata": {},
   "outputs": [],
   "source": [
    "i = 1\n",
    "def table_while(num,end):\n",
    "    while i <= end:\n",
    "        print(num,'x',i,'=',num*1)\n",
    "        i += 1"
   ]
  },
  {
   "cell_type": "code",
   "execution_count": 69,
   "id": "bd8aac93",
   "metadata": {},
   "outputs": [
    {
     "ename": "UnboundLocalError",
     "evalue": "local variable 'i' referenced before assignment",
     "output_type": "error",
     "traceback": [
      "\u001b[1;31m---------------------------------------------------------------------------\u001b[0m",
      "\u001b[1;31mUnboundLocalError\u001b[0m                         Traceback (most recent call last)",
      "Cell \u001b[1;32mIn[69], line 1\u001b[0m\n\u001b[1;32m----> 1\u001b[0m \u001b[43mtable_while\u001b[49m\u001b[43m(\u001b[49m\u001b[38;5;241;43m1\u001b[39;49m\u001b[43m,\u001b[49m\u001b[38;5;241;43m3\u001b[39;49m\u001b[43m)\u001b[49m\n",
      "Cell \u001b[1;32mIn[67], line 3\u001b[0m, in \u001b[0;36mtable_while\u001b[1;34m(num, end)\u001b[0m\n\u001b[0;32m      2\u001b[0m \u001b[38;5;28;01mdef\u001b[39;00m \u001b[38;5;21mtable_while\u001b[39m(num,end):\n\u001b[1;32m----> 3\u001b[0m     \u001b[38;5;28;01mwhile\u001b[39;00m \u001b[43mi\u001b[49m \u001b[38;5;241m<\u001b[39m\u001b[38;5;241m=\u001b[39m end:\n\u001b[0;32m      4\u001b[0m         \u001b[38;5;28mprint\u001b[39m(num,\u001b[38;5;124m'\u001b[39m\u001b[38;5;124mx\u001b[39m\u001b[38;5;124m'\u001b[39m,i,\u001b[38;5;124m'\u001b[39m\u001b[38;5;124m=\u001b[39m\u001b[38;5;124m'\u001b[39m,num\u001b[38;5;241m*\u001b[39m\u001b[38;5;241m1\u001b[39m)\n\u001b[0;32m      5\u001b[0m         i\u001b[38;5;241m+\u001b[39m\u001b[38;5;241m=\u001b[39m\u001b[38;5;241m1\u001b[39m\n",
      "\u001b[1;31mUnboundLocalError\u001b[0m: local variable 'i' referenced before assignment"
     ]
    }
   ],
   "source": [
    "table_while(1,3)"
   ]
  },
  {
   "cell_type": "code",
   "execution_count": 51,
   "id": "a0b4bc0c",
   "metadata": {},
   "outputs": [
    {
     "name": "stdout",
     "output_type": "stream",
     "text": [
      "4 x 1 = 4\n",
      "4 x 2 = 8\n",
      "4 x 3 = 12\n",
      "4 x 4 = 16\n",
      "4 x 5 = 20\n",
      "4 x 6 = 24\n",
      "4 x 7 = 28\n",
      "4 x 8 = 32\n",
      "4 x 9 = 36\n",
      "4 x 10 = 40\n",
      "4 x 11 = 44\n",
      "4 x 12 = 48\n",
      "4 x 13 = 52\n",
      "4 x 14 = 56\n",
      "4 x 15 = 60\n",
      "4 x 16 = 64\n",
      "4 x 17 = 68\n",
      "4 x 18 = 72\n",
      "4 x 19 = 76\n"
     ]
    }
   ],
   "source": [
    "table(4,1,20)"
   ]
  },
  {
   "cell_type": "code",
   "execution_count": 71,
   "id": "d863cb9e",
   "metadata": {},
   "outputs": [
    {
     "name": "stdout",
     "output_type": "stream",
     "text": [
      "2 x 1 = 2\n",
      "2 x 2 = 4\n",
      "2 x 3 = 6\n",
      "2 x 4 = 8\n",
      "2 x 5 = 10\n",
      "2 x 6 = 12\n",
      "2 x 7 = 14\n",
      "2 x 8 = 16\n",
      "2 x 9 = 18\n",
      "2 x 10 = 20\n",
      "2 x 11 = 22\n",
      "2 x 12 = 24\n",
      "2 x 13 = 26\n",
      "2 x 14 = 28\n",
      "2 x 15 = 30\n",
      "2 x 16 = 32\n",
      "2 x 17 = 34\n",
      "2 x 18 = 36\n",
      "2 x 19 = 38\n",
      "2 x 20 = 40\n",
      "2 x 21 = 42\n",
      "2 x 22 = 44\n",
      "2 x 23 = 46\n",
      "2 x 24 = 48\n",
      "2 x 25 = 50\n",
      "2 x 26 = 52\n",
      "2 x 27 = 54\n",
      "2 x 28 = 56\n",
      "2 x 29 = 58\n",
      "2 x 30 = 60\n"
     ]
    }
   ],
   "source": [
    "table(2,1,31)"
   ]
  },
  {
   "cell_type": "code",
   "execution_count": 40,
   "id": "e9b7f23d",
   "metadata": {},
   "outputs": [
    {
     "ename": "SyntaxError",
     "evalue": "invalid syntax (3077782314.py, line 1)",
     "output_type": "error",
     "traceback": [
      "\u001b[1;36m  Cell \u001b[1;32mIn[40], line 1\u001b[1;36m\u001b[0m\n\u001b[1;33m    2 x 1 = 2\u001b[0m\n\u001b[1;37m      ^\u001b[0m\n\u001b[1;31mSyntaxError\u001b[0m\u001b[1;31m:\u001b[0m invalid syntax\n"
     ]
    }
   ],
   "source": [
    "2 x 1 = 2"
   ]
  },
  {
   "cell_type": "markdown",
   "id": "8e963f25",
   "metadata": {},
   "source": [
    "# Generator Function"
   ]
  },
  {
   "cell_type": "code",
   "execution_count": null,
   "id": "1642e726",
   "metadata": {},
   "outputs": [],
   "source": [
    "In Generator function we must have to have a for loop to print that statement otherwise our statement will not be printed"
   ]
  },
  {
   "cell_type": "code",
   "execution_count": 3,
   "id": "6ee8239c",
   "metadata": {},
   "outputs": [],
   "source": [
    "def tables(num,start,end):\n",
    "    for i in range(start,end):\n",
    "        yield num,'x',i,'=',num*i\n",
    "        "
   ]
  },
  {
   "cell_type": "code",
   "execution_count": 6,
   "id": "4bc52ffd",
   "metadata": {},
   "outputs": [
    {
     "name": "stdout",
     "output_type": "stream",
     "text": [
      "(2, 'x', 1, '=', 2)\n",
      "(2, 'x', 2, '=', 4)\n",
      "(2, 'x', 3, '=', 6)\n",
      "(2, 'x', 4, '=', 8)\n",
      "(2, 'x', 5, '=', 10)\n",
      "(2, 'x', 6, '=', 12)\n",
      "(2, 'x', 7, '=', 14)\n",
      "(2, 'x', 8, '=', 16)\n",
      "(2, 'x', 9, '=', 18)\n",
      "(2, 'x', 10, '=', 20)\n"
     ]
    }
   ],
   "source": [
    "for i in tables(2,1,11):\n",
    "    print(i)"
   ]
  },
  {
   "cell_type": "code",
   "execution_count": 26,
   "id": "1c8522ae",
   "metadata": {},
   "outputs": [],
   "source": [
    "def fib(n):\n",
    "    a,b = 0,1\n",
    "    for i in range(n):\n",
    "        yield a\n",
    "        a,b = b, a+b"
   ]
  },
  {
   "cell_type": "code",
   "execution_count": 27,
   "id": "b34eaa2a",
   "metadata": {},
   "outputs": [
    {
     "name": "stdout",
     "output_type": "stream",
     "text": [
      "0\n",
      "1\n",
      "1\n",
      "2\n",
      "3\n",
      "5\n",
      "8\n",
      "13\n",
      "21\n",
      "34\n"
     ]
    }
   ],
   "source": [
    "for i in fib(10):\n",
    "    print(i)"
   ]
  },
  {
   "cell_type": "code",
   "execution_count": 28,
   "id": "b5055375",
   "metadata": {},
   "outputs": [],
   "source": [
    "def table(a):\n",
    "    for i in range(1,11):\n",
    "        print"
   ]
  },
  {
   "cell_type": "code",
   "execution_count": 29,
   "id": "5c48c11a",
   "metadata": {},
   "outputs": [
    {
     "data": {
      "text/plain": [
       "generator"
      ]
     },
     "execution_count": 29,
     "metadata": {},
     "output_type": "execute_result"
    }
   ],
   "source": [
    "type(fib(3))"
   ]
  },
  {
   "cell_type": "markdown",
   "id": "e2058ae7",
   "metadata": {},
   "source": [
    "Iterable and iterator \n",
    "string is iterable\n",
    "int is not iterable\n",
    "jo iterable hai usi ko iterator me convert kr skte h\n",
    "\n",
    "So hm string ko hii iterator me convert kr skte h.\n",
    "\n",
    "iter() function is used to make string iterable"
   ]
  },
  {
   "cell_type": "markdown",
   "id": "2f4a42e9",
   "metadata": {},
   "source": [
    "## Lambda function"
   ]
  },
  {
   "cell_type": "code",
   "execution_count": 8,
   "id": "db4ddbb9",
   "metadata": {},
   "outputs": [],
   "source": [
    "def square(num,power):\n",
    "    return num**power"
   ]
  },
  {
   "cell_type": "code",
   "execution_count": 11,
   "id": "3e9649dd",
   "metadata": {},
   "outputs": [
    {
     "data": {
      "text/plain": [
       "16"
      ]
     },
     "execution_count": 11,
     "metadata": {},
     "output_type": "execute_result"
    }
   ],
   "source": [
    "square(2,4)"
   ]
  },
  {
   "cell_type": "markdown",
   "id": "1c07f643",
   "metadata": {},
   "source": [
    "### square function using lambda function"
   ]
  },
  {
   "cell_type": "code",
   "execution_count": 12,
   "id": "858dc9b5",
   "metadata": {},
   "outputs": [],
   "source": [
    "square_lambda = lambda num,power : num**power"
   ]
  },
  {
   "cell_type": "code",
   "execution_count": 13,
   "id": "711e739c",
   "metadata": {},
   "outputs": [
    {
     "data": {
      "text/plain": [
       "16"
      ]
     },
     "execution_count": 13,
     "metadata": {},
     "output_type": "execute_result"
    }
   ],
   "source": [
    "square_lambda(2,4)"
   ]
  },
  {
   "cell_type": "code",
   "execution_count": 16,
   "id": "c662ee6e",
   "metadata": {},
   "outputs": [],
   "source": [
    "def finding_max(x,y):\n",
    "    if x > y:\n",
    "        print(x)\n",
    "    else: print(y)"
   ]
  },
  {
   "cell_type": "code",
   "execution_count": 19,
   "id": "09254458",
   "metadata": {},
   "outputs": [
    {
     "name": "stdout",
     "output_type": "stream",
     "text": [
      "5\n"
     ]
    }
   ],
   "source": [
    "finding_max(5,3)"
   ]
  },
  {
   "cell_type": "code",
   "execution_count": 26,
   "id": "1d1c86cc",
   "metadata": {},
   "outputs": [],
   "source": [
    "finding_maxlambda = lambda x,y:xif x>y else print(y)"
   ]
  },
  {
   "cell_type": "code",
   "execution_count": 27,
   "id": "7bccda51",
   "metadata": {},
   "outputs": [
    {
     "name": "stdout",
     "output_type": "stream",
     "text": [
      "65\n"
     ]
    }
   ],
   "source": [
    "finding_maxlambda(34,65)"
   ]
  },
  {
   "cell_type": "code",
   "execution_count": 46,
   "id": "633a2900",
   "metadata": {},
   "outputs": [],
   "source": [
    "ls = [1,2,3,4,5,6,7,8,9,10]"
   ]
  },
  {
   "cell_type": "code",
   "execution_count": 17,
   "id": "b410035e",
   "metadata": {},
   "outputs": [],
   "source": [
    "def sqr(a):\n",
    "    ls1 = []\n",
    "    for i in a:\n",
    "        ls1.append(i**2)\n",
    "    return ls1\n"
   ]
  },
  {
   "cell_type": "code",
   "execution_count": 18,
   "id": "1392ea0b",
   "metadata": {},
   "outputs": [
    {
     "data": {
      "text/plain": [
       "[1, 4, 9, 16, 25, 36, 49, 64]"
      ]
     },
     "execution_count": 18,
     "metadata": {},
     "output_type": "execute_result"
    }
   ],
   "source": [
    "sqr(ls)"
   ]
  },
  {
   "cell_type": "markdown",
   "id": "edcba704",
   "metadata": {},
   "source": [
    "## Map function\n",
    "### jb hm kissi list pe koii action perform krte h tb instead of using this code \n",
    "def sqr(a):\n",
    "    ls1 = []\n",
    "    for i in a:\n",
    "        ls1.append(i**2)\n",
    "    return ls1\n",
    "### we can simply"
   ]
  },
  {
   "cell_type": "code",
   "execution_count": 22,
   "id": "cf32652e",
   "metadata": {},
   "outputs": [],
   "source": [
    "def sqr_map(b):\n",
    "    return b**2\n",
    " "
   ]
  },
  {
   "cell_type": "code",
   "execution_count": 24,
   "id": "b7ff6dbc",
   "metadata": {},
   "outputs": [
    {
     "data": {
      "text/plain": [
       "[1, 4, 9, 16, 25, 36, 49, 64]"
      ]
     },
     "execution_count": 24,
     "metadata": {},
     "output_type": "execute_result"
    }
   ],
   "source": [
    "list(map(sqr_map,ls))"
   ]
  },
  {
   "cell_type": "code",
   "execution_count": 25,
   "id": "4ce9ea19",
   "metadata": {},
   "outputs": [],
   "source": [
    "l1 = [1,2,3,4,5]\n",
    "l2 = [6,7,8,9,10]"
   ]
  },
  {
   "cell_type": "code",
   "execution_count": 36,
   "id": "29e055c2",
   "metadata": {},
   "outputs": [],
   "source": [
    "def sum_list(list1,list2):\n",
    "    return (list1+list2)"
   ]
  },
  {
   "cell_type": "code",
   "execution_count": 37,
   "id": "4ebf8f3a",
   "metadata": {},
   "outputs": [
    {
     "data": {
      "text/plain": [
       "[7, 9, 11, 13, 15]"
      ]
     },
     "execution_count": 37,
     "metadata": {},
     "output_type": "execute_result"
    }
   ],
   "source": [
    "list(map(sum_list,l1,l2))"
   ]
  },
  {
   "cell_type": "markdown",
   "id": "2826cec8",
   "metadata": {},
   "source": [
    "### Reduce function\n",
    " reduce function reduces the complete list and give a single entity"
   ]
  },
  {
   "cell_type": "code",
   "execution_count": 47,
   "id": "e3d410ae",
   "metadata": {},
   "outputs": [
    {
     "data": {
      "text/plain": [
       "55"
      ]
     },
     "execution_count": 47,
     "metadata": {},
     "output_type": "execute_result"
    }
   ],
   "source": [
    "sum(ls)"
   ]
  },
  {
   "cell_type": "code",
   "execution_count": 39,
   "id": "e41e316c",
   "metadata": {},
   "outputs": [],
   "source": [
    "from functools import reduce"
   ]
  },
  {
   "cell_type": "code",
   "execution_count": 40,
   "id": "4f07d4d0",
   "metadata": {},
   "outputs": [],
   "source": [
    "def sums(ls3,ls4):\n",
    "    return ls3+ls4"
   ]
  },
  {
   "cell_type": "code",
   "execution_count": 48,
   "id": "c56f2b47",
   "metadata": {},
   "outputs": [
    {
     "data": {
      "text/plain": [
       "55"
      ]
     },
     "execution_count": 48,
     "metadata": {},
     "output_type": "execute_result"
    }
   ],
   "source": [
    "reduce(sums,ls)"
   ]
  },
  {
   "cell_type": "code",
   "execution_count": 50,
   "id": "0562405f",
   "metadata": {},
   "outputs": [
    {
     "data": {
      "text/plain": [
       "[1, 4, 9, 16, 25, 36, 49, 64, 81, 100]"
      ]
     },
     "execution_count": 50,
     "metadata": {},
     "output_type": "execute_result"
    }
   ],
   "source": [
    "ls = [1,2,3,4,5,6,7,8,9,10]\n",
    "def sqares(a):\n",
    "    return a**2\n",
    "list(map(sqares,ls))"
   ]
  },
  {
   "cell_type": "code",
   "execution_count": 52,
   "id": "1c94b6cc",
   "metadata": {},
   "outputs": [
    {
     "name": "stdout",
     "output_type": "stream",
     "text": [
      "120\n"
     ]
    }
   ],
   "source": [
    "nums = [1,2,3,4,5]\n",
    "product = reduce(lambda x,y:x*y,nums)\n",
    "print(product)"
   ]
  },
  {
   "cell_type": "code",
   "execution_count": null,
   "id": "62853dad",
   "metadata": {},
   "outputs": [],
   "source": []
  }
 ],
 "metadata": {
  "kernelspec": {
   "display_name": "Python 3 (ipykernel)",
   "language": "python",
   "name": "python3"
  },
  "language_info": {
   "codemirror_mode": {
    "name": "ipython",
    "version": 3
   },
   "file_extension": ".py",
   "mimetype": "text/x-python",
   "name": "python",
   "nbconvert_exporter": "python",
   "pygments_lexer": "ipython3",
   "version": "3.11.2"
  },
  "varInspector": {
   "cols": {
    "lenName": 16,
    "lenType": 16,
    "lenVar": 40
   },
   "kernels_config": {
    "python": {
     "delete_cmd_postfix": "",
     "delete_cmd_prefix": "del ",
     "library": "var_list.py",
     "varRefreshCmd": "print(var_dic_list())"
    },
    "r": {
     "delete_cmd_postfix": ") ",
     "delete_cmd_prefix": "rm(",
     "library": "var_list.r",
     "varRefreshCmd": "cat(var_dic_list()) "
    }
   },
   "types_to_exclude": [
    "module",
    "function",
    "builtin_function_or_method",
    "instance",
    "_Feature"
   ],
   "window_display": false
  }
 },
 "nbformat": 4,
 "nbformat_minor": 5
}
