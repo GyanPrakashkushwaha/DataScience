{
  "cells": [
    {
      "cell_type": "code",
      "execution_count": 29,
      "metadata": {
        "id": "YC_YCbcl9yA7"
      },
      "outputs": [],
      "source": [
        "import numpy as np\n",
        "import pandas as pd\n",
        "import matplotlib.pyplot as plt\n",
        "import seaborn as sns\n",
        "from sklearn.preprocessing import LabelEncoder"
      ]
    },
    {
      "cell_type": "code",
      "execution_count": 58,
      "metadata": {},
      "outputs": [
        {
          "name": "stderr",
          "output_type": "stream",
          "text": [
            "C:\\Users\\Gyanprakash\\AppData\\Local\\Temp\\ipykernel_25332\\2548039824.py:4: SettingWithCopyWarning: \n",
            "A value is trying to be set on a copy of a slice from a DataFrame\n",
            "\n",
            "See the caveats in the documentation: https://pandas.pydata.org/pandas-docs/stable/user_guide/indexing.html#returning-a-view-versus-a-copy\n",
            "  df.rename(columns={\n"
          ]
        },
        {
          "data": {
            "text/plain": [
              "class\n",
              "0    50\n",
              "1    50\n",
              "Name: count, dtype: int64"
            ]
          },
          "execution_count": 58,
          "metadata": {},
          "output_type": "execute_result"
        }
      ],
      "source": [
        "data = sns.load_dataset('iris')\n",
        "data['species']=LabelEncoder().fit_transform(data['species'])\n",
        "df = data[['sepal_length','sepal_width','species']]\n",
        "df.rename(columns={\n",
        "    'sepal_length' : 'X',\n",
        "    'sepal_width' : 'Y',\n",
        "    'species':'class'\n",
        "},inplace=True)\n",
        "df = df.iloc[:100,:]\n",
        "df['class'].value_counts()"
      ]
    },
    {
      "cell_type": "code",
      "execution_count": 59,
      "metadata": {
        "colab": {
          "base_uri": "https://localhost:8080/",
          "height": 283
        },
        "id": "KVbkKlS-99gs",
        "outputId": "46d5a378-eccb-4a2e-ce2d-7143df80f6af"
      },
      "outputs": [
        {
          "data": {
            "text/plain": [
              "<matplotlib.collections.PathCollection at 0x2251714fe90>"
            ]
          },
          "execution_count": 59,
          "metadata": {},
          "output_type": "execute_result"
        },
        {
          "data": {
            "image/png": "[encoded data removed]",
            "text/plain": [
              "<Figure size 640x480 with 1 Axes>"
            ]
          },
          "metadata": {},
          "output_type": "display_data"
        }
      ],
      "source": [
        "plt.scatter(df['X'],df['Y'],c=df['class'])"
      ]
    },
    {
      "cell_type": "code",
      "execution_count": 35,
      "metadata": {
        "id": "BPpZ6mRf9_qA"
      },
      "outputs": [],
      "source": [
        "X = df.iloc[:,0:2].values\n",
        "y = df.iloc[:,-1].values"
      ]
    },
    {
      "cell_type": "code",
      "execution_count": 36,
      "metadata": {
        "id": "E13lMXmx-CDz"
      },
      "outputs": [],
      "source": [
        "import tensorflow\n",
        "from tensorflow import keras\n",
        "from keras import Sequential\n",
        "from keras.layers import Dense"
      ]
    },
    {
      "cell_type": "code",
      "execution_count": 37,
      "metadata": {
        "colab": {
          "base_uri": "https://localhost:8080/"
        },
        "id": "P_nzBqUm-Dns",
        "outputId": "00803555-bd19-49d6-a09c-0a41de71e3da"
      },
      "outputs": [
        {
          "name": "stdout",
          "output_type": "stream",
          "text": [
            "Model: \"sequential_1\"\n",
            "_________________________________________________________________\n",
            " Layer (type)                Output Shape              Param #   \n",
            "=================================================================\n",
            " dense_2 (Dense)             (None, 2)                 6         \n",
            "                                                                 \n",
            " dense_3 (Dense)             (None, 1)                 3         \n",
            "                                                                 \n",
            "=================================================================\n",
            "Total params: 9\n",
            "Trainable params: 9\n",
            "Non-trainable params: 0\n",
            "_________________________________________________________________\n"
          ]
        }
      ],
      "source": [
        "model = Sequential()\n",
        "\n",
        "model.add(Dense(2,activation='sigmoid',input_dim=2))\n",
        "model.add(Dense(1,activation='sigmoid'))\n",
        "\n",
        "model.summary()"
      ]
    },
    {
      "cell_type": "code",
      "execution_count": 38,
      "metadata": {
        "colab": {
          "base_uri": "https://localhost:8080/"
        },
        "id": "wXs48yrJ-GXs",
        "outputId": "67370896-59b5-4c40-8055-8a359a1a3f29"
      },
      "outputs": [
        {
          "data": {
            "text/plain": [
              "[array([[-0.9768455 , -0.7179942 ],\n",
              "        [ 0.52250123,  0.4905361 ]], dtype=float32),\n",
              " array([0., 0.], dtype=float32),\n",
              " array([[-0.5528395],\n",
              "        [-0.6759822]], dtype=float32),\n",
              " array([0.], dtype=float32)]"
            ]
          },
          "execution_count": 38,
          "metadata": {},
          "output_type": "execute_result"
        }
      ],
      "source": [
        "# Set parameters to 0\n",
        "model.get_weights()"
      ]
    },
    {
      "cell_type": "code",
      "execution_count": 39,
      "metadata": {
        "id": "yXrsB0yU-IYQ"
      },
      "outputs": [],
      "source": [
        "initial_weights = model.get_weights()"
      ]
    },
    {
      "cell_type": "code",
      "execution_count": 47,
      "metadata": {
        "id": "pb-4D-yS-Liy"
      },
      "outputs": [],
      "source": [
        "initial_weights[0] = np.ones(model.get_weights()[0].shape)*0.5\n",
        "initial_weights[1] = np.ones(model.get_weights()[1].shape)*0.5\n",
        "initial_weights[2] = np.ones(model.get_weights()[2].shape)*0.5\n",
        "initial_weights[3] = np.ones(model.get_weights()[3].shape)*0.5"
      ]
    },
    {
      "cell_type": "code",
      "execution_count": 49,
      "metadata": {
        "id": "KwJ0w-tV-M-_"
      },
      "outputs": [],
      "source": [
        "model.set_weights(initial_weights)"
      ]
    },
    {
      "cell_type": "code",
      "execution_count": 51,
      "metadata": {
        "colab": {
          "base_uri": "https://localhost:8080/"
        },
        "id": "IAE0Z2tQ-OiD",
        "outputId": "511bb415-77c2-4dcf-e88c-8a027a80c533"
      },
      "outputs": [
        {
          "data": {
            "text/plain": [
              "[array([[0., 0.],\n",
              "        [0., 0.]], dtype=float32),\n",
              " array([0., 0.], dtype=float32),\n",
              " array([[0.],\n",
              "        [0.]], dtype=float32),\n",
              " array([0.], dtype=float32)]"
            ]
          },
          "execution_count": 51,
          "metadata": {},
          "output_type": "execute_result"
        }
      ],
      "source": [
        "model.get_weights()"
      ]
    },
    {
      "cell_type": "code",
      "execution_count": 54,
      "metadata": {
        "id": "3KK0NrQv-QEb"
      },
      "outputs": [],
      "source": [
        "model.compile(loss='binary_crossentropy',optimizer='adam',metrics=['accuracy'])"
      ]
    },
    {
      "cell_type": "code",
      "execution_count": 55,
      "metadata": {
        "colab": {
          "base_uri": "https://localhost:8080/"
        },
        "id": "afeyldW8-SBH",
        "outputId": "24ce3dd6-4af0-4306-90de-69849e15c6d4"
      },
      "outputs": [
        {
          "name": "stdout",
          "output_type": "stream",
          "text": [
            "Epoch 1/100\n",
            "3/3 [==============================] - 1s 111ms/step - loss: 0.6930 - accuracy: 0.6250 - val_loss: 0.6958 - val_accuracy: 0.0000e+00\n",
            "Epoch 2/100\n",
            "3/3 [==============================] - 0s 26ms/step - loss: 0.6923 - accuracy: 0.6250 - val_loss: 0.6984 - val_accuracy: 0.0000e+00\n",
            "Epoch 3/100\n",
            "3/3 [==============================] - 0s 23ms/step - loss: 0.6918 - accuracy: 0.6250 - val_loss: 0.7009 - val_accuracy: 0.0000e+00\n",
            "Epoch 4/100\n",
            "3/3 [==============================] - 0s 24ms/step - loss: 0.6911 - accuracy: 0.6250 - val_loss: 0.7033 - val_accuracy: 0.0000e+00\n",
            "Epoch 5/100\n",
            "3/3 [==============================] - 0s 20ms/step - loss: 0.6904 - accuracy: 0.6250 - val_loss: 0.7056 - val_accuracy: 0.0000e+00\n",
            "Epoch 6/100\n",
            "3/3 [==============================] - 0s 21ms/step - loss: 0.6900 - accuracy: 0.6250 - val_loss: 0.7081 - val_accuracy: 0.0000e+00\n",
            "Epoch 7/100\n",
            "3/3 [==============================] - 0s 31ms/step - loss: 0.6893 - accuracy: 0.6250 - val_loss: 0.7105 - val_accuracy: 0.0000e+00\n",
            "Epoch 8/100\n",
            "3/3 [==============================] - 0s 31ms/step - loss: 0.6889 - accuracy: 0.6250 - val_loss: 0.7130 - val_accuracy: 0.0000e+00\n",
            "Epoch 9/100\n",
            "3/3 [==============================] - 0s 26ms/step - loss: 0.6883 - accuracy: 0.6250 - val_loss: 0.7156 - val_accuracy: 0.0000e+00\n",
            "Epoch 10/100\n",
            "3/3 [==============================] - 0s 26ms/step - loss: 0.6876 - accuracy: 0.6250 - val_loss: 0.7180 - val_accuracy: 0.0000e+00\n",
            "Epoch 11/100\n",
            "3/3 [==============================] - 0s 20ms/step - loss: 0.6873 - accuracy: 0.6250 - val_loss: 0.7206 - val_accuracy: 0.0000e+00\n",
            "Epoch 12/100\n",
            "3/3 [==============================] - 0s 25ms/step - loss: 0.6865 - accuracy: 0.6250 - val_loss: 0.7229 - val_accuracy: 0.0000e+00\n",
            "Epoch 13/100\n",
            "3/3 [==============================] - 0s 22ms/step - loss: 0.6859 - accuracy: 0.6250 - val_loss: 0.7254 - val_accuracy: 0.0000e+00\n",
            "Epoch 14/100\n",
            "3/3 [==============================] - 0s 21ms/step - loss: 0.6856 - accuracy: 0.6250 - val_loss: 0.7282 - val_accuracy: 0.0000e+00\n",
            "Epoch 15/100\n",
            "3/3 [==============================] - 0s 26ms/step - loss: 0.6850 - accuracy: 0.6250 - val_loss: 0.7310 - val_accuracy: 0.0000e+00\n",
            "Epoch 16/100\n",
            "3/3 [==============================] - 0s 31ms/step - loss: 0.6843 - accuracy: 0.6250 - val_loss: 0.7338 - val_accuracy: 0.0000e+00\n",
            "Epoch 17/100\n",
            "3/3 [==============================] - 0s 26ms/step - loss: 0.6837 - accuracy: 0.6250 - val_loss: 0.7368 - val_accuracy: 0.0000e+00\n",
            "Epoch 18/100\n",
            "3/3 [==============================] - 0s 30ms/step - loss: 0.6831 - accuracy: 0.6250 - val_loss: 0.7398 - val_accuracy: 0.0000e+00\n",
            "Epoch 19/100\n",
            "3/3 [==============================] - 0s 29ms/step - loss: 0.6826 - accuracy: 0.6250 - val_loss: 0.7430 - val_accuracy: 0.0000e+00\n",
            "Epoch 20/100\n",
            "3/3 [==============================] - 0s 30ms/step - loss: 0.6820 - accuracy: 0.6250 - val_loss: 0.7460 - val_accuracy: 0.0000e+00\n",
            "Epoch 21/100\n",
            "3/3 [==============================] - 0s 21ms/step - loss: 0.6814 - accuracy: 0.6250 - val_loss: 0.7489 - val_accuracy: 0.0000e+00\n",
            "Epoch 22/100\n",
            "3/3 [==============================] - 0s 24ms/step - loss: 0.6808 - accuracy: 0.6250 - val_loss: 0.7518 - val_accuracy: 0.0000e+00\n",
            "Epoch 23/100\n",
            "3/3 [==============================] - 0s 19ms/step - loss: 0.6804 - accuracy: 0.6250 - val_loss: 0.7550 - val_accuracy: 0.0000e+00\n",
            "Epoch 24/100\n",
            "3/3 [==============================] - 0s 23ms/step - loss: 0.6799 - accuracy: 0.6250 - val_loss: 0.7580 - val_accuracy: 0.0000e+00\n",
            "Epoch 25/100\n",
            "3/3 [==============================] - 0s 25ms/step - loss: 0.6792 - accuracy: 0.6250 - val_loss: 0.7607 - val_accuracy: 0.0000e+00\n",
            "Epoch 26/100\n",
            "3/3 [==============================] - 0s 21ms/step - loss: 0.6787 - accuracy: 0.6250 - val_loss: 0.7635 - val_accuracy: 0.0000e+00\n",
            "Epoch 27/100\n",
            "3/3 [==============================] - 0s 23ms/step - loss: 0.6782 - accuracy: 0.6250 - val_loss: 0.7666 - val_accuracy: 0.0000e+00\n",
            "Epoch 28/100\n",
            "3/3 [==============================] - 0s 25ms/step - loss: 0.6777 - accuracy: 0.6250 - val_loss: 0.7698 - val_accuracy: 0.0000e+00\n",
            "Epoch 29/100\n",
            "3/3 [==============================] - 0s 16ms/step - loss: 0.6772 - accuracy: 0.6250 - val_loss: 0.7730 - val_accuracy: 0.0000e+00\n",
            "Epoch 30/100\n",
            "3/3 [==============================] - 0s 21ms/step - loss: 0.6768 - accuracy: 0.6250 - val_loss: 0.7761 - val_accuracy: 0.0000e+00\n",
            "Epoch 31/100\n",
            "3/3 [==============================] - 0s 30ms/step - loss: 0.6762 - accuracy: 0.6250 - val_loss: 0.7790 - val_accuracy: 0.0000e+00\n",
            "Epoch 32/100\n",
            "3/3 [==============================] - 0s 20ms/step - loss: 0.6757 - accuracy: 0.6250 - val_loss: 0.7821 - val_accuracy: 0.0000e+00\n",
            "Epoch 33/100\n",
            "3/3 [==============================] - 0s 22ms/step - loss: 0.6754 - accuracy: 0.6250 - val_loss: 0.7853 - val_accuracy: 0.0000e+00\n",
            "Epoch 34/100\n",
            "3/3 [==============================] - 0s 21ms/step - loss: 0.6747 - accuracy: 0.6250 - val_loss: 0.7881 - val_accuracy: 0.0000e+00\n",
            "Epoch 35/100\n",
            "3/3 [==============================] - 0s 32ms/step - loss: 0.6745 - accuracy: 0.6250 - val_loss: 0.7915 - val_accuracy: 0.0000e+00\n",
            "Epoch 36/100\n",
            "3/3 [==============================] - 0s 19ms/step - loss: 0.6739 - accuracy: 0.6250 - val_loss: 0.7942 - val_accuracy: 0.0000e+00\n",
            "Epoch 37/100\n",
            "3/3 [==============================] - 0s 23ms/step - loss: 0.6736 - accuracy: 0.6250 - val_loss: 0.7968 - val_accuracy: 0.0000e+00\n",
            "Epoch 38/100\n",
            "3/3 [==============================] - 0s 24ms/step - loss: 0.6731 - accuracy: 0.6250 - val_loss: 0.7990 - val_accuracy: 0.0000e+00\n",
            "Epoch 39/100\n",
            "3/3 [==============================] - 0s 21ms/step - loss: 0.6728 - accuracy: 0.6250 - val_loss: 0.8017 - val_accuracy: 0.0000e+00\n",
            "Epoch 40/100\n",
            "3/3 [==============================] - 0s 20ms/step - loss: 0.6725 - accuracy: 0.6250 - val_loss: 0.8044 - val_accuracy: 0.0000e+00\n",
            "Epoch 41/100\n",
            "3/3 [==============================] - 0s 22ms/step - loss: 0.6721 - accuracy: 0.6250 - val_loss: 0.8070 - val_accuracy: 0.0000e+00\n",
            "Epoch 42/100\n",
            "3/3 [==============================] - 0s 18ms/step - loss: 0.6718 - accuracy: 0.6250 - val_loss: 0.8095 - val_accuracy: 0.0000e+00\n",
            "Epoch 43/100\n",
            "3/3 [==============================] - 0s 23ms/step - loss: 0.6715 - accuracy: 0.6250 - val_loss: 0.8117 - val_accuracy: 0.0000e+00\n",
            "Epoch 44/100\n",
            "3/3 [==============================] - 0s 20ms/step - loss: 0.6711 - accuracy: 0.6250 - val_loss: 0.8138 - val_accuracy: 0.0000e+00\n",
            "Epoch 45/100\n",
            "3/3 [==============================] - 0s 22ms/step - loss: 0.6708 - accuracy: 0.6250 - val_loss: 0.8163 - val_accuracy: 0.0000e+00\n",
            "Epoch 46/100\n",
            "3/3 [==============================] - 0s 19ms/step - loss: 0.6706 - accuracy: 0.6250 - val_loss: 0.8189 - val_accuracy: 0.0000e+00\n",
            "Epoch 47/100\n",
            "3/3 [==============================] - 0s 19ms/step - loss: 0.6702 - accuracy: 0.6250 - val_loss: 0.8216 - val_accuracy: 0.0000e+00\n",
            "Epoch 48/100\n",
            "3/3 [==============================] - 0s 20ms/step - loss: 0.6698 - accuracy: 0.6250 - val_loss: 0.8243 - val_accuracy: 0.0000e+00\n",
            "Epoch 49/100\n",
            "3/3 [==============================] - 0s 16ms/step - loss: 0.6697 - accuracy: 0.6250 - val_loss: 0.8274 - val_accuracy: 0.0000e+00\n",
            "Epoch 50/100\n",
            "3/3 [==============================] - 0s 23ms/step - loss: 0.6692 - accuracy: 0.6250 - val_loss: 0.8300 - val_accuracy: 0.0000e+00\n",
            "Epoch 51/100\n",
            "3/3 [==============================] - 0s 21ms/step - loss: 0.6691 - accuracy: 0.6250 - val_loss: 0.8328 - val_accuracy: 0.0000e+00\n",
            "Epoch 52/100\n",
            "3/3 [==============================] - 0s 23ms/step - loss: 0.6686 - accuracy: 0.6250 - val_loss: 0.8350 - val_accuracy: 0.0000e+00\n",
            "Epoch 53/100\n",
            "3/3 [==============================] - 0s 19ms/step - loss: 0.6684 - accuracy: 0.6250 - val_loss: 0.8372 - val_accuracy: 0.0000e+00\n",
            "Epoch 54/100\n",
            "3/3 [==============================] - 0s 24ms/step - loss: 0.6681 - accuracy: 0.6250 - val_loss: 0.8395 - val_accuracy: 0.0000e+00\n",
            "Epoch 55/100\n",
            "3/3 [==============================] - 0s 20ms/step - loss: 0.6680 - accuracy: 0.6250 - val_loss: 0.8423 - val_accuracy: 0.0000e+00\n",
            "Epoch 56/100\n",
            "3/3 [==============================] - 0s 21ms/step - loss: 0.6676 - accuracy: 0.6250 - val_loss: 0.8448 - val_accuracy: 0.0000e+00\n",
            "Epoch 57/100\n",
            "3/3 [==============================] - 0s 20ms/step - loss: 0.6673 - accuracy: 0.6250 - val_loss: 0.8472 - val_accuracy: 0.0000e+00\n",
            "Epoch 58/100\n",
            "3/3 [==============================] - 0s 21ms/step - loss: 0.6670 - accuracy: 0.6250 - val_loss: 0.8495 - val_accuracy: 0.0000e+00\n",
            "Epoch 59/100\n",
            "3/3 [==============================] - 0s 39ms/step - loss: 0.6669 - accuracy: 0.6250 - val_loss: 0.8521 - val_accuracy: 0.0000e+00\n",
            "Epoch 60/100\n",
            "3/3 [==============================] - 0s 17ms/step - loss: 0.6666 - accuracy: 0.6250 - val_loss: 0.8546 - val_accuracy: 0.0000e+00\n",
            "Epoch 61/100\n",
            "3/3 [==============================] - 0s 20ms/step - loss: 0.6665 - accuracy: 0.6250 - val_loss: 0.8573 - val_accuracy: 0.0000e+00\n",
            "Epoch 62/100\n",
            "3/3 [==============================] - 0s 17ms/step - loss: 0.6662 - accuracy: 0.6250 - val_loss: 0.8595 - val_accuracy: 0.0000e+00\n",
            "Epoch 63/100\n",
            "3/3 [==============================] - 0s 16ms/step - loss: 0.6659 - accuracy: 0.6250 - val_loss: 0.8614 - val_accuracy: 0.0000e+00\n",
            "Epoch 64/100\n",
            "3/3 [==============================] - 0s 23ms/step - loss: 0.6657 - accuracy: 0.6250 - val_loss: 0.8635 - val_accuracy: 0.0000e+00\n",
            "Epoch 65/100\n",
            "3/3 [==============================] - 0s 19ms/step - loss: 0.6655 - accuracy: 0.6250 - val_loss: 0.8659 - val_accuracy: 0.0000e+00\n",
            "Epoch 66/100\n",
            "3/3 [==============================] - 0s 25ms/step - loss: 0.6653 - accuracy: 0.6250 - val_loss: 0.8686 - val_accuracy: 0.0000e+00\n",
            "Epoch 67/100\n",
            "3/3 [==============================] - 0s 21ms/step - loss: 0.6652 - accuracy: 0.6250 - val_loss: 0.8712 - val_accuracy: 0.0000e+00\n",
            "Epoch 68/100\n",
            "3/3 [==============================] - 0s 17ms/step - loss: 0.6650 - accuracy: 0.6250 - val_loss: 0.8732 - val_accuracy: 0.0000e+00\n",
            "Epoch 69/100\n",
            "3/3 [==============================] - 0s 22ms/step - loss: 0.6647 - accuracy: 0.6250 - val_loss: 0.8749 - val_accuracy: 0.0000e+00\n",
            "Epoch 70/100\n",
            "3/3 [==============================] - 0s 18ms/step - loss: 0.6646 - accuracy: 0.6250 - val_loss: 0.8768 - val_accuracy: 0.0000e+00\n",
            "Epoch 71/100\n",
            "3/3 [==============================] - 0s 19ms/step - loss: 0.6645 - accuracy: 0.6250 - val_loss: 0.8787 - val_accuracy: 0.0000e+00\n",
            "Epoch 72/100\n",
            "3/3 [==============================] - 0s 18ms/step - loss: 0.6643 - accuracy: 0.6250 - val_loss: 0.8802 - val_accuracy: 0.0000e+00\n",
            "Epoch 73/100\n",
            "3/3 [==============================] - 0s 19ms/step - loss: 0.6642 - accuracy: 0.6250 - val_loss: 0.8815 - val_accuracy: 0.0000e+00\n",
            "Epoch 74/100\n",
            "3/3 [==============================] - 0s 18ms/step - loss: 0.6640 - accuracy: 0.6250 - val_loss: 0.8828 - val_accuracy: 0.0000e+00\n",
            "Epoch 75/100\n",
            "3/3 [==============================] - 0s 18ms/step - loss: 0.6640 - accuracy: 0.6250 - val_loss: 0.8844 - val_accuracy: 0.0000e+00\n",
            "Epoch 76/100\n",
            "3/3 [==============================] - 0s 24ms/step - loss: 0.6638 - accuracy: 0.6250 - val_loss: 0.8858 - val_accuracy: 0.0000e+00\n",
            "Epoch 77/100\n",
            "3/3 [==============================] - 0s 21ms/step - loss: 0.6637 - accuracy: 0.6250 - val_loss: 0.8875 - val_accuracy: 0.0000e+00\n",
            "Epoch 78/100\n",
            "3/3 [==============================] - 0s 16ms/step - loss: 0.6635 - accuracy: 0.6250 - val_loss: 0.8887 - val_accuracy: 0.0000e+00\n",
            "Epoch 79/100\n",
            "3/3 [==============================] - 0s 23ms/step - loss: 0.6634 - accuracy: 0.6250 - val_loss: 0.8902 - val_accuracy: 0.0000e+00\n",
            "Epoch 80/100\n",
            "3/3 [==============================] - 0s 16ms/step - loss: 0.6634 - accuracy: 0.6250 - val_loss: 0.8923 - val_accuracy: 0.0000e+00\n",
            "Epoch 81/100\n",
            "3/3 [==============================] - 0s 21ms/step - loss: 0.6632 - accuracy: 0.6250 - val_loss: 0.8941 - val_accuracy: 0.0000e+00\n",
            "Epoch 82/100\n",
            "3/3 [==============================] - 0s 16ms/step - loss: 0.6630 - accuracy: 0.6250 - val_loss: 0.8957 - val_accuracy: 0.0000e+00\n",
            "Epoch 83/100\n",
            "3/3 [==============================] - 0s 30ms/step - loss: 0.6629 - accuracy: 0.6250 - val_loss: 0.8973 - val_accuracy: 0.0000e+00\n",
            "Epoch 84/100\n",
            "3/3 [==============================] - 0s 18ms/step - loss: 0.6627 - accuracy: 0.6250 - val_loss: 0.8991 - val_accuracy: 0.0000e+00\n",
            "Epoch 85/100\n",
            "3/3 [==============================] - 0s 17ms/step - loss: 0.6627 - accuracy: 0.6250 - val_loss: 0.9012 - val_accuracy: 0.0000e+00\n",
            "Epoch 86/100\n",
            "3/3 [==============================] - 0s 16ms/step - loss: 0.6625 - accuracy: 0.6250 - val_loss: 0.9027 - val_accuracy: 0.0000e+00\n",
            "Epoch 87/100\n",
            "3/3 [==============================] - 0s 26ms/step - loss: 0.6624 - accuracy: 0.6250 - val_loss: 0.9043 - val_accuracy: 0.0000e+00\n",
            "Epoch 88/100\n",
            "3/3 [==============================] - 0s 20ms/step - loss: 0.6623 - accuracy: 0.6250 - val_loss: 0.9057 - val_accuracy: 0.0000e+00\n",
            "Epoch 89/100\n",
            "3/3 [==============================] - 0s 20ms/step - loss: 0.6622 - accuracy: 0.6250 - val_loss: 0.9071 - val_accuracy: 0.0000e+00\n",
            "Epoch 90/100\n",
            "3/3 [==============================] - 0s 24ms/step - loss: 0.6621 - accuracy: 0.6250 - val_loss: 0.9087 - val_accuracy: 0.0000e+00\n",
            "Epoch 91/100\n",
            "3/3 [==============================] - 0s 23ms/step - loss: 0.6620 - accuracy: 0.6250 - val_loss: 0.9104 - val_accuracy: 0.0000e+00\n",
            "Epoch 92/100\n",
            "3/3 [==============================] - 0s 24ms/step - loss: 0.6619 - accuracy: 0.6250 - val_loss: 0.9119 - val_accuracy: 0.0000e+00\n",
            "Epoch 93/100\n",
            "3/3 [==============================] - 0s 21ms/step - loss: 0.6618 - accuracy: 0.6250 - val_loss: 0.9131 - val_accuracy: 0.0000e+00\n",
            "Epoch 94/100\n",
            "3/3 [==============================] - 0s 23ms/step - loss: 0.6617 - accuracy: 0.6250 - val_loss: 0.9140 - val_accuracy: 0.0000e+00\n",
            "Epoch 95/100\n",
            "3/3 [==============================] - 0s 19ms/step - loss: 0.6616 - accuracy: 0.6250 - val_loss: 0.9148 - val_accuracy: 0.0000e+00\n",
            "Epoch 96/100\n",
            "3/3 [==============================] - 0s 21ms/step - loss: 0.6615 - accuracy: 0.6250 - val_loss: 0.9157 - val_accuracy: 0.0000e+00\n",
            "Epoch 97/100\n",
            "3/3 [==============================] - 0s 21ms/step - loss: 0.6614 - accuracy: 0.6250 - val_loss: 0.9168 - val_accuracy: 0.0000e+00\n",
            "Epoch 98/100\n",
            "3/3 [==============================] - 0s 25ms/step - loss: 0.6613 - accuracy: 0.6250 - val_loss: 0.9178 - val_accuracy: 0.0000e+00\n",
            "Epoch 99/100\n",
            "3/3 [==============================] - 0s 19ms/step - loss: 0.6612 - accuracy: 0.6250 - val_loss: 0.9194 - val_accuracy: 0.0000e+00\n",
            "Epoch 100/100\n",
            "3/3 [==============================] - 0s 23ms/step - loss: 0.6611 - accuracy: 0.6250 - val_loss: 0.9210 - val_accuracy: 0.0000e+00\n"
          ]
        }
      ],
      "source": [
        "history = model.fit(X,y,epochs=100,validation_split=0.2)"
      ]
    },
    {
      "cell_type": "code",
      "execution_count": 56,
      "metadata": {
        "colab": {
          "base_uri": "https://localhost:8080/"
        },
        "id": "NF1ObSco-Tgm",
        "outputId": "4e24dce6-0721-4d49-fc67-1ce0052946fc"
      },
      "outputs": [
        {
          "data": {
            "text/plain": [
              "[array([[0.05455059, 0.05455059],\n",
              "        [0.28318316, 0.28318316]], dtype=float32),\n",
              " array([0.19710332, 0.19710332], dtype=float32),\n",
              " array([[-0.1696403],\n",
              "        [-0.1696403]], dtype=float32),\n",
              " array([-0.14759381], dtype=float32)]"
            ]
          },
          "execution_count": 56,
          "metadata": {},
          "output_type": "execute_result"
        }
      ],
      "source": [
        "model.get_weights()"
      ]
    },
    {
      "cell_type": "code",
      "execution_count": 57,
      "metadata": {
        "colab": {
          "base_uri": "https://localhost:8080/",
          "height": 374
        },
        "id": "hHVMCQQ8-W7b",
        "outputId": "b4208953-8aa9-411c-f657-e1143e015013"
      },
      "outputs": [
        {
          "name": "stdout",
          "output_type": "stream",
          "text": [
            "9600/9600 [==============================] - 13s 1ms/step\n"
          ]
        },
        {
          "name": "stderr",
          "output_type": "stream",
          "text": [
            "c:\\Users\\Gyanprakash\\AppData\\Local\\Programs\\Python\\Python311\\Lib\\site-packages\\mlxtend\\plotting\\decision_regions.py:315: UserWarning: No contour levels were found within the data range.\n",
            "  ax.contour(xx, yy, Z, cset.levels, **contour_kwargs)\n"
          ]
        },
        {
          "data": {
            "text/plain": [
              "<AxesSubplot: >"
            ]
          },
          "execution_count": 57,
          "metadata": {},
          "output_type": "execute_result"
        },
        {
          "data": {
            "image/png": "[encoded data removed]",
            "text/plain": [
              "<Figure size 640x480 with 1 Axes>"
            ]
          },
          "metadata": {},
          "output_type": "display_data"
        }
      ],
      "source": [
        "from mlxtend.plotting import plot_decision_regions\n",
        "plot_decision_regions(X,y.astype('int'), clf=model, legend=2)"
      ]
    },
    {
      "cell_type": "code",
      "execution_count": null,
      "metadata": {
        "id": "H6gbywuRR3dw"
      },
      "outputs": [],
      "source": []
    }
  ],
  "metadata": {
    "colab": {
      "provenance": []
    },
    "kernelspec": {
      "display_name": "Python 3",
      "name": "python3"
    },
    "language_info": {
      "codemirror_mode": {
        "name": "ipython",
        "version": 3
      },
      "file_extension": ".py",
      "mimetype": "text/x-python",
      "name": "python",
      "nbconvert_exporter": "python",
      "pygments_lexer": "ipython3",
      "version": "3.11.3"
    }
  },
  "nbformat": 4,
  "nbformat_minor": 0
}
