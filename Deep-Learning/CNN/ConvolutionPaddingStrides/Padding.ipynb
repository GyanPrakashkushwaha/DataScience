{
 "cells": [
  {
   "attachments": {},
   "cell_type": "markdown",
   "metadata": {},
   "source": [
    "# Padding"
   ]
  },
  {
   "cell_type": "code",
   "execution_count": 10,
   "metadata": {},
   "outputs": [],
   "source": [
    "import tensorflow\n",
    "from keras.layers import Conv2D ,Dense , Flatten\n",
    "from keras import Sequential\n",
    "from keras.datasets import mnist"
   ]
  },
  {
   "cell_type": "code",
   "execution_count": 11,
   "metadata": {},
   "outputs": [],
   "source": [
    "(X_train , y_train) ,(X_test , y_test) = mnist.load_data()"
   ]
  },
  {
   "cell_type": "code",
   "execution_count": 12,
   "metadata": {},
   "outputs": [
    {
     "name": "stdout",
     "output_type": "stream",
     "text": [
      "The dimension of the X_train dataset is: (60000, 28, 28)\n",
      "The dimension of the X_test dataset is: (10000, 28, 28)\n",
      "The dimension of the y_train dataset is: (60000,)\n",
      "The dimension of the y_tset dataset is: (10000,)\n"
     ]
    }
   ],
   "source": [
    "print('The dimension of the X_train dataset is:', X_train.shape)\n",
    "print('The dimension of the X_test dataset is:', X_test.shape)\n",
    "print('The dimension of the y_train dataset is:', y_train.shape)\n",
    "print('The dimension of the y_tset dataset is:', y_test.shape)\n"
   ]
  },
  {
   "attachments": {},
   "cell_type": "markdown",
   "metadata": {},
   "source": [
    "### padding = 'valid'\n",
    "In this case the feature map size(image metrix or metrix size of image) gradually decreases with the number of 2\n"
   ]
  },
  {
   "cell_type": "code",
   "execution_count": 19,
   "metadata": {},
   "outputs": [
    {
     "name": "stdout",
     "output_type": "stream",
     "text": [
      "Model: \"sequential_9\"\n",
      "_________________________________________________________________\n",
      " Layer (type)                Output Shape              Param #   \n",
      "=================================================================\n",
      " conv2d_6 (Conv2D)           (None, 26, 26, 32)        320       \n",
      "                                                                 \n",
      " conv2d_7 (Conv2D)           (None, 24, 24, 32)        9248      \n",
      "                                                                 \n",
      " conv2d_8 (Conv2D)           (None, 22, 22, 32)        9248      \n",
      "                                                                 \n",
      " flatten_2 (Flatten)         (None, 15488)             0         \n",
      "                                                                 \n",
      " dense_4 (Dense)             (None, 32)                495648    \n",
      "                                                                 \n",
      " dense_5 (Dense)             (None, 10)                330       \n",
      "                                                                 \n",
      "=================================================================\n",
      "Total params: 514,794\n",
      "Trainable params: 514,794\n",
      "Non-trainable params: 0\n",
      "_________________________________________________________________\n"
     ]
    }
   ],
   "source": [
    "model = Sequential()\n",
    "\n",
    "model.add(Conv2D(\n",
    "    filters = 32,\n",
    "    kernel_size=(3,3), # this is filter\n",
    "    padding='valid', # to make the image matrix \n",
    "    activation='relu',\n",
    "    input_shape = (28,28,1)\n",
    "    ))\n",
    "model.add(Conv2D(\n",
    "    filters = 32,\n",
    "    kernel_size=(3,3), # this is filter\n",
    "    padding='valid', # to make the image matrix larger\n",
    "    activation='relu',\n",
    "    ))\n",
    "model.add(Conv2D(\n",
    "    32,\n",
    "    kernel_size=(3,3), # this is filter\n",
    "    padding='valid', # to make the image matrix larger\n",
    "    activation='relu',\n",
    "    ))\n",
    "\n",
    "model.add(Flatten()) # to convert my data into 1D\n",
    "\n",
    "model.add(Dense(\n",
    "    units=32,\n",
    "    activation='relu',\n",
    "))\n",
    "model.add(Dense(\n",
    "    units=10,\n",
    "    activation='softmax'\n",
    "))\n",
    "\n",
    "model.summary()\n"
   ]
  },
  {
   "attachments": {},
   "cell_type": "markdown",
   "metadata": {},
   "source": [
    "### padding = 'same'\n",
    "In this case the feature map size(image metrix or metrix size of image) do not decrease with the number of 2"
   ]
  },
  {
   "cell_type": "code",
   "execution_count": 20,
   "metadata": {},
   "outputs": [
    {
     "name": "stdout",
     "output_type": "stream",
     "text": [
      "Model: \"sequential_10\"\n",
      "_________________________________________________________________\n",
      " Layer (type)                Output Shape              Param #   \n",
      "=================================================================\n",
      " conv2d_9 (Conv2D)           (None, 28, 28, 32)        320       \n",
      "                                                                 \n",
      " conv2d_10 (Conv2D)          (None, 28, 28, 32)        9248      \n",
      "                                                                 \n",
      " conv2d_11 (Conv2D)          (None, 28, 28, 32)        9248      \n",
      "                                                                 \n",
      " flatten_3 (Flatten)         (None, 25088)             0         \n",
      "                                                                 \n",
      " dense_6 (Dense)             (None, 32)                802848    \n",
      "                                                                 \n",
      " dense_7 (Dense)             (None, 10)                330       \n",
      "                                                                 \n",
      "=================================================================\n",
      "Total params: 821,994\n",
      "Trainable params: 821,994\n",
      "Non-trainable params: 0\n",
      "_________________________________________________________________\n"
     ]
    }
   ],
   "source": [
    "model = Sequential()\n",
    "\n",
    "model.add(Conv2D(\n",
    "    filters = 32,\n",
    "    kernel_size=(3,3), # this is filter\n",
    "    padding='same', # to make the image matrix larger\n",
    "    activation='relu',\n",
    "    input_shape = (28,28,1)\n",
    "    ))\n",
    "model.add(Conv2D(\n",
    "    filters = 32,\n",
    "    kernel_size=(3,3), # this is filter\n",
    "    padding='same', # to make the image matrix larger\n",
    "    activation='relu',\n",
    "    ))\n",
    "model.add(Conv2D(\n",
    "    32,\n",
    "    kernel_size=(3,3), # this is filter\n",
    "    padding='same', # to make the image matrix larger\n",
    "    activation='relu',\n",
    "    ))\n",
    "\n",
    "model.add(Flatten()) # to convert my data into 1D\n",
    "\n",
    "model.add(Dense(\n",
    "    units=32,\n",
    "    activation='relu',\n",
    "))\n",
    "model.add(Dense(\n",
    "    units=10,\n",
    "    activation='softmax'\n",
    "))\n",
    "\n",
    "model.summary()\n"
   ]
  },
  {
   "attachments": {},
   "cell_type": "markdown",
   "metadata": {},
   "source": [
    "# Strides"
   ]
  },
  {
   "cell_type": "code",
   "execution_count": 21,
   "metadata": {},
   "outputs": [
    {
     "name": "stdout",
     "output_type": "stream",
     "text": [
      "Model: \"sequential_11\"\n",
      "_________________________________________________________________\n",
      " Layer (type)                Output Shape              Param #   \n",
      "=================================================================\n",
      " conv2d_12 (Conv2D)          (None, 13, 13, 32)        320       \n",
      "                                                                 \n",
      " conv2d_13 (Conv2D)          (None, 6, 6, 32)          9248      \n",
      "                                                                 \n",
      " conv2d_14 (Conv2D)          (None, 2, 2, 32)          9248      \n",
      "                                                                 \n",
      " flatten_4 (Flatten)         (None, 128)               0         \n",
      "                                                                 \n",
      " dense_8 (Dense)             (None, 32)                4128      \n",
      "                                                                 \n",
      " dense_9 (Dense)             (None, 10)                330       \n",
      "                                                                 \n",
      "=================================================================\n",
      "Total params: 23,274\n",
      "Trainable params: 23,274\n",
      "Non-trainable params: 0\n",
      "_________________________________________________________________\n"
     ]
    }
   ],
   "source": [
    "model = Sequential()\n",
    "\n",
    "model.add(Conv2D(\n",
    "    strides=(2,2),\n",
    "    filters = 32,\n",
    "    kernel_size=(3,3), # this is filter\n",
    "    padding='valid', # to make the image matrix larger\n",
    "    activation='relu',\n",
    "    input_shape = (28,28,1)\n",
    "    ))\n",
    "model.add(Conv2D(\n",
    "    strides=(2,2),\n",
    "    filters = 32,\n",
    "    kernel_size=(3,3), # this is filter\n",
    "    padding='valid', # to make the image matrix larger\n",
    "    activation='relu',\n",
    "    ))\n",
    "model.add(Conv2D(\n",
    "    32,\n",
    "    strides=(2,2),\n",
    "    kernel_size=(3,3), # this is filter\n",
    "    padding='valid', # to make the image matrix larger\n",
    "    activation='relu',\n",
    "    ))\n",
    "\n",
    "model.add(Flatten()) # to convert my data into 1D\n",
    "\n",
    "model.add(Dense(\n",
    "    units=32,\n",
    "    activation='relu',\n",
    "))\n",
    "model.add(Dense(\n",
    "    units=10,\n",
    "    activation='softmax'\n",
    "))\n",
    "\n",
    "model.summary()\n"
   ]
  },
  {
   "cell_type": "code",
   "execution_count": null,
   "metadata": {},
   "outputs": [],
   "source": []
  },
  {
   "cell_type": "code",
   "execution_count": null,
   "metadata": {},
   "outputs": [],
   "source": []
  },
  {
   "cell_type": "code",
   "execution_count": null,
   "metadata": {},
   "outputs": [],
   "source": []
  },
  {
   "cell_type": "code",
   "execution_count": null,
   "metadata": {},
   "outputs": [],
   "source": []
  },
  {
   "cell_type": "code",
   "execution_count": null,
   "metadata": {},
   "outputs": [],
   "source": []
  },
  {
   "cell_type": "code",
   "execution_count": null,
   "metadata": {},
   "outputs": [],
   "source": []
  },
  {
   "cell_type": "code",
   "execution_count": null,
   "metadata": {},
   "outputs": [],
   "source": []
  },
  {
   "cell_type": "code",
   "execution_count": null,
   "metadata": {},
   "outputs": [],
   "source": []
  },
  {
   "cell_type": "code",
   "execution_count": null,
   "metadata": {},
   "outputs": [],
   "source": []
  },
  {
   "cell_type": "code",
   "execution_count": null,
   "metadata": {},
   "outputs": [],
   "source": []
  },
  {
   "cell_type": "code",
   "execution_count": null,
   "metadata": {},
   "outputs": [],
   "source": []
  },
  {
   "cell_type": "code",
   "execution_count": null,
   "metadata": {},
   "outputs": [],
   "source": []
  },
  {
   "cell_type": "code",
   "execution_count": null,
   "metadata": {},
   "outputs": [],
   "source": []
  },
  {
   "cell_type": "code",
   "execution_count": null,
   "metadata": {},
   "outputs": [],
   "source": []
  },
  {
   "cell_type": "code",
   "execution_count": null,
   "metadata": {},
   "outputs": [],
   "source": []
  },
  {
   "cell_type": "code",
   "execution_count": null,
   "metadata": {},
   "outputs": [],
   "source": []
  },
  {
   "cell_type": "code",
   "execution_count": null,
   "metadata": {},
   "outputs": [],
   "source": []
  },
  {
   "cell_type": "code",
   "execution_count": null,
   "metadata": {},
   "outputs": [],
   "source": []
  },
  {
   "cell_type": "code",
   "execution_count": null,
   "metadata": {},
   "outputs": [],
   "source": []
  },
  {
   "cell_type": "code",
   "execution_count": null,
   "metadata": {},
   "outputs": [],
   "source": []
  },
  {
   "cell_type": "code",
   "execution_count": null,
   "metadata": {},
   "outputs": [],
   "source": []
  }
 ],
 "metadata": {
  "kernelspec": {
   "display_name": "Python 3",
   "language": "python",
   "name": "python3"
  },
  "language_info": {
   "codemirror_mode": {
    "name": "ipython",
    "version": 3
   },
   "file_extension": ".py",
   "mimetype": "text/x-python",
   "name": "python",
   "nbconvert_exporter": "python",
   "pygments_lexer": "ipython3",
   "version": "3.11.3"
  },
  "orig_nbformat": 4
 },
 "nbformat": 4,
 "nbformat_minor": 2
}
