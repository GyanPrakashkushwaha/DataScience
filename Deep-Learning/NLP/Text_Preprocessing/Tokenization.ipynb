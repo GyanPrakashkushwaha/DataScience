{
 "cells": [
  {
   "attachments": {},
   "cell_type": "markdown",
   "metadata": {},
   "source": [
    "# Tokenization"
   ]
  },
  {
   "attachments": {},
   "cell_type": "markdown",
   "metadata": {},
   "source": [
    "> ## Split function \n",
    "> If I have simple means few data than I can apply this function"
   ]
  },
  {
   "cell_type": "code",
   "execution_count": 1,
   "metadata": {},
   "outputs": [],
   "source": [
    "\n",
    "text1=\"I am goin to the resturant to have dinar.\"\n",
    "text2= \"She wear a beutiful dres to the partee.\"\n",
    "text3=\"I love eatting chockolate icecreem in the sunshyne.\"\n",
    "text4= \"He is a gennius, he inventid a new tecknology.\"\n",
    "text5= \"They hav a big gardn with lotz of beutiful flours.\"\n"
   ]
  },
  {
   "cell_type": "code",
   "execution_count": 2,
   "metadata": {},
   "outputs": [
    {
     "name": "stdout",
     "output_type": "stream",
     "text": [
      "['I', 'am', 'goin', 'to', 'the', 'resturant', 'to', 'have', 'dinar.']\n",
      "['She', 'wear', 'a', 'beutiful', 'dres', 'to', 'the', 'partee.'] ( Here I am getting partee. , although I dont want this )\n"
     ]
    }
   ],
   "source": [
    "print(text1.split(' '))\n",
    "print(text2.split(),'( Here I am getting partee. , although I dont want this )') "
   ]
  },
  {
   "attachments": {},
   "cell_type": "markdown",
   "metadata": {},
   "source": [
    "> ## Regular Expressions\n",
    "> this can handle above Problem"
   ]
  },
  {
   "cell_type": "code",
   "execution_count": 3,
   "metadata": {},
   "outputs": [
    {
     "name": "stdout",
     "output_type": "stream",
     "text": [
      "['She', 'wear', 'a', 'beutiful', 'dres', 'to', 'the', 'partee'] ( this has easily seperated the dot(.))\n"
     ]
    }
   ],
   "source": [
    "import re\n",
    "token = re.findall(pattern=\"[\\w]+\",string=text2)\n",
    "print(f'{token} ( this has easily seperated the dot(.))')"
   ]
  },
  {
   "attachments": {},
   "cell_type": "markdown",
   "metadata": {},
   "source": [
    "> ## NLTK\n",
    "> best way..... but not that much good....."
   ]
  },
  {
   "cell_type": "code",
   "execution_count": 4,
   "metadata": {},
   "outputs": [],
   "source": [
    "from nltk.tokenize import word_tokenize , sent_tokenize"
   ]
  },
  {
   "cell_type": "code",
   "execution_count": 5,
   "metadata": {},
   "outputs": [
    {
     "data": {
      "text/plain": [
       "['I', 'am', 'goin', 'to', 'the', 'resturant', 'to', 'have', 'dinar', '.']"
      ]
     },
     "execution_count": 5,
     "metadata": {},
     "output_type": "execute_result"
    }
   ],
   "source": [
    "word_tokenize(text1)"
   ]
  },
  {
   "cell_type": "code",
   "execution_count": 6,
   "metadata": {},
   "outputs": [
    {
     "data": {
      "text/plain": [
       "['She', 'wear', 'a', 'beutiful', 'dres', 'to', 'the', 'partee', '.']"
      ]
     },
     "execution_count": 6,
     "metadata": {},
     "output_type": "execute_result"
    }
   ],
   "source": [
    "word_tokenize(text2)"
   ]
  },
  {
   "cell_type": "code",
   "execution_count": 7,
   "metadata": {},
   "outputs": [],
   "source": [
    "\n",
    "sent1 =  \"Mr. Johnson's email address is johnson@example.com.\"\n",
    "sent2 =  \"The company name is 'ABC Corporation'.\"\n",
    "sent3 =  \"I live at 1234 Main St., New York, NY.\"\n",
    "sent4 =  \"Can't shouldn't be mistaken for couldn't.\"\n",
    "sent5 = \"The URL http://example.com/page/1 redirects to https://example.com/page/2.\"\n",
    "sent6 = \"The equation y = mx + c represents a linear function.\"\n",
    "sent7 = \"She said, 'I won't be able to attend the meeting.'\"\n",
    "sent8 =  \"Please download the file from ftp://example.com/data/file.txt.\"\n"
   ]
  },
  {
   "cell_type": "code",
   "execution_count": 8,
   "metadata": {},
   "outputs": [],
   "source": [
    "sentence_dic = {\n",
    "  'sent1': \"Mr. Johnson's email address is johnson@example.com.\",\n",
    "  'sent2': \"The company name is 'ABC Corporation'.\",\n",
    "  'sent3': 'I live at 1234 Main St., New York, NY.',\n",
    "  'sent4': \"Can't shouldn't be mistaken for couldn't.\",\n",
    "  'sent5': 'The URL http://example.com/page/1 redirects to https://example.com/page/2.',\n",
    "  'sent6': 'The equation y = mx + c represents a linear function.',\n",
    "  'sent7': \"She said, 'I won't be able to attend the meeting.'\",\n",
    "  'sent8': 'Please download the file from ftp://example.com/data/file.txt.'\n",
    "}\n"
   ]
  },
  {
   "cell_type": "code",
   "execution_count": 9,
   "metadata": {},
   "outputs": [
    {
     "name": "stdout",
     "output_type": "stream",
     "text": [
      "Incorrect_text- \n",
      " Mr. Johnson's email address is johnson@example.com. \n",
      " correct_text- \n",
      " ['Mr.', 'Johnson', \"'s\", 'email', 'address', 'is', 'johnson', '@', 'example.com', '.']\n",
      "Incorrect_text- \n",
      " The company name is 'ABC Corporation'. \n",
      " correct_text- \n",
      " ['The', 'company', 'name', 'is', \"'ABC\", 'Corporation', \"'\", '.']\n",
      "Incorrect_text- \n",
      " I live at 1234 Main St., New York, NY. \n",
      " correct_text- \n",
      " ['I', 'live', 'at', '1234', 'Main', 'St.', ',', 'New', 'York', ',', 'NY', '.']\n",
      "Incorrect_text- \n",
      " Can't shouldn't be mistaken for couldn't. \n",
      " correct_text- \n",
      " ['Ca', \"n't\", 'should', \"n't\", 'be', 'mistaken', 'for', 'could', \"n't\", '.']\n",
      "Incorrect_text- \n",
      " The URL http://example.com/page/1 redirects to https://example.com/page/2. \n",
      " correct_text- \n",
      " ['The', 'URL', 'http', ':', '//example.com/page/1', 'redirects', 'to', 'https', ':', '//example.com/page/2', '.']\n",
      "Incorrect_text- \n",
      " The equation y = mx + c represents a linear function. \n",
      " correct_text- \n",
      " ['The', 'equation', 'y', '=', 'mx', '+', 'c', 'represents', 'a', 'linear', 'function', '.']\n",
      "Incorrect_text- \n",
      " She said, 'I won't be able to attend the meeting.' \n",
      " correct_text- \n",
      " ['She', 'said', ',', \"'\", 'I', 'wo', \"n't\", 'be', 'able', 'to', 'attend', 'the', 'meeting', '.', \"'\"]\n",
      "Incorrect_text- \n",
      " Please download the file from ftp://example.com/data/file.txt. \n",
      " correct_text- \n",
      " ['Please', 'download', 'the', 'file', 'from', 'ftp', ':', '//example.com/data/file.txt', '.']\n"
     ]
    }
   ],
   "source": [
    "for txt in sentence_dic.values():\n",
    "    print(f'Incorrect_text- \\n {txt} \\n correct_text- \\n {word_tokenize(text=txt)}')\n"
   ]
  },
  {
   "attachments": {},
   "cell_type": "markdown",
   "metadata": {},
   "source": [
    "> ## Spacy\n",
    "> ### Best Of All"
   ]
  },
  {
   "cell_type": "code",
   "execution_count": 13,
   "metadata": {},
   "outputs": [],
   "source": [
    "import spacy"
   ]
  },
  {
   "cell_type": "code",
   "execution_count": 47,
   "metadata": {},
   "outputs": [
    {
     "ename": "OSError",
     "evalue": "[E050] Can't find model 'en_core_web_sn'. It doesn't seem to be a Python package or a valid path to a data directory.",
     "output_type": "error",
     "traceback": [
      "\u001b[1;31m---------------------------------------------------------------------------\u001b[0m",
      "\u001b[1;31mOSError\u001b[0m                                   Traceback (most recent call last)",
      "Cell \u001b[1;32mIn[47], line 1\u001b[0m\n\u001b[1;32m----> 1\u001b[0m nlp \u001b[39m=\u001b[39m spacy\u001b[39m.\u001b[39;49mload(\u001b[39m'\u001b[39;49m\u001b[39men_core_web_sn\u001b[39;49m\u001b[39m'\u001b[39;49m)\n",
      "File \u001b[1;32mc:\\Users\\Gyanprakash\\AppData\\Local\\Programs\\Python\\Python311\\Lib\\site-packages\\spacy\\__init__.py:54\u001b[0m, in \u001b[0;36mload\u001b[1;34m(name, vocab, disable, enable, exclude, config)\u001b[0m\n\u001b[0;32m     30\u001b[0m \u001b[39mdef\u001b[39;00m \u001b[39mload\u001b[39m(\n\u001b[0;32m     31\u001b[0m     name: Union[\u001b[39mstr\u001b[39m, Path],\n\u001b[0;32m     32\u001b[0m     \u001b[39m*\u001b[39m,\n\u001b[1;32m   (...)\u001b[0m\n\u001b[0;32m     37\u001b[0m     config: Union[Dict[\u001b[39mstr\u001b[39m, Any], Config] \u001b[39m=\u001b[39m util\u001b[39m.\u001b[39mSimpleFrozenDict(),\n\u001b[0;32m     38\u001b[0m ) \u001b[39m-\u001b[39m\u001b[39m>\u001b[39m Language:\n\u001b[0;32m     39\u001b[0m \u001b[39m    \u001b[39m\u001b[39m\"\"\"Load a spaCy model from an installed package or a local path.\u001b[39;00m\n\u001b[0;32m     40\u001b[0m \n\u001b[0;32m     41\u001b[0m \u001b[39m    name (str): Package name or model path.\u001b[39;00m\n\u001b[1;32m   (...)\u001b[0m\n\u001b[0;32m     52\u001b[0m \u001b[39m    RETURNS (Language): The loaded nlp object.\u001b[39;00m\n\u001b[0;32m     53\u001b[0m \u001b[39m    \"\"\"\u001b[39;00m\n\u001b[1;32m---> 54\u001b[0m     \u001b[39mreturn\u001b[39;00m util\u001b[39m.\u001b[39;49mload_model(\n\u001b[0;32m     55\u001b[0m         name,\n\u001b[0;32m     56\u001b[0m         vocab\u001b[39m=\u001b[39;49mvocab,\n\u001b[0;32m     57\u001b[0m         disable\u001b[39m=\u001b[39;49mdisable,\n\u001b[0;32m     58\u001b[0m         enable\u001b[39m=\u001b[39;49menable,\n\u001b[0;32m     59\u001b[0m         exclude\u001b[39m=\u001b[39;49mexclude,\n\u001b[0;32m     60\u001b[0m         config\u001b[39m=\u001b[39;49mconfig,\n\u001b[0;32m     61\u001b[0m     )\n",
      "File \u001b[1;32mc:\\Users\\Gyanprakash\\AppData\\Local\\Programs\\Python\\Python311\\Lib\\site-packages\\spacy\\util.py:449\u001b[0m, in \u001b[0;36mload_model\u001b[1;34m(name, vocab, disable, enable, exclude, config)\u001b[0m\n\u001b[0;32m    447\u001b[0m \u001b[39mif\u001b[39;00m name \u001b[39min\u001b[39;00m OLD_MODEL_SHORTCUTS:\n\u001b[0;32m    448\u001b[0m     \u001b[39mraise\u001b[39;00m \u001b[39mIOError\u001b[39;00m(Errors\u001b[39m.\u001b[39mE941\u001b[39m.\u001b[39mformat(name\u001b[39m=\u001b[39mname, full\u001b[39m=\u001b[39mOLD_MODEL_SHORTCUTS[name]))  \u001b[39m# type: ignore[index]\u001b[39;00m\n\u001b[1;32m--> 449\u001b[0m \u001b[39mraise\u001b[39;00m \u001b[39mIOError\u001b[39;00m(Errors\u001b[39m.\u001b[39mE050\u001b[39m.\u001b[39mformat(name\u001b[39m=\u001b[39mname))\n",
      "\u001b[1;31mOSError\u001b[0m: [E050] Can't find model 'en_core_web_sn'. It doesn't seem to be a Python package or a valid path to a data directory."
     ]
    }
   ],
   "source": [
    "nlp = spacy.load('en_core_web_sn')"
   ]
  },
  {
   "cell_type": "code",
   "execution_count": null,
   "metadata": {},
   "outputs": [],
   "source": []
  }
 ],
 "metadata": {
  "kernelspec": {
   "display_name": "Python 3",
   "language": "python",
   "name": "python3"
  },
  "language_info": {
   "codemirror_mode": {
    "name": "ipython",
    "version": 3
   },
   "file_extension": ".py",
   "mimetype": "text/x-python",
   "name": "python",
   "nbconvert_exporter": "python",
   "pygments_lexer": "ipython3",
   "version": "3.11.3"
  },
  "orig_nbformat": 4
 },
 "nbformat": 4,
 "nbformat_minor": 2
}
