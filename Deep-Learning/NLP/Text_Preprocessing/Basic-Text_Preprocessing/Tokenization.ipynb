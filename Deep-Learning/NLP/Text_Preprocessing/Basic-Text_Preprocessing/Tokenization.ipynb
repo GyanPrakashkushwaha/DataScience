{
 "cells": [
  {
   "attachments": {},
   "cell_type": "markdown",
   "metadata": {},
   "source": [
    "# Tokenization"
   ]
  },
  {
   "attachments": {},
   "cell_type": "markdown",
   "metadata": {},
   "source": [
    "> ## Split function \n",
    "> If I have simple means few data than I can apply this function"
   ]
  },
  {
   "cell_type": "code",
   "execution_count": 1,
   "metadata": {},
   "outputs": [],
   "source": [
    "\n",
    "text1=\"I am goin to the resturant to have dinar.\"\n",
    "text2= \"She wear a beutiful dres to the partee.\"\n",
    "text3=\"I love eatting chockolate icecreem in the sunshyne.\"\n",
    "text4= \"He is a gennius, he inventid a new tecknology.\"\n",
    "text5= \"They hav a big gardn with lotz of beutiful flours.\"\n"
   ]
  },
  {
   "cell_type": "code",
   "execution_count": 2,
   "metadata": {},
   "outputs": [
    {
     "name": "stdout",
     "output_type": "stream",
     "text": [
      "['I', 'am', 'goin', 'to', 'the', 'resturant', 'to', 'have', 'dinar.']\n",
      "['She', 'wear', 'a', 'beutiful', 'dres', 'to', 'the', 'partee.'] ( Here I am getting partee. , although I dont want this )\n"
     ]
    }
   ],
   "source": [
    "print(text1.split(' '))\n",
    "print(text2.split(),'( Here I am getting partee. , although I dont want this )') "
   ]
  },
  {
   "attachments": {},
   "cell_type": "markdown",
   "metadata": {},
   "source": [
    "> ## Regular Expressions\n",
    "> this can handle above Problem"
   ]
  },
  {
   "cell_type": "code",
   "execution_count": 3,
   "metadata": {},
   "outputs": [
    {
     "name": "stdout",
     "output_type": "stream",
     "text": [
      "['She', 'wear', 'a', 'beutiful', 'dres', 'to', 'the', 'partee'] ( this has easily seperated the dot(.))\n"
     ]
    }
   ],
   "source": [
    "import re\n",
    "token = re.findall(pattern=\"[\\w]+\",string=text2)\n",
    "print(f'{token} ( this has easily seperated the dot(.))')"
   ]
  },
  {
   "cell_type": "code",
   "execution_count": null,
   "metadata": {},
   "outputs": [],
   "source": []
  },
  {
   "cell_type": "code",
   "execution_count": null,
   "metadata": {},
   "outputs": [],
   "source": []
  },
  {
   "cell_type": "code",
   "execution_count": null,
   "metadata": {},
   "outputs": [],
   "source": []
  },
  {
   "cell_type": "code",
   "execution_count": null,
   "metadata": {},
   "outputs": [],
   "source": []
  },
  {
   "cell_type": "code",
   "execution_count": null,
   "metadata": {},
   "outputs": [],
   "source": []
  },
  {
   "cell_type": "code",
   "execution_count": null,
   "metadata": {},
   "outputs": [],
   "source": []
  },
  {
   "cell_type": "code",
   "execution_count": null,
   "metadata": {},
   "outputs": [],
   "source": []
  },
  {
   "cell_type": "code",
   "execution_count": null,
   "metadata": {},
   "outputs": [],
   "source": []
  }
 ],
 "metadata": {
  "kernelspec": {
   "display_name": "Python 3",
   "language": "python",
   "name": "python3"
  },
  "language_info": {
   "codemirror_mode": {
    "name": "ipython",
    "version": 3
   },
   "file_extension": ".py",
   "mimetype": "text/x-python",
   "name": "python",
   "nbconvert_exporter": "python",
   "pygments_lexer": "ipython3",
   "version": "3.11.3"
  },
  "orig_nbformat": 4
 },
 "nbformat": 4,
 "nbformat_minor": 2
}
