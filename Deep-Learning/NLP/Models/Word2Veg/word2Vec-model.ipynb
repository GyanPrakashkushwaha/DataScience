{
 "cells": [
  {
   "attachments": {},
   "cell_type": "markdown",
   "metadata": {},
   "source": [
    "# Marvel Series Word 2 Vec Model"
   ]
  },
  {
   "cell_type": "code",
   "execution_count": 7,
   "metadata": {},
   "outputs": [],
   "source": [
    "import pandas as pd\n",
    "import numpy as np\n",
    "import gensim\n",
    "import os\n",
    "import re"
   ]
  },
  {
   "cell_type": "code",
   "execution_count": 2,
   "metadata": {},
   "outputs": [],
   "source": [
    "df =pd.read_csv('Iron_Man-NLP_Dataset/iron man synopsis.csv')"
   ]
  },
  {
   "cell_type": "code",
   "execution_count": 5,
   "metadata": {},
   "outputs": [],
   "source": [
    "df = df['Synopsis']"
   ]
  },
  {
   "attachments": {},
   "cell_type": "markdown",
   "metadata": {},
   "source": [
    "---\n",
    "> ##  Text Preprocessing\n"
   ]
  },
  {
   "cell_type": "code",
   "execution_count": 6,
   "metadata": {},
   "outputs": [
    {
     "data": {
      "text/plain": [
       "0     ultimate iron man #1 reveals that tony stark's...\n",
       "1     in ultimate iron man #2, young tony stark is s...\n",
       "2     in issue #3, howard arrives with a swat team a...\n",
       "3     ultimate iron man #4 follows tony stark, short...\n",
       "4     ultimate iron man #5 shows that shortly after ...\n",
       "5     despite surviving being blown up in his protot...\n",
       "6     after iron man finishes a training session in ...\n",
       "7     the raiders invade an air force plane, drawing...\n",
       "8     iron man ruthlessly attacks the beetle as he t...\n",
       "9     the captain (which was an alias rogers used af...\n",
       "10    the west coast avengers arrives at tony's home...\n",
       "11    test pilot jack taggert demonstrates a flight ...\n",
       "12    it is revealed that tony survived the explosio...\n",
       "13    while flying under the radar for many fans, th...\n",
       "14    written by dennis o'neil in 1984, this rather ...\n",
       "15    a pivotal story in the iron man mythos, extrem...\n",
       "16    written by david michelinie, the two-issue sto...\n",
       "17    the saga that would initiate something greater...\n",
       "18    following the events of axis, an event that sa...\n",
       "19    presiding tony stark's death in civil war 2, a...\n",
       "20    tony's brother arno stark wouldn't be the only...\n",
       "21    now there are a lot of stories in the iron man...\n",
       "Name: Synopsis, dtype: object"
      ]
     },
     "execution_count": 6,
     "metadata": {},
     "output_type": "execute_result"
    }
   ],
   "source": [
    "# Lower Casing\n",
    "df.str.lower()"
   ]
  },
  {
   "cell_type": "code",
   "execution_count": 8,
   "metadata": {},
   "outputs": [],
   "source": [
    "# Removing HTML TAGS\n",
    "def remove_HTML_tag(txt):\n",
    "    pattern = re.compile('<.*?>')\n",
    "    return pattern.sub(r'',txt)"
   ]
  },
  {
   "cell_type": "code",
   "execution_count": 9,
   "metadata": {},
   "outputs": [
    {
     "data": {
      "text/plain": [
       "0     Ultimate Iron Man #1 reveals that Tony Stark's...\n",
       "1     In Ultimate Iron Man #2, young Tony Stark is s...\n",
       "2     In issue #3, Howard arrives with a SWAT team a...\n",
       "3     Ultimate Iron Man #4 follows Tony Stark, short...\n",
       "4     Ultimate Iron Man #5 shows that shortly after ...\n",
       "5     Despite surviving being blown up in his protot...\n",
       "6     After Iron Man finishes a training session in ...\n",
       "7     The Raiders invade an Air Force plane, drawing...\n",
       "8     Iron Man ruthlessly attacks the Beetle as he t...\n",
       "9     The Captain (which was an alias Rogers used af...\n",
       "10    The West Coast Avengers arrives at Tony's home...\n",
       "11    Test pilot Jack Taggert demonstrates a flight ...\n",
       "12    It is revealed that Tony survived the explosio...\n",
       "13    While flying under the radar for many fans, th...\n",
       "14    Written by Dennis O'Neil in 1984, this rather ...\n",
       "15    A pivotal story in the Iron Man mythos, Extrem...\n",
       "16    Written by David Michelinie, the two-issue sto...\n",
       "17    The saga that would initiate something greater...\n",
       "18    Following the events of Axis, an event that sa...\n",
       "19    Presiding Tony Stark's death in Civil War 2, a...\n",
       "20    Tony's brother Arno Stark wouldn't be the only...\n",
       "21    Now there are a lot of stories in the Iron Man...\n",
       "Name: Synopsis, dtype: object"
      ]
     },
     "execution_count": 9,
     "metadata": {},
     "output_type": "execute_result"
    }
   ],
   "source": [
    "df.apply(func=remove_HTML_tag)"
   ]
  },
  {
   "cell_type": "code",
   "execution_count": 14,
   "metadata": {},
   "outputs": [
    {
     "data": {
      "text/plain": [
       "'Ultimate Iron Man\\xa0#1 reveals that Tony Stark\\'s genius is the result of an accident his mother (brilliant scientist\\xa0Maria Cerrera, who is the second wife of Tony Stark\\'s father, Howard, and works for him in research and development before Tony was born) suffered while she was carrying him in her womb. The accident changed the genetic structure of both her and her unborn child, but culminated in her death during childbirth. The child, named Antonio (Tony for short), developed neural tissue normally found only in the brain all throughout his body, causing his entire body to act as one massive brain, giving him tremendous mental capacity. However, one of the side effects of the accident from the minute he was born was an extreme dermal sensitivity, making even the sensation of air on his skin feel like severe burns due to the overstimulation of neural cells in his skin. Howard Stark, a master inventor and owner and CEO of his own billion dollar tech company, used a newly invented liquid, biological armour to ease Tony\\'s agony; a buffer allowing him to interact with the world normally, but one he would have to wear for the rest of his life. Despite the pain, he is endowed with regenerative capabilities due to the same mutation that caused the neural cells to differentiate all over his body allowing him to completely regenerate whole body parts if necessary. The biotechnology armor he wears is constructed out of genetically modified bacteria that are able to group together to dissipate kinetic energy when impacted upon, allowing the wearer to withstand tremendous blows and is able to dissolve any metal that can be oxidized. The two disadvantages of this biotech armor, which made it unmarketable, are that it can be easily neutralized by being washed off with antibacterial soap and water and, more importantly, that it will dissolve a normal human\\'s skin after a few hours if not thoroughly washed off. This \"side effect\" worked well with Tony\\'s regenerative capabilities, seeing as how his skin would regenerate as fast as the armor would eat it making it a perfect fit. Another secondary problem was that, initially, the liquid armor turned his skin a bright blue hue making socialization and the idea of going to a normal school more difficult.'"
      ]
     },
     "execution_count": 14,
     "metadata": {},
     "output_type": "execute_result"
    }
   ],
   "source": [
    "df.iloc[0]"
   ]
  },
  {
   "attachments": {},
   "cell_type": "markdown",
   "metadata": {},
   "source": [
    "## Removing other regular Expressoins"
   ]
  },
  {
   "cell_type": "code",
   "execution_count": 17,
   "metadata": {},
   "outputs": [],
   "source": [
    "def other_expressions(txt):\n",
    "    pattern = re.compile(r'\\bUltimate Iron Man #\\d\\b.*?\\.\\s*')\n",
    "    return pattern.sub(r'',txt)"
   ]
  },
  {
   "cell_type": "code",
   "execution_count": 18,
   "metadata": {},
   "outputs": [
    {
     "data": {
      "text/plain": [
       "0     Ultimate Iron Man #1 reveals that Tony Stark's...\n",
       "1     In Attempting to learn how to manufacture the ...\n",
       "2     In issue #3, Howard arrives with a SWAT team a...\n",
       "3     The altercation is interrupted by Tony's frien...\n",
       "4     Ultimate Iron Man #5 shows that shortly after ...\n",
       "5     Despite surviving being blown up in his protot...\n",
       "6     After Iron Man finishes a training session in ...\n",
       "7     The Raiders invade an Air Force plane, drawing...\n",
       "8     Iron Man ruthlessly attacks the Beetle as he t...\n",
       "9     The Captain (which was an alias Rogers used af...\n",
       "10    The West Coast Avengers arrives at Tony's home...\n",
       "11    Test pilot Jack Taggert demonstrates a flight ...\n",
       "12    It is revealed that Tony survived the explosio...\n",
       "13    While flying under the radar for many fans, th...\n",
       "14    Written by Dennis O'Neil in 1984, this rather ...\n",
       "15    A pivotal story in the Iron Man mythos, Extrem...\n",
       "16    Written by David Michelinie, the two-issue sto...\n",
       "17    The saga that would initiate something greater...\n",
       "18    Following the events of Axis, an event that sa...\n",
       "19    Presiding Tony Stark's death in Civil War 2, a...\n",
       "20    Tony's brother Arno Stark wouldn't be the only...\n",
       "21    Now there are a lot of stories in the Iron Man...\n",
       "Name: Synopsis, dtype: object"
      ]
     },
     "execution_count": 18,
     "metadata": {},
     "output_type": "execute_result"
    }
   ],
   "source": [
    "df.apply(func=other_expressions)"
   ]
  }
 ],
 "metadata": {
  "kernelspec": {
   "display_name": "Python 3",
   "language": "python",
   "name": "python3"
  },
  "language_info": {
   "codemirror_mode": {
    "name": "ipython",
    "version": 3
   },
   "file_extension": ".py",
   "mimetype": "text/x-python",
   "name": "python",
   "nbconvert_exporter": "python",
   "pygments_lexer": "ipython3",
   "version": "3.11.3"
  },
  "orig_nbformat": 4
 },
 "nbformat": 4,
 "nbformat_minor": 2
}
