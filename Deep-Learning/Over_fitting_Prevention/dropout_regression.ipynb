{
  "nbformat": 4,
  "nbformat_minor": 0,
  "metadata": {
    "colab": {
      "provenance": []
    },
    "kernelspec": {
      "name": "python3",
      "display_name": "Python 3"
    },
    "accelerator": "GPU"
  },
  "cells": [
    {
      "cell_type": "code",
      "metadata": {
        "id": "3tFGgFKexKF1"
      },
      "source": [
        "import tensorflow as tf\n",
        "import numpy as np\n",
        "import matplotlib.pyplot as plt\n",
        "from tensorflow.keras.models import Sequential\n",
        "from tensorflow.keras.layers import Dense\n",
        "from tensorflow.keras.layers import Dropout\n",
        "from tensorflow.keras.optimizers import Adam\n",
        "from sklearn.model_selection import train_test_split\n",
        "from sklearn.metrics import mean_squared_error"
      ],
      "execution_count": null,
      "outputs": []
    },
    {
      "cell_type": "markdown",
      "metadata": {
        "id": "hAEFOSC8fbQE"
      },
      "source": [
        "# Generate Data"
      ]
    },
    {
      "cell_type": "code",
      "metadata": {
        "id": "gWBfjx68OdDL"
      },
      "source": [
        "X_train = np.linspace(-1, 1, 20)"
      ],
      "execution_count": null,
      "outputs": []
    },
    {
      "cell_type": "code",
      "metadata": {
        "id": "HHgAbMkwdqcJ"
      },
      "source": [
        "y_train = np.array([-0.6561 , -0.3099 , -0.59035, -0.50855, -0.285  , \n",
        "                    -0.2443 , -0.02445,  0.00135, -0.2006 ,  0.07475, \n",
        "                    -0.1422 ,  0.06515,  0.15265,  0.3521 ,  0.28415,  \n",
        "                    0.5524 ,  0.23115,  0.20835, 0.4211,  0.60485])"
      ],
      "execution_count": null,
      "outputs": []
    },
    {
      "cell_type": "code",
      "metadata": {
        "id": "-3T0MiSMRU88"
      },
      "source": [
        "X_test = np.linspace(-1, 1, 20)"
      ],
      "execution_count": null,
      "outputs": []
    },
    {
      "cell_type": "code",
      "metadata": {
        "id": "T13ENwBmRVAC"
      },
      "source": [
        "y_test = np.array([-0.69415, -0.451  , -0.43005, -0.4484 , -0.1475 ,\n",
        "                   -0.5019 , -0.28055,  0.24595, -0.21425, -0.0286 ,  \n",
        "                   0.23415,  0.46575, 0.07955,  0.1973 ,  0.0719 ,\n",
        "                   0.3639 ,  0.5536 ,  0.3365 , 0.50705,  0.33435])"
      ],
      "execution_count": null,
      "outputs": []
    },
    {
      "cell_type": "code",
      "metadata": {
        "id": "XeLcH4EeRVFk",
        "colab": {
          "base_uri": "https://localhost:8080/",
          "height": 265
        },
        "outputId": "dedd82e5-8f15-422f-e2fe-f7324574e6b1"
      },
      "source": [
        "plt.scatter(X_train, y_train, c='red', label='Train')\n",
        "plt.scatter(X_test, y_test, c='blue', label='Test')\n",
        "plt.legend()\n",
        "plt.show()"
      ],
      "execution_count": null,
      "outputs": [
        {
          "output_type": "display_data",
          "data": {
            "image/png": "[encoded data removed]",
            "text/plain": [
              "<Figure size 432x288 with 1 Axes>"
            ]
          },
          "metadata": {
            "tags": [],
            "needs_background": "light"
          }
        }
      ]
    },
    {
      "cell_type": "markdown",
      "metadata": {
        "id": "shGA9BPVfJur"
      },
      "source": [
        "# Regression Model"
      ]
    },
    {
      "cell_type": "code",
      "metadata": {
        "id": "VFNJfoqXSZ3A"
      },
      "source": [
        "model_1 = Sequential()\n",
        "model_1.add(Dense(128, input_dim=1, activation=\"relu\"))\n",
        "model_1.add(Dense(128, activation=\"relu\"))\n",
        "model_1.add(Dense(1, activation=\"linear\"))\n",
        "adam = Adam(learning_rate=0.01)\n",
        "model_1.compile(loss='mse', optimizer=adam, metrics=['mse'])\n",
        "history = model_1.fit(X_train, y_train, epochs=500, \n",
        "                    validation_data = (X_test, y_test),\n",
        "                    verbose=False)"
      ],
      "execution_count": null,
      "outputs": []
    },
    {
      "cell_type": "code",
      "metadata": {
        "id": "l5b0Udf8VcB6",
        "colab": {
          "base_uri": "https://localhost:8080/",
          "height": 34
        },
        "outputId": "9efb79e7-6e47-4f6c-aa0f-ecb43eac71a8"
      },
      "source": [
        "# evaluate the model\n",
        "_, train_mse = model_1.evaluate(X_train, y_train, verbose=0)\n",
        "_, test_mse = model_1.evaluate(X_test, y_test, verbose=0)\n",
        "print('Train: {}, Test: {}'.format(train_mse, test_mse))"
      ],
      "execution_count": null,
      "outputs": [
        {
          "output_type": "stream",
          "text": [
            "Train: 0.004562994930893183, Test: 0.04608117789030075\n"
          ],
          "name": "stdout"
        }
      ]
    },
    {
      "cell_type": "code",
      "metadata": {
        "id": "0ucuCQDuWA8S"
      },
      "source": [
        "y_pred_1 = model_1.predict(X_test)"
      ],
      "execution_count": null,
      "outputs": []
    },
    {
      "cell_type": "code",
      "metadata": {
        "id": "zwWmKGgeWTrf",
        "colab": {
          "base_uri": "https://localhost:8080/",
          "height": 269
        },
        "outputId": "199276a6-326f-4cc7-b156-4382f8f5918c"
      },
      "source": [
        "plt.figure()\n",
        "plt.scatter(X_train, y_train, c='red', label='Train')\n",
        "plt.scatter(X_test, y_test, c='blue', label='Test')\n",
        "plt.plot(X_test, y_pred_1)\n",
        "plt.legend()\n",
        "plt.ylim((-1.5, 1.5))\n",
        "plt.show()"
      ],
      "execution_count": null,
      "outputs": [
        {
          "output_type": "display_data",
          "data": {
            "image/png": "[encoded data removed]",
            "text/plain": [
              "<Figure size 432x288 with 1 Axes>"
            ]
          },
          "metadata": {
            "tags": [],
            "needs_background": "light"
          }
        }
      ]
    },
    {
      "cell_type": "markdown",
      "metadata": {
        "id": "jrbM_1AZezz_"
      },
      "source": [
        "# Dropout Model"
      ]
    },
    {
      "cell_type": "code",
      "metadata": {
        "id": "_vOPbuYHSlZm"
      },
      "source": [
        "model_2 = Sequential()\n",
        "model_2.add(Dense(128, input_dim=1, activation=\"relu\"))\n",
        "model_2.add(Dropout(0.2))\n",
        "model_2.add(Dense(128, activation=\"relu\"))\n",
        "model_2.add(Dropout(0.2))\n",
        "model_2.add(Dense(1, activation=\"linear\"))\n",
        "adam = Adam(learning_rate=0.01)\n",
        "model_2.compile(loss='mse', optimizer=adam, metrics=['mse'])\n",
        "\n",
        "drop_out_history = model_2.fit(X_train, y_train, epochs=500, \n",
        "                               validation_data = (X_test, y_test),\n",
        "                               verbose=False)"
      ],
      "execution_count": null,
      "outputs": []
    },
    {
      "cell_type": "code",
      "metadata": {
        "id": "s0rofVLkSZ62",
        "colab": {
          "base_uri": "https://localhost:8080/",
          "height": 34
        },
        "outputId": "3850231d-35a3-4a36-e0b4-a910907b7fbb"
      },
      "source": [
        "# evaluate the model\n",
        "_, train_mse = model_2.evaluate(X_train, y_train, verbose=0)\n",
        "_, test_mse = model_2.evaluate(X_test, y_test, verbose=0)\n",
        "print('Train: {}, Test: {}'.format(train_mse, test_mse))"
      ],
      "execution_count": null,
      "outputs": [
        {
          "output_type": "stream",
          "text": [
            "Train: 0.011907287873327732, Test: 0.03752660006284714\n"
          ],
          "name": "stdout"
        }
      ]
    },
    {
      "cell_type": "code",
      "metadata": {
        "id": "EtA4Oj8zV1HU"
      },
      "source": [
        "y_pred_2 = model_2.predict(X_test)"
      ],
      "execution_count": null,
      "outputs": []
    },
    {
      "cell_type": "code",
      "metadata": {
        "id": "Lkk2Nf3eV1Kx",
        "colab": {
          "base_uri": "https://localhost:8080/",
          "height": 269
        },
        "outputId": "dbc28816-2af8-436e-a005-bcc8decf9afe"
      },
      "source": [
        "plt.figure()\n",
        "plt.scatter(X_train, y_train, c='red', label='Train')\n",
        "plt.scatter(X_test, y_test, c='blue', label='Test')\n",
        "plt.plot(X_test, y_pred_2)\n",
        "plt.legend()\n",
        "plt.ylim((-1.5, 1.5))\n",
        "plt.show()"
      ],
      "execution_count": null,
      "outputs": [
        {
          "output_type": "display_data",
          "data": {
            "image/png": "[encoded data removed]",
            "text/plain": [
              "<Figure size 432x288 with 1 Axes>"
            ]
          },
          "metadata": {
            "tags": [],
            "needs_background": "light"
          }
        }
      ]
    },
    {
      "cell_type": "code",
      "metadata": {
        "id": "5dxX6HI77tdw"
      },
      "source": [],
      "execution_count": null,
      "outputs": []
    }
  ]
}