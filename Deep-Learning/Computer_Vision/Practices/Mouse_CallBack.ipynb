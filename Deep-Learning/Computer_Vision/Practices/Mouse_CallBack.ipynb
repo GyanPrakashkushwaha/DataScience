{
 "cells": [
  {
   "attachments": {},
   "cell_type": "markdown",
   "metadata": {},
   "source": [
    "# Mouse Blinding"
   ]
  },
  {
   "cell_type": "code",
   "execution_count": 12,
   "metadata": {},
   "outputs": [],
   "source": [
    "import cv2"
   ]
  },
  {
   "cell_type": "code",
   "execution_count": null,
   "metadata": {},
   "outputs": [],
   "source": [
    "img = cv2.imread(r'data\\Iron_man_hd.png')\n",
    "\n",
    "\n",
    "def draw(event , x , y , flags , param):\n",
    "    print('x- ',x)   \n",
    "    print('y- ',y)\n",
    "    print('flags ',flags) \n",
    "    print('param ',param)\n",
    "    if event == cv2.EVENT_LBUTTONDBLCLK:\n",
    "        cv2.circle(img=img,center=(x,y),radius=60,color=(168,19,46),thickness=6) # 46, 19, 168 RGB -> BGR\n",
    "    elif event == cv2.EVENT_RBUTTONDBLCLK:\n",
    "        cv2.rectangle(img=img,rec=([x,y,x+100,y+100]),color=(21,212,142),thickness=6) # 142, 212, 21\n",
    "    else:\n",
    "        pass\n",
    "\n",
    "while True:\n",
    "    cv2.imshow(winname='Mouse Blinding',mat=img)\n",
    "\n",
    "        \n",
    "    cv2.namedWindow(winname='Mouse Blinding')\n",
    "\n",
    "    cv2.setMouseCallback('Mouse Blinding',draw)\n",
    "\n",
    "\n",
    "    k = cv2.waitKey(1)\n",
    "\n",
    "    if k==ord('x'): \n",
    "        break\n",
    "\n",
    "cv2.destroyAllWindows()\n",
    "\n"
   ]
  },
  {
   "cell_type": "code",
   "execution_count": 38,
   "metadata": {},
   "outputs": [
    {
     "name": "stdout",
     "output_type": "stream",
     "text": [
      "codinate - 174 , 250\n",
      "codinate - 139 , 119\n",
      "Color - .31,47,89\n",
      "Color - .103,118,167\n",
      "Color - .28,27,121\n",
      "Color - .94,52,59\n",
      "Color - .11,14,22\n",
      "Color - .11,10,12\n",
      "Color - .16,15,17\n",
      "codinate - 112 , 239\n",
      "codinate - 28 , 499\n",
      "codinate - 342 , 369\n",
      "Color - .22,25,100\n",
      "Color - .104,166,206\n",
      "Color - .13,27,45\n",
      "Color - .7,16,20\n",
      "codinate - 171 , 42\n",
      "Color - .6,15,24\n",
      "codinate - 210 , 72\n",
      "codinate - 210 , 72\n",
      "codinate - 210 , 72\n",
      "Color - .13,27,46\n",
      "Color - .13,27,46\n",
      "Color - .13,27,46\n",
      "codinate - 206 , 88\n",
      "Color - .15,32,53\n",
      "codinate - 206 , 88\n",
      "Color - .15,32,53\n",
      "codinate - 206 , 88\n",
      "Color - .15,32,53\n",
      "codinate - 206 , 88\n",
      "Color - .15,32,53\n",
      "Color - .15,32,53\n",
      "Color - .15,32,53\n",
      "Color - .15,32,53\n",
      "codinate - 47 , 108\n",
      "codinate - 220 , 211\n",
      "codinate - 46 , 193\n",
      "codinate - 87 , 291\n",
      "Color - .14,30,53\n",
      "Color - .12,26,38\n",
      "Color - .15,30,56\n"
     ]
    }
   ],
   "source": [
    "img = cv2.imread(r'data\\Iron_man_hd.png')\n",
    "\n",
    "def mouse_event(event , x , y , flags , param):\n",
    "\n",
    "    if event == cv2.EVENT_LBUTTONDOWN:\n",
    "        print(f'codinate - {x} , {y}')\n",
    "        cord = '.'+str(x)+','+str(y)\n",
    "        cv2.putText(img=img,text=cord,org=(x,y),fontFace=1,fontScale=1,color=(239,240,230),thickness=2) #230, 240, 239\n",
    "\n",
    "    if event == cv2.EVENT_RBUTTONDOWN:\n",
    "        b = img[y,x,0] # o is for blue channel\n",
    "        g = img[y , x , 1] # 1 for green channel\n",
    "        r = img[y , x , 2] # 2 for red channel\n",
    "        print(f'Color - .{str(b)},{str(g)},{str(r)}')\n",
    "\n",
    "        color_BGR = f'.{str(b)},{str(g)},{str(r)}'\n",
    "        cv2.putText(img=img,text=color_BGR,org=(x,y),fontFace=1,fontScale=1,color=(7,245,229),thickness=2) #229, 245, 7\n",
    "\n",
    "\n",
    "while True:\n",
    "    cv2.imshow(winname='Project',mat=img)\n",
    "    cv2.setMouseCallback('Project',mouse_event)\n",
    "    cv2.namedWindow(winname='Project')\n",
    "\n",
    "\n",
    "    k = cv2.waitKey(23)\n",
    "\n",
    "    if k == ord('x'):\n",
    "        break\n",
    "\n",
    "cv2.destroyAllWindows()"
   ]
  },
  {
   "cell_type": "code",
   "execution_count": null,
   "metadata": {},
   "outputs": [],
   "source": []
  },
  {
   "cell_type": "code",
   "execution_count": null,
   "metadata": {},
   "outputs": [],
   "source": []
  },
  {
   "cell_type": "code",
   "execution_count": null,
   "metadata": {},
   "outputs": [],
   "source": []
  }
 ],
 "metadata": {
  "kernelspec": {
   "display_name": "Python 3",
   "language": "python",
   "name": "python3"
  },
  "language_info": {
   "codemirror_mode": {
    "name": "ipython",
    "version": 3
   },
   "file_extension": ".py",
   "mimetype": "text/x-python",
   "name": "python",
   "nbconvert_exporter": "python",
   "pygments_lexer": "ipython3",
   "version": "3.11.3"
  },
  "orig_nbformat": 4
 },
 "nbformat": 4,
 "nbformat_minor": 2
}
