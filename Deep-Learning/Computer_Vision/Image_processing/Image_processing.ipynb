{
 "cells": [
  {
   "attachments": {},
   "cell_type": "markdown",
   "metadata": {},
   "source": [
    "# Image Processing"
   ]
  },
  {
   "cell_type": "code",
   "execution_count": 2,
   "metadata": {},
   "outputs": [],
   "source": [
    "import cv2"
   ]
  },
  {
   "cell_type": "code",
   "execution_count": 3,
   "metadata": {},
   "outputs": [],
   "source": [
    "#Loads a color image. Any transparency of image will be neglected. It is the default flag.\n",
    "#this function is used to read the image from location\n",
    "img1 = cv2.imread('Images/32_1_2_20170117134733341.jpg.chip.jpg',1) # here the shows the color image(means 3 channel Image)\n",
    "img1 = cv2.resize(img1,(1000,500))#width ,height\n",
    "cv2.imshow(\"Colored Image\",img1)  #It accept two parameters 1)- Name of screen ,2) -  Image\n",
    "# print(\"Give image with color \\n\",img1)\n",
    "cv2.waitKey()\n",
    "cv2.destroyAllWindows()"
   ]
  },
  {
   "cell_type": "code",
   "execution_count": 5,
   "metadata": {},
   "outputs": [],
   "source": [
    "#cv2.IMREAD_GRAYSCALE : Loads image in grayscale mode\n",
    "img2 = cv2.imread('Images/32_1_2_20170117134733341.jpg.chip.jpg',0)\n",
    "img2 = cv2.resize(img2,(1280,700))#width ,height\n",
    "cv2.imshow(\"Gray Scale Image\",img2)\n",
    "# print(\"Image in gray scale==\\n\",img2)\n",
    "cv2.waitKey() # If I don'nt put this than the window we not be showed the window will come and go back\n",
    "cv2.destroyAllWindows()"
   ]
  },
  {
   "cell_type": "code",
   "execution_count": 9,
   "metadata": {},
   "outputs": [],
   "source": [
    "img2 = cv2.imread('Images/32_1_2_20170117134733341.jpg.chip.jpg',0)\n",
    "img2 = cv2.resize(img2,(1280,700))#width ,height\n",
    "cv2.imshow(\"Gray Scale Image\",img2)\n",
    "# print(\"Image in gray scale==\\n\",img2)\n",
    "cv2.waitKey(delay=3000) ## because of this 3000 my image has stoped for 3 seconds (Here 3000 means 3000 mili seconds)\n",
    "cv2.destroyAllWindows()"
   ]
  },
  {
   "cell_type": "code",
   "execution_count": 4,
   "metadata": {},
   "outputs": [],
   "source": [
    "#cv2.IMREAD_UNCHANGED : Loads image as such including alpha channel\n",
    "img3 = cv2.imread('Images/32_1_2_20170117134733341.jpg.chip.jpg',-1)\n",
    "img3 = cv2.resize(img3,(1280,700))#width ,height\n",
    "cv2.imshow(\"Original Image\",img3)\n",
    "# print(\"Image in original value==\\n\",img3)\n",
    "cv2.waitKey()\n",
    "cv2.destroyAllWindows()"
   ]
  },
  {
   "cell_type": "code",
   "execution_count": null,
   "metadata": {},
   "outputs": [],
   "source": [
    " "
   ]
  },
  {
   "cell_type": "code",
   "execution_count": null,
   "metadata": {},
   "outputs": [],
   "source": []
  },
  {
   "cell_type": "code",
   "execution_count": null,
   "metadata": {},
   "outputs": [],
   "source": []
  },
  {
   "cell_type": "code",
   "execution_count": null,
   "metadata": {},
   "outputs": [],
   "source": []
  },
  {
   "cell_type": "code",
   "execution_count": null,
   "metadata": {},
   "outputs": [],
   "source": []
  },
  {
   "cell_type": "code",
   "execution_count": null,
   "metadata": {},
   "outputs": [],
   "source": []
  },
  {
   "cell_type": "code",
   "execution_count": null,
   "metadata": {},
   "outputs": [],
   "source": []
  },
  {
   "cell_type": "code",
   "execution_count": null,
   "metadata": {},
   "outputs": [],
   "source": []
  },
  {
   "cell_type": "code",
   "execution_count": null,
   "metadata": {},
   "outputs": [],
   "source": []
  }
 ],
 "metadata": {
  "kernelspec": {
   "display_name": "Python 3",
   "language": "python",
   "name": "python3"
  },
  "language_info": {
   "codemirror_mode": {
    "name": "ipython",
    "version": 3
   },
   "file_extension": ".py",
   "mimetype": "text/x-python",
   "name": "python",
   "nbconvert_exporter": "python",
   "pygments_lexer": "ipython3",
   "version": "3.11.3"
  },
  "orig_nbformat": 4
 },
 "nbformat": 4,
 "nbformat_minor": 2
}
