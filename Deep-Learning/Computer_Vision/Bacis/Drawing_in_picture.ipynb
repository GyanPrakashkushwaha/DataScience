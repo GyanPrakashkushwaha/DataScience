{
 "cells": [
  {
   "cell_type": "code",
   "execution_count": 6,
   "metadata": {},
   "outputs": [],
   "source": [
    "import cv2\n",
    "import numpy as np\n"
   ]
  },
  {
   "attachments": {},
   "cell_type": "markdown",
   "metadata": {},
   "source": [
    "## Line\n"
   ]
  },
  {
   "cell_type": "code",
   "execution_count": 31,
   "metadata": {},
   "outputs": [],
   "source": [
    "img = cv2.imread('data/Iron_man_hd.png')\n",
    "img = cv2.resize(img,(1280,700))\n",
    "\n",
    "# Drawing line\n",
    "img = cv2.line(img=img,pt1=(100,100),pt2=(3000,3000),color=(148, 86, 47),thickness=10) # RGB -> BGR\n",
    "\n",
    "cv2.imshow(\"Original Image\",img)\n",
    "cv2.waitKey()\n",
    "cv2.destroyAllWindows()"
   ]
  },
  {
   "attachments": {},
   "cell_type": "markdown",
   "metadata": {},
   "source": [
    "## Arrowed Line"
   ]
  },
  {
   "cell_type": "code",
   "execution_count": 36,
   "metadata": {},
   "outputs": [],
   "source": [
    "img = cv2.imread('data/Iron_man_hd.png')\n",
    "img = cv2.resize(img,(1280,700))\n",
    "\n",
    "# Drawing arrowed Line\n",
    "img = cv2.arrowedLine(img=img,pt1=(40,0),pt2=(300,300),color=(148, 86, 47),thickness=10) # RGB -> BGR\n",
    "\n",
    "cv2.imshow(\"Original Image\",img)\n",
    "cv2.waitKey()\n",
    "cv2.destroyAllWindows()"
   ]
  },
  {
   "attachments": {},
   "cell_type": "markdown",
   "metadata": {},
   "source": [
    "## Rectangle"
   ]
  },
  {
   "cell_type": "code",
   "execution_count": 42,
   "metadata": {},
   "outputs": [],
   "source": [
    "img = cv2.imread('data/Iron_man_hd.png')\n",
    "img = cv2.resize(img,(1280,700))\n",
    "\n",
    "# Drawing circle\n",
    "img = cv2.rectangle(img=img,pt1=(100,100),pt2=(300,300),color=(148, 86, 47),thickness=7) \n",
    "\n",
    "cv2.imshow(\"Original Image\",img)\n",
    "cv2.waitKey()\n",
    "cv2.destroyAllWindows()\n",
    "\n",
    "\n",
    "# Filled Rectangle\n",
    "img = cv2.imread('data/Iron_man_hd.png')\n",
    "img = cv2.resize(img,(1280,700))\n",
    "\n",
    "# Drawing circle\n",
    "img = cv2.rectangle(img=img,pt1=(100,100),pt2=(300,300),color=(148, 86, 47),thickness=-1) \n",
    "\n",
    "cv2.imshow(\"Original Image\",img)\n",
    "cv2.waitKey()\n",
    "cv2.destroyAllWindows()\n"
   ]
  },
  {
   "attachments": {},
   "cell_type": "markdown",
   "metadata": {},
   "source": [
    "## Circle"
   ]
  },
  {
   "cell_type": "code",
   "execution_count": 52,
   "metadata": {},
   "outputs": [],
   "source": [
    "img = cv2.imread('data/Iron_man_hd.png')\n",
    "img = cv2.resize(img,(1280,700))\n",
    "\n",
    "# Drawing circle\n",
    "img = cv2.circle(img=img,radius=200,center=(500,500),color=(148, 86, 47),thickness=5) \n",
    "\n",
    "cv2.imshow(\"Original Image\",img)\n",
    "cv2.waitKey()\n",
    "cv2.destroyAllWindows()\n"
   ]
  },
  {
   "attachments": {},
   "cell_type": "markdown",
   "metadata": {},
   "source": [
    "## Text"
   ]
  },
  {
   "cell_type": "code",
   "execution_count": 5,
   "metadata": {},
   "outputs": [],
   "source": [
    "img = cv2.imread('data/Iron_man_hd.png')\n",
    "img = cv2.resize(img,(1280,700))\n",
    "\n",
    "# Drawing circle\n",
    "img = cv2.putText(img=img,text='Iron Man',org=(60,80),fontFace=3,fontScale=3,color=(116, 217, 28),lineType=cv2.LINE_AA)\n",
    "\n",
    "cv2.imshow(\"Original Image\",img)\n",
    "cv2.waitKey()\n",
    "cv2.destroyAllWindows()"
   ]
  },
  {
   "attachments": {},
   "cell_type": "markdown",
   "metadata": {},
   "source": [
    "## Blank black Image"
   ]
  },
  {
   "cell_type": "code",
   "execution_count": 11,
   "metadata": {},
   "outputs": [],
   "source": [
    "\n",
    "\n",
    "# img = cv2.imread(\"data/Iron_man_hd.png\")\n",
    "# img = cv2.resize(img,(600,700))\n",
    "\n",
    "#Creating Blank Image---\n",
    "\n",
    "\n",
    "img = np.zeros([512, 512, 3], np.uint8)*255  #For white screen\n",
    "#img = np.ones([512,512,3], np.uint8)*255 #create window of an black screen\n",
    "\n",
    "#Here line accept 5 parameter (img,starting,ending,color,thickness)\n",
    "img = cv2.line(img, (0,0), (200,200), (154, 92, 424), 8) #color format BGR \n",
    "\n",
    "#arrowed line accept also accpet 5 parameter  (img,starting,ending,color,thickness) \n",
    "img = cv2.arrowedLine(img, (0,125), (255,255), (255, 0, 125), 10)\n",
    "\n",
    "#Rectangle - accept parameter(img,start_co,end_co,colot ,thickness)\n",
    "img = cv2.rectangle(img, (384, 10), (510, 128), (128, 0, 255), 8)\n",
    "\n",
    "#circle - accept(img,star_co,radius,color,thickness)\n",
    "img = cv2.circle(img, (447, 125), 63, (214, 255, 0), -5)\n",
    "\n",
    "font = cv2.FONT_ITALIC\n",
    "#puttext -accept(img,text,start_co,font,fontsize,color,thickness,linetype)\n",
    "img = cv2.putText(img, 'Iron Man', (20, 500), font, 4, (0, 125, 255), 10,cv2.LINE_AA)\n",
    "\n",
    "#ellipse-accept(img,start_cor,(length,height),color,thickness)\n",
    "img = cv2.ellipse(img,(400,600),(100,50),0,0,180,155,5)\n",
    "\n",
    "\n",
    "pts = np.array([[100,150],[200,30],[170,20],[50,10]], np.int32)\n",
    "pts = pts.reshape((-1,1,2))\n",
    "img = cv2.polylines(img,[pts],True,(0,255,155))\n",
    "\n",
    "cv2.imshow('image', img)\n",
    "\n",
    "cv2.waitKey(0)\n",
    "cv2.destroyAllWindows() "
   ]
  },
  {
   "attachments": {},
   "cell_type": "markdown",
   "metadata": {},
   "source": [
    "## Blank White Image"
   ]
  },
  {
   "cell_type": "code",
   "execution_count": 13,
   "metadata": {},
   "outputs": [],
   "source": [
    "# img = np.zeros([512, 512, 3], np.uint8)*255  #For white screen\n",
    "img = np.ones([512,512,3], np.uint8)*255 #create window of an black screen\n",
    "\n",
    "#Here line accept 5 parameter (img,starting,ending,color,thickness)\n",
    "img = cv2.line(img, (0,0), (200,200), (154, 92, 424), 8) #color format BGR \n",
    "\n",
    "#arrowed line accept also accpet 5 parameter  (img,starting,ending,color,thickness) \n",
    "img = cv2.arrowedLine(img, (0,125), (255,255), (255, 0, 125), 10)\n",
    "\n",
    "#Rectangle - accept parameter(img,start_co,end_co,colot ,thickness)\n",
    "img = cv2.rectangle(img, (384, 10), (510, 128), (128, 0, 255), 8)\n",
    "\n",
    "#circle - accept(img,star_co,radius,color,thickness)\n",
    "img = cv2.circle(img, (447, 125), 63, (214, 255, 0), -5)\n",
    "\n",
    "font = cv2.FONT_ITALIC\n",
    "#puttext -accept(img,text,start_co,font,fontsize,color,thickness,linetype)\n",
    "img = cv2.putText(img, 'Iron Man', (20, 500), font, 4, (0, 125, 255), 10,cv2.LINE_AA)\n",
    "\n",
    "#ellipse-accept(img,start_cor,(length,height),color,thickness)\n",
    "img = cv2.ellipse(img,(400,600),(100,50),0,0,180,155,5)\n",
    "\n",
    "pts = np.array([[100,150],[200,30],[170,20],[50,10]], np.int32)\n",
    "pts = pts.reshape((-1,1,2))\n",
    "img = cv2.polylines(img,[pts],True,(0,255,155))\n",
    "\n",
    "cv2.imshow('image', img)\n",
    "\n",
    "cv2.waitKey(0)\n",
    "cv2.destroyAllWindows() "
   ]
  }
 ],
 "metadata": {
  "kernelspec": {
   "display_name": "Python 3",
   "language": "python",
   "name": "python3"
  },
  "language_info": {
   "codemirror_mode": {
    "name": "ipython",
    "version": 3
   },
   "file_extension": ".py",
   "mimetype": "text/x-python",
   "name": "python",
   "nbconvert_exporter": "python",
   "pygments_lexer": "ipython3",
   "version": "3.11.3"
  },
  "orig_nbformat": 4
 },
 "nbformat": 4,
 "nbformat_minor": 2
}
