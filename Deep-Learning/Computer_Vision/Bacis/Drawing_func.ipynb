{
 "cells": [
  {
   "cell_type": "code",
   "execution_count": 2,
   "metadata": {},
   "outputs": [],
   "source": [
    "import cv2"
   ]
  },
  {
   "attachments": {},
   "cell_type": "markdown",
   "metadata": {},
   "source": [
    "## Line\n"
   ]
  },
  {
   "cell_type": "code",
   "execution_count": 31,
   "metadata": {},
   "outputs": [],
   "source": [
    "img = cv2.imread('data/Iron_man_hd.png')\n",
    "img = cv2.resize(img,(1280,700))\n",
    "\n",
    "# Drawing line\n",
    "img = cv2.line(img=img,pt1=(100,100),pt2=(3000,3000),color=(148, 86, 47),thickness=10) # RGB -> BGR\n",
    "\n",
    "cv2.imshow(\"Original Image\",img)\n",
    "cv2.waitKey()\n",
    "cv2.destroyAllWindows()"
   ]
  },
  {
   "attachments": {},
   "cell_type": "markdown",
   "metadata": {},
   "source": [
    "## Arrowed Line"
   ]
  },
  {
   "cell_type": "code",
   "execution_count": 36,
   "metadata": {},
   "outputs": [],
   "source": [
    "img = cv2.imread('data/Iron_man_hd.png')\n",
    "img = cv2.resize(img,(1280,700))\n",
    "\n",
    "# Drawing arrowed Line\n",
    "img = cv2.arrowedLine(img=img,pt1=(40,0),pt2=(300,300),color=(148, 86, 47),thickness=10) # RGB -> BGR\n",
    "\n",
    "cv2.imshow(\"Original Image\",img)\n",
    "cv2.waitKey()\n",
    "cv2.destroyAllWindows()"
   ]
  },
  {
   "attachments": {},
   "cell_type": "markdown",
   "metadata": {},
   "source": [
    "## Rectangle"
   ]
  },
  {
   "cell_type": "code",
   "execution_count": 42,
   "metadata": {},
   "outputs": [],
   "source": [
    "img = cv2.imread('data/Iron_man_hd.png')\n",
    "img = cv2.resize(img,(1280,700))\n",
    "\n",
    "# Drawing circle\n",
    "img = cv2.rectangle(img=img,pt1=(100,100),pt2=(300,300),color=(148, 86, 47),thickness=7) \n",
    "\n",
    "cv2.imshow(\"Original Image\",img)\n",
    "cv2.waitKey()\n",
    "cv2.destroyAllWindows()\n",
    "\n",
    "\n",
    "# Filled Rectangle\n",
    "img = cv2.imread('data/Iron_man_hd.png')\n",
    "img = cv2.resize(img,(1280,700))\n",
    "\n",
    "# Drawing circle\n",
    "img = cv2.rectangle(img=img,pt1=(100,100),pt2=(300,300),color=(148, 86, 47),thickness=-1) \n",
    "\n",
    "cv2.imshow(\"Original Image\",img)\n",
    "cv2.waitKey()\n",
    "cv2.destroyAllWindows()\n"
   ]
  },
  {
   "attachments": {},
   "cell_type": "markdown",
   "metadata": {},
   "source": [
    "## Circle"
   ]
  },
  {
   "cell_type": "code",
   "execution_count": 52,
   "metadata": {},
   "outputs": [],
   "source": [
    "img = cv2.imread('data/Iron_man_hd.png')\n",
    "img = cv2.resize(img,(1280,700))\n",
    "\n",
    "# Drawing circle\n",
    "img = cv2.circle(img=img,radius=200,center=(500,500),color=(148, 86, 47),thickness=5) \n",
    "\n",
    "cv2.imshow(\"Original Image\",img)\n",
    "cv2.waitKey()\n",
    "cv2.destroyAllWindows()\n"
   ]
  },
  {
   "attachments": {},
   "cell_type": "markdown",
   "metadata": {},
   "source": [
    "## Text"
   ]
  },
  {
   "cell_type": "code",
   "execution_count": 4,
   "metadata": {},
   "outputs": [],
   "source": [
    "img = cv2.imread('data/Iron_man_hd.png')\n",
    "img = cv2.resize(img,(1280,700))\n",
    "\n",
    "# Drawing circle\n",
    "img = cv2.putText(img=img,text='Iron Man',org=(60,80),fontFace=3,fontScale=3,color=(116, 217, 28),lineType=cv2.LINE_AA)\n",
    "\n",
    "cv2.imshow(\"Original Image\",img)\n",
    "cv2.waitKey()\n",
    "cv2.destroyAllWindows()"
   ]
  },
  {
   "cell_type": "code",
   "execution_count": null,
   "metadata": {},
   "outputs": [],
   "source": []
  },
  {
   "cell_type": "code",
   "execution_count": null,
   "metadata": {},
   "outputs": [],
   "source": []
  }
 ],
 "metadata": {
  "kernelspec": {
   "display_name": "Python 3",
   "language": "python",
   "name": "python3"
  },
  "language_info": {
   "codemirror_mode": {
    "name": "ipython",
    "version": 3
   },
   "file_extension": ".py",
   "mimetype": "text/x-python",
   "name": "python",
   "nbconvert_exporter": "python",
   "pygments_lexer": "ipython3",
   "version": "3.11.3"
  },
  "orig_nbformat": 4
 },
 "nbformat": 4,
 "nbformat_minor": 2
}
