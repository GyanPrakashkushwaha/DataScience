{
 "cells": [
  {
   "cell_type": "code",
   "execution_count": 1,
   "metadata": {},
   "outputs": [],
   "source": [
    "import cv2\n",
    "import datetime"
   ]
  },
  {
   "attachments": {},
   "cell_type": "markdown",
   "metadata": {},
   "source": [
    "## Printing Datetime in Video"
   ]
  },
  {
   "cell_type": "code",
   "execution_count": 30,
   "metadata": {},
   "outputs": [
    {
     "name": "stdout",
     "output_type": "stream",
     "text": [
      "Width 1920.0\n",
      "Height 1080.0\n"
     ]
    }
   ],
   "source": [
    "cap = cv2.VideoCapture('data/Face_mask_detection.mp4')\n",
    "\n",
    "print(f'Width {cap.get(cv2.CAP_PROP_FRAME_WIDTH)}') # This is the actual width of my vidos\n",
    "print(f'Height {cap.get(cv2.CAP_PROP_FRAME_HEIGHT)}') # This is the actual height of my vidos\n",
    "\n",
    "\n",
    "while cap.isOpened():\n",
    "    ret , frame = cap.read()\n",
    "    if ret ==True:\n",
    "        frame = cv2.resize(src=frame,dsize=([1080,620]))\n",
    "        frame = cv2.putText(img=frame,text=str(datetime.datetime.now()),org=(20,30),fontFace=2,fontScale=1,color=(0, 217, 0),lineType=cv2.LINE_AA)\n",
    "        cv2.imshow(winname='Window',mat=frame)\n",
    "        \n",
    "        k = cv2.waitKey(25)\n",
    "\n",
    "        if k == ord('x'):\n",
    "            break\n",
    "cap.release()\n",
    "cv2.destroyAllWindows()"
   ]
  },
  {
   "attachments": {},
   "cell_type": "markdown",
   "metadata": {},
   "source": [
    "## Printing datetime in webcam"
   ]
  },
  {
   "cell_type": "code",
   "execution_count": 34,
   "metadata": {},
   "outputs": [],
   "source": [
    "cap = cv2.VideoCapture(0)\n",
    "\n",
    "while cap.isOpened():\n",
    "    ret , frame = cap.read()\n",
    "    if ret ==True:\n",
    "        frame = cv2.resize(src=frame,dsize=([1080,620]))\n",
    "        frame = cv2.flip(src=frame,flipCode=1)\n",
    "        frame = cv2.putText(img=frame,text=str(datetime.datetime.now()),org=(20,30),fontFace=2,fontScale=1,color=(0, 217, 0),lineType=cv2.LINE_AA)\n",
    "        cv2.imshow(winname='Window',mat=frame)\n",
    "        \n",
    "        k = cv2.waitKey(25)\n",
    "\n",
    "        if k == ord('x'):\n",
    "            break\n",
    "cap.release()\n",
    "cv2.destroyAllWindows()"
   ]
  },
  {
   "cell_type": "code",
   "execution_count": null,
   "metadata": {},
   "outputs": [],
   "source": []
  },
  {
   "cell_type": "code",
   "execution_count": null,
   "metadata": {},
   "outputs": [],
   "source": []
  },
  {
   "cell_type": "code",
   "execution_count": null,
   "metadata": {},
   "outputs": [],
   "source": []
  },
  {
   "cell_type": "code",
   "execution_count": null,
   "metadata": {},
   "outputs": [],
   "source": []
  }
 ],
 "metadata": {
  "kernelspec": {
   "display_name": "Python 3",
   "language": "python",
   "name": "python3"
  },
  "language_info": {
   "codemirror_mode": {
    "name": "ipython",
    "version": 3
   },
   "file_extension": ".py",
   "mimetype": "text/x-python",
   "name": "python",
   "nbconvert_exporter": "python",
   "pygments_lexer": "ipython3",
   "version": "3.11.3"
  },
  "orig_nbformat": 4
 },
 "nbformat": 4,
 "nbformat_minor": 2
}
