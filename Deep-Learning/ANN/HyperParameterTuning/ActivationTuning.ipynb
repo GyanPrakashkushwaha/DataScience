{
 "cells": [
  {
   "attachments": {},
   "cell_type": "markdown",
   "metadata": {},
   "source": [
    "# Activation Tuning"
   ]
  },
  {
   "cell_type": "code",
   "execution_count": 41,
   "metadata": {},
   "outputs": [],
   "source": [
    "import matplotlib.pyplot as plt\n",
    "%matplotlib inline\n",
    "import numpy as np\n",
    "import pandas as pd\n",
    "import seaborn as sns\n",
    "from sklearn.model_selection import train_test_split\n",
    "from sklearn.preprocessing import StandardScaler\n",
    "\n",
    "import kerastuner as kt # for tuning\n",
    "import tensorflow as tf\n",
    "from tensorflow import keras\n",
    "from tensorflow.keras import Sequential\n",
    "from tensorflow.keras.layers import Dense \n",
    "from tensorflow.keras import regularizers"
   ]
  },
  {
   "cell_type": "code",
   "execution_count": 42,
   "metadata": {},
   "outputs": [
    {
     "data": {
      "text/plain": [
       "array([[ 0.6839137 , -0.70579433, -0.625833  , ...,  0.26501306,\n",
       "        -0.11390738,  0.87654579],\n",
       "       [-0.52726014, -0.26972894,  0.29889263, ...,  0.48823955,\n",
       "        -0.94569142, -1.03690611],\n",
       "       [-0.52726014, -0.39431905, -0.29945925, ..., -0.15517797,\n",
       "        -0.91619553, -1.03690611],\n",
       "       ...,\n",
       "       [ 0.6839137 ,  0.07289387,  0.13570575, ...,  0.21248918,\n",
       "         0.77981801,  0.09377001],\n",
       "       [-0.22446668, -1.32874488, -1.06099801, ..., -0.12891603,\n",
       "        -0.65073254, -0.60203068],\n",
       "       [-0.22446668, -0.45661411,  0.13570575, ..., -0.81172646,\n",
       "        -0.77166568, -0.51505559]])"
      ]
     },
     "execution_count": 42,
     "metadata": {},
     "output_type": "execute_result"
    }
   ],
   "source": [
    "df = pd.read_csv('diabetes.csv')\n",
    "X = df.drop(columns=['Outcome'])\n",
    "y = df['Outcome']\n",
    "X_train, X_test, y_train, y_test = train_test_split(\n",
    "     X, y, test_size=0.25, random_state=42)\n",
    "scaler = StandardScaler()\n",
    "scaler.fit_transform(X_train)\n",
    "scaler.transform(X_test)"
   ]
  },
  {
   "cell_type": "code",
   "execution_count": 43,
   "metadata": {},
   "outputs": [],
   "source": [
    "def build_model_activation(hp):\n",
    "    model = Sequential()\n",
    "\n",
    "    for i in range(hp.Int('num_layers',1,3)):\n",
    "        if i ==0:\n",
    "            model.add(Dense(\n",
    "                unit = 32,\n",
    "                activation = hp.Choice(name = 'activation',values = ['relu','tanh','elu']),\n",
    "                input_dim =8))\n",
    "        else:\n",
    "            model.add(Dense(\n",
    "                unit = 128,\n",
    "                activation = hp.Choice(name = 'activation',values = ['relu','tanh','elu']),\n",
    "                kernel_regularizer = regularizers.L2(0.02)\n",
    "            ))\n",
    "    model.add(Dense(\n",
    "        units = 1,\n",
    "        activation = 'sigmoid'\n",
    "    ))\n",
    "\n",
    "\n",
    "    optimizer = hp.Choice('optimizer', values=['adam', 'sgd', 'rmsprop', 'adadelta'])\n",
    "    model.compile(optimizer=optimizer, loss='binary_crossentropy', metrics=['accuracy'])\n",
    "\n",
    "    return model"
   ]
  },
  {
   "cell_type": "code",
   "execution_count": 44,
   "metadata": {},
   "outputs": [],
   "source": [
    "# def build_model_activation(hp):\n",
    "#     model = Sequential()\n",
    "#     input_dim = 8\n",
    "\n",
    "#     for i in range(hp.Int('num_layers', 1, 3)):  # Define the number of layers\n",
    "#         if i == 0:\n",
    "#             model.add(Dense(units=32,\n",
    "#                             activation=hp.Choice('activation_' + str(i), values=['relu', 'tanh', 'elu']),\n",
    "#                             input_dim=input_dim))\n",
    "#         else:\n",
    "#             model.add(Dense(units=128,\n",
    "#                             activation=hp.Choice('activation_' + str(i), values=['relu', 'tanh', 'elu']),\n",
    "#                             kernel_regularizer=regularizers.L2(0.01)))\n",
    "\n",
    "#     model.add(Dense(units=1, activation='sigmoid'))\n",
    "\n",
    "#     optimizer = hp.Choice('optimizer', values=['adam', 'sgd', 'rmsprop', 'adadelta'])\n",
    "#     model.compile(optimizer=optimizer, loss='binary_crossentropy', metrics=['accuracy'])\n",
    "\n",
    "#     return model\n"
   ]
  },
  {
   "cell_type": "code",
   "execution_count": 45,
   "metadata": {},
   "outputs": [],
   "source": [
    "tuner = kt.RandomSearch(\n",
    "    hypermodel=build_model_activation,\n",
    "    objective='val_accuracy',\n",
    "    max_trials=5,\n",
    "    directory ='tuner',\n",
    "    project_name = 'ActivationTuner'\n",
    ")"
   ]
  },
  {
   "cell_type": "code",
   "execution_count": 46,
   "metadata": {},
   "outputs": [
    {
     "name": "stdout",
     "output_type": "stream",
     "text": [
      "Trial 5 Complete [00h 00m 01s]\n",
      "val_accuracy: 0.640625\n",
      "\n",
      "Best val_accuracy So Far: 0.6614583134651184\n",
      "Total elapsed time: 00h 00m 09s\n",
      "INFO:tensorflow:Oracle triggered exit\n"
     ]
    }
   ],
   "source": [
    "tuner.search(X_train,y_train,epochs = 5,validation_data = (X_test,y_test))"
   ]
  },
  {
   "cell_type": "code",
   "execution_count": 47,
   "metadata": {},
   "outputs": [
    {
     "data": {
      "text/plain": [
       "{'num_layers': 1,\n",
       " 'activation_0': 'elu',\n",
       " 'optimizer': 'rmsprop',\n",
       " 'activation_1': 'tanh'}"
      ]
     },
     "execution_count": 47,
     "metadata": {},
     "output_type": "execute_result"
    }
   ],
   "source": [
    "tuner.get_best_hyperparameters()[0].values"
   ]
  },
  {
   "cell_type": "code",
   "execution_count": null,
   "metadata": {},
   "outputs": [],
   "source": []
  },
  {
   "cell_type": "code",
   "execution_count": null,
   "metadata": {},
   "outputs": [],
   "source": []
  },
  {
   "cell_type": "code",
   "execution_count": null,
   "metadata": {},
   "outputs": [],
   "source": []
  },
  {
   "cell_type": "code",
   "execution_count": null,
   "metadata": {},
   "outputs": [],
   "source": []
  },
  {
   "cell_type": "code",
   "execution_count": null,
   "metadata": {},
   "outputs": [],
   "source": []
  },
  {
   "cell_type": "code",
   "execution_count": null,
   "metadata": {},
   "outputs": [],
   "source": []
  },
  {
   "cell_type": "code",
   "execution_count": null,
   "metadata": {},
   "outputs": [],
   "source": []
  },
  {
   "cell_type": "code",
   "execution_count": null,
   "metadata": {},
   "outputs": [],
   "source": []
  },
  {
   "cell_type": "code",
   "execution_count": null,
   "metadata": {},
   "outputs": [],
   "source": []
  },
  {
   "cell_type": "code",
   "execution_count": null,
   "metadata": {},
   "outputs": [],
   "source": []
  },
  {
   "cell_type": "code",
   "execution_count": null,
   "metadata": {},
   "outputs": [],
   "source": []
  },
  {
   "cell_type": "code",
   "execution_count": null,
   "metadata": {},
   "outputs": [],
   "source": []
  },
  {
   "cell_type": "code",
   "execution_count": null,
   "metadata": {},
   "outputs": [],
   "source": []
  }
 ],
 "metadata": {
  "kernelspec": {
   "display_name": "Python 3",
   "language": "python",
   "name": "python3"
  },
  "language_info": {
   "codemirror_mode": {
    "name": "ipython",
    "version": 3
   },
   "file_extension": ".py",
   "mimetype": "text/x-python",
   "name": "python",
   "nbconvert_exporter": "python",
   "pygments_lexer": "ipython3",
   "version": "3.11.3"
  },
  "orig_nbformat": 4
 },
 "nbformat": 4,
 "nbformat_minor": 2
}
