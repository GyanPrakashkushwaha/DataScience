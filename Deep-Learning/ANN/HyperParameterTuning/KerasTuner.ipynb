{
 "cells": [
  {
   "attachments": {},
   "cell_type": "markdown",
   "metadata": {},
   "source": [
    "# Hyper Parameter Tuning"
   ]
  },
  {
   "cell_type": "code",
   "execution_count": 39,
   "metadata": {},
   "outputs": [],
   "source": [
    "import matplotlib.pyplot as plt\n",
    "%matplotlib inline\n",
    "import numpy as np   \n",
    "import pandas as pd\n",
    "import seaborn as sns\n",
    "\n",
    "from sklearn.model_selection import train_test_split\n",
    "from sklearn.preprocessing import StandardScaler\n",
    "\n",
    "# tensorflow and keras\n",
    "import tensorflow\n",
    "from tensorflow import keras\n",
    "from tensorflow.keras import Sequential\n",
    "from tensorflow.keras.layers import Dense \n",
    "\n"
   ]
  },
  {
   "cell_type": "code",
   "execution_count": 40,
   "metadata": {},
   "outputs": [
    {
     "data": {
      "text/html": [
       "<div>\n",
       "<style scoped>\n",
       "    .dataframe tbody tr th:only-of-type {\n",
       "        vertical-align: middle;\n",
       "    }\n",
       "\n",
       "    .dataframe tbody tr th {\n",
       "        vertical-align: top;\n",
       "    }\n",
       "\n",
       "    .dataframe thead th {\n",
       "        text-align: right;\n",
       "    }\n",
       "</style>\n",
       "<table border=\"1\" class=\"dataframe\">\n",
       "  <thead>\n",
       "    <tr style=\"text-align: right;\">\n",
       "      <th></th>\n",
       "      <th>Pregnancies</th>\n",
       "      <th>Glucose</th>\n",
       "      <th>BloodPressure</th>\n",
       "      <th>SkinThickness</th>\n",
       "      <th>Insulin</th>\n",
       "      <th>BMI</th>\n",
       "      <th>DiabetesPedigreeFunction</th>\n",
       "      <th>Age</th>\n",
       "      <th>Outcome</th>\n",
       "    </tr>\n",
       "  </thead>\n",
       "  <tbody>\n",
       "    <tr>\n",
       "      <th>0</th>\n",
       "      <td>6</td>\n",
       "      <td>148</td>\n",
       "      <td>72</td>\n",
       "      <td>35</td>\n",
       "      <td>0</td>\n",
       "      <td>33.6</td>\n",
       "      <td>0.627</td>\n",
       "      <td>50</td>\n",
       "      <td>1</td>\n",
       "    </tr>\n",
       "    <tr>\n",
       "      <th>1</th>\n",
       "      <td>1</td>\n",
       "      <td>85</td>\n",
       "      <td>66</td>\n",
       "      <td>29</td>\n",
       "      <td>0</td>\n",
       "      <td>26.6</td>\n",
       "      <td>0.351</td>\n",
       "      <td>31</td>\n",
       "      <td>0</td>\n",
       "    </tr>\n",
       "    <tr>\n",
       "      <th>2</th>\n",
       "      <td>8</td>\n",
       "      <td>183</td>\n",
       "      <td>64</td>\n",
       "      <td>0</td>\n",
       "      <td>0</td>\n",
       "      <td>23.3</td>\n",
       "      <td>0.672</td>\n",
       "      <td>32</td>\n",
       "      <td>1</td>\n",
       "    </tr>\n",
       "    <tr>\n",
       "      <th>3</th>\n",
       "      <td>1</td>\n",
       "      <td>89</td>\n",
       "      <td>66</td>\n",
       "      <td>23</td>\n",
       "      <td>94</td>\n",
       "      <td>28.1</td>\n",
       "      <td>0.167</td>\n",
       "      <td>21</td>\n",
       "      <td>0</td>\n",
       "    </tr>\n",
       "    <tr>\n",
       "      <th>4</th>\n",
       "      <td>0</td>\n",
       "      <td>137</td>\n",
       "      <td>40</td>\n",
       "      <td>35</td>\n",
       "      <td>168</td>\n",
       "      <td>43.1</td>\n",
       "      <td>2.288</td>\n",
       "      <td>33</td>\n",
       "      <td>1</td>\n",
       "    </tr>\n",
       "    <tr>\n",
       "      <th>...</th>\n",
       "      <td>...</td>\n",
       "      <td>...</td>\n",
       "      <td>...</td>\n",
       "      <td>...</td>\n",
       "      <td>...</td>\n",
       "      <td>...</td>\n",
       "      <td>...</td>\n",
       "      <td>...</td>\n",
       "      <td>...</td>\n",
       "    </tr>\n",
       "    <tr>\n",
       "      <th>763</th>\n",
       "      <td>10</td>\n",
       "      <td>101</td>\n",
       "      <td>76</td>\n",
       "      <td>48</td>\n",
       "      <td>180</td>\n",
       "      <td>32.9</td>\n",
       "      <td>0.171</td>\n",
       "      <td>63</td>\n",
       "      <td>0</td>\n",
       "    </tr>\n",
       "    <tr>\n",
       "      <th>764</th>\n",
       "      <td>2</td>\n",
       "      <td>122</td>\n",
       "      <td>70</td>\n",
       "      <td>27</td>\n",
       "      <td>0</td>\n",
       "      <td>36.8</td>\n",
       "      <td>0.340</td>\n",
       "      <td>27</td>\n",
       "      <td>0</td>\n",
       "    </tr>\n",
       "    <tr>\n",
       "      <th>765</th>\n",
       "      <td>5</td>\n",
       "      <td>121</td>\n",
       "      <td>72</td>\n",
       "      <td>23</td>\n",
       "      <td>112</td>\n",
       "      <td>26.2</td>\n",
       "      <td>0.245</td>\n",
       "      <td>30</td>\n",
       "      <td>0</td>\n",
       "    </tr>\n",
       "    <tr>\n",
       "      <th>766</th>\n",
       "      <td>1</td>\n",
       "      <td>126</td>\n",
       "      <td>60</td>\n",
       "      <td>0</td>\n",
       "      <td>0</td>\n",
       "      <td>30.1</td>\n",
       "      <td>0.349</td>\n",
       "      <td>47</td>\n",
       "      <td>1</td>\n",
       "    </tr>\n",
       "    <tr>\n",
       "      <th>767</th>\n",
       "      <td>1</td>\n",
       "      <td>93</td>\n",
       "      <td>70</td>\n",
       "      <td>31</td>\n",
       "      <td>0</td>\n",
       "      <td>30.4</td>\n",
       "      <td>0.315</td>\n",
       "      <td>23</td>\n",
       "      <td>0</td>\n",
       "    </tr>\n",
       "  </tbody>\n",
       "</table>\n",
       "<p>768 rows × 9 columns</p>\n",
       "</div>"
      ],
      "text/plain": [
       "     Pregnancies  Glucose  BloodPressure  SkinThickness  Insulin   BMI   \n",
       "0              6      148             72             35        0  33.6  \\\n",
       "1              1       85             66             29        0  26.6   \n",
       "2              8      183             64              0        0  23.3   \n",
       "3              1       89             66             23       94  28.1   \n",
       "4              0      137             40             35      168  43.1   \n",
       "..           ...      ...            ...            ...      ...   ...   \n",
       "763           10      101             76             48      180  32.9   \n",
       "764            2      122             70             27        0  36.8   \n",
       "765            5      121             72             23      112  26.2   \n",
       "766            1      126             60              0        0  30.1   \n",
       "767            1       93             70             31        0  30.4   \n",
       "\n",
       "     DiabetesPedigreeFunction  Age  Outcome  \n",
       "0                       0.627   50        1  \n",
       "1                       0.351   31        0  \n",
       "2                       0.672   32        1  \n",
       "3                       0.167   21        0  \n",
       "4                       2.288   33        1  \n",
       "..                        ...  ...      ...  \n",
       "763                     0.171   63        0  \n",
       "764                     0.340   27        0  \n",
       "765                     0.245   30        0  \n",
       "766                     0.349   47        1  \n",
       "767                     0.315   23        0  \n",
       "\n",
       "[768 rows x 9 columns]"
      ]
     },
     "execution_count": 40,
     "metadata": {},
     "output_type": "execute_result"
    }
   ],
   "source": [
    "df = pd.read_csv('diabetes.csv')\n",
    "df"
   ]
  },
  {
   "attachments": {},
   "cell_type": "markdown",
   "metadata": {},
   "source": [
    "## EDA"
   ]
  },
  {
   "cell_type": "code",
   "execution_count": 41,
   "metadata": {},
   "outputs": [
    {
     "data": {
      "text/plain": [
       "<AxesSubplot: xlabel='Outcome', ylabel='Count'>"
      ]
     },
     "execution_count": 41,
     "metadata": {},
     "output_type": "execute_result"
    },
    {
     "data": {
      "image/png": "[encoded data removed]",
      "text/plain": [
       "<Figure size 640x480 with 1 Axes>"
      ]
     },
     "metadata": {},
     "output_type": "display_data"
    }
   ],
   "source": [
    "sns.histplot(df.corr()['Outcome'])"
   ]
  },
  {
   "cell_type": "code",
   "execution_count": 42,
   "metadata": {},
   "outputs": [
    {
     "data": {
      "text/plain": [
       "Index(['Pregnancies', 'Glucose', 'BloodPressure', 'SkinThickness', 'Insulin',\n",
       "       'BMI', 'DiabetesPedigreeFunction', 'Age', 'Outcome'],\n",
       "      dtype='object')"
      ]
     },
     "execution_count": 42,
     "metadata": {},
     "output_type": "execute_result"
    }
   ],
   "source": [
    "df.columns"
   ]
  },
  {
   "cell_type": "code",
   "execution_count": 43,
   "metadata": {},
   "outputs": [
    {
     "data": {
      "text/plain": [
       "Index(['Pregnancies', 'Glucose', 'BloodPressure', 'SkinThickness', 'Insulin',\n",
       "       'BMI', 'DiabetesPedigreeFunction', 'Age', 'Outcome'],\n",
       "      dtype='object')"
      ]
     },
     "execution_count": 43,
     "metadata": {},
     "output_type": "execute_result"
    }
   ],
   "source": [
    "df.keys()"
   ]
  },
  {
   "cell_type": "code",
   "execution_count": 44,
   "metadata": {},
   "outputs": [],
   "source": [
    "X = df.drop(columns=['Outcome'])\n",
    "y = df['Outcome']"
   ]
  },
  {
   "attachments": {},
   "cell_type": "markdown",
   "metadata": {},
   "source": [
    "## Trani test split"
   ]
  },
  {
   "cell_type": "code",
   "execution_count": 45,
   "metadata": {},
   "outputs": [],
   "source": [
    "X_train, X_test, y_train, y_test = train_test_split(\n",
    "     X, y, test_size=0.20, random_state=42)"
   ]
  },
  {
   "attachments": {},
   "cell_type": "markdown",
   "metadata": {},
   "source": [
    "## Scaling"
   ]
  },
  {
   "cell_type": "code",
   "execution_count": 46,
   "metadata": {},
   "outputs": [],
   "source": [
    "scaler = StandardScaler()\n",
    "X_train = scaler.fit_transform(X_train)\n",
    "X_test = scaler.transform(X_test)"
   ]
  },
  {
   "attachments": {},
   "cell_type": "markdown",
   "metadata": {},
   "source": [
    "## Model building"
   ]
  },
  {
   "cell_type": "code",
   "execution_count": 53,
   "metadata": {},
   "outputs": [],
   "source": [
    "model = Sequential(name='kerasTuning')\n",
    "model.add(Dense(16,input_dim = 8,activation='relu',name= 'input_layer'))\n",
    "model.add(Dense(64,activation = 'relu',name = 'hiddel_layer'))\n",
    "model.add(Dense(1,activation = 'sigmoid',name = 'output_layer'))\n",
    "model.compile(optimizer = 'Adam',loss = 'binary_crossentropy',metrics=['accuracy'])"
   ]
  },
  {
   "cell_type": "code",
   "execution_count": 55,
   "metadata": {},
   "outputs": [
    {
     "name": "stdout",
     "output_type": "stream",
     "text": [
      "Model: \"kerasTuning\"\n",
      "_________________________________________________________________\n",
      " Layer (type)                Output Shape              Param #   \n",
      "=================================================================\n",
      " input_layer (Dense)         (None, 16)                144       \n",
      "                                                                 \n",
      " hiddel_layer (Dense)        (None, 64)                1088      \n",
      "                                                                 \n",
      " output_layer (Dense)        (None, 1)                 65        \n",
      "                                                                 \n",
      "=================================================================\n",
      "Total params: 1,297\n",
      "Trainable params: 1,297\n",
      "Non-trainable params: 0\n",
      "_________________________________________________________________\n"
     ]
    }
   ],
   "source": [
    "model.summary()"
   ]
  },
  {
   "cell_type": "code",
   "execution_count": null,
   "metadata": {},
   "outputs": [
    {
     "name": "stdout",
     "output_type": "stream",
     "text": [
      "Epoch 1/100\n",
      "15/15 [==============================] - 1s 18ms/step - loss: 0.6644 - accuracy: 0.6609 - val_loss: 0.6351 - val_accuracy: 0.6983\n",
      "Epoch 2/100\n",
      "15/15 [==============================] - 0s 6ms/step - loss: 0.5976 - accuracy: 0.7239 - val_loss: 0.6062 - val_accuracy: 0.6552\n",
      "Epoch 3/100\n",
      "15/15 [==============================] - 0s 5ms/step - loss: 0.5474 - accuracy: 0.7500 - val_loss: 0.5705 - val_accuracy: 0.7069\n",
      "Epoch 4/100\n",
      "15/15 [==============================] - 0s 5ms/step - loss: 0.5079 - accuracy: 0.7717 - val_loss: 0.5437 - val_accuracy: 0.7414\n",
      "Epoch 5/100\n",
      "15/15 [==============================] - 0s 9ms/step - loss: 0.4823 - accuracy: 0.7783 - val_loss: 0.5298 - val_accuracy: 0.7414\n",
      "Epoch 6/100\n",
      "15/15 [==============================] - 0s 6ms/step - loss: 0.4655 - accuracy: 0.7826 - val_loss: 0.5187 - val_accuracy: 0.7414\n",
      "Epoch 7/100\n",
      "15/15 [==============================] - 0s 4ms/step - loss: 0.4543 - accuracy: 0.7826 - val_loss: 0.5062 - val_accuracy: 0.7414\n",
      "Epoch 8/100\n",
      "15/15 [==============================] - 0s 6ms/step - loss: 0.4444 - accuracy: 0.7935 - val_loss: 0.5028 - val_accuracy: 0.7414\n",
      "Epoch 9/100\n",
      "15/15 [==============================] - 0s 6ms/step - loss: 0.4384 - accuracy: 0.8022 - val_loss: 0.5037 - val_accuracy: 0.7586\n",
      "Epoch 10/100\n",
      "15/15 [==============================] - 0s 6ms/step - loss: 0.4325 - accuracy: 0.8087 - val_loss: 0.4955 - val_accuracy: 0.7414\n",
      "Epoch 11/100\n",
      "15/15 [==============================] - 0s 6ms/step - loss: 0.4274 - accuracy: 0.8130 - val_loss: 0.4935 - val_accuracy: 0.7500\n",
      "Epoch 12/100\n",
      "15/15 [==============================] - 0s 6ms/step - loss: 0.4228 - accuracy: 0.8065 - val_loss: 0.4969 - val_accuracy: 0.7586\n",
      "Epoch 13/100\n",
      "15/15 [==============================] - 0s 6ms/step - loss: 0.4180 - accuracy: 0.8174 - val_loss: 0.4918 - val_accuracy: 0.7586\n",
      "Epoch 14/100\n",
      "15/15 [==============================] - 0s 6ms/step - loss: 0.4149 - accuracy: 0.8174 - val_loss: 0.4916 - val_accuracy: 0.7586\n",
      "Epoch 15/100\n",
      "15/15 [==============================] - 0s 6ms/step - loss: 0.4104 - accuracy: 0.8174 - val_loss: 0.4919 - val_accuracy: 0.7672\n",
      "Epoch 16/100\n",
      "15/15 [==============================] - 0s 5ms/step - loss: 0.4048 - accuracy: 0.8239 - val_loss: 0.4896 - val_accuracy: 0.7414\n",
      "Epoch 17/100\n",
      "15/15 [==============================] - 0s 6ms/step - loss: 0.4037 - accuracy: 0.8196 - val_loss: 0.4934 - val_accuracy: 0.7414\n",
      "Epoch 18/100\n",
      "15/15 [==============================] - 0s 6ms/step - loss: 0.3989 - accuracy: 0.8261 - val_loss: 0.4894 - val_accuracy: 0.7328\n",
      "Epoch 19/100\n",
      "15/15 [==============================] - 0s 6ms/step - loss: 0.3957 - accuracy: 0.8217 - val_loss: 0.4914 - val_accuracy: 0.7414\n",
      "Epoch 20/100\n",
      "15/15 [==============================] - 0s 5ms/step - loss: 0.3947 - accuracy: 0.8087 - val_loss: 0.4913 - val_accuracy: 0.7414\n",
      "Epoch 21/100\n",
      "15/15 [==============================] - 0s 5ms/step - loss: 0.3921 - accuracy: 0.8109 - val_loss: 0.4895 - val_accuracy: 0.7414\n",
      "Epoch 22/100\n",
      "15/15 [==============================] - 0s 6ms/step - loss: 0.3875 - accuracy: 0.8217 - val_loss: 0.4903 - val_accuracy: 0.7414\n",
      "Epoch 23/100\n",
      "15/15 [==============================] - 0s 5ms/step - loss: 0.3886 - accuracy: 0.8217 - val_loss: 0.4916 - val_accuracy: 0.7414\n",
      "Epoch 24/100\n",
      "15/15 [==============================] - 0s 6ms/step - loss: 0.3836 - accuracy: 0.8239 - val_loss: 0.4900 - val_accuracy: 0.7414\n",
      "Epoch 25/100\n",
      "15/15 [==============================] - 0s 5ms/step - loss: 0.3814 - accuracy: 0.8217 - val_loss: 0.4921 - val_accuracy: 0.7414\n",
      "Epoch 26/100\n",
      "15/15 [==============================] - 0s 5ms/step - loss: 0.3793 - accuracy: 0.8261 - val_loss: 0.4903 - val_accuracy: 0.7414\n",
      "Epoch 27/100\n",
      "15/15 [==============================] - 0s 4ms/step - loss: 0.3767 - accuracy: 0.8239 - val_loss: 0.4878 - val_accuracy: 0.7414\n",
      "Epoch 28/100\n",
      "15/15 [==============================] - 0s 4ms/step - loss: 0.3745 - accuracy: 0.8261 - val_loss: 0.4920 - val_accuracy: 0.7414\n",
      "Epoch 29/100\n",
      "15/15 [==============================] - 0s 5ms/step - loss: 0.3749 - accuracy: 0.8304 - val_loss: 0.4904 - val_accuracy: 0.7414\n",
      "Epoch 30/100\n",
      "15/15 [==============================] - 0s 4ms/step - loss: 0.3727 - accuracy: 0.8304 - val_loss: 0.4945 - val_accuracy: 0.7414\n",
      "Epoch 31/100\n",
      "15/15 [==============================] - 0s 4ms/step - loss: 0.3701 - accuracy: 0.8348 - val_loss: 0.4904 - val_accuracy: 0.7328\n",
      "Epoch 32/100\n",
      "15/15 [==============================] - 0s 4ms/step - loss: 0.3682 - accuracy: 0.8391 - val_loss: 0.4917 - val_accuracy: 0.7414\n",
      "Epoch 33/100\n",
      "15/15 [==============================] - 0s 8ms/step - loss: 0.3659 - accuracy: 0.8370 - val_loss: 0.4914 - val_accuracy: 0.7328\n",
      "Epoch 34/100\n",
      "15/15 [==============================] - 0s 5ms/step - loss: 0.3640 - accuracy: 0.8370 - val_loss: 0.4883 - val_accuracy: 0.7500\n",
      "Epoch 35/100\n",
      "15/15 [==============================] - 0s 4ms/step - loss: 0.3633 - accuracy: 0.8348 - val_loss: 0.4824 - val_accuracy: 0.7328\n",
      "Epoch 36/100\n",
      "15/15 [==============================] - 0s 4ms/step - loss: 0.3600 - accuracy: 0.8391 - val_loss: 0.4847 - val_accuracy: 0.7328\n",
      "Epoch 37/100\n",
      "15/15 [==============================] - 0s 4ms/step - loss: 0.3581 - accuracy: 0.8413 - val_loss: 0.4851 - val_accuracy: 0.7414\n",
      "Epoch 38/100\n",
      "15/15 [==============================] - 0s 3ms/step - loss: 0.3570 - accuracy: 0.8391 - val_loss: 0.4847 - val_accuracy: 0.7328\n",
      "Epoch 39/100\n",
      "15/15 [==============================] - 0s 4ms/step - loss: 0.3542 - accuracy: 0.8391 - val_loss: 0.4815 - val_accuracy: 0.7328\n",
      "Epoch 40/100\n",
      "15/15 [==============================] - 0s 4ms/step - loss: 0.3541 - accuracy: 0.8391 - val_loss: 0.4837 - val_accuracy: 0.7414\n",
      "Epoch 41/100\n",
      "15/15 [==============================] - 0s 4ms/step - loss: 0.3508 - accuracy: 0.8370 - val_loss: 0.4835 - val_accuracy: 0.7328\n",
      "Epoch 42/100\n",
      "15/15 [==============================] - 0s 4ms/step - loss: 0.3509 - accuracy: 0.8435 - val_loss: 0.4840 - val_accuracy: 0.7328\n",
      "Epoch 43/100\n",
      "15/15 [==============================] - 0s 4ms/step - loss: 0.3483 - accuracy: 0.8391 - val_loss: 0.4867 - val_accuracy: 0.7586\n",
      "Epoch 44/100\n",
      "15/15 [==============================] - 0s 4ms/step - loss: 0.3462 - accuracy: 0.8413 - val_loss: 0.4830 - val_accuracy: 0.7328\n",
      "Epoch 45/100\n",
      "15/15 [==============================] - 0s 4ms/step - loss: 0.3453 - accuracy: 0.8391 - val_loss: 0.4855 - val_accuracy: 0.7414\n",
      "Epoch 46/100\n",
      "15/15 [==============================] - 0s 4ms/step - loss: 0.3419 - accuracy: 0.8391 - val_loss: 0.4836 - val_accuracy: 0.7414\n",
      "Epoch 47/100\n",
      "15/15 [==============================] - 0s 4ms/step - loss: 0.3405 - accuracy: 0.8435 - val_loss: 0.4856 - val_accuracy: 0.7328\n",
      "Epoch 48/100\n",
      "15/15 [==============================] - 0s 4ms/step - loss: 0.3390 - accuracy: 0.8543 - val_loss: 0.4868 - val_accuracy: 0.7328\n",
      "Epoch 49/100\n",
      "15/15 [==============================] - 0s 4ms/step - loss: 0.3383 - accuracy: 0.8478 - val_loss: 0.4843 - val_accuracy: 0.7414\n",
      "Epoch 50/100\n",
      "15/15 [==============================] - 0s 3ms/step - loss: 0.3365 - accuracy: 0.8522 - val_loss: 0.4811 - val_accuracy: 0.7414\n",
      "Epoch 51/100\n",
      "15/15 [==============================] - 0s 4ms/step - loss: 0.3327 - accuracy: 0.8587 - val_loss: 0.4840 - val_accuracy: 0.7328\n",
      "Epoch 52/100\n",
      "15/15 [==============================] - 0s 4ms/step - loss: 0.3325 - accuracy: 0.8587 - val_loss: 0.4842 - val_accuracy: 0.7500\n",
      "Epoch 53/100\n",
      "15/15 [==============================] - 0s 4ms/step - loss: 0.3315 - accuracy: 0.8609 - val_loss: 0.4821 - val_accuracy: 0.7414\n",
      "Epoch 54/100\n",
      "15/15 [==============================] - 0s 4ms/step - loss: 0.3299 - accuracy: 0.8543 - val_loss: 0.4874 - val_accuracy: 0.7500\n",
      "Epoch 55/100\n",
      "15/15 [==============================] - 0s 6ms/step - loss: 0.3280 - accuracy: 0.8674 - val_loss: 0.4896 - val_accuracy: 0.7414\n",
      "Epoch 56/100\n",
      "15/15 [==============================] - 0s 4ms/step - loss: 0.3267 - accuracy: 0.8630 - val_loss: 0.4888 - val_accuracy: 0.7414\n",
      "Epoch 57/100\n",
      "15/15 [==============================] - 0s 5ms/step - loss: 0.3225 - accuracy: 0.8652 - val_loss: 0.4895 - val_accuracy: 0.7500\n",
      "Epoch 58/100\n",
      "15/15 [==============================] - 0s 4ms/step - loss: 0.3235 - accuracy: 0.8609 - val_loss: 0.4873 - val_accuracy: 0.7500\n",
      "Epoch 59/100\n",
      "15/15 [==============================] - 0s 5ms/step - loss: 0.3201 - accuracy: 0.8674 - val_loss: 0.4895 - val_accuracy: 0.7500\n",
      "Epoch 60/100\n",
      "15/15 [==============================] - 0s 5ms/step - loss: 0.3204 - accuracy: 0.8630 - val_loss: 0.4917 - val_accuracy: 0.7500\n",
      "Epoch 61/100\n",
      "15/15 [==============================] - 0s 5ms/step - loss: 0.3166 - accuracy: 0.8696 - val_loss: 0.4845 - val_accuracy: 0.7500\n",
      "Epoch 62/100\n",
      "15/15 [==============================] - 0s 6ms/step - loss: 0.3174 - accuracy: 0.8696 - val_loss: 0.4860 - val_accuracy: 0.7500\n",
      "Epoch 63/100\n",
      "15/15 [==============================] - 0s 5ms/step - loss: 0.3160 - accuracy: 0.8652 - val_loss: 0.4934 - val_accuracy: 0.7500\n",
      "Epoch 64/100\n",
      "15/15 [==============================] - 0s 8ms/step - loss: 0.3155 - accuracy: 0.8652 - val_loss: 0.4875 - val_accuracy: 0.7500\n",
      "Epoch 65/100\n",
      "15/15 [==============================] - 0s 5ms/step - loss: 0.3111 - accuracy: 0.8696 - val_loss: 0.4874 - val_accuracy: 0.7414\n",
      "Epoch 66/100\n",
      "15/15 [==============================] - 0s 5ms/step - loss: 0.3118 - accuracy: 0.8696 - val_loss: 0.4897 - val_accuracy: 0.7500\n",
      "Epoch 67/100\n",
      "15/15 [==============================] - 0s 5ms/step - loss: 0.3081 - accuracy: 0.8761 - val_loss: 0.4905 - val_accuracy: 0.7414\n",
      "Epoch 68/100\n",
      "15/15 [==============================] - 0s 4ms/step - loss: 0.3094 - accuracy: 0.8783 - val_loss: 0.4872 - val_accuracy: 0.7414\n",
      "Epoch 69/100\n",
      "15/15 [==============================] - 0s 5ms/step - loss: 0.3081 - accuracy: 0.8674 - val_loss: 0.4907 - val_accuracy: 0.7414\n",
      "Epoch 70/100\n",
      "15/15 [==============================] - 0s 4ms/step - loss: 0.3045 - accuracy: 0.8674 - val_loss: 0.4922 - val_accuracy: 0.7414\n",
      "Epoch 71/100\n",
      "15/15 [==============================] - 0s 4ms/step - loss: 0.3007 - accuracy: 0.8761 - val_loss: 0.4988 - val_accuracy: 0.7500\n",
      "Epoch 72/100\n",
      "15/15 [==============================] - 0s 4ms/step - loss: 0.2987 - accuracy: 0.8804 - val_loss: 0.4950 - val_accuracy: 0.7414\n",
      "Epoch 73/100\n",
      "15/15 [==============================] - 0s 4ms/step - loss: 0.2967 - accuracy: 0.8804 - val_loss: 0.4917 - val_accuracy: 0.7241\n",
      "Epoch 74/100\n",
      "15/15 [==============================] - 0s 4ms/step - loss: 0.2957 - accuracy: 0.8804 - val_loss: 0.4943 - val_accuracy: 0.7241\n",
      "Epoch 75/100\n",
      "15/15 [==============================] - 0s 3ms/step - loss: 0.2946 - accuracy: 0.8761 - val_loss: 0.5035 - val_accuracy: 0.7414\n",
      "Epoch 76/100\n",
      "15/15 [==============================] - 0s 3ms/step - loss: 0.2943 - accuracy: 0.8804 - val_loss: 0.4895 - val_accuracy: 0.7328\n",
      "Epoch 77/100\n",
      "15/15 [==============================] - 0s 3ms/step - loss: 0.2884 - accuracy: 0.8848 - val_loss: 0.4998 - val_accuracy: 0.7328\n",
      "Epoch 78/100\n",
      "15/15 [==============================] - 0s 3ms/step - loss: 0.2877 - accuracy: 0.8783 - val_loss: 0.4940 - val_accuracy: 0.7328\n",
      "Epoch 79/100\n",
      "15/15 [==============================] - 0s 3ms/step - loss: 0.2880 - accuracy: 0.8761 - val_loss: 0.4983 - val_accuracy: 0.7414\n",
      "Epoch 80/100\n",
      "15/15 [==============================] - 0s 3ms/step - loss: 0.2832 - accuracy: 0.8804 - val_loss: 0.4925 - val_accuracy: 0.7414\n",
      "Epoch 81/100\n",
      "15/15 [==============================] - 0s 4ms/step - loss: 0.2841 - accuracy: 0.8870 - val_loss: 0.4919 - val_accuracy: 0.7414\n",
      "Epoch 82/100\n",
      "15/15 [==============================] - 0s 3ms/step - loss: 0.2818 - accuracy: 0.8848 - val_loss: 0.4865 - val_accuracy: 0.7414\n",
      "Epoch 83/100\n",
      "15/15 [==============================] - 0s 3ms/step - loss: 0.2812 - accuracy: 0.8804 - val_loss: 0.5041 - val_accuracy: 0.7328\n",
      "Epoch 84/100\n",
      "15/15 [==============================] - 0s 4ms/step - loss: 0.2807 - accuracy: 0.8935 - val_loss: 0.4903 - val_accuracy: 0.7586\n",
      "Epoch 85/100\n",
      "15/15 [==============================] - 0s 5ms/step - loss: 0.2760 - accuracy: 0.8870 - val_loss: 0.4933 - val_accuracy: 0.7414\n",
      "Epoch 86/100\n",
      "15/15 [==============================] - 0s 4ms/step - loss: 0.2796 - accuracy: 0.8848 - val_loss: 0.4975 - val_accuracy: 0.7328\n",
      "Epoch 87/100\n",
      "15/15 [==============================] - 0s 4ms/step - loss: 0.2731 - accuracy: 0.8783 - val_loss: 0.4998 - val_accuracy: 0.7414\n",
      "Epoch 88/100\n",
      "15/15 [==============================] - 0s 4ms/step - loss: 0.2728 - accuracy: 0.8935 - val_loss: 0.4988 - val_accuracy: 0.7328\n",
      "Epoch 89/100\n",
      "15/15 [==============================] - 0s 4ms/step - loss: 0.2710 - accuracy: 0.8913 - val_loss: 0.5011 - val_accuracy: 0.7414\n",
      "Epoch 90/100\n",
      "15/15 [==============================] - 0s 8ms/step - loss: 0.2669 - accuracy: 0.8913 - val_loss: 0.5062 - val_accuracy: 0.7328\n",
      "Epoch 91/100\n",
      "15/15 [==============================] - 0s 4ms/step - loss: 0.2652 - accuracy: 0.8891 - val_loss: 0.5034 - val_accuracy: 0.7414\n",
      "Epoch 92/100\n",
      "15/15 [==============================] - 0s 4ms/step - loss: 0.2698 - accuracy: 0.8891 - val_loss: 0.5054 - val_accuracy: 0.7328\n",
      "Epoch 93/100\n",
      "15/15 [==============================] - 0s 5ms/step - loss: 0.2638 - accuracy: 0.8826 - val_loss: 0.5150 - val_accuracy: 0.7241\n",
      "Epoch 94/100\n",
      "15/15 [==============================] - 0s 4ms/step - loss: 0.2621 - accuracy: 0.8913 - val_loss: 0.5109 - val_accuracy: 0.7414\n",
      "Epoch 95/100\n",
      "15/15 [==============================] - 0s 5ms/step - loss: 0.2588 - accuracy: 0.8978 - val_loss: 0.5118 - val_accuracy: 0.7500\n",
      "Epoch 96/100\n",
      "15/15 [==============================] - 0s 5ms/step - loss: 0.2612 - accuracy: 0.8978 - val_loss: 0.5119 - val_accuracy: 0.7328\n",
      "Epoch 97/100\n",
      "15/15 [==============================] - 0s 4ms/step - loss: 0.2577 - accuracy: 0.8978 - val_loss: 0.5099 - val_accuracy: 0.7500\n",
      "Epoch 98/100\n",
      "15/15 [==============================] - 0s 5ms/step - loss: 0.2599 - accuracy: 0.8891 - val_loss: 0.5136 - val_accuracy: 0.7241\n",
      "Epoch 99/100\n",
      "15/15 [==============================] - 0s 5ms/step - loss: 0.2529 - accuracy: 0.8957 - val_loss: 0.5186 - val_accuracy: 0.7500\n",
      "Epoch 100/100\n",
      "15/15 [==============================] - 0s 4ms/step - loss: 0.2515 - accuracy: 0.8978 - val_loss: 0.5185 - val_accuracy: 0.7586\n"
     ]
    }
   ],
   "source": [
    "history = model.fit(X_train,y_train,epochs=100,validation_split=0.2,batch_size=32)"
   ]
  },
  {
   "cell_type": "code",
   "execution_count": null,
   "metadata": {},
   "outputs": [
    {
     "data": {
      "text/plain": [
       "<matplotlib.legend.Legend at 0x21f7b53b1d0>"
      ]
     },
     "execution_count": 32,
     "metadata": {},
     "output_type": "execute_result"
    },
    {
     "data": {
      "image/png": "[encoded data removed]",
      "text/plain": [
       "<Figure size 2000x700 with 2 Axes>"
      ]
     },
     "metadata": {},
     "output_type": "display_data"
    }
   ],
   "source": [
    "plt.subplots(nrows=1,ncols=2,figsize = (20,7))\n",
    "plt.subplot(1,2,1)\n",
    "plt.plot(history.history['accuracy'])\n",
    "plt.plot(history.history['val_accuracy'])\n",
    "plt.legend(['training accuracy','validation accuracy'])\n",
    "plt.subplot(1,2,2)\n",
    "plt.plot(history.history['loss'])\n",
    "plt.plot(history.history['val_loss'])\n",
    "plt.legend(['training loss','validation loss'])\n"
   ]
  },
  {
   "cell_type": "code",
   "execution_count": null,
   "metadata": {},
   "outputs": [],
   "source": []
  },
  {
   "cell_type": "code",
   "execution_count": null,
   "metadata": {},
   "outputs": [],
   "source": []
  },
  {
   "cell_type": "code",
   "execution_count": null,
   "metadata": {},
   "outputs": [],
   "source": []
  },
  {
   "cell_type": "code",
   "execution_count": null,
   "metadata": {},
   "outputs": [],
   "source": []
  },
  {
   "cell_type": "code",
   "execution_count": null,
   "metadata": {},
   "outputs": [],
   "source": []
  },
  {
   "cell_type": "code",
   "execution_count": null,
   "metadata": {},
   "outputs": [],
   "source": []
  },
  {
   "cell_type": "code",
   "execution_count": null,
   "metadata": {},
   "outputs": [],
   "source": []
  },
  {
   "cell_type": "code",
   "execution_count": null,
   "metadata": {},
   "outputs": [],
   "source": []
  },
  {
   "cell_type": "code",
   "execution_count": null,
   "metadata": {},
   "outputs": [],
   "source": []
  },
  {
   "cell_type": "code",
   "execution_count": null,
   "metadata": {},
   "outputs": [],
   "source": []
  },
  {
   "cell_type": "code",
   "execution_count": null,
   "metadata": {},
   "outputs": [],
   "source": []
  },
  {
   "cell_type": "code",
   "execution_count": null,
   "metadata": {},
   "outputs": [],
   "source": []
  },
  {
   "cell_type": "code",
   "execution_count": null,
   "metadata": {},
   "outputs": [],
   "source": []
  },
  {
   "cell_type": "code",
   "execution_count": null,
   "metadata": {},
   "outputs": [],
   "source": []
  },
  {
   "cell_type": "code",
   "execution_count": null,
   "metadata": {},
   "outputs": [],
   "source": []
  },
  {
   "cell_type": "code",
   "execution_count": null,
   "metadata": {},
   "outputs": [],
   "source": []
  },
  {
   "cell_type": "code",
   "execution_count": null,
   "metadata": {},
   "outputs": [],
   "source": []
  },
  {
   "cell_type": "code",
   "execution_count": null,
   "metadata": {},
   "outputs": [],
   "source": []
  },
  {
   "cell_type": "code",
   "execution_count": null,
   "metadata": {},
   "outputs": [],
   "source": []
  },
  {
   "cell_type": "code",
   "execution_count": null,
   "metadata": {},
   "outputs": [],
   "source": []
  }
 ],
 "metadata": {
  "kernelspec": {
   "display_name": "Python 3",
   "language": "python",
   "name": "python3"
  },
  "language_info": {
   "codemirror_mode": {
    "name": "ipython",
    "version": 3
   },
   "file_extension": ".py",
   "mimetype": "text/x-python",
   "name": "python",
   "nbconvert_exporter": "python",
   "pygments_lexer": "ipython3",
   "version": "3.11.3"
  },
  "orig_nbformat": 4
 },
 "nbformat": 4,
 "nbformat_minor": 2
}
