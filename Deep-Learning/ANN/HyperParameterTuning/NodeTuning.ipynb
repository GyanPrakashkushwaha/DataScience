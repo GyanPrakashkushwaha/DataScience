{
 "cells": [
  {
   "attachments": {},
   "cell_type": "markdown",
   "metadata": {},
   "source": [
    "# Node Tuning"
   ]
  },
  {
   "cell_type": "code",
   "execution_count": 1,
   "metadata": {},
   "outputs": [
    {
     "name": "stderr",
     "output_type": "stream",
     "text": [
      "C:\\Users\\Gyanprakash\\AppData\\Local\\Temp\\ipykernel_20356\\3655248104.py:9: DeprecationWarning: `import kerastuner` is deprecated, please use `import keras_tuner`.\n",
      "  import kerastuner as kt # for tuning\n"
     ]
    }
   ],
   "source": [
    "import matplotlib.pyplot as plt\n",
    "%matplotlib inline\n",
    "import numpy as np\n",
    "import pandas as pd\n",
    "import seaborn as sns\n",
    "from sklearn.model_selection import train_test_split\n",
    "from sklearn.preprocessing import StandardScaler\n",
    "\n",
    "import kerastuner as kt # for tuning\n",
    "import tensorflow as tf\n",
    "from tensorflow import keras\n",
    "from tensorflow.keras import Sequential\n",
    "from tensorflow.keras.layers import Dense , Flatten"
   ]
  },
  {
   "cell_type": "code",
   "execution_count": 2,
   "metadata": {},
   "outputs": [
    {
     "data": {
      "text/plain": [
       "array([[ 0.6839137 , -0.70579433, -0.625833  , ...,  0.26501306,\n",
       "        -0.11390738,  0.87654579],\n",
       "       [-0.52726014, -0.26972894,  0.29889263, ...,  0.48823955,\n",
       "        -0.94569142, -1.03690611],\n",
       "       [-0.52726014, -0.39431905, -0.29945925, ..., -0.15517797,\n",
       "        -0.91619553, -1.03690611],\n",
       "       ...,\n",
       "       [ 0.6839137 ,  0.07289387,  0.13570575, ...,  0.21248918,\n",
       "         0.77981801,  0.09377001],\n",
       "       [-0.22446668, -1.32874488, -1.06099801, ..., -0.12891603,\n",
       "        -0.65073254, -0.60203068],\n",
       "       [-0.22446668, -0.45661411,  0.13570575, ..., -0.81172646,\n",
       "        -0.77166568, -0.51505559]])"
      ]
     },
     "execution_count": 2,
     "metadata": {},
     "output_type": "execute_result"
    }
   ],
   "source": [
    "df = pd.read_csv('diabetes.csv')\n",
    "X = df.drop(columns=['Outcome'])\n",
    "y = df['Outcome']\n",
    "X_train, X_test, y_train, y_test = train_test_split(\n",
    "     X, y, test_size=0.25, random_state=42)\n",
    "scaler = StandardScaler()\n",
    "scaler.fit_transform(X_train)\n",
    "scaler.transform(X_test)"
   ]
  },
  {
   "cell_type": "code",
   "execution_count": 3,
   "metadata": {},
   "outputs": [],
   "source": [
    "def build_model(hp):\n",
    "    model = Sequential()\n",
    "\n",
    "    units = hp.Int('numberOfNodes',\n",
    "                   min_value = 8, # initial value\n",
    "                   max_value = 128, # last value\n",
    "                   )\n",
    "    initializer = tf.keras.initializers.he_normal\n",
    "    model.add(\n",
    "        Dense(units=units,activation = 'relu',input_dim = 8,kernel_initializer = initializer))\n",
    "    model.add(\n",
    "        Dense(1,activation = 'sigmoid'))\n",
    "\n",
    "    model.compile(optimizer = 'adam',loss='binary_crossentropy',metrics = ['accuracy'])\n",
    "\n",
    "    return model\n"
   ]
  },
  {
   "cell_type": "code",
   "execution_count": 4,
   "metadata": {},
   "outputs": [],
   "source": [
    "tuner = kt.RandomSearch(hypermodel=build_model,\n",
    "                        objective='val_accuracy',\n",
    "                        max_trials=5,\n",
    "                        directory='tuner',\n",
    "                        project_name = 'nodeTuner'\n",
    "                        )"
   ]
  },
  {
   "cell_type": "code",
   "execution_count": 5,
   "metadata": {},
   "outputs": [
    {
     "name": "stdout",
     "output_type": "stream",
     "text": [
      "Trial 5 Complete [00h 00m 02s]\n",
      "val_accuracy: 0.6510416865348816\n",
      "\n",
      "Best val_accuracy So Far: 0.6510416865348816\n",
      "Total elapsed time: 00h 00m 09s\n",
      "INFO:tensorflow:Oracle triggered exit\n"
     ]
    }
   ],
   "source": [
    "tuner.search(X_train,y_train,epochs = 5,validation_data = (X_test,y_test))"
   ]
  },
  {
   "cell_type": "code",
   "execution_count": 6,
   "metadata": {},
   "outputs": [
    {
     "data": {
      "text/plain": [
       "{'numberOfNodes': 53}"
      ]
     },
     "execution_count": 6,
     "metadata": {},
     "output_type": "execute_result"
    }
   ],
   "source": [
    "# for best parameters\n",
    "tuner.get_best_hyperparameters()[0].values"
   ]
  },
  {
   "cell_type": "code",
   "execution_count": 7,
   "metadata": {},
   "outputs": [
    {
     "data": {
      "text/plain": [
       "<keras.engine.sequential.Sequential at 0x2098ed04ad0>"
      ]
     },
     "execution_count": 7,
     "metadata": {},
     "output_type": "execute_result"
    }
   ],
   "source": [
    "# to directly extract model from hyperparameter tuning...........\n",
    "model = tuner.get_best_models(num_models=1)[0]\n",
    "model"
   ]
  },
  {
   "cell_type": "code",
   "execution_count": 8,
   "metadata": {},
   "outputs": [
    {
     "name": "stdout",
     "output_type": "stream",
     "text": [
      "Epoch 7/100\n",
      "18/18 [==============================] - 1s 12ms/step - loss: 4.9740 - accuracy: 0.6337 - val_loss: 4.0921 - val_accuracy: 0.5729\n",
      "Epoch 8/100\n",
      "18/18 [==============================] - 0s 3ms/step - loss: 3.9225 - accuracy: 0.6094 - val_loss: 4.0037 - val_accuracy: 0.5781\n",
      "Epoch 9/100\n",
      "18/18 [==============================] - 0s 3ms/step - loss: 3.6475 - accuracy: 0.6094 - val_loss: 3.7451 - val_accuracy: 0.6094\n",
      "Epoch 10/100\n",
      "18/18 [==============================] - 0s 3ms/step - loss: 3.3951 - accuracy: 0.6163 - val_loss: 3.5188 - val_accuracy: 0.6198\n",
      "Epoch 11/100\n",
      "18/18 [==============================] - 0s 3ms/step - loss: 3.1716 - accuracy: 0.6181 - val_loss: 3.2444 - val_accuracy: 0.6094\n",
      "Epoch 12/100\n",
      "18/18 [==============================] - 0s 3ms/step - loss: 2.9573 - accuracy: 0.6233 - val_loss: 3.0830 - val_accuracy: 0.6458\n",
      "Epoch 13/100\n",
      "18/18 [==============================] - 0s 4ms/step - loss: 2.7149 - accuracy: 0.6354 - val_loss: 2.7930 - val_accuracy: 0.6354\n",
      "Epoch 14/100\n",
      "18/18 [==============================] - 0s 4ms/step - loss: 2.5537 - accuracy: 0.6354 - val_loss: 2.7278 - val_accuracy: 0.6458\n",
      "Epoch 15/100\n",
      "18/18 [==============================] - 0s 4ms/step - loss: 2.3114 - accuracy: 0.6458 - val_loss: 2.4099 - val_accuracy: 0.6354\n",
      "Epoch 16/100\n",
      "18/18 [==============================] - 0s 3ms/step - loss: 2.1323 - accuracy: 0.6528 - val_loss: 2.1415 - val_accuracy: 0.6667\n",
      "Epoch 17/100\n",
      "18/18 [==============================] - 0s 3ms/step - loss: 1.8856 - accuracy: 0.6684 - val_loss: 1.9022 - val_accuracy: 0.6198\n",
      "Epoch 18/100\n",
      "18/18 [==============================] - 0s 3ms/step - loss: 1.6581 - accuracy: 0.6701 - val_loss: 1.6591 - val_accuracy: 0.6667\n",
      "Epoch 19/100\n",
      "18/18 [==============================] - 0s 5ms/step - loss: 1.4959 - accuracy: 0.6719 - val_loss: 1.4861 - val_accuracy: 0.6615\n",
      "Epoch 20/100\n",
      "18/18 [==============================] - 0s 4ms/step - loss: 1.3623 - accuracy: 0.6701 - val_loss: 1.3301 - val_accuracy: 0.6719\n",
      "Epoch 21/100\n",
      "18/18 [==============================] - 0s 3ms/step - loss: 1.2780 - accuracy: 0.6788 - val_loss: 1.3056 - val_accuracy: 0.6615\n",
      "Epoch 22/100\n",
      "18/18 [==============================] - 0s 3ms/step - loss: 1.1825 - accuracy: 0.6736 - val_loss: 1.2453 - val_accuracy: 0.6562\n",
      "Epoch 23/100\n",
      "18/18 [==============================] - 0s 4ms/step - loss: 1.1739 - accuracy: 0.6562 - val_loss: 1.1989 - val_accuracy: 0.6667\n",
      "Epoch 24/100\n",
      "18/18 [==============================] - 0s 4ms/step - loss: 1.1225 - accuracy: 0.6441 - val_loss: 1.2172 - val_accuracy: 0.6562\n",
      "Epoch 25/100\n",
      "18/18 [==============================] - 0s 4ms/step - loss: 1.1051 - accuracy: 0.6667 - val_loss: 1.1512 - val_accuracy: 0.6667\n",
      "Epoch 26/100\n",
      "18/18 [==============================] - 0s 3ms/step - loss: 1.0789 - accuracy: 0.6510 - val_loss: 1.1658 - val_accuracy: 0.6719\n",
      "Epoch 27/100\n",
      "18/18 [==============================] - 0s 3ms/step - loss: 1.1140 - accuracy: 0.6667 - val_loss: 1.1514 - val_accuracy: 0.6979\n",
      "Epoch 28/100\n",
      "18/18 [==============================] - 0s 3ms/step - loss: 1.0950 - accuracy: 0.6545 - val_loss: 1.3959 - val_accuracy: 0.6510\n",
      "Epoch 29/100\n",
      "18/18 [==============================] - 0s 3ms/step - loss: 1.1655 - accuracy: 0.6493 - val_loss: 1.3083 - val_accuracy: 0.6615\n",
      "Epoch 30/100\n",
      "18/18 [==============================] - 0s 4ms/step - loss: 1.2358 - accuracy: 0.6441 - val_loss: 1.1359 - val_accuracy: 0.6510\n",
      "Epoch 31/100\n",
      "18/18 [==============================] - 0s 4ms/step - loss: 1.0122 - accuracy: 0.6493 - val_loss: 1.1081 - val_accuracy: 0.6927\n",
      "Epoch 32/100\n",
      "18/18 [==============================] - 0s 3ms/step - loss: 1.0099 - accuracy: 0.6667 - val_loss: 1.2138 - val_accuracy: 0.6198\n",
      "Epoch 33/100\n",
      "18/18 [==============================] - 0s 4ms/step - loss: 1.0019 - accuracy: 0.6424 - val_loss: 1.0594 - val_accuracy: 0.6615\n",
      "Epoch 34/100\n",
      "18/18 [==============================] - 0s 4ms/step - loss: 0.9523 - accuracy: 0.6840 - val_loss: 1.1005 - val_accuracy: 0.6823\n",
      "Epoch 35/100\n",
      "18/18 [==============================] - 0s 3ms/step - loss: 0.9419 - accuracy: 0.6597 - val_loss: 1.1891 - val_accuracy: 0.7188\n",
      "Epoch 36/100\n",
      "18/18 [==============================] - 0s 3ms/step - loss: 0.9600 - accuracy: 0.6788 - val_loss: 1.1371 - val_accuracy: 0.5990\n",
      "Epoch 37/100\n",
      "18/18 [==============================] - 0s 3ms/step - loss: 0.9374 - accuracy: 0.6823 - val_loss: 1.0053 - val_accuracy: 0.6875\n",
      "Epoch 38/100\n",
      "18/18 [==============================] - 0s 3ms/step - loss: 0.9359 - accuracy: 0.6649 - val_loss: 0.9966 - val_accuracy: 0.6875\n",
      "Epoch 39/100\n",
      "18/18 [==============================] - 0s 3ms/step - loss: 0.8827 - accuracy: 0.6736 - val_loss: 1.0567 - val_accuracy: 0.5833\n",
      "Epoch 40/100\n",
      "18/18 [==============================] - 0s 3ms/step - loss: 0.8593 - accuracy: 0.6580 - val_loss: 0.9910 - val_accuracy: 0.6771\n",
      "Epoch 41/100\n",
      "18/18 [==============================] - 0s 4ms/step - loss: 0.8598 - accuracy: 0.6788 - val_loss: 0.9575 - val_accuracy: 0.6823\n",
      "Epoch 42/100\n",
      "18/18 [==============================] - 0s 4ms/step - loss: 0.8608 - accuracy: 0.6580 - val_loss: 0.9363 - val_accuracy: 0.6771\n",
      "Epoch 43/100\n",
      "18/18 [==============================] - 0s 4ms/step - loss: 0.8079 - accuracy: 0.6858 - val_loss: 0.9637 - val_accuracy: 0.6927\n",
      "Epoch 44/100\n",
      "18/18 [==============================] - 0s 4ms/step - loss: 0.8131 - accuracy: 0.6719 - val_loss: 0.9761 - val_accuracy: 0.6979\n",
      "Epoch 45/100\n",
      "18/18 [==============================] - 0s 3ms/step - loss: 0.8187 - accuracy: 0.6806 - val_loss: 0.9337 - val_accuracy: 0.6302\n",
      "Epoch 46/100\n",
      "18/18 [==============================] - 0s 3ms/step - loss: 0.8465 - accuracy: 0.6302 - val_loss: 0.9087 - val_accuracy: 0.7031\n",
      "Epoch 47/100\n",
      "18/18 [==============================] - 0s 3ms/step - loss: 0.8107 - accuracy: 0.6823 - val_loss: 0.8979 - val_accuracy: 0.6927\n",
      "Epoch 48/100\n",
      "18/18 [==============================] - 0s 5ms/step - loss: 0.7912 - accuracy: 0.6840 - val_loss: 0.9281 - val_accuracy: 0.7031\n",
      "Epoch 49/100\n",
      "18/18 [==============================] - 0s 7ms/step - loss: 0.7949 - accuracy: 0.6632 - val_loss: 0.9452 - val_accuracy: 0.6615\n",
      "Epoch 50/100\n",
      "18/18 [==============================] - 0s 8ms/step - loss: 0.8199 - accuracy: 0.6806 - val_loss: 0.9262 - val_accuracy: 0.6667\n",
      "Epoch 51/100\n",
      "18/18 [==============================] - 0s 7ms/step - loss: 0.7616 - accuracy: 0.6840 - val_loss: 0.9689 - val_accuracy: 0.6927\n",
      "Epoch 52/100\n",
      "18/18 [==============================] - 0s 6ms/step - loss: 0.7760 - accuracy: 0.6649 - val_loss: 0.8868 - val_accuracy: 0.6667\n",
      "Epoch 53/100\n",
      "18/18 [==============================] - 0s 4ms/step - loss: 0.7813 - accuracy: 0.6771 - val_loss: 0.8751 - val_accuracy: 0.6510\n",
      "Epoch 54/100\n",
      "18/18 [==============================] - 0s 4ms/step - loss: 0.8195 - accuracy: 0.6562 - val_loss: 1.0016 - val_accuracy: 0.6354\n",
      "Epoch 55/100\n",
      "18/18 [==============================] - 0s 4ms/step - loss: 0.7222 - accuracy: 0.6840 - val_loss: 0.8516 - val_accuracy: 0.7031\n",
      "Epoch 56/100\n",
      "18/18 [==============================] - 0s 5ms/step - loss: 0.7118 - accuracy: 0.6910 - val_loss: 0.8350 - val_accuracy: 0.7188\n",
      "Epoch 57/100\n",
      "18/18 [==============================] - 0s 5ms/step - loss: 0.7438 - accuracy: 0.6875 - val_loss: 0.9057 - val_accuracy: 0.6719\n",
      "Epoch 58/100\n",
      "18/18 [==============================] - 0s 4ms/step - loss: 0.7831 - accuracy: 0.6701 - val_loss: 0.8408 - val_accuracy: 0.6406\n",
      "Epoch 59/100\n",
      "18/18 [==============================] - 0s 5ms/step - loss: 0.7223 - accuracy: 0.6823 - val_loss: 0.8116 - val_accuracy: 0.6979\n",
      "Epoch 60/100\n",
      "18/18 [==============================] - 0s 6ms/step - loss: 0.7260 - accuracy: 0.6753 - val_loss: 0.8548 - val_accuracy: 0.7135\n",
      "Epoch 61/100\n",
      "18/18 [==============================] - 0s 5ms/step - loss: 0.6974 - accuracy: 0.6892 - val_loss: 0.8226 - val_accuracy: 0.6771\n",
      "Epoch 62/100\n",
      "18/18 [==============================] - 0s 5ms/step - loss: 0.7008 - accuracy: 0.6875 - val_loss: 0.7954 - val_accuracy: 0.7188\n",
      "Epoch 63/100\n",
      "18/18 [==============================] - 0s 5ms/step - loss: 0.6669 - accuracy: 0.6910 - val_loss: 0.8744 - val_accuracy: 0.6562\n",
      "Epoch 64/100\n",
      "18/18 [==============================] - 0s 5ms/step - loss: 0.7816 - accuracy: 0.6962 - val_loss: 0.9260 - val_accuracy: 0.6719\n",
      "Epoch 65/100\n",
      "18/18 [==============================] - 0s 4ms/step - loss: 0.8668 - accuracy: 0.6354 - val_loss: 0.8443 - val_accuracy: 0.6719\n",
      "Epoch 66/100\n",
      "18/18 [==============================] - 0s 3ms/step - loss: 0.7967 - accuracy: 0.6875 - val_loss: 0.8182 - val_accuracy: 0.6771\n",
      "Epoch 67/100\n",
      "18/18 [==============================] - 0s 4ms/step - loss: 0.6668 - accuracy: 0.6997 - val_loss: 0.8113 - val_accuracy: 0.7031\n",
      "Epoch 68/100\n",
      "18/18 [==============================] - 0s 5ms/step - loss: 0.6694 - accuracy: 0.6997 - val_loss: 0.7888 - val_accuracy: 0.6771\n",
      "Epoch 69/100\n",
      "18/18 [==============================] - 0s 6ms/step - loss: 0.6744 - accuracy: 0.6962 - val_loss: 0.8181 - val_accuracy: 0.6719\n",
      "Epoch 70/100\n",
      "18/18 [==============================] - 0s 4ms/step - loss: 0.6486 - accuracy: 0.7188 - val_loss: 0.9480 - val_accuracy: 0.6562\n",
      "Epoch 71/100\n",
      "18/18 [==============================] - 0s 3ms/step - loss: 0.7072 - accuracy: 0.6840 - val_loss: 0.9381 - val_accuracy: 0.6615\n",
      "Epoch 72/100\n",
      "18/18 [==============================] - 0s 5ms/step - loss: 0.7297 - accuracy: 0.6806 - val_loss: 0.8222 - val_accuracy: 0.7031\n",
      "Epoch 73/100\n",
      "18/18 [==============================] - 0s 5ms/step - loss: 0.6628 - accuracy: 0.6944 - val_loss: 0.8428 - val_accuracy: 0.7031\n",
      "Epoch 74/100\n",
      "18/18 [==============================] - 0s 4ms/step - loss: 0.6519 - accuracy: 0.7101 - val_loss: 0.8061 - val_accuracy: 0.7083\n",
      "Epoch 75/100\n",
      "18/18 [==============================] - 0s 4ms/step - loss: 0.6483 - accuracy: 0.6997 - val_loss: 0.7942 - val_accuracy: 0.6927\n",
      "Epoch 76/100\n",
      "18/18 [==============================] - 0s 4ms/step - loss: 0.6619 - accuracy: 0.6910 - val_loss: 0.8128 - val_accuracy: 0.6875\n",
      "Epoch 77/100\n",
      "18/18 [==============================] - 0s 4ms/step - loss: 0.6791 - accuracy: 0.6927 - val_loss: 0.7687 - val_accuracy: 0.6771\n",
      "Epoch 78/100\n",
      "18/18 [==============================] - 0s 3ms/step - loss: 0.6167 - accuracy: 0.7014 - val_loss: 0.7570 - val_accuracy: 0.6927\n",
      "Epoch 79/100\n",
      "18/18 [==============================] - 0s 5ms/step - loss: 0.6293 - accuracy: 0.7083 - val_loss: 0.7817 - val_accuracy: 0.6719\n",
      "Epoch 80/100\n",
      "18/18 [==============================] - 0s 4ms/step - loss: 0.6423 - accuracy: 0.7153 - val_loss: 0.7406 - val_accuracy: 0.6979\n",
      "Epoch 81/100\n",
      "18/18 [==============================] - 0s 5ms/step - loss: 0.6096 - accuracy: 0.7101 - val_loss: 0.7457 - val_accuracy: 0.6979\n",
      "Epoch 82/100\n",
      "18/18 [==============================] - 0s 5ms/step - loss: 0.6046 - accuracy: 0.7101 - val_loss: 0.7533 - val_accuracy: 0.7135\n",
      "Epoch 83/100\n",
      "18/18 [==============================] - 0s 5ms/step - loss: 0.6370 - accuracy: 0.6979 - val_loss: 0.7762 - val_accuracy: 0.6667\n",
      "Epoch 84/100\n",
      "18/18 [==============================] - 0s 4ms/step - loss: 0.6234 - accuracy: 0.6997 - val_loss: 0.7572 - val_accuracy: 0.6823\n",
      "Epoch 85/100\n",
      "18/18 [==============================] - 0s 4ms/step - loss: 0.6230 - accuracy: 0.7066 - val_loss: 0.8850 - val_accuracy: 0.6302\n",
      "Epoch 86/100\n",
      "18/18 [==============================] - 0s 5ms/step - loss: 0.6523 - accuracy: 0.7153 - val_loss: 1.0361 - val_accuracy: 0.6562\n",
      "Epoch 87/100\n",
      "18/18 [==============================] - 0s 4ms/step - loss: 0.7224 - accuracy: 0.6997 - val_loss: 0.8879 - val_accuracy: 0.6823\n",
      "Epoch 88/100\n",
      "18/18 [==============================] - 0s 5ms/step - loss: 0.6448 - accuracy: 0.6997 - val_loss: 0.8168 - val_accuracy: 0.6979\n",
      "Epoch 89/100\n",
      "18/18 [==============================] - 0s 4ms/step - loss: 0.6311 - accuracy: 0.7083 - val_loss: 0.8101 - val_accuracy: 0.6615\n",
      "Epoch 90/100\n",
      "18/18 [==============================] - 0s 7ms/step - loss: 0.6494 - accuracy: 0.6927 - val_loss: 0.7633 - val_accuracy: 0.6875\n",
      "Epoch 91/100\n",
      "18/18 [==============================] - 0s 4ms/step - loss: 0.5863 - accuracy: 0.7274 - val_loss: 0.7506 - val_accuracy: 0.6875\n",
      "Epoch 92/100\n",
      "18/18 [==============================] - 0s 4ms/step - loss: 0.5957 - accuracy: 0.7188 - val_loss: 0.7328 - val_accuracy: 0.7135\n",
      "Epoch 93/100\n",
      "18/18 [==============================] - 0s 4ms/step - loss: 0.6078 - accuracy: 0.7188 - val_loss: 0.7068 - val_accuracy: 0.6927\n",
      "Epoch 94/100\n",
      "18/18 [==============================] - 0s 5ms/step - loss: 0.5808 - accuracy: 0.7257 - val_loss: 0.7382 - val_accuracy: 0.6875\n",
      "Epoch 95/100\n",
      "18/18 [==============================] - 0s 4ms/step - loss: 0.5841 - accuracy: 0.7049 - val_loss: 0.7047 - val_accuracy: 0.6979\n",
      "Epoch 96/100\n",
      "18/18 [==============================] - 0s 4ms/step - loss: 0.5711 - accuracy: 0.7309 - val_loss: 0.7274 - val_accuracy: 0.6875\n",
      "Epoch 97/100\n",
      "18/18 [==============================] - 0s 4ms/step - loss: 0.5805 - accuracy: 0.7170 - val_loss: 0.7401 - val_accuracy: 0.6875\n",
      "Epoch 98/100\n",
      "18/18 [==============================] - 0s 4ms/step - loss: 0.6368 - accuracy: 0.7101 - val_loss: 0.7066 - val_accuracy: 0.7083\n",
      "Epoch 99/100\n",
      "18/18 [==============================] - 0s 4ms/step - loss: 0.5745 - accuracy: 0.7188 - val_loss: 0.7083 - val_accuracy: 0.6771\n",
      "Epoch 100/100\n",
      "18/18 [==============================] - 0s 4ms/step - loss: 0.6257 - accuracy: 0.7083 - val_loss: 0.8558 - val_accuracy: 0.7083\n"
     ]
    }
   ],
   "source": [
    "# Training model\n",
    "history = model.fit(X_train,y_train,batch_size=32,epochs=100,initial_epoch=6,validation_data=(X_test,y_test))"
   ]
  },
  {
   "cell_type": "code",
   "execution_count": null,
   "metadata": {},
   "outputs": [],
   "source": []
  }
 ],
 "metadata": {
  "kernelspec": {
   "display_name": "Python 3",
   "language": "python",
   "name": "python3"
  },
  "language_info": {
   "codemirror_mode": {
    "name": "ipython",
    "version": 3
   },
   "file_extension": ".py",
   "mimetype": "text/x-python",
   "name": "python",
   "nbconvert_exporter": "python",
   "pygments_lexer": "ipython3",
   "version": "3.11.3"
  },
  "orig_nbformat": 4
 },
 "nbformat": 4,
 "nbformat_minor": 2
}
