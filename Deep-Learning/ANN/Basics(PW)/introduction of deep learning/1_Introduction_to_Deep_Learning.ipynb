{
  "nbformat": 4,
  "nbformat_minor": 0,
  "metadata": {
    "colab": {
      "provenance": []
    },
    "kernelspec": {
      "name": "python3",
      "display_name": "Python 3"
    },
    "language_info": {
      "name": "python"
    },
    "accelerator": "GPU"
  },
  "cells": [
    {
      "cell_type": "markdown",
      "metadata": {
        "id": "4T2hCO4ukTqc"
      },
      "source": [
        "#Deep Learning With Computer Vision And Advanced NLP (DL_CV_NLP)\n",
        "\n",
        "$$ Revision Notes $$\n",
        "$$ A-Note-by-Bappy Ahmed $$"
      ]
    },
    {
      "cell_type": "markdown",
      "metadata": {
        "id": "fTYtgVcMlXXm"
      },
      "source": [
        "\n",
        "## Introduction to Deep Learning:\n",
        "Deep Learning is a subset of Machine Learning. Deep Learning is mostly about Neural Network. The main aim of Deep Learning or Neural Network is to mimic the human Brain. Means, It makes the machine learn like human being learn. To understand what deep learning is, we first need to understand the relationship deep learning has with machine learning, neural networks, and artificial intelligence. The best way to think of this relationship is to visualize them as concentric circles:\n",
        "\n",
        "\n",
        "<img src=\"https://miro.medium.com/max/970/0*5NrDYk8PryKASFJD\" width=\"400\" \n",
        "     height=\"300\">\n",
        "\n",
        "* At the outer most ring you have artificial intelligence. One layer inside of that is machine learning. With artificial neural networks and deep learning at the center.\n",
        "\n",
        "* Deep learning is a more approachable name for an artificial neural network. The “deep” in deep learning refers to the depth of the network. An artificial neural network can be very shallow & deep.\n",
        "\n",
        "#Some requirements to learn Deep Learning:\n",
        " * Mathematics:\n",
        "   - Functions\n",
        "   - Vectors\n",
        "   - Linear Algebra ->> [Metrix, Operations of Metrix]\n",
        "   - Differential Calculus ->> [Gradient, Partial Derivatives, Differentiation]\n",
        "   - Graphs\n",
        "\n",
        " * Programming:\n",
        "   - Python with OOPs concepts\n",
        "   - Code readability\n",
        "\n",
        " * System:\n",
        "   - At least i3 or i5 processor\n",
        "   - At least 8gb of RAM\n",
        "   - Good internet connection\n",
        " * IDE / Code Editor:\n",
        "   - Google Colab\n",
        "   - Paperspace\n",
        "   - Pycharm\n",
        "   - VS code\n",
        "   - jupyter notebook\n",
        "   - spyder\n",
        "\n",
        "And very last requirement is `Dedication`\n",
        "\n",
        "\n",
        "# Neural Neworks:\n",
        "\n",
        "<img src=\"https://upload.wikimedia.org/wikipedia/commons/thumb/0/00/Multi-Layer_Neural_Network-Vector-Blank.svg/1200px-Multi-Layer_Neural_Network-Vector-Blank.svg.png\"\n",
        "width=\"500\" \n",
        "     height=\"300\">\n",
        "\n",
        "\n",
        "<img src=\"https://research.aimultiple.com/wp-content/uploads/2017/08/neural-network.png\"\n",
        "width=\"500\" \n",
        "     height=\"300\">\n",
        "\n",
        "\n",
        "\n",
        "# ANN: Artificial Neural Networks:-\n",
        "* Neural networks are inspired by the structure of the cerebral cortex. At the basic level is the perceptron, the mathematical representation of a biological neuron. Like in the cerebral cortex, there can be several layers of interconnected perceptrons.\n",
        "\n",
        "* ANNs are **core of deep learning**. Hence one of the most important topic to understand.\n",
        "\n",
        "* ANNs are **versatile, scalable and powerfull**. Thus it can tackle highly complex ML tasks like classifying images, identying object, speech recognition etc.\n",
        "\n",
        "* ANN can be single layer or Multiple layers.\n",
        "\n",
        "* Above the ANN has just 3 layers, The green one is Input layer , Blue one is Hidden layer and the red one is output layer.\n",
        "\n",
        "* In each neuron except input neuron we use some kinds of activation function for activating the neuron based on some threshold. Activation function also filters out the important data.\n",
        "\n",
        "* Here each neuron passes some information to others neuron then others neuron take this information and do some calculation and pass to other , that's how it makes the neuron networks.\n",
        "\n",
        "\n",
        "## Biological Neuron:\n",
        "\n",
        "<img src=\"https://upload.wikimedia.org/wikipedia/commons/thumb/1/10/Blausen_0657_MultipolarNeuron.png/1920px-Blausen_0657_MultipolarNeuron.png\"\n",
        "width=\"500\" \n",
        "     height=\"300\">\n",
        "\n",
        "\n",
        "* Biological Neuron produce short electrical impulses known as `action potentials` which travels through axons to the synapses which releases chemical signals i.e `neurotransmitters`.\n",
        "\n",
        "* When a connected neuron recieves a sufficient amount of these neurotransmitters within a few milliseconds, it fires (or does not fires, think of a logic gate) its own action potential or elctrical impulse.\n",
        "\n",
        "* These simple units form a strong network known as Biological Neural Network (BNN) to perform very complex computation task.\n",
        "\n",
        "\n",
        "# The first Artificial Neuron:\n",
        "\n",
        "* It was in year 1943, Artificial neuron was introduced by-\n",
        "    * Neurophysiologist Warren McCulloh and\n",
        "    * Mathematician Walter Pitts\n",
        "    \n",
        "* They have published their work in `McCulloch, W.S., Pitts, W. A logical calculus of the ideas immanent in nervous activity. Bulletin of Mathematical Biophysics 5, 115–133 (1943). https://doi.org/10.1007/BF02478259`. read full paper at [link](https://www.cs.cmu.edu/~./epxing/Class/10715/reading/McCulloch.and.Pitts.pdf)\n",
        "\n",
        "* They have shown that these simple neurons can perform small logical operation like OR, NOT, AND gate etc. These neuron only fires when they get two active inputs."
      ]
    },
    {
      "cell_type": "markdown",
      "metadata": {
        "id": "G_W1ZzozpbFs"
      },
      "source": [
        "## Deep Learning classification: -\n",
        "- (1) **ANN** --> Artificial Neural Network. This ANN works on all kinds of Tabular dataset (excel sheet data). Any kinds of Regression & Classification task of Machine Learning can be solved by ANN.\n",
        "\n",
        "\n",
        "- (2) **CNN** --> Convolutional Neural Network. CNN works on computer vision like Images, Videos. CNN architecture works well on these kinds of Image & videos data. Some application of CNN are:-\n",
        "    - (a) Image Classification --> CNN, Transfer Learning\n",
        "    - (b) Object Detection --> RCNN, FAST RCNN, FASTER RCNN, SSD, YOLO, DETECTRON\n",
        "    - (c) Segmentation\n",
        "    - (d) Tracking\n",
        "    - (e) GAN >> Generative Adversarial Network\n",
        "\n",
        "\n",
        "- (3) **RNN** --> Recurrent Neural Network. RNN works whenever input data are text, time series or sequential data like Audio, Time series et cetra. Some techniques are used in RNN:- \n",
        "    - RNN\n",
        "    - LSTM RNN\n",
        "    - Bidirectional LSTM RNN\n",
        "    - Encoder, Decoder\n",
        "    - Transformers\n",
        "    - Bert\n",
        "    - GPT1, GPT2, GPT3\n",
        "#### NLP - Natural Language Processing is the part of RNN.\n",
        "NLP --> Text --> Vector\n",
        "   - Bag of words (BOW)\n",
        "   - TFIDF\n",
        "   - word2vec\n",
        "   - word embedding\n",
        "\n",
        "  \n",
        "# Why Deep Learning?\n",
        "\n",
        "\n",
        "<img src=\"https://www.merkleinc.com/sites/default/files/inline-images/DL%20and%20ML2%20resized.jpg\"\n",
        "width=\"600\" \n",
        "     height=\"300\">\n",
        "\n",
        "\n",
        "* Computers have long had techniques for recognizing features inside of images. The results weren’t always great. **Computer vision** has been a main beneficiary of deep learning. Computer vision using deep learning now rivals humans on many image recognition tasks.\n",
        "\n",
        "* **Facebook** has had great success with **identifying faces** in photographs by using deep learning. It’s not just a marginal improvement, but a game changer: “Asked whether two unfamiliar photos of faces show the same person, a human being will get it right 97.53 percent of the time. New software developed by researchers at Facebook can score 97.25 percent on the same challenge, regardless of variations in lighting or whether the person in the picture is directly facing the camera.”\n",
        "\n",
        "* **Speech recognition** is a another area that’s felt deep learning’s impact. Spoken languages are so vast and ambiguous. Baidu – one of the leading search engines of China – has developed a voice recognition system that is faster and more accurate than humans at producing text on a mobile phone. In both English and Mandarin.\n",
        "\n",
        "* What is particularly fascinating, is that generalizing the two languages didn’t require much additional design effort: “Historically, people viewed Chinese and English as two vastly different languages, and so there was a need to design very different features,” Andrew Ng says, chief scientist at Baidu. “The learning algorithms are now so general that you can just learn.”\n",
        "\n",
        "* **Google** is now using deep learning to **manage the energy** at the company’s data centers. They’ve cut their energy needs for cooling by 40%. That translates to about a 15% improvement in power usage efficiency for the company and hundreds of millions of dollars in savings.\n"
      ]
    },
    {
      "cell_type": "markdown",
      "metadata": {
        "id": "9JYsO8oGd2YG"
      },
      "source": [
        "`To understand more about ANN (Artificial Neural Network)` Please visit [Tensorflow Playground](https://playground.tensorflow.org/#activation=tanh&batchSize=10&dataset=circle&regDataset=reg-plane&learningRate=0.03&regularizationRate=0&noise=0&networkShape=4,2&seed=0.41926&showTestData=false&discretize=false&percTrainData=50&x=true&y=true&xTimesY=false&xSquared=false&ySquared=false&cosX=false&sinX=false&cosY=false&sinY=false&collectStats=false&problem=classification&initZero=false&hideText=false) and play with the Neural Network."
      ]
    },
    {
      "cell_type": "markdown",
      "metadata": {
        "id": "gZFYem1Ws1uO"
      },
      "source": [
        "# Installation of Tensorflow, Keras, pytorch & Basic of Google Colab\n",
        "\n",
        "### Tensorflow:\n",
        "- If you are using google colab then you don't have to install tensorflow additionaly, Colab already has tensorflow pre-installed you have to just import that. To import tensorflow just write \n",
        "```import tensorflow as tf```\n",
        "\n",
        "- But if you are using your local system like jupyter notebook then you have to install it. To install that first of all create a virtual Environment then activate your Environment and write to your anaconda promt ```pip install tensorflow``` it will install latest version of tensorflow for you. To check the version of tensorflow ```tf.__version__``` and for keras ```tf.keras.__version__```\n",
        "\n",
        "### pytorch:\n",
        "- For installing pytorch please visit their website [Pytorch](https://pytorch.org) \n",
        "\n",
        "\n",
        "### Activate GPU on colab:\n",
        "To activate GPU on colab go to the Runtime above and change the runtype type to GPU. To check your GPU just write ```!nvidia-smi```  \n",
        "\n",
        "\n"
      ]
    },
    {
      "cell_type": "markdown",
      "metadata": {
        "id": "nKrSyMiQuGge"
      },
      "source": [
        "\n",
        "##Deep Learning Frameworks\n",
        "\n",
        "Deep learnings is made accessible by a number of open source projects. Some of the most popular technologies include, but are not limited to, Deeplearning4j (DL4j), Theano, Torch, TensorFlow, and Caffe. The deciding factors on which one to use are the tech stack they target, and if they are low-level, academic, or application focused. Here’s an overview of each:\n",
        "\n",
        "DL4J:\n",
        "\n",
        "   * JVM-based\n",
        "   * Distrubted\n",
        "   * Integrates with Hadoop and Spark\n",
        "   \n",
        "   \n",
        "Theano:\n",
        "\n",
        "   * Very popular in Academia\n",
        "   * Fairly low level\n",
        "   * Interfaced with via Python and Numpy\n",
        "\n",
        "\n",
        "Torch:\n",
        "\n",
        "   * Lua based\n",
        "   * In house versions used by Facebook and Twitter\n",
        "   * Contains pretrained models\n",
        "\n",
        "\n",
        "TensorFlow:\n",
        "\n",
        "   * Google written successor to Theano\n",
        "   * Interfaced with via Python and Numpy\n",
        "   * Highly parallel\n",
        "   * Can be somewhat slow for certain problem sets\n",
        "\n",
        "\n",
        "\n",
        "Caffe:\n",
        "\n",
        "   * Not general purpose. Focuses on machine-vision problems\n",
        "   * Implemented in C++ and is very fast\n",
        "   * Not easily extensible\n",
        "   * Has a Python interface"
      ]
    },
    {
      "cell_type": "markdown",
      "metadata": {
        "id": "U3n9xPLCufI9"
      },
      "source": [
        "> **pip install tensorflow==2.0.0**\n",
        "\n",
        "> To run from Anaconda Prompt\n",
        "\n",
        "> **!pip install tensorflow==2.0.0**\n",
        "\n",
        "> To run from Jupyter Notebook\n",
        "\n",
        "`Both Tensorflow 2.0 and Keras have been released for four years (Keras was released in March 2015, and Tensorflow was released in November of the same year). The rapid development of deep learning in the past days, we also know some problems of Tensorflow1.x and Keras:`\n",
        "\n",
        "* Using Tensorflow means programming static graphs, which is difficult and inconvenient for programs that are familiar with imperative programming\n",
        "\n",
        "* Tensorflow api is powerful and flexible, but it is more complex, confusing and difficult to use.\n",
        "\n",
        "* Keras api is productive and easy to use, but lacks flexibility for research\n",
        "\n",
        "#### Official docs link for [DETAILED INSTALLATION STEPS](https://www.tensorflow.org/install) for Tensorflow 2"
      ]
    },
    {
      "cell_type": "code",
      "metadata": {
        "id": "kOF-fPCHkted"
      },
      "source": [
        "# Verify installation  \n",
        "import tensorflow as tf"
      ],
      "execution_count": null,
      "outputs": []
    },
    {
      "cell_type": "code",
      "metadata": {
        "colab": {
          "base_uri": "https://localhost:8080/"
        },
        "id": "11gCQ_XovF3K",
        "outputId": "26c87d45-7eb9-44eb-89a3-b04d9eab4381"
      },
      "source": [
        "print(f\"Tensorflow Version: {tf.__version__}\")\n",
        "print(f\"Keras Version: {tf.keras.__version__}\")"
      ],
      "execution_count": null,
      "outputs": [
        {
          "output_type": "stream",
          "text": [
            "Tensorflow Version: 2.5.0\n",
            "Keras Version: 2.5.0\n"
          ],
          "name": "stdout"
        }
      ]
    },
    {
      "cell_type": "markdown",
      "metadata": {
        "id": "bh9RXymqxDkU"
      },
      "source": [
        "`Tensorflow2.0 is a combination design of Tensorflow1.x and Keras. Considering user feedback and framework development over the past four years, it largely solves the above problems and will become the future machine learning platform.`\n",
        "\n",
        "> Tensorflow 2.0 is built on the following core ideas:\n",
        "\n",
        "\n",
        "* The coding is more pythonic, so that users can get the results immediately like they are programming in numpy\n",
        "* Retaining the characteristics of static graphs (for performance, distributed, and production deployment), this makes TensorFlow fast, scalable, and ready for production.\n",
        "* Using Keras as a high-level API for deep learning, making Tensorflow easy to use and efficient\n",
        "* Make the entire framework both high-level features (easy to use, efficient, and not flexible) and low-level features (powerful and scalable, not easy to use, but very flexible)"
      ]
    },
    {
      "cell_type": "markdown",
      "metadata": {
        "id": "5m45lQ0lxK_M"
      },
      "source": [
        ">Eager execution is by default in TensorFlow 2.0 and, it needs no special setup.\n",
        ">The following below code can be used to find out whether a CPU or GPU is in use"
      ]
    },
    {
      "cell_type": "markdown",
      "metadata": {
        "id": "Lt4LSH5axUdy"
      },
      "source": [
        "# GPU/CPU Check"
      ]
    },
    {
      "cell_type": "code",
      "metadata": {
        "colab": {
          "base_uri": "https://localhost:8080/"
        },
        "id": "jHkull2Aw0is",
        "outputId": "ff418ac9-9777-45fa-9e03-54a9aeef9d76"
      },
      "source": [
        "tf.config.list_physical_devices('GPU')"
      ],
      "execution_count": null,
      "outputs": [
        {
          "output_type": "execute_result",
          "data": {
            "text/plain": [
              "[PhysicalDevice(name='/physical_device:GPU:0', device_type='GPU')]"
            ]
          },
          "metadata": {
            "tags": []
          },
          "execution_count": 3
        }
      ]
    },
    {
      "cell_type": "code",
      "metadata": {
        "colab": {
          "base_uri": "https://localhost:8080/"
        },
        "id": "BG04YKXpxbN_",
        "outputId": "334e607b-eefa-4f36-b64b-75656476bcdf"
      },
      "source": [
        "tf.config.list_physical_devices('CPU')"
      ],
      "execution_count": null,
      "outputs": [
        {
          "output_type": "execute_result",
          "data": {
            "text/plain": [
              "[PhysicalDevice(name='/physical_device:CPU:0', device_type='CPU')]"
            ]
          },
          "metadata": {
            "tags": []
          },
          "execution_count": 4
        }
      ]
    },
    {
      "cell_type": "code",
      "metadata": {
        "colab": {
          "base_uri": "https://localhost:8080/"
        },
        "id": "NLWE0ddAxl9V",
        "outputId": "c5a57310-7d17-4de9-9d6e-8edebdd5ce7f"
      },
      "source": [
        "CheckList = [\"GPU\", \"CPU\"]\n",
        "for device in CheckList:\n",
        "    out_ = tf.config.list_physical_devices(device)    \n",
        "    if len(out_) > 0:\n",
        "        print(f\"{device} is available\")        \n",
        "        print(\"details\\n\",out_)\n",
        "    else:\n",
        "        print(f\"{device} not available\")"
      ],
      "execution_count": null,
      "outputs": [
        {
          "output_type": "stream",
          "text": [
            "GPU is available\n",
            "details\n",
            " [PhysicalDevice(name='/physical_device:GPU:0', device_type='GPU')]\n",
            "CPU is available\n",
            "details\n",
            " [PhysicalDevice(name='/physical_device:CPU:0', device_type='CPU')]\n"
          ],
          "name": "stdout"
        }
      ]
    },
    {
      "cell_type": "code",
      "metadata": {
        "id": "HZz_DVDdxpY2"
      },
      "source": [],
      "execution_count": null,
      "outputs": []
    }
  ]
}