{
  "nbformat": 4,
  "nbformat_minor": 0,
  "metadata": {
    "colab": {
      "provenance": []
    },
    "kernelspec": {
      "name": "python3",
      "display_name": "Python 3"
    },
    "language_info": {
      "name": "python"
    }
  },
  "cells": [
    {
      "cell_type": "markdown",
      "metadata": {
        "id": "MbDKC_dwyGG8"
      },
      "source": [
        "#Deep Learning With Computer Vision And Advanced NLP (DL_CV_NLP)\n",
        "\n",
        "$$ Revision Notes $$\n",
        "$$ A-Note-by-**Bappy Ahmed** $$"
      ]
    },
    {
      "cell_type": "markdown",
      "metadata": {
        "id": "BgXkaamYyM8V"
      },
      "source": [
        "#Perceptron:\n",
        "Perceptron is a single unit of ANN (Artificial Neural Network), It can also be multi layer. It can be also called `TLU` (Threshold Logic Unit).\n",
        "\n",
        "* Its the simplest ANN architecture. It was invented by Frank Rosenblatt in 1957 and published as `Rosenblatt, Frank (1958), The Perceptron: A Probabilistic Model for Information Storage and Organization in the Brain, Cornell Aeronautical Laboratory, Psychological Review, v65, No. 6, pp. 386–408. doi:10.1037/h0042519`\n",
        "* It has different architecture then the first neuron that we have seen above. Its known as threshold logic unit(TLU) or linear threshold unit (LTU).\n",
        "* Here inputs are not just binary. \n",
        "* Lets see the architecture shown below - \n",
        "    <a title=\"Chrislb / CC BY-SA (http://creativecommons.org/licenses/by-sa/3.0/)\" href=\"https://commons.wikimedia.org/wiki/File:ArtificialNeuronModel_english.png\"><img width=\"1024\" alt=\"ArtificialNeuronModel english\" src=\"https://upload.wikimedia.org/wikipedia/commons/thumb/6/60/ArtificialNeuronModel_english.png/1024px-ArtificialNeuronModel_english.png\"></a>\n",
        "\n",
        "\n"
      ]
    },
    {
      "cell_type": "markdown",
      "metadata": {
        "id": "Jy0eT1dIz1np"
      },
      "source": [
        "\n",
        "* Common activation functions used for Perceptrons are (with threshold at 0)\n",
        " - $\\phi(z) = \\begin{cases}\n",
        "+1 & \\text{ if } z \\geq \\theta \\\\ \n",
        "-1 & \\text{ if } z< \\theta \n",
        "\\end{cases}$\n",
        "\n",
        "\n",
        "* These activation function are **anologous to firing of neurotransmitter** at a specific threshold\n",
        "\n",
        "- Net input $$z = x_1.w_1+x_2.w_2+x_3.w_3+...+x_n.w_n$$\n",
        "or $$z= \\sum_{i=1}^{n} x_i.w_i $$\n",
        "\n",
        "- Activation: $$\\phi (z)$$\n",
        "\n",
        "* Perceptron learning Rule: \n",
        "$W_i,_j \\leftarrow W_i,_j \\leftarrow + \\eta (y_j - \\hat{y})x_i$\n",
        "    where,\n",
        "    * $w_{i,j}$ : connection weight between $i^{th}$ input neuron and $j^{th}$ output neuron\n",
        "    * $x_i$ : $i^{th}$ input value.\n",
        "    * $\\hat{y_j}$ : output of $j^{th}$ output neuron\n",
        "    * $y_j$ : target output of $j^{th}$ output neuron\n",
        "    * $\\eta$ : learning rate\n",
        "    \n",
        "* It can also be written as for jth element of w vector \n",
        "    $$w_j = w_j + \\triangle w_j$$\n",
        "    $$where,\\ \\triangle w_j =  \\eta(y^{(i)} - \\hat{y_j}^{(i)})x_j^{(i)}$$\n",
        "                         "
      ]
    },
    {
      "cell_type": "code",
      "metadata": {
        "colab": {
          "base_uri": "https://localhost:8080/",
          "height": 309
        },
        "id": "uSsnVhddAdE8",
        "outputId": "640dda6b-d399-47e7-bab9-c75b0295ab62"
      },
      "source": [
        "# Step function graphically\n",
        "import numpy as np\n",
        "import matplotlib.pyplot as plt\n",
        "plt.style.use(\"fivethirtyeight\")\n",
        "\n",
        "x_axis = np.linspace(-2,2,200)\n",
        "step = np.where(x_axis < 0, 0, 1)\n",
        "\n",
        "plt.plot(x_axis, step)\n",
        "plt.xlabel(\"x_axis\")\n",
        "plt.ylabel(r\"Activation function or $step(z)$\")\n",
        "plt.axhline(0, color='k', lw=1);\n",
        "plt.axvline(0, color='k', lw=1);"
      ],
      "execution_count": null,
      "outputs": [
        {
          "output_type": "display_data",
          "data": {
            "image/png": "[encoded data removed]",
            "text/plain": [
              "<Figure size 432x288 with 1 Axes>"
            ]
          },
          "metadata": {
            "tags": []
          }
        }
      ]
    },
    {
      "cell_type": "markdown",
      "metadata": {
        "id": "dJB5QIvJAcdb"
      },
      "source": []
    },
    {
      "cell_type": "markdown",
      "metadata": {
        "id": "uDLKw1r87DxO"
      },
      "source": [
        "## Derivation:- \n",
        "\n",
        "Let's assume that you are doing a binary classification with class +1 and -1\n",
        "\n",
        "Let there be decision function $\\phi (z)$ \n",
        "\n",
        "which takes linear combination of certain inputs \"$\\mathbf{x}$\" \n",
        "\n",
        "corresponding weights \"$\\mathbf{w}$\" and net input $\\mathbf{z} = w_1 x_1 + w_2 x_2 + ... + w_n x_n$\n",
        "\n",
        "\n",
        "So in vector form we have \n",
        "\n",
        "$\\begin{matrix}\n",
        "\\mathbf{w} = \\begin{bmatrix}\n",
        "w_1\\\\ \n",
        "\\vdots\\\\ \n",
        "w_n\\end{bmatrix}&&\n",
        "\\mathbf{x} = \\begin{bmatrix}\n",
        "x_1\\\\ \n",
        "\\vdots\\\\ \n",
        "x_n\\end{bmatrix}\\end{matrix}$\n",
        "\n",
        "\n",
        "so  $\\mathbf{z = w^T x}$\n",
        "\n",
        "\n",
        "Now, if \n",
        "\n",
        "for a sample $\\mathbf{x}$\n",
        "\n",
        "$\\phi(z) = \\begin{cases}\n",
        "+1 & \\text{ if } z \\geq \\theta \\\\ \n",
        "-1 & \\text{ if } z< \\theta \n",
        "\\end{cases}$\n",
        "\n",
        "Lets simplify the above equation - \n",
        "\n",
        "$\\phi(z) = \\begin{cases}\n",
        "+1 & \\text{ if } z - \\theta \\geq 0\\\\ \n",
        "-1 & \\text{ if } z - \\theta < 0\n",
        "\\end{cases}$\n",
        "\n",
        "Suppose, $$w_0 = \\theta$$\n",
        "and$$x_0 =-1 $$\n",
        "\n",
        "Then, \n",
        "\n",
        "$\\mathbf{z'} = w_0 x_0 + w_1 x_1 + w_2 x_2 + ... + w_n x_n$\n",
        "\n",
        "and \n",
        "\n",
        "$\\phi(z) = \\begin{cases}\n",
        "+1 & \\text{ if } z \\geq 0\\\\ \n",
        "-1 & \\text{ if } z < 0\n",
        "\\end{cases}$\n",
        "\n",
        "here $w_0 x_0$ is usually known as bias unit\n",
        "\n",
        "![](https://sebastianraschka.com/images/faq/classifier-history/perceptron-figure.png)\n"
      ]
    },
    {
      "cell_type": "markdown",
      "metadata": {
        "id": "68Dw1PTm94_s"
      },
      "source": [
        "# Advantages & Disadvantages of Perceptron:\n",
        "### Advantages:\n",
        "- Single layer Perceptrons can learn only linearly separable patterns\n",
        "- Easy to implement\n",
        "- Low computation power\n",
        "-Perceptrons can implement Logic Gates like AND, OR.\n",
        "\n",
        "### Disadvantages:\n",
        "- Perceptron networks have several limitations.\n",
        "- The output values of a perceptron can take on only one of two values (0 or 1) due to the hard-limit activation function\n",
        "- Here we just use the step function as an activation.\n",
        "- Perceptrons can only classify linearly separable sets of vectors."
      ]
    },
    {
      "cell_type": "markdown",
      "metadata": {
        "id": "hPFIrjKXAFsJ"
      },
      "source": [
        "# Implementation of Perceptron with Python"
      ]
    },
    {
      "cell_type": "code",
      "metadata": {
        "id": "ZKrr3No5swcf"
      },
      "source": [
        "ROOT = \"/content/drive/MyDrive/DL-CV-NLP/Revision \""
      ],
      "execution_count": null,
      "outputs": []
    },
    {
      "cell_type": "code",
      "metadata": {
        "id": "OwRbtcUzBXsb"
      },
      "source": [
        "import os\n",
        "os.chdir(ROOT)"
      ],
      "execution_count": null,
      "outputs": []
    },
    {
      "cell_type": "code",
      "metadata": {
        "colab": {
          "base_uri": "https://localhost:8080/",
          "height": 35
        },
        "id": "aHfKiscxBdmZ",
        "outputId": "b1947769-ddb4-4a14-fae0-a66bce200425"
      },
      "source": [
        "os.getcwd()"
      ],
      "execution_count": null,
      "outputs": [
        {
          "output_type": "execute_result",
          "data": {
            "application/vnd.google.colaboratory.intrinsic+json": {
              "type": "string"
            },
            "text/plain": [
              "'/content/drive/My Drive/DL-CV-NLP/Revision '"
            ]
          },
          "metadata": {
            "tags": []
          },
          "execution_count": 4
        }
      ]
    },
    {
      "cell_type": "code",
      "metadata": {
        "id": "7Vi046cBBhIY"
      },
      "source": [
        "import numpy as np\n",
        "import matplotlib.pyplot as plt\n",
        "import joblib\n",
        "import pandas as pd\n",
        "plt.style.use(\"fivethirtyeight\")"
      ],
      "execution_count": null,
      "outputs": []
    },
    {
      "cell_type": "code",
      "metadata": {
        "id": "QiNqz8NGBmWC"
      },
      "source": [
        "class Perceptron:\n",
        "  def __init__(self, eta, epochs):\n",
        "    self.weights = np.random.randn(3) * 1e-4\n",
        "    print(f\"self.weights: {self.weights}\")\n",
        "    self.eta = eta\n",
        "    self.epochs = epochs\n",
        "\n",
        "  def activationFunction(self, inputs, weights):\n",
        "    z = np.dot(inputs, weights)\n",
        "    return np.where(z > 0 , 1, 0)\n",
        "\n",
        "  def fit(self, X, y):\n",
        "    self.X = X\n",
        "    self.y = y\n",
        "\n",
        "    X_with_bias = np.c_[self.X, -np.ones((len(self.X), 1))] # concactination\n",
        "    print(f\"X_with_bias: \\n{X_with_bias}\")\n",
        "\n",
        "    for epoch in range(self.epochs):\n",
        "      print(f\"for epoch: {epoch}\")\n",
        "      y_hat = self.activationFunction(X_with_bias, self.weights)\n",
        "      print(f\"predicted value: \\n{y_hat}\")\n",
        "      error = self.y - y_hat\n",
        "      print(f\"error: \\n{error}\")\n",
        "      self.weights = self.weights + self.eta * np.dot(X_with_bias.T, error)\n",
        "      print(f\"updated weights: \\n{self.weights}\")\n",
        "      print(\"#############\\n\")\n",
        "\n",
        "  def predict(self, X):\n",
        "    X_with_bias = np.c_[X, -np.ones((len(self.X), 1))]\n",
        "    return self.activationFunction(X_with_bias, self.weights)\n"
      ],
      "execution_count": null,
      "outputs": []
    },
    {
      "cell_type": "markdown",
      "metadata": {
        "id": "qjbhb0bIB0xY"
      },
      "source": [
        "# AND Operation:"
      ]
    },
    {
      "cell_type": "code",
      "metadata": {
        "colab": {
          "base_uri": "https://localhost:8080/",
          "height": 175
        },
        "id": "a8X7RaPyBvSd",
        "outputId": "c5e6b451-107e-4588-a7e0-f17fe4239c70"
      },
      "source": [
        "data = {\"x1\": [0,0,1,1], \"x2\": [0,1,0,1], \"y\": [0,0,0,1]}\n",
        "\n",
        "AND = pd.DataFrame(data)\n",
        "AND"
      ],
      "execution_count": null,
      "outputs": [
        {
          "output_type": "execute_result",
          "data": {
            "text/html": [
              "<div>\n",
              "<style scoped>\n",
              "    .dataframe tbody tr th:only-of-type {\n",
              "        vertical-align: middle;\n",
              "    }\n",
              "\n",
              "    .dataframe tbody tr th {\n",
              "        vertical-align: top;\n",
              "    }\n",
              "\n",
              "    .dataframe thead th {\n",
              "        text-align: right;\n",
              "    }\n",
              "</style>\n",
              "<table border=\"1\" class=\"dataframe\">\n",
              "  <thead>\n",
              "    <tr style=\"text-align: right;\">\n",
              "      <th></th>\n",
              "      <th>x1</th>\n",
              "      <th>x2</th>\n",
              "      <th>y</th>\n",
              "    </tr>\n",
              "  </thead>\n",
              "  <tbody>\n",
              "    <tr>\n",
              "      <th>0</th>\n",
              "      <td>0</td>\n",
              "      <td>0</td>\n",
              "      <td>0</td>\n",
              "    </tr>\n",
              "    <tr>\n",
              "      <th>1</th>\n",
              "      <td>0</td>\n",
              "      <td>1</td>\n",
              "      <td>0</td>\n",
              "    </tr>\n",
              "    <tr>\n",
              "      <th>2</th>\n",
              "      <td>1</td>\n",
              "      <td>0</td>\n",
              "      <td>0</td>\n",
              "    </tr>\n",
              "    <tr>\n",
              "      <th>3</th>\n",
              "      <td>1</td>\n",
              "      <td>1</td>\n",
              "      <td>1</td>\n",
              "    </tr>\n",
              "  </tbody>\n",
              "</table>\n",
              "</div>"
            ],
            "text/plain": [
              "   x1  x2  y\n",
              "0   0   0  0\n",
              "1   0   1  0\n",
              "2   1   0  0\n",
              "3   1   1  1"
            ]
          },
          "metadata": {
            "tags": []
          },
          "execution_count": 7
        }
      ]
    },
    {
      "cell_type": "code",
      "metadata": {
        "colab": {
          "base_uri": "https://localhost:8080/",
          "height": 175
        },
        "id": "hmEbHeUOB6e5",
        "outputId": "239b64fb-8ea7-4e6f-af51-3f364aa58630"
      },
      "source": [
        "X = AND.drop(\"y\", axis=1) \n",
        "X"
      ],
      "execution_count": null,
      "outputs": [
        {
          "output_type": "execute_result",
          "data": {
            "text/html": [
              "<div>\n",
              "<style scoped>\n",
              "    .dataframe tbody tr th:only-of-type {\n",
              "        vertical-align: middle;\n",
              "    }\n",
              "\n",
              "    .dataframe tbody tr th {\n",
              "        vertical-align: top;\n",
              "    }\n",
              "\n",
              "    .dataframe thead th {\n",
              "        text-align: right;\n",
              "    }\n",
              "</style>\n",
              "<table border=\"1\" class=\"dataframe\">\n",
              "  <thead>\n",
              "    <tr style=\"text-align: right;\">\n",
              "      <th></th>\n",
              "      <th>x1</th>\n",
              "      <th>x2</th>\n",
              "    </tr>\n",
              "  </thead>\n",
              "  <tbody>\n",
              "    <tr>\n",
              "      <th>0</th>\n",
              "      <td>0</td>\n",
              "      <td>0</td>\n",
              "    </tr>\n",
              "    <tr>\n",
              "      <th>1</th>\n",
              "      <td>0</td>\n",
              "      <td>1</td>\n",
              "    </tr>\n",
              "    <tr>\n",
              "      <th>2</th>\n",
              "      <td>1</td>\n",
              "      <td>0</td>\n",
              "    </tr>\n",
              "    <tr>\n",
              "      <th>3</th>\n",
              "      <td>1</td>\n",
              "      <td>1</td>\n",
              "    </tr>\n",
              "  </tbody>\n",
              "</table>\n",
              "</div>"
            ],
            "text/plain": [
              "   x1  x2\n",
              "0   0   0\n",
              "1   0   1\n",
              "2   1   0\n",
              "3   1   1"
            ]
          },
          "metadata": {
            "tags": []
          },
          "execution_count": 8
        }
      ]
    },
    {
      "cell_type": "code",
      "metadata": {
        "colab": {
          "base_uri": "https://localhost:8080/",
          "height": 175
        },
        "id": "rrsBJDWkCUYP",
        "outputId": "d9a26d54-2007-432d-f95c-e5e7a7426c7b"
      },
      "source": [
        "y = AND['y']\n",
        "y.to_frame()"
      ],
      "execution_count": null,
      "outputs": [
        {
          "output_type": "execute_result",
          "data": {
            "text/html": [
              "<div>\n",
              "<style scoped>\n",
              "    .dataframe tbody tr th:only-of-type {\n",
              "        vertical-align: middle;\n",
              "    }\n",
              "\n",
              "    .dataframe tbody tr th {\n",
              "        vertical-align: top;\n",
              "    }\n",
              "\n",
              "    .dataframe thead th {\n",
              "        text-align: right;\n",
              "    }\n",
              "</style>\n",
              "<table border=\"1\" class=\"dataframe\">\n",
              "  <thead>\n",
              "    <tr style=\"text-align: right;\">\n",
              "      <th></th>\n",
              "      <th>y</th>\n",
              "    </tr>\n",
              "  </thead>\n",
              "  <tbody>\n",
              "    <tr>\n",
              "      <th>0</th>\n",
              "      <td>0</td>\n",
              "    </tr>\n",
              "    <tr>\n",
              "      <th>1</th>\n",
              "      <td>0</td>\n",
              "    </tr>\n",
              "    <tr>\n",
              "      <th>2</th>\n",
              "      <td>0</td>\n",
              "    </tr>\n",
              "    <tr>\n",
              "      <th>3</th>\n",
              "      <td>1</td>\n",
              "    </tr>\n",
              "  </tbody>\n",
              "</table>\n",
              "</div>"
            ],
            "text/plain": [
              "   y\n",
              "0  0\n",
              "1  0\n",
              "2  0\n",
              "3  1"
            ]
          },
          "metadata": {
            "tags": []
          },
          "execution_count": 9
        }
      ]
    },
    {
      "cell_type": "code",
      "metadata": {
        "colab": {
          "base_uri": "https://localhost:8080/"
        },
        "id": "xrLM97f_CXGF",
        "outputId": "020e55da-6e2c-4c58-a390-42e33626b30b"
      },
      "source": [
        "model = Perceptron(eta = 0.5, epochs=10)\n",
        "model.fit(X,y)"
      ],
      "execution_count": null,
      "outputs": [
        {
          "output_type": "stream",
          "text": [
            "self.weights: [-2.62914008e-04 -4.44216966e-05 -2.35319816e-05]\n",
            "X_with_bias: \n",
            "[[ 0.  0. -1.]\n",
            " [ 0.  1. -1.]\n",
            " [ 1.  0. -1.]\n",
            " [ 1.  1. -1.]]\n",
            "for epoch: 0\n",
            "predicted value: \n",
            "[1 0 0 0]\n",
            "error: \n",
            "0   -1\n",
            "1    0\n",
            "2    0\n",
            "3    1\n",
            "Name: y, dtype: int64\n",
            "updated weights: \n",
            "[ 4.99737086e-01  4.99955578e-01 -2.35319816e-05]\n",
            "#############\n",
            "\n",
            "for epoch: 1\n",
            "predicted value: \n",
            "[1 1 1 1]\n",
            "error: \n",
            "0   -1\n",
            "1   -1\n",
            "2   -1\n",
            "3    0\n",
            "Name: y, dtype: int64\n",
            "updated weights: \n",
            "[-2.62914008e-04 -4.44216966e-05  1.49997647e+00]\n",
            "#############\n",
            "\n",
            "for epoch: 2\n",
            "predicted value: \n",
            "[0 0 0 0]\n",
            "error: \n",
            "0    0\n",
            "1    0\n",
            "2    0\n",
            "3    1\n",
            "Name: y, dtype: int64\n",
            "updated weights: \n",
            "[0.49973709 0.49995558 0.99997647]\n",
            "#############\n",
            "\n",
            "for epoch: 3\n",
            "predicted value: \n",
            "[0 0 0 0]\n",
            "error: \n",
            "0    0\n",
            "1    0\n",
            "2    0\n",
            "3    1\n",
            "Name: y, dtype: int64\n",
            "updated weights: \n",
            "[0.99973709 0.99995558 0.49997647]\n",
            "#############\n",
            "\n",
            "for epoch: 4\n",
            "predicted value: \n",
            "[0 1 1 1]\n",
            "error: \n",
            "0    0\n",
            "1   -1\n",
            "2   -1\n",
            "3    0\n",
            "Name: y, dtype: int64\n",
            "updated weights: \n",
            "[0.49973709 0.49995558 1.49997647]\n",
            "#############\n",
            "\n",
            "for epoch: 5\n",
            "predicted value: \n",
            "[0 0 0 0]\n",
            "error: \n",
            "0    0\n",
            "1    0\n",
            "2    0\n",
            "3    1\n",
            "Name: y, dtype: int64\n",
            "updated weights: \n",
            "[0.99973709 0.99995558 0.99997647]\n",
            "#############\n",
            "\n",
            "for epoch: 6\n",
            "predicted value: \n",
            "[0 0 0 1]\n",
            "error: \n",
            "0    0\n",
            "1    0\n",
            "2    0\n",
            "3    0\n",
            "Name: y, dtype: int64\n",
            "updated weights: \n",
            "[0.99973709 0.99995558 0.99997647]\n",
            "#############\n",
            "\n",
            "for epoch: 7\n",
            "predicted value: \n",
            "[0 0 0 1]\n",
            "error: \n",
            "0    0\n",
            "1    0\n",
            "2    0\n",
            "3    0\n",
            "Name: y, dtype: int64\n",
            "updated weights: \n",
            "[0.99973709 0.99995558 0.99997647]\n",
            "#############\n",
            "\n",
            "for epoch: 8\n",
            "predicted value: \n",
            "[0 0 0 1]\n",
            "error: \n",
            "0    0\n",
            "1    0\n",
            "2    0\n",
            "3    0\n",
            "Name: y, dtype: int64\n",
            "updated weights: \n",
            "[0.99973709 0.99995558 0.99997647]\n",
            "#############\n",
            "\n",
            "for epoch: 9\n",
            "predicted value: \n",
            "[0 0 0 1]\n",
            "error: \n",
            "0    0\n",
            "1    0\n",
            "2    0\n",
            "3    0\n",
            "Name: y, dtype: int64\n",
            "updated weights: \n",
            "[0.99973709 0.99995558 0.99997647]\n",
            "#############\n",
            "\n"
          ],
          "name": "stdout"
        }
      ]
    },
    {
      "cell_type": "code",
      "metadata": {
        "colab": {
          "base_uri": "https://localhost:8080/"
        },
        "id": "PR0Iw-ioCfTt",
        "outputId": "90afd566-e3ec-4890-9686-bbe60e06392a"
      },
      "source": [
        "model.predict(X)"
      ],
      "execution_count": null,
      "outputs": [
        {
          "output_type": "execute_result",
          "data": {
            "text/plain": [
              "array([0, 0, 0, 1])"
            ]
          },
          "metadata": {
            "tags": []
          },
          "execution_count": 11
        }
      ]
    },
    {
      "cell_type": "code",
      "metadata": {
        "colab": {
          "base_uri": "https://localhost:8080/"
        },
        "id": "-x-LjL6yCq7t",
        "outputId": "fc84dd10-4680-4ec6-de81-9b599a7cca31"
      },
      "source": [
        "model.weights"
      ],
      "execution_count": null,
      "outputs": [
        {
          "output_type": "execute_result",
          "data": {
            "text/plain": [
              "array([0.99973709, 0.99995558, 0.99997647])"
            ]
          },
          "metadata": {
            "tags": []
          },
          "execution_count": 12
        }
      ]
    },
    {
      "cell_type": "markdown",
      "metadata": {
        "id": "nN8FzZTnCzOQ"
      },
      "source": [
        "# Saving and Loading model"
      ]
    },
    {
      "cell_type": "code",
      "metadata": {
        "colab": {
          "base_uri": "https://localhost:8080/"
        },
        "id": "LGDND-OoCtDs",
        "outputId": "8c97ecfb-9e64-4c11-a374-26547bc8940e"
      },
      "source": [
        "import os\n",
        "\n",
        "# saving model\n",
        "dir_ = \"Perceptron_model\"\n",
        "os.makedirs(dir_, exist_ok=True)\n",
        "filename = os.path.join(dir_, 'AND_model.model')\n",
        "joblib.dump(model, filename)\n"
      ],
      "execution_count": null,
      "outputs": [
        {
          "output_type": "execute_result",
          "data": {
            "text/plain": [
              "['Perceptron_model/AND_model.model']"
            ]
          },
          "metadata": {
            "tags": []
          },
          "execution_count": 15
        }
      ]
    },
    {
      "cell_type": "code",
      "metadata": {
        "colab": {
          "base_uri": "https://localhost:8080/"
        },
        "id": "OukCKSg5DIGQ",
        "outputId": "333b89a2-fd15-4b18-d204-21ee98a9c19e"
      },
      "source": [
        "# load the model from drive\n",
        "loaded_model = joblib.load(filename)\n",
        "result = loaded_model.predict(X)\n",
        "print(result)"
      ],
      "execution_count": null,
      "outputs": [
        {
          "output_type": "stream",
          "text": [
            "[0 0 0 1]\n"
          ],
          "name": "stdout"
        }
      ]
    },
    {
      "cell_type": "markdown",
      "metadata": {
        "id": "vzp5wnHNDtsv"
      },
      "source": [
        "# OR Operation:"
      ]
    },
    {
      "cell_type": "code",
      "metadata": {
        "colab": {
          "base_uri": "https://localhost:8080/",
          "height": 175
        },
        "id": "G-KBOxW-DSxH",
        "outputId": "00ef3f3d-69be-4919-85a0-ea0240760670"
      },
      "source": [
        "data = {\"x1\": [0,0,1,1], \"x2\": [0,1,0,1], \"y\": [0,1,1,1]}\n",
        "\n",
        "OR = pd.DataFrame(data)\n",
        "OR"
      ],
      "execution_count": null,
      "outputs": [
        {
          "output_type": "execute_result",
          "data": {
            "text/html": [
              "<div>\n",
              "<style scoped>\n",
              "    .dataframe tbody tr th:only-of-type {\n",
              "        vertical-align: middle;\n",
              "    }\n",
              "\n",
              "    .dataframe tbody tr th {\n",
              "        vertical-align: top;\n",
              "    }\n",
              "\n",
              "    .dataframe thead th {\n",
              "        text-align: right;\n",
              "    }\n",
              "</style>\n",
              "<table border=\"1\" class=\"dataframe\">\n",
              "  <thead>\n",
              "    <tr style=\"text-align: right;\">\n",
              "      <th></th>\n",
              "      <th>x1</th>\n",
              "      <th>x2</th>\n",
              "      <th>y</th>\n",
              "    </tr>\n",
              "  </thead>\n",
              "  <tbody>\n",
              "    <tr>\n",
              "      <th>0</th>\n",
              "      <td>0</td>\n",
              "      <td>0</td>\n",
              "      <td>0</td>\n",
              "    </tr>\n",
              "    <tr>\n",
              "      <th>1</th>\n",
              "      <td>0</td>\n",
              "      <td>1</td>\n",
              "      <td>1</td>\n",
              "    </tr>\n",
              "    <tr>\n",
              "      <th>2</th>\n",
              "      <td>1</td>\n",
              "      <td>0</td>\n",
              "      <td>1</td>\n",
              "    </tr>\n",
              "    <tr>\n",
              "      <th>3</th>\n",
              "      <td>1</td>\n",
              "      <td>1</td>\n",
              "      <td>1</td>\n",
              "    </tr>\n",
              "  </tbody>\n",
              "</table>\n",
              "</div>"
            ],
            "text/plain": [
              "   x1  x2  y\n",
              "0   0   0  0\n",
              "1   0   1  1\n",
              "2   1   0  1\n",
              "3   1   1  1"
            ]
          },
          "metadata": {
            "tags": []
          },
          "execution_count": 17
        }
      ]
    },
    {
      "cell_type": "code",
      "metadata": {
        "colab": {
          "base_uri": "https://localhost:8080/",
          "height": 175
        },
        "id": "cvElVNi1D-ds",
        "outputId": "01508bf2-6d38-4c87-f99f-0cf9509bb467"
      },
      "source": [
        "X = OR.drop(\"y\", axis=1) \n",
        "X"
      ],
      "execution_count": null,
      "outputs": [
        {
          "output_type": "execute_result",
          "data": {
            "text/html": [
              "<div>\n",
              "<style scoped>\n",
              "    .dataframe tbody tr th:only-of-type {\n",
              "        vertical-align: middle;\n",
              "    }\n",
              "\n",
              "    .dataframe tbody tr th {\n",
              "        vertical-align: top;\n",
              "    }\n",
              "\n",
              "    .dataframe thead th {\n",
              "        text-align: right;\n",
              "    }\n",
              "</style>\n",
              "<table border=\"1\" class=\"dataframe\">\n",
              "  <thead>\n",
              "    <tr style=\"text-align: right;\">\n",
              "      <th></th>\n",
              "      <th>x1</th>\n",
              "      <th>x2</th>\n",
              "    </tr>\n",
              "  </thead>\n",
              "  <tbody>\n",
              "    <tr>\n",
              "      <th>0</th>\n",
              "      <td>0</td>\n",
              "      <td>0</td>\n",
              "    </tr>\n",
              "    <tr>\n",
              "      <th>1</th>\n",
              "      <td>0</td>\n",
              "      <td>1</td>\n",
              "    </tr>\n",
              "    <tr>\n",
              "      <th>2</th>\n",
              "      <td>1</td>\n",
              "      <td>0</td>\n",
              "    </tr>\n",
              "    <tr>\n",
              "      <th>3</th>\n",
              "      <td>1</td>\n",
              "      <td>1</td>\n",
              "    </tr>\n",
              "  </tbody>\n",
              "</table>\n",
              "</div>"
            ],
            "text/plain": [
              "   x1  x2\n",
              "0   0   0\n",
              "1   0   1\n",
              "2   1   0\n",
              "3   1   1"
            ]
          },
          "metadata": {
            "tags": []
          },
          "execution_count": 18
        }
      ]
    },
    {
      "cell_type": "code",
      "metadata": {
        "colab": {
          "base_uri": "https://localhost:8080/",
          "height": 175
        },
        "id": "xtMgQ7KjEBCo",
        "outputId": "2c5c572f-30be-4673-9c08-6b50d8b0f8a1"
      },
      "source": [
        "y = OR['y']\n",
        "y.to_frame()"
      ],
      "execution_count": null,
      "outputs": [
        {
          "output_type": "execute_result",
          "data": {
            "text/html": [
              "<div>\n",
              "<style scoped>\n",
              "    .dataframe tbody tr th:only-of-type {\n",
              "        vertical-align: middle;\n",
              "    }\n",
              "\n",
              "    .dataframe tbody tr th {\n",
              "        vertical-align: top;\n",
              "    }\n",
              "\n",
              "    .dataframe thead th {\n",
              "        text-align: right;\n",
              "    }\n",
              "</style>\n",
              "<table border=\"1\" class=\"dataframe\">\n",
              "  <thead>\n",
              "    <tr style=\"text-align: right;\">\n",
              "      <th></th>\n",
              "      <th>y</th>\n",
              "    </tr>\n",
              "  </thead>\n",
              "  <tbody>\n",
              "    <tr>\n",
              "      <th>0</th>\n",
              "      <td>0</td>\n",
              "    </tr>\n",
              "    <tr>\n",
              "      <th>1</th>\n",
              "      <td>1</td>\n",
              "    </tr>\n",
              "    <tr>\n",
              "      <th>2</th>\n",
              "      <td>1</td>\n",
              "    </tr>\n",
              "    <tr>\n",
              "      <th>3</th>\n",
              "      <td>1</td>\n",
              "    </tr>\n",
              "  </tbody>\n",
              "</table>\n",
              "</div>"
            ],
            "text/plain": [
              "   y\n",
              "0  0\n",
              "1  1\n",
              "2  1\n",
              "3  1"
            ]
          },
          "metadata": {
            "tags": []
          },
          "execution_count": 19
        }
      ]
    },
    {
      "cell_type": "code",
      "metadata": {
        "colab": {
          "base_uri": "https://localhost:8080/"
        },
        "id": "Vy5kiTwuEE5Y",
        "outputId": "a32d8cc0-8a85-4ea8-9cde-c5c96e1f3b04"
      },
      "source": [
        "model = Perceptron(eta = 0.5, epochs=10)\n",
        "model.fit(X,y)"
      ],
      "execution_count": null,
      "outputs": [
        {
          "output_type": "stream",
          "text": [
            "self.weights: [ 1.62204836e-04 -2.46080236e-04  1.73057574e-05]\n",
            "X_with_bias: \n",
            "[[ 0.  0. -1.]\n",
            " [ 0.  1. -1.]\n",
            " [ 1.  0. -1.]\n",
            " [ 1.  1. -1.]]\n",
            "for epoch: 0\n",
            "predicted value: \n",
            "[0 0 1 0]\n",
            "error: \n",
            "0    0\n",
            "1    1\n",
            "2    0\n",
            "3    1\n",
            "Name: y, dtype: int64\n",
            "updated weights: \n",
            "[ 0.5001622   0.99975392 -0.99998269]\n",
            "#############\n",
            "\n",
            "for epoch: 1\n",
            "predicted value: \n",
            "[1 1 1 1]\n",
            "error: \n",
            "0   -1\n",
            "1    0\n",
            "2    0\n",
            "3    0\n",
            "Name: y, dtype: int64\n",
            "updated weights: \n",
            "[ 0.5001622   0.99975392 -0.49998269]\n",
            "#############\n",
            "\n",
            "for epoch: 2\n",
            "predicted value: \n",
            "[1 1 1 1]\n",
            "error: \n",
            "0   -1\n",
            "1    0\n",
            "2    0\n",
            "3    0\n",
            "Name: y, dtype: int64\n",
            "updated weights: \n",
            "[5.00162205e-01 9.99753920e-01 1.73057574e-05]\n",
            "#############\n",
            "\n",
            "for epoch: 3\n",
            "predicted value: \n",
            "[0 1 1 1]\n",
            "error: \n",
            "0    0\n",
            "1    0\n",
            "2    0\n",
            "3    0\n",
            "Name: y, dtype: int64\n",
            "updated weights: \n",
            "[5.00162205e-01 9.99753920e-01 1.73057574e-05]\n",
            "#############\n",
            "\n",
            "for epoch: 4\n",
            "predicted value: \n",
            "[0 1 1 1]\n",
            "error: \n",
            "0    0\n",
            "1    0\n",
            "2    0\n",
            "3    0\n",
            "Name: y, dtype: int64\n",
            "updated weights: \n",
            "[5.00162205e-01 9.99753920e-01 1.73057574e-05]\n",
            "#############\n",
            "\n",
            "for epoch: 5\n",
            "predicted value: \n",
            "[0 1 1 1]\n",
            "error: \n",
            "0    0\n",
            "1    0\n",
            "2    0\n",
            "3    0\n",
            "Name: y, dtype: int64\n",
            "updated weights: \n",
            "[5.00162205e-01 9.99753920e-01 1.73057574e-05]\n",
            "#############\n",
            "\n",
            "for epoch: 6\n",
            "predicted value: \n",
            "[0 1 1 1]\n",
            "error: \n",
            "0    0\n",
            "1    0\n",
            "2    0\n",
            "3    0\n",
            "Name: y, dtype: int64\n",
            "updated weights: \n",
            "[5.00162205e-01 9.99753920e-01 1.73057574e-05]\n",
            "#############\n",
            "\n",
            "for epoch: 7\n",
            "predicted value: \n",
            "[0 1 1 1]\n",
            "error: \n",
            "0    0\n",
            "1    0\n",
            "2    0\n",
            "3    0\n",
            "Name: y, dtype: int64\n",
            "updated weights: \n",
            "[5.00162205e-01 9.99753920e-01 1.73057574e-05]\n",
            "#############\n",
            "\n",
            "for epoch: 8\n",
            "predicted value: \n",
            "[0 1 1 1]\n",
            "error: \n",
            "0    0\n",
            "1    0\n",
            "2    0\n",
            "3    0\n",
            "Name: y, dtype: int64\n",
            "updated weights: \n",
            "[5.00162205e-01 9.99753920e-01 1.73057574e-05]\n",
            "#############\n",
            "\n",
            "for epoch: 9\n",
            "predicted value: \n",
            "[0 1 1 1]\n",
            "error: \n",
            "0    0\n",
            "1    0\n",
            "2    0\n",
            "3    0\n",
            "Name: y, dtype: int64\n",
            "updated weights: \n",
            "[5.00162205e-01 9.99753920e-01 1.73057574e-05]\n",
            "#############\n",
            "\n"
          ],
          "name": "stdout"
        }
      ]
    },
    {
      "cell_type": "markdown",
      "metadata": {
        "id": "qRH2SDGEEVsA"
      },
      "source": [
        "# XOR Operation:"
      ]
    },
    {
      "cell_type": "code",
      "metadata": {
        "colab": {
          "base_uri": "https://localhost:8080/",
          "height": 175
        },
        "id": "mEQemCJKEO4n",
        "outputId": "38fac8ce-854f-44c3-9795-f3f444aba60f"
      },
      "source": [
        "data = {\"x1\": [0,0,1,1], \"x2\": [0,1,0,1], \"y\": [0,1,1,0]}\n",
        "\n",
        "XOR = pd.DataFrame(data)\n",
        "XOR"
      ],
      "execution_count": null,
      "outputs": [
        {
          "output_type": "execute_result",
          "data": {
            "text/html": [
              "<div>\n",
              "<style scoped>\n",
              "    .dataframe tbody tr th:only-of-type {\n",
              "        vertical-align: middle;\n",
              "    }\n",
              "\n",
              "    .dataframe tbody tr th {\n",
              "        vertical-align: top;\n",
              "    }\n",
              "\n",
              "    .dataframe thead th {\n",
              "        text-align: right;\n",
              "    }\n",
              "</style>\n",
              "<table border=\"1\" class=\"dataframe\">\n",
              "  <thead>\n",
              "    <tr style=\"text-align: right;\">\n",
              "      <th></th>\n",
              "      <th>x1</th>\n",
              "      <th>x2</th>\n",
              "      <th>y</th>\n",
              "    </tr>\n",
              "  </thead>\n",
              "  <tbody>\n",
              "    <tr>\n",
              "      <th>0</th>\n",
              "      <td>0</td>\n",
              "      <td>0</td>\n",
              "      <td>0</td>\n",
              "    </tr>\n",
              "    <tr>\n",
              "      <th>1</th>\n",
              "      <td>0</td>\n",
              "      <td>1</td>\n",
              "      <td>1</td>\n",
              "    </tr>\n",
              "    <tr>\n",
              "      <th>2</th>\n",
              "      <td>1</td>\n",
              "      <td>0</td>\n",
              "      <td>1</td>\n",
              "    </tr>\n",
              "    <tr>\n",
              "      <th>3</th>\n",
              "      <td>1</td>\n",
              "      <td>1</td>\n",
              "      <td>0</td>\n",
              "    </tr>\n",
              "  </tbody>\n",
              "</table>\n",
              "</div>"
            ],
            "text/plain": [
              "   x1  x2  y\n",
              "0   0   0  0\n",
              "1   0   1  1\n",
              "2   1   0  1\n",
              "3   1   1  0"
            ]
          },
          "metadata": {
            "tags": []
          },
          "execution_count": 21
        }
      ]
    },
    {
      "cell_type": "code",
      "metadata": {
        "colab": {
          "base_uri": "https://localhost:8080/",
          "height": 175
        },
        "id": "bBpftrrTEqPX",
        "outputId": "7f5ea48a-3301-4c09-8fff-015d2a7441c6"
      },
      "source": [
        "X = XOR.drop(\"y\", axis=1) # axis = 1 >>> dropping accross column\n",
        "X"
      ],
      "execution_count": null,
      "outputs": [
        {
          "output_type": "execute_result",
          "data": {
            "text/html": [
              "<div>\n",
              "<style scoped>\n",
              "    .dataframe tbody tr th:only-of-type {\n",
              "        vertical-align: middle;\n",
              "    }\n",
              "\n",
              "    .dataframe tbody tr th {\n",
              "        vertical-align: top;\n",
              "    }\n",
              "\n",
              "    .dataframe thead th {\n",
              "        text-align: right;\n",
              "    }\n",
              "</style>\n",
              "<table border=\"1\" class=\"dataframe\">\n",
              "  <thead>\n",
              "    <tr style=\"text-align: right;\">\n",
              "      <th></th>\n",
              "      <th>x1</th>\n",
              "      <th>x2</th>\n",
              "    </tr>\n",
              "  </thead>\n",
              "  <tbody>\n",
              "    <tr>\n",
              "      <th>0</th>\n",
              "      <td>0</td>\n",
              "      <td>0</td>\n",
              "    </tr>\n",
              "    <tr>\n",
              "      <th>1</th>\n",
              "      <td>0</td>\n",
              "      <td>1</td>\n",
              "    </tr>\n",
              "    <tr>\n",
              "      <th>2</th>\n",
              "      <td>1</td>\n",
              "      <td>0</td>\n",
              "    </tr>\n",
              "    <tr>\n",
              "      <th>3</th>\n",
              "      <td>1</td>\n",
              "      <td>1</td>\n",
              "    </tr>\n",
              "  </tbody>\n",
              "</table>\n",
              "</div>"
            ],
            "text/plain": [
              "   x1  x2\n",
              "0   0   0\n",
              "1   0   1\n",
              "2   1   0\n",
              "3   1   1"
            ]
          },
          "metadata": {
            "tags": []
          },
          "execution_count": 22
        }
      ]
    },
    {
      "cell_type": "code",
      "metadata": {
        "colab": {
          "base_uri": "https://localhost:8080/",
          "height": 175
        },
        "id": "Fx-ZuwK8Evdy",
        "outputId": "bff76e49-81eb-4387-ef42-10446fac21ca"
      },
      "source": [
        "y = XOR['y']\n",
        "y.to_frame()"
      ],
      "execution_count": null,
      "outputs": [
        {
          "output_type": "execute_result",
          "data": {
            "text/html": [
              "<div>\n",
              "<style scoped>\n",
              "    .dataframe tbody tr th:only-of-type {\n",
              "        vertical-align: middle;\n",
              "    }\n",
              "\n",
              "    .dataframe tbody tr th {\n",
              "        vertical-align: top;\n",
              "    }\n",
              "\n",
              "    .dataframe thead th {\n",
              "        text-align: right;\n",
              "    }\n",
              "</style>\n",
              "<table border=\"1\" class=\"dataframe\">\n",
              "  <thead>\n",
              "    <tr style=\"text-align: right;\">\n",
              "      <th></th>\n",
              "      <th>y</th>\n",
              "    </tr>\n",
              "  </thead>\n",
              "  <tbody>\n",
              "    <tr>\n",
              "      <th>0</th>\n",
              "      <td>0</td>\n",
              "    </tr>\n",
              "    <tr>\n",
              "      <th>1</th>\n",
              "      <td>1</td>\n",
              "    </tr>\n",
              "    <tr>\n",
              "      <th>2</th>\n",
              "      <td>1</td>\n",
              "    </tr>\n",
              "    <tr>\n",
              "      <th>3</th>\n",
              "      <td>0</td>\n",
              "    </tr>\n",
              "  </tbody>\n",
              "</table>\n",
              "</div>"
            ],
            "text/plain": [
              "   y\n",
              "0  0\n",
              "1  1\n",
              "2  1\n",
              "3  0"
            ]
          },
          "metadata": {
            "tags": []
          },
          "execution_count": 23
        }
      ]
    },
    {
      "cell_type": "code",
      "metadata": {
        "colab": {
          "base_uri": "https://localhost:8080/"
        },
        "id": "sPdZOH_WE7R5",
        "outputId": "012209e3-75c2-4bbe-fcd2-8182fb90a451"
      },
      "source": [
        "model = Perceptron(eta = 0.5, epochs=50)\n",
        "model.fit(X,y)"
      ],
      "execution_count": null,
      "outputs": [
        {
          "output_type": "stream",
          "text": [
            "self.weights: [-1.52659149e-04  6.16315113e-05 -1.57338214e-04]\n",
            "X_with_bias: \n",
            "[[ 0.  0. -1.]\n",
            " [ 0.  1. -1.]\n",
            " [ 1.  0. -1.]\n",
            " [ 1.  1. -1.]]\n",
            "for epoch: 0\n",
            "predicted value: \n",
            "[1 1 1 1]\n",
            "error: \n",
            "0   -1\n",
            "1    0\n",
            "2    0\n",
            "3   -1\n",
            "Name: y, dtype: int64\n",
            "updated weights: \n",
            "[-0.50015266 -0.49993837  0.99984266]\n",
            "#############\n",
            "\n",
            "for epoch: 1\n",
            "predicted value: \n",
            "[0 0 0 0]\n",
            "error: \n",
            "0    0\n",
            "1    1\n",
            "2    1\n",
            "3    0\n",
            "Name: y, dtype: int64\n",
            "updated weights: \n",
            "[-1.52659149e-04  6.16315113e-05 -1.57338214e-04]\n",
            "#############\n",
            "\n",
            "for epoch: 2\n",
            "predicted value: \n",
            "[1 1 1 1]\n",
            "error: \n",
            "0   -1\n",
            "1    0\n",
            "2    0\n",
            "3   -1\n",
            "Name: y, dtype: int64\n",
            "updated weights: \n",
            "[-0.50015266 -0.49993837  0.99984266]\n",
            "#############\n",
            "\n",
            "for epoch: 3\n",
            "predicted value: \n",
            "[0 0 0 0]\n",
            "error: \n",
            "0    0\n",
            "1    1\n",
            "2    1\n",
            "3    0\n",
            "Name: y, dtype: int64\n",
            "updated weights: \n",
            "[-1.52659149e-04  6.16315113e-05 -1.57338214e-04]\n",
            "#############\n",
            "\n",
            "for epoch: 4\n",
            "predicted value: \n",
            "[1 1 1 1]\n",
            "error: \n",
            "0   -1\n",
            "1    0\n",
            "2    0\n",
            "3   -1\n",
            "Name: y, dtype: int64\n",
            "updated weights: \n",
            "[-0.50015266 -0.49993837  0.99984266]\n",
            "#############\n",
            "\n",
            "for epoch: 5\n",
            "predicted value: \n",
            "[0 0 0 0]\n",
            "error: \n",
            "0    0\n",
            "1    1\n",
            "2    1\n",
            "3    0\n",
            "Name: y, dtype: int64\n",
            "updated weights: \n",
            "[-1.52659149e-04  6.16315113e-05 -1.57338214e-04]\n",
            "#############\n",
            "\n",
            "for epoch: 6\n",
            "predicted value: \n",
            "[1 1 1 1]\n",
            "error: \n",
            "0   -1\n",
            "1    0\n",
            "2    0\n",
            "3   -1\n",
            "Name: y, dtype: int64\n",
            "updated weights: \n",
            "[-0.50015266 -0.49993837  0.99984266]\n",
            "#############\n",
            "\n",
            "for epoch: 7\n",
            "predicted value: \n",
            "[0 0 0 0]\n",
            "error: \n",
            "0    0\n",
            "1    1\n",
            "2    1\n",
            "3    0\n",
            "Name: y, dtype: int64\n",
            "updated weights: \n",
            "[-1.52659149e-04  6.16315113e-05 -1.57338214e-04]\n",
            "#############\n",
            "\n",
            "for epoch: 8\n",
            "predicted value: \n",
            "[1 1 1 1]\n",
            "error: \n",
            "0   -1\n",
            "1    0\n",
            "2    0\n",
            "3   -1\n",
            "Name: y, dtype: int64\n",
            "updated weights: \n",
            "[-0.50015266 -0.49993837  0.99984266]\n",
            "#############\n",
            "\n",
            "for epoch: 9\n",
            "predicted value: \n",
            "[0 0 0 0]\n",
            "error: \n",
            "0    0\n",
            "1    1\n",
            "2    1\n",
            "3    0\n",
            "Name: y, dtype: int64\n",
            "updated weights: \n",
            "[-1.52659149e-04  6.16315113e-05 -1.57338214e-04]\n",
            "#############\n",
            "\n",
            "for epoch: 10\n",
            "predicted value: \n",
            "[1 1 1 1]\n",
            "error: \n",
            "0   -1\n",
            "1    0\n",
            "2    0\n",
            "3   -1\n",
            "Name: y, dtype: int64\n",
            "updated weights: \n",
            "[-0.50015266 -0.49993837  0.99984266]\n",
            "#############\n",
            "\n",
            "for epoch: 11\n",
            "predicted value: \n",
            "[0 0 0 0]\n",
            "error: \n",
            "0    0\n",
            "1    1\n",
            "2    1\n",
            "3    0\n",
            "Name: y, dtype: int64\n",
            "updated weights: \n",
            "[-1.52659149e-04  6.16315113e-05 -1.57338214e-04]\n",
            "#############\n",
            "\n",
            "for epoch: 12\n",
            "predicted value: \n",
            "[1 1 1 1]\n",
            "error: \n",
            "0   -1\n",
            "1    0\n",
            "2    0\n",
            "3   -1\n",
            "Name: y, dtype: int64\n",
            "updated weights: \n",
            "[-0.50015266 -0.49993837  0.99984266]\n",
            "#############\n",
            "\n",
            "for epoch: 13\n",
            "predicted value: \n",
            "[0 0 0 0]\n",
            "error: \n",
            "0    0\n",
            "1    1\n",
            "2    1\n",
            "3    0\n",
            "Name: y, dtype: int64\n",
            "updated weights: \n",
            "[-1.52659149e-04  6.16315113e-05 -1.57338214e-04]\n",
            "#############\n",
            "\n",
            "for epoch: 14\n",
            "predicted value: \n",
            "[1 1 1 1]\n",
            "error: \n",
            "0   -1\n",
            "1    0\n",
            "2    0\n",
            "3   -1\n",
            "Name: y, dtype: int64\n",
            "updated weights: \n",
            "[-0.50015266 -0.49993837  0.99984266]\n",
            "#############\n",
            "\n",
            "for epoch: 15\n",
            "predicted value: \n",
            "[0 0 0 0]\n",
            "error: \n",
            "0    0\n",
            "1    1\n",
            "2    1\n",
            "3    0\n",
            "Name: y, dtype: int64\n",
            "updated weights: \n",
            "[-1.52659149e-04  6.16315113e-05 -1.57338214e-04]\n",
            "#############\n",
            "\n",
            "for epoch: 16\n",
            "predicted value: \n",
            "[1 1 1 1]\n",
            "error: \n",
            "0   -1\n",
            "1    0\n",
            "2    0\n",
            "3   -1\n",
            "Name: y, dtype: int64\n",
            "updated weights: \n",
            "[-0.50015266 -0.49993837  0.99984266]\n",
            "#############\n",
            "\n",
            "for epoch: 17\n",
            "predicted value: \n",
            "[0 0 0 0]\n",
            "error: \n",
            "0    0\n",
            "1    1\n",
            "2    1\n",
            "3    0\n",
            "Name: y, dtype: int64\n",
            "updated weights: \n",
            "[-1.52659149e-04  6.16315113e-05 -1.57338214e-04]\n",
            "#############\n",
            "\n",
            "for epoch: 18\n",
            "predicted value: \n",
            "[1 1 1 1]\n",
            "error: \n",
            "0   -1\n",
            "1    0\n",
            "2    0\n",
            "3   -1\n",
            "Name: y, dtype: int64\n",
            "updated weights: \n",
            "[-0.50015266 -0.49993837  0.99984266]\n",
            "#############\n",
            "\n",
            "for epoch: 19\n",
            "predicted value: \n",
            "[0 0 0 0]\n",
            "error: \n",
            "0    0\n",
            "1    1\n",
            "2    1\n",
            "3    0\n",
            "Name: y, dtype: int64\n",
            "updated weights: \n",
            "[-1.52659149e-04  6.16315113e-05 -1.57338214e-04]\n",
            "#############\n",
            "\n",
            "for epoch: 20\n",
            "predicted value: \n",
            "[1 1 1 1]\n",
            "error: \n",
            "0   -1\n",
            "1    0\n",
            "2    0\n",
            "3   -1\n",
            "Name: y, dtype: int64\n",
            "updated weights: \n",
            "[-0.50015266 -0.49993837  0.99984266]\n",
            "#############\n",
            "\n",
            "for epoch: 21\n",
            "predicted value: \n",
            "[0 0 0 0]\n",
            "error: \n",
            "0    0\n",
            "1    1\n",
            "2    1\n",
            "3    0\n",
            "Name: y, dtype: int64\n",
            "updated weights: \n",
            "[-1.52659149e-04  6.16315113e-05 -1.57338214e-04]\n",
            "#############\n",
            "\n",
            "for epoch: 22\n",
            "predicted value: \n",
            "[1 1 1 1]\n",
            "error: \n",
            "0   -1\n",
            "1    0\n",
            "2    0\n",
            "3   -1\n",
            "Name: y, dtype: int64\n",
            "updated weights: \n",
            "[-0.50015266 -0.49993837  0.99984266]\n",
            "#############\n",
            "\n",
            "for epoch: 23\n",
            "predicted value: \n",
            "[0 0 0 0]\n",
            "error: \n",
            "0    0\n",
            "1    1\n",
            "2    1\n",
            "3    0\n",
            "Name: y, dtype: int64\n",
            "updated weights: \n",
            "[-1.52659149e-04  6.16315113e-05 -1.57338214e-04]\n",
            "#############\n",
            "\n",
            "for epoch: 24\n",
            "predicted value: \n",
            "[1 1 1 1]\n",
            "error: \n",
            "0   -1\n",
            "1    0\n",
            "2    0\n",
            "3   -1\n",
            "Name: y, dtype: int64\n",
            "updated weights: \n",
            "[-0.50015266 -0.49993837  0.99984266]\n",
            "#############\n",
            "\n",
            "for epoch: 25\n",
            "predicted value: \n",
            "[0 0 0 0]\n",
            "error: \n",
            "0    0\n",
            "1    1\n",
            "2    1\n",
            "3    0\n",
            "Name: y, dtype: int64\n",
            "updated weights: \n",
            "[-1.52659149e-04  6.16315113e-05 -1.57338214e-04]\n",
            "#############\n",
            "\n",
            "for epoch: 26\n",
            "predicted value: \n",
            "[1 1 1 1]\n",
            "error: \n",
            "0   -1\n",
            "1    0\n",
            "2    0\n",
            "3   -1\n",
            "Name: y, dtype: int64\n",
            "updated weights: \n",
            "[-0.50015266 -0.49993837  0.99984266]\n",
            "#############\n",
            "\n",
            "for epoch: 27\n",
            "predicted value: \n",
            "[0 0 0 0]\n",
            "error: \n",
            "0    0\n",
            "1    1\n",
            "2    1\n",
            "3    0\n",
            "Name: y, dtype: int64\n",
            "updated weights: \n",
            "[-1.52659149e-04  6.16315113e-05 -1.57338214e-04]\n",
            "#############\n",
            "\n",
            "for epoch: 28\n",
            "predicted value: \n",
            "[1 1 1 1]\n",
            "error: \n",
            "0   -1\n",
            "1    0\n",
            "2    0\n",
            "3   -1\n",
            "Name: y, dtype: int64\n",
            "updated weights: \n",
            "[-0.50015266 -0.49993837  0.99984266]\n",
            "#############\n",
            "\n",
            "for epoch: 29\n",
            "predicted value: \n",
            "[0 0 0 0]\n",
            "error: \n",
            "0    0\n",
            "1    1\n",
            "2    1\n",
            "3    0\n",
            "Name: y, dtype: int64\n",
            "updated weights: \n",
            "[-1.52659149e-04  6.16315113e-05 -1.57338214e-04]\n",
            "#############\n",
            "\n",
            "for epoch: 30\n",
            "predicted value: \n",
            "[1 1 1 1]\n",
            "error: \n",
            "0   -1\n",
            "1    0\n",
            "2    0\n",
            "3   -1\n",
            "Name: y, dtype: int64\n",
            "updated weights: \n",
            "[-0.50015266 -0.49993837  0.99984266]\n",
            "#############\n",
            "\n",
            "for epoch: 31\n",
            "predicted value: \n",
            "[0 0 0 0]\n",
            "error: \n",
            "0    0\n",
            "1    1\n",
            "2    1\n",
            "3    0\n",
            "Name: y, dtype: int64\n",
            "updated weights: \n",
            "[-1.52659149e-04  6.16315113e-05 -1.57338214e-04]\n",
            "#############\n",
            "\n",
            "for epoch: 32\n",
            "predicted value: \n",
            "[1 1 1 1]\n",
            "error: \n",
            "0   -1\n",
            "1    0\n",
            "2    0\n",
            "3   -1\n",
            "Name: y, dtype: int64\n",
            "updated weights: \n",
            "[-0.50015266 -0.49993837  0.99984266]\n",
            "#############\n",
            "\n",
            "for epoch: 33\n",
            "predicted value: \n",
            "[0 0 0 0]\n",
            "error: \n",
            "0    0\n",
            "1    1\n",
            "2    1\n",
            "3    0\n",
            "Name: y, dtype: int64\n",
            "updated weights: \n",
            "[-1.52659149e-04  6.16315113e-05 -1.57338214e-04]\n",
            "#############\n",
            "\n",
            "for epoch: 34\n",
            "predicted value: \n",
            "[1 1 1 1]\n",
            "error: \n",
            "0   -1\n",
            "1    0\n",
            "2    0\n",
            "3   -1\n",
            "Name: y, dtype: int64\n",
            "updated weights: \n",
            "[-0.50015266 -0.49993837  0.99984266]\n",
            "#############\n",
            "\n",
            "for epoch: 35\n",
            "predicted value: \n",
            "[0 0 0 0]\n",
            "error: \n",
            "0    0\n",
            "1    1\n",
            "2    1\n",
            "3    0\n",
            "Name: y, dtype: int64\n",
            "updated weights: \n",
            "[-1.52659149e-04  6.16315113e-05 -1.57338214e-04]\n",
            "#############\n",
            "\n",
            "for epoch: 36\n",
            "predicted value: \n",
            "[1 1 1 1]\n",
            "error: \n",
            "0   -1\n",
            "1    0\n",
            "2    0\n",
            "3   -1\n",
            "Name: y, dtype: int64\n",
            "updated weights: \n",
            "[-0.50015266 -0.49993837  0.99984266]\n",
            "#############\n",
            "\n",
            "for epoch: 37\n",
            "predicted value: \n",
            "[0 0 0 0]\n",
            "error: \n",
            "0    0\n",
            "1    1\n",
            "2    1\n",
            "3    0\n",
            "Name: y, dtype: int64\n",
            "updated weights: \n",
            "[-1.52659149e-04  6.16315113e-05 -1.57338214e-04]\n",
            "#############\n",
            "\n",
            "for epoch: 38\n",
            "predicted value: \n",
            "[1 1 1 1]\n",
            "error: \n",
            "0   -1\n",
            "1    0\n",
            "2    0\n",
            "3   -1\n",
            "Name: y, dtype: int64\n",
            "updated weights: \n",
            "[-0.50015266 -0.49993837  0.99984266]\n",
            "#############\n",
            "\n",
            "for epoch: 39\n",
            "predicted value: \n",
            "[0 0 0 0]\n",
            "error: \n",
            "0    0\n",
            "1    1\n",
            "2    1\n",
            "3    0\n",
            "Name: y, dtype: int64\n",
            "updated weights: \n",
            "[-1.52659149e-04  6.16315113e-05 -1.57338214e-04]\n",
            "#############\n",
            "\n",
            "for epoch: 40\n",
            "predicted value: \n",
            "[1 1 1 1]\n",
            "error: \n",
            "0   -1\n",
            "1    0\n",
            "2    0\n",
            "3   -1\n",
            "Name: y, dtype: int64\n",
            "updated weights: \n",
            "[-0.50015266 -0.49993837  0.99984266]\n",
            "#############\n",
            "\n",
            "for epoch: 41\n",
            "predicted value: \n",
            "[0 0 0 0]\n",
            "error: \n",
            "0    0\n",
            "1    1\n",
            "2    1\n",
            "3    0\n",
            "Name: y, dtype: int64\n",
            "updated weights: \n",
            "[-1.52659149e-04  6.16315113e-05 -1.57338214e-04]\n",
            "#############\n",
            "\n",
            "for epoch: 42\n",
            "predicted value: \n",
            "[1 1 1 1]\n",
            "error: \n",
            "0   -1\n",
            "1    0\n",
            "2    0\n",
            "3   -1\n",
            "Name: y, dtype: int64\n",
            "updated weights: \n",
            "[-0.50015266 -0.49993837  0.99984266]\n",
            "#############\n",
            "\n",
            "for epoch: 43\n",
            "predicted value: \n",
            "[0 0 0 0]\n",
            "error: \n",
            "0    0\n",
            "1    1\n",
            "2    1\n",
            "3    0\n",
            "Name: y, dtype: int64\n",
            "updated weights: \n",
            "[-1.52659149e-04  6.16315113e-05 -1.57338214e-04]\n",
            "#############\n",
            "\n",
            "for epoch: 44\n",
            "predicted value: \n",
            "[1 1 1 1]\n",
            "error: \n",
            "0   -1\n",
            "1    0\n",
            "2    0\n",
            "3   -1\n",
            "Name: y, dtype: int64\n",
            "updated weights: \n",
            "[-0.50015266 -0.49993837  0.99984266]\n",
            "#############\n",
            "\n",
            "for epoch: 45\n",
            "predicted value: \n",
            "[0 0 0 0]\n",
            "error: \n",
            "0    0\n",
            "1    1\n",
            "2    1\n",
            "3    0\n",
            "Name: y, dtype: int64\n",
            "updated weights: \n",
            "[-1.52659149e-04  6.16315113e-05 -1.57338214e-04]\n",
            "#############\n",
            "\n",
            "for epoch: 46\n",
            "predicted value: \n",
            "[1 1 1 1]\n",
            "error: \n",
            "0   -1\n",
            "1    0\n",
            "2    0\n",
            "3   -1\n",
            "Name: y, dtype: int64\n",
            "updated weights: \n",
            "[-0.50015266 -0.49993837  0.99984266]\n",
            "#############\n",
            "\n",
            "for epoch: 47\n",
            "predicted value: \n",
            "[0 0 0 0]\n",
            "error: \n",
            "0    0\n",
            "1    1\n",
            "2    1\n",
            "3    0\n",
            "Name: y, dtype: int64\n",
            "updated weights: \n",
            "[-1.52659149e-04  6.16315113e-05 -1.57338214e-04]\n",
            "#############\n",
            "\n",
            "for epoch: 48\n",
            "predicted value: \n",
            "[1 1 1 1]\n",
            "error: \n",
            "0   -1\n",
            "1    0\n",
            "2    0\n",
            "3   -1\n",
            "Name: y, dtype: int64\n",
            "updated weights: \n",
            "[-0.50015266 -0.49993837  0.99984266]\n",
            "#############\n",
            "\n",
            "for epoch: 49\n",
            "predicted value: \n",
            "[0 0 0 0]\n",
            "error: \n",
            "0    0\n",
            "1    1\n",
            "2    1\n",
            "3    0\n",
            "Name: y, dtype: int64\n",
            "updated weights: \n",
            "[-1.52659149e-04  6.16315113e-05 -1.57338214e-04]\n",
            "#############\n",
            "\n"
          ],
          "name": "stdout"
        }
      ]
    },
    {
      "cell_type": "code",
      "metadata": {
        "colab": {
          "base_uri": "https://localhost:8080/"
        },
        "id": "IvKC2DRWE_0O",
        "outputId": "dde8fcce-6dae-4945-c1c7-5df5f14c49fb"
      },
      "source": [
        "model.predict(X)"
      ],
      "execution_count": null,
      "outputs": [
        {
          "output_type": "execute_result",
          "data": {
            "text/plain": [
              "array([1, 1, 1, 1])"
            ]
          },
          "metadata": {
            "tags": []
          },
          "execution_count": 25
        }
      ]
    },
    {
      "cell_type": "markdown",
      "metadata": {
        "id": "fTzXn2apFJAO"
      },
      "source": [
        "# Conclution:\n",
        "Here we can see Perceptron can only classify the linear problem like AND, OR operation because they were linear problem. But in the case of XOR it couldn't classify correctly because it was a non-linear problem. Lets see graphically."
      ]
    },
    {
      "cell_type": "markdown",
      "metadata": {
        "id": "LlnGKFkVGLqf"
      },
      "source": [
        "## Analysis with the graph"
      ]
    },
    {
      "cell_type": "markdown",
      "metadata": {
        "id": "n0ktsKXaGRhl"
      },
      "source": [
        "## AND GATE"
      ]
    },
    {
      "cell_type": "code",
      "metadata": {
        "colab": {
          "base_uri": "https://localhost:8080/",
          "height": 327
        },
        "id": "CxuDjQbaFEL3",
        "outputId": "a4cbf409-519e-4ddb-ab2a-35ec8e0f5e94"
      },
      "source": [
        "AND.plot(kind=\"scatter\", x=\"x1\", y=\"x2\", c=\"y\", s=50, cmap=\"winter\")\n",
        "plt.axhline(y=0, color=\"black\", linestyle=\"--\", linewidth=2)\n",
        "plt.axvline(x=0, color=\"black\", linestyle=\"--\", linewidth=2)\n",
        "\n",
        "x = np.linspace(0, 1.4) # >>> 50 \n",
        "y = 1.5 - 1*np.linspace(0, 1.4) # >>> 50 \n",
        "\n",
        "plt.plot(x, y, \"r--\")"
      ],
      "execution_count": null,
      "outputs": [
        {
          "output_type": "execute_result",
          "data": {
            "text/plain": [
              "[<matplotlib.lines.Line2D at 0x7f4cec79ae50>]"
            ]
          },
          "metadata": {
            "tags": []
          },
          "execution_count": 26
        },
        {
          "output_type": "display_data",
          "data": {
            "image/png": "[encoded data removed]",
            "text/plain": [
              "<Figure size 432x288 with 2 Axes>"
            ]
          },
          "metadata": {
            "tags": []
          }
        }
      ]
    },
    {
      "cell_type": "markdown",
      "metadata": {
        "id": "VlQsjPjoGshO"
      },
      "source": [
        "# OR GATE"
      ]
    },
    {
      "cell_type": "code",
      "metadata": {
        "colab": {
          "base_uri": "https://localhost:8080/",
          "height": 309
        },
        "id": "xn4kWDKxGkK_",
        "outputId": "32666738-1b12-414a-d18a-70a614a6a5db"
      },
      "source": [
        "OR.plot(kind=\"scatter\", x=\"x1\", y=\"x2\", c=\"y\", s=50, cmap=\"winter\")\n",
        "plt.axhline(y = 0, color =\"black\", linestyle =\"--\", linewidth=2)\n",
        "plt.axvline(x = 0, color =\"black\", linestyle =\"--\", linewidth=2)\n",
        "plt.plot(np.linspace(0,0.75), 0.75 - 1*np.linspace(0,0.75), 'r--');"
      ],
      "execution_count": null,
      "outputs": [
        {
          "output_type": "display_data",
          "data": {
            "image/png": "[encoded data removed]",
            "text/plain": [
              "<Figure size 432x288 with 2 Axes>"
            ]
          },
          "metadata": {
            "tags": []
          }
        }
      ]
    },
    {
      "cell_type": "markdown",
      "metadata": {
        "id": "vSCSvyUDGz_l"
      },
      "source": [
        "# XOR GATE"
      ]
    },
    {
      "cell_type": "code",
      "metadata": {
        "colab": {
          "base_uri": "https://localhost:8080/",
          "height": 327
        },
        "id": "ZXiJscyPGwgH",
        "outputId": "3ae19e94-7e23-4445-ca5e-b53af76ddebd"
      },
      "source": [
        "XOR.plot(kind=\"scatter\", x=\"x1\", y=\"x2\", c=\"y\", s=500, cmap=\"winter\")"
      ],
      "execution_count": null,
      "outputs": [
        {
          "output_type": "execute_result",
          "data": {
            "text/plain": [
              "<matplotlib.axes._subplots.AxesSubplot at 0x7f4cec97aa10>"
            ]
          },
          "metadata": {
            "tags": []
          },
          "execution_count": 28
        },
        {
          "output_type": "display_data",
          "data": {
            "image/png": "[encoded data removed]",
            "text/plain": [
              "<Figure size 432x288 with 2 Axes>"
            ]
          },
          "metadata": {
            "tags": []
          }
        }
      ]
    },
    {
      "cell_type": "code",
      "metadata": {
        "id": "MLCoPLRyG57x"
      },
      "source": [],
      "execution_count": null,
      "outputs": []
    }
  ]
}