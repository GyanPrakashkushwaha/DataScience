{
  "cells": [
    {
      "attachments": {},
      "cell_type": "markdown",
      "metadata": {
        "id": "EDKUJmE9FZ3e"
      },
      "source": [
        "# Observe results before and after applying Transfer Learning.\n",
        "\n",
        "Transfer learning is a research problem in machine learning & deep learning that focuses on storing knowledge gained while solving one problem and applying it to a different but related problem. For example, knowledge gained while learning to recognize cars could apply when trying to recognize trucks.So, in transfer learning your previous learning helps you to understand the new concept or learning. In transfer learning we use pre-trained model & we make some modification on that to make a new model.\n",
        "\n",
        "So, here we will create a hand writing classifier by MNIST data then we will modify this model to predict a given number is odd or even by the help of transfer learning. Then we will compare them not using transfer learning.\n"
      ]
    },
    {
      "attachments": {},
      "cell_type": "markdown",
      "metadata": {
        "id": "58hizcaNFuiO"
      },
      "source": [
        "# Now first creating a Model which can classify MNIST handwriting:"
      ]
    },
    {
      "cell_type": "code",
      "execution_count": null,
      "metadata": {
        "colab": {
          "base_uri": "https://localhost:8080/"
        },
        "id": "AuWkhnCBHwVb",
        "outputId": "490dee88-d89a-42b0-93c1-3acfbdc5376b"
      },
      "outputs": [
        {
          "name": "stdout",
          "output_type": "stream",
          "text": [
            "The tensorboard extension is already loaded. To reload it, use:\n",
            "  %reload_ext tensorboard\n"
          ]
        }
      ],
      "source": [
        "# Importing necessary libraries\n",
        "import os\n",
        "import tensorflow as tf\n",
        "import numpy as np\n",
        "import matplotlib.pyplot as plt\n",
        "import seaborn as sns\n",
        "import time\n",
        "plt.style.use(\"fivethirtyeight\")\n",
        "%load_ext tensorboard"
      ]
    },
    {
      "cell_type": "code",
      "execution_count": null,
      "metadata": {
        "id": "BVGQ8k1eH1Lr"
      },
      "outputs": [],
      "source": [
        "# Loading the data of MNIST handwritten\n",
        "(X_train_full, y_train_full), (X_test, y_test) = tf.keras.datasets.mnist.load_data()\n",
        "X_train_full = X_train_full / 255.0\n",
        "X_test = X_test / 255.0\n",
        "X_valid, X_train = X_train_full[:5000], X_train_full[5000:]\n",
        "y_valid, y_train = y_train_full[:5000], y_train_full[5000:]"
      ]
    },
    {
      "cell_type": "code",
      "execution_count": null,
      "metadata": {
        "id": "KuvvPZvnH6xM"
      },
      "outputs": [],
      "source": [
        "# Creating layer of model\n",
        "tf.random.set_seed(42)  #For getting similar output (optional)\n",
        "np.random.seed(42)  #For getting similar output (optional)\n",
        "\n",
        "LAYERS = [ tf.keras.layers.Flatten(input_shape=[28, 28]),\n",
        "    tf.keras.layers.Dense(300, kernel_initializer=\"he_normal\"),\n",
        "    tf.keras.layers.LeakyReLU(),\n",
        "    tf.keras.layers.Dense(100, kernel_initializer=\"he_normal\"),\n",
        "    tf.keras.layers.LeakyReLU(),\n",
        "    tf.keras.layers.Dense(10, activation=\"softmax\")]\n",
        "\n",
        "\n",
        "model = tf.keras.models.Sequential(LAYERS)"
      ]
    },
    {
      "cell_type": "code",
      "execution_count": null,
      "metadata": {
        "id": "ZH0pj2szICdn"
      },
      "outputs": [],
      "source": [
        "# Compiling the model\n",
        "model.compile(loss=\"sparse_categorical_crossentropy\",\n",
        "              optimizer=tf.keras.optimizers.SGD(learning_rate=1e-3),\n",
        "              metrics=[\"accuracy\"])"
      ]
    },
    {
      "cell_type": "code",
      "execution_count": null,
      "metadata": {
        "colab": {
          "base_uri": "https://localhost:8080/"
        },
        "id": "GUqaISXyIGR6",
        "outputId": "849bb778-f20d-4fd3-abb9-bbef4540fd96"
      },
      "outputs": [
        {
          "name": "stdout",
          "output_type": "stream",
          "text": [
            "Model: \"sequential_3\"\n",
            "_________________________________________________________________\n",
            "Layer (type)                 Output Shape              Param #   \n",
            "=================================================================\n",
            "flatten_2 (Flatten)          (None, 784)               0         \n",
            "_________________________________________________________________\n",
            "dense_7 (Dense)              (None, 300)               235500    \n",
            "_________________________________________________________________\n",
            "leaky_re_lu_4 (LeakyReLU)    (None, 300)               0         \n",
            "_________________________________________________________________\n",
            "dense_8 (Dense)              (None, 100)               30100     \n",
            "_________________________________________________________________\n",
            "leaky_re_lu_5 (LeakyReLU)    (None, 100)               0         \n",
            "_________________________________________________________________\n",
            "dense_9 (Dense)              (None, 10)                1010      \n",
            "=================================================================\n",
            "Total params: 266,610\n",
            "Trainable params: 266,610\n",
            "Non-trainable params: 0\n",
            "_________________________________________________________________\n"
          ]
        }
      ],
      "source": [
        "model.summary()"
      ]
    },
    {
      "cell_type": "code",
      "execution_count": null,
      "metadata": {
        "colab": {
          "base_uri": "https://localhost:8080/"
        },
        "id": "AbtPHy74ILi_",
        "outputId": "7d6b6edc-a01d-440d-857d-c97ea03afcdd"
      },
      "outputs": [
        {
          "name": "stdout",
          "output_type": "stream",
          "text": [
            "Epoch 1/10\n",
            "1719/1719 - 3s - loss: 1.5275 - accuracy: 0.5970 - val_loss: 0.9444 - val_accuracy: 0.7980\n",
            "Epoch 2/10\n",
            "1719/1719 - 3s - loss: 0.7465 - accuracy: 0.8287 - val_loss: 0.5868 - val_accuracy: 0.8596\n",
            "Epoch 3/10\n",
            "1719/1719 - 3s - loss: 0.5412 - accuracy: 0.8624 - val_loss: 0.4685 - val_accuracy: 0.8834\n",
            "Epoch 4/10\n",
            "1719/1719 - 3s - loss: 0.4591 - accuracy: 0.8771 - val_loss: 0.4104 - val_accuracy: 0.8940\n",
            "Epoch 5/10\n",
            "1719/1719 - 3s - loss: 0.4142 - accuracy: 0.8869 - val_loss: 0.3758 - val_accuracy: 0.9006\n",
            "Epoch 6/10\n",
            "1719/1719 - 3s - loss: 0.3852 - accuracy: 0.8938 - val_loss: 0.3525 - val_accuracy: 0.9052\n",
            "Epoch 7/10\n",
            "1719/1719 - 3s - loss: 0.3644 - accuracy: 0.8980 - val_loss: 0.3348 - val_accuracy: 0.9102\n",
            "Epoch 8/10\n",
            "1719/1719 - 3s - loss: 0.3485 - accuracy: 0.9021 - val_loss: 0.3209 - val_accuracy: 0.9138\n",
            "Epoch 9/10\n",
            "1719/1719 - 3s - loss: 0.3356 - accuracy: 0.9053 - val_loss: 0.3111 - val_accuracy: 0.9152\n",
            "Epoch 10/10\n",
            "1719/1719 - 3s - loss: 0.3251 - accuracy: 0.9077 - val_loss: 0.3016 - val_accuracy: 0.9170\n"
          ]
        }
      ],
      "source": [
        "# Lets train the model\n",
        "history = model.fit(X_train, y_train, epochs=10,\n",
        "                    validation_data=(X_valid, y_valid), verbose=2)"
      ]
    },
    {
      "cell_type": "code",
      "execution_count": null,
      "metadata": {
        "id": "GuyAC1_PIP_1"
      },
      "outputs": [],
      "source": [
        "# Saving the model\n",
        "model.save(\"pretrained_mnist_model.h5\")"
      ]
    },
    {
      "cell_type": "markdown",
      "metadata": {
        "id": "tKuYBy26Iy0L"
      },
      "source": [
        "# Now Lets create a model which can  predict a given number is odd or even without having Transfer learning technique."
      ]
    },
    {
      "cell_type": "code",
      "execution_count": null,
      "metadata": {
        "id": "AkU0whkoIjv7"
      },
      "outputs": [],
      "source": [
        "# Making the label as an even or odd category from numbers where even is 1 and odd is 0\n",
        "\n",
        "def update_even_odd_labels(labels):\n",
        "  for idx, label in enumerate(labels):\n",
        "    labels[idx] = np.where(label % 2 == 0, 1, 0)\n",
        "  return labels"
      ]
    },
    {
      "cell_type": "code",
      "execution_count": null,
      "metadata": {
        "id": "l7shWWsyJtWG"
      },
      "outputs": [],
      "source": [
        "y_train_bin, y_test_bin, y_valid_bin = update_even_odd_labels([y_train, y_test, y_valid])"
      ]
    },
    {
      "cell_type": "code",
      "execution_count": null,
      "metadata": {
        "id": "4BZ2SV1fJyxy"
      },
      "outputs": [],
      "source": [
        "# Creating layer of model\n",
        "tf.random.set_seed(42)  #For getting similar output (optional)\n",
        "np.random.seed(42)  #For getting similar output (optional)\n",
        "\n",
        "LAYERS = [ tf.keras.layers.Flatten(input_shape=[28, 28]),\n",
        "    tf.keras.layers.Dense(300, kernel_initializer=\"he_normal\"),\n",
        "    tf.keras.layers.LeakyReLU(),\n",
        "    tf.keras.layers.Dense(100, kernel_initializer=\"he_normal\"),\n",
        "    tf.keras.layers.LeakyReLU(),\n",
        "    tf.keras.layers.Dense(2, activation=\"softmax\")]  # Here I have just used 2 output layers cz, our output would be 0 or 1\n",
        "\n",
        "\n",
        "model_1 = tf.keras.models.Sequential(LAYERS)"
      ]
    },
    {
      "cell_type": "code",
      "execution_count": null,
      "metadata": {
        "colab": {
          "base_uri": "https://localhost:8080/"
        },
        "id": "9li_zgEgKd3z",
        "outputId": "88a1f87e-4f43-42b5-fb88-8e0e86d8a3e6"
      },
      "outputs": [
        {
          "name": "stdout",
          "output_type": "stream",
          "text": [
            "Model: \"sequential_4\"\n",
            "_________________________________________________________________\n",
            "Layer (type)                 Output Shape              Param #   \n",
            "=================================================================\n",
            "flatten_3 (Flatten)          (None, 784)               0         \n",
            "_________________________________________________________________\n",
            "dense_10 (Dense)             (None, 300)               235500    \n",
            "_________________________________________________________________\n",
            "leaky_re_lu_6 (LeakyReLU)    (None, 300)               0         \n",
            "_________________________________________________________________\n",
            "dense_11 (Dense)             (None, 100)               30100     \n",
            "_________________________________________________________________\n",
            "leaky_re_lu_7 (LeakyReLU)    (None, 100)               0         \n",
            "_________________________________________________________________\n",
            "dense_12 (Dense)             (None, 2)                 202       \n",
            "=================================================================\n",
            "Total params: 265,802\n",
            "Trainable params: 265,802\n",
            "Non-trainable params: 0\n",
            "_________________________________________________________________\n"
          ]
        }
      ],
      "source": [
        "model_1.summary()"
      ]
    },
    {
      "cell_type": "code",
      "execution_count": null,
      "metadata": {
        "colab": {
          "base_uri": "https://localhost:8080/"
        },
        "id": "4Ugj6Lf0KkXx",
        "outputId": "70fe64e6-ceef-4d1d-cc30-e06d977f1165"
      },
      "outputs": [
        {
          "name": "stderr",
          "output_type": "stream",
          "text": [
            "/usr/local/lib/python3.7/dist-packages/tensorflow/python/keras/optimizer_v2/optimizer_v2.py:375: UserWarning: The `lr` argument is deprecated, use `learning_rate` instead.\n",
            "  \"The `lr` argument is deprecated, use `learning_rate` instead.\")\n"
          ]
        }
      ],
      "source": [
        "# Compiling new model\n",
        "model_1.compile(loss=\"sparse_categorical_crossentropy\",\n",
        "              optimizer=tf.keras.optimizers.SGD(lr=1e-3),\n",
        "              metrics=[\"accuracy\"])"
      ]
    },
    {
      "cell_type": "code",
      "execution_count": null,
      "metadata": {
        "colab": {
          "base_uri": "https://localhost:8080/"
        },
        "id": "bF8aLsfsK8w6",
        "outputId": "f1197a99-7049-4c67-d6b1-4a5d2e28e5fc"
      },
      "outputs": [
        {
          "name": "stdout",
          "output_type": "stream",
          "text": [
            "Epoch 1/10\n",
            "1719/1719 - 3s - loss: 0.4357 - accuracy: 0.8088 - val_loss: 0.3279 - val_accuracy: 0.8664\n",
            "Epoch 2/10\n",
            "1719/1719 - 3s - loss: 0.3124 - accuracy: 0.8699 - val_loss: 0.2763 - val_accuracy: 0.8900\n",
            "Epoch 3/10\n",
            "1719/1719 - 3s - loss: 0.2767 - accuracy: 0.8885 - val_loss: 0.2474 - val_accuracy: 0.9046\n",
            "Epoch 4/10\n",
            "1719/1719 - 3s - loss: 0.2530 - accuracy: 0.9005 - val_loss: 0.2262 - val_accuracy: 0.9160\n",
            "Epoch 5/10\n",
            "1719/1719 - 3s - loss: 0.2333 - accuracy: 0.9101 - val_loss: 0.2083 - val_accuracy: 0.9228\n",
            "Epoch 6/10\n",
            "1719/1719 - 3s - loss: 0.2167 - accuracy: 0.9183 - val_loss: 0.1927 - val_accuracy: 0.9300\n",
            "Epoch 7/10\n",
            "1719/1719 - 3s - loss: 0.2018 - accuracy: 0.9252 - val_loss: 0.1795 - val_accuracy: 0.9364\n",
            "Epoch 8/10\n",
            "1719/1719 - 3s - loss: 0.1888 - accuracy: 0.9319 - val_loss: 0.1676 - val_accuracy: 0.9434\n",
            "Epoch 9/10\n",
            "1719/1719 - 3s - loss: 0.1774 - accuracy: 0.9375 - val_loss: 0.1581 - val_accuracy: 0.9458\n",
            "Epoch 10/10\n",
            "1719/1719 - 3s - loss: 0.1675 - accuracy: 0.9409 - val_loss: 0.1494 - val_accuracy: 0.9506\n",
            "Runtime of the program is 41.243441104888916\n"
          ]
        }
      ],
      "source": [
        "# now training & calculating the training time.\n",
        "\n",
        "# starting time\n",
        "start = time.time()\n",
        "\n",
        "history = model_1.fit(X_train, y_train_bin, epochs=10,\n",
        "                    validation_data=(X_valid, y_valid_bin), verbose=2)\n",
        "\n",
        "#ending time\n",
        "end = time.time()\n",
        "\n",
        "# total time taken\n",
        "print(f\"Runtime of the program is {end - start}\")"
      ]
    },
    {
      "attachments": {},
      "cell_type": "markdown",
      "metadata": {
        "id": "k4sQ0wqFL-t5"
      },
      "source": [
        "## Conclusion:  \n",
        "Runtime of the program is 41.24 sec & val_accuracy: 0.9506"
      ]
    },
    {
      "attachments": {},
      "cell_type": "markdown",
      "metadata": {
        "id": "rWXlrZ5DMO11"
      },
      "source": [
        "# Now Let's create the same model which can predict a given number is odd or even with having Transfer learning technique."
      ]
    },
    {
      "cell_type": "code",
      "execution_count": null,
      "metadata": {
        "id": "m7SzdvRhLr31"
      },
      "outputs": [],
      "source": [
        "# Loading pre-trained model\n",
        "pretrained_mnist_model = tf.keras.models.load_model(\"pretrained_mnist_model.h5\")"
      ]
    },
    {
      "cell_type": "code",
      "execution_count": null,
      "metadata": {
        "colab": {
          "base_uri": "https://localhost:8080/"
        },
        "id": "WOil-wj8MjoK",
        "outputId": "f040fb36-3bf5-4ddd-9e54-df877d519476"
      },
      "outputs": [
        {
          "name": "stdout",
          "output_type": "stream",
          "text": [
            "Model: \"sequential_3\"\n",
            "_________________________________________________________________\n",
            "Layer (type)                 Output Shape              Param #   \n",
            "=================================================================\n",
            "flatten_2 (Flatten)          (None, 784)               0         \n",
            "_________________________________________________________________\n",
            "dense_7 (Dense)              (None, 300)               235500    \n",
            "_________________________________________________________________\n",
            "leaky_re_lu_4 (LeakyReLU)    (None, 300)               0         \n",
            "_________________________________________________________________\n",
            "dense_8 (Dense)              (None, 100)               30100     \n",
            "_________________________________________________________________\n",
            "leaky_re_lu_5 (LeakyReLU)    (None, 100)               0         \n",
            "_________________________________________________________________\n",
            "dense_9 (Dense)              (None, 10)                1010      \n",
            "=================================================================\n",
            "Total params: 266,610\n",
            "Trainable params: 266,610\n",
            "Non-trainable params: 0\n",
            "_________________________________________________________________\n"
          ]
        }
      ],
      "source": [
        "pretrained_mnist_model.summary()"
      ]
    },
    {
      "cell_type": "code",
      "execution_count": null,
      "metadata": {
        "colab": {
          "base_uri": "https://localhost:8080/"
        },
        "id": "gji2FRPFMm2q",
        "outputId": "72dc6744-ec56-43ff-db31-f203c51e532f"
      },
      "outputs": [
        {
          "name": "stdout",
          "output_type": "stream",
          "text": [
            "flatten_2: True\n",
            "dense_7: True\n",
            "leaky_re_lu_4: True\n",
            "dense_8: True\n",
            "leaky_re_lu_5: True\n",
            "dense_9: True\n"
          ]
        }
      ],
      "source": [
        "# Checking layers are trainable or not\n",
        "for layer in pretrained_mnist_model.layers:\n",
        "  print(f\"{layer.name}: {layer.trainable}\")"
      ]
    },
    {
      "cell_type": "code",
      "execution_count": null,
      "metadata": {
        "colab": {
          "base_uri": "https://localhost:8080/"
        },
        "id": "mKcteCVeMpx9",
        "outputId": "e08eb94c-2f08-4cb1-96a2-ae1bbb5bb1d0"
      },
      "outputs": [
        {
          "name": "stdout",
          "output_type": "stream",
          "text": [
            "flatten_2: False\n",
            "dense_7: False\n",
            "leaky_re_lu_4: False\n",
            "dense_8: False\n",
            "leaky_re_lu_5: False\n"
          ]
        }
      ],
      "source": [
        "# Lets make them false or non trainable except last one\n",
        "for layer in pretrained_mnist_model.layers[:-1]:\n",
        "  layer.trainable = False\n",
        "  print(f\"{layer.name}: {layer.trainable}\")\n"
      ]
    },
    {
      "cell_type": "code",
      "execution_count": null,
      "metadata": {
        "colab": {
          "base_uri": "https://localhost:8080/"
        },
        "id": "DNFQCPjQMtcp",
        "outputId": "08a043c3-d10c-4dab-c87f-ba81c91fe2d0"
      },
      "outputs": [
        {
          "name": "stdout",
          "output_type": "stream",
          "text": [
            "flatten_2: False\n",
            "dense_7: False\n",
            "leaky_re_lu_4: False\n",
            "dense_8: False\n",
            "leaky_re_lu_5: False\n",
            "dense_9: True\n"
          ]
        }
      ],
      "source": [
        "for layer in pretrained_mnist_model.layers:\n",
        "  print(f\"{layer.name}: {layer.trainable}\")"
      ]
    },
    {
      "cell_type": "code",
      "execution_count": null,
      "metadata": {
        "id": "_lxFF8DFMwr-"
      },
      "outputs": [],
      "source": [
        "# Now make a model using that one\n",
        "lower_pretrained_layers = pretrained_mnist_model.layers[:-1]\n",
        "\n",
        "new_model = tf.keras.models.Sequential(lower_pretrained_layers)\n",
        "new_model.add(\n",
        "    tf.keras.layers.Dense(2, activation=\"softmax\")\n",
        ")"
      ]
    },
    {
      "cell_type": "code",
      "execution_count": null,
      "metadata": {
        "colab": {
          "base_uri": "https://localhost:8080/"
        },
        "id": "f79cnISJM37J",
        "outputId": "da1a0eee-dc82-44e5-9f92-b1e873cce041"
      },
      "outputs": [
        {
          "name": "stdout",
          "output_type": "stream",
          "text": [
            "Model: \"sequential_5\"\n",
            "_________________________________________________________________\n",
            "Layer (type)                 Output Shape              Param #   \n",
            "=================================================================\n",
            "flatten_2 (Flatten)          (None, 784)               0         \n",
            "_________________________________________________________________\n",
            "dense_7 (Dense)              (None, 300)               235500    \n",
            "_________________________________________________________________\n",
            "leaky_re_lu_4 (LeakyReLU)    (None, 300)               0         \n",
            "_________________________________________________________________\n",
            "dense_8 (Dense)              (None, 100)               30100     \n",
            "_________________________________________________________________\n",
            "leaky_re_lu_5 (LeakyReLU)    (None, 100)               0         \n",
            "_________________________________________________________________\n",
            "dense_13 (Dense)             (None, 2)                 202       \n",
            "=================================================================\n",
            "Total params: 265,802\n",
            "Trainable params: 202\n",
            "Non-trainable params: 265,600\n",
            "_________________________________________________________________\n"
          ]
        }
      ],
      "source": [
        "new_model.summary()"
      ]
    },
    {
      "cell_type": "code",
      "execution_count": null,
      "metadata": {
        "id": "v9E8aIpWM614"
      },
      "outputs": [],
      "source": [
        "# Making the label as an even or odd category from numbers where even is 1 and odd is 0\n",
        "\n",
        "def update_even_odd_labels(labels):\n",
        "  for idx, label in enumerate(labels):\n",
        "    labels[idx] = np.where(label % 2 == 0, 1, 0)\n",
        "  return labels"
      ]
    },
    {
      "cell_type": "code",
      "execution_count": null,
      "metadata": {
        "id": "WudW1HNSNDyG"
      },
      "outputs": [],
      "source": [
        "y_train_bin, y_test_bin, y_valid_bin = update_even_odd_labels([y_train, y_test, y_valid])"
      ]
    },
    {
      "cell_type": "code",
      "execution_count": null,
      "metadata": {
        "colab": {
          "base_uri": "https://localhost:8080/"
        },
        "id": "Dqyq64yyNF23",
        "outputId": "0c8da634-eb79-478b-c2e8-07ca367a2df5"
      },
      "outputs": [
        {
          "name": "stderr",
          "output_type": "stream",
          "text": [
            "/usr/local/lib/python3.7/dist-packages/tensorflow/python/keras/optimizer_v2/optimizer_v2.py:375: UserWarning: The `lr` argument is deprecated, use `learning_rate` instead.\n",
            "  \"The `lr` argument is deprecated, use `learning_rate` instead.\")\n"
          ]
        }
      ],
      "source": [
        "# Compiling new model\n",
        "new_model.compile(loss=\"sparse_categorical_crossentropy\",\n",
        "              optimizer=tf.keras.optimizers.SGD(lr=1e-3),\n",
        "              metrics=[\"accuracy\"])"
      ]
    },
    {
      "cell_type": "code",
      "execution_count": null,
      "metadata": {
        "colab": {
          "base_uri": "https://localhost:8080/"
        },
        "id": "CNK6uBgKNJs3",
        "outputId": "a6f0b545-b719-4589-d81e-5a1c72c01dc4"
      },
      "outputs": [
        {
          "name": "stdout",
          "output_type": "stream",
          "text": [
            "Epoch 1/10\n",
            "1719/1719 - 3s - loss: 0.3898 - accuracy: 0.8288 - val_loss: 0.3247 - val_accuracy: 0.8676\n",
            "Epoch 2/10\n",
            "1719/1719 - 3s - loss: 0.3300 - accuracy: 0.8602 - val_loss: 0.3049 - val_accuracy: 0.8752\n",
            "Epoch 3/10\n",
            "1719/1719 - 3s - loss: 0.3163 - accuracy: 0.8660 - val_loss: 0.2948 - val_accuracy: 0.8796\n",
            "Epoch 4/10\n",
            "1719/1719 - 3s - loss: 0.3083 - accuracy: 0.8701 - val_loss: 0.2884 - val_accuracy: 0.8832\n",
            "Epoch 5/10\n",
            "1719/1719 - 2s - loss: 0.3023 - accuracy: 0.8725 - val_loss: 0.2834 - val_accuracy: 0.8846\n",
            "Epoch 6/10\n",
            "1719/1719 - 2s - loss: 0.2978 - accuracy: 0.8752 - val_loss: 0.2792 - val_accuracy: 0.8874\n",
            "Epoch 7/10\n",
            "1719/1719 - 3s - loss: 0.2939 - accuracy: 0.8772 - val_loss: 0.2758 - val_accuracy: 0.8872\n",
            "Epoch 8/10\n",
            "1719/1719 - 3s - loss: 0.2907 - accuracy: 0.8788 - val_loss: 0.2728 - val_accuracy: 0.8890\n",
            "Epoch 9/10\n",
            "1719/1719 - 3s - loss: 0.2876 - accuracy: 0.8797 - val_loss: 0.2708 - val_accuracy: 0.8906\n",
            "Epoch 10/10\n",
            "1719/1719 - 3s - loss: 0.2851 - accuracy: 0.8817 - val_loss: 0.2678 - val_accuracy: 0.8930\n",
            "Runtime of the program is 41.2496874332428\n"
          ]
        }
      ],
      "source": [
        "# now train and calculating the time \n",
        "\n",
        "# starting time\n",
        "start = time.time()\n",
        "\n",
        "history = new_model.fit(X_train, y_train_bin, epochs=10,\n",
        "                    validation_data=(X_valid, y_valid_bin), verbose=2)\n",
        "\n",
        "#ending time\n",
        "end = time.time()\n",
        "print(f\"Runtime of the program is {end - start}\")"
      ]
    },
    {
      "attachments": {},
      "cell_type": "markdown",
      "metadata": {
        "id": "cdfAWt39PLD6"
      },
      "source": [
        "# Conclusion:\n",
        "Runtime of the program is 41.24 sec & val_accuracy: 0.8930"
      ]
    },
    {
      "attachments": {},
      "cell_type": "markdown",
      "metadata": {
        "id": "76kiGFCePYEP"
      },
      "source": [
        "# Comparison:\n",
        "\n",
        "## Without Transfer learning:\n",
        "  - Runtime of the program is 41.24 sec\n",
        "  - val_accuracy: 0.9506\n",
        "\n",
        "## With Transfer Learning:\n",
        " - Runtime of the program is 41.24 sec\n",
        " - val_accuracy: 0.8930\n",
        "\n",
        "\n",
        " Here we can we have transfer learning output is pretty close to actual accuracy, although we are just training 202 parameters. So, if we increase the epochs then the accuracy would be high. Now it is taking same time but in big problem it may take less time with compare to Without Transfer learning."
      ]
    }
  ],
  "metadata": {
    "accelerator": "GPU",
    "colab": {
      "provenance": []
    },
    "kernelspec": {
      "display_name": "Python 3",
      "name": "python3"
    },
    "language_info": {
      "name": "python"
    }
  },
  "nbformat": 4,
  "nbformat_minor": 0
}
