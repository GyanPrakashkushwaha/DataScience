{
 "cells": [
  {
   "attachments": {},
   "cell_type": "markdown",
   "metadata": {},
   "source": [
    "> Question -2\n",
    "#### Given a string s, find the first non-repeating character in it and return its index. If it does not exist, return -1.\n",
    "\n",
    "Example 1:\n",
    "Input: s = \"leetcode\"\n",
    "Output: 0\n",
    "\n",
    "Example 2:\n",
    "Input: s = \"loveleetcode\"\n",
    "Output: 2\n",
    "\n",
    "Example 3:\n",
    "Input: s = \"aabb\"\n",
    "Output: -1"
   ]
  },
  {
   "cell_type": "code",
   "execution_count": 44,
   "metadata": {},
   "outputs": [],
   "source": [
    "def first_nonRep_char(s):\n",
    "    char_count = {}\n",
    "\n",
    "    for i in s:\n",
    "        char_count[i] = char_count.get(i , 0) + 1\n",
    "\n",
    "    for i , char in enumerate(s):\n",
    "        if char_count[char] == 1:\n",
    "            return i\n",
    "    return -1\n",
    "        \n"
   ]
  },
  {
   "cell_type": "code",
   "execution_count": 45,
   "metadata": {},
   "outputs": [
    {
     "name": "stdout",
     "output_type": "stream",
     "text": [
      "Output1: 0\n"
     ]
    }
   ],
   "source": [
    "s = \"leetcode\"\n",
    "print(f'Output1: {first_nonRep_char(s)}')"
   ]
  },
  {
   "cell_type": "code",
   "execution_count": 46,
   "metadata": {},
   "outputs": [
    {
     "name": "stdout",
     "output_type": "stream",
     "text": [
      "Output2: 2\n"
     ]
    }
   ],
   "source": [
    "s = \"loveleetcode\"\n",
    "print(f'Output2: {first_nonRep_char(s)}')"
   ]
  },
  {
   "cell_type": "code",
   "execution_count": 47,
   "metadata": {},
   "outputs": [
    {
     "name": "stdout",
     "output_type": "stream",
     "text": [
      "Output3: -1\n"
     ]
    }
   ],
   "source": [
    "s = \"aabb\"\n",
    "print(f'Output3: {first_nonRep_char(s)}')"
   ]
  }
 ],
 "metadata": {
  "kernelspec": {
   "display_name": "Python 3",
   "language": "python",
   "name": "python3"
  },
  "language_info": {
   "codemirror_mode": {
    "name": "ipython",
    "version": 3
   },
   "file_extension": ".py",
   "mimetype": "text/x-python",
   "name": "python",
   "nbconvert_exporter": "python",
   "pygments_lexer": "ipython3",
   "version": "3.11.3"
  },
  "orig_nbformat": 4
 },
 "nbformat": 4,
 "nbformat_minor": 2
}
